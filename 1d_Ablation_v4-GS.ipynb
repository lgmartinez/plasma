{
 "cells": [
  {
   "cell_type": "code",
   "execution_count": 1,
   "metadata": {
    "collapsed": false
   },
   "outputs": [
    {
     "data": {
      "text/html": [
       "<link href='http://fonts.googleapis.com/css?family=Alegreya+Sans:100,300,400,500,700,800,900,100italic,300italic,400italic,500italic,700italic,800italic,900italic' rel='stylesheet' type='text/css'>\n",
       "<link href='http://fonts.googleapis.com/css?family=Arvo:400,700,400italic' rel='stylesheet' type='text/css'>\n",
       "<link href='http://fonts.googleapis.com/css?family=PT+Mono' rel='stylesheet' type='text/css'>\n",
       "<link href='http://fonts.googleapis.com/css?family=Shadows+Into+Light' rel='stylesheet' type='text/css'>\n",
       "<link href='http://fonts.googleapis.com/css?family=Nixie+One' rel='stylesheet' type='text/css'>\n",
       "<style>\n",
       "\n",
       "@font-face {\n",
       "    font-family: \"Computer Modern\";\n",
       "    src: url('http://mirrors.ctan.org/fonts/cm-unicode/fonts/otf/cmunss.otf');\n",
       "}\n",
       "\n",
       "#notebook_panel { /* main background */\n",
       "    background: rgb(245,245,245);\n",
       "}\n",
       "\n",
       "div.cell { /* set cell width */\n",
       "    width: 750px;\n",
       "}\n",
       "\n",
       "div #notebook { /* centre the content */\n",
       "    background: #fff; /* white background for content */\n",
       "    width: 1000px;\n",
       "    margin: auto;\n",
       "    padding-left: 0em;\n",
       "}\n",
       "\n",
       "#notebook li { /* More space between bullet points */\n",
       "    margin-top:0.8em;\n",
       "}\n",
       "\n",
       "/* draw border around running cells */\n",
       "div.cell.border-box-sizing.code_cell.running { \n",
       "    border: 1px solid #111;\n",
       "}\n",
       "\n",
       "/* Put a solid color box around each cell and its output, visually linking them*/\n",
       "div.cell.code_cell {\n",
       "    background-color: rgb(256,256,256); \n",
       "    border-radius: 0px; \n",
       "    padding: 0.5em;\n",
       "    margin-left:1em;\n",
       "    margin-top: 1em;\n",
       "}\n",
       "\n",
       "div.text_cell_render{\n",
       "    font-family: 'Alegreya Sans' sans-serif;\n",
       "    line-height: 140%;\n",
       "    font-size: 125%;\n",
       "    font-weight: 400;\n",
       "    width:600px;\n",
       "    margin-left:auto;\n",
       "    margin-right:auto;\n",
       "}\n",
       "\n",
       "\n",
       "/* Formatting for header cells */\n",
       ".text_cell_render h1 {\n",
       "    font-family: 'Nixie One', serif;\n",
       "    font-style:regular;\n",
       "    font-weight: 400;    \n",
       "    font-size: 45pt;\n",
       "    line-height: 100%;\n",
       "    color: rgb(0,51,102);\n",
       "    margin-bottom: 0.5em;\n",
       "    margin-top: 0.5em;\n",
       "    display: block;\n",
       "}\n",
       "\n",
       ".text_cell_render h2 {\n",
       "    font-family: 'Nixie One', serif;\n",
       "    font-weight: 400;\n",
       "    font-size: 30pt;\n",
       "    line-height: 100%;\n",
       "    color: rgb(0,51,102);\n",
       "    margin-bottom: 0.1em;\n",
       "    margin-top: 0.3em;\n",
       "    display: block;\n",
       "}\t\n",
       "\n",
       ".text_cell_render h3 {\n",
       "    font-family: 'Nixie One', serif;\n",
       "    margin-top:16px;\n",
       "    font-size: 22pt;\n",
       "    font-weight: 600;\n",
       "    margin-bottom: 3px;\n",
       "    font-style: regular;\n",
       "    color: rgb(102,102,0);\n",
       "}\n",
       "\n",
       ".text_cell_render h4 {    /*Use this for captions*/\n",
       "    font-family: 'Nixie One', serif;\n",
       "    font-size: 14pt;\n",
       "    text-align: center;\n",
       "    margin-top: 0em;\n",
       "    margin-bottom: 2em;\n",
       "    font-style: regular;\n",
       "}\n",
       "\n",
       ".text_cell_render h5 {  /*Use this for small titles*/\n",
       "    font-family: 'Nixie One', sans-serif;\n",
       "    font-weight: 400;\n",
       "    font-size: 16pt;\n",
       "    color: rgb(163,0,0);\n",
       "    font-style: italic;\n",
       "    margin-bottom: .1em;\n",
       "    margin-top: 0.8em;\n",
       "    display: block;\n",
       "}\n",
       "\n",
       ".text_cell_render h6 { /*use this for copyright note*/\n",
       "    font-family: 'PT Mono', sans-serif;\n",
       "    font-weight: 300;\n",
       "    font-size: 9pt;\n",
       "    line-height: 100%;\n",
       "    color: grey;\n",
       "    margin-bottom: 1px;\n",
       "    margin-top: 1px;\n",
       "}\n",
       "\n",
       ".CodeMirror{\n",
       "    font-family: \"PT Mono\";\n",
       "    font-size: 90%;\n",
       "}\n",
       "\n",
       "</style>\n",
       "<script>\n",
       "    MathJax.Hub.Config({\n",
       "                        TeX: {\n",
       "                           extensions: [\"AMSmath.js\"],\n",
       "                           equationNumbers: { autoNumber: \"AMS\", useLabelIds: true}\n",
       "                           },\n",
       "                tex2jax: {\n",
       "                    inlineMath: [ ['$','$'], [\"\\\\(\",\"\\\\)\"] ],\n",
       "                    displayMath: [ ['$$','$$'], [\"\\\\[\",\"\\\\]\"] ]\n",
       "                },\n",
       "                displayAlign: 'center', // Change this to 'center' to center equations.\n",
       "                \"HTML-CSS\": {\n",
       "                    styles: {'.MathJax_Display': {\"margin\": 4}}\n",
       "                }\n",
       "        });\n",
       "</script>\n"
      ],
      "text/plain": [
       "<IPython.core.display.HTML object>"
      ]
     },
     "execution_count": 1,
     "metadata": {},
     "output_type": "execute_result"
    }
   ],
   "source": [
    "from IPython.core.display import HTML\n",
    "css_file = './numericalmoocstyle.css'\n",
    "HTML(open(css_file, \"r\").read())"
   ]
  },
  {
   "cell_type": "code",
   "execution_count": 2,
   "metadata": {
    "collapsed": false
   },
   "outputs": [
    {
     "name": "stderr",
     "output_type": "stream",
     "text": [
      "WARNING:py.warnings:/Users/Luis/anaconda/lib/python3.4/site-packages/skimage/filter/__init__.py:6: skimage_deprecation: The `skimage.filter` module has been renamed to `skimage.filters`.  This placeholder module will be removed in v0.13.\n",
      "  warn(skimage_deprecation('The `skimage.filter` module has been renamed '\n",
      "\n"
     ]
    }
   ],
   "source": [
    "import numpy\n",
    "#\n",
    "import math\n",
    "#\n",
    "import scipy\n",
    "from scipy import constants\n",
    "#\n",
    "import matplotlib.pyplot \n",
    "#\n",
    "from mpl_toolkits.mplot3d import Axes3D\n",
    "from matplotlib import pyplot, cm\n",
    "%matplotlib inline\n",
    "#\n",
    "from matplotlib import rcParams\n",
    "rcParams['font.family'] = 'serif'\n",
    "rcParams['font.size'] = 16\n",
    "#\n",
    "# from matplotlib import animation\n",
    "# from JSAnimation import IPython_display\n",
    "from JSAnimation.IPython_display import display_animation\n",
    "#\n",
    "from moviepy.editor import *\n",
    "# \n",
    "import timeit\n",
    "import numba\n",
    "from numba import jit"
   ]
  },
  {
   "cell_type": "code",
   "execution_count": 3,
   "metadata": {
    "collapsed": true
   },
   "outputs": [],
   "source": [
    "def plot(v1, v2, xlabl, ylabl, title):\n",
    "    ''' a function for plots\n",
    "    \n",
    "    Parameters\n",
    "    ----------\n",
    "    v1: x-axis vector\n",
    "    v2: y-axis vector\n",
    "    xlabl: label for x-axis values\n",
    "    ylabl: label for y-axis values\n",
    "    title: plot title\n",
    "    \n",
    "    Return:\n",
    "    -------\n",
    "    Plot!\n",
    "    '''\n",
    "    #\n",
    "    pyplot.figure(figsize=(8,8))\n",
    "    pyplot.grid(True)\n",
    "    #\n",
    "    pyplot.xlabel(xlabl, fontsize=18)\n",
    "    pyplot.ylabel(ylabl, fontsize=18)\n",
    "    #\n",
    "    #pyplot.tick_params(axis='x', pad=10, labelbottom='off')\n",
    "    pyplot.tick_params(axis='x', pad=10)\n",
    "    pyplot.tick_params(axis='y', pad=10)\n",
    "    #\n",
    "    pyplot.xticks(numpy.arange(0, Lgap+0.001, 0.001))\n",
    "    #\n",
    "    pyplot.title(title)\n",
    "    pyplot.plot(v1,v2, color='k', ls='--', lw=2, marker='o');"
   ]
  },
  {
   "cell_type": "markdown",
   "metadata": {},
   "source": [
    "### Domain"
   ]
  },
  {
   "cell_type": "code",
   "execution_count": 4,
   "metadata": {
    "collapsed": true
   },
   "outputs": [],
   "source": [
    "def get_domain(Ld, n_gap):\n",
    "    ''' This function obtains the domain based on a \n",
    "    staggered grid. The domain is divided into three parts:\n",
    "    (1) anode region, (2) gap, (3) cathode.\n",
    "    \n",
    "    However the electrodes region is not modeled here and only the gap is considered\n",
    "    with inlet boundary condition at the anode and an outlet boundary condition at the\n",
    "    cathode\n",
    "    \n",
    "    Parameters:\n",
    "    ----------\n",
    "    Ld: Domain Length\n",
    "    n_gap: number of boundary nodes in gap\n",
    "    \n",
    "    Returns:\n",
    "    --------\n",
    "    gap domain from x = 0 to x = length (this is the length of the interelectrode gap)\n",
    "    '''\n",
    "    #staggered grid approach\n",
    "    #gap region\n",
    "    xl_gap = 0.0\n",
    "    xr_gap = Ld\n",
    "    delx_gap = (xr_gap-xl_gap)/(n_gap-1.0)\n",
    "    xb_gap = numpy.linspace(xl_gap, xr_gap, n_gap)\n",
    "    xc_gap = xb_gap[:-1]+(delx_gap*0.5)\n",
    "    #\n",
    "    #\n",
    "    return delx_gap, xb_gap, xc_gap\n",
    "    "
   ]
  },
  {
   "cell_type": "code",
   "execution_count": 5,
   "metadata": {
    "collapsed": false
   },
   "outputs": [],
   "source": [
    "# Domain, Dimensions\n",
    "L_chamber = 0.24  #meters\n",
    "Lgap = 0.004 #interelectrode gap [meters]\n",
    "L_cathode = 0.112\n",
    "L_anode = L_chamber - (Lgap + L_cathode)\n",
    "#\n",
    "# nx_anode = 101\n",
    "# nx_cathode = 111\n",
    "nx_gap = 121\n",
    "#\n",
    "Rc = (12.5/2.) * 1./1000. # cathode radius [meters]\n",
    "Ran = 6.35/2. * 1./1000.  #anode radius [meters]\n",
    "\n",
    "#get cell boundary and cell center locations\n",
    "dx, xb, xc = get_domain(Lgap,nx_gap)\n",
    "#\n",
    "l2_target = 1e-7\n",
    "#\n",
    "#time step\n",
    "dt = 1e-6 #0.000015 # {sec} time step"
   ]
  },
  {
   "cell_type": "code",
   "execution_count": 6,
   "metadata": {
    "collapsed": false
   },
   "outputs": [
    {
     "data": {
      "text/plain": [
       "(121,)"
      ]
     },
     "execution_count": 6,
     "metadata": {},
     "output_type": "execute_result"
    }
   ],
   "source": [
    "numpy.shape(xb)"
   ]
  },
  {
   "cell_type": "code",
   "execution_count": 7,
   "metadata": {
    "collapsed": false
   },
   "outputs": [
    {
     "data": {
      "text/plain": [
       "(120,)"
      ]
     },
     "execution_count": 7,
     "metadata": {},
     "output_type": "execute_result"
    }
   ],
   "source": [
    "numpy.shape(xc)"
   ]
  },
  {
   "cell_type": "code",
   "execution_count": 8,
   "metadata": {
    "collapsed": false
   },
   "outputs": [
    {
     "data": {
      "image/png": "[encoded data removed]",
      "text/plain": [
       "<matplotlib.figure.Figure at 0x1150caa58>"
      ]
     },
     "metadata": {},
     "output_type": "display_data"
    }
   ],
   "source": [
    "Xc_gap = numpy.meshgrid(xc)\n",
    "Xb_gap = numpy.meshgrid(xb)\n",
    "#\n",
    "pyplot.title('One Dimensional Domain for Interelectrode Gap')\n",
    "pyplot.ylim(-.0002,0.0002)\n",
    "pyplot.xlim(0., Lgap)\n",
    "pyplot.scatter(Xb_gap,numpy.zeros_like(Xb_gap),\\\n",
    "                   s=10, color='b', marker='o', linewidth=0)\n",
    "pyplot.scatter(Xc_gap,numpy.zeros_like(Xc_gap), \\\n",
    "                   s=10, color='r', marker='o', linewidth=0)\n",
    "pyplot.xticks(numpy.arange(0, Lgap+0.001, 0.001))\n",
    "pyplot.yticks(numpy.arange(0, 0.0002, 0.001));"
   ]
  },
  {
   "cell_type": "markdown",
   "metadata": {},
   "source": [
    "Note that velocities are calculated on the cell boundaries (blue), and the pressure, density,electrical conductivity, potential, current density and temperature are calculated on the cell center (red)"
   ]
  },
  {
   "cell_type": "markdown",
   "metadata": {},
   "source": [
    "### Initialization"
   ]
  },
  {
   "cell_type": "code",
   "execution_count": 9,
   "metadata": {
    "collapsed": true
   },
   "outputs": [],
   "source": [
    "def L2_error(p_new, p_old):\n",
    "    '''This function computes the L2 norm of the error for convergence\n",
    "    \n",
    "    This function is used for convergence of the pressure equation\n",
    "\n",
    "    Parameters:\n",
    "    ----------\n",
    "    p_new: new computed potential in flow field\n",
    "    p_old: previous flow field potential\n",
    "    \n",
    "    Returns:\n",
    "    ----------\n",
    "    L2 norm of the error\n",
    "    \n",
    "    '''\n",
    "    return numpy.sqrt(numpy.sum((p_new[:] - p_old[:])**2)\\\n",
    "                      /numpy.sum(p_old[:]**2))"
   ]
  },
  {
   "cell_type": "code",
   "execution_count": 10,
   "metadata": {
    "collapsed": false
   },
   "outputs": [],
   "source": [
    "#Input Current\n",
    "I_arc = 10.0\n",
    "\n",
    "#Initialization Variables\n",
    "gamma1 = 5.0/3.0\n",
    "gravity = 9.81\n",
    "\n",
    "# collision radius Carbon-Helium:\n",
    "cr_C_He = (1.7 + 1.4)\n",
    "\n",
    "#Constants\n",
    "Ckb = scipy.constants.k  #Boltzmann Constant J/K\n",
    "Cme = scipy.constants.m_e #Elementary Electron Mass kg\n",
    "Ch = scipy.constants.h; # Planck's constant Js\n",
    "CA = 1.2e6 #Richardson constant in electron current density eqn [A/(m^2 K^2)], pg.62\n",
    "CNA = scipy.constants.N_A #avogadros number\n",
    "Ce = scipy.constants.e #elementary charge, C\n",
    "\n",
    "#Carbon\n",
    "M_C = 12.0e-3/CNA #kg, mass of 1 atom of pure carbon (also = Ckb/M_C)\n",
    "mC = 12.0107 # molar mass g/mol\n",
    "Ips1 = 1086.5e3/CNA #J, energy of first ionization\n",
    "anode_workfunction = 4.81 #eV\n",
    "emissivity=0.70 #carbon, graphite\n",
    "E_C = 11.2603*constants.e #ionization energy for carbon in Joules\n",
    "R_C = 8314.0/mC #specific gas constant\n",
    "cp_C = 2100.\n",
    "\n",
    "#heat of vaporization anode:\n",
    "dH_C = 710.0e6/mC #(710./(0.012))*1000. #\n",
    "dH2_C = 355.8e6/mC #(355.8/(0.012))*1000. #convert kJ/Kmol to J/kg #\n",
    "\n",
    "#Helium\n",
    "M_He = 4.0e-3/CNA # kg, mass of 1 atom of Helium\n",
    "mHe = 4.002602 #molar mass, g/mol\n",
    "Ipg1 = 2372.3e3/CNA; # J, energy of first ionization\n",
    "R_He = 8314.0/mHe #specific gas constant\n",
    "#       "
   ]
  },
  {
   "cell_type": "markdown",
   "metadata": {},
   "source": [
    "##### Initial Conditions"
   ]
  },
  {
   "cell_type": "code",
   "execution_count": 11,
   "metadata": {
    "collapsed": false
   },
   "outputs": [],
   "source": [
    "def get_initial_conditions(x1,x2,I_input,R_anode):\n",
    "    '''\n",
    "    - Defines initial arrays\n",
    "    - Adds two ghost cells to represent nodes on anode and cathode,\n",
    "        for boundary conditions\n",
    "    \n",
    "    Parameters:\n",
    "    -----------\n",
    "    x1: boundary x locations\n",
    "    x2: center cell x locations\n",
    "    I_input: arc current input\n",
    "    R_anode: anode radius\n",
    "    \n",
    "    Returns:\n",
    "    -------\n",
    "    Arrays!\n",
    "    Tx: temperature \n",
    "    jx: current density\n",
    "    phix: electric potential\n",
    "    cpx: specific heat\n",
    "    visc: viscosity (mu)\n",
    "    ux: velocity\n",
    "    kx: thermal conductivity\n",
    "    rhox: density\n",
    "    Px: pressure\n",
    "    hx: enthalpy\n",
    "    econdx: electrical conductivity\n",
    "    nex: number density of electrons\n",
    "    \n",
    "    Consistent with the staggered grid approach, the velocity is calculated on the\n",
    "    cell boundaries and all of the other values are computed on the cell centers.\n",
    "    '''\n",
    "    Tref = 300.0 # initial reference temperature\n",
    "    #\n",
    "    a = numpy.size(x1) + 2 #this is to add ghost cells, these are boundary cells\n",
    "    b = numpy.size(x2) + 2 #this is to add ghost cells, these are center cells\n",
    "    #-------------------------------------------------------------------------\n",
    "    #initialize arrays\n",
    "    #grid 1 (cell edges)\n",
    "    ux = numpy.zeros((a),dtype=float) #velocity\n",
    "    #grid 2 cell centers-----------------------\n",
    "    jx = numpy.zeros((b), dtype=float) #current density\n",
    "    phix = numpy.zeros((b),dtype=float) #electric potential\n",
    "    econdx = numpy.zeros((b),dtype=float) #electrical conductivity\n",
    "    rhox = numpy.zeros((b),dtype=float) #density\n",
    "    nex = numpy.zeros((b), dtype=float) #number density of electrons\n",
    "    #\n",
    "    cpx = numpy.zeros((b),dtype=float) #specific heat\n",
    "    Tx = numpy.zeros((b),dtype=float) #temperature\n",
    "    visc = numpy.zeros((b),dtype=float) #viscosity\n",
    "    kx = numpy.zeros((b),dtype=float) #thermal conductivity\n",
    "    Px = numpy.zeros((b),dtype=float) # pressure\n",
    "    hx = numpy.zeros((b),dtype=float) #enthalpy\n",
    "    Rs = numpy.zeros((b),dtype=float) # specific gas constant\n",
    "    #-------------------------------------------------------------------------\n",
    "    jx[:] = I_input/(numpy.pi*(R_anode**2)) #current density \n",
    "    # electric potential\n",
    "    phix[:] = 0.0\n",
    "    # specific heat\n",
    "    cpx[1:] = 5195. #J/(kg-K) of helium\n",
    "    cpx[0] = 5195.#cp_C #J/(kg-K) of carbon\n",
    "    # temperature\n",
    "    Tx[:] = Tref #kelvin # assume uniform temperature\n",
    "    # viscosity\n",
    "    visc[0] = 10. #Pa·s = kg/(s·m)\n",
    "    visc[1:] = 19.0e-6\n",
    "    # velocity, assume still\n",
    "    ux[:] = 0. # m/s\n",
    "    # thermal conductivity\n",
    "    kx[1:] = 0.15 # W/(m-K)\n",
    "    kx[0] = 110.\n",
    "    # electrical conductivity\n",
    "    econdx[:] = I_input # Siemens/meter\n",
    "    # number density of electrons\n",
    "    nex[:] = 1e6 # 1/m3, number density of electrons\n",
    "    # density\n",
    "    rhox[0] = 0.164#2266 #graphite kg/m3\n",
    "    rhox[1:] = 0.164 #helium\n",
    "    #\n",
    "    Rs[:] = 8314.0/mHe\n",
    "    Px[:] = (rhox[:])*Rs[:]*Tx[:] + (nex[:])*Ckb*Tx[:]\n",
    "    #\n",
    "    return Tx, jx, phix, cpx,visc, ux, kx, rhox, Px, hx, econdx, nex"
   ]
  },
  {
   "cell_type": "code",
   "execution_count": 12,
   "metadata": {
    "collapsed": false
   },
   "outputs": [],
   "source": [
    "T0,j0,phi0,cp0,mu0,u0,\\\n",
    "k0,rho0,p0,h0,econd0,ne0 = get_initial_conditions(xb,xc,I_arc,Ran)"
   ]
  },
  {
   "cell_type": "code",
   "execution_count": 13,
   "metadata": {
    "collapsed": false
   },
   "outputs": [
    {
     "data": {
      "text/plain": [
       "array([ 5195.,  5195.,  5195.,  5195.,  5195.,  5195.,  5195.,  5195.,\n",
       "        5195.,  5195.])"
      ]
     },
     "execution_count": 13,
     "metadata": {},
     "output_type": "execute_result"
    }
   ],
   "source": [
    "cp0[:10]"
   ]
  },
  {
   "cell_type": "code",
   "execution_count": 14,
   "metadata": {
    "collapsed": false
   },
   "outputs": [
    {
     "data": {
      "text/plain": [
       "array([ 10.,  10.,  10.,  10.,  10.,  10.,  10.,  10.,  10.,  10.])"
      ]
     },
     "execution_count": 14,
     "metadata": {},
     "output_type": "execute_result"
    }
   ],
   "source": [
    "econd0[:10] \n",
    "# this is how the electrical conductivity is initialized (same as arc current)"
   ]
  },
  {
   "cell_type": "code",
   "execution_count": 15,
   "metadata": {
    "collapsed": false
   },
   "outputs": [
    {
     "data": {
      "text/plain": [
       "array([ 315764.0386224,  315764.0386224,  315764.0386224,  315764.0386224,\n",
       "        315764.0386224,  315764.0386224,  315764.0386224,  315764.0386224,\n",
       "        315764.0386224,  315764.0386224])"
      ]
     },
     "execution_count": 15,
     "metadata": {},
     "output_type": "execute_result"
    }
   ],
   "source": [
    "j0[:10] \n",
    "#this is the initial condition for current density (corresponfs to 60 amps everywhere)"
   ]
  },
  {
   "cell_type": "code",
   "execution_count": 16,
   "metadata": {
    "collapsed": false
   },
   "outputs": [
    {
     "data": {
      "text/plain": [
       "array([ 0.,  0.,  0.,  0.,  0.,  0.,  0.,  0.,  0.,  0.])"
      ]
     },
     "execution_count": 16,
     "metadata": {},
     "output_type": "execute_result"
    }
   ],
   "source": [
    "h0[:10]"
   ]
  },
  {
   "cell_type": "code",
   "execution_count": 17,
   "metadata": {
    "collapsed": false
   },
   "outputs": [
    {
     "data": {
      "text/plain": [
       "array([ 0.164,  0.164,  0.164,  0.164,  0.164,  0.164,  0.164,  0.164,\n",
       "        0.164,  0.164])"
      ]
     },
     "execution_count": 17,
     "metadata": {},
     "output_type": "execute_result"
    }
   ],
   "source": [
    "rho0[:10]"
   ]
  },
  {
   "cell_type": "code",
   "execution_count": 18,
   "metadata": {
    "collapsed": false,
    "scrolled": true
   },
   "outputs": [
    {
     "data": {
      "text/plain": [
       "array([ 300.,  300.,  300.,  300.,  300.,  300.,  300.,  300.,  300.,  300.])"
      ]
     },
     "execution_count": 18,
     "metadata": {},
     "output_type": "execute_result"
    }
   ],
   "source": [
    "T0[:10]"
   ]
  },
  {
   "cell_type": "code",
   "execution_count": 19,
   "metadata": {
    "collapsed": false
   },
   "outputs": [
    {
     "data": {
      "text/plain": [
       "array([ 102195.72168305,  102195.72168305,  102195.72168305,\n",
       "        102195.72168305,  102195.72168305,  102195.72168305,\n",
       "        102195.72168305,  102195.72168305,  102195.72168305,\n",
       "        102195.72168305])"
      ]
     },
     "execution_count": 19,
     "metadata": {},
     "output_type": "execute_result"
    }
   ],
   "source": [
    "p0[:10]"
   ]
  },
  {
   "cell_type": "markdown",
   "metadata": {},
   "source": [
    "## these values correspond to time n = 0"
   ]
  },
  {
   "cell_type": "markdown",
   "metadata": {},
   "source": [
    "##### reference values"
   ]
  },
  {
   "cell_type": "code",
   "execution_count": 20,
   "metadata": {
    "collapsed": true
   },
   "outputs": [],
   "source": [
    "# reference values are stored (n-1) time step,\n",
    "# because they are used in the energy equation \n",
    "pref = p0.copy()\n",
    "Tref = T0.copy()\n",
    "\n",
    "numx = numpy.size(p0) #number of center nodes with ghost cells"
   ]
  },
  {
   "cell_type": "markdown",
   "metadata": {},
   "source": [
    "##### potential algorithm"
   ]
  },
  {
   "cell_type": "code",
   "execution_count": 21,
   "metadata": {
    "collapsed": true
   },
   "outputs": [],
   "source": [
    "def potential_algorithm(current_density,electrical_conductivity,electric_potential,\\\n",
    "                        center_nodes, delx):\n",
    "    ''' Defines the electric potential field.\n",
    "    \n",
    "    This function obtains the electric potential based on two solutions to the \n",
    "    ordinary differential equation.\n",
    "    \n",
    "    Solution 1: B^2 - 4AC = 0\n",
    "    Solution 2: B^2 - 4AC > 0\n",
    "    \n",
    "    Parameters\n",
    "    ----------\n",
    "    current_density: current density in the domain, constant current is assumed\n",
    "    electrical_conductivity: \n",
    "    electric_potential: electric potential is solved from d/dx{-econd d/dx(phi)} = 0\n",
    "    center_nodes: cell-center nodes are used to solve electric potential\n",
    "    delx: x-direction spacing\n",
    "    \n",
    "    Returns:\n",
    "    --------\n",
    "    electric potential\n",
    "    '''\n",
    "    jx = current_density.copy()\n",
    "    #\n",
    "    xc_nodes = center_nodes.copy()\n",
    "    x_an = xc_nodes[0] - 0.5*delx\n",
    "    x_cath = xc_nodes[-1] + 0.5*delx\n",
    "    #\n",
    "    array_size = electrical_conductivity.size\n",
    "    eratio = numpy.zeros_like(center_nodes)\n",
    "    #\n",
    "    A = numpy.zeros_like(electrical_conductivity)\n",
    "    B = numpy.zeros_like(electrical_conductivity)\n",
    "    #\n",
    "    C1 = numpy.zeros_like(electrical_conductivity)\n",
    "    C2 = numpy.zeros_like(electrical_conductivity)\n",
    "    #\n",
    "    econdx = electrical_conductivity.copy()\n",
    "    phix = electric_potential.copy()\n",
    "    #\n",
    "    jx_anode = I_arc/(numpy.pi*(Ran**2)) \n",
    "    econdx_anode = 1e5 #electrical conductivity of carbon\n",
    "    anode_potential = jx_anode*delx/econdx_anode\n",
    "    #\n",
    "    cathode_potential =  -1.\n",
    "    #\n",
    "    A[1:-1] =  - econdx[1:-1]\n",
    "    B[1:-1] = - (0.5/delx)*(econdx[2:] - econdx[:-2])\n",
    "    #\n",
    "    for i in range(1,array_size-1):\n",
    "        if (B[i]**2 == 0.0 ):\n",
    "            # general solution constants\n",
    "            C2[i] = (cathode_potential/(numpy.exp((-B[i]/A[i])*x_cath)) -\\\n",
    "                     anode_potential)/(x_cath-x_an)\n",
    "            C1[i] = (anode_potential/(numpy.exp((-B[i]/A[i])*x_an))) -\\\n",
    "                     anode_potential\n",
    "            # potential solution\n",
    "            phix[i] = C1[i]*numpy.exp((-B[i]/A[i])*xc_nodes[i-1]) +\\\n",
    "                      C2[i]*xc_nodes[i-1]*numpy.exp((-B[i]/A[i])*xc_nodes[i-1])\n",
    "        if (B[i]**2 > 0.0):\n",
    "            #print('using {B**2 > 0} solution for potential')\n",
    "            eratio[:] = numpy.exp((-B[i]/A[i])*x_cath)/numpy.exp((-B[i]/A[i])*x_an)\n",
    "            C2[i] = (cathode_potential - anode_potential*eratio[i-1])/(1.-eratio[i-1])\n",
    "            C1[i] = (anode_potential-C2[i])/numpy.exp((-B[i]/A[i])*x_an)\n",
    "            #potential solution\n",
    "            phix[i] = C1[i]*numpy.exp((-B[i]/A[i])*xc_nodes[i-1]) + C2[i]\n",
    "    #\n",
    "    phix[0] = jx_anode*delx/econdx_anode\n",
    "    phix[-1] = cathode_potential\n",
    "    #\n",
    "    return phix"
   ]
  },
  {
   "cell_type": "code",
   "execution_count": 22,
   "metadata": {
    "collapsed": false
   },
   "outputs": [],
   "source": [
    "phi_init=  potential_algorithm(j0.copy(),econd0.copy(), phi0.copy(), xc.copy(), dx)"
   ]
  },
  {
   "cell_type": "code",
   "execution_count": 23,
   "metadata": {
    "collapsed": false
   },
   "outputs": [
    {
     "data": {
      "image/png": "[encoded data removed]",
      "text/plain": [
       "<matplotlib.figure.Figure at 0x1150ca748>"
      ]
     },
     "metadata": {},
     "output_type": "display_data"
    }
   ],
   "source": [
    "plot(xc, phi_init[1:-1], 'gap [m]', 'electric potential [V]', 'Initial Potential')"
   ]
  },
  {
   "cell_type": "markdown",
   "metadata": {},
   "source": [
    "##### Get Temperature after Initializing Arc"
   ]
  },
  {
   "cell_type": "markdown",
   "metadata": {},
   "source": [
    "## all of these values below correspond to time n = 1, until we reach then next energy function"
   ]
  },
  {
   "cell_type": "code",
   "execution_count": 24,
   "metadata": {
    "collapsed": false
   },
   "outputs": [],
   "source": [
    "def get_energy_initial(density, pressure, velocity, current_density, thermal_conductivity,\\\n",
    "               electrical_conductivity, specific_heat, delx, delt, reference_pressure,\\\n",
    "               enthalpy, reference_temperature, electron_density_anode):\n",
    "    ''' Defines initial energy in the gap.\n",
    "    \n",
    "    The energy equation includes joule heating terms, heat flux, pressure flux, and\n",
    "    momentum flux d(puh)/dx\n",
    "    \n",
    "    Note that this actually solves for (rho*h)\n",
    "    h = (rho*h)\\rho\n",
    "    T = (h-href)/cp + T_{ref}\n",
    "    \n",
    "    Parameters:\n",
    "    ----------\n",
    "    enthalpy: this is the reference enthalpy\n",
    "    \n",
    "    Returns:\n",
    "    --------\n",
    "    Temperature at next time step\n",
    "    '''\n",
    "    ne_an = electron_density_anode\n",
    "    T_ref = reference_temperature.copy()\n",
    "    #\n",
    "    Hflux = numpy.zeros_like(enthalpy) #heat flux\n",
    "    Jflux = numpy.zeros_like(enthalpy) #joule heating\n",
    "    Pflux = numpy.zeros_like(enthalpy) # pressure flux\n",
    "    Mflux  = numpy.zeros_like(enthalpy) #momentum flux\n",
    "    #\n",
    "    rhoh = numpy.zeros_like(enthalpy) #density*enthalpy\n",
    "    dTemp = numpy.zeros_like(enthalpy) # delta Temp\n",
    "    h_new = numpy.zeros_like(enthalpy) #enthalpy\n",
    "    T_new = numpy.zeros_like(enthalpy) #temperature\n",
    "    #\n",
    "    ux = velocity.copy()\n",
    "    ux_int = numpy.zeros_like(enthalpy) #interpolated velocities\n",
    "    ux_int[:] = 0.5*(ux[1:]+ux[:-1])\n",
    "    \n",
    "    P_ref = reference_pressure.copy()\n",
    "    Px = pressure.copy()\n",
    "    hx = enthalpy.copy() #this would be the reference enthalpy \n",
    "    rhox = density.copy()\n",
    "    kx = thermal_conductivity.copy()\n",
    "    cpx = specific_heat.copy()\n",
    "    #\n",
    "    dTemp[:] = hx[:]/cpx[:] #enthalpy/specific_heat = delta Temp\n",
    "    econd = electrical_conductivity.copy()\n",
    "    jx = current_density.copy()\n",
    "    # joule heating flux\n",
    "    Jflux[1:-1] = delt*((jx[1:-1]**2)/econd[1:-1])+\\\n",
    "                    delt*((5./2.)*Ckb/Ce)*(jx[1:-1])*\\\n",
    "                    (0.5/delx)*(dTemp[2:] - dTemp[:-2])\n",
    "    # conductive heat flux\n",
    "    Hflux[1:-1] = delt*(kx[1:-1]/(delx**2))*(dTemp[2:] - 2*dTemp[1:-1] + dTemp[:-2]) \n",
    "    # pressure flux\n",
    "    Pflux[1:-1] = (Px[1:-1]-P_ref[1:-1]) +\\\n",
    "                    (0.5*delt/delx)*(Px[2:]-Px[:-2])*ux_int[1:-1]\n",
    "    # convective heat flux, or momentum flux\n",
    "    Mflux[1:-1] = - (0.5*delt/delx)*\\\n",
    "                  (rhox[2:]*ux_int[2:]*hx[2:] -rhox[:-2]*ux_int[:-2]*hx[:-2])\n",
    "    # for time n+1, so rhoh_{n+1}\n",
    "    rhoh[1:-1] = rhox[1:-1]*hx[1:-1] + Mflux[1:-1] + Pflux[1:-1] +\\\n",
    "                                                            Hflux[1:-1] + Jflux[1:-1]\n",
    "    #\n",
    "    h_new[1:-1] = rhoh[1:-1]/(rhox[1:-1])\n",
    "    h_new[0] = h_new[1]\n",
    "    h_new[-1] = h_new[-2]\n",
    "    #\n",
    "    T_new[1:-1] = ((h_new[1:-1]-hx[1:-1])/cpx[1:-1]) + T_ref[1:-1]\n",
    "    #\n",
    "    #boundary conditions    \n",
    "    phi_C_eV = anode_workfunction # anode material work function in eV \n",
    "    Uiz = 11.2603 # ionization energy carbon eV\n",
    "    # anode region\n",
    "    Tev_an = T_new[1]/(11604.52500617)\n",
    "    jth = 0.25*Ce*(ne_an)*(numpy.sqrt((8*Ce*Tev_an)/(numpy.pi*Cme))) #random electron current\n",
    "    # Anode Sheath drop:\n",
    "    Ua_eV = - Tev_an*numpy.log(jth/numpy.abs(jx[0])) #anode potential drop\n",
    "    qa = jx[0]*(2*Tev_an+ phi_C_eV + Ua_eV) # anode heat flux\n",
    "    #cathode region\n",
    "    Tev_cath = T_new[-2]/(11604.52500617) #convert from Kelvin to eV\n",
    "    je = CA*(Tev_cath**2)*numpy.exp(-phi_C_eV /(Ckb*Tev_cath)) #thermo-ionic current density\n",
    "    qc = jx[-1]*(Uiz + phi_C_eV) - je*phi_C_eV #cathode heat flux\n",
    "    #\n",
    "    k_carbon = 10. # thermal conductivity of carbon(W/m K)\n",
    "    k_helium = 0.15 + (10.0-0.15)*(T_new[-2]-Tref[-2])/20000.0 #thermal conductivity He \n",
    "    T_new[0] = T_new[1] + (qa*delx)/k_carbon #anode temperature\n",
    "    T_new[-1] = T_new[-2]  # cathode temperature + (qc*delx)/k_helium\n",
    "   \n",
    "    #\n",
    "    return T_new\n",
    "    "
   ]
  },
  {
   "cell_type": "code",
   "execution_count": 25,
   "metadata": {
    "collapsed": false
   },
   "outputs": [],
   "source": [
    "Tn = get_energy_initial(rho0.copy(), p0.copy(), u0.copy(), j0.copy(), k0.copy(),\\\n",
    "               econd0.copy(), cp0.copy(), dx, dt, pref.copy(),\\\n",
    "              h0.copy(), Tref.copy(), ne0[1])\n"
   ]
  },
  {
   "cell_type": "code",
   "execution_count": 26,
   "metadata": {
    "collapsed": false
   },
   "outputs": [
    {
     "data": {
      "text/plain": [
       "array([ 317.72430127,  311.70296581,  311.70296581,  311.70296581,\n",
       "        311.70296581,  311.70296581,  311.70296581,  311.70296581,\n",
       "        311.70296581,  311.70296581,  311.70296581,  311.70296581,\n",
       "        311.70296581,  311.70296581,  311.70296581,  311.70296581,\n",
       "        311.70296581,  311.70296581,  311.70296581,  311.70296581,\n",
       "        311.70296581,  311.70296581,  311.70296581,  311.70296581,\n",
       "        311.70296581,  311.70296581,  311.70296581,  311.70296581,\n",
       "        311.70296581,  311.70296581,  311.70296581,  311.70296581,\n",
       "        311.70296581,  311.70296581,  311.70296581,  311.70296581,\n",
       "        311.70296581,  311.70296581,  311.70296581,  311.70296581,\n",
       "        311.70296581,  311.70296581,  311.70296581,  311.70296581,\n",
       "        311.70296581,  311.70296581,  311.70296581,  311.70296581,\n",
       "        311.70296581,  311.70296581,  311.70296581,  311.70296581,\n",
       "        311.70296581,  311.70296581,  311.70296581,  311.70296581,\n",
       "        311.70296581,  311.70296581,  311.70296581,  311.70296581,\n",
       "        311.70296581,  311.70296581,  311.70296581,  311.70296581,\n",
       "        311.70296581,  311.70296581,  311.70296581,  311.70296581,\n",
       "        311.70296581,  311.70296581,  311.70296581,  311.70296581,\n",
       "        311.70296581,  311.70296581,  311.70296581,  311.70296581,\n",
       "        311.70296581,  311.70296581,  311.70296581,  311.70296581,\n",
       "        311.70296581,  311.70296581,  311.70296581,  311.70296581,\n",
       "        311.70296581,  311.70296581,  311.70296581,  311.70296581,\n",
       "        311.70296581,  311.70296581,  311.70296581,  311.70296581,\n",
       "        311.70296581,  311.70296581,  311.70296581,  311.70296581,\n",
       "        311.70296581,  311.70296581,  311.70296581,  311.70296581,\n",
       "        311.70296581,  311.70296581,  311.70296581,  311.70296581,\n",
       "        311.70296581,  311.70296581,  311.70296581,  311.70296581,\n",
       "        311.70296581,  311.70296581,  311.70296581,  311.70296581,\n",
       "        311.70296581,  311.70296581,  311.70296581,  311.70296581,\n",
       "        311.70296581,  311.70296581,  311.70296581,  311.70296581,\n",
       "        311.70296581,  311.70296581])"
      ]
     },
     "execution_count": 26,
     "metadata": {},
     "output_type": "execute_result"
    }
   ],
   "source": [
    "Tn # this is the temperature {K} at the next time step t = 0 "
   ]
  },
  {
   "cell_type": "code",
   "execution_count": 27,
   "metadata": {
    "collapsed": false
   },
   "outputs": [],
   "source": [
    "Tref2 = Tn.copy()\n",
    "# href2 = hn.copy()"
   ]
  },
  {
   "cell_type": "markdown",
   "metadata": {},
   "source": [
    "#### This is the temperature distribution used to initialize. Note that this will vary depending on the time step"
   ]
  },
  {
   "cell_type": "markdown",
   "metadata": {},
   "source": [
    "##### Thermophysical Properties"
   ]
  },
  {
   "cell_type": "code",
   "execution_count": 28,
   "metadata": {
    "collapsed": false
   },
   "outputs": [],
   "source": [
    "def get_thermophysical_properties(temperature):\n",
    "    ''' finds viscosity, thermal conductivity\n",
    "    \n",
    "    Parameters:\n",
    "    -----------\n",
    "    mu: viscosity\n",
    "    kth: thermal conductivity\n",
    "    '''\n",
    "    mu = numpy.zeros_like(temperature) #viscosity\n",
    "    kth = numpy.zeros_like(temperature) #thermal conductivity\n",
    "    Tx = temperature.copy() # temperature\n",
    "    a = numpy.size(Tx)\n",
    "    #\n",
    "    kth[:] = 0.15 + (10.0-0.15)*(Tx[:]-300.0)/20000.0\n",
    "    #\n",
    "    for i in range(a):\n",
    "        #\n",
    "        if (Tx[i]<1873.0):\n",
    "            mu[i] = -1.4083e-11*Tx[i]*Tx[i] + 5.2322e-8*Tx[i] + 5.4399e-6\n",
    "        else:\n",
    "            mu[i] = 5.4e-5\n",
    "        #\n",
    "        if(kth[i]>10.0):\n",
    "            kth[i] = 10.0\n",
    "        #\n",
    "    return kth, mu"
   ]
  },
  {
   "cell_type": "code",
   "execution_count": 29,
   "metadata": {
    "collapsed": false
   },
   "outputs": [],
   "source": [
    "kn, mun = get_thermophysical_properties(Tn.copy())"
   ]
  },
  {
   "cell_type": "code",
   "execution_count": 30,
   "metadata": {
    "collapsed": false
   },
   "outputs": [
    {
     "data": {
      "text/plain": [
       "array([ 0.15872922,  0.15576371,  0.15576371,  0.15576371,  0.15576371,\n",
       "        0.15576371,  0.15576371,  0.15576371,  0.15576371,  0.15576371])"
      ]
     },
     "execution_count": 30,
     "metadata": {},
     "output_type": "execute_result"
    }
   ],
   "source": [
    "kn[:10]"
   ]
  },
  {
   "cell_type": "code",
   "execution_count": 31,
   "metadata": {
    "collapsed": false
   },
   "outputs": [
    {
     "data": {
      "text/plain": [
       "array([  2.06422099e-05,   2.03805361e-05,   2.03805361e-05,\n",
       "         2.03805361e-05,   2.03805361e-05,   2.03805361e-05,\n",
       "         2.03805361e-05,   2.03805361e-05,   2.03805361e-05,\n",
       "         2.03805361e-05])"
      ]
     },
     "execution_count": 31,
     "metadata": {},
     "output_type": "execute_result"
    }
   ],
   "source": [
    "mun[:10]"
   ]
  },
  {
   "cell_type": "markdown",
   "metadata": {},
   "source": [
    "##### Ablation of Anode"
   ]
  },
  {
   "cell_type": "code",
   "execution_count": 32,
   "metadata": {
    "collapsed": false
   },
   "outputs": [],
   "source": [
    "def get_ablation(anode_temperature, molecular_weight):\n",
    "    '''Defines ablation rate in { kg } / { m2 s }\n",
    "    \n",
    "    Parameters:\n",
    "    -----------\n",
    "    anode temperature\n",
    "    molecular weight of anode material\n",
    "    \n",
    "    Returns:\n",
    "    --------\n",
    "    ablation rate\n",
    "    vapor density\n",
    "    '''\n",
    "    Tan = anode_temperature\n",
    "    A = 15.73\n",
    "    B = 40030.0\n",
    "    #\n",
    "    MW = molecular_weight\n",
    "    #\n",
    "    p_vapor = (0.133*numpy.exp(2.3*(A - B/Tan)))\n",
    "    ablation = p_vapor*numpy.sqrt(MW/(2*numpy.pi*Ckb*Tan))\n",
    "    rho_vapor = p_vapor/(R_C*Tan)\n",
    "    #\n",
    "    return ablation, rho_vapor"
   ]
  },
  {
   "cell_type": "code",
   "execution_count": 33,
   "metadata": {
    "collapsed": false
   },
   "outputs": [],
   "source": [
    "ABL, rhov = get_ablation(Tn[0],M_C)"
   ]
  },
  {
   "cell_type": "code",
   "execution_count": 34,
   "metadata": {
    "collapsed": false
   },
   "outputs": [
    {
     "data": {
      "text/plain": [
       "4.4219499500134517e-117"
      ]
     },
     "execution_count": 34,
     "metadata": {},
     "output_type": "execute_result"
    }
   ],
   "source": [
    "rhov # vapor density in { kg } / { m3 }"
   ]
  },
  {
   "cell_type": "code",
   "execution_count": 35,
   "metadata": {
    "collapsed": false
   },
   "outputs": [
    {
     "data": {
      "text/plain": [
       "8.2692162375203286e-115"
      ]
     },
     "execution_count": 35,
     "metadata": {},
     "output_type": "execute_result"
    }
   ],
   "source": [
    "ABL # ablation rate in { kg } / { m2 s }"
   ]
  },
  {
   "cell_type": "markdown",
   "metadata": {},
   "source": [
    "##### update density boundary conditions to include the ablated density"
   ]
  },
  {
   "cell_type": "code",
   "execution_count": 36,
   "metadata": {
    "collapsed": true
   },
   "outputs": [],
   "source": [
    "def get_initial_concentrations(density, ablated_density):\n",
    "    ''' defines initial concentrations for individual species in the domain\n",
    "    \n",
    "    Parameters:\n",
    "    -----------\n",
    "    density: total density in the domain\n",
    "    ablated_density: vapor density obtained from vapor pressure\n",
    "    \n",
    "    Returns:\n",
    "    -------\n",
    "    c_C: concentration of carbon species\n",
    "    c_He: concentration of helium species\n",
    "    '''\n",
    "    rhox = density.copy()\n",
    "    #\n",
    "    c_C = numpy.zeros_like(density)\n",
    "    c_He = numpy.zeros_like(density)\n",
    "    #Concentration of carbon\n",
    "    c_C[:] = ablated_density/(rhox[:])\n",
    "    c_C[0] = 1.0\n",
    "    # concentration of helium\n",
    "    c_He[:] = (rhox[:]-ablated_density)/rhox[:]\n",
    "    c_He[0] = 1e-14\n",
    "\n",
    "    #\n",
    "    return c_C, c_He"
   ]
  },
  {
   "cell_type": "code",
   "execution_count": 37,
   "metadata": {
    "collapsed": true
   },
   "outputs": [],
   "source": [
    "def density_bc(density, ablated_density):\n",
    "    ''' updates densities in the anode region \n",
    "        by summing ablated density with local density\n",
    "    \n",
    "    Parameters:\n",
    "    -----------\n",
    "    density: total density in the domain\n",
    "    ablated_density: vapor density obtained from vapor pressure\n",
    "    \n",
    "    Returns:\n",
    "    -------\n",
    "    density with updated boundary values\n",
    "        \n",
    "    '''\n",
    "    rhobc = density.copy()\n",
    "    local_density = rhobc[1]\n",
    "    #\n",
    "    rhobc[-1] = rhobc[-2]\n",
    "    #\n",
    "    if (ablated_density<local_density):\n",
    "        rhobc[0] = ablated_density+local_density\n",
    "    else:\n",
    "        rhobc[0] = ablated_density\n",
    "    #\n",
    "    return rhobc"
   ]
  },
  {
   "cell_type": "code",
   "execution_count": 38,
   "metadata": {
    "collapsed": false
   },
   "outputs": [
    {
     "data": {
      "text/plain": [
       "array([ 0.164,  0.164,  0.164,  0.164,  0.164,  0.164,  0.164,  0.164,\n",
       "        0.164,  0.164])"
      ]
     },
     "execution_count": 38,
     "metadata": {},
     "output_type": "execute_result"
    }
   ],
   "source": [
    "rhon = density_bc(rho0.copy(), rhov)\n",
    "rhon[:10]"
   ]
  },
  {
   "cell_type": "code",
   "execution_count": 39,
   "metadata": {
    "collapsed": false
   },
   "outputs": [],
   "source": [
    "cs1, cg1 = get_initial_concentrations(rhon, rhov)"
   ]
  },
  {
   "cell_type": "code",
   "execution_count": 40,
   "metadata": {
    "collapsed": false
   },
   "outputs": [
    {
     "data": {
      "text/plain": [
       "array([  1.00000000e+000,   2.69631095e-116,   2.69631095e-116,\n",
       "         2.69631095e-116,   2.69631095e-116,   2.69631095e-116,\n",
       "         2.69631095e-116,   2.69631095e-116,   2.69631095e-116,\n",
       "         2.69631095e-116])"
      ]
     },
     "execution_count": 40,
     "metadata": {},
     "output_type": "execute_result"
    }
   ],
   "source": [
    "cs1[:10]"
   ]
  },
  {
   "cell_type": "code",
   "execution_count": 41,
   "metadata": {
    "collapsed": false
   },
   "outputs": [
    {
     "data": {
      "text/plain": [
       "array([  1.00000000e-14,   1.00000000e+00,   1.00000000e+00,\n",
       "         1.00000000e+00,   1.00000000e+00,   1.00000000e+00,\n",
       "         1.00000000e+00,   1.00000000e+00,   1.00000000e+00,\n",
       "         1.00000000e+00])"
      ]
     },
     "execution_count": 41,
     "metadata": {},
     "output_type": "execute_result"
    }
   ],
   "source": [
    "cg1[:10]"
   ]
  },
  {
   "cell_type": "markdown",
   "metadata": {},
   "source": [
    "##### obtain velocity of sublimated particles"
   ]
  },
  {
   "cell_type": "code",
   "execution_count": 42,
   "metadata": {
    "collapsed": true
   },
   "outputs": [],
   "source": [
    "def get_ablation_velocity(ablation_rate, density, ablated_density):\n",
    "    '''obtains the velocity of sublimated particles, these will be used as boundary\n",
    "    conditions\n",
    "    \n",
    "    Parameters:\n",
    "    ----------\n",
    "    ablation rate in kg/{m2 s}\n",
    "    total density\n",
    "    ablated density (vapor density obtained from vapor pressure)\n",
    "    \n",
    "    Returns:\n",
    "    --------\n",
    "    velocity of sublimated particles {m/s}\n",
    "    '''\n",
    "    rhox = density.copy()\n",
    "    local_density = rhox[1]\n",
    "    abl_rate = ablation_rate\n",
    "    #\n",
    "    ablation_velocity = (abl_rate)/(local_density+ablated_density)\n",
    "    #\n",
    "    return ablation_velocity"
   ]
  },
  {
   "cell_type": "code",
   "execution_count": 43,
   "metadata": {
    "collapsed": false
   },
   "outputs": [
    {
     "data": {
      "text/plain": [
       "5.0422050228782487e-114"
      ]
     },
     "execution_count": 43,
     "metadata": {},
     "output_type": "execute_result"
    }
   ],
   "source": [
    "u_abl = get_ablation_velocity(ABL, rhon.copy(), rhov)\n",
    "u_abl #m/s"
   ]
  },
  {
   "cell_type": "markdown",
   "metadata": {},
   "source": [
    "## Depending on the initial temperature, there may be no sublimation of the anode material"
   ]
  },
  {
   "cell_type": "markdown",
   "metadata": {},
   "source": [
    "##### Solve Momentum Equation"
   ]
  },
  {
   "cell_type": "code",
   "execution_count": 44,
   "metadata": {
    "collapsed": false
   },
   "outputs": [],
   "source": [
    "def initial_velocity(velocity, ablation_velocity):\n",
    "    ''' defines initial velocity in the field\n",
    "    \n",
    "    Boundary_conditions:\n",
    "    --------------------\n",
    "    Ghost cell and anode/fluid interface velocities are set equal to the\n",
    "    sublimation velocity\n",
    "    \n",
    "    Parameters:\n",
    "    -----------\n",
    "    velocity in the field {m/s}\n",
    "    ablation velocity of anode material {m/s}\n",
    "    \n",
    "    Returns:\n",
    "    --------\n",
    "    velocity with updated sublimation velocity\n",
    "    \n",
    "    '''\n",
    "    ui = velocity.copy()\n",
    "    ui[0] = ablation_velocity\n",
    "    ui[1] = ablation_velocity\n",
    "    #\n",
    "    return ui"
   ]
  },
  {
   "cell_type": "code",
   "execution_count": 45,
   "metadata": {
    "collapsed": false
   },
   "outputs": [
    {
     "data": {
      "text/plain": [
       "array([  5.04220502e-114,   5.04220502e-114,   0.00000000e+000,\n",
       "         0.00000000e+000,   0.00000000e+000])"
      ]
     },
     "execution_count": 45,
     "metadata": {},
     "output_type": "execute_result"
    }
   ],
   "source": [
    "u_init = initial_velocity(u0.copy(), u_abl)\n",
    "u_init[:5] #the rest are zeros initially"
   ]
  },
  {
   "cell_type": "markdown",
   "metadata": {},
   "source": [
    "### The velocity of sublimated particles is a function of temperature, so depending on the initial temperature, there may be no sublimation"
   ]
  },
  {
   "cell_type": "markdown",
   "metadata": {},
   "source": [
    "### Now,  solve momentum equation to obtain velocity distribution and heavy particle pressure (i.e., exclude electrons). Here I use the fractional step method to solve for the heavy particle pressure and the velocity field."
   ]
  },
  {
   "cell_type": "code",
   "execution_count": 46,
   "metadata": {
    "collapsed": true
   },
   "outputs": [],
   "source": [
    "def convective_flux(velocity, delx):\n",
    "    ''' calculates convective fluxes for momentum equation\n",
    "        uses central differencing scheme \n",
    "        \n",
    "    Parameters:\n",
    "    -----------\n",
    "    velocity: helmholtz velocity\n",
    "    delx: x-direction spacing\n",
    "    \n",
    "    Returns:\n",
    "    -------\n",
    "    fc: convective fluxes\n",
    "    '''\n",
    "    ux = velocity.copy()\n",
    "    fc = numpy.zeros_like(velocity)\n",
    "    #\n",
    "    fc[1:-1] = (-0.5/delx)*((ux[2:]**2)-(ux[:-2]**2) )\n",
    "    #\n",
    "    return fc"
   ]
  },
  {
   "cell_type": "code",
   "execution_count": 47,
   "metadata": {
    "collapsed": false
   },
   "outputs": [
    {
     "data": {
      "text/plain": [
       "array([  0.00000000e+000,   3.81357472e-223,   3.81357472e-223,\n",
       "        -0.00000000e+000,  -0.00000000e+000])"
      ]
     },
     "execution_count": 47,
     "metadata": {},
     "output_type": "execute_result"
    }
   ],
   "source": [
    "fct = convective_flux(u_init.copy(), dx)\n",
    "fct[:5]"
   ]
  },
  {
   "cell_type": "code",
   "execution_count": 48,
   "metadata": {
    "collapsed": true
   },
   "outputs": [],
   "source": [
    "def viscous_flux(velocity, delx, shear_viscosity, density):\n",
    "    ''' calculates viscous fluxes for momentum equation\n",
    "        uses central differencing scheme\n",
    "        \n",
    "    Parameters:\n",
    "    -----------\n",
    "    velocity: helmholtz velocity\n",
    "    delx: x-direction spacing\n",
    "    shear_viscosity: mu\n",
    "    density: total density in domain\n",
    "    \n",
    "    Returns:\n",
    "    --------\n",
    "    fv: viscous fluxes\n",
    "    '''\n",
    "    ux = velocity.copy()\n",
    "    fv = numpy.zeros_like(velocity)\n",
    "    fv2 = numpy.zeros_like(velocity) # = mu * d/dx {u}\n",
    "    #\n",
    "    mux = shear_viscosity.copy()\n",
    "    muxb = numpy.zeros_like(velocity) #interpolated viscosity boundary values\n",
    "    muxb[1:-1] = 0.5*(mux[1:]+mux[:-1])\n",
    "    #\n",
    "    rhox = density.copy() #density at cell center\n",
    "    #\n",
    "    rhoxb = numpy.zeros_like(velocity) #density at cell boundary\n",
    "    #\n",
    "    #interpolate densities to cell boundaries\n",
    "    #anode\n",
    "    rhoxb[0] = rhox[0]\n",
    "    rhoxb[1] = rhox[0] \n",
    "    # inner points\n",
    "    rhoxb[2:-1] = 0.5*(rhox[2:]+rhox[1:-1])\n",
    "    #exit\n",
    "    rhoxb[-1] = rhoxb[-2]\n",
    "    #\n",
    "    fv[1:-1] = (muxb[1:-1]/rhoxb[1:-1])*(1/(delx**2))*\\\n",
    "                (ux[2:] - 2*ux[1:-1] + ux[:-2])\n",
    "    #\n",
    "    return fv"
   ]
  },
  {
   "cell_type": "code",
   "execution_count": 49,
   "metadata": {
    "collapsed": false
   },
   "outputs": [],
   "source": [
    "fvt= viscous_flux(u_init.copy(), dx, mun.copy(), rhon.copy())"
   ]
  },
  {
   "cell_type": "code",
   "execution_count": 50,
   "metadata": {
    "collapsed": false
   },
   "outputs": [
    {
     "data": {
      "text/plain": [
       "array([  0.00000000e+000,  -5.67562763e-109,   5.63942422e-109,\n",
       "         0.00000000e+000,   0.00000000e+000])"
      ]
     },
     "execution_count": 50,
     "metadata": {},
     "output_type": "execute_result"
    }
   ],
   "source": [
    "fvt[:5]"
   ]
  },
  {
   "cell_type": "code",
   "execution_count": 51,
   "metadata": {
    "collapsed": true
   },
   "outputs": [],
   "source": [
    "def pressure_flux(velocity, pressure, delx):\n",
    "    ''' calculates pressure fluxes for momentum equation\n",
    "    \n",
    "    Parameters:\n",
    "    ----------\n",
    "    velocity: helmholtz velocity\n",
    "    pressure: heavy particle pressure only, exclude electron pressure\n",
    "    delx: x-direction spacing\n",
    "    \n",
    "    Returns:\n",
    "    -------\n",
    "    fp: pressure flux\n",
    "    '''\n",
    "    px = pressure.copy()\n",
    "    #\n",
    "    fp = numpy.zeros_like(velocity)\n",
    "    #\n",
    "    fp[1:-1] = -(1./delx)*(px[1:]-px[:-1])\n",
    "    #\n",
    "    return fp"
   ]
  },
  {
   "cell_type": "code",
   "execution_count": 52,
   "metadata": {
    "collapsed": false
   },
   "outputs": [],
   "source": [
    "fpt = pressure_flux(u_init.copy(), p0.copy(), dx)"
   ]
  },
  {
   "cell_type": "code",
   "execution_count": 53,
   "metadata": {
    "collapsed": false
   },
   "outputs": [
    {
     "data": {
      "text/plain": [
       "array([ 0., -0., -0., -0., -0.])"
      ]
     },
     "execution_count": 53,
     "metadata": {},
     "output_type": "execute_result"
    }
   ],
   "source": [
    "fpt[:5]"
   ]
  },
  {
   "cell_type": "code",
   "execution_count": 54,
   "metadata": {
    "collapsed": false
   },
   "outputs": [],
   "source": [
    "def get_source_pressure(velocity,pressure, delx):\n",
    "    ''' computes the pressure source terms\n",
    "    \n",
    "    Parameters:\n",
    "    -----------\n",
    "    velocity: helmholtz velocity\n",
    "    pressure: heavy particle pressure\n",
    "    delx: x-direction spacing\n",
    "    \n",
    "    Returns:\n",
    "    --------\n",
    "    fps: pressure source term\n",
    "    '''\n",
    "    ux = velocity.copy()\n",
    "    fps = numpy.zeros_like(pressure)\n",
    "    #\n",
    "    fps[:] = (1./delx)*(ux[1:]-ux[:-1])\n",
    "    #\n",
    "    return fps"
   ]
  },
  {
   "cell_type": "code",
   "execution_count": 55,
   "metadata": {
    "collapsed": true
   },
   "outputs": [],
   "source": [
    "fs = get_source_pressure(u_init.copy(), p0.copy(), dx)"
   ]
  },
  {
   "cell_type": "code",
   "execution_count": 56,
   "metadata": {
    "collapsed": false
   },
   "outputs": [
    {
     "data": {
      "text/plain": [
       "array([  0.00000000e+000,  -1.51266151e-109,   0.00000000e+000,\n",
       "         0.00000000e+000,   0.00000000e+000])"
      ]
     },
     "execution_count": 56,
     "metadata": {},
     "output_type": "execute_result"
    }
   ],
   "source": [
    "fs[:5]"
   ]
  },
  {
   "cell_type": "code",
   "execution_count": 57,
   "metadata": {
    "collapsed": true
   },
   "outputs": [],
   "source": [
    "def pressure_bc(pressure):\n",
    "    ''' enforces the pressure boundary conditions, which are set to \n",
    "        homogeneous dirichlet\n",
    "        \n",
    "    Parameters:\n",
    "    -----------\n",
    "    pressure: heavy particle pressure\n",
    "    \n",
    "    Returns:\n",
    "    --------\n",
    "    px: pressure with updated boundary conditions\n",
    "    '''\n",
    "    px = pressure.copy()\n",
    "    # enforce zero pressure gradient\n",
    "    px[-1] = px[-2] \n",
    "    px[0] = px[1]\n",
    "    #\n",
    "    return px"
   ]
  },
  {
   "cell_type": "code",
   "execution_count": 58,
   "metadata": {
    "collapsed": true
   },
   "outputs": [],
   "source": [
    "def velocity_bc(velocity, ablation_velocity):\n",
    "    ''' updates the velocity boundary conditions\n",
    "    \n",
    "    anode bc: dirichlet set to ablation velocity\n",
    "    cathode bc: homogeneous dirichlet\n",
    "    \n",
    "    Parameters:\n",
    "    -----------\n",
    "    velocity: total (divergence-free) velocity\n",
    "    ablation_velocity: velocity of sublimated particles\n",
    "    \n",
    "    Returns:\n",
    "    ---------\n",
    "    ubc: updated velocity boundary conditions\n",
    "    '''\n",
    "    ubc = velocity.copy()\n",
    "    #\n",
    "    ux = velocity.copy()\n",
    "    u_abl = ablation_velocity\n",
    "    #\n",
    "    ubc[0] = u_abl\n",
    "    ubc[1] = u_abl\n",
    "    ubc[-1] = ubc[-2]\n",
    "    #\n",
    "    return ubc"
   ]
  },
  {
   "cell_type": "code",
   "execution_count": 59,
   "metadata": {
    "collapsed": true
   },
   "outputs": [],
   "source": [
    "@jit(nopython=True)\n",
    "def get_pressure_GS(p,pk,delx,delt,l2_target,factor,fsp,numx):\n",
    "    ''' Uses Gauss_Sidel to solve for pressure\n",
    "    \n",
    "    Parameters:\n",
    "    -----------\n",
    "    p: pressure {time n}\n",
    "    pk: pressure {time n-1}\n",
    "    delx: x-direction spacing\n",
    "    delt: time step\n",
    "    l2_target: target error value\n",
    "    factor: used for the fractional step method\n",
    "    fsp: pressure source term\n",
    "    numx: number of nodes\n",
    "    '''\n",
    "    #\n",
    "    iterations = 0\n",
    "    iter_diff = l2_target + 1.1\n",
    "    denominator = 0.0\n",
    "    l2_err = numpy.zeros(20000)\n",
    "    \n",
    "    while iter_diff > l2_target:\n",
    "        for i in range(numx):\n",
    "            pk[i] = p[i] \n",
    "        #        \n",
    "        iter_diff = 0.0\n",
    "        denominator = 0.0\n",
    "        #\n",
    "        for i in range(1,numx-1):\n",
    "            p[i] = 0.5*(p[i+1]+p[i-1])-(0.5*(delx**2)*(1/(delt*factor))*fsp[i])\n",
    "            #\n",
    "        #boundary conditions\n",
    "        p[0] = p[1]\n",
    "        p[-1] = p[-2]   \n",
    "        #\n",
    "        for i in range(1,numx-1):\n",
    "            iter_diff += (p[i] - pk[i])**2\n",
    "            denominator += (pk[i]*pk[i])\n",
    "        #\n",
    "        iter_diff /= denominator\n",
    "        iter_diff = iter_diff**0.5\n",
    "        l2_err[iterations] = iter_diff\n",
    "        iterations += 1    \n",
    "        \n",
    "    return p, iterations, l2_err"
   ]
  },
  {
   "cell_type": "code",
   "execution_count": 60,
   "metadata": {
    "collapsed": false
   },
   "outputs": [],
   "source": [
    "# %%timeit\n",
    "# ptest2 = get_pressure_GS(p0,p0,dx,dt,l2_target,1.,fs,numx)"
   ]
  },
  {
   "cell_type": "code",
   "execution_count": 61,
   "metadata": {
    "collapsed": false
   },
   "outputs": [],
   "source": [
    "def get_momentum(velocity, shear_viscosity, density,\\\n",
    "                 pressure,delx, delt, ablated_velocity):\n",
    "    ''' Use Fractional Step Method to find velocity field and \n",
    "    pressure of heavy particles\n",
    "    \n",
    "    Parameters:\n",
    "    -----------\n",
    "    velocity: current velocity field\n",
    "    shear_viscosity: mu\n",
    "    density: total density in the field\n",
    "    pressure: total pressure in the field\n",
    "    delx: x-direction spacing\n",
    "    delt: time step\n",
    "    ablated_velocity: velocity of sublimated particles\n",
    "    \n",
    "    Returns:\n",
    "    --------\n",
    "    un: velocity distribution at the next time step\n",
    "    '''\n",
    "    #\n",
    "    G1 = numpy.zeros_like(velocity)\n",
    "    G2 = numpy.zeros_like(velocity)\n",
    "    G3 = numpy.zeros_like(velocity)\n",
    "    us1 = numpy.zeros_like(velocity)\n",
    "    us2 = numpy.zeros_like(velocity)\n",
    "    us3 = numpy.zeros_like(velocity)\n",
    "    #\n",
    "    un = velocity.copy()\n",
    "    mu = shear_viscosity.copy()\n",
    "    rhon = density.copy()\n",
    "    u_ABL = ablated_velocity\n",
    "    #\n",
    "    #p = pressure.copy()\n",
    "    p0 = pressure.copy()\n",
    "    #\n",
    "    #Fractional Step Method, RK3 time advancement:\n",
    "    #-------------------------------------------------------------------------\n",
    "    #-------------------------------------------------------------------------\n",
    "    #stage1\n",
    "    #un = velocity_bc(un_ref.copy(), u_ABL)\n",
    "    #\n",
    "    Fc1 = convective_flux(un, delx) #Convective Flux\n",
    "    Fv1 = viscous_flux(un, delx, mu.copy(), rhon) #Viscous FLux\n",
    "    G1[:] = Fc1[:] + Fv1[:]\n",
    "    #\n",
    "    us1[:] = un[:] + (delt/3.)*(G1[:]) #helmholtz velocity\n",
    "    us1 = velocity_bc(us1, u_ABL)\n",
    "    #\n",
    "    fs1 = get_source_pressure(us1, p0, delx) #source term for pressure\n",
    "    #\n",
    "    ps1, it1, e1 = get_pressure_GS(p0,p0,delx,delt,l2_target,1./3.,fs1,numx)\n",
    "    #ps1, it1, e1 = get_pressure(p0.copy(), delx, delt, l2_target, 1./3., fs1.copy()) #pressure\n",
    "    #ps1 = pressure_bc(ps1.copy())\n",
    "    #\n",
    "    Fp1 = pressure_flux(us1, ps1, delx) #pressure flux\n",
    "    #\n",
    "    un[:] = us1[:] + (delt/3.)*(Fp1[:]) #rk1 velocity\n",
    "    #-------------------------------------------------------------------------\n",
    "    #-------------------------------------------------------------------------\n",
    "    #stage2\n",
    "    un = velocity_bc(un, u_ABL)\n",
    "    #print(un)\n",
    "    #\n",
    "    Fc2 = convective_flux(un, delx) #Convective Flux\n",
    "    Fv2 = viscous_flux(un, delx, mu.copy(), rhon) #Viscous FLux\n",
    "    G2[:] = - (5./9.)*(G1[:]) + (Fc2[:] + Fv2[:])\n",
    "    #\n",
    "    us2[:] = un[:] + (15.*delt/16.)*(G2[:]) #helmholtz velocity\n",
    "    us2 = velocity_bc(us2, u_ABL)\n",
    "    #\n",
    "    fs2 = get_source_pressure(us2,ps1, delx) #source term for pressure\n",
    "    #\n",
    "    ps2, it2, e2 = get_pressure_GS(p0,p0,delx,delt,l2_target,5./12.,fs2,numx)\n",
    "    #ps2, it2, e2 = get_pressure(p0.copy(), delx, delt, l2_target, 5./12., fs2.copy()) #pressure\n",
    "    #ps2 = pressure_bc(ps2.copy())\n",
    "    #\n",
    "    Fp2 = pressure_flux(us2, ps2, delx) #pressure flux\n",
    "    #\n",
    "    un[:] = us2[:] + (5.*delt/12.)*(Fp2[:]) #rk2 velocity\n",
    "    #-------------------------------------------------------------------------\n",
    "    #-------------------------------------------------------------------------\n",
    "    #stage 3\n",
    "    un = velocity_bc(un, u_ABL)\n",
    "    #\n",
    "    Fc3 = convective_flux(un, delx) #Convective Flux\n",
    "    Fv3 = viscous_flux(un, delx, mu.copy(), rhon) #Viscous FLux\n",
    "    G3[:] = - (153./128.)*(G2[:]) + (Fc3[:] + Fv3[:])\n",
    "    #\n",
    "    us3[:] = un[:] + (8.*delt/15.)*(G3[:]) #helmholtz velocity\n",
    "    us3 = velocity_bc(us3, u_ABL)\n",
    "    #\n",
    "    fs3 = get_source_pressure(us3,ps2,delx) #source term for pressure\n",
    "    #\n",
    "    ps3, it3, e3 = get_pressure_GS(p0,p0,delx,delt,l2_target,1./4.,fs3,numx)\n",
    "    #ps3, it3, e3 = get_pressure(p0.copy(), delx, delt, l2_target, 1./4.,fs3.copy()) #pressure\n",
    "    #ps3 = pressure_bc(ps3)\n",
    "    #\n",
    "    Fp3 =  pressure_flux(us3, ps3, delx) #pressure flux\n",
    "    #\n",
    "    un[:] = us3[:] + (1.*delt/4.)*(Fp3[:]) #rk1 velocity\n",
    "    un = velocity_bc(un, u_ABL)\n",
    "    #\n",
    "    return un, ps3"
   ]
  },
  {
   "cell_type": "code",
   "execution_count": 62,
   "metadata": {
    "collapsed": false
   },
   "outputs": [],
   "source": [
    "#%%timeit\n",
    "uxn, pxn = get_momentum(u_init.copy(),mun.copy(),rhon.copy(),p0.copy(),dx,dt, u_abl)"
   ]
  },
  {
   "cell_type": "code",
   "execution_count": 63,
   "metadata": {
    "collapsed": false
   },
   "outputs": [
    {
     "data": {
      "text/plain": [
       "array([  5.04220502e-114,   5.04220502e-114,   5.06747327e-115,\n",
       "         2.68339342e-116,   1.17574203e-117,   0.00000000e+000,\n",
       "         0.00000000e+000,   0.00000000e+000,   0.00000000e+000,\n",
       "         0.00000000e+000])"
      ]
     },
     "execution_count": 63,
     "metadata": {},
     "output_type": "execute_result"
    }
   ],
   "source": [
    "uxn[:10] # velocity profile"
   ]
  },
  {
   "cell_type": "code",
   "execution_count": 64,
   "metadata": {
    "collapsed": false
   },
   "outputs": [
    {
     "data": {
      "text/plain": [
       "array([ 102195.72168305,  102195.72168305,  102195.72168305,\n",
       "        102195.72168305,  102195.72168305,  102195.72168305,\n",
       "        102195.72168305,  102195.72168305,  102195.72168305,\n",
       "        102195.72168305])"
      ]
     },
     "execution_count": 64,
     "metadata": {},
     "output_type": "execute_result"
    }
   ],
   "source": [
    "pxn[:10] #pressure"
   ]
  },
  {
   "cell_type": "markdown",
   "metadata": {},
   "source": [
    "### Now that we have the velocity field and pressure field of heavy particles, we can find the amount of individual ablated species in the gap"
   ]
  },
  {
   "cell_type": "markdown",
   "metadata": {},
   "source": [
    "##### mass conservation"
   ]
  },
  {
   "cell_type": "code",
   "execution_count": 65,
   "metadata": {
    "collapsed": false
   },
   "outputs": [],
   "source": [
    "def mass_conservation(density, velocity, delx, delt):\n",
    "    ''' solves mass conservation to obtain total density in the field\n",
    "    \n",
    "    Parameters:\n",
    "    -----------\n",
    "    density: current density distribution\n",
    "    velocity: current velocity distribution\n",
    "    delx: x-direction spacing\n",
    "    delt: time step\n",
    "    \n",
    "    Returns:\n",
    "    --------\n",
    "    rho_new: new total density distribution\n",
    "    \n",
    "    '''\n",
    "    # densities\n",
    "    rhox = density.copy()\n",
    "    rho_new = density.copy()\n",
    "    #velocity\n",
    "    ux = velocity.copy()\n",
    "    ux_int = numpy.zeros_like(density)\n",
    "    ux_int[:] = 0.5*(ux[1:]+ux[:-1])\n",
    "    #\n",
    "    rho_new[0] = rhox[0]\n",
    "    #\n",
    "    # mass conservation\n",
    "    rho_new[1:-1] = rhox[1:-1] - (0.5*delt/delx)*\\\n",
    "                                    (rhox[2:]*ux_int[2:] - rhox[:-2]*ux_int[:-2])\n",
    "    #boundary conditions\n",
    "    #rho_new = density_bc(rho_new, ablated_density)\n",
    "    rho_new[-1] = rho_new[-2]\n",
    "    #\n",
    "    return rho_new"
   ]
  },
  {
   "cell_type": "code",
   "execution_count": 66,
   "metadata": {
    "collapsed": false
   },
   "outputs": [],
   "source": [
    "rhon = mass_conservation(rhon, uxn, dx, dt)"
   ]
  },
  {
   "cell_type": "code",
   "execution_count": 67,
   "metadata": {
    "collapsed": false
   },
   "outputs": [
    {
     "data": {
      "text/plain": [
       "array([ 0.164,  0.164,  0.164,  0.164,  0.164,  0.164,  0.164,  0.164,\n",
       "        0.164,  0.164,  0.164,  0.164,  0.164,  0.164,  0.164,  0.164,\n",
       "        0.164,  0.164,  0.164,  0.164,  0.164,  0.164,  0.164,  0.164,\n",
       "        0.164,  0.164,  0.164,  0.164,  0.164,  0.164,  0.164,  0.164,\n",
       "        0.164,  0.164,  0.164,  0.164,  0.164,  0.164,  0.164,  0.164,\n",
       "        0.164,  0.164,  0.164,  0.164,  0.164,  0.164,  0.164,  0.164,\n",
       "        0.164,  0.164,  0.164,  0.164,  0.164,  0.164,  0.164,  0.164,\n",
       "        0.164,  0.164,  0.164,  0.164,  0.164,  0.164,  0.164,  0.164,\n",
       "        0.164,  0.164,  0.164,  0.164,  0.164,  0.164,  0.164,  0.164,\n",
       "        0.164,  0.164,  0.164,  0.164,  0.164,  0.164,  0.164,  0.164,\n",
       "        0.164,  0.164,  0.164,  0.164,  0.164,  0.164,  0.164,  0.164,\n",
       "        0.164,  0.164,  0.164,  0.164,  0.164,  0.164,  0.164,  0.164,\n",
       "        0.164,  0.164,  0.164,  0.164,  0.164,  0.164,  0.164,  0.164,\n",
       "        0.164,  0.164,  0.164,  0.164,  0.164,  0.164,  0.164,  0.164,\n",
       "        0.164,  0.164,  0.164,  0.164,  0.164,  0.164,  0.164,  0.164,\n",
       "        0.164,  0.164])"
      ]
     },
     "execution_count": 67,
     "metadata": {},
     "output_type": "execute_result"
    }
   ],
   "source": [
    "rhon"
   ]
  },
  {
   "cell_type": "markdown",
   "metadata": {},
   "source": [
    "##### Mass Diffusion"
   ]
  },
  {
   "cell_type": "code",
   "execution_count": 68,
   "metadata": {
    "collapsed": true
   },
   "outputs": [],
   "source": [
    "def mass_diffusion(pressure, temperature, density, velocity, concentration1, \\\n",
    "                   concentration2, delt, delx, molar_mass1, molar_mass2, vapor_density):\n",
    "    ''' Obtains individual species densities and concentrations by solving the\n",
    "    mass diffusion equation\n",
    "    \n",
    "    Parameters:\n",
    "    -----------\n",
    "    pressure:\n",
    "    temperature:\n",
    "    density:\n",
    "    velocity:\n",
    "    concentration1:\n",
    "    concentration2:\n",
    "    delt:\n",
    "    delx:\n",
    "    molar_mass1:\n",
    "    molar_mass2:\n",
    "    vapor_density:\n",
    "    \n",
    "    Returns:\n",
    "    --------\n",
    "    rho_s1: density of species 1\n",
    "    rho_s2: density of species 2 (background gas if only 2 total species)\n",
    "    c1_out: concentration of species 1\n",
    "    c2_out: concentration of species 2 (background gas if only 2 total species)\n",
    "    '''\n",
    "    #temperature and pressure\n",
    "    p = pressure.copy()\n",
    "    Tx = temperature.copy()\n",
    "    # current density\n",
    "    rhox = density.copy()\n",
    "    # densities of individual species\n",
    "    rho_s1 = numpy.zeros_like(density)\n",
    "    rho_s2 = numpy.zeros_like(density)\n",
    "    # velocity in domain\n",
    "    ux = velocity.copy()\n",
    "    uxc = numpy.zeros_like(density)\n",
    "    uxc[:] = 0.5*(ux[1:]+ux[:-1])\n",
    "    # concentrations\n",
    "    c1 = concentration1.copy()\n",
    "    c2 = concentration2.copy()\n",
    "    # new concentrations\n",
    "    c1_out = numpy.zeros_like(concentration1)\n",
    "    c2_out = numpy.zeros_like(concentration2)\n",
    "    #\n",
    "    Dflux_s1 = numpy.zeros_like(density) #diffusion flux: D {d/dx rho*c}\n",
    "    Dflux_s2 = numpy.zeros_like(density)\n",
    "    #\n",
    "    # Rigid sphere collision diameter\n",
    "    RSCD = 1.7 + 1.4 # Angstrom units, rigid sphere collision diameter\n",
    "    # molar mass of base material and background gas\n",
    "    m1 = molar_mass1\n",
    "    m2 = molar_mass2\n",
    "    #--------------------------------\n",
    "    # diffusion coefficient\n",
    "    D1 = numpy.zeros_like(density) #binary diffusion coefficient\n",
    "    D1[:] = (((2.63e-7)/(( p[:]/101325.0)*(RSCD)**2))*\\\n",
    "                numpy.sqrt(((Tx[:])**3)*(m1+m2)/(2*m1*m2)))*1e-4\n",
    "    #diffusion flux, species 1\n",
    "    Dflux_s1[1:-1] = (D1[1:-1]/(2*delx))*(rhox[2:]*c1[2:] - rhox[:-2]*c1[:-2])\n",
    "    Dflux_s1[0] = Dflux_s1[1]\n",
    "    Dflux_s1[-1] = Dflux_s1[-2]\n",
    "    # diffusion flux, gas\n",
    "    Dflux_s2[1:-1] = (D1[1:-1]/(2*delx))*(rhox[2:]*c2[2:] - rhox[:-2]*c2[:-2])\n",
    "    Dflux_s2[0] = Dflux_s2[1]\n",
    "    Dflux_s2[-1] = Dflux_s2[-2]\n",
    "    #----------------------------\n",
    "    #species 1 density\n",
    "    #anode conditions:\n",
    "    rho_s1[0] = rhox[0]\n",
    "    # inner points\n",
    "    rho_s1[1:-1] = rhox[1:-1]*c1[1:-1] -\\\n",
    "                    (delt/(2*delx))*(rhox[2:]*uxc[2:]*c1[2:] -\\\n",
    "                                     rhox[:-2]*uxc[:-2]*c1[:-2]) +\\\n",
    "                    (delt/(2*delx))*(Dflux_s1[2:] - Dflux_s1[:-2])\n",
    "    # exit\n",
    "    rho_s1[-1] = rho_s1[-2]\n",
    "    #----------------------------\n",
    "    #species 2 density\n",
    "    #anode conditions\n",
    "    rho_s2[0] = 1e-14 #0.164\n",
    "    #\n",
    "    # inner points\n",
    "    rho_s2[1:-1] = rhox[1:-1]*c2[1:-1] -\\\n",
    "                    (delt/(2*delx))*(rhox[2:]*uxc[2:]*c2[2:] -\\\n",
    "                                     rhox[:-2]*uxc[:-2]*c2[:-2]) +\\\n",
    "                    (delt/(2*delx))*(Dflux_s2[2:] - Dflux_s2[:-2])\n",
    "    # exit\n",
    "    rho_s2[-1] = rho_s2[-2]\n",
    "    #-----------------------------\n",
    "    #concentration of species\n",
    "    #\n",
    "    c1_out[:] = numpy.abs(rho_s1[:])/(numpy.abs(rho_s1[:])+\\\n",
    "                                        numpy.abs(rho_s2[:]))\n",
    "    c2_out[:] = numpy.abs(rho_s2[:])/(numpy.abs(rho_s1[:])+\\\n",
    "                                        numpy.abs(rho_s2[:]))\n",
    "    #\n",
    "    return rho_s1, rho_s2, c1_out, c2_out"
   ]
  },
  {
   "cell_type": "code",
   "execution_count": 69,
   "metadata": {
    "collapsed": false
   },
   "outputs": [],
   "source": [
    "#%%timeit\n",
    "rhoC, rhoHe, cC, cHe = mass_diffusion(pxn, Tn, rhon.copy(),\\\n",
    "                                                  uxn,cs1,\\\n",
    "                                                  cg1, dt, dx, mC, mHe, rhov)\n"
   ]
  },
  {
   "cell_type": "code",
   "execution_count": 70,
   "metadata": {
    "collapsed": false
   },
   "outputs": [
    {
     "data": {
      "text/plain": [
       "array([  1.64000000e-001,   2.24866164e-007,   2.24866164e-007,\n",
       "         4.42194995e-117,   4.42194995e-117,   4.42194995e-117,\n",
       "         4.42194995e-117,   4.42194995e-117,   4.42194995e-117,\n",
       "         4.42194995e-117,   4.42194995e-117,   4.42194995e-117,\n",
       "         4.42194995e-117,   4.42194995e-117,   4.42194995e-117,\n",
       "         4.42194995e-117,   4.42194995e-117,   4.42194995e-117,\n",
       "         4.42194995e-117,   4.42194995e-117,   4.42194995e-117,\n",
       "         4.42194995e-117,   4.42194995e-117,   4.42194995e-117,\n",
       "         4.42194995e-117,   4.42194995e-117,   4.42194995e-117,\n",
       "         4.42194995e-117,   4.42194995e-117,   4.42194995e-117,\n",
       "         4.42194995e-117,   4.42194995e-117,   4.42194995e-117,\n",
       "         4.42194995e-117,   4.42194995e-117,   4.42194995e-117,\n",
       "         4.42194995e-117,   4.42194995e-117,   4.42194995e-117,\n",
       "         4.42194995e-117,   4.42194995e-117,   4.42194995e-117,\n",
       "         4.42194995e-117,   4.42194995e-117,   4.42194995e-117,\n",
       "         4.42194995e-117,   4.42194995e-117,   4.42194995e-117,\n",
       "         4.42194995e-117,   4.42194995e-117,   4.42194995e-117,\n",
       "         4.42194995e-117,   4.42194995e-117,   4.42194995e-117,\n",
       "         4.42194995e-117,   4.42194995e-117,   4.42194995e-117,\n",
       "         4.42194995e-117,   4.42194995e-117,   4.42194995e-117,\n",
       "         4.42194995e-117,   4.42194995e-117,   4.42194995e-117,\n",
       "         4.42194995e-117,   4.42194995e-117,   4.42194995e-117,\n",
       "         4.42194995e-117,   4.42194995e-117,   4.42194995e-117,\n",
       "         4.42194995e-117,   4.42194995e-117,   4.42194995e-117,\n",
       "         4.42194995e-117,   4.42194995e-117,   4.42194995e-117,\n",
       "         4.42194995e-117,   4.42194995e-117,   4.42194995e-117,\n",
       "         4.42194995e-117,   4.42194995e-117,   4.42194995e-117,\n",
       "         4.42194995e-117,   4.42194995e-117,   4.42194995e-117,\n",
       "         4.42194995e-117,   4.42194995e-117,   4.42194995e-117,\n",
       "         4.42194995e-117,   4.42194995e-117,   4.42194995e-117,\n",
       "         4.42194995e-117,   4.42194995e-117,   4.42194995e-117,\n",
       "         4.42194995e-117,   4.42194995e-117,   4.42194995e-117,\n",
       "         4.42194995e-117,   4.42194995e-117,   4.42194995e-117,\n",
       "         4.42194995e-117,   4.42194995e-117,   4.42194995e-117,\n",
       "         4.42194995e-117,   4.42194995e-117,   4.42194995e-117,\n",
       "         4.42194995e-117,   4.42194995e-117,   4.42194995e-117,\n",
       "         4.42194995e-117,   4.42194995e-117,   4.42194995e-117,\n",
       "         4.42194995e-117,   4.42194995e-117,   4.42194995e-117,\n",
       "         4.42194995e-117,   4.42194995e-117,   4.42194995e-117,\n",
       "         4.42194995e-117,   4.42194995e-117,   4.42194995e-117,\n",
       "         4.42194995e-117,   4.42194995e-117])"
      ]
     },
     "execution_count": 70,
     "metadata": {},
     "output_type": "execute_result"
    }
   ],
   "source": [
    "rhoC"
   ]
  },
  {
   "cell_type": "code",
   "execution_count": 71,
   "metadata": {
    "collapsed": false
   },
   "outputs": [
    {
     "data": {
      "text/plain": [
       "array([  1.00000000e-14,   1.63999775e-01,   1.63999775e-01,\n",
       "         1.64000000e-01,   1.64000000e-01,   1.64000000e-01,\n",
       "         1.64000000e-01,   1.64000000e-01,   1.64000000e-01,\n",
       "         1.64000000e-01,   1.64000000e-01,   1.64000000e-01,\n",
       "         1.64000000e-01,   1.64000000e-01,   1.64000000e-01,\n",
       "         1.64000000e-01,   1.64000000e-01,   1.64000000e-01,\n",
       "         1.64000000e-01,   1.64000000e-01,   1.64000000e-01,\n",
       "         1.64000000e-01,   1.64000000e-01,   1.64000000e-01,\n",
       "         1.64000000e-01,   1.64000000e-01,   1.64000000e-01,\n",
       "         1.64000000e-01,   1.64000000e-01,   1.64000000e-01,\n",
       "         1.64000000e-01,   1.64000000e-01,   1.64000000e-01,\n",
       "         1.64000000e-01,   1.64000000e-01,   1.64000000e-01,\n",
       "         1.64000000e-01,   1.64000000e-01,   1.64000000e-01,\n",
       "         1.64000000e-01,   1.64000000e-01,   1.64000000e-01,\n",
       "         1.64000000e-01,   1.64000000e-01,   1.64000000e-01,\n",
       "         1.64000000e-01,   1.64000000e-01,   1.64000000e-01,\n",
       "         1.64000000e-01,   1.64000000e-01,   1.64000000e-01,\n",
       "         1.64000000e-01,   1.64000000e-01,   1.64000000e-01,\n",
       "         1.64000000e-01,   1.64000000e-01,   1.64000000e-01,\n",
       "         1.64000000e-01,   1.64000000e-01,   1.64000000e-01,\n",
       "         1.64000000e-01,   1.64000000e-01,   1.64000000e-01,\n",
       "         1.64000000e-01,   1.64000000e-01,   1.64000000e-01,\n",
       "         1.64000000e-01,   1.64000000e-01,   1.64000000e-01,\n",
       "         1.64000000e-01,   1.64000000e-01,   1.64000000e-01,\n",
       "         1.64000000e-01,   1.64000000e-01,   1.64000000e-01,\n",
       "         1.64000000e-01,   1.64000000e-01,   1.64000000e-01,\n",
       "         1.64000000e-01,   1.64000000e-01,   1.64000000e-01,\n",
       "         1.64000000e-01,   1.64000000e-01,   1.64000000e-01,\n",
       "         1.64000000e-01,   1.64000000e-01,   1.64000000e-01,\n",
       "         1.64000000e-01,   1.64000000e-01,   1.64000000e-01,\n",
       "         1.64000000e-01,   1.64000000e-01,   1.64000000e-01,\n",
       "         1.64000000e-01,   1.64000000e-01,   1.64000000e-01,\n",
       "         1.64000000e-01,   1.64000000e-01,   1.64000000e-01,\n",
       "         1.64000000e-01,   1.64000000e-01,   1.64000000e-01,\n",
       "         1.64000000e-01,   1.64000000e-01,   1.64000000e-01,\n",
       "         1.64000000e-01,   1.64000000e-01,   1.64000000e-01,\n",
       "         1.64000000e-01,   1.64000000e-01,   1.64000000e-01,\n",
       "         1.64000000e-01,   1.64000000e-01,   1.64000000e-01,\n",
       "         1.64000000e-01,   1.64000000e-01,   1.64000000e-01,\n",
       "         1.64000000e-01,   1.64000000e-01,   1.64000000e-01,\n",
       "         1.64000000e-01,   1.64000000e-01])"
      ]
     },
     "execution_count": 71,
     "metadata": {},
     "output_type": "execute_result"
    }
   ],
   "source": [
    "rhoHe"
   ]
  },
  {
   "cell_type": "code",
   "execution_count": 72,
   "metadata": {
    "collapsed": false
   },
   "outputs": [
    {
     "data": {
      "text/plain": [
       "array([  1.00000000e+000,   1.37113515e-006,   1.37113515e-006,\n",
       "         2.69631095e-116,   2.69631095e-116,   2.69631095e-116,\n",
       "         2.69631095e-116,   2.69631095e-116,   2.69631095e-116,\n",
       "         2.69631095e-116])"
      ]
     },
     "execution_count": 72,
     "metadata": {},
     "output_type": "execute_result"
    }
   ],
   "source": [
    "cC[:10] #concentration of carbon in domain"
   ]
  },
  {
   "cell_type": "code",
   "execution_count": 73,
   "metadata": {
    "collapsed": false
   },
   "outputs": [
    {
     "data": {
      "text/plain": [
       "array([  6.09756098e-14,   9.99998629e-01,   9.99998629e-01,\n",
       "         1.00000000e+00,   1.00000000e+00,   1.00000000e+00,\n",
       "         1.00000000e+00,   1.00000000e+00,   1.00000000e+00,\n",
       "         1.00000000e+00])"
      ]
     },
     "execution_count": 73,
     "metadata": {},
     "output_type": "execute_result"
    }
   ],
   "source": [
    "cHe[:10] #concentration of helium in domain"
   ]
  },
  {
   "cell_type": "code",
   "execution_count": 74,
   "metadata": {
    "collapsed": false
   },
   "outputs": [
    {
     "data": {
      "text/plain": [
       "array([ 1.,  1.,  1.,  1.,  1.,  1.,  1.,  1.,  1.,  1.])"
      ]
     },
     "execution_count": 74,
     "metadata": {},
     "output_type": "execute_result"
    }
   ],
   "source": [
    "cHe[:10]+cC[:10] #check conservation"
   ]
  },
  {
   "cell_type": "markdown",
   "metadata": {},
   "source": [
    "##### Ionization Rate - Saha Equation"
   ]
  },
  {
   "cell_type": "code",
   "execution_count": 75,
   "metadata": {
    "collapsed": false
   },
   "outputs": [],
   "source": [
    "def saha_algorithm(temperature,density,concentration_s1, concentration_gas,\\\n",
    "                   ionization_energy_s1, ionization_energy_gas,\\\n",
    "                  mass_species1, mass_gas, electron_number_density):\n",
    "    ''' \n",
    "    Solve Set of Saha equations to obtain number densities\n",
    "    \n",
    "    Returns:\n",
    "    --------\n",
    "    1. number densities of ions, neutrals, and electrons\n",
    "    2. electron pressure\n",
    "    '''\n",
    "    #\n",
    "    T_el = temperature.copy()\n",
    "    ne_old = electron_number_density.copy()\n",
    "    #\n",
    "    rhox = density.copy()\n",
    "    #\n",
    "    concentration1 =concentration_s1.copy()\n",
    "    concentration2 = concentration_gas.copy()\n",
    "    #\n",
    "    #\n",
    "    E1 = ionization_energy_s1\n",
    "    Egas = ionization_energy_gas\n",
    "    #\n",
    "    M1 = mass_species1\n",
    "    Mg = mass_gas\n",
    "    #\n",
    "    nc1 = numpy.zeros_like(density)\n",
    "    nc1[:] = rhox[:]*concentration1[:]/M1\n",
    "    #\n",
    "    ngas = numpy.zeros_like(density)\n",
    "    ngas[:] = rhox[:]*concentration2[:]/Mg\n",
    "    #\n",
    "    SAHA_s1 = numpy.zeros_like(density)\n",
    "    d1c1 = numpy.zeros_like(density)\n",
    "    d1c1_old = numpy.zeros_like(density)\n",
    "    as1 = numpy.zeros_like(density)\n",
    "    bs1 = numpy.zeros_like(density)\n",
    "    cs1 = numpy.zeros_like(density)\n",
    "    d0c1 = numpy.zeros_like(density)\n",
    "    de_c1 = numpy.zeros_like(density)\n",
    "    s1_ions = numpy.zeros_like(density)\n",
    "    err1 = numpy.zeros_like(density)\n",
    "    #\n",
    "    SAHA_gas = numpy.zeros_like(density)\n",
    "    d1g = numpy.zeros_like(density)\n",
    "    d1g_old = numpy.zeros_like(density)\n",
    "    ag = numpy.zeros_like(density)\n",
    "    bg = numpy.zeros_like(density)\n",
    "    cg = numpy.zeros_like(density)\n",
    "    d0g = numpy.zeros_like(density)\n",
    "    de_g = numpy.zeros_like(density)\n",
    "    gas_ions = numpy.zeros_like(density)\n",
    "    errg = numpy.zeros_like(density)\n",
    "    ##\n",
    "    s1_neutrals = numpy.zeros_like(density)\n",
    "    gas_neutrals = numpy.zeros_like(density)\n",
    "    electrons = numpy.zeros_like(density)\n",
    "    P_electrons = numpy.zeros_like(density)\n",
    "    #\n",
    "    ions_total = numpy.zeros_like(density)\n",
    "    neutrals_total = numpy.zeros_like(density)\n",
    "    #\n",
    "    d1c1[:] = 0.0\n",
    "    d1g[:] = 0.0\n",
    "    #\n",
    "    err1[:] = 10.\n",
    "    errg[:] = 10.\n",
    "    #\n",
    "    d0c1[:] = 1.0\n",
    "    d0g[:] = 1.0\n",
    "    #\n",
    "    iterations = 0\n",
    "    itermax = 20000\n",
    "    itermax2 = itermax-10\n",
    "    tolerance = 1e-7\n",
    "    #\n",
    "    domain_size = density.size\n",
    "    #\n",
    "    for i in range(domain_size):\n",
    "        #\n",
    "        while ((err1[i] > tolerance) and (errg[i]>tolerance)):\n",
    "            #\n",
    "            #species 1\n",
    "            d1c1_old[i] = d1c1[i]\n",
    "            SAHA_s1[i] =  ( ( (2*numpy.pi*Cme*Ckb*T_el[i]) / (Ch**2) )**(3/2) ) *\\\n",
    "                     math.exp( (-E1) / (constants.k*T_el[i]))\n",
    "            as1[i] = nc1[i]\n",
    "            bs1[i] = ngas[i]*d1g[i] + SAHA_s1[i]\n",
    "            cs1[i] = - SAHA_s1[i]\n",
    "            d1c1[i] = (-bs1[i] + numpy.sqrt(bs1[i]**2 - 4*as1[i]*cs1[i]))/(2*as1[i])\n",
    "            #\n",
    "            d0c1[i] = 1. - d1c1[i]\n",
    "            de_c1[i] = d1c1[i]\n",
    "            #\n",
    "            s1_ions[i] = d1c1[i]*rhox[i]*concentration1[i]/M1\n",
    "            #\n",
    "            #-----------------------------------------------------------------\n",
    "            #gas\n",
    "            d1g_old[i] = d1g[i]\n",
    "            SAHA_gas[i] = ( ( (2*numpy.pi*Cme*Ckb*T_el[i]) / (Ch**2) )**(3/2) ) *\\\n",
    "                     math.exp( (-Egas) / (constants.k*T_el[i]))\n",
    "            ag[i] = ngas[i]\n",
    "            bg[i] = nc1[i]*d1c1[i] + SAHA_gas[i]\n",
    "            cg[i] = - SAHA_gas[i]\n",
    "            d1g[i]  = (-bg[i] + numpy.sqrt(bg[i]**2 - 4*ag[i]*cg[i]))/(2*ag[i])\n",
    "            #\n",
    "            d0g[i] = 1. - d1g[i]\n",
    "            de_g[i] = d1g[i]\n",
    "            #\n",
    "            gas_ions[i] = d1g[i]*rhox[i]*concentration_gas[i]/Mg\n",
    "            #-------------------------------------------------------------------\n",
    "            # electrons\n",
    "            electrons[i] = s1_ions[i] + gas_ions[i] #number density, enforce LTE\n",
    "            P_electrons[i] = (electrons[i]-ne_old[i])*Ckb*T_el[i]   #electron pressure\n",
    "            #--------------------------------------------------------------------\n",
    "            #neutrals\n",
    "            s1_neutrals[i] = d0c1[i]*rhox[i]*concentration1[i]/M1\n",
    "            gas_neutrals[i] = d0g[i]*rhox[i]*concentration_gas[i]/Mg\n",
    "            #\n",
    "            #--------------------------------------------------------------------\n",
    "            #totals\n",
    "            ions_total[i] = gas_ions[i] + s1_ions[i] \n",
    "            neutrals_total[i] = s1_neutrals[i] + gas_neutrals[i]\n",
    "            #----------------------------------------------------------------------\n",
    "            #bound for minimum number of electrons:\n",
    "            if (electrons[i]<ne_old[i]):\n",
    "                electrons[i] = ne_old[i]\n",
    "            if (ions_total[i]<ne_old[i]):\n",
    "                ions_total[i] = electrons[i]\n",
    "            #\n",
    "            #errors\n",
    "            err1[i] = numpy.abs(d1c1[i] - d1c1_old[i])\n",
    "            errg[i] = numpy.abs(d1g[i] - d1g_old[i])\n",
    "            #\n",
    "            iterations += 1\n",
    "        \n",
    "            if (iterations>itermax):\n",
    "                print('max iterations reached')\n",
    "                break\n",
    "            #\n",
    "    return electrons, P_electrons,\\\n",
    "            ions_total, neutrals_total"
   ]
  },
  {
   "cell_type": "code",
   "execution_count": 76,
   "metadata": {
    "collapsed": false
   },
   "outputs": [],
   "source": [
    "ne_field, pe,\\\n",
    "ni_field, no_field = saha_algorithm(Tn,rhon,cs1,\\\n",
    "                                         cg1,Ips1,Ipg1,M_C,M_He, ne0)"
   ]
  },
  {
   "cell_type": "code",
   "execution_count": 77,
   "metadata": {
    "collapsed": false
   },
   "outputs": [
    {
     "data": {
      "text/plain": [
       "array([ 1000000.,  1000000.,  1000000.,  1000000.,  1000000.,  1000000.,\n",
       "        1000000.,  1000000.,  1000000.,  1000000.,  1000000.,  1000000.,\n",
       "        1000000.,  1000000.,  1000000.,  1000000.,  1000000.,  1000000.,\n",
       "        1000000.,  1000000.,  1000000.,  1000000.,  1000000.,  1000000.,\n",
       "        1000000.,  1000000.,  1000000.,  1000000.,  1000000.,  1000000.,\n",
       "        1000000.,  1000000.,  1000000.,  1000000.,  1000000.,  1000000.,\n",
       "        1000000.,  1000000.,  1000000.,  1000000.,  1000000.,  1000000.,\n",
       "        1000000.,  1000000.,  1000000.,  1000000.,  1000000.,  1000000.,\n",
       "        1000000.,  1000000.,  1000000.,  1000000.,  1000000.,  1000000.,\n",
       "        1000000.,  1000000.,  1000000.,  1000000.,  1000000.,  1000000.,\n",
       "        1000000.,  1000000.,  1000000.,  1000000.,  1000000.,  1000000.,\n",
       "        1000000.,  1000000.,  1000000.,  1000000.,  1000000.,  1000000.,\n",
       "        1000000.,  1000000.,  1000000.,  1000000.,  1000000.,  1000000.,\n",
       "        1000000.,  1000000.,  1000000.,  1000000.,  1000000.,  1000000.,\n",
       "        1000000.,  1000000.,  1000000.,  1000000.,  1000000.,  1000000.,\n",
       "        1000000.,  1000000.,  1000000.,  1000000.,  1000000.,  1000000.,\n",
       "        1000000.,  1000000.,  1000000.,  1000000.,  1000000.,  1000000.,\n",
       "        1000000.,  1000000.,  1000000.,  1000000.,  1000000.,  1000000.,\n",
       "        1000000.,  1000000.,  1000000.,  1000000.,  1000000.,  1000000.,\n",
       "        1000000.,  1000000.,  1000000.,  1000000.,  1000000.,  1000000.,\n",
       "        1000000.,  1000000.])"
      ]
     },
     "execution_count": 77,
     "metadata": {},
     "output_type": "execute_result"
    }
   ],
   "source": [
    "ne_field"
   ]
  },
  {
   "cell_type": "code",
   "execution_count": 78,
   "metadata": {
    "collapsed": false
   },
   "outputs": [
    {
     "data": {
      "text/plain": [
       "122"
      ]
     },
     "execution_count": 78,
     "metadata": {},
     "output_type": "execute_result"
    }
   ],
   "source": [
    "ne_field.size"
   ]
  },
  {
   "cell_type": "code",
   "execution_count": 79,
   "metadata": {
    "collapsed": false
   },
   "outputs": [
    {
     "data": {
      "text/plain": [
       "array([ -4.38665675e-15,  -4.30352326e-15,  -4.30352326e-15,\n",
       "        -4.30352326e-15,  -4.30352326e-15,  -4.30352326e-15,\n",
       "        -4.30352326e-15,  -4.30352326e-15,  -4.30352326e-15,\n",
       "        -4.30352326e-15,  -4.30352326e-15,  -4.30352326e-15,\n",
       "        -4.30352326e-15,  -4.30352326e-15,  -4.30352326e-15,\n",
       "        -4.30352326e-15,  -4.30352326e-15,  -4.30352326e-15,\n",
       "        -4.30352326e-15,  -4.30352326e-15,  -4.30352326e-15,\n",
       "        -4.30352326e-15,  -4.30352326e-15,  -4.30352326e-15,\n",
       "        -4.30352326e-15,  -4.30352326e-15,  -4.30352326e-15,\n",
       "        -4.30352326e-15,  -4.30352326e-15,  -4.30352326e-15,\n",
       "        -4.30352326e-15,  -4.30352326e-15,  -4.30352326e-15,\n",
       "        -4.30352326e-15,  -4.30352326e-15,  -4.30352326e-15,\n",
       "        -4.30352326e-15,  -4.30352326e-15,  -4.30352326e-15,\n",
       "        -4.30352326e-15,  -4.30352326e-15,  -4.30352326e-15,\n",
       "        -4.30352326e-15,  -4.30352326e-15,  -4.30352326e-15,\n",
       "        -4.30352326e-15,  -4.30352326e-15,  -4.30352326e-15,\n",
       "        -4.30352326e-15,  -4.30352326e-15,  -4.30352326e-15,\n",
       "        -4.30352326e-15,  -4.30352326e-15,  -4.30352326e-15,\n",
       "        -4.30352326e-15,  -4.30352326e-15,  -4.30352326e-15,\n",
       "        -4.30352326e-15,  -4.30352326e-15,  -4.30352326e-15,\n",
       "        -4.30352326e-15,  -4.30352326e-15,  -4.30352326e-15,\n",
       "        -4.30352326e-15,  -4.30352326e-15,  -4.30352326e-15,\n",
       "        -4.30352326e-15,  -4.30352326e-15,  -4.30352326e-15,\n",
       "        -4.30352326e-15,  -4.30352326e-15,  -4.30352326e-15,\n",
       "        -4.30352326e-15,  -4.30352326e-15,  -4.30352326e-15,\n",
       "        -4.30352326e-15,  -4.30352326e-15,  -4.30352326e-15,\n",
       "        -4.30352326e-15,  -4.30352326e-15,  -4.30352326e-15,\n",
       "        -4.30352326e-15,  -4.30352326e-15,  -4.30352326e-15,\n",
       "        -4.30352326e-15,  -4.30352326e-15,  -4.30352326e-15,\n",
       "        -4.30352326e-15,  -4.30352326e-15,  -4.30352326e-15,\n",
       "        -4.30352326e-15,  -4.30352326e-15,  -4.30352326e-15,\n",
       "        -4.30352326e-15,  -4.30352326e-15,  -4.30352326e-15,\n",
       "        -4.30352326e-15,  -4.30352326e-15,  -4.30352326e-15,\n",
       "        -4.30352326e-15,  -4.30352326e-15,  -4.30352326e-15,\n",
       "        -4.30352326e-15,  -4.30352326e-15,  -4.30352326e-15,\n",
       "        -4.30352326e-15,  -4.30352326e-15,  -4.30352326e-15,\n",
       "        -4.30352326e-15,  -4.30352326e-15,  -4.30352326e-15,\n",
       "        -4.30352326e-15,  -4.30352326e-15,  -4.30352326e-15,\n",
       "        -4.30352326e-15,  -4.30352326e-15,  -4.30352326e-15,\n",
       "        -4.30352326e-15,  -4.30352326e-15,  -4.30352326e-15,\n",
       "        -4.30352326e-15,  -4.30352326e-15])"
      ]
     },
     "execution_count": 79,
     "metadata": {},
     "output_type": "execute_result"
    }
   ],
   "source": [
    "pe"
   ]
  },
  {
   "cell_type": "code",
   "execution_count": 80,
   "metadata": {
    "collapsed": true
   },
   "outputs": [],
   "source": [
    "pe_ref = pe"
   ]
  },
  {
   "cell_type": "code",
   "execution_count": 81,
   "metadata": {
    "collapsed": false
   },
   "outputs": [
    {
     "data": {
      "text/plain": [
       "122"
      ]
     },
     "execution_count": 81,
     "metadata": {},
     "output_type": "execute_result"
    }
   ],
   "source": [
    "pe.size"
   ]
  },
  {
   "cell_type": "code",
   "execution_count": 82,
   "metadata": {
    "collapsed": false
   },
   "outputs": [
    {
     "data": {
      "text/plain": [
       "array([  8.23025976e+24,   2.46907793e+25,   2.46907793e+25,\n",
       "         2.46907793e+25,   2.46907793e+25,   2.46907793e+25,\n",
       "         2.46907793e+25,   2.46907793e+25,   2.46907793e+25,\n",
       "         2.46907793e+25,   2.46907793e+25,   2.46907793e+25,\n",
       "         2.46907793e+25,   2.46907793e+25,   2.46907793e+25,\n",
       "         2.46907793e+25,   2.46907793e+25,   2.46907793e+25,\n",
       "         2.46907793e+25,   2.46907793e+25,   2.46907793e+25,\n",
       "         2.46907793e+25,   2.46907793e+25,   2.46907793e+25,\n",
       "         2.46907793e+25,   2.46907793e+25,   2.46907793e+25,\n",
       "         2.46907793e+25,   2.46907793e+25,   2.46907793e+25,\n",
       "         2.46907793e+25,   2.46907793e+25,   2.46907793e+25,\n",
       "         2.46907793e+25,   2.46907793e+25,   2.46907793e+25,\n",
       "         2.46907793e+25,   2.46907793e+25,   2.46907793e+25,\n",
       "         2.46907793e+25,   2.46907793e+25,   2.46907793e+25,\n",
       "         2.46907793e+25,   2.46907793e+25,   2.46907793e+25,\n",
       "         2.46907793e+25,   2.46907793e+25,   2.46907793e+25,\n",
       "         2.46907793e+25,   2.46907793e+25,   2.46907793e+25,\n",
       "         2.46907793e+25,   2.46907793e+25,   2.46907793e+25,\n",
       "         2.46907793e+25,   2.46907793e+25,   2.46907793e+25,\n",
       "         2.46907793e+25,   2.46907793e+25,   2.46907793e+25,\n",
       "         2.46907793e+25,   2.46907793e+25,   2.46907793e+25,\n",
       "         2.46907793e+25,   2.46907793e+25,   2.46907793e+25,\n",
       "         2.46907793e+25,   2.46907793e+25,   2.46907793e+25,\n",
       "         2.46907793e+25,   2.46907793e+25,   2.46907793e+25,\n",
       "         2.46907793e+25,   2.46907793e+25,   2.46907793e+25,\n",
       "         2.46907793e+25,   2.46907793e+25,   2.46907793e+25,\n",
       "         2.46907793e+25,   2.46907793e+25,   2.46907793e+25,\n",
       "         2.46907793e+25,   2.46907793e+25,   2.46907793e+25,\n",
       "         2.46907793e+25,   2.46907793e+25,   2.46907793e+25,\n",
       "         2.46907793e+25,   2.46907793e+25,   2.46907793e+25,\n",
       "         2.46907793e+25,   2.46907793e+25,   2.46907793e+25,\n",
       "         2.46907793e+25,   2.46907793e+25,   2.46907793e+25,\n",
       "         2.46907793e+25,   2.46907793e+25,   2.46907793e+25,\n",
       "         2.46907793e+25,   2.46907793e+25,   2.46907793e+25,\n",
       "         2.46907793e+25,   2.46907793e+25,   2.46907793e+25,\n",
       "         2.46907793e+25,   2.46907793e+25,   2.46907793e+25,\n",
       "         2.46907793e+25,   2.46907793e+25,   2.46907793e+25,\n",
       "         2.46907793e+25,   2.46907793e+25,   2.46907793e+25,\n",
       "         2.46907793e+25,   2.46907793e+25,   2.46907793e+25,\n",
       "         2.46907793e+25,   2.46907793e+25,   2.46907793e+25,\n",
       "         2.46907793e+25,   2.46907793e+25])"
      ]
     },
     "execution_count": 82,
     "metadata": {},
     "output_type": "execute_result"
    }
   ],
   "source": [
    "no_field"
   ]
  },
  {
   "cell_type": "code",
   "execution_count": 83,
   "metadata": {
    "collapsed": false
   },
   "outputs": [
    {
     "data": {
      "text/plain": [
       "array([ 1000000.,  1000000.,  1000000.,  1000000.,  1000000.,  1000000.,\n",
       "        1000000.,  1000000.,  1000000.,  1000000.,  1000000.,  1000000.,\n",
       "        1000000.,  1000000.,  1000000.,  1000000.,  1000000.,  1000000.,\n",
       "        1000000.,  1000000.,  1000000.,  1000000.,  1000000.,  1000000.,\n",
       "        1000000.,  1000000.,  1000000.,  1000000.,  1000000.,  1000000.,\n",
       "        1000000.,  1000000.,  1000000.,  1000000.,  1000000.,  1000000.,\n",
       "        1000000.,  1000000.,  1000000.,  1000000.,  1000000.,  1000000.,\n",
       "        1000000.,  1000000.,  1000000.,  1000000.,  1000000.,  1000000.,\n",
       "        1000000.,  1000000.,  1000000.,  1000000.,  1000000.,  1000000.,\n",
       "        1000000.,  1000000.,  1000000.,  1000000.,  1000000.,  1000000.,\n",
       "        1000000.,  1000000.,  1000000.,  1000000.,  1000000.,  1000000.,\n",
       "        1000000.,  1000000.,  1000000.,  1000000.,  1000000.,  1000000.,\n",
       "        1000000.,  1000000.,  1000000.,  1000000.,  1000000.,  1000000.,\n",
       "        1000000.,  1000000.,  1000000.,  1000000.,  1000000.,  1000000.,\n",
       "        1000000.,  1000000.,  1000000.,  1000000.,  1000000.,  1000000.,\n",
       "        1000000.,  1000000.,  1000000.,  1000000.,  1000000.,  1000000.,\n",
       "        1000000.,  1000000.,  1000000.,  1000000.,  1000000.,  1000000.,\n",
       "        1000000.,  1000000.,  1000000.,  1000000.,  1000000.,  1000000.,\n",
       "        1000000.,  1000000.,  1000000.,  1000000.,  1000000.,  1000000.,\n",
       "        1000000.,  1000000.,  1000000.,  1000000.,  1000000.,  1000000.,\n",
       "        1000000.,  1000000.])"
      ]
     },
     "execution_count": 83,
     "metadata": {},
     "output_type": "execute_result"
    }
   ],
   "source": [
    "ni_field"
   ]
  },
  {
   "cell_type": "markdown",
   "metadata": {},
   "source": [
    "##### Update Pressure"
   ]
  },
  {
   "cell_type": "markdown",
   "metadata": {},
   "source": [
    "## We have obtained heavy particle pressure from the fractional step method, we need to add pressure from electrons"
   ]
  },
  {
   "cell_type": "code",
   "execution_count": 84,
   "metadata": {
    "collapsed": true
   },
   "outputs": [],
   "source": [
    "def get_total_pressure(pressure, electron_pressure):\n",
    "    '''\n",
    "    Add heavy particle pressure with electron pressure\n",
    "    '''\n",
    "    p_current = pressure.copy()\n",
    "    p_electron = electron_pressure.copy()\n",
    "    #\n",
    "    p_total = numpy.zeros_like(pressure)\n",
    "    #\n",
    "    p_total[:] = p_current[:] + p_electron[:]\n",
    "    #\n",
    "    return p_total"
   ]
  },
  {
   "cell_type": "code",
   "execution_count": 85,
   "metadata": {
    "collapsed": false
   },
   "outputs": [],
   "source": [
    "ptn = get_total_pressure(p0.copy(), pe.copy())"
   ]
  },
  {
   "cell_type": "code",
   "execution_count": 86,
   "metadata": {
    "collapsed": false
   },
   "outputs": [
    {
     "data": {
      "text/plain": [
       "array([ 102195.72168305,  102195.72168305,  102195.72168305,\n",
       "        102195.72168305,  102195.72168305,  102195.72168305,\n",
       "        102195.72168305,  102195.72168305,  102195.72168305,\n",
       "        102195.72168305,  102195.72168305,  102195.72168305,\n",
       "        102195.72168305,  102195.72168305,  102195.72168305,\n",
       "        102195.72168305,  102195.72168305,  102195.72168305,\n",
       "        102195.72168305,  102195.72168305,  102195.72168305,\n",
       "        102195.72168305,  102195.72168305,  102195.72168305,\n",
       "        102195.72168305,  102195.72168305,  102195.72168305,\n",
       "        102195.72168305,  102195.72168305,  102195.72168305,\n",
       "        102195.72168305,  102195.72168305,  102195.72168305,\n",
       "        102195.72168305,  102195.72168305,  102195.72168305,\n",
       "        102195.72168305,  102195.72168305,  102195.72168305,\n",
       "        102195.72168305,  102195.72168305,  102195.72168305,\n",
       "        102195.72168305,  102195.72168305,  102195.72168305,\n",
       "        102195.72168305,  102195.72168305,  102195.72168305,\n",
       "        102195.72168305,  102195.72168305,  102195.72168305,\n",
       "        102195.72168305,  102195.72168305,  102195.72168305,\n",
       "        102195.72168305,  102195.72168305,  102195.72168305,\n",
       "        102195.72168305,  102195.72168305,  102195.72168305,\n",
       "        102195.72168305,  102195.72168305,  102195.72168305,\n",
       "        102195.72168305,  102195.72168305,  102195.72168305,\n",
       "        102195.72168305,  102195.72168305,  102195.72168305,\n",
       "        102195.72168305,  102195.72168305,  102195.72168305,\n",
       "        102195.72168305,  102195.72168305,  102195.72168305,\n",
       "        102195.72168305,  102195.72168305,  102195.72168305,\n",
       "        102195.72168305,  102195.72168305,  102195.72168305,\n",
       "        102195.72168305,  102195.72168305,  102195.72168305,\n",
       "        102195.72168305,  102195.72168305,  102195.72168305,\n",
       "        102195.72168305,  102195.72168305,  102195.72168305,\n",
       "        102195.72168305,  102195.72168305,  102195.72168305,\n",
       "        102195.72168305,  102195.72168305,  102195.72168305,\n",
       "        102195.72168305,  102195.72168305,  102195.72168305,\n",
       "        102195.72168305,  102195.72168305,  102195.72168305,\n",
       "        102195.72168305,  102195.72168305,  102195.72168305,\n",
       "        102195.72168305,  102195.72168305,  102195.72168305,\n",
       "        102195.72168305,  102195.72168305,  102195.72168305,\n",
       "        102195.72168305,  102195.72168305,  102195.72168305,\n",
       "        102195.72168305,  102195.72168305,  102195.72168305,\n",
       "        102195.72168305,  102195.72168305,  102195.72168305,\n",
       "        102195.72168305,  102195.72168305])"
      ]
     },
     "execution_count": 86,
     "metadata": {},
     "output_type": "execute_result"
    }
   ],
   "source": [
    "ptn[:]"
   ]
  },
  {
   "cell_type": "code",
   "execution_count": 87,
   "metadata": {
    "collapsed": true
   },
   "outputs": [],
   "source": [
    "pref2 = ptn.copy()"
   ]
  },
  {
   "cell_type": "markdown",
   "metadata": {},
   "source": [
    "## Initially then, there is little ionization because the initialized temperature is not high enough to sublimate too much material from the anode"
   ]
  },
  {
   "cell_type": "markdown",
   "metadata": {},
   "source": [
    "##### Update Electrical Conductivity"
   ]
  },
  {
   "cell_type": "code",
   "execution_count": 88,
   "metadata": {
    "collapsed": true
   },
   "outputs": [],
   "source": [
    "time = 0 + dt #time n = 1"
   ]
  },
  {
   "cell_type": "code",
   "execution_count": 89,
   "metadata": {
    "collapsed": false
   },
   "outputs": [],
   "source": [
    "def get_electrical_conductivity(temperature, electrical_conductivity, density_mixture,\\\n",
    "                            electron_number_density, neutral_number_density,\\\n",
    "                               reference_temperature,time):\n",
    "    ''' \n",
    "    Obtain electrical conductivity based on the chapmann-enskog equation\n",
    "    \n",
    "    Parameters:\n",
    "    ------\n",
    "    temperature: temperature obtained from energy equation\n",
    "    electrical_conductivity:\n",
    "    \n",
    "    Return:\n",
    "    -------\n",
    "    e_cond: electrical conductivitiy\n",
    "    '''\n",
    "    a = numpy.size(electrical_conductivity)\n",
    "    Qm = numpy.zeros((a),dtype=float)\n",
    "    #\n",
    "    na = neutral_number_density.copy()\n",
    "    ne = electron_number_density.copy()\n",
    "    #\n",
    "    T = temperature.copy()\n",
    "    Tref = reference_temperature.copy()\n",
    "    #\n",
    "    rho_mix = density_mixture.copy()\n",
    "    #\n",
    "    #momentum transfer cross section:\n",
    "    r1 = 5.25\n",
    "    r2 = 7.0\n",
    "    Qm[1:-1] = ((r1 + (r2-r1)*(T[1:-1]-Tref[1:-1])/(11604.*(1.74-0.01)))*1e-16)*1e-4\n",
    "    Qm[0] = Qm[1]\n",
    "    Qm[-1] = Qm[-2]\n",
    "    #Qm[:] = 40e-20\n",
    "    #\n",
    "    #electron-neutral collision\n",
    "    v_e_a = numpy.zeros((a),dtype=float)\n",
    "    v_e_a[1:-1] = (4./3.)*Qm[1:-1]*(na[1:-1])*\\\n",
    "                    numpy.sqrt((8.*Ckb*T[1:-1]) /(numpy.pi*Cme))\n",
    "    v_e_a[0] = v_e_a[1]\n",
    "    v_e_a[-1] = v_e_a[-2]\n",
    "    #electron-ion collision\n",
    "    v_e_i = numpy.zeros((a),dtype=float)\n",
    "    lnA = numpy.zeros((a),dtype=float)\n",
    "    ke = numpy.zeros((a),dtype=float)\n",
    "    #\n",
    "    ke[1:-1] = numpy.sqrt((4.*numpy.pi*ne[1:-1]*Ce**2)/(Ckb*T[1:-1]))\n",
    "    ke[0] = ke[1]\n",
    "    ke[-1] = ke[-2]\n",
    "    gam = numpy.exp(0.577)\n",
    "    lnA[:] = numpy.log(4*Ckb*T[:]/(ke[:]*(Ce**2)*(gam**2))) -\\\n",
    "                2*numpy.log(numpy.sqrt(2.))\n",
    "    #\n",
    "    v_e_i[1:-1] = lnA[1:-1]*(4./3.)*(numpy.sqrt(2*numpy.pi))*ne[1:-1]*\\\n",
    "                    numpy.sqrt((Ckb*T[1:-1])/Cme)*\\\n",
    "                    (Ce**2/(Ckb*T[1:-1]))**2\n",
    "    v_e_i[0] = v_e_i[1]\n",
    "    v_e_i[-1] = v_e_i[-2]\n",
    "    #electrical conductivity\n",
    "    e_cond =  numpy.zeros((a),dtype=float)\n",
    "    econd_anode = 1e5\n",
    "    econd_min = 2.0\n",
    "    econd_max = 1e5\n",
    "    e_cond_real =  numpy.zeros((a),dtype=float)\n",
    "    #\n",
    "    e_cond[1:-1] = ((Ce**2)/Cme)*(ne[1:-1]/(v_e_i[1:-1]+v_e_a[1:-1]))\n",
    "    #\n",
    "    e_cond_real[1:-1] = e_cond[1:-1]\n",
    "    e_cond_real[0] = e_cond_real[1]\n",
    "    e_cond_real[-1] = e_cond_real[-2]\n",
    "    #\n",
    "    for i in range(1,a-1):\n",
    "        #e_cond_low = econd_min  + (I_arc-econd_min)*numpy.exp(-time*0.5)\n",
    "        e_cond_low = I_arc\n",
    "        if (e_cond[i] < e_cond_low):\n",
    "            e_cond[i] = e_cond_low\n",
    "        elif(e_cond[i] > econd_max):\n",
    "            e_cond[i] = econd_max\n",
    "        else:\n",
    "            e_cond[i] = e_cond_real[i]\n",
    "    #\n",
    "    e_cond[0] = e_cond[1]\n",
    "    e_cond[-1] = e_cond[-2]\n",
    "    #\n",
    "    return e_cond, e_cond_real"
   ]
  },
  {
   "cell_type": "code",
   "execution_count": 90,
   "metadata": {
    "collapsed": false
   },
   "outputs": [],
   "source": [
    "econd, econdreal = get_electrical_conductivity(Tn, econd0, rhon, ne_field,\\\n",
    "                                               no_field, Tref,time)"
   ]
  },
  {
   "cell_type": "code",
   "execution_count": 91,
   "metadata": {
    "collapsed": false
   },
   "outputs": [
    {
     "data": {
      "text/plain": [
       "array([ 10.,  10.,  10.,  10.,  10.,  10.,  10.,  10.,  10.,  10.])"
      ]
     },
     "execution_count": 91,
     "metadata": {},
     "output_type": "execute_result"
    }
   ],
   "source": [
    "econd[:10] #electrical conductivity {S/m}"
   ]
  },
  {
   "cell_type": "code",
   "execution_count": 92,
   "metadata": {
    "collapsed": false
   },
   "outputs": [
    {
     "data": {
      "text/plain": [
       "array([  1.48619883e-13,   1.48619883e-13,   1.48619883e-13,\n",
       "         1.48619883e-13,   1.48619883e-13,   1.48619883e-13,\n",
       "         1.48619883e-13,   1.48619883e-13,   1.48619883e-13,\n",
       "         1.48619883e-13])"
      ]
     },
     "execution_count": 92,
     "metadata": {},
     "output_type": "execute_result"
    }
   ],
   "source": [
    "econdreal[:10]"
   ]
  },
  {
   "cell_type": "markdown",
   "metadata": {},
   "source": [
    "## Note that this value of electrical conductivity is set to the lower limit in this iteration because the computed value came out to be tiny {S/m}. This value should self adjust as the number densities change."
   ]
  },
  {
   "cell_type": "markdown",
   "metadata": {},
   "source": [
    "##### update specific heat"
   ]
  },
  {
   "cell_type": "code",
   "execution_count": 93,
   "metadata": {
    "collapsed": true
   },
   "outputs": [],
   "source": [
    "def get_specific_heat(temperature, concentration1, concentration2,\\\n",
    "                      reference_temperature):\n",
    "    '''\n",
    "    \n",
    "    '''\n",
    "    Tx = temperature.copy()\n",
    "    Tref = reference_temperature.copy()\n",
    "    #\n",
    "    cp_c = numpy.zeros_like(temperature)\n",
    "    c1= concentration1.copy()\n",
    "    #\n",
    "    cp_he = numpy.zeros_like(temperature)\n",
    "    c2 = concentration2.copy()\n",
    "    #\n",
    "    cp_total = numpy.zeros_like(temperature)\n",
    "    #\n",
    "    cp_c[:] = 2100.0 + 0.1*(Tx[:]-Tref[:])\n",
    "    cp_he[:] = 7.3489e-17*(Tx[:]**5) - 1.201e-12*(Tx[:]**4) - 7.448e-10*(Tx[:]**3) +\\\n",
    "                8.6509e-5*(Tx[:]**2) - 0.34052*Tx[:] + 5351.7\n",
    "    cp_total[:] = c1[:]*cp_c[:] + c2[:]*cp_he\n",
    "    #\n",
    "    return cp_total"
   ]
  },
  {
   "cell_type": "code",
   "execution_count": 94,
   "metadata": {
    "collapsed": false
   },
   "outputs": [],
   "source": [
    "cp_total = get_specific_heat(Tn, cs1, cg1, Tref)"
   ]
  },
  {
   "cell_type": "code",
   "execution_count": 95,
   "metadata": {
    "collapsed": false
   },
   "outputs": [
    {
     "data": {
      "text/plain": [
       "array([ 2101.77243013,  5253.93033442,  5253.93033442,  5253.93033442,\n",
       "        5253.93033442,  5253.93033442,  5253.93033442,  5253.93033442,\n",
       "        5253.93033442,  5253.93033442])"
      ]
     },
     "execution_count": 95,
     "metadata": {},
     "output_type": "execute_result"
    }
   ],
   "source": [
    "cp_total[:10]"
   ]
  },
  {
   "cell_type": "code",
   "execution_count": 96,
   "metadata": {
    "collapsed": true
   },
   "outputs": [],
   "source": [
    "jn = j0.copy() #assume constant current throughout"
   ]
  },
  {
   "cell_type": "code",
   "execution_count": 97,
   "metadata": {
    "collapsed": true
   },
   "outputs": [],
   "source": [
    "def temperature_bc(temperature, electron_density, delx, anode_current_density,\\\n",
    "                   cathode_current_density, ablation_rate):\n",
    "    ''' Obtains boundary temperature\n",
    "    \n",
    "    if -k dT/dx = 0,\n",
    "    \n",
    "    T_{an}^{n} = (qa - dH*ABL)/(cp*ABL) + T_{an}^{n-1}\n",
    "    \n",
    "    Returns:\n",
    "    --------\n",
    "    teemperature with boundary conditions\n",
    "    '''\n",
    "    #\n",
    "    Tbc = temperature.copy()\n",
    "    anode_temperature = Tbc[0]\n",
    "    electron_temperature = Tbc[1]\n",
    "    electron_temperature_cathode = Tbc[-2]\n",
    "    #\n",
    "    conductivity_cathode = 10.\n",
    "    conductivity_anode = 10.\n",
    "    #\n",
    "    phi_C_eV = anode_workfunction #work function of carbon\n",
    "    Uiz = 11.2603 # ionization energy carbon eV\n",
    "    #--------------------ANODE REGION-------------------------------------------#\n",
    "    #temperature of oncoming electrons\n",
    "    Tev_an = electron_temperature/(11604.52500617)\n",
    "    #random electron current density\n",
    "    jth = 0.25*Ce*(electron_density)*(numpy.sqrt((8*Ce*Tev_an)/(numpy.pi*Cme)))\n",
    "    #anode sheath drop\n",
    "    Ua_eV = - Tev_an*numpy.log(jth/anode_current_density)\n",
    "    #anode heat flux\n",
    "    qa = anode_current_density*(2*Tev_an+ phi_C_eV + Ua_eV)\n",
    "    #\n",
    "    #anode_temperature<2000\n",
    "    if (ablation_rate<1e-6):\n",
    "        Tbc[0] = electron_temperature + (qa*delx)/conductivity_anode\n",
    "    else:\n",
    "        Tbc[0] = (1./(1. + (delx*ablation_rate*cp_C)/conductivity_anode))*\\\n",
    "                (electron_temperature +\\\n",
    "                (delx/conductivity_anode)*(qa +\\\n",
    "                ablation_rate*(anode_temperature*cp_C - dH2_C)) )\n",
    "    #--------------------Cathode REGION-------------------------------------------#\n",
    "    Tev_cath = electron_temperature_cathode/(11604.52500617)\n",
    "    je = CA*(Tev_cath**2)*numpy.exp(-phi_C_eV /(Ckb*Tev_cath)) \n",
    "    qc = cathode_current_density*(Uiz + phi_C_eV) - je*phi_C_eV\n",
    "    #\n",
    "    Tbc[-1] = -(delx*qc)/(conductivity_cathode) + electron_temperature_cathode\n",
    "    #\n",
    "    return Tbc\n"
   ]
  },
  {
   "cell_type": "markdown",
   "metadata": {},
   "source": [
    "##### update enthalpy for energy equation"
   ]
  },
  {
   "cell_type": "code",
   "execution_count": 98,
   "metadata": {
    "collapsed": true
   },
   "outputs": [],
   "source": [
    "def get_enthalpy(specific_heat, temperature,reference_temperature):\n",
    "    ''' computes dH delta enthalpy based on specific heat and temperature field\n",
    "    \n",
    "    Returns:\n",
    "    --------\n",
    "    enthalpy change in the system\n",
    "    '''\n",
    "    #\n",
    "    cpx = specific_heat.copy()\n",
    "    #\n",
    "    Tref = reference_temperature.copy()\n",
    "    dhx = numpy.zeros_like(temperature)\n",
    "    #\n",
    "    cpx = specific_heat.copy()\n",
    "    Tx = temperature.copy()\n",
    "    #\n",
    "    dhx[:] = cpx[:]*(Tx[:]-Tref[:])\n",
    "    dhx[0] = dhx[1]\n",
    "    #\n",
    "    return dhx"
   ]
  },
  {
   "cell_type": "code",
   "execution_count": 99,
   "metadata": {
    "collapsed": true
   },
   "outputs": [],
   "source": [
    "hn = get_enthalpy(cp_total, Tn, Tref)"
   ]
  },
  {
   "cell_type": "code",
   "execution_count": 100,
   "metadata": {
    "collapsed": false
   },
   "outputs": [
    {
     "data": {
      "text/plain": [
       "array([ 61486.56705891,  61486.56705891,  61486.56705891,  61486.56705891,\n",
       "        61486.56705891,  61486.56705891,  61486.56705891,  61486.56705891,\n",
       "        61486.56705891,  61486.56705891])"
      ]
     },
     "execution_count": 100,
     "metadata": {},
     "output_type": "execute_result"
    }
   ],
   "source": [
    "hn[:10]"
   ]
  },
  {
   "cell_type": "markdown",
   "metadata": {},
   "source": [
    "### close the cycle and calculate temperature\n",
    "\n",
    "##### these values are for n = 2"
   ]
  },
  {
   "cell_type": "code",
   "execution_count": 101,
   "metadata": {
    "collapsed": false
   },
   "outputs": [],
   "source": [
    "def get_energy(density, pressure, velocity, current_density, thermal_conductivity,\\\n",
    "               electrical_conductivity, specific_heat, delx, delt, reference_pressure,\\\n",
    "              enthalpy, reference_temperature, ablation_rate, electron_density_anode):\n",
    "    ''' \n",
    "    Defines energy based on computed values, \n",
    "                                includes Joule Heating, Heat Flux, DP/Dt, d(puh)/dx\n",
    "    Note that this actually solves for (rho*h), so \n",
    "                                                        h = (rho*h)\\rho\n",
    "    Then we can solve for temperature,\n",
    "                                        T^{n+1} = dh/cp + T_{ref}\n",
    "    \n",
    "    Returns:\n",
    "    --------\n",
    "    Temperature at next time step\n",
    "    '''\n",
    "    T_ref = reference_temperature.copy()\n",
    "    #\n",
    "    Hflux = numpy.zeros_like(enthalpy) #heat flux\n",
    "    Jflux = numpy.zeros_like(enthalpy) #joule heating\n",
    "    Pflux = numpy.zeros_like(enthalpy) # pressure flux\n",
    "    Mflux  = numpy.zeros_like(enthalpy) #momentum flux\n",
    "    #\n",
    "    rhoh = numpy.zeros_like(enthalpy) #density*enthalpy\n",
    "    dTemp = numpy.zeros_like(enthalpy) # delta Temp\n",
    "    h_new = numpy.zeros_like(enthalpy) #enthalpy\n",
    "    T_new = reference_temperature.copy() #temperature\n",
    "    #\n",
    "    ux = velocity.copy()\n",
    "    ux_int = numpy.zeros_like(enthalpy) #interpolated velocities\n",
    "    ux_int[:] = 0.5*(ux[1:]+ux[:-1])\n",
    "    \n",
    "    P_ref = reference_pressure.copy()\n",
    "    Px = pressure.copy()\n",
    "    hx = enthalpy.copy()\n",
    "    rhox = density.copy()\n",
    "    kx = thermal_conductivity.copy()\n",
    "    cpx = specific_heat.copy()\n",
    "    #\n",
    "    dTemp[:] = hx[:]/cpx[:] #enthalpy/specific_heat = delta Temp\n",
    "    econd = electrical_conductivity.copy()\n",
    "    jx = current_density.copy()\n",
    "    # joule heating flux\n",
    "    Jflux[1:-1] = delt*((jx[1:-1]**2)/econd[1:-1])+\\\n",
    "                    delt*((5./2.)*Ckb/Ce)*(jx[1:-1])*\\\n",
    "                    (0.5/delx)*(dTemp[2:] - dTemp[:-2])\n",
    "    # conductive heat flux\n",
    "    Hflux[1:-1] = delt*(kx[1:-1]/(delx**2))*(dTemp[2:] - 2*dTemp[1:-1] + dTemp[:-2]) \n",
    "    # pressure flux\n",
    "    Pflux[1:-1] = (Px[1:-1]-P_ref[1:-1]) +\\\n",
    "                    (0.5*delt/delx)*(Px[2:]-Px[:-2])*ux_int[1:-1]\n",
    "    # convective heat flux, or momentum flux\n",
    "    Mflux[1:-1] = - (0.5*delt/delx)*\\\n",
    "                  (rhox[2:]*ux_int[2:]*hx[2:] -rhox[:-2]*ux_int[:-2]*hx[:-2])\n",
    "    #\n",
    "    rhoh[1:-1] = rhox[1:-1]*hx[1:-1] + Mflux[1:-1] + Pflux[1:-1] +\\\n",
    "                                                            Hflux[1:-1] + Jflux[1:-1]\n",
    "    #\n",
    "    h_new[1:-1] = rhoh[1:-1]/(rhox[1:-1])\n",
    "    h_new[0] = h_new[1]\n",
    "    h_new[-1] = h_new[-2]\n",
    "    #------------------------------------------------\n",
    "    # new temperature values\n",
    "    T_new[1:-1] = ((h_new[1:-1]-hx[1:-1])/cpx[1:-1]) + T_ref[1:-1]\n",
    "    #temperature boundary conditions\n",
    "    T_new = temperature_bc(T_new, electron_density_anode,\\\n",
    "                                            delx, jx[0], jx[-1], ablation_rate)\n",
    "    return T_new\n",
    "    "
   ]
  },
  {
   "cell_type": "code",
   "execution_count": 102,
   "metadata": {
    "collapsed": false
   },
   "outputs": [],
   "source": [
    "#%%timeit\n",
    "Tn = get_energy(rhon, ptn, uxn, jn, kn,\\\n",
    "                econd, cp_total, dx, dt, pref2, hn, Tref2, ABL, ne_field[1])"
   ]
  },
  {
   "cell_type": "code",
   "execution_count": 103,
   "metadata": {
    "collapsed": false,
    "scrolled": false
   },
   "outputs": [
    {
     "data": {
      "text/plain": [
       "array([ 332.17446237,  326.10949049,  323.27466613,  323.27466613,\n",
       "        323.27466613,  323.27466613,  323.27466613,  323.27466613,\n",
       "        323.27466613,  323.27466613,  323.27466613,  323.27466613,\n",
       "        323.27466613,  323.27466613,  323.27466613,  323.27466613,\n",
       "        323.27466613,  323.27466613,  323.27466613,  323.27466613,\n",
       "        323.27466613,  323.27466613,  323.27466613,  323.27466613,\n",
       "        323.27466613,  323.27466613,  323.27466613,  323.27466613,\n",
       "        323.27466613,  323.27466613,  323.27466613,  323.27466613,\n",
       "        323.27466613,  323.27466613,  323.27466613,  323.27466613,\n",
       "        323.27466613,  323.27466613,  323.27466613,  323.27466613,\n",
       "        323.27466613,  323.27466613,  323.27466613,  323.27466613,\n",
       "        323.27466613,  323.27466613,  323.27466613,  323.27466613,\n",
       "        323.27466613,  323.27466613,  323.27466613,  323.27466613,\n",
       "        323.27466613,  323.27466613,  323.27466613,  323.27466613,\n",
       "        323.27466613,  323.27466613,  323.27466613,  323.27466613,\n",
       "        323.27466613,  323.27466613,  323.27466613,  323.27466613,\n",
       "        323.27466613,  323.27466613,  323.27466613,  323.27466613,\n",
       "        323.27466613,  323.27466613,  323.27466613,  323.27466613,\n",
       "        323.27466613,  323.27466613,  323.27466613,  323.27466613,\n",
       "        323.27466613,  323.27466613,  323.27466613,  323.27466613,\n",
       "        323.27466613,  323.27466613,  323.27466613,  323.27466613,\n",
       "        323.27466613,  323.27466613,  323.27466613,  323.27466613,\n",
       "        323.27466613,  323.27466613,  323.27466613,  323.27466613,\n",
       "        323.27466613,  323.27466613,  323.27466613,  323.27466613,\n",
       "        323.27466613,  323.27466613,  323.27466613,  323.27466613,\n",
       "        323.27466613,  323.27466613,  323.27466613,  323.27466613,\n",
       "        323.27466613,  323.27466613,  323.27466613,  323.27466613,\n",
       "        323.27466613,  323.27466613,  323.27466613,  323.27466613,\n",
       "        323.27466613,  323.27466613,  323.27466613,  323.27466613,\n",
       "        323.27466613,  323.27466613,  323.27466613,  323.27466613,\n",
       "        323.27466613,  306.35992337])"
      ]
     },
     "execution_count": 103,
     "metadata": {},
     "output_type": "execute_result"
    }
   ],
   "source": [
    "Tn #updated temperature, kelvin"
   ]
  },
  {
   "cell_type": "code",
   "execution_count": 104,
   "metadata": {
    "collapsed": false
   },
   "outputs": [
    {
     "data": {
      "text/plain": [
       "array([ 14.4501611 ,  14.40652469,  11.57170033,  11.57170033,\n",
       "        11.57170033,  11.57170033,  11.57170033,  11.57170033,\n",
       "        11.57170033,  11.57170033])"
      ]
     },
     "execution_count": 104,
     "metadata": {},
     "output_type": "execute_result"
    }
   ],
   "source": [
    "Tn[:10] - Tref2[:10] # temperature change in this time step"
   ]
  },
  {
   "cell_type": "code",
   "execution_count": 105,
   "metadata": {
    "collapsed": true
   },
   "outputs": [],
   "source": [
    "Tref3 = Tn.copy() "
   ]
  },
  {
   "cell_type": "markdown",
   "metadata": {
    "collapsed": true
   },
   "source": [
    "# Main Algorithm"
   ]
  },
  {
   "cell_type": "code",
   "execution_count": 106,
   "metadata": {
    "collapsed": true
   },
   "outputs": [],
   "source": [
    "def get_adaptive_time_step(velocity_maximum, delx):\n",
    "    ''' Adaptive time step\n",
    "    '''\n",
    "    ux_max = velocity_maximum\n",
    "    CFL_max = 0.1\n",
    "    ca = 500. #max speed limit set by me!\n",
    "    dt_lim = (CFL_max*delx)/ca\n",
    "    #\n",
    "    dt_max = (CFL_max*delx)/ux_max\n",
    "    #\n",
    "    if (dt_max>dt_lim):\n",
    "        dt_max = dt_lim\n",
    "    #\n",
    "    return dt_max"
   ]
  },
  {
   "cell_type": "code",
   "execution_count": 107,
   "metadata": {
    "collapsed": false
   },
   "outputs": [],
   "source": [
    "def get_solution(temperature, velocity, heavy_pressure,total_pressure,\\\n",
    "                 density, concentration1, concentration2, electrical_conductivity,\\\n",
    "                 current_density, reference_pressure, reference_temperature,\\\n",
    "                 delx, delt_fixed, reference_number_density,\\\n",
    "                 electric_potential,electron_pressure):\n",
    "    ''' \n",
    "    this function combines the entire algorithm and provides a time-marched solution\n",
    "    \n",
    "    Returns:\n",
    "    -----------\n",
    "    temperature\n",
    "    velocity\n",
    "    heavy particle pressure\n",
    "    total pressure\n",
    "    density\n",
    "    concentration1\n",
    "    concentration2\n",
    "    electrical conductivity\n",
    "    \n",
    "    '''\n",
    "    Tn = temperature.copy()\n",
    "    rhon = density.copy()\n",
    "    uxn = velocity.copy()\n",
    "    pxn = heavy_pressure.copy() \n",
    "    ptn = total_pressure.copy()\n",
    "    cC = concentration1.copy()\n",
    "    cHe = concentration2.copy()\n",
    "    #\n",
    "    ne_ref = reference_number_density.copy()\n",
    "    econd = electrical_conductivity.copy()\n",
    "    jn = current_density.copy()\n",
    "    phin = electric_potential.copy()\n",
    "    #\n",
    "    pref = reference_pressure.copy()\n",
    "    Tref = reference_temperature.copy()\n",
    "    #\n",
    "    abl_out = []\n",
    "    rhov_out = []\n",
    "    p2out = []\n",
    "    pout = []\n",
    "    uout = []\n",
    "    Tout = []\n",
    "    rho_out = []\n",
    "    c1out = []\n",
    "    c2out = []\n",
    "    jn_out = []\n",
    "    #\n",
    "    jfout = []\n",
    "    hfout = []\n",
    "    pfout = []\n",
    "    mfout = []\n",
    "    #\n",
    "    ne_out = []\n",
    "    no_out = []\n",
    "    econd_out = []\n",
    "    econdreal_out = []\n",
    "    phin_out = []\n",
    "    #\n",
    "    time_array_out = []\n",
    "    #\n",
    "    ne_fieldg = numpy.zeros_like(ptn)\n",
    "    #\n",
    "    #current density\n",
    "    jn = j0.copy()#get_current_density(phin.copy(), econd.copy(), delx)\n",
    "    #cfl number\n",
    "    cflout = []\n",
    "    \n",
    "    Tout.append(reference_temperature)\n",
    "    #\n",
    "    pe = pe_ref.copy()\n",
    "    CFL = 0.2\n",
    "    time = 0 + delt_fixed\n",
    "    #\n",
    "    t_terminal = 0.0035#0.000437 #5000*delt_fixed \n",
    "    #\n",
    "    iterations = 0\n",
    "    #------------------------------------------------------------------\n",
    "    itermax = int(1e6)\n",
    "    step_it = int(25)\n",
    "    check_iterations_size = int((itermax)/step_it)\n",
    "    check_iterations = numpy.zeros((check_iterations_size))\n",
    "    for j in range(check_iterations_size):\n",
    "        check_iterations[j] = j*step_it\n",
    "    #------------------------------------------------------------------\n",
    "    #\n",
    "    while time < t_terminal:\n",
    "        #\n",
    "        #adaptive time step:\n",
    "        delt = get_adaptive_time_step(numpy.max(numpy.abs(uxn)), delx)\n",
    "        #\n",
    "        iterations += 1\n",
    "        index = int(iterations)\n",
    "        #\n",
    "        time = time + delt\n",
    "        #\n",
    "        #-----------------------\n",
    "        #thermophysical properties\n",
    "        kn, mun = get_thermophysical_properties(Tn)\n",
    "        #-----------------------\n",
    "        #Anode Ablation\n",
    "        ABL, rhov = get_ablation(Tout[index-1][0],M_C)\n",
    "        #-----------------------\n",
    "        #update boundary density and velocity based on ablation rate\n",
    "        rhon = density_bc(rhon, rhov)\n",
    "        u_abl = get_ablation_velocity(ABL, rhon, rhov)\n",
    "        uxn = velocity_bc(uxn, u_abl)\n",
    "        #-----------------------\n",
    "        #momentum equation - fluxes\n",
    "        fct = convective_flux(uxn, delx) #convective\n",
    "        fvt = viscous_flux(uxn, delx, mun, rhon) #viscous\n",
    "        fpt = pressure_flux(uxn, pxn, delx) #pressure\n",
    "        #\n",
    "        fs = get_source_pressure(uxn, pxn, delx) #source pressure eqn\n",
    "        #momentum equation - solve\n",
    "        uxn, pxn = get_momentum(uxn,mun,rhon, pxn,\\\n",
    "                        delx, delt,u_abl)\n",
    "        #\n",
    "        if (CFL>0.5):\n",
    "            print('Warning---CFL number is equal to: %.3g' %CFL)\n",
    "            print('Warning---Current iteration is: %.3g' %iterations)\n",
    "        #-----------------------\n",
    "        #ionization rates\n",
    "        ne_field, pe,\\\n",
    "        ni_field, no_field = saha_algorithm(Tn,rhon,cC,\\\n",
    "                                         cHe,Ips1,Ipg1,M_C,M_He, ne_ref)\n",
    "        #electrical conductivity\n",
    "        econd,econdreal = get_electrical_conductivity(Tn, econd,\\\n",
    "                                                rhon, ne_field,\\\n",
    "                                               no_field,Tout[index-1],time)\n",
    "        #-----------------------\n",
    "        #electric potential\n",
    "        #current density\n",
    "        #-----------------------\n",
    "        #total pressure = heavy particle pressure + electron pressure\n",
    "        ptn = get_total_pressure(pxn, pe)\n",
    "        #----------------------------------------------------------\n",
    "        #mass conservation\n",
    "        rhon = mass_conservation(rhon, uxn, delx, delt)\n",
    "        #--------------------------------------------------------\n",
    "        #mass diffusion\n",
    "        rhoC, rhoHe, cC, cHe = mass_diffusion(pxn, Tn,\\\n",
    "                                                         rhon, uxn,\\\n",
    "                                                         cC,cHe, delt,\\\n",
    "                                                         delx, mC, mHe, rhov) \n",
    "\n",
    "        #-----------------------\n",
    "        #-----------------------\n",
    "        #\n",
    "        #specific heat\n",
    "        cp_total = get_specific_heat(Tn, cC, cHe, Tout[index-1])\n",
    "        #\n",
    "        #enthalpy\n",
    "        hn = get_enthalpy(cp_total, Tn, Tout[index-1])\n",
    "        #\n",
    "        #-----------------------\n",
    "        #solve energy equation to get temperature\n",
    "        Tn = get_energy(rhon, ptn, uxn, jn,kn,\\\n",
    "                           econd, cp_total, delx, delt, ptn, hn,\\\n",
    "                            Tout[index-1], ABL, ne_field[1])\n",
    "        #\n",
    "        if (Tn[0]<Tout[index-1][0]):\n",
    "            Tn[0] = numpy.average(Tn[1:])\n",
    "        #\n",
    "        ne_ref = ne_field.copy()\n",
    "        # reference temperature is a little tricky:\n",
    "        Tout.append(Tn)\n",
    "        #-------------------------------------------------------------------------\n",
    "        CFL = (delt/dx)*numpy.max(numpy.abs(uxn))\n",
    "        #\n",
    "        if iterations in check_iterations:\n",
    "            print('current iteration is: %.3g' %iterations)\n",
    "            print('current time in seconds is: : %.3g' %time)\n",
    "            #\n",
    "            #OUTPUT\n",
    "            #\n",
    "        p2out.append(pxn)\n",
    "        pout.append(ptn)\n",
    "        uout.append(uxn)\n",
    "        rho_out.append(rhon)\n",
    "        c1out.append(cC)\n",
    "        c2out.append(cHe)\n",
    "        #\n",
    "        ne_out.append(ne_field)\n",
    "        no_out.append(no_field)\n",
    "        econd_out.append(econd)\n",
    "        econdreal_out.append(econdreal)\n",
    "        abl_out.append(ABL)\n",
    "        rhov_out.append(rhov)\n",
    "#         jn_out.append(jn)\n",
    "#         phin_out.append(phin)\n",
    "        cflout.append(CFL)\n",
    "            #\n",
    "        time_array_out.append(time)\n",
    "        #\n",
    "    return Tout, pout,p2out, uout, rho_out, c1out, c2out, ne_out,no_out,\\\n",
    "                econd_out,econdreal_out, time_array_out, cflout, abl_out,rhov_out"
   ]
  },
  {
   "cell_type": "code",
   "execution_count": null,
   "metadata": {
    "collapsed": false,
    "scrolled": true
   },
   "outputs": [],
   "source": [
    "Ts, ps,ps2, us, rhos, c1s, c2s,\\\n",
    "nes,nos, econds,econdsreal,\\\n",
    "ctime,cfl,ablrate,rhos_vapor = get_solution(Tn.copy(), uxn.copy(), pxn.copy(),ptn.copy(),\\\n",
    "                                          rhon.copy(), cC.copy(), cHe.copy(),\\\n",
    "                                          econd.copy(), jn.copy(), pref2.copy(),\\\n",
    "                                        Tref2.copy(),dx, dt, ne_field.copy(),\\\n",
    "                                        phi_init.copy(), pe_ref.copy())"
   ]
  },
  {
   "cell_type": "markdown",
   "metadata": {},
   "source": [
    "# intermediate time"
   ]
  },
  {
   "cell_type": "code",
   "execution_count": null,
   "metadata": {
    "collapsed": false
   },
   "outputs": [],
   "source": [
    "numpy.shape(ctime)"
   ]
  },
  {
   "cell_type": "code",
   "execution_count": null,
   "metadata": {
    "collapsed": false
   },
   "outputs": [],
   "source": [
    "numpy.shape(Ts)[0]"
   ]
  },
  {
   "cell_type": "code",
   "execution_count": null,
   "metadata": {
    "collapsed": true
   },
   "outputs": [],
   "source": [
    "array_size = numpy.shape(us)[0] #\n",
    "mid_time = int(array_size/2)\n",
    "#\n",
    "#for temperature\n",
    "array_size2 = numpy.shape(Ts)[0] #\n",
    "mid_time2 = int(array_size/2)"
   ]
  },
  {
   "cell_type": "code",
   "execution_count": null,
   "metadata": {
    "collapsed": false
   },
   "outputs": [],
   "source": [
    "ctime[mid_time]"
   ]
  },
  {
   "cell_type": "code",
   "execution_count": null,
   "metadata": {
    "collapsed": false
   },
   "outputs": [],
   "source": [
    "plot( xb,numpy.round(us[mid_time][1:-1], decimals=10), 'grid location [m]','velocity [m/s]',  'time= sec')"
   ]
  },
  {
   "cell_type": "code",
   "execution_count": null,
   "metadata": {
    "collapsed": false
   },
   "outputs": [],
   "source": [
    "plot( xc,ps[mid_time][1:-1], 'grid location [m]','Total Pressure [Pa]',  'time= sec')"
   ]
  },
  {
   "cell_type": "code",
   "execution_count": null,
   "metadata": {
    "collapsed": false
   },
   "outputs": [],
   "source": [
    "plot( xc,ps2[mid_time][1:-1], 'grid location [m]','Momentum Pressure [Pa]',  'time= sec')"
   ]
  },
  {
   "cell_type": "code",
   "execution_count": null,
   "metadata": {
    "collapsed": false
   },
   "outputs": [],
   "source": [
    "plot( xc,numpy.round(rhos[mid_time][1:-1],decimals=10), 'grid location [m]','density [kg/m3]',  'time= sec')"
   ]
  },
  {
   "cell_type": "code",
   "execution_count": null,
   "metadata": {
    "collapsed": false
   },
   "outputs": [],
   "source": [
    "plot( xc,nes[mid_time][1:-1], 'grid location [m]','electrons',  'time= sec')"
   ]
  },
  {
   "cell_type": "code",
   "execution_count": null,
   "metadata": {
    "collapsed": false
   },
   "outputs": [],
   "source": [
    "plot( xc,econds[mid_time][1:-1], 'grid location [m]','electrical conductivity',  'time= sec')"
   ]
  },
  {
   "cell_type": "code",
   "execution_count": null,
   "metadata": {
    "collapsed": false
   },
   "outputs": [],
   "source": [
    "plot(xc,econdsreal[mid_time][1:-1], 'grid location [m]','real electrical conductivity',  'time= sec')"
   ]
  },
  {
   "cell_type": "code",
   "execution_count": null,
   "metadata": {
    "collapsed": false
   },
   "outputs": [],
   "source": [
    "plot( xc, numpy.round(nos[mid_time][1:-1], decimals=25), 'grid location [m]','neutrals',  'time= sec')"
   ]
  },
  {
   "cell_type": "code",
   "execution_count": null,
   "metadata": {
    "collapsed": false
   },
   "outputs": [],
   "source": [
    "plot( xc,numpy.round(Ts[mid_time2][1:-1],decimals=10), 'grid location [m]','Temperature [K]',  'time= sec')"
   ]
  },
  {
   "cell_type": "code",
   "execution_count": null,
   "metadata": {
    "collapsed": false
   },
   "outputs": [],
   "source": [
    "Ts[mid_time2]"
   ]
  },
  {
   "cell_type": "markdown",
   "metadata": {},
   "source": [
    "# final time"
   ]
  },
  {
   "cell_type": "code",
   "execution_count": null,
   "metadata": {
    "collapsed": false
   },
   "outputs": [],
   "source": [
    "plot( xb,numpy.round(us[-1][1:-1],decimals=10), 'grid location in meters','velocity m/s',  'time= sec')"
   ]
  },
  {
   "cell_type": "code",
   "execution_count": null,
   "metadata": {
    "collapsed": false
   },
   "outputs": [],
   "source": [
    "plot( xc,numpy.round(ps[-1][1:-1]), 'grid location [m]','Total Pressure [Pa]',  'time= sec')"
   ]
  },
  {
   "cell_type": "code",
   "execution_count": null,
   "metadata": {
    "collapsed": false
   },
   "outputs": [],
   "source": [
    "plot( xc,numpy.round(ps2[-1][1:-1]), 'grid location [m]','Momentum Pressure [Pa]',  'time= sec')"
   ]
  },
  {
   "cell_type": "code",
   "execution_count": null,
   "metadata": {
    "collapsed": false
   },
   "outputs": [],
   "source": [
    "plot( xc,numpy.round(rhos[-1][1:-1], decimals=10), 'grid location [m]','density [kg/m3]',  'time= sec')"
   ]
  },
  {
   "cell_type": "code",
   "execution_count": null,
   "metadata": {
    "collapsed": false
   },
   "outputs": [],
   "source": [
    "plot( xc,numpy.round(c1s[-1][1:-1], decimals=10), 'grid location [m]','species 1 [kg/m3]',  'time= sec')"
   ]
  },
  {
   "cell_type": "code",
   "execution_count": null,
   "metadata": {
    "collapsed": false
   },
   "outputs": [],
   "source": [
    "plot( xc,numpy.round(c2s[-1][1:-1], decimals=10), 'grid location [m]','species 1 [kg/m3]',  'time= sec')"
   ]
  },
  {
   "cell_type": "code",
   "execution_count": null,
   "metadata": {
    "collapsed": false
   },
   "outputs": [],
   "source": [
    "plot( xc,nes[-1][1:-1], 'grid location [m]','electrons',  'time= sec')"
   ]
  },
  {
   "cell_type": "code",
   "execution_count": null,
   "metadata": {
    "collapsed": false
   },
   "outputs": [],
   "source": [
    "plot( xc, numpy.round(nos[-1][1:-1], decimals=25), 'grid location [m]','neutrals',  'time= sec')"
   ]
  },
  {
   "cell_type": "code",
   "execution_count": null,
   "metadata": {
    "collapsed": false
   },
   "outputs": [],
   "source": [
    "plot( xc,econds[-1][1:-1], 'grid location [m]','electrical conductivity',  'time= sec')"
   ]
  },
  {
   "cell_type": "code",
   "execution_count": null,
   "metadata": {
    "collapsed": false
   },
   "outputs": [],
   "source": [
    "plot( xc,econdsreal[-1][1:-1], 'grid location [m]','real electrical conductivity',  'time= sec')"
   ]
  },
  {
   "cell_type": "code",
   "execution_count": null,
   "metadata": {
    "collapsed": false
   },
   "outputs": [],
   "source": [
    "plot( xc,numpy.round(Ts[-1][1:-1],decimals=4), 'grid location [m]','Temperature [K]',  'time= sec')"
   ]
  },
  {
   "cell_type": "markdown",
   "metadata": {},
   "source": [
    "### The graphs below address the issue of drastic variation in anode temperature. After some time, I noticed that  the anode temperature showed an usteady time dependency with oscillating values. To remedy, I chose to make the anode temperature the average of the domain when these variations begin to occur."
   ]
  },
  {
   "cell_type": "code",
   "execution_count": null,
   "metadata": {
    "collapsed": false
   },
   "outputs": [],
   "source": [
    "length = numpy.shape(ablrate)[0]\n",
    "iterations_total = numpy.zeros((length))\n",
    "Tanode = numpy.zeros((length))\n",
    "#\n",
    "for i in range(length):\n",
    "    iterations_total[i] = i+1\n",
    "    Tanode[i] = Ts[i][0]"
   ]
  },
  {
   "cell_type": "code",
   "execution_count": null,
   "metadata": {
    "collapsed": false
   },
   "outputs": [],
   "source": [
    "numpy.shape(Ts)"
   ]
  },
  {
   "cell_type": "code",
   "execution_count": null,
   "metadata": {
    "collapsed": false
   },
   "outputs": [],
   "source": [
    "plot( iterations_total[1000:1050], numpy.round(Tanode[41100:41150],decimals=4), 'iterations','anode temp',  'time= sec')"
   ]
  },
  {
   "cell_type": "code",
   "execution_count": null,
   "metadata": {
    "collapsed": false
   },
   "outputs": [],
   "source": [
    "plot( iterations_total[1000:1050], numpy.round(ablrate[41100:41150],decimals=4), 'iterations','ablation rate',  'time= sec')"
   ]
  },
  {
   "cell_type": "code",
   "execution_count": null,
   "metadata": {
    "collapsed": false
   },
   "outputs": [],
   "source": [
    "plot( iterations_total[1000:1050], numpy.round(rhos_vapor[41100:41150],decimals=4), 'iterations','vapor density',  'time= sec')"
   ]
  },
  {
   "cell_type": "code",
   "execution_count": null,
   "metadata": {
    "collapsed": false
   },
   "outputs": [],
   "source": [
    "plot( iterations_total[1000:1050], numpy.round(Tanode[61100:61150],decimals=4), 'iterations','anode temp',  'time= sec')"
   ]
  },
  {
   "cell_type": "markdown",
   "metadata": {},
   "source": [
    "### The anode temperature experiences a significant variation and i have minimized the noise by forcing the anode temperature to the average domain temperature whenever the temperature is lower than the previous anode temperature. This helps keep the ablation rate steady."
   ]
  },
  {
   "cell_type": "code",
   "execution_count": null,
   "metadata": {
    "collapsed": false
   },
   "outputs": [],
   "source": [
    "numpy.average(Ts[-1]-Ts[-2])"
   ]
  },
  {
   "cell_type": "code",
   "execution_count": null,
   "metadata": {
    "collapsed": false
   },
   "outputs": [],
   "source": [
    "numpy.average(rhos[-1]-rhos[-2])"
   ]
  },
  {
   "cell_type": "code",
   "execution_count": null,
   "metadata": {
    "collapsed": false
   },
   "outputs": [],
   "source": [
    "numpy.abs(numpy.average(us[-1]-us[-2]))"
   ]
  },
  {
   "cell_type": "markdown",
   "metadata": {},
   "source": [
    "### After running the solver to 0.0025 seconds (real time), the average temperature change is 8.65e-5 Kelvin per time step. Additionally, the average mass change is 9.1e-4, and the average velocity change is 6.29 e -6."
   ]
  },
  {
   "cell_type": "markdown",
   "metadata": {},
   "source": [
    "### This may indicate that the solution is reaching steady state"
   ]
  },
  {
   "cell_type": "markdown",
   "metadata": {},
   "source": [
    "## Animation"
   ]
  },
  {
   "cell_type": "code",
   "execution_count": null,
   "metadata": {
    "collapsed": false
   },
   "outputs": [],
   "source": [
    "time_domain = numpy.size(ctime)\n",
    "time_domain_temp = numpy.shape(Ts)[0] \n",
    "space_domain = numpy.size(xb)\n",
    "space_domain2 = numpy.size(xc)\n",
    "US = numpy.zeros((time_domain, space_domain), dtype=float)\n",
    "TS = numpy.zeros((time_domain_temp, space_domain2), dtype=float)\n",
    "JS = numpy.zeros((time_domain, space_domain2), dtype=float)\n",
    "NES = numpy.zeros((time_domain, space_domain2), dtype=float)\n",
    "RHOS = numpy.zeros((time_domain, space_domain2), dtype=float)\n",
    "C1S = numpy.zeros((time_domain, space_domain2), dtype=float)\n",
    "C2S = numpy.zeros((time_domain, space_domain2), dtype=float)\n",
    "ECONDRS =  numpy.zeros((time_domain, space_domain2), dtype=float)\n",
    "ECOND =  numpy.zeros((time_domain, space_domain2), dtype=float)\n",
    "#\n",
    "for i in range(time_domain):\n",
    "    US[i,:] = us[i][1:-1]\n",
    "#     JS[i,:] = js[i][1:-1]\n",
    "    NES[i,:] = nes[i][1:-1]\n",
    "    RHOS[i,:] = rhos[i][1:-1]\n",
    "    ECONDRS[i,:] = econdsreal[i][1:-1]\n",
    "    ECOND[i,:] = econds[i][1:-1]\n",
    "    C1S[i,:] = c1s[i][1:-1]\n",
    "    C2S[i,:] = c2s[i][1:-1]\n",
    "    #\n",
    "for i in range(time_domain_temp):\n",
    "    TS[i,:] = Ts[i][1:-1]"
   ]
  },
  {
   "cell_type": "code",
   "execution_count": null,
   "metadata": {
    "collapsed": false
   },
   "outputs": [],
   "source": [
    "fig = pyplot.figure(figsize=(8,5))\n",
    "ax = pyplot.axes()\n",
    "im = ax.plot([], [], color='b', ls='--', lw=3)"
   ]
  },
  {
   "cell_type": "code",
   "execution_count": null,
   "metadata": {
    "collapsed": true
   },
   "outputs": [],
   "source": [
    "def animate(data):\n",
    "    im = ax.plot(xb,data, color='b', ls='--', lw=3)\n",
    "    return im"
   ]
  },
  {
   "cell_type": "code",
   "execution_count": null,
   "metadata": {
    "collapsed": true
   },
   "outputs": [],
   "source": [
    "def animate2(data):\n",
    "    im = ax.plot(xc,data, color='b', ls='--', lw=3)\n",
    "    return im"
   ]
  },
  {
   "cell_type": "code",
   "execution_count": null,
   "metadata": {
    "collapsed": false
   },
   "outputs": [],
   "source": [
    "anim = animation.FuncAnimation(fig, animate2, frames=ECOND[1::500,:], interval=200)"
   ]
  },
  {
   "cell_type": "code",
   "execution_count": null,
   "metadata": {
    "collapsed": false
   },
   "outputs": [],
   "source": [
    "#anim.save(\"1D_ABL_rho.mp4\", writer='ffmpeg')\n",
    "#anim.save(\"1D_ABL_Ts.mp4\", writer='ffmpeg')\n",
    "#anim.save(\"1D_ABL_Us.mp4\", writer='ffmpeg')\n",
    "#anim.save(\"1D_ABL_NES.mp4\", writer='ffmpeg')\n",
    "#\n",
    "anim.save(\"1D_ABL_econd.mp4\", writer='ffmpeg')\n",
    "#anim.save(\"1D_ABL_c1.mp4\", writer='ffmpeg')\n",
    "#anim.save(\"1D_ABL_c2.mp4\", writer='ffmpeg')\n",
    "#anim.save(\"1D_ABL_js.mp4\", writer='ffmpeg')"
   ]
  },
  {
   "cell_type": "code",
   "execution_count": null,
   "metadata": {
    "collapsed": false
   },
   "outputs": [],
   "source": [
    "#display_animation(anim, default_mode='once')"
   ]
  }
 ],
 "metadata": {
  "kernelspec": {
   "display_name": "Python 3",
   "language": "python",
   "name": "python3"
  },
  "language_info": {
   "codemirror_mode": {
    "name": "ipython",
    "version": 3
   },
   "file_extension": ".py",
   "mimetype": "text/x-python",
   "name": "python",
   "nbconvert_exporter": "python",
   "pygments_lexer": "ipython3",
   "version": "3.4.5"
  }
 },
 "nbformat": 4,
 "nbformat_minor": 0
}
