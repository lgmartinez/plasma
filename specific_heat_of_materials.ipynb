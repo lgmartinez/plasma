{
 "cells": [
  {
   "cell_type": "code",
   "execution_count": 1,
   "metadata": {
    "collapsed": false
   },
   "outputs": [
    {
     "data": {
      "text/html": [
       "<link href='http://fonts.googleapis.com/css?family=Alegreya+Sans:100,300,400,500,700,800,900,100italic,300italic,400italic,500italic,700italic,800italic,900italic' rel='stylesheet' type='text/css'>\n",
       "<link href='http://fonts.googleapis.com/css?family=Arvo:400,700,400italic' rel='stylesheet' type='text/css'>\n",
       "<link href='http://fonts.googleapis.com/css?family=PT+Mono' rel='stylesheet' type='text/css'>\n",
       "<link href='http://fonts.googleapis.com/css?family=Shadows+Into+Light' rel='stylesheet' type='text/css'>\n",
       "<link href='http://fonts.googleapis.com/css?family=Nixie+One' rel='stylesheet' type='text/css'>\n",
       "<style>\n",
       "\n",
       "@font-face {\n",
       "    font-family: \"Computer Modern\";\n",
       "    src: url('http://mirrors.ctan.org/fonts/cm-unicode/fonts/otf/cmunss.otf');\n",
       "}\n",
       "\n",
       "#notebook_panel { /* main background */\n",
       "    background: rgb(245,245,245);\n",
       "}\n",
       "\n",
       "div.cell { /* set cell width */\n",
       "    width: 750px;\n",
       "}\n",
       "\n",
       "div #notebook { /* centre the content */\n",
       "    background: #fff; /* white background for content */\n",
       "    width: 1000px;\n",
       "    margin: auto;\n",
       "    padding-left: 0em;\n",
       "}\n",
       "\n",
       "#notebook li { /* More space between bullet points */\n",
       "    margin-top:0.8em;\n",
       "}\n",
       "\n",
       "/* draw border around running cells */\n",
       "div.cell.border-box-sizing.code_cell.running { \n",
       "    border: 1px solid #111;\n",
       "}\n",
       "\n",
       "/* Put a solid color box around each cell and its output, visually linking them*/\n",
       "div.cell.code_cell {\n",
       "    background-color: rgb(256,256,256); \n",
       "    border-radius: 0px; \n",
       "    padding: 0.5em;\n",
       "    margin-left:1em;\n",
       "    margin-top: 1em;\n",
       "}\n",
       "\n",
       "div.text_cell_render{\n",
       "    font-family: 'Alegreya Sans' sans-serif;\n",
       "    line-height: 140%;\n",
       "    font-size: 125%;\n",
       "    font-weight: 400;\n",
       "    width:600px;\n",
       "    margin-left:auto;\n",
       "    margin-right:auto;\n",
       "}\n",
       "\n",
       "\n",
       "/* Formatting for header cells */\n",
       ".text_cell_render h1 {\n",
       "    font-family: 'Nixie One', serif;\n",
       "    font-style:regular;\n",
       "    font-weight: 400;    \n",
       "    font-size: 45pt;\n",
       "    line-height: 100%;\n",
       "    color: rgb(0,51,102);\n",
       "    margin-bottom: 0.5em;\n",
       "    margin-top: 0.5em;\n",
       "    display: block;\n",
       "}\n",
       "\n",
       ".text_cell_render h2 {\n",
       "    font-family: 'Nixie One', serif;\n",
       "    font-weight: 400;\n",
       "    font-size: 30pt;\n",
       "    line-height: 100%;\n",
       "    color: rgb(0,51,102);\n",
       "    margin-bottom: 0.1em;\n",
       "    margin-top: 0.3em;\n",
       "    display: block;\n",
       "}\t\n",
       "\n",
       ".text_cell_render h3 {\n",
       "    font-family: 'Nixie One', serif;\n",
       "    margin-top:16px;\n",
       "    font-size: 22pt;\n",
       "    font-weight: 600;\n",
       "    margin-bottom: 3px;\n",
       "    font-style: regular;\n",
       "    color: rgb(102,102,0);\n",
       "}\n",
       "\n",
       ".text_cell_render h4 {    /*Use this for captions*/\n",
       "    font-family: 'Nixie One', serif;\n",
       "    font-size: 14pt;\n",
       "    text-align: center;\n",
       "    margin-top: 0em;\n",
       "    margin-bottom: 2em;\n",
       "    font-style: regular;\n",
       "}\n",
       "\n",
       ".text_cell_render h5 {  /*Use this for small titles*/\n",
       "    font-family: 'Nixie One', sans-serif;\n",
       "    font-weight: 400;\n",
       "    font-size: 16pt;\n",
       "    color: rgb(163,0,0);\n",
       "    font-style: italic;\n",
       "    margin-bottom: .1em;\n",
       "    margin-top: 0.8em;\n",
       "    display: block;\n",
       "}\n",
       "\n",
       ".text_cell_render h6 { /*use this for copyright note*/\n",
       "    font-family: 'PT Mono', sans-serif;\n",
       "    font-weight: 300;\n",
       "    font-size: 9pt;\n",
       "    line-height: 100%;\n",
       "    color: grey;\n",
       "    margin-bottom: 1px;\n",
       "    margin-top: 1px;\n",
       "}\n",
       "\n",
       ".CodeMirror{\n",
       "    font-family: \"PT Mono\";\n",
       "    font-size: 90%;\n",
       "}\n",
       "\n",
       "</style>\n",
       "<script>\n",
       "    MathJax.Hub.Config({\n",
       "                        TeX: {\n",
       "                           extensions: [\"AMSmath.js\"],\n",
       "                           equationNumbers: { autoNumber: \"AMS\", useLabelIds: true}\n",
       "                           },\n",
       "                tex2jax: {\n",
       "                    inlineMath: [ ['$','$'], [\"\\\\(\",\"\\\\)\"] ],\n",
       "                    displayMath: [ ['$$','$$'], [\"\\\\[\",\"\\\\]\"] ]\n",
       "                },\n",
       "                displayAlign: 'center', // Change this to 'center' to center equations.\n",
       "                \"HTML-CSS\": {\n",
       "                    styles: {'.MathJax_Display': {\"margin\": 4}}\n",
       "                }\n",
       "        });\n",
       "</script>\n"
      ],
      "text/plain": [
       "<IPython.core.display.HTML object>"
      ]
     },
     "execution_count": 1,
     "metadata": {},
     "output_type": "execute_result"
    }
   ],
   "source": [
    "from IPython.core.display import HTML\n",
    "css_file = './numericalmoocstyle.css'\n",
    "HTML(open(css_file, \"r\").read())"
   ]
  },
  {
   "cell_type": "code",
   "execution_count": 2,
   "metadata": {
    "collapsed": true
   },
   "outputs": [],
   "source": [
    "import numpy\n",
    "from matplotlib import pyplot\n",
    "%matplotlib inline"
   ]
  },
  {
   "cell_type": "markdown",
   "metadata": {},
   "source": [
    "## Nitrogen Gas $N_2$"
   ]
  },
  {
   "cell_type": "code",
   "execution_count": 3,
   "metadata": {
    "collapsed": true
   },
   "outputs": [],
   "source": [
    "npoints1 = 100"
   ]
  },
  {
   "cell_type": "code",
   "execution_count": 4,
   "metadata": {
    "collapsed": true
   },
   "outputs": [],
   "source": [
    "def get_temperature(data_points):\n",
    "    ''' Defines temperature data points\n",
    "    '''\n",
    "    Temperature = numpy.zeros((data_points),dtype=float)\n",
    "    Temperature[0] = 300.\n",
    "    #\n",
    "    for i in range(1,data_points):\n",
    "        Temperature[i] = Temperature[i-1]+100.\n",
    "    #\n",
    "    return Temperature"
   ]
  },
  {
   "cell_type": "code",
   "execution_count": 5,
   "metadata": {
    "collapsed": false
   },
   "outputs": [],
   "source": [
    "TN2 = get_temperature(npoints1)"
   ]
  },
  {
   "cell_type": "code",
   "execution_count": 6,
   "metadata": {
    "collapsed": false
   },
   "outputs": [
    {
     "data": {
      "text/plain": [
       "array([   300.,    400.,    500.,    600.,    700.,    800.,    900.,\n",
       "         1000.,   1100.,   1200.,   1300.,   1400.,   1500.,   1600.,\n",
       "         1700.,   1800.,   1900.,   2000.,   2100.,   2200.,   2300.,\n",
       "         2400.,   2500.,   2600.,   2700.,   2800.,   2900.,   3000.,\n",
       "         3100.,   3200.,   3300.,   3400.,   3500.,   3600.,   3700.,\n",
       "         3800.,   3900.,   4000.,   4100.,   4200.,   4300.,   4400.,\n",
       "         4500.,   4600.,   4700.,   4800.,   4900.,   5000.,   5100.,\n",
       "         5200.,   5300.,   5400.,   5500.,   5600.,   5700.,   5800.,\n",
       "         5900.,   6000.,   6100.,   6200.,   6300.,   6400.,   6500.,\n",
       "         6600.,   6700.,   6800.,   6900.,   7000.,   7100.,   7200.,\n",
       "         7300.,   7400.,   7500.,   7600.,   7700.,   7800.,   7900.,\n",
       "         8000.,   8100.,   8200.,   8300.,   8400.,   8500.,   8600.,\n",
       "         8700.,   8800.,   8900.,   9000.,   9100.,   9200.,   9300.,\n",
       "         9400.,   9500.,   9600.,   9700.,   9800.,   9900.,  10000.,\n",
       "        10100.,  10200.])"
      ]
     },
     "execution_count": 6,
     "metadata": {},
     "output_type": "execute_result"
    }
   ],
   "source": [
    "TN2\n"
   ]
  },
  {
   "cell_type": "code",
   "execution_count": 7,
   "metadata": {
    "collapsed": true
   },
   "outputs": [],
   "source": [
    "def get_N2_cp(temperature):\n",
    "    ''' Defines specific heat from heat capacity formula\n",
    "    \n",
    "    Ref: Thermodynamic Properties of 65 elements: their oxides, halides,carbides,\n",
    "    and nitrides. Wicks CE; Block FE \n",
    "    '''\n",
    "    Tx = temperature.copy()\n",
    "    cp_g1 = numpy.zeros_like(temperature)\n",
    "    cp_out = numpy.zeros_like(temperature)\n",
    "    #\n",
    "    array_size = numpy.size(temperature)\n",
    "    #specific heat of nitrogen gas\n",
    "    for i in range(array_size):\n",
    "        cp_g1[i] = 6.66 + 1.02*(1e-3)*Tx[i] # {cal}/{gram-mole K}\n",
    "    #conversion:\n",
    "    mw_N2 = 2*14.0067*(1e-3) # molar mass in kg\n",
    "    cp_out[:] = cp_g1[:] * (4.184)/mw_N2\n",
    "    #\n",
    "    return cp_out[:]"
   ]
  },
  {
   "cell_type": "code",
   "execution_count": 8,
   "metadata": {
    "collapsed": false
   },
   "outputs": [],
   "source": [
    "cp_N2 = get_N2_cp(TN2)"
   ]
  },
  {
   "cell_type": "markdown",
   "metadata": {},
   "source": [
    "## Nickel"
   ]
  },
  {
   "cell_type": "code",
   "execution_count": 9,
   "metadata": {
    "collapsed": true
   },
   "outputs": [],
   "source": [
    "def get_Ni_cp(temperature):\n",
    "    ''' Specific heat of Nickel\n",
    "    '''\n",
    "    Tx = temperature.copy()\n",
    "    cp_s2 = numpy.zeros_like(temperature)\n",
    "    cp_out = numpy.zeros_like(temperature)\n",
    "    array_size = numpy.size(temperature)\n",
    "    # specific heat of nickel\n",
    "    for i in range(array_size):\n",
    "        if ( Tx[i] < 633.0):\n",
    "            cp_s2[i] = 4.06 + 7.04*(1e-3)*Tx[i]\n",
    "        elif (Tx[i] >= 633. and Tx[i] < 1725.):\n",
    "        #elif (633. <= Tx[i] < 1725.) :\n",
    "            cp_s2[i] = 6.0 + 1.8*(1e-3)*Tx[i]\n",
    "        elif (Tx[i] >=1725):\n",
    "            cp_s2[i] = 9.20\n",
    "    #conversion\n",
    "    mw_Ni = 58.6934*1e-3\n",
    "    cp_out[:] = cp_s2[:] * (4.184)/mw_Ni\n",
    "    #\n",
    "    return cp_out"
   ]
  },
  {
   "cell_type": "code",
   "execution_count": 10,
   "metadata": {
    "collapsed": false
   },
   "outputs": [],
   "source": [
    "cp_Ni = get_Ni_cp(TN2)"
   ]
  },
  {
   "cell_type": "code",
   "execution_count": 11,
   "metadata": {
    "collapsed": false
   },
   "outputs": [
    {
     "data": {
      "text/plain": [
       "array([ 439.97532942,  490.16046097,  540.34559252,  590.53072407,\n",
       "        517.53416909,  530.36559477,  543.19702045,  556.02844613,\n",
       "        568.85987181,  581.69129749,  594.52272317,  607.35414885,\n",
       "        620.18557453,  633.01700021,  645.84842589,  655.82842364,\n",
       "        655.82842364,  655.82842364,  655.82842364,  655.82842364,\n",
       "        655.82842364,  655.82842364,  655.82842364,  655.82842364,\n",
       "        655.82842364,  655.82842364,  655.82842364,  655.82842364,\n",
       "        655.82842364,  655.82842364,  655.82842364,  655.82842364,\n",
       "        655.82842364,  655.82842364,  655.82842364,  655.82842364,\n",
       "        655.82842364,  655.82842364,  655.82842364,  655.82842364,\n",
       "        655.82842364,  655.82842364,  655.82842364,  655.82842364,\n",
       "        655.82842364,  655.82842364,  655.82842364,  655.82842364,\n",
       "        655.82842364,  655.82842364,  655.82842364,  655.82842364,\n",
       "        655.82842364,  655.82842364,  655.82842364,  655.82842364,\n",
       "        655.82842364,  655.82842364,  655.82842364,  655.82842364,\n",
       "        655.82842364,  655.82842364,  655.82842364,  655.82842364,\n",
       "        655.82842364,  655.82842364,  655.82842364,  655.82842364,\n",
       "        655.82842364,  655.82842364,  655.82842364,  655.82842364,\n",
       "        655.82842364,  655.82842364,  655.82842364,  655.82842364,\n",
       "        655.82842364,  655.82842364,  655.82842364,  655.82842364,\n",
       "        655.82842364,  655.82842364,  655.82842364,  655.82842364,\n",
       "        655.82842364,  655.82842364,  655.82842364,  655.82842364,\n",
       "        655.82842364,  655.82842364,  655.82842364,  655.82842364,\n",
       "        655.82842364,  655.82842364,  655.82842364,  655.82842364,\n",
       "        655.82842364,  655.82842364,  655.82842364,  655.82842364])"
      ]
     },
     "execution_count": 11,
     "metadata": {},
     "output_type": "execute_result"
    }
   ],
   "source": [
    "cp_Ni"
   ]
  },
  {
   "cell_type": "markdown",
   "metadata": {},
   "source": [
    "## Boron"
   ]
  },
  {
   "cell_type": "code",
   "execution_count": 12,
   "metadata": {
    "collapsed": true
   },
   "outputs": [],
   "source": [
    "def get_B_cp(temperature):\n",
    "    ''' specific heat of Boron\n",
    "    '''\n",
    "    Tx = temperature.copy()\n",
    "    cp_s1 = numpy.zeros_like(temperature)\n",
    "    cp_out = numpy.zeros_like(temperature)\n",
    "    array_size = numpy.size(temperature)\n",
    "    # specific heat of boron\n",
    "    for i in range(array_size):\n",
    "        if (Tx[i] < 1200.):\n",
    "            cp_s1[i] = 1.54 + 4.49*(1e-3)*Tx[i]\n",
    "        else:\n",
    "            cp_s1[i] = 1.54 + 4.49*(1e-3)*1200.\n",
    "    #conversion\n",
    "    mw_B = 10.811*1e-3\n",
    "    cp_out[:] = cp_s1[:] * 4.814/mw_B\n",
    "    #\n",
    "    return cp_out"
   ]
  },
  {
   "cell_type": "code",
   "execution_count": 13,
   "metadata": {
    "collapsed": true
   },
   "outputs": [],
   "source": [
    "cp_B = get_B_cp(TN2)"
   ]
  },
  {
   "cell_type": "code",
   "execution_count": 14,
   "metadata": {
    "collapsed": false
   },
   "outputs": [
    {
     "data": {
      "text/plain": [
       "array([ 1285.54416798,  1485.47812413,  1685.41208029,  1885.34603644,\n",
       "        2085.2799926 ,  2285.21394876,  2485.14790491,  2685.08186107,\n",
       "        2885.01581722,  3084.94977338,  3084.94977338,  3084.94977338,\n",
       "        3084.94977338,  3084.94977338,  3084.94977338,  3084.94977338,\n",
       "        3084.94977338,  3084.94977338,  3084.94977338,  3084.94977338,\n",
       "        3084.94977338,  3084.94977338,  3084.94977338,  3084.94977338,\n",
       "        3084.94977338,  3084.94977338,  3084.94977338,  3084.94977338,\n",
       "        3084.94977338,  3084.94977338,  3084.94977338,  3084.94977338,\n",
       "        3084.94977338,  3084.94977338,  3084.94977338,  3084.94977338,\n",
       "        3084.94977338,  3084.94977338,  3084.94977338,  3084.94977338,\n",
       "        3084.94977338,  3084.94977338,  3084.94977338,  3084.94977338,\n",
       "        3084.94977338,  3084.94977338,  3084.94977338,  3084.94977338,\n",
       "        3084.94977338,  3084.94977338,  3084.94977338,  3084.94977338,\n",
       "        3084.94977338,  3084.94977338,  3084.94977338,  3084.94977338,\n",
       "        3084.94977338,  3084.94977338,  3084.94977338,  3084.94977338,\n",
       "        3084.94977338,  3084.94977338,  3084.94977338,  3084.94977338,\n",
       "        3084.94977338,  3084.94977338,  3084.94977338,  3084.94977338,\n",
       "        3084.94977338,  3084.94977338,  3084.94977338,  3084.94977338,\n",
       "        3084.94977338,  3084.94977338,  3084.94977338,  3084.94977338,\n",
       "        3084.94977338,  3084.94977338,  3084.94977338,  3084.94977338,\n",
       "        3084.94977338,  3084.94977338,  3084.94977338,  3084.94977338,\n",
       "        3084.94977338,  3084.94977338,  3084.94977338,  3084.94977338,\n",
       "        3084.94977338,  3084.94977338,  3084.94977338,  3084.94977338,\n",
       "        3084.94977338,  3084.94977338,  3084.94977338,  3084.94977338,\n",
       "        3084.94977338,  3084.94977338,  3084.94977338,  3084.94977338])"
      ]
     },
     "execution_count": 14,
     "metadata": {},
     "output_type": "execute_result"
    }
   ],
   "source": [
    "cp_B"
   ]
  },
  {
   "cell_type": "markdown",
   "metadata": {},
   "source": [
    "## Cobalt"
   ]
  },
  {
   "cell_type": "code",
   "execution_count": 15,
   "metadata": {
    "collapsed": true
   },
   "outputs": [],
   "source": [
    "def get_Co_cp(temperature):\n",
    "    ''' specific heat of Boron\n",
    "    '''\n",
    "    Tx = temperature.copy()\n",
    "    cp_s3 = numpy.zeros_like(temperature)\n",
    "    cp_out = numpy.zeros_like(temperature)\n",
    "    array_size = numpy.size(temperature)\n",
    "    # specific heat of cobalt\n",
    "    for i in range (array_size):\n",
    "        if (Tx[i] < 718.):\n",
    "            cp_s3[i] = 4.72 + 4.3*(1e-3)*Tx[i]\n",
    "        elif ( Tx[i] >= 718. and  Tx[i] < 1400.):\n",
    "            cp_s3[i] = 3.30 + 5.86*(1e-3)*Tx[i]\n",
    "        elif (Tx[i] >= 1400.):\n",
    "            cp_s3[i] = 9.60\n",
    "    #conversion:\n",
    "    mw_Co = 58.933195*1e-3\n",
    "    cp_out[:] = cp_s3[:] * 4.184/mw_Co\n",
    "    #\n",
    "    return cp_out\n",
    "        "
   ]
  },
  {
   "cell_type": "code",
   "execution_count": 16,
   "metadata": {
    "collapsed": true
   },
   "outputs": [],
   "source": [
    "cp_Co = get_Co_cp(TN2)"
   ]
  },
  {
   "cell_type": "code",
   "execution_count": 17,
   "metadata": {
    "collapsed": false
   },
   "outputs": [
    {
     "data": {
      "text/plain": [
       "array([ 426.68380698,  457.21193294,  487.74005889,  518.26818485,\n",
       "        548.79631081,  567.11318638,  608.71663245,  650.32007852,\n",
       "        691.92352459,  733.52697067,  775.13041674,  681.5581609 ,\n",
       "        681.5581609 ,  681.5581609 ,  681.5581609 ,  681.5581609 ,\n",
       "        681.5581609 ,  681.5581609 ,  681.5581609 ,  681.5581609 ,\n",
       "        681.5581609 ,  681.5581609 ,  681.5581609 ,  681.5581609 ,\n",
       "        681.5581609 ,  681.5581609 ,  681.5581609 ,  681.5581609 ,\n",
       "        681.5581609 ,  681.5581609 ,  681.5581609 ,  681.5581609 ,\n",
       "        681.5581609 ,  681.5581609 ,  681.5581609 ,  681.5581609 ,\n",
       "        681.5581609 ,  681.5581609 ,  681.5581609 ,  681.5581609 ,\n",
       "        681.5581609 ,  681.5581609 ,  681.5581609 ,  681.5581609 ,\n",
       "        681.5581609 ,  681.5581609 ,  681.5581609 ,  681.5581609 ,\n",
       "        681.5581609 ,  681.5581609 ,  681.5581609 ,  681.5581609 ,\n",
       "        681.5581609 ,  681.5581609 ,  681.5581609 ,  681.5581609 ,\n",
       "        681.5581609 ,  681.5581609 ,  681.5581609 ,  681.5581609 ,\n",
       "        681.5581609 ,  681.5581609 ,  681.5581609 ,  681.5581609 ,\n",
       "        681.5581609 ,  681.5581609 ,  681.5581609 ,  681.5581609 ,\n",
       "        681.5581609 ,  681.5581609 ,  681.5581609 ,  681.5581609 ,\n",
       "        681.5581609 ,  681.5581609 ,  681.5581609 ,  681.5581609 ,\n",
       "        681.5581609 ,  681.5581609 ,  681.5581609 ,  681.5581609 ,\n",
       "        681.5581609 ,  681.5581609 ,  681.5581609 ,  681.5581609 ,\n",
       "        681.5581609 ,  681.5581609 ,  681.5581609 ,  681.5581609 ,\n",
       "        681.5581609 ,  681.5581609 ,  681.5581609 ,  681.5581609 ,\n",
       "        681.5581609 ,  681.5581609 ,  681.5581609 ,  681.5581609 ,\n",
       "        681.5581609 ,  681.5581609 ,  681.5581609 ,  681.5581609 ])"
      ]
     },
     "execution_count": 17,
     "metadata": {},
     "output_type": "execute_result"
    }
   ],
   "source": [
    "cp_Co"
   ]
  },
  {
   "cell_type": "markdown",
   "metadata": {},
   "source": [
    "## Plots"
   ]
  },
  {
   "cell_type": "code",
   "execution_count": 18,
   "metadata": {
    "collapsed": false
   },
   "outputs": [
    {
     "data": {
      "image/png": "[encoded data removed]",
      "text/plain": [
       "<matplotlib.figure.Figure at 0x10ea87898>"
      ]
     },
     "metadata": {},
     "output_type": "display_data"
    }
   ],
   "source": [
    "%matplotlib inline\n",
    "#\n",
    "pyplot.figure(figsize=(8,8))\n",
    "pyplot.grid(True)\n",
    "#\n",
    "pyplot.xlabel('Kelvin', fontsize=18)\n",
    "pyplot.ylabel('J/kg-K', fontsize=18)\n",
    "#\n",
    "pyplot.tick_params(axis='x', pad=10)\n",
    "pyplot.tick_params(axis='y', pad=10)\n",
    "#\n",
    "#pyplot.xticks(numpy.arange(1200, 3000, 200))\n",
    "#\n",
    "pyplot.title('Specific Heat of Various Elements')\n",
    "#\n",
    "pyplot.plot(TN2,cp_N2,color='k', ls='--', lw=2, marker='o')\n",
    "pyplot.plot(TN2,cp_B,color='b',ls='--', lw=2, marker='o')\n",
    "pyplot.plot(TN2,cp_Ni,color='r',ls='--', lw=2, marker='o')\n",
    "pyplot.plot(TN2,cp_Co,color='g',ls='--', lw=2, marker='o')\n",
    "pyplot.legend(['$N_2$','Boron','Nickel','Cobalt'], loc='upper right');"
   ]
  },
  {
   "cell_type": "code",
   "execution_count": null,
   "metadata": {
    "collapsed": true
   },
   "outputs": [],
   "source": []
  }
 ],
 "metadata": {
  "kernelspec": {
   "display_name": "Python 3",
   "language": "python",
   "name": "python3"
  },
  "language_info": {
   "codemirror_mode": {
    "name": "ipython",
    "version": 3
   },
   "file_extension": ".py",
   "mimetype": "text/x-python",
   "name": "python",
   "nbconvert_exporter": "python",
   "pygments_lexer": "ipython3",
   "version": "3.4.5"
  }
 },
 "nbformat": 4,
 "nbformat_minor": 0
}
