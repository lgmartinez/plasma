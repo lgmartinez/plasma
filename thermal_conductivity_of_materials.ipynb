{
 "cells": [
  {
   "cell_type": "code",
   "execution_count": 1,
   "metadata": {
    "collapsed": false
   },
   "outputs": [
    {
     "data": {
      "text/html": [
       "<link href='http://fonts.googleapis.com/css?family=Alegreya+Sans:100,300,400,500,700,800,900,100italic,300italic,400italic,500italic,700italic,800italic,900italic' rel='stylesheet' type='text/css'>\n",
       "<link href='http://fonts.googleapis.com/css?family=Arvo:400,700,400italic' rel='stylesheet' type='text/css'>\n",
       "<link href='http://fonts.googleapis.com/css?family=PT+Mono' rel='stylesheet' type='text/css'>\n",
       "<link href='http://fonts.googleapis.com/css?family=Shadows+Into+Light' rel='stylesheet' type='text/css'>\n",
       "<link href='http://fonts.googleapis.com/css?family=Nixie+One' rel='stylesheet' type='text/css'>\n",
       "<style>\n",
       "\n",
       "@font-face {\n",
       "    font-family: \"Computer Modern\";\n",
       "    src: url('http://mirrors.ctan.org/fonts/cm-unicode/fonts/otf/cmunss.otf');\n",
       "}\n",
       "\n",
       "#notebook_panel { /* main background */\n",
       "    background: rgb(245,245,245);\n",
       "}\n",
       "\n",
       "div.cell { /* set cell width */\n",
       "    width: 750px;\n",
       "}\n",
       "\n",
       "div #notebook { /* centre the content */\n",
       "    background: #fff; /* white background for content */\n",
       "    width: 1000px;\n",
       "    margin: auto;\n",
       "    padding-left: 0em;\n",
       "}\n",
       "\n",
       "#notebook li { /* More space between bullet points */\n",
       "    margin-top:0.8em;\n",
       "}\n",
       "\n",
       "/* draw border around running cells */\n",
       "div.cell.border-box-sizing.code_cell.running { \n",
       "    border: 1px solid #111;\n",
       "}\n",
       "\n",
       "/* Put a solid color box around each cell and its output, visually linking them*/\n",
       "div.cell.code_cell {\n",
       "    background-color: rgb(256,256,256); \n",
       "    border-radius: 0px; \n",
       "    padding: 0.5em;\n",
       "    margin-left:1em;\n",
       "    margin-top: 1em;\n",
       "}\n",
       "\n",
       "div.text_cell_render{\n",
       "    font-family: 'Alegreya Sans' sans-serif;\n",
       "    line-height: 140%;\n",
       "    font-size: 125%;\n",
       "    font-weight: 400;\n",
       "    width:600px;\n",
       "    margin-left:auto;\n",
       "    margin-right:auto;\n",
       "}\n",
       "\n",
       "\n",
       "/* Formatting for header cells */\n",
       ".text_cell_render h1 {\n",
       "    font-family: 'Nixie One', serif;\n",
       "    font-style:regular;\n",
       "    font-weight: 400;    \n",
       "    font-size: 45pt;\n",
       "    line-height: 100%;\n",
       "    color: rgb(0,51,102);\n",
       "    margin-bottom: 0.5em;\n",
       "    margin-top: 0.5em;\n",
       "    display: block;\n",
       "}\n",
       "\n",
       ".text_cell_render h2 {\n",
       "    font-family: 'Nixie One', serif;\n",
       "    font-weight: 400;\n",
       "    font-size: 30pt;\n",
       "    line-height: 100%;\n",
       "    color: rgb(0,51,102);\n",
       "    margin-bottom: 0.1em;\n",
       "    margin-top: 0.3em;\n",
       "    display: block;\n",
       "}\t\n",
       "\n",
       ".text_cell_render h3 {\n",
       "    font-family: 'Nixie One', serif;\n",
       "    margin-top:16px;\n",
       "    font-size: 22pt;\n",
       "    font-weight: 600;\n",
       "    margin-bottom: 3px;\n",
       "    font-style: regular;\n",
       "    color: rgb(102,102,0);\n",
       "}\n",
       "\n",
       ".text_cell_render h4 {    /*Use this for captions*/\n",
       "    font-family: 'Nixie One', serif;\n",
       "    font-size: 14pt;\n",
       "    text-align: center;\n",
       "    margin-top: 0em;\n",
       "    margin-bottom: 2em;\n",
       "    font-style: regular;\n",
       "}\n",
       "\n",
       ".text_cell_render h5 {  /*Use this for small titles*/\n",
       "    font-family: 'Nixie One', sans-serif;\n",
       "    font-weight: 400;\n",
       "    font-size: 16pt;\n",
       "    color: rgb(163,0,0);\n",
       "    font-style: italic;\n",
       "    margin-bottom: .1em;\n",
       "    margin-top: 0.8em;\n",
       "    display: block;\n",
       "}\n",
       "\n",
       ".text_cell_render h6 { /*use this for copyright note*/\n",
       "    font-family: 'PT Mono', sans-serif;\n",
       "    font-weight: 300;\n",
       "    font-size: 9pt;\n",
       "    line-height: 100%;\n",
       "    color: grey;\n",
       "    margin-bottom: 1px;\n",
       "    margin-top: 1px;\n",
       "}\n",
       "\n",
       ".CodeMirror{\n",
       "    font-family: \"PT Mono\";\n",
       "    font-size: 90%;\n",
       "}\n",
       "\n",
       "</style>\n",
       "<script>\n",
       "    MathJax.Hub.Config({\n",
       "                        TeX: {\n",
       "                           extensions: [\"AMSmath.js\"],\n",
       "                           equationNumbers: { autoNumber: \"AMS\", useLabelIds: true}\n",
       "                           },\n",
       "                tex2jax: {\n",
       "                    inlineMath: [ ['$','$'], [\"\\\\(\",\"\\\\)\"] ],\n",
       "                    displayMath: [ ['$$','$$'], [\"\\\\[\",\"\\\\]\"] ]\n",
       "                },\n",
       "                displayAlign: 'center', // Change this to 'center' to center equations.\n",
       "                \"HTML-CSS\": {\n",
       "                    styles: {'.MathJax_Display': {\"margin\": 4}}\n",
       "                }\n",
       "        });\n",
       "</script>\n"
      ],
      "text/plain": [
       "<IPython.core.display.HTML object>"
      ]
     },
     "execution_count": 1,
     "metadata": {},
     "output_type": "execute_result"
    }
   ],
   "source": [
    "from IPython.core.display import HTML\n",
    "css_file = './numericalmoocstyle.css'\n",
    "HTML(open(css_file, \"r\").read())"
   ]
  },
  {
   "cell_type": "code",
   "execution_count": 2,
   "metadata": {
    "collapsed": true
   },
   "outputs": [],
   "source": [
    "import numpy\n",
    "from matplotlib import pyplot\n",
    "%matplotlib inline"
   ]
  },
  {
   "cell_type": "code",
   "execution_count": 3,
   "metadata": {
    "collapsed": true
   },
   "outputs": [],
   "source": [
    "def plot(v1, v2, xlabl, ylabl, title):\n",
    "    ''' a function for plots\n",
    "    \n",
    "    Parameters\n",
    "    ----------\n",
    "    v1: x-axis vector\n",
    "    v2: y-axis vector\n",
    "    xlabl: label for x-axis values\n",
    "    ylabl: label for y-axis values\n",
    "    title: plot title\n",
    "    \n",
    "    Return:\n",
    "    -------\n",
    "    Plot!\n",
    "    '''\n",
    "    #\n",
    "    pyplot.figure(figsize=(8,8))\n",
    "    pyplot.grid(True)\n",
    "    #\n",
    "    pyplot.xlabel(xlabl, fontsize=18)\n",
    "    pyplot.ylabel(ylabl, fontsize=18)\n",
    "    #\n",
    "    pyplot.tick_params(axis='x', pad=10)\n",
    "    pyplot.tick_params(axis='y', pad=10)\n",
    "    #\n",
    "    #pyplot.xticks(numpy.arange(0, 3000, 200))\n",
    "    #\n",
    "    pyplot.title(title)\n",
    "    pyplot.plot(v1,v2, color='k', ls='--', lw=2, marker='o');"
   ]
  },
  {
   "cell_type": "markdown",
   "metadata": {},
   "source": [
    "## Nitrogen"
   ]
  },
  {
   "cell_type": "code",
   "execution_count": 4,
   "metadata": {
    "collapsed": true
   },
   "outputs": [],
   "source": [
    "npoints1 = 46"
   ]
  },
  {
   "cell_type": "code",
   "execution_count": 6,
   "metadata": {
    "collapsed": true
   },
   "outputs": [],
   "source": [
    "def get_thermal_conductivity_nitrogen(data_points):\n",
    "    ''' Defines thermal conductivity for nitrogen gas at different \n",
    "    temperatures and pressures\n",
    "    \n",
    "    thermal conductivity units: milliWatts/(meter-Kelvin)\n",
    "    \n",
    "     Ref: Handbook of Physical properties of Liquids and Gases. Pure Substances \n",
    "    and mixtures. N.B. Vargaftik; Y.K. Vinogradov; V. S. Yargin. pg. 801, 804\n",
    "    '''\n",
    "    #temperature array\n",
    "    TN = numpy.zeros((data_points),dtype=float)\n",
    "    TN[0] = 65\n",
    "    TN[1] = 70\n",
    "    TN[2] = 80\n",
    "    TN[3] = 90\n",
    "    TN[4] = 100\n",
    "    TN[5] = 110\n",
    "    TN[6] = 120\n",
    "    TN[7] = 130\n",
    "    TN[8] = 140\n",
    "    TN[9] = 150\n",
    "    TN[10] = 160\n",
    "    TN[11] = 180\n",
    "    TN[12] = 200\n",
    "    TN[13] = 250\n",
    "    TN[14] = 300\n",
    "    TN[15] = 350\n",
    "    TN[16] = 400\n",
    "    TN[17] = 450\n",
    "    TN[18] = 500\n",
    "    TN[19] = 600\n",
    "    TN[20] = 700\n",
    "    TN[21] = 800\n",
    "    TN[22] = 1000\n",
    "    TN[23] = 1200\n",
    "    TN[24] = 1500\n",
    "    TN[25] = 2000 #dissociated values \n",
    "    TN[26] = 2200\n",
    "    TN[27] = 2400\n",
    "    TN[28] = 2600\n",
    "    TN[29] = 2800\n",
    "    TN[30] = 3000\n",
    "    TN[31] = 3200\n",
    "    TN[32] = 3400\n",
    "    TN[33] = 3600\n",
    "    TN[34] = 3800\n",
    "    TN[35] = 4000\n",
    "    TN[36] = 4200\n",
    "    TN[37] = 4400\n",
    "    TN[38] = 4600\n",
    "    TN[39] = 4800\n",
    "    TN[40] = 5000\n",
    "    TN[41] = 5200\n",
    "    TN[42] = 5400\n",
    "    TN[43] = 5600\n",
    "    TN[44] = 5800\n",
    "    TN[45] = 6000\n",
    "\n",
    "    # thermal conductivity array \n",
    "    kN = numpy.zeros((data_points),dtype=float)\n",
    "    kN_out = numpy.zeros((data_points),dtype=float)\n",
    "    kN[0] = 6.3 #@ 0 MPa\n",
    "    kN[1] = 6.8\n",
    "    kN[2] = 7.7\n",
    "    kN[3] = 8.7\n",
    "    kN[4] = 9.7\n",
    "    kN[5] = 10.6\n",
    "    kN[6] = 11.6\n",
    "    kN[7] = 12.5\n",
    "    kN[8] = 13.4\n",
    "    kN[9] = 14.3\n",
    "    kN[10] = 15.2\n",
    "    kN[11] = 17.0\n",
    "    kN[12] = 18.6\n",
    "    kN[13] = 22.5\n",
    "    kN[14] = 26.1\n",
    "    kN[15] = 29.4\n",
    "    kN[16] = 32.7\n",
    "    kN[17] = 35.8\n",
    "    kN[18] = 38.9\n",
    "    kN[19] = 44.8\n",
    "    kN[20] = 50.7\n",
    "    kN[21] = 56.4\n",
    "    kN[22] = 67.6\n",
    "    kN[23] = 78.3\n",
    "    kN[24] = 93.1\n",
    "    kN[25] = 126. #dissociated values, 1 bar\n",
    "    kN[26] = 138.\n",
    "    kN[27] = 149.\n",
    "    kN[28] = 159.\n",
    "    kN[29] = 170.\n",
    "    kN[30] = 180.\n",
    "    kN[31] = 191.\n",
    "    kN[32] = 202.\n",
    "    kN[33] = 215.\n",
    "    kN[34] = 232.\n",
    "    kN[35] = 255.\n",
    "    kN[36] = 288.\n",
    "    kN[37] = 337.\n",
    "    kN[38] = 409.\n",
    "    kN[39] = 512.\n",
    "    kN[40] = 657.\n",
    "    kN[41] = 854.\n",
    "    kN[42] = 1113.\n",
    "    kN[43] = 1443.\n",
    "    kN[44] = 1848.\n",
    "    kN[45] = 2323.\n",
    "    #\n",
    "    #conversion to W/{m-K}\n",
    "    kN_out[:] = 1e-3*kN[:]\n",
    "    #\n",
    "    return kN, TN"
   ]
  },
  {
   "cell_type": "code",
   "execution_count": 7,
   "metadata": {
    "collapsed": false
   },
   "outputs": [],
   "source": [
    "k1, T1 = get_thermal_conductivity_nitrogen(npoints1)"
   ]
  },
  {
   "cell_type": "code",
   "execution_count": 8,
   "metadata": {
    "collapsed": false
   },
   "outputs": [
    {
     "data": {
      "image/png": "[encoded data removed]",
      "text/plain": [
       "<matplotlib.figure.Figure at 0x10b6e4ac8>"
      ]
     },
     "metadata": {},
     "output_type": "display_data"
    }
   ],
   "source": [
    "plot(T1[:],k1[:],'Kelvin', 'Watts/mK', 'Thermal Conductivity of Nitrogen at 0 MPa')"
   ]
  },
  {
   "cell_type": "markdown",
   "metadata": {},
   "source": [
    "### curve fit"
   ]
  },
  {
   "cell_type": "code",
   "execution_count": 9,
   "metadata": {
    "collapsed": true
   },
   "outputs": [],
   "source": [
    "AN2 = numpy.vstack([T1**2,T1,numpy.ones(len(T1))]).T\n",
    "aN2,bN2,cN2 = numpy.linalg.lstsq(AN2,k1)[0]\n",
    "\n",
    "AN3 = numpy.vstack([T1**3,T1**2,T1,numpy.ones(len(T1))]).T\n",
    "aN3,bN3,cN3,dN3 = numpy.linalg.lstsq(AN3,k1)[0]\n",
    "\n",
    "AN4 = numpy.vstack([T1**4,T1**3,T1**2,T1,numpy.ones(len(T1))]).T\n",
    "aN4,bN4,cN4,dN4,eN4 = numpy.linalg.lstsq(AN4,k1)[0]"
   ]
  },
  {
   "cell_type": "code",
   "execution_count": 10,
   "metadata": {
    "collapsed": false
   },
   "outputs": [],
   "source": [
    "#2nd order\n",
    "kN2 = numpy.zeros_like(T1)\n",
    "kN2[:] = aN2*(T1[:]**2) + bN2*(T1[:]) + cN2\n",
    "#3rd order\n",
    "kN3 = numpy.zeros_like(T1)\n",
    "kN3[:] = aN3*(T1[:]**3) + bN3*(T1[:]**2) + cN3*T1[:] + dN3\n",
    "#4th order\n",
    "kN4 = numpy.zeros_like(T1)\n",
    "kN4[:] = aN4*(T1[:]**4) + bN4*(T1[:]**3) + cN4*(T1[:]**2) + dN4*T1[:] + eN4"
   ]
  },
  {
   "cell_type": "code",
   "execution_count": 11,
   "metadata": {
    "collapsed": false
   },
   "outputs": [
    {
     "data": {
      "image/png": "[encoded data removed]",
      "text/plain": [
       "<matplotlib.figure.Figure at 0x10b6a6ef0>"
      ]
     },
     "metadata": {},
     "output_type": "display_data"
    }
   ],
   "source": [
    "%matplotlib inline\n",
    "#\n",
    "pyplot.figure(figsize=(8,8))\n",
    "pyplot.grid(True)\n",
    "#\n",
    "pyplot.xlabel('Kelvin', fontsize=18)\n",
    "pyplot.ylabel('Watt/mK', fontsize=18)\n",
    "#\n",
    "pyplot.tick_params(axis='x', pad=10)\n",
    "pyplot.tick_params(axis='y', pad=10)\n",
    "#\n",
    "#pyplot.xticks(numpy.arange(0, 3000, 200))\n",
    "#\n",
    "pyplot.title('Curve Fit to Nitrogen Thermal Conductivity')\n",
    "#\n",
    "pyplot.plot(T1,k1,color='k', ls='--', lw=2, marker='o')\n",
    "pyplot.plot(T1,kN2,color='b',ls='--', lw=2, marker='o')\n",
    "pyplot.plot(T1,kN3,color='r',ls='--', lw=2, marker='o')\n",
    "pyplot.plot(T1,kN4,color='g',ls='--', lw=2, marker='o');\n",
    "pyplot.legend(['Empirical','2nd order fit','3rd order fit','4th order'],loc='upper left');"
   ]
  },
  {
   "cell_type": "markdown",
   "metadata": {},
   "source": [
    "#### looks like the 4th order fit works well"
   ]
  },
  {
   "cell_type": "code",
   "execution_count": 12,
   "metadata": {
    "collapsed": false
   },
   "outputs": [
    {
     "data": {
      "text/plain": [
       "1.1973364764750705e-11"
      ]
     },
     "execution_count": 12,
     "metadata": {},
     "output_type": "execute_result"
    }
   ],
   "source": [
    "aN4"
   ]
  },
  {
   "cell_type": "code",
   "execution_count": 13,
   "metadata": {
    "collapsed": false
   },
   "outputs": [
    {
     "data": {
      "text/plain": [
       "-1.0022238377799794e-07"
      ]
     },
     "execution_count": 13,
     "metadata": {},
     "output_type": "execute_result"
    }
   ],
   "source": [
    "bN4"
   ]
  },
  {
   "cell_type": "code",
   "execution_count": 14,
   "metadata": {
    "collapsed": false
   },
   "outputs": [
    {
     "data": {
      "text/plain": [
       "0.00025655111953739039"
      ]
     },
     "execution_count": 14,
     "metadata": {},
     "output_type": "execute_result"
    }
   ],
   "source": [
    "cN4"
   ]
  },
  {
   "cell_type": "code",
   "execution_count": 15,
   "metadata": {
    "collapsed": false
   },
   "outputs": [
    {
     "data": {
      "text/plain": [
       "-0.1423732005907308"
      ]
     },
     "execution_count": 15,
     "metadata": {},
     "output_type": "execute_result"
    }
   ],
   "source": [
    "dN4"
   ]
  },
  {
   "cell_type": "code",
   "execution_count": 16,
   "metadata": {
    "collapsed": false
   },
   "outputs": [
    {
     "data": {
      "text/plain": [
       "33.464978104210182"
      ]
     },
     "execution_count": 16,
     "metadata": {},
     "output_type": "execute_result"
    }
   ],
   "source": [
    "eN4"
   ]
  },
  {
   "cell_type": "markdown",
   "metadata": {},
   "source": [
    "## Boron"
   ]
  },
  {
   "cell_type": "code",
   "execution_count": null,
   "metadata": {
    "collapsed": true
   },
   "outputs": [],
   "source": [
    "#http://www.academia.edu/5198003/\n",
    "#Correlations_for_the_Thermal_Conductivity_of_Metals_as_a_Function_of_Temperature"
   ]
  },
  {
   "cell_type": "code",
   "execution_count": 17,
   "metadata": {
    "collapsed": true
   },
   "outputs": [],
   "source": [
    "kB = 27.4 #W/(m·K)"
   ]
  },
  {
   "cell_type": "markdown",
   "metadata": {},
   "source": [
    "## Nickel"
   ]
  },
  {
   "cell_type": "code",
   "execution_count": 18,
   "metadata": {
    "collapsed": true
   },
   "outputs": [],
   "source": [
    "kNi = 90.9 #W/(m·K)"
   ]
  },
  {
   "cell_type": "markdown",
   "metadata": {},
   "source": [
    "## Cobalt"
   ]
  },
  {
   "cell_type": "code",
   "execution_count": 19,
   "metadata": {
    "collapsed": true
   },
   "outputs": [],
   "source": [
    "kCo = 100 #W/(m·K)"
   ]
  },
  {
   "cell_type": "markdown",
   "metadata": {},
   "source": [
    "## Tungsten"
   ]
  },
  {
   "cell_type": "code",
   "execution_count": 20,
   "metadata": {
    "collapsed": true
   },
   "outputs": [],
   "source": [
    "kT = 173 #W/(m·K)"
   ]
  }
 ],
 "metadata": {
  "kernelspec": {
   "display_name": "Python 3",
   "language": "python",
   "name": "python3"
  },
  "language_info": {
   "codemirror_mode": {
    "name": "ipython",
    "version": 3
   },
   "file_extension": ".py",
   "mimetype": "text/x-python",
   "name": "python",
   "nbconvert_exporter": "python",
   "pygments_lexer": "ipython3",
   "version": "3.4.5"
  }
 },
 "nbformat": 4,
 "nbformat_minor": 0
}
