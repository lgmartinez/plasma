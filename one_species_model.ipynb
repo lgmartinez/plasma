{
 "cells": [
  {
   "cell_type": "markdown",
   "metadata": {},
   "source": [
    "### Libraries"
   ]
  },
  {
   "cell_type": "code",
   "execution_count": 1,
   "metadata": {
    "collapsed": false
   },
   "outputs": [],
   "source": [
    "import numpy\n",
    "from numpy import pi\n",
    "import sympy\n",
    "import math\n",
    "import scipy\n",
    "import scipy.optimize\n",
    "from scipy import constants\n",
    "\n",
    "import matplotlib.pyplot "
   ]
  },
  {
   "cell_type": "code",
   "execution_count": 2,
   "metadata": {
    "collapsed": true
   },
   "outputs": [],
   "source": [
    "from mpl_toolkits.mplot3d import Axes3D\n",
    "from matplotlib import pyplot, cm\n",
    "%matplotlib inline\n",
    "#\n",
    "from matplotlib import rcParams\n",
    "rcParams['font.family'] = 'serif'\n",
    "rcParams['font.size'] = 16"
   ]
  },
  {
   "cell_type": "code",
   "execution_count": 3,
   "metadata": {
    "collapsed": false
   },
   "outputs": [
    {
     "data": {
      "text/html": [
       "<link href='http://fonts.googleapis.com/css?family=Alegreya+Sans:100,300,400,500,700,800,900,100italic,300italic,400italic,500italic,700italic,800italic,900italic' rel='stylesheet' type='text/css'>\n",
       "<link href='http://fonts.googleapis.com/css?family=Arvo:400,700,400italic' rel='stylesheet' type='text/css'>\n",
       "<link href='http://fonts.googleapis.com/css?family=PT+Mono' rel='stylesheet' type='text/css'>\n",
       "<link href='http://fonts.googleapis.com/css?family=Shadows+Into+Light' rel='stylesheet' type='text/css'>\n",
       "<link href='http://fonts.googleapis.com/css?family=Nixie+One' rel='stylesheet' type='text/css'>\n",
       "<style>\n",
       "\n",
       "@font-face {\n",
       "    font-family: \"Computer Modern\";\n",
       "    src: url('http://mirrors.ctan.org/fonts/cm-unicode/fonts/otf/cmunss.otf');\n",
       "}\n",
       "\n",
       "#notebook_panel { /* main background */\n",
       "    background: rgb(245,245,245);\n",
       "}\n",
       "\n",
       "div.cell { /* set cell width */\n",
       "    width: 750px;\n",
       "}\n",
       "\n",
       "div #notebook { /* centre the content */\n",
       "    background: #fff; /* white background for content */\n",
       "    width: 1000px;\n",
       "    margin: auto;\n",
       "    padding-left: 0em;\n",
       "}\n",
       "\n",
       "#notebook li { /* More space between bullet points */\n",
       "    margin-top:0.8em;\n",
       "}\n",
       "\n",
       "/* draw border around running cells */\n",
       "div.cell.border-box-sizing.code_cell.running { \n",
       "    border: 1px solid #111;\n",
       "}\n",
       "\n",
       "/* Put a solid color box around each cell and its output, visually linking them*/\n",
       "div.cell.code_cell {\n",
       "    background-color: rgb(256,256,256); \n",
       "    border-radius: 0px; \n",
       "    padding: 0.5em;\n",
       "    margin-left:1em;\n",
       "    margin-top: 1em;\n",
       "}\n",
       "\n",
       "div.text_cell_render{\n",
       "    font-family: 'Alegreya Sans' sans-serif;\n",
       "    line-height: 140%;\n",
       "    font-size: 125%;\n",
       "    font-weight: 400;\n",
       "    width:600px;\n",
       "    margin-left:auto;\n",
       "    margin-right:auto;\n",
       "}\n",
       "\n",
       "\n",
       "/* Formatting for header cells */\n",
       ".text_cell_render h1 {\n",
       "    font-family: 'Nixie One', serif;\n",
       "    font-style:regular;\n",
       "    font-weight: 400;    \n",
       "    font-size: 45pt;\n",
       "    line-height: 100%;\n",
       "    color: rgb(0,51,102);\n",
       "    margin-bottom: 0.5em;\n",
       "    margin-top: 0.5em;\n",
       "    display: block;\n",
       "}\n",
       "\n",
       ".text_cell_render h2 {\n",
       "    font-family: 'Nixie One', serif;\n",
       "    font-weight: 400;\n",
       "    font-size: 30pt;\n",
       "    line-height: 100%;\n",
       "    color: rgb(0,51,102);\n",
       "    margin-bottom: 0.1em;\n",
       "    margin-top: 0.3em;\n",
       "    display: block;\n",
       "}\t\n",
       "\n",
       ".text_cell_render h3 {\n",
       "    font-family: 'Nixie One', serif;\n",
       "    margin-top:16px;\n",
       "    font-size: 22pt;\n",
       "    font-weight: 600;\n",
       "    margin-bottom: 3px;\n",
       "    font-style: regular;\n",
       "    color: rgb(102,102,0);\n",
       "}\n",
       "\n",
       ".text_cell_render h4 {    /*Use this for captions*/\n",
       "    font-family: 'Nixie One', serif;\n",
       "    font-size: 14pt;\n",
       "    text-align: center;\n",
       "    margin-top: 0em;\n",
       "    margin-bottom: 2em;\n",
       "    font-style: regular;\n",
       "}\n",
       "\n",
       ".text_cell_render h5 {  /*Use this for small titles*/\n",
       "    font-family: 'Nixie One', sans-serif;\n",
       "    font-weight: 400;\n",
       "    font-size: 16pt;\n",
       "    color: rgb(163,0,0);\n",
       "    font-style: italic;\n",
       "    margin-bottom: .1em;\n",
       "    margin-top: 0.8em;\n",
       "    display: block;\n",
       "}\n",
       "\n",
       ".text_cell_render h6 { /*use this for copyright note*/\n",
       "    font-family: 'PT Mono', sans-serif;\n",
       "    font-weight: 300;\n",
       "    font-size: 9pt;\n",
       "    line-height: 100%;\n",
       "    color: grey;\n",
       "    margin-bottom: 1px;\n",
       "    margin-top: 1px;\n",
       "}\n",
       "\n",
       ".CodeMirror{\n",
       "    font-family: \"PT Mono\";\n",
       "    font-size: 90%;\n",
       "}\n",
       "\n",
       "</style>\n",
       "<script>\n",
       "    MathJax.Hub.Config({\n",
       "                        TeX: {\n",
       "                           extensions: [\"AMSmath.js\"],\n",
       "                           equationNumbers: { autoNumber: \"AMS\", useLabelIds: true}\n",
       "                           },\n",
       "                tex2jax: {\n",
       "                    inlineMath: [ ['$','$'], [\"\\\\(\",\"\\\\)\"] ],\n",
       "                    displayMath: [ ['$$','$$'], [\"\\\\[\",\"\\\\]\"] ]\n",
       "                },\n",
       "                displayAlign: 'center', // Change this to 'center' to center equations.\n",
       "                \"HTML-CSS\": {\n",
       "                    styles: {'.MathJax_Display': {\"margin\": 4}}\n",
       "                }\n",
       "        });\n",
       "</script>\n"
      ],
      "text/plain": [
       "<IPython.core.display.HTML object>"
      ]
     },
     "execution_count": 3,
     "metadata": {},
     "output_type": "execute_result"
    }
   ],
   "source": [
    "from IPython.core.display import HTML\n",
    "#css_file = '/Users/Luis/numerical-mooc/styles/numericalmoocstyle.css'\n",
    "css_file = './numericalmoocstyle.css'\n",
    "HTML(open(css_file, \"r\").read())"
   ]
  },
  {
   "cell_type": "markdown",
   "metadata": {},
   "source": [
    "### Parameters"
   ]
  },
  {
   "cell_type": "code",
   "execution_count": 4,
   "metadata": {
    "collapsed": false
   },
   "outputs": [],
   "source": [
    "# Inputs to Model\n",
    "Te_eV =  0.6191499999997309\n",
    " # given in eV\n",
    "Te = Te_eV*(11604.52500617) # K\n",
    "\n",
    "Pt = 300 * 133.322 # torr to Pa\n",
    "\n",
    "#Initial Cathode and Anode Temperatures, assume room temp in Kelvin:\n",
    "To = 298.15\n",
    "\n",
    "#Input Arc current\n",
    "Iarc = 80."
   ]
  },
  {
   "cell_type": "code",
   "execution_count": 5,
   "metadata": {
    "collapsed": false
   },
   "outputs": [],
   "source": [
    "\n",
    "\n",
    "Rc = (12.5/2.) * 1./1000. # cathode radius [meters]\n",
    "Ran = 6.35/2. * 1./1000.  #anode radius [meters]\n",
    "Lgap = 3.5 * 1./1000. #interelectrode gap [meters]\n",
    "#\n",
    "Rarc = Ran*0.02*Iarc\n",
    "#Rarc = Ran\n",
    "\n",
    "Em_C = 0.70 #emissivity - graphite (0-3600 deg)\n",
    "\n",
    "#Richardson Constant:\n",
    "A = 1.2e6 #constant in electron current density eqn [A/(m^2 K^2)], pg.62\n",
    "\n",
    "#Thermal Conductivity Carbon\n",
    "lmbda_C = 1.7 #thermal conductivity carbon W m-1 K-1\n",
    "\n",
    "#Work Function, http://hyperphysics.phy-astr.gsu.edu/hbase/tables/photoelec.html\n",
    "phi_C = 4.81*constants.e #work function of Carbon for photoelectric effect, eV to Joules\n",
    "phi_C_eV = 4.81 #eV\n",
    "\n",
    "#Ionization Potential of Carbon\n",
    "Uiz_C_eV = 11.2603 #eV\n",
    "\n",
    "dH = (355.8/(0.012))*1000. #convert kJ/Kmol to J/kg, heat of vaporization carbon\n",
    "dH2 = 5.95e7 #J/Kg http://www.wolframalpha.com/input/?i=heat+of+evaporationcarbon\n",
    "cp = 710.0 # J/(Kg*K) #specific heat @ constant pressure\n",
    "\n",
    "E_C = 11.2603*constants.e #ionization energy for carbon in Joules\n",
    "E_C2 = 24.3833*constants.e #ionization energy for carbon in Joules second spectra\n",
    "#-------------------------------------------------------------------------------------\n"
   ]
  },
  {
   "cell_type": "code",
   "execution_count": 6,
   "metadata": {
    "collapsed": false
   },
   "outputs": [
    {
     "name": "stdout",
     "output_type": "stream",
     "text": [
      "mass of He and C Ions : 2.659e-26 \n"
     ]
    }
   ],
   "source": [
    "UAMU = 1.660538921e-27 # Unified atomic mass unit in Kg\n",
    "\n",
    "mi_He = UAMU*4.002602\n",
    "mi_C = UAMU*12.0107\n",
    "\n",
    "m_i_AMU = (mi_He + mi_C) # given in kilograms\n",
    "#m_i_AMU = (mi_C)\n",
    "#\n",
    "print('mass of He and C Ions : %.4g ' % m_i_AMU)"
   ]
  },
  {
   "cell_type": "markdown",
   "metadata": {},
   "source": [
    "### one-species plasma"
   ]
  },
  {
   "cell_type": "code",
   "execution_count": 7,
   "metadata": {
    "collapsed": true
   },
   "outputs": [],
   "source": [
    "def get_ne_s1(T_el, e_iz, P_total):\n",
    "    #\n",
    "    ne_var = sympy.symbols('ne_var')\n",
    "    #Saha Eqn\n",
    "    f_c =  ( ( (2*pi*constants.m_e*constants.k*T_el) / (constants.h**2) )**(3/2) ) *\\\n",
    "                 math.exp( (-e_iz) / (constants.k*T_el))\n",
    "    #\n",
    "    ne_var_eqn = sympy.Eq(0, ((ne_var**2 )/f_c) + (2*ne_var) -\\\n",
    "                          (P_total/(T_el*constants.k)) )\n",
    "    #solve for number density:\n",
    "    nes = sympy.solve(ne_var_eqn, ne_var)\n",
    "    nos = (nes[1]**2)/f_c\n",
    "    nis = nes[1]\n",
    "    #\n",
    "    return nes[1], nos, nis"
   ]
  },
  {
   "cell_type": "code",
   "execution_count": 8,
   "metadata": {
    "collapsed": false
   },
   "outputs": [],
   "source": [
    "ne, no, ni = get_ne_s1(Te, E_C, Pt)"
   ]
  },
  {
   "cell_type": "code",
   "execution_count": 9,
   "metadata": {
    "collapsed": false
   },
   "outputs": [
    {
     "data": {
      "text/plain": [
       "3.97758906757326e+23"
      ]
     },
     "execution_count": 9,
     "metadata": {},
     "output_type": "execute_result"
    }
   ],
   "source": [
    "no"
   ]
  },
  {
   "cell_type": "code",
   "execution_count": 10,
   "metadata": {
    "collapsed": false
   },
   "outputs": [
    {
     "data": {
      "text/plain": [
       "2.71872953885486e+21"
      ]
     },
     "execution_count": 10,
     "metadata": {},
     "output_type": "execute_result"
    }
   ],
   "source": [
    "ne"
   ]
  },
  {
   "cell_type": "markdown",
   "metadata": {},
   "source": [
    "### Ion Current"
   ]
  },
  {
   "cell_type": "code",
   "execution_count": 11,
   "metadata": {
    "collapsed": false
   },
   "outputs": [
    {
     "name": "stdout",
     "output_type": "stream",
     "text": [
      "Ion Current in Amperes : 61.95 \n"
     ]
    }
   ],
   "source": [
    "I_ion = numpy.pi*(Rc**2)*\\\n",
    "            0.6*(constants.e)*(ne)*numpy.sqrt( (Te_eV*constants.e) / m_i_AMU)\n",
    "print('Ion Current in Amperes : %.4g ' % I_ion)"
   ]
  },
  {
   "cell_type": "code",
   "execution_count": 12,
   "metadata": {
    "collapsed": false
   },
   "outputs": [
    {
     "data": {
      "text/plain": [
       "0.774347144112861"
      ]
     },
     "execution_count": 12,
     "metadata": {},
     "output_type": "execute_result"
    }
   ],
   "source": [
    "I_ion/Iarc"
   ]
  },
  {
   "cell_type": "markdown",
   "metadata": {},
   "source": [
    "### Cathode Temperature"
   ]
  },
  {
   "cell_type": "code",
   "execution_count": 13,
   "metadata": {
    "collapsed": true
   },
   "outputs": [],
   "source": [
    "def get_T_cathode(Iarc, root):\n",
    "    Tc = sympy.symbols('Tc')\n",
    "    Tc_eqn = sympy.Eq( Iarc, pi*(Rc**2)*A*(Tc**2)*sympy.exp(-phi_C/(constants.k*Tc))\\\n",
    "                  + I_ion ) \n",
    "    Tcs = sympy.nsolve(Tc_eqn, Tc, root, verify=False)\n",
    "    Tc_sim = float(Tcs)\n",
    "    \n",
    "    return Tc_sim"
   ]
  },
  {
   "cell_type": "code",
   "execution_count": 14,
   "metadata": {
    "collapsed": true
   },
   "outputs": [],
   "source": [
    "Tc = sympy.symbols('Tc')"
   ]
  },
  {
   "cell_type": "code",
   "execution_count": 15,
   "metadata": {
    "collapsed": true
   },
   "outputs": [],
   "source": [
    "Tc_eqn = sympy.Eq( Iarc, pi*(Rc**2)*A*(Tc**2)*sympy.exp(-phi_C/(constants.k*Tc))\\\n",
    "                  + I_ion ) "
   ]
  },
  {
   "cell_type": "code",
   "execution_count": 16,
   "metadata": {
    "collapsed": false
   },
   "outputs": [
    {
     "data": {
      "text/plain": [
       "80.0 == 147.262155637022*Tc**2*exp(-55817.737846511/Tc) + 61.9477715290289"
      ]
     },
     "execution_count": 16,
     "metadata": {},
     "output_type": "execute_result"
    }
   ],
   "source": [
    "Tc_eqn"
   ]
  },
  {
   "cell_type": "code",
   "execution_count": 17,
   "metadata": {
    "collapsed": false
   },
   "outputs": [],
   "source": [
    "Tcs = sympy.nsolve(Tc_eqn, Tc, 3000, verify=False)"
   ]
  },
  {
   "cell_type": "code",
   "execution_count": 18,
   "metadata": {
    "collapsed": false
   },
   "outputs": [
    {
     "name": "stdout",
     "output_type": "stream",
     "text": [
      "Cathode Temperature in Kelvin: 3074 \n"
     ]
    }
   ],
   "source": [
    "Tc_sim = float(Tcs)\n",
    "\n",
    "print('Cathode Temperature in Kelvin: %.4g ' % Tc_sim)"
   ]
  },
  {
   "cell_type": "markdown",
   "metadata": {},
   "source": [
    "### Electron Current"
   ]
  },
  {
   "cell_type": "code",
   "execution_count": 19,
   "metadata": {
    "collapsed": false
   },
   "outputs": [
    {
     "name": "stdout",
     "output_type": "stream",
     "text": [
      "Electron Current in Amperes : 18.05 \n"
     ]
    }
   ],
   "source": [
    "I_e = numpy.pi*(Rc**2)*A*(Tc_sim**2)*numpy.exp(-phi_C/(constants.k*Tc_sim))\n",
    "print('Electron Current in Amperes : %.4g ' % I_e)"
   ]
  },
  {
   "cell_type": "code",
   "execution_count": 20,
   "metadata": {
    "collapsed": false
   },
   "outputs": [
    {
     "name": "stdout",
     "output_type": "stream",
     "text": [
      "Current Continuity Conservation (percent) : 100 \n"
     ]
    }
   ],
   "source": [
    "#check continuity\n",
    "I_cons = ((I_e + I_ion)/Iarc)*100.\n",
    "print('Current Continuity Conservation (percent) : %.4g ' % I_cons)"
   ]
  },
  {
   "cell_type": "markdown",
   "metadata": {},
   "source": [
    "### Anode Region"
   ]
  },
  {
   "cell_type": "code",
   "execution_count": 21,
   "metadata": {
    "collapsed": true
   },
   "outputs": [],
   "source": [
    "Ta = sympy.symbols('Ta')"
   ]
  },
  {
   "cell_type": "code",
   "execution_count": 22,
   "metadata": {
    "collapsed": false
   },
   "outputs": [
    {
     "name": "stdout",
     "output_type": "stream",
     "text": [
      "Thermal Current (Amps): 1816 \n"
     ]
    }
   ],
   "source": [
    "\n",
    "I_th2 = 0.25*constants.e*(ne)*(numpy.sqrt((8*constants.e*Te_eV)/(numpy.pi*constants.m_e)))*pi*Ran**2\n",
    "print('Thermal Current (Amps): %.4g ' % I_th2)"
   ]
  },
  {
   "cell_type": "code",
   "execution_count": 23,
   "metadata": {
    "collapsed": false
   },
   "outputs": [
    {
     "name": "stdout",
     "output_type": "stream",
     "text": [
      "Anode Voltage drop in eV: -1.933 \n"
     ]
    }
   ],
   "source": [
    "Ua_eV =  - Te_eV * math.log(I_th2/Iarc) #eV\n",
    "print('Anode Voltage drop in eV: %.4g ' % Ua_eV)"
   ]
  },
  {
   "cell_type": "markdown",
   "metadata": {},
   "source": [
    "### HEat Flux Density at Anode"
   ]
  },
  {
   "cell_type": "code",
   "execution_count": 24,
   "metadata": {
    "collapsed": false
   },
   "outputs": [
    {
     "name": "stdout",
     "output_type": "stream",
     "text": [
      "Anode Heat Flux density [ W/m2 ]: 1.04e+07 \n"
     ]
    }
   ],
   "source": [
    "q_a = (Iarc/(pi*Ran**2))*((2.*Te_eV + Ua_eV + phi_C_eV))\n",
    "print('Anode Heat Flux density [ W/m2 ]: %.4g ' % q_a)"
   ]
  },
  {
   "cell_type": "markdown",
   "metadata": {},
   "source": [
    "### Solve for Ta"
   ]
  },
  {
   "cell_type": "code",
   "execution_count": 25,
   "metadata": {
    "collapsed": true
   },
   "outputs": [],
   "source": [
    "dH = (355.8/(0.012))*1000. #convert kJ/Kmol to J/kg, heat of vaporization carbon\n",
    "dH2 = 5.95e7 #J/Kg http://www.wolframalpha.com/input/?i=heat+of+evaporationcarbon\n",
    "cp = 710.0 # J/(Kg*K) #specific heat @ constant pressure\n",
    "\n",
    "A = 15.73\n",
    "B = 40030.0"
   ]
  },
  {
   "cell_type": "code",
   "execution_count": 26,
   "metadata": {
    "collapsed": true
   },
   "outputs": [],
   "source": [
    "def get_Ta(m_i, root, hv, c_p, qa, Ti):\n",
    "    #\n",
    "    Ta = sympy.symbols('Ta')\n",
    "    #\n",
    "    Ta_eqn = qa - ( (0.133*sympy.exp(2.3*(A - B/Ta)))*\\\n",
    "                              sympy.sqrt(m_i/(2*pi*constants.k*Ta)))*\\\n",
    "                   (c_p*Ta + hv+ c_p*(Ta-Ti))\n",
    "    #\n",
    "    Ta_sol = sympy.nsolve(Ta_eqn, root, verify=False)\n",
    "    #\n",
    "    Ta_sim = float(Ta_sol)\n",
    "    #\n",
    "    return Ta_sim"
   ]
  },
  {
   "cell_type": "code",
   "execution_count": 27,
   "metadata": {
    "collapsed": false
   },
   "outputs": [
    {
     "data": {
      "text/plain": [
       "3379.205164109078"
      ]
     },
     "execution_count": 27,
     "metadata": {},
     "output_type": "execute_result"
    }
   ],
   "source": [
    "Tan = get_Ta(m_i_AMU, 3000, dH, cp, q_a, To)\n",
    "Tan"
   ]
  },
  {
   "cell_type": "code",
   "execution_count": 28,
   "metadata": {
    "collapsed": false
   },
   "outputs": [
    {
     "name": "stdout",
     "output_type": "stream",
     "text": [
      "Ablation Rate from Anode in [kg/(s)]: 9.616 \n"
     ]
    }
   ],
   "source": [
    "ABL = (0.133*numpy.exp(2.3*(A - B/Tan)))*\\\n",
    "        numpy.sqrt(m_i_AMU/(2*numpy.pi*constants.k*Tan))*\\\n",
    "        numpy.pi*(Ran**2)*1e6\n",
    "print('Ablation Rate from Anode in [kg/(s)]: %.4g ' % ABL)"
   ]
  },
  {
   "cell_type": "markdown",
   "metadata": {},
   "source": [
    "### Collisions"
   ]
  },
  {
   "cell_type": "code",
   "execution_count": 29,
   "metadata": {
    "collapsed": false
   },
   "outputs": [],
   "source": [
    "# Parameters for Collisions\n",
    "re = 2.8179403267e-15 # classical electron radius in meters\n",
    "gamma = numpy.exp(0.577) #from Euler's constant\n",
    "ni_C = ne #plasma quasi-neutrality\n",
    "#------------\n",
    "Qm = 40e-20\n",
    "\n",
    "\n",
    "ke = math.sqrt((4*numpy.pi*ne*(constants.e**2))/(Te*constants.k))\n",
    "\n",
    "lnA = numpy.log((4*constants.k*Te)/((gamma**2)*(ke)*(constants.e**2))) -\\\n",
    "        2*numpy.log(numpy.sqrt(2))\n",
    "\n",
    "# electron-neutral collision frequency\n",
    "v_eo = (4/3)*numpy.sqrt((8*constants.k*Te)/(numpy.pi*constants.m_e))*\\\n",
    "                Qm*(no)\n",
    "\n",
    "# electron-neutral collision frequency\n",
    "v_ei = (4/3)*numpy.sqrt(2*numpy.pi)*(ni_C)*\\\n",
    "            (((constants.e**2)/(constants.k*Te))**2)*\\\n",
    "            numpy.sqrt((constants.k*Te)/constants.m_e)*lnA\n",
    "        \n",
    "\n",
    "ve_t = v_ei + v_eo"
   ]
  },
  {
   "cell_type": "code",
   "execution_count": 30,
   "metadata": {
    "collapsed": false
   },
   "outputs": [
    {
     "name": "stdout",
     "output_type": "stream",
     "text": [
      "Electron Collision Frequency [1/s]: 1.117e+11 \n"
     ]
    }
   ],
   "source": [
    "print('Electron Collision Frequency [1/s]: %.4g ' % ve_t)"
   ]
  },
  {
   "cell_type": "markdown",
   "metadata": {},
   "source": [
    "### Electrical Conductivity"
   ]
  },
  {
   "cell_type": "code",
   "execution_count": 31,
   "metadata": {
    "collapsed": false
   },
   "outputs": [
    {
     "name": "stdout",
     "output_type": "stream",
     "text": [
      "Electrical Conductivity of plasma [Siemens/meter]: 685.8 \n"
     ]
    }
   ],
   "source": [
    "# electrical conductivity:\n",
    "\n",
    "sigma = (ne*constants.e**2)/(constants.m_e* ve_t)\n",
    "\n",
    "print('Electrical Conductivity of plasma [Siemens/meter]: %.4g ' % sigma)"
   ]
  },
  {
   "cell_type": "markdown",
   "metadata": {},
   "source": [
    "### Inter-electrode Voltage "
   ]
  },
  {
   "cell_type": "code",
   "execution_count": 32,
   "metadata": {
    "collapsed": false
   },
   "outputs": [
    {
     "name": "stdout",
     "output_type": "stream",
     "text": [
      "Interelectrode Voltage [V]: 5.036 \n"
     ]
    }
   ],
   "source": [
    "Upl = (Iarc*Lgap)/(sigma*numpy.pi*Rarc**2)\n",
    "print('Interelectrode Voltage [V]: %.4g ' % Upl)"
   ]
  },
  {
   "cell_type": "markdown",
   "metadata": {},
   "source": [
    "### Heat Losses due to Thermal and Radiative conduction"
   ]
  },
  {
   "cell_type": "code",
   "execution_count": 33,
   "metadata": {
    "collapsed": true
   },
   "outputs": [],
   "source": [
    "# thermal conduction flux (W/m2)\n",
    "q_con = ((Tc_sim-To)*lmbda_C)/(Rc*(numpy.pi**(3/2)) )\n",
    "\n",
    "# radiative  flux (W/m2)\n",
    "q_rad = Em_C*constants.sigma*(Tc_sim**4)"
   ]
  },
  {
   "cell_type": "code",
   "execution_count": 34,
   "metadata": {
    "collapsed": false
   },
   "outputs": [
    {
     "name": "stdout",
     "output_type": "stream",
     "text": [
      "Radiative flux [W/m2]: 3.543e+06 \n"
     ]
    }
   ],
   "source": [
    "print('Radiative flux [W/m2]: %.4g ' % q_rad)"
   ]
  },
  {
   "cell_type": "code",
   "execution_count": 35,
   "metadata": {
    "collapsed": false
   },
   "outputs": [
    {
     "name": "stdout",
     "output_type": "stream",
     "text": [
      "Thermal conduction flux [W/m2]: 1.356e+05 \n"
     ]
    }
   ],
   "source": [
    "print('Thermal conduction flux [W/m2]: %.4g ' % q_con)"
   ]
  },
  {
   "cell_type": "markdown",
   "metadata": {},
   "source": [
    "### Cathode Voltage"
   ]
  },
  {
   "cell_type": "code",
   "execution_count": 36,
   "metadata": {
    "collapsed": false
   },
   "outputs": [
    {
     "name": "stdout",
     "output_type": "stream",
     "text": [
      " Cathode Voltage in Volts : 23.36 \n"
     ]
    }
   ],
   "source": [
    "Uc = ((numpy.pi*(Rc**2))/(I_ion))*( q_con + q_rad ) + phi_C_eV + Uiz_C_eV\n",
    "\n",
    "print(' Cathode Voltage in Volts : %.4g ' % Uc)"
   ]
  },
  {
   "cell_type": "markdown",
   "metadata": {},
   "source": [
    "### Energy Conservation"
   ]
  },
  {
   "cell_type": "code",
   "execution_count": 37,
   "metadata": {
    "collapsed": false
   },
   "outputs": [
    {
     "data": {
      "text/plain": [
       "824.515546624201"
      ]
     },
     "execution_count": 37,
     "metadata": {},
     "output_type": "execute_result"
    }
   ],
   "source": [
    "J_Heating = Iarc*(Upl) + Uc*I_e\n",
    "J_Heating"
   ]
  },
  {
   "cell_type": "code",
   "execution_count": 38,
   "metadata": {
    "collapsed": false
   },
   "outputs": [],
   "source": [
    "# Losses\n",
    "\n",
    "# Convert anode temp to eV\n",
    "Ta_sim_eV = Tan/(11604.52500617)\n",
    "Ta_sim_eV\n",
    "\n",
    "loss12 = Iarc*(2*Te_eV + Ua_eV) + Uiz_C_eV*I_ion\n",
    "\n",
    "loss3 = 3*(constants.m_e/m_i_AMU)*\\\n",
    "            (Te_eV-Ta_sim_eV)*ne*Lgap*numpy.pi*(Ran**2)*ve_t*constants.e"
   ]
  },
  {
   "cell_type": "code",
   "execution_count": 39,
   "metadata": {
    "collapsed": false
   },
   "outputs": [
    {
     "data": {
      "text/plain": [
       "823.745966416004"
      ]
     },
     "execution_count": 39,
     "metadata": {},
     "output_type": "execute_result"
    }
   ],
   "source": [
    "loss12+loss3"
   ]
  },
  {
   "cell_type": "code",
   "execution_count": 40,
   "metadata": {
    "collapsed": false
   },
   "outputs": [
    {
     "data": {
      "text/plain": [
       "1.00093424458458"
      ]
     },
     "execution_count": 40,
     "metadata": {},
     "output_type": "execute_result"
    }
   ],
   "source": [
    "cons = J_Heating/(loss12 + loss3)\n",
    "cons"
   ]
  },
  {
   "cell_type": "code",
   "execution_count": 41,
   "metadata": {
    "collapsed": false
   },
   "outputs": [
    {
     "data": {
      "text/plain": [
       "0.000934244584583466"
      ]
     },
     "execution_count": 41,
     "metadata": {},
     "output_type": "execute_result"
    }
   ],
   "source": [
    "numpy.abs(1 - cons)"
   ]
  },
  {
   "cell_type": "markdown",
   "metadata": {},
   "source": [
    "## Results"
   ]
  },
  {
   "cell_type": "markdown",
   "metadata": {},
   "source": [
    "### 99.99 percent convergence achieved for the following trials\n",
    "\n",
    "### 20 amps, 300 torr: \n",
    "#### Te = 0.551819999999992\n",
    "\n",
    "### 40 amps, 300 torr: \n",
    "#### Te = 0.5885799999999872\n",
    "\n",
    "### 50 amps, 300 torr: \n",
    "#### Te = 0.63000399999999956\n",
    "\n",
    "\n",
    "### 50 amps, 300 torr (BETTER SOLUTION for 50 A): \n",
    "#### 0.60147999999962926\n",
    "\n",
    "### 60 amps, 300 torr: \n",
    "#### Te = 0.60771000000000541\n",
    "\n",
    "### 80 Amps, 300 Torr: \n",
    "#### Te = 0.61915062499999995\n",
    "\n",
    "### 100 Amps, 300 Torr: \n",
    "#### Te = 0.62941999999999543"
   ]
  },
  {
   "cell_type": "code",
   "execution_count": 42,
   "metadata": {
    "collapsed": false
   },
   "outputs": [],
   "source": [
    "Iarc_v = numpy.array((20,40,50,60,80,100), dtype=float)\n",
    "ne_v = 1e20 * numpy.array((8.75,16.8,20.7,22.8,27.2,31.6), dtype=float)\n",
    "Iion_v1 = numpy.array((.94,.93,0.9297,0.8589,0.7743,0.7265), dtype=float)\n",
    "Uc_v =  numpy.array((30.68,24.6,23.23,23.66,23.36,22.81), dtype=float)\n",
    "Ua_v =  -1*numpy.array((1.831,1.947,1.988,1.961,1.933,1.925), dtype=float)\n",
    "Upl_v =  numpy.array((10.71,10.77,10.78,8.09,5.036,3.426), dtype=float)\n",
    "Te_v =  numpy.array((0.55182,0.58858,0.60148,0.60771,0.6106,0.62942), dtype=float)\n",
    "\n",
    "Tc_v =  numpy.array((2705,2808,2842,2962,3074,3138), dtype=float)\n",
    "Ta_v =  numpy.array((3212,3292,3318,3341,3379,3408), dtype=float)\n",
    "\n",
    "abl_v =  numpy.array((2.402,4.737,5.893,7.135,9.616,12.09), dtype=float)"
   ]
  },
  {
   "cell_type": "code",
   "execution_count": 43,
   "metadata": {
    "collapsed": true
   },
   "outputs": [],
   "source": [
    "def plot(v1, v2, xlabl, ylabl, title):\n",
    "    pyplot.figure(figsize=(8,8))\n",
    "    pyplot.grid(True)\n",
    "    pyplot.xlabel(xlabl, fontsize=18)\n",
    "    pyplot.ylabel(ylabl, fontsize=18)\n",
    "\n",
    "    pyplot.title(title)\n",
    "    pyplot.plot(v1,v2, color='k', ls='--', lw=2, marker='o');"
   ]
  },
  {
   "cell_type": "code",
   "execution_count": 44,
   "metadata": {
    "collapsed": false
   },
   "outputs": [
    {
     "data": {
      "image/png": "[encoded data removed]",
      "text/plain": [
       "<matplotlib.figure.Figure at 0x1116ddc18>"
      ]
     },
     "metadata": {},
     "output_type": "display_data"
    }
   ],
   "source": [
    "plot(Iarc_v, abl_v, 'arc current (A)',\\\n",
    "     'ablation rate (kg/s)', 'Ablation Rate')"
   ]
  },
  {
   "cell_type": "code",
   "execution_count": 45,
   "metadata": {
    "collapsed": false
   },
   "outputs": [
    {
     "data": {
      "image/png": "[encoded data removed]",
      "text/plain": [
       "<matplotlib.figure.Figure at 0x1116dd278>"
      ]
     },
     "metadata": {},
     "output_type": "display_data"
    }
   ],
   "source": [
    "plot(Iarc_v, Iion_v1, 'arc current (A)',\\\n",
    "     'Ion current fraction', 'Ion current fraction ')"
   ]
  },
  {
   "cell_type": "code",
   "execution_count": 46,
   "metadata": {
    "collapsed": false
   },
   "outputs": [
    {
     "data": {
      "image/png": "[encoded data removed]",
      "text/plain": [
       "<matplotlib.figure.Figure at 0x114d95358>"
      ]
     },
     "metadata": {},
     "output_type": "display_data"
    }
   ],
   "source": [
    "plot(Iarc_v, Uc_v, 'arc current (A)',\\\n",
    "     'Cathode Voltage (V)', 'Cathode Voltage ')"
   ]
  },
  {
   "cell_type": "code",
   "execution_count": 47,
   "metadata": {
    "collapsed": false
   },
   "outputs": [
    {
     "data": {
      "image/png": "[encoded data removed]",
      "text/plain": [
       "<matplotlib.figure.Figure at 0x11516c0f0>"
      ]
     },
     "metadata": {},
     "output_type": "display_data"
    }
   ],
   "source": [
    "plot(Iarc_v, Upl_v, 'arc current (A)',\\\n",
    "     'Inter-electrode Voltage (V)', 'Inter-electrode Voltage')"
   ]
  },
  {
   "cell_type": "code",
   "execution_count": 48,
   "metadata": {
    "collapsed": false
   },
   "outputs": [
    {
     "data": {
      "image/png": "[encoded data removed]",
      "text/plain": [
       "<matplotlib.figure.Figure at 0x1151e0128>"
      ]
     },
     "metadata": {},
     "output_type": "display_data"
    }
   ],
   "source": [
    "plot(Iarc_v, Te_v, 'arc current (A)',\\\n",
    "     'Electron Temperature (eV)', 'Plasma Temperature ')"
   ]
  },
  {
   "cell_type": "code",
   "execution_count": 49,
   "metadata": {
    "collapsed": false
   },
   "outputs": [
    {
     "data": {
      "image/png": "[encoded data removed]",
      "text/plain": [
       "<matplotlib.figure.Figure at 0x115392b70>"
      ]
     },
     "metadata": {},
     "output_type": "display_data"
    }
   ],
   "source": [
    "plot(Iarc_v, ne_v/1e20, 'arc current (A)',\\\n",
    "     'Electron Density(1e20)', 'Electron Density ')"
   ]
  },
  {
   "cell_type": "code",
   "execution_count": null,
   "metadata": {
    "collapsed": true
   },
   "outputs": [],
   "source": []
  },
  {
   "cell_type": "code",
   "execution_count": null,
   "metadata": {
    "collapsed": true
   },
   "outputs": [],
   "source": []
  }
 ],
 "metadata": {
  "kernelspec": {
   "display_name": "Python 3",
   "language": "python",
   "name": "python3"
  },
  "language_info": {
   "codemirror_mode": {
    "name": "ipython",
    "version": 3
   },
   "file_extension": ".py",
   "mimetype": "text/x-python",
   "name": "python",
   "nbconvert_exporter": "python",
   "pygments_lexer": "ipython3",
   "version": "3.4.4"
  }
 },
 "nbformat": 4,
 "nbformat_minor": 0
}
