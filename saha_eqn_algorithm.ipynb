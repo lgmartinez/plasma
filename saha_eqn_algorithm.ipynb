{
 "cells": [
  {
   "cell_type": "markdown",
   "metadata": {},
   "source": [
    "# Logic of the Model for Energy Balance in Arc Discharge Plasma"
   ]
  },
  {
   "cell_type": "markdown",
   "metadata": {},
   "source": [
    "Source : Plasma Engineering by Prof. keidar"
   ]
  },
  {
   "cell_type": "markdown",
   "metadata": {},
   "source": [
    "##### Libraries"
   ]
  },
  {
   "cell_type": "code",
   "execution_count": 1,
   "metadata": {
    "collapsed": true
   },
   "outputs": [],
   "source": [
    "import numpy\n",
    "import sympy\n",
    "import math\n",
    "import scipy\n",
    "from scipy import constants"
   ]
  },
  {
   "cell_type": "markdown",
   "metadata": {},
   "source": [
    "A convenient function of the scipy.constants library is that we can invoke constants in electromagnetic equations from the values built into the library. We can see what information is stored for each constant. For example:"
   ]
  },
  {
   "cell_type": "code",
   "execution_count": 2,
   "metadata": {
    "collapsed": false
   },
   "outputs": [
    {
     "data": {
      "text/plain": [
       "(5.670373e-08, 'W m^-2 K^-4', 2.1e-13)"
      ]
     },
     "execution_count": 2,
     "metadata": {},
     "output_type": "execute_result"
    }
   ],
   "source": [
    "scipy.constants.physical_constants[\"Stefan-Boltzmann constant\"]"
   ]
  },
  {
   "cell_type": "markdown",
   "metadata": {},
   "source": [
    "## The Equations"
   ]
  },
  {
   "cell_type": "markdown",
   "metadata": {},
   "source": [
    "First, the energy balance of the interelectrode plasma:\n",
    "\n",
    "\\begin{align}\n",
    "I_{arc}U_{pl} + U_{c}I_{e}  = &    I_{arc} \\big(2T_{e} +  U_{a} \\big) + U_{iz}I_{ion} \\\\ & +  3 \\frac{m_{e}}{m_{i}} \\big( T_{e} - T_{a} \\big) n_{e} \\mu_{e} \\pi R_{arc}^{2} L_{gap} \\nonumber\n",
    "\\end{align}\n",
    "\n",
    "This equation states that the Joule Heating  provided by the current should balance with the heat losses from the anode and ionization plus heat transfer between electrons to neutrals.\n",
    "\n",
    "Next, a balance of energy at the cathode yields the following equation:\n",
    "\n",
    "\\begin{align}\n",
    "I_{ion} \\big( U_{c} + U_{iz} - \\phi_{W} \\big) = q_{conduction} + q_{convection}\n",
    "\\end{align}\n",
    "\n",
    "Equation 2 above can be solved for cathode voltage as such:\n",
    "\n",
    "\\begin{align}\n",
    "U_{c} = \\frac{\\pi R_{c}^{2} \\bigg( \\epsilon \\sigma T_{c}^{4} + \\frac{\\big( T_{c} - T_{0} \\big) \\lambda }{\\pi^{3/2} R_{c}} \\bigg) }{I_{ion}} + \\phi_{W} - U_{iz}\n",
    "\\end{align}\n",
    "\n",
    "Additionally, anode potential drop can be given by:\n",
    "\n",
    "\\begin{align}\n",
    "U_{a} =& - T_{e} ln \\bigg( \\frac{I_{th}}{I_{arc}} \\bigg)\n",
    "\\end{align}\n",
    "\n",
    "$I_{th}$ above represents the thermal current, and is define as:\n",
    "\n",
    "\\begin{align}\n",
    "I_{th} = X\n",
    "\\end{align}\n",
    "\n",
    "The equation for current continuity, which states that the total current is equal to the sum of the ion and electron currents:\n",
    "\n",
    "\\begin{align}\n",
    "I_{arc} = I_{ion} + I_{e}\n",
    "\\end{align}\n",
    "\n",
    "Ion and electron currents are also given explicitly:\n",
    "\n",
    "\\begin{align}\n",
    "I_{e} =& \\pi R_{c}^{2} \\big( A T_{c}^{2} \\big)  exp^{ \\big( - \\frac{e \\phi_{W}}{k_{B} T_{c}} \\big) } \\\\\n",
    "I_{ion} =& \\pi R_{c}^{2} \\bigg( 0.6 e n_{e} \\bigg[ \\frac{T_{e}}{m_{i}} \\bigg]^{0.5} \\bigg)\n",
    "\\end{align}\n",
    "\n",
    "The current continuity equation yields a non linear equation to solve for the cathode temperature:\n",
    "\n",
    "\\begin{align}\n",
    "I_{arc} = \\pi R_{c}^{2} \\bigg( A T_{c}^{2}  exp^{ \\big( - \\frac{e \\phi_{W}}{k_{B} T_{c}} \\big)  } +  0.6 e n_{e} \\bigg[ \\frac{T_{e}}{m_{i}} \\bigg]^{0.5} \\bigg)\n",
    "\\end{align}\n",
    "\n",
    "\n",
    "From the Saha equation, we can obtain number densities of ions, neutrals, and electrons of the individual species in the plasma. In this case, the elements are helium and carbon, so there will be two saha equations. These can be generalized considering l represents each individual species in the equation below:\n",
    "\n",
    "\\begin{align}\n",
    "\\frac{n_{i,l} n_{e}}{n_{o,l}} =& \\bigg( \\frac{2 \\pi m_{e} k_{B} T_{e}}{h^{2}} \\bigg)^{3/2} exp^{ \\bigg( - \\frac{E_{l}}{k_{b} T_{e}} \\bigg) }\n",
    "\\end{align}\n",
    "\n",
    "\n",
    "Finally, the anode temperature will depend on the electron temperature since heating of the anode by electrons creates a temperature rise in the anode, as we will later see.\n",
    "\n",
    "\n",
    "At this point we can isolate variables to understand if the system of equations have closure. We can express the variable of interest in terms of what variables they depend on:\n",
    "\n",
    "\\begin{align}\n",
    "I_{ion} = & f(T_{e}, n_{e}) \\nonumber \\\\\n",
    "I_{e} = & f(T_{c}) \\nonumber \\\\\n",
    "T_{c} = & f(T_{e}, n_{e}) \\nonumber \\\\\n",
    "T_{a} = & f(T_{e}) \\nonumber \\\\\n",
    "U_{c} = & f(T_{e}, n_{e}) \\nonumber \\\\\n",
    "n_{e} = & f(T_{e}) \\nonumber\n",
    "\\end{align}\n",
    "\n",
    "There is now a closure issue because there is no analytical equation that can be used to solve the electron temperature. Thus, we have to develop a solver that is based on initial guesses corresponding to the necessary inputs such as total pressure and electron temperature.\n",
    "\n",
    "For now, we'll spend some time understanding how the equations work."
   ]
  },
  {
   "cell_type": "markdown",
   "metadata": {},
   "source": [
    "## Simulation for Given Arc Current and Experiment Pressure"
   ]
  },
  {
   "cell_type": "markdown",
   "metadata": {},
   "source": [
    "Temperatures will vary based on on the input arc current and Pressure. For now, this notebook only considers arc current of 20 amps and Pressure of 300 Torr. \n",
    "\n",
    "The values for pressure and arc current are taken from results provided in Chapter 6."
   ]
  },
  {
   "cell_type": "markdown",
   "metadata": {},
   "source": [
    "##### Total Pressure - Experiment Input\n"
   ]
  },
  {
   "cell_type": "code",
   "execution_count": 3,
   "metadata": {
    "collapsed": false
   },
   "outputs": [
    {
     "name": "stdout",
     "output_type": "stream",
     "text": [
      "Assumed Pressure in Pascal: 39996.60\n"
     ]
    }
   ],
   "source": [
    "Pt = 300 * 133.322 # torr to Pa\n",
    "print('Assumed Pressure in Pascal: %.2f' % Pt)"
   ]
  },
  {
   "cell_type": "markdown",
   "metadata": {},
   "source": [
    "##### Electron Temperature (Assumed)"
   ]
  },
  {
   "cell_type": "code",
   "execution_count": 4,
   "metadata": {
    "collapsed": false
   },
   "outputs": [
    {
     "name": "stdout",
     "output_type": "stream",
     "text": [
      "Assumed electron temperature in Kelvin: 7658.99 \n"
     ]
    }
   ],
   "source": [
    "Te_eV = 0.66 # given in eV\n",
    "Te = Te_eV*(11604.52500617) # K\n",
    "#Te = Te_eV*constants.e/constants.k # given in Kelvin\n",
    "\n",
    "print('Assumed electron temperature in Kelvin: %.2f ' % Te)"
   ]
  },
  {
   "cell_type": "markdown",
   "metadata": {},
   "source": [
    "## Plasma Composition and the  Saha Equation"
   ]
  },
  {
   "cell_type": "markdown",
   "metadata": {},
   "source": [
    "From the saha equations, we can compute the number density of ions and neutrals for each species, and also calculate the number density of electrons. However, the solution is not straightforward because we have five unknowns and 2 nonlinear equations.\n",
    "\n",
    "From the equation of state, we can write an expression for the electron pressure:\n",
    "\n",
    "\\begin{equation}\n",
    "P_{e} = n_{e}k_{B}T_{e} \n",
    "\\end{equation}\n",
    "\n",
    "Additionally, we can relate the total pressure to the electron pressure by the electron concentration:\n",
    "\n",
    "\\begin{equation}\n",
    "C_{e} = \\frac{P_{e}}{P_{T}}\n",
    "\\end{equation}\n",
    "\n",
    "We can use several equations invoking ionization equilibrium as a form of chemical equilibrium. We can write concentrations for electrons and total number of neutrals and ions:\n",
    "\n",
    "\\begin{align}\n",
    "C_{e} &= \\frac{n_{e}}{n_{e} + n_{i,t} + n_{o,t} } \\\\\n",
    "C_{o,t} &= \\frac{n_{o,t}}{n_{e} + n_{i,t} + n_{o,t} } \\\\\n",
    "C_{i,t} &= \\frac{n_{i,t}}{n_{e} + n_{i,t} + n_{o,t} } \n",
    "\\end{align}\n",
    "\n",
    "Additionally, let's remember the quasi-neutral relationship:\n",
    "\n",
    "\\begin{equation}\n",
    "n_{e} = n_{i,He} + n_{i,C}\n",
    "\\end{equation}\n",
    "\n"
   ]
  },
  {
   "cell_type": "markdown",
   "metadata": {},
   "source": [
    "Process:\n",
    "\n",
    "1. Give initial guess for number density of electrons. \n",
    "2. Find electron pressure\n",
    "3. Find electron concentration\n",
    "4. Find total number density of ions and neutrals\n",
    "5. Find concentrations of ions and neutrals\n",
    "6. Find individual number density of individual species\n",
    "\n",
    "7. Check for convergence: How close do guessed values conserve atom conservation? How well do guessed values predict total Pressure?"
   ]
  },
  {
   "cell_type": "markdown",
   "metadata": {},
   "source": [
    "### Electron number density  $ \\Big( \\frac{1}{m^3} \\Big)$"
   ]
  },
  {
   "cell_type": "code",
   "execution_count": 5,
   "metadata": {
    "collapsed": true
   },
   "outputs": [],
   "source": [
    "ne_guess = 14e20"
   ]
  },
  {
   "cell_type": "markdown",
   "metadata": {},
   "source": [
    "### Steps 2 through 5"
   ]
  },
  {
   "cell_type": "code",
   "execution_count": 6,
   "metadata": {
    "collapsed": false
   },
   "outputs": [],
   "source": [
    "Pe_guess = ne_guess*constants.k*Te\n",
    "Ce_guess = Pe_guess/Pt"
   ]
  },
  {
   "cell_type": "code",
   "execution_count": 7,
   "metadata": {
    "collapsed": false
   },
   "outputs": [
    {
     "name": "stdout",
     "output_type": "stream",
     "text": [
      "Concentration of electrons 0.0037 \n"
     ]
    }
   ],
   "source": [
    "print('Concentration of electrons %.4f ' % Ce_guess)"
   ]
  },
  {
   "cell_type": "code",
   "execution_count": 8,
   "metadata": {
    "collapsed": true
   },
   "outputs": [],
   "source": [
    "ni_t = ne_guess\n",
    "no_t = (ne_guess - Ce_guess*(ne_guess+ni_t))/Ce_guess\n"
   ]
  },
  {
   "cell_type": "code",
   "execution_count": 9,
   "metadata": {
    "collapsed": false
   },
   "outputs": [
    {
     "name": "stdout",
     "output_type": "stream",
     "text": [
      "number density of total ions 1.4e+21 \n"
     ]
    }
   ],
   "source": [
    "print('number density of total ions %.4g ' % ni_t)"
   ]
  },
  {
   "cell_type": "code",
   "execution_count": 10,
   "metadata": {
    "collapsed": false
   },
   "outputs": [
    {
     "name": "stdout",
     "output_type": "stream",
     "text": [
      "number density of total neutrals 3.754e+23 \n"
     ]
    }
   ],
   "source": [
    "print('number density of total neutrals %.4g ' % no_t)"
   ]
  },
  {
   "cell_type": "code",
   "execution_count": 11,
   "metadata": {
    "collapsed": true
   },
   "outputs": [],
   "source": [
    "Ci = ni_t/(ne_guess+ni_t+no_t)\n",
    "Co = no_t/(ne_guess+ni_t+no_t)"
   ]
  },
  {
   "cell_type": "code",
   "execution_count": 12,
   "metadata": {
    "collapsed": false
   },
   "outputs": [
    {
     "name": "stdout",
     "output_type": "stream",
     "text": [
      "Concentration of Ions 0.9926 \n"
     ]
    }
   ],
   "source": [
    "print('Concentration of Ions %.4f ' % Co)"
   ]
  },
  {
   "cell_type": "code",
   "execution_count": 13,
   "metadata": {
    "collapsed": false
   },
   "outputs": [
    {
     "name": "stdout",
     "output_type": "stream",
     "text": [
      "concentration of neutrals 0.003701 \n"
     ]
    }
   ],
   "source": [
    "print('concentration of neutrals %.4g ' % Ci)"
   ]
  },
  {
   "cell_type": "code",
   "execution_count": 14,
   "metadata": {
    "collapsed": false
   },
   "outputs": [
    {
     "name": "stdout",
     "output_type": "stream",
     "text": [
      "Sum of concentrations should be close to 1 : 1.000000 \n"
     ]
    }
   ],
   "source": [
    "Ct = Co + Ci + Ce_guess\n",
    "print('Sum of concentrations should be close to 1 : %.6f ' % Ct)"
   ]
  },
  {
   "cell_type": "code",
   "execution_count": 15,
   "metadata": {
    "collapsed": false
   },
   "outputs": [
    {
     "name": "stdout",
     "output_type": "stream",
     "text": [
      "Total number density : 3.782e+23 \n"
     ]
    }
   ],
   "source": [
    "Nt = ni_t + no_t + ne_guess\n",
    "print('Total number density : %.4g ' % Nt)"
   ]
  },
  {
   "cell_type": "code",
   "execution_count": 16,
   "metadata": {
    "collapsed": false
   },
   "outputs": [],
   "source": [
    "Pt_guess = Nt*constants.k*Te"
   ]
  },
  {
   "cell_type": "code",
   "execution_count": 17,
   "metadata": {
    "collapsed": false
   },
   "outputs": [
    {
     "name": "stdout",
     "output_type": "stream",
     "text": [
      "Total Pressure as a function of guessed values : 39996.6000 \n"
     ]
    }
   ],
   "source": [
    "Pt_guess\n",
    "print('Total Pressure as a function of guessed values : %.4f ' % Pt_guess)"
   ]
  },
  {
   "cell_type": "markdown",
   "metadata": {},
   "source": [
    "### Ionization Energies of Helium and Carbon"
   ]
  },
  {
   "cell_type": "code",
   "execution_count": 18,
   "metadata": {
    "collapsed": true
   },
   "outputs": [],
   "source": [
    "#These are given in eV, https://dept.astro.lsa.umich.edu/~cowley/ionen.htm\n",
    "\n",
    "#assume values for 1st spectra\n",
    "\n",
    "E_He = 24.5874*constants.e  #ionization energy for helium in Joules\n",
    "E_C = 11.2603*constants.e #ionization energy for carbon\n",
    "\n",
    "# Values from http://periodictable.com/Elements/002/data.html\n",
    "\n",
    "# I need to give ionization energies in Joules for the saha equation\n",
    "\n",
    "# E_He =2372.3 #kJ/mol\n",
    "# E_He2 = 5250.5 #kJ/mol\n",
    "\n",
    "# E_C = 1086.5 #kJ/mol\n",
    "# E_C2 = 2352.6 #kJ/mol\n",
    "# E_C3 = 4620.5 #kJ/mol\n",
    "# E_C4 = 6222.7 #kJ/mol\n",
    "# E_C5 = 37831 #kJ/mol\n",
    "# E_C6 = 47277 #kJ/mol"
   ]
  },
  {
   "cell_type": "markdown",
   "metadata": {},
   "source": [
    "### Saha Equation - Right-Hand Side"
   ]
  },
  {
   "cell_type": "code",
   "execution_count": 19,
   "metadata": {
    "collapsed": false
   },
   "outputs": [],
   "source": [
    "A =  ( ( (2*numpy.pi*constants.m_e*constants.k*Te) / (constants.h**2) )**(3/2) ) *\\\n",
    "                 math.exp( (-E_He)/(constants.k*Te))\n",
    "    \n",
    "B =  ( ( (2*numpy.pi*constants.m_e*constants.k*Te) / (constants.h**2) )**(3/2) ) *\\\n",
    "                 math.exp( (-E_C) / (constants.k*Te))"
   ]
  },
  {
   "cell_type": "code",
   "execution_count": 20,
   "metadata": {
    "collapsed": false
   },
   "outputs": [
    {
     "data": {
      "text/plain": [
       "107170757213.4718"
      ]
     },
     "execution_count": 20,
     "metadata": {},
     "output_type": "execute_result"
    }
   ],
   "source": [
    "A #this is the right-hand side for the helium eqn"
   ]
  },
  {
   "cell_type": "code",
   "execution_count": 21,
   "metadata": {
    "collapsed": false
   },
   "outputs": [
    {
     "data": {
      "text/plain": [
       "6.303709865846398e+19"
      ]
     },
     "execution_count": 21,
     "metadata": {},
     "output_type": "execute_result"
    }
   ],
   "source": [
    "B #this is the right-hand side for the carbon eqn"
   ]
  },
  {
   "cell_type": "markdown",
   "metadata": {},
   "source": [
    "### Find Number Densities of Individual Species"
   ]
  },
  {
   "cell_type": "markdown",
   "metadata": {},
   "source": [
    "At this point we have four equations and four unknowns. We can do some math to solve for the unknowns. \n",
    "\n",
    "\\begin{align}\n",
    "\\frac{n_{e}n_{i,He}}{n_{o,He}} &= A \\\\\n",
    "\\frac{n_{e}n_{i,C}}{n_{o,C}} &= B \\\\\n",
    "n_{o,t} &= n_{o,He} + n_{o,C} \\\\\n",
    "n_{i,t} &= n_{i,He} + n_{i,C} \n",
    "\\end{align}"
   ]
  },
  {
   "cell_type": "markdown",
   "metadata": {},
   "source": [
    "From equations 19 and 20 above, we can solve for number of ions in each species and use these expressions in equation 20 to solve for $n_{o,C} $ :\n",
    "\n",
    "\\begin{align}\n",
    "n_{i,He} &= \\frac{A n_{o,He}}{n_{e}} \\nonumber \\\\\n",
    "n_{i,C} &= \\frac{B n_{o,C}}{n_{e}} \\nonumber \\\\\n",
    "n_{i,t} &=  \\frac{A n_{o,He}}{n_{e}} + \\frac{B n_{o,C}}{n_{e}} \\nonumber \\\\\n",
    "n_{o,C} &= \\frac{n_{i,t} - n_{o,He}\\frac{A}{n_{e}}}{1  - \\frac{B}{n_{e}}}\n",
    "\\end{align}\n",
    "\n",
    "\n"
   ]
  },
  {
   "cell_type": "markdown",
   "metadata": {},
   "source": [
    "Plugging equation 21 into equation 19, we can solve for one unknown:\n",
    "\n",
    "\\begin{equation}\n",
    "n_{o,He} = \\frac{n_{o,t} - n_{i,t}\\frac{n_{e}}{B}}{1 - \\frac{A}{B}}\n",
    "\\end{equation}\n"
   ]
  },
  {
   "cell_type": "code",
   "execution_count": 22,
   "metadata": {
    "collapsed": false
   },
   "outputs": [],
   "source": [
    "no_He = (no_t - (ne_guess*ni_t)/B)/(1 - A/B)"
   ]
  },
  {
   "cell_type": "code",
   "execution_count": 23,
   "metadata": {
    "collapsed": false
   },
   "outputs": [
    {
     "name": "stdout",
     "output_type": "stream",
     "text": [
      "number density He neutrals 3.443e+23 \n"
     ]
    }
   ],
   "source": [
    "print('number density He neutrals %.4g ' % no_He)"
   ]
  },
  {
   "cell_type": "markdown",
   "metadata": {},
   "source": [
    "Now, we can use quasi-neutrality from equation 16 to solve for the carbon ion number density:"
   ]
  },
  {
   "cell_type": "code",
   "execution_count": 24,
   "metadata": {
    "collapsed": true
   },
   "outputs": [],
   "source": [
    "no_C = no_t - no_He"
   ]
  },
  {
   "cell_type": "code",
   "execution_count": 25,
   "metadata": {
    "collapsed": false
   },
   "outputs": [
    {
     "name": "stdout",
     "output_type": "stream",
     "text": [
      "number density C neutrals 3.109e+22 \n"
     ]
    }
   ],
   "source": [
    "print('number density C neutrals %.4g ' % no_C)"
   ]
  },
  {
   "cell_type": "markdown",
   "metadata": {},
   "source": [
    "Similarly, we can use the saha equations to solve for the ions of each species:"
   ]
  },
  {
   "cell_type": "code",
   "execution_count": 26,
   "metadata": {
    "collapsed": true
   },
   "outputs": [],
   "source": [
    "ni_He = (no_He/ne_guess)*A"
   ]
  },
  {
   "cell_type": "code",
   "execution_count": 27,
   "metadata": {
    "collapsed": false
   },
   "outputs": [
    {
     "name": "stdout",
     "output_type": "stream",
     "text": [
      "number density He ions 2.636e+13 \n"
     ]
    }
   ],
   "source": [
    "print('number density He ions %.4g ' % ni_He)"
   ]
  },
  {
   "cell_type": "code",
   "execution_count": 28,
   "metadata": {
    "collapsed": true
   },
   "outputs": [],
   "source": [
    "ni_C = (no_C/ne_guess)*B"
   ]
  },
  {
   "cell_type": "code",
   "execution_count": 29,
   "metadata": {
    "collapsed": false
   },
   "outputs": [
    {
     "name": "stdout",
     "output_type": "stream",
     "text": [
      "number density C ions 1.4e+21 \n"
     ]
    }
   ],
   "source": [
    "print('number density C ions %.4g ' % ni_C)"
   ]
  },
  {
   "cell_type": "code",
   "execution_count": 30,
   "metadata": {
    "collapsed": true
   },
   "outputs": [],
   "source": [
    "Conservation = (ni_He + no_He)/(ni_C + no_C)"
   ]
  },
  {
   "cell_type": "code",
   "execution_count": 31,
   "metadata": {
    "collapsed": false
   },
   "outputs": [
    {
     "name": "stdout",
     "output_type": "stream",
     "text": [
      "the ratio of helium to carbon partial pressures is 10.60\n"
     ]
    }
   ],
   "source": [
    "print(  'the ratio of helium to carbon partial pressures is %.2f' % Conservation )"
   ]
  },
  {
   "cell_type": "code",
   "execution_count": 32,
   "metadata": {
    "collapsed": true
   },
   "outputs": [],
   "source": [
    "Nt2 = (ni_He + ni_C) + (no_He + no_C) + ne_guess\n",
    "\n",
    "n_He = ni_He + no_He\n",
    "n_C = ni_C + no_C\n",
    "C_He = n_He/Nt2\n",
    "C_C = n_C/Nt2"
   ]
  },
  {
   "cell_type": "code",
   "execution_count": 33,
   "metadata": {
    "collapsed": false
   },
   "outputs": [
    {
     "name": "stdout",
     "output_type": "stream",
     "text": [
      "Sum of concentrations should be close to 1 : 1.000000 \n"
     ]
    }
   ],
   "source": [
    "Ct2 = Ce_guess + C_He + C_C\n",
    "print('Sum of concentrations should be close to 1 : %.6f ' % Ct2)"
   ]
  },
  {
   "cell_type": "markdown",
   "metadata": {},
   "source": [
    "### Check Partial Pressures"
   ]
  },
  {
   "cell_type": "code",
   "execution_count": 34,
   "metadata": {
    "collapsed": false
   },
   "outputs": [],
   "source": [
    "P_He = C_He*Pt\n",
    "P_C = C_C*Pt"
   ]
  },
  {
   "cell_type": "code",
   "execution_count": 35,
   "metadata": {
    "collapsed": false
   },
   "outputs": [
    {
     "data": {
      "text/plain": [
       "36412.64964524645"
      ]
     },
     "execution_count": 35,
     "metadata": {},
     "output_type": "execute_result"
    }
   ],
   "source": [
    "P_He"
   ]
  },
  {
   "cell_type": "code",
   "execution_count": 36,
   "metadata": {
    "collapsed": false
   },
   "outputs": [
    {
     "data": {
      "text/plain": [
       "3435.9091673886564"
      ]
     },
     "execution_count": 36,
     "metadata": {},
     "output_type": "execute_result"
    }
   ],
   "source": [
    "P_C"
   ]
  },
  {
   "cell_type": "code",
   "execution_count": 37,
   "metadata": {
    "collapsed": false
   },
   "outputs": [
    {
     "data": {
      "text/plain": [
       "10.597675279326612"
      ]
     },
     "execution_count": 37,
     "metadata": {},
     "output_type": "execute_result"
    }
   ],
   "source": [
    "P_He/P_C"
   ]
  },
  {
   "cell_type": "code",
   "execution_count": 38,
   "metadata": {
    "collapsed": false
   },
   "outputs": [
    {
     "data": {
      "text/plain": [
       "0.0"
      ]
     },
     "execution_count": 38,
     "metadata": {},
     "output_type": "execute_result"
    }
   ],
   "source": [
    "Pt - (P_He + P_C + Pe_guess )"
   ]
  },
  {
   "cell_type": "markdown",
   "metadata": {},
   "source": [
    "Now that conservation of concentrations and pressure are satisfied we can move on to solve other properties"
   ]
  },
  {
   "cell_type": "markdown",
   "metadata": {},
   "source": [
    "## Solve for Ion Current"
   ]
  },
  {
   "cell_type": "markdown",
   "metadata": {},
   "source": [
    "### More Parameters"
   ]
  },
  {
   "cell_type": "code",
   "execution_count": 39,
   "metadata": {
    "collapsed": true
   },
   "outputs": [],
   "source": [
    "Iarc = 20\n",
    "\n",
    "Rc = (12.5/2.) * 1./1000. # cathode radius [meters]\n",
    "Ran = 6.35/2. * 1./1000.  #anode radius [meters]\n",
    "Lgap = 3.5 * 1./1000. #interelectrode gap [meters]\n",
    "\n",
    "Rarc = Ran*0.2*Iarc\n",
    "\n",
    "Em_C = 0.70 #emissivity - graphite (0-3600 deg)\n",
    "\n",
    "#Richardson Constant:\n",
    "A = 1.2e6 #constant in electron current density eqn [A/(m^2 K^2)], pg.62\n",
    "\n",
    "#Thermal Conductivity Carbon\n",
    "lmbda_C = 1.7 #thermal conductivity carbon W m-1 K-1\n",
    "#lmbda_C = 140 #Thermal Conductivity; 140 W/(m K), http://periodictable.com/Elements/006/data.html\n",
    "\n",
    "n_e = ne_guess # number density of electrons\n",
    "\n",
    "#Work Function, http://hyperphysics.phy-astr.gsu.edu/hbase/tables/photoelec.html\n",
    "phi_C = 4.81*constants.e #work function of Carbon for photoelectric effect, eV to Joules\n",
    "phi_C_eV = 4.81\n",
    "\n",
    "#Ionization Potential of Carbon\n",
    "\n",
    "#Initial Cathode and Anode Temperatures, assume room temp in Kelvin:\n",
    "To = 298.15\n"
   ]
  },
  {
   "cell_type": "markdown",
   "metadata": {},
   "source": [
    "### Mass of Helium and Carbon Ions [Kg]"
   ]
  },
  {
   "cell_type": "code",
   "execution_count": 40,
   "metadata": {
    "collapsed": false
   },
   "outputs": [
    {
     "name": "stdout",
     "output_type": "stream",
     "text": [
      "mass of He and C Ions : 2.659e-26 \n"
     ]
    }
   ],
   "source": [
    "UAMU = 1.660538921e-27 # Unified atomic mass unit in Kg\n",
    "\n",
    "mi_He = UAMU*4.002602\n",
    "mi_C = UAMU*12.0107\n",
    "\n",
    "m_i_AMU = (mi_He + mi_C) # given in kilograms\n",
    "#\n",
    "print('mass of He and C Ions : %.4g ' % m_i_AMU)"
   ]
  },
  {
   "cell_type": "code",
   "execution_count": 41,
   "metadata": {
    "collapsed": false
   },
   "outputs": [
    {
     "data": {
      "text/plain": [
       "1.9944234818454697e-26"
      ]
     },
     "execution_count": 41,
     "metadata": {},
     "output_type": "execute_result"
    }
   ],
   "source": [
    "mi_C"
   ]
  },
  {
   "cell_type": "code",
   "execution_count": 42,
   "metadata": {
    "collapsed": false
   },
   "outputs": [
    {
     "data": {
      "text/plain": [
       "(5.670373e-08, 'W m^-2 K^-4', 2.1e-13)"
      ]
     },
     "execution_count": 42,
     "metadata": {},
     "output_type": "execute_result"
    }
   ],
   "source": [
    "scipy.constants.physical_constants[\"Stefan-Boltzmann constant\"]"
   ]
  },
  {
   "cell_type": "markdown",
   "metadata": {},
   "source": [
    "### Ion Current - Check value!"
   ]
  },
  {
   "cell_type": "markdown",
   "metadata": {},
   "source": [
    "Let's check the units for the ion current equation. We want the result given in amperes. In order for the units to give the expected result, we need to give the electron temperature in Joules."
   ]
  },
  {
   "cell_type": "code",
   "execution_count": 43,
   "metadata": {
    "collapsed": false
   },
   "outputs": [
    {
     "name": "stdout",
     "output_type": "stream",
     "text": [
      "Ion Current in Amperes : 32.94 \n"
     ]
    }
   ],
   "source": [
    "I_ion = numpy.pi*(Rc**2)*\\\n",
    "0.6*(constants.e)*(n_e)*( ( (Te_eV*constants.e) / (m_i_AMU) ) **0.5)\n",
    "print('Ion Current in Amperes : %.4g ' % I_ion)"
   ]
  },
  {
   "cell_type": "markdown",
   "metadata": {},
   "source": [
    "The resulting ion current does not correspond to the results provided on p. 317. The ion current should be about 80 percent of 20 amperes (which is the arc current). All of the other values used in this equation are in accordance with the values reported by the model results presented in chapter 6.\n",
    "\n",
    "So, it appears that the mass of ions value given is incorrect. Using the reported values and solving for m_i, we should see what value it needs to be in order to satusfy the ion current reported in the book:"
   ]
  },
  {
   "cell_type": "code",
   "execution_count": 44,
   "metadata": {
    "collapsed": false
   },
   "outputs": [
    {
     "data": {
      "text/plain": [
       "1.046736266307981e-25"
      ]
     },
     "execution_count": 44,
     "metadata": {},
     "output_type": "execute_result"
    }
   ],
   "source": [
    "#This is the mass of ions i should get based on experimental results\n",
    "m_i_sim = ((Te_eV*constants.e))/(((0.83*Iarc)/(numpy.pi*(Rc**2)*0.6*constants.e*n_e))**2)\n",
    "m_i_sim"
   ]
  },
  {
   "cell_type": "code",
   "execution_count": 45,
   "metadata": {
    "collapsed": false
   },
   "outputs": [
    {
     "data": {
      "text/plain": [
       "3.9364733701993044"
      ]
     },
     "execution_count": 45,
     "metadata": {},
     "output_type": "execute_result"
    }
   ],
   "source": [
    "#mass correction factor\n",
    "\n",
    "mcf = m_i_sim/m_i_AMU\n",
    "mcf"
   ]
  },
  {
   "cell_type": "code",
   "execution_count": 46,
   "metadata": {
    "collapsed": false
   },
   "outputs": [],
   "source": [
    "#(m_i_sim/mi_C)*2"
   ]
  },
  {
   "cell_type": "markdown",
   "metadata": {},
   "source": [
    "## Solve for Cathode Temperature"
   ]
  },
  {
   "cell_type": "markdown",
   "metadata": {},
   "source": [
    "### Solve for Ion current with theoretical m_i"
   ]
  },
  {
   "cell_type": "code",
   "execution_count": 47,
   "metadata": {
    "collapsed": false
   },
   "outputs": [
    {
     "name": "stdout",
     "output_type": "stream",
     "text": [
      "Ion Current with simulation m_i in Amperes : 16.6 \n"
     ]
    }
   ],
   "source": [
    "I_ion_sim = numpy.pi*(Rc**2)*0.6*(constants.e)*(n_e)*( ( (Te_eV*constants.e) / (m_i_sim) ) **0.5)\n",
    "print('Ion Current with simulation m_i in Amperes : %.4g ' % I_ion_sim)"
   ]
  },
  {
   "cell_type": "code",
   "execution_count": 48,
   "metadata": {
    "collapsed": false
   },
   "outputs": [
    {
     "name": "stdout",
     "output_type": "stream",
     "text": [
      "Ion Current/ Arc Current : 0.83 \n"
     ]
    }
   ],
   "source": [
    "I_frac1 = I_ion_sim/Iarc\n",
    "print('Ion Current/ Arc Current : %.4g ' % I_frac1)"
   ]
  },
  {
   "cell_type": "code",
   "execution_count": 49,
   "metadata": {
    "collapsed": true
   },
   "outputs": [],
   "source": [
    "Tc = sympy.symbols('Tc')"
   ]
  },
  {
   "cell_type": "markdown",
   "metadata": {},
   "source": [
    "From here, I'll apply the correction factor to the mass we found:"
   ]
  },
  {
   "cell_type": "code",
   "execution_count": 50,
   "metadata": {
    "collapsed": false
   },
   "outputs": [],
   "source": [
    "Tc_eqn = sympy.Eq( 20, numpy.pi*(Rc**2) *\\\n",
    "                  ( A*(Tc**2)*sympy.exp(-phi_C/(constants.k*Tc)) +\\\n",
    "                   0.6*(constants.e)*(n_e)*( ( (Te_eV*constants.e) / (m_i_AMU*mcf) ) **0.5) ) )"
   ]
  },
  {
   "cell_type": "code",
   "execution_count": 51,
   "metadata": {
    "collapsed": false
   },
   "outputs": [
    {
     "data": {
      "text/plain": [
       "20 == 147.262155637022*Tc**2*exp(-55817.737846511/Tc) + 16.6"
      ]
     },
     "execution_count": 51,
     "metadata": {},
     "output_type": "execute_result"
    }
   ],
   "source": [
    "Tc_eqn"
   ]
  },
  {
   "cell_type": "code",
   "execution_count": 52,
   "metadata": {
    "collapsed": false
   },
   "outputs": [],
   "source": [
    "#Tcs = sympy.solve(Tc_eqn, Tc)\n",
    "Tcs = sympy.nsolve(Tc_eqn, Tc, 2000)"
   ]
  },
  {
   "cell_type": "code",
   "execution_count": 53,
   "metadata": {
    "collapsed": false
   },
   "outputs": [
    {
     "name": "stdout",
     "output_type": "stream",
     "text": [
      "Cathode Temperature in Kelvin: 2838 \n"
     ]
    }
   ],
   "source": [
    "Tc_sim = float(Tcs)\n",
    "\n",
    "print('Cathode Temperature in Kelvin: %.4g ' % Tc_sim)"
   ]
  },
  {
   "cell_type": "markdown",
   "metadata": {},
   "source": [
    "This cathode temperature does not match with the results presented in Figure 6.25 on page 320. The cathode temperature when Iarc = 20 is reported to be above 3200 Kelvin."
   ]
  },
  {
   "cell_type": "markdown",
   "metadata": {},
   "source": [
    "## Solve for Electron Current"
   ]
  },
  {
   "cell_type": "code",
   "execution_count": 54,
   "metadata": {
    "collapsed": false
   },
   "outputs": [
    {
     "name": "stdout",
     "output_type": "stream",
     "text": [
      "Electron Current in Amperes : 3.4 \n"
     ]
    }
   ],
   "source": [
    "I_e = numpy.pi*(Rc**2)*A*(Tc_sim**2)*numpy.exp(-phi_C/(constants.k*Tc_sim))\n",
    "print('Electron Current in Amperes : %.4g ' % I_e)"
   ]
  },
  {
   "cell_type": "markdown",
   "metadata": {},
   "source": [
    "## Solve for Thermal Flux $ \\frac{W}{m^2}$"
   ]
  },
  {
   "cell_type": "code",
   "execution_count": 55,
   "metadata": {
    "collapsed": false
   },
   "outputs": [
    {
     "data": {
      "text/plain": [
       "124051.97416184876"
      ]
     },
     "execution_count": 55,
     "metadata": {},
     "output_type": "execute_result"
    }
   ],
   "source": [
    "q_con = ((Tc_sim-To)*lmbda_C)/(Rc*(numpy.pi**(3/2)) )\n",
    "q_con"
   ]
  },
  {
   "cell_type": "markdown",
   "metadata": {},
   "source": [
    "## Solve for Radiative Flux $ \\frac{W}{m^2}$"
   ]
  },
  {
   "cell_type": "code",
   "execution_count": 56,
   "metadata": {
    "collapsed": false
   },
   "outputs": [
    {
     "data": {
      "text/plain": [
       "2573864.461249892"
      ]
     },
     "execution_count": 56,
     "metadata": {},
     "output_type": "execute_result"
    }
   ],
   "source": [
    "q_rad = Em_C*constants.sigma*(Tc_sim**4)\n",
    "q_rad"
   ]
  },
  {
   "cell_type": "markdown",
   "metadata": {},
   "source": [
    "## Solve for Cathode Voltage"
   ]
  },
  {
   "cell_type": "code",
   "execution_count": 57,
   "metadata": {
    "collapsed": false
   },
   "outputs": [],
   "source": [
    "Uc_V = ((numpy.pi*(Rc**2))/(I_ion_sim))*( q_con + q_rad ) + (1/n_e)*( (phi_C_eV/constants.e) + (E_C/constants.e) )\n",
    "Uc_eV = Uc_V * (constants.e*n_e)"
   ]
  },
  {
   "cell_type": "code",
   "execution_count": 58,
   "metadata": {
    "collapsed": false
   },
   "outputs": [
    {
     "name": "stdout",
     "output_type": "stream",
     "text": [
      " Cathode Voltage in Volts : 19.97 \n"
     ]
    }
   ],
   "source": [
    "print(' Cathode Voltage in Volts : %.4g ' % Uc_V)"
   ]
  },
  {
   "cell_type": "code",
   "execution_count": 59,
   "metadata": {
    "collapsed": false
   },
   "outputs": [
    {
     "name": "stdout",
     "output_type": "stream",
     "text": [
      " Cathode Voltage in Electron Volts : 4479 \n"
     ]
    }
   ],
   "source": [
    "print(' Cathode Voltage in Electron Volts : %.4g ' % Uc_eV)"
   ]
  },
  {
   "cell_type": "markdown",
   "metadata": {},
   "source": [
    "## Solve for Anode Voltage"
   ]
  },
  {
   "cell_type": "markdown",
   "metadata": {},
   "source": [
    "### Thermal Current"
   ]
  },
  {
   "cell_type": "code",
   "execution_count": 60,
   "metadata": {
    "collapsed": false
   },
   "outputs": [
    {
     "data": {
      "text/plain": [
       "1.2499999999999998"
      ]
     },
     "execution_count": 60,
     "metadata": {},
     "output_type": "execute_result"
    }
   ],
   "source": [
    "I_th = Iarc/(numpy.pi*(Rarc**2))*(numpy.pi*Ran**2)\n",
    "I_th"
   ]
  },
  {
   "cell_type": "code",
   "execution_count": 61,
   "metadata": {
    "collapsed": false
   },
   "outputs": [],
   "source": [
    "Ua_eV = - Te_eV * numpy.log(I_th/Iarc) #eV\n",
    "Ua = Ua_eV*(n_e*constants.e)  #volts"
   ]
  },
  {
   "cell_type": "code",
   "execution_count": 62,
   "metadata": {
    "collapsed": false
   },
   "outputs": [
    {
     "name": "stdout",
     "output_type": "stream",
     "text": [
      " Anode Voltage Drop in Electron Volts : 1.83 \n"
     ]
    }
   ],
   "source": [
    "print(' Anode Voltage Drop in Electron Volts : %.4g ' % Ua_eV)"
   ]
  },
  {
   "cell_type": "code",
   "execution_count": 63,
   "metadata": {
    "collapsed": false
   },
   "outputs": [
    {
     "name": "stdout",
     "output_type": "stream",
     "text": [
      " Anode Voltage Drop in  Volts : 410.5 \n"
     ]
    }
   ],
   "source": [
    "print(' Anode Voltage Drop in  Volts : %.4g ' % Ua)"
   ]
  },
  {
   "cell_type": "markdown",
   "metadata": {},
   "source": [
    "# Energy Balance Interelectrode Gap"
   ]
  },
  {
   "cell_type": "code",
   "execution_count": 64,
   "metadata": {
    "collapsed": false
   },
   "outputs": [
    {
     "data": {
      "text/plain": [
       "0.00020229066221829552"
      ]
     },
     "execution_count": 64,
     "metadata": {},
     "output_type": "execute_result"
    }
   ],
   "source": [
    "# Voltage Drop in interelectrode gap:\n",
    "\n",
    "#Upl = (Iarc*Lgap)/(constants.sigma*numpy.pi*(Rarc**2))\n",
    "Upl_V = Iarc / ( constants.sigma*numpy.pi*(Rarc**2) * (Te)**4 )\n",
    "Upl_V"
   ]
  },
  {
   "cell_type": "code",
   "execution_count": 65,
   "metadata": {
    "collapsed": false
   },
   "outputs": [
    {
     "data": {
      "text/plain": [
       "67.889373531946006"
      ]
     },
     "execution_count": 65,
     "metadata": {},
     "output_type": "execute_result"
    }
   ],
   "source": [
    "J_Heating = Iarc*Upl_V + Uc_V*I_e\n",
    "J_Heating"
   ]
  },
  {
   "cell_type": "code",
   "execution_count": 66,
   "metadata": {
    "collapsed": true
   },
   "outputs": [],
   "source": [
    "#Losses = "
   ]
  },
  {
   "cell_type": "markdown",
   "metadata": {},
   "source": [
    "## Working on loops:"
   ]
  },
  {
   "cell_type": "raw",
   "metadata": {},
   "source": [
    "def Saha_Eqns(ne_init):\n",
    "    \n",
    "    convergence_target = 1e-3\n",
    "    conservation = convergence_target + 1\n",
    "    conservation_analytical = 3.0\n",
    "    #\n",
    "    ne_guess = ne_init\n",
    "    #\n",
    "    while ( numpy.abs(conservation_analytical-conservation) > convergence_target == True):\n",
    "        #\n",
    "        Pe_guess = ne_guess*constants.k*Te #eqn of state to fine electron pressure\n",
    "        Ce_guess = Pe_guess/Pt #electron concentration\n",
    "        ni_t = ne_guess #quasi-neutrality\n",
    "        no_t = (ne_guess - 2*Ce_guess*ne_guess)/Ce_guess\n",
    "\n",
    "        Ci = ni_t/(ne_guess+ni_t+no_t)\n",
    "        Co = no_t/(ne_guess+ni_t+no_t)\n",
    "\n",
    "        #SAHA eqns RHS:\n",
    "        RHS_1 =  ( ( (2*numpy.pi*constants.m_e*constants.k*Te) / (constants.h**2) )**(3/2) ) *\\  #species 1 = He\n",
    "                     math.exp(-El_He/(constants.k*Te))\n",
    "\n",
    "        RHS_2 =  ( ( (2*numpy.pi*constants.m_e*constants.k*Te) / (constants.h**2) )**(3/2) ) *\\ #species 2 = C\n",
    "                     math.exp(-El_C/(constants.k*Te))\n",
    "        #\n",
    "        no_He = (no_t - (ne_guess*ni_t)/B)/(1 - RHS_1/RHS_2)\n",
    "        no_C = no_t - no_He\n",
    "        ni_He = (no_He/ne_guess)*RHS_1\n",
    "        ni_C = (no_C/ne_guess)*RHS_2\n",
    "        #\n",
    "        #atom conservation:\n",
    "        Conservation = (ni_He + no_He)/(ni_C + no_C)\n",
    "        #\n",
    "        if (conservation > conservation_analytical): #ne_guess must be higher than previous guess\n",
    "            ne_guess = ne_guess + (ne_guess*.10)\n",
    "        if (conservation < conservation_analytical):  #ne_guess must be lower than previous guess\n",
    "            ne_guess = ne_guess - (ne_guess*.10)\n",
    "        \n",
    "    \n",
    "    \n",
    "    "
   ]
  },
  {
   "cell_type": "code",
   "execution_count": 67,
   "metadata": {
    "collapsed": false
   },
   "outputs": [
    {
     "data": {
      "text/html": [
       "<link href='http://fonts.googleapis.com/css?family=Alegreya+Sans:100,300,400,500,700,800,900,100italic,300italic,400italic,500italic,700italic,800italic,900italic' rel='stylesheet' type='text/css'>\n",
       "<link href='http://fonts.googleapis.com/css?family=Arvo:400,700,400italic' rel='stylesheet' type='text/css'>\n",
       "<link href='http://fonts.googleapis.com/css?family=PT+Mono' rel='stylesheet' type='text/css'>\n",
       "<link href='http://fonts.googleapis.com/css?family=Shadows+Into+Light' rel='stylesheet' type='text/css'>\n",
       "<link href='http://fonts.googleapis.com/css?family=Nixie+One' rel='stylesheet' type='text/css'>\n",
       "<style>\n",
       "\n",
       "@font-face {\n",
       "    font-family: \"Computer Modern\";\n",
       "    src: url('http://mirrors.ctan.org/fonts/cm-unicode/fonts/otf/cmunss.otf');\n",
       "}\n",
       "\n",
       "#notebook_panel { /* main background */\n",
       "    background: rgb(245,245,245);\n",
       "}\n",
       "\n",
       "div.cell { /* set cell width */\n",
       "    width: 750px;\n",
       "}\n",
       "\n",
       "div #notebook { /* centre the content */\n",
       "    background: #fff; /* white background for content */\n",
       "    width: 1000px;\n",
       "    margin: auto;\n",
       "    padding-left: 0em;\n",
       "}\n",
       "\n",
       "#notebook li { /* More space between bullet points */\n",
       "    margin-top:0.8em;\n",
       "}\n",
       "\n",
       "/* draw border around running cells */\n",
       "div.cell.border-box-sizing.code_cell.running { \n",
       "    border: 1px solid #111;\n",
       "}\n",
       "\n",
       "/* Put a solid color box around each cell and its output, visually linking them*/\n",
       "div.cell.code_cell {\n",
       "    background-color: rgb(256,256,256); \n",
       "    border-radius: 0px; \n",
       "    padding: 0.5em;\n",
       "    margin-left:1em;\n",
       "    margin-top: 1em;\n",
       "}\n",
       "\n",
       "div.text_cell_render{\n",
       "    font-family: 'Alegreya Sans' sans-serif;\n",
       "    line-height: 140%;\n",
       "    font-size: 125%;\n",
       "    font-weight: 400;\n",
       "    width:600px;\n",
       "    margin-left:auto;\n",
       "    margin-right:auto;\n",
       "}\n",
       "\n",
       "\n",
       "/* Formatting for header cells */\n",
       ".text_cell_render h1 {\n",
       "    font-family: 'Nixie One', serif;\n",
       "    font-style:regular;\n",
       "    font-weight: 400;    \n",
       "    font-size: 45pt;\n",
       "    line-height: 100%;\n",
       "    color: rgb(0,51,102);\n",
       "    margin-bottom: 0.5em;\n",
       "    margin-top: 0.5em;\n",
       "    display: block;\n",
       "}\n",
       "\n",
       ".text_cell_render h2 {\n",
       "    font-family: 'Nixie One', serif;\n",
       "    font-weight: 400;\n",
       "    font-size: 30pt;\n",
       "    line-height: 100%;\n",
       "    color: rgb(0,51,102);\n",
       "    margin-bottom: 0.1em;\n",
       "    margin-top: 0.3em;\n",
       "    display: block;\n",
       "}\t\n",
       "\n",
       ".text_cell_render h3 {\n",
       "    font-family: 'Nixie One', serif;\n",
       "    margin-top:16px;\n",
       "    font-size: 22pt;\n",
       "    font-weight: 600;\n",
       "    margin-bottom: 3px;\n",
       "    font-style: regular;\n",
       "    color: rgb(102,102,0);\n",
       "}\n",
       "\n",
       ".text_cell_render h4 {    /*Use this for captions*/\n",
       "    font-family: 'Nixie One', serif;\n",
       "    font-size: 14pt;\n",
       "    text-align: center;\n",
       "    margin-top: 0em;\n",
       "    margin-bottom: 2em;\n",
       "    font-style: regular;\n",
       "}\n",
       "\n",
       ".text_cell_render h5 {  /*Use this for small titles*/\n",
       "    font-family: 'Nixie One', sans-serif;\n",
       "    font-weight: 400;\n",
       "    font-size: 16pt;\n",
       "    color: rgb(163,0,0);\n",
       "    font-style: italic;\n",
       "    margin-bottom: .1em;\n",
       "    margin-top: 0.8em;\n",
       "    display: block;\n",
       "}\n",
       "\n",
       ".text_cell_render h6 { /*use this for copyright note*/\n",
       "    font-family: 'PT Mono', sans-serif;\n",
       "    font-weight: 300;\n",
       "    font-size: 9pt;\n",
       "    line-height: 100%;\n",
       "    color: grey;\n",
       "    margin-bottom: 1px;\n",
       "    margin-top: 1px;\n",
       "}\n",
       "\n",
       ".CodeMirror{\n",
       "    font-family: \"PT Mono\";\n",
       "    font-size: 90%;\n",
       "}\n",
       "\n",
       "</style>\n",
       "<script>\n",
       "    MathJax.Hub.Config({\n",
       "                        TeX: {\n",
       "                           extensions: [\"AMSmath.js\"],\n",
       "                           equationNumbers: { autoNumber: \"AMS\", useLabelIds: true}\n",
       "                           },\n",
       "                tex2jax: {\n",
       "                    inlineMath: [ ['$','$'], [\"\\\\(\",\"\\\\)\"] ],\n",
       "                    displayMath: [ ['$$','$$'], [\"\\\\[\",\"\\\\]\"] ]\n",
       "                },\n",
       "                displayAlign: 'center', // Change this to 'center' to center equations.\n",
       "                \"HTML-CSS\": {\n",
       "                    styles: {'.MathJax_Display': {\"margin\": 4}}\n",
       "                }\n",
       "        });\n",
       "</script>\n"
      ],
      "text/plain": [
       "<IPython.core.display.HTML object>"
      ]
     },
     "execution_count": 67,
     "metadata": {},
     "output_type": "execute_result"
    }
   ],
   "source": [
    "from IPython.core.display import HTML\n",
    "#css_file = '/Users/Luis/numerical-mooc/styles/numericalmoocstyle.css'\n",
    "css_file = './numericalmoocstyle.css'\n",
    "HTML(open(css_file, \"r\").read())"
   ]
  },
  {
   "cell_type": "code",
   "execution_count": null,
   "metadata": {
    "collapsed": true
   },
   "outputs": [],
   "source": []
  }
 ],
 "metadata": {
  "kernelspec": {
   "display_name": "Python 3",
   "language": "python",
   "name": "python3"
  },
  "language_info": {
   "codemirror_mode": {
    "name": "ipython",
    "version": 3
   },
   "file_extension": ".py",
   "mimetype": "text/x-python",
   "name": "python",
   "nbconvert_exporter": "python",
   "pygments_lexer": "ipython3",
   "version": "3.4.4"
  }
 },
 "nbformat": 4,
 "nbformat_minor": 0
}
