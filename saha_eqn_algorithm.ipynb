{
 "cells": [
  {
   "cell_type": "markdown",
   "metadata": {},
   "source": [
    "# Logic of the Model for Energy Balance in Arc Discharge Plasma"
   ]
  },
  {
   "cell_type": "markdown",
   "metadata": {},
   "source": [
    "Source : Plasma Engineering by Prof. keidar"
   ]
  },
  {
   "cell_type": "markdown",
   "metadata": {},
   "source": [
    "##### Libraries"
   ]
  },
  {
   "cell_type": "code",
   "execution_count": 1,
   "metadata": {
    "collapsed": true
   },
   "outputs": [],
   "source": [
    "import numpy\n",
    "import sympy\n",
    "import math\n",
    "import scipy\n",
    "import scipy.optimize\n",
    "from scipy import constants"
   ]
  },
  {
   "cell_type": "code",
   "execution_count": 2,
   "metadata": {
    "collapsed": false
   },
   "outputs": [
    {
     "data": {
      "text/html": [
       "<link href='http://fonts.googleapis.com/css?family=Alegreya+Sans:100,300,400,500,700,800,900,100italic,300italic,400italic,500italic,700italic,800italic,900italic' rel='stylesheet' type='text/css'>\n",
       "<link href='http://fonts.googleapis.com/css?family=Arvo:400,700,400italic' rel='stylesheet' type='text/css'>\n",
       "<link href='http://fonts.googleapis.com/css?family=PT+Mono' rel='stylesheet' type='text/css'>\n",
       "<link href='http://fonts.googleapis.com/css?family=Shadows+Into+Light' rel='stylesheet' type='text/css'>\n",
       "<link href='http://fonts.googleapis.com/css?family=Nixie+One' rel='stylesheet' type='text/css'>\n",
       "<style>\n",
       "\n",
       "@font-face {\n",
       "    font-family: \"Computer Modern\";\n",
       "    src: url('http://mirrors.ctan.org/fonts/cm-unicode/fonts/otf/cmunss.otf');\n",
       "}\n",
       "\n",
       "#notebook_panel { /* main background */\n",
       "    background: rgb(245,245,245);\n",
       "}\n",
       "\n",
       "div.cell { /* set cell width */\n",
       "    width: 750px;\n",
       "}\n",
       "\n",
       "div #notebook { /* centre the content */\n",
       "    background: #fff; /* white background for content */\n",
       "    width: 1000px;\n",
       "    margin: auto;\n",
       "    padding-left: 0em;\n",
       "}\n",
       "\n",
       "#notebook li { /* More space between bullet points */\n",
       "    margin-top:0.8em;\n",
       "}\n",
       "\n",
       "/* draw border around running cells */\n",
       "div.cell.border-box-sizing.code_cell.running { \n",
       "    border: 1px solid #111;\n",
       "}\n",
       "\n",
       "/* Put a solid color box around each cell and its output, visually linking them*/\n",
       "div.cell.code_cell {\n",
       "    background-color: rgb(256,256,256); \n",
       "    border-radius: 0px; \n",
       "    padding: 0.5em;\n",
       "    margin-left:1em;\n",
       "    margin-top: 1em;\n",
       "}\n",
       "\n",
       "div.text_cell_render{\n",
       "    font-family: 'Alegreya Sans' sans-serif;\n",
       "    line-height: 140%;\n",
       "    font-size: 125%;\n",
       "    font-weight: 400;\n",
       "    width:600px;\n",
       "    margin-left:auto;\n",
       "    margin-right:auto;\n",
       "}\n",
       "\n",
       "\n",
       "/* Formatting for header cells */\n",
       ".text_cell_render h1 {\n",
       "    font-family: 'Nixie One', serif;\n",
       "    font-style:regular;\n",
       "    font-weight: 400;    \n",
       "    font-size: 45pt;\n",
       "    line-height: 100%;\n",
       "    color: rgb(0,51,102);\n",
       "    margin-bottom: 0.5em;\n",
       "    margin-top: 0.5em;\n",
       "    display: block;\n",
       "}\n",
       "\n",
       ".text_cell_render h2 {\n",
       "    font-family: 'Nixie One', serif;\n",
       "    font-weight: 400;\n",
       "    font-size: 30pt;\n",
       "    line-height: 100%;\n",
       "    color: rgb(0,51,102);\n",
       "    margin-bottom: 0.1em;\n",
       "    margin-top: 0.3em;\n",
       "    display: block;\n",
       "}\t\n",
       "\n",
       ".text_cell_render h3 {\n",
       "    font-family: 'Nixie One', serif;\n",
       "    margin-top:16px;\n",
       "    font-size: 22pt;\n",
       "    font-weight: 600;\n",
       "    margin-bottom: 3px;\n",
       "    font-style: regular;\n",
       "    color: rgb(102,102,0);\n",
       "}\n",
       "\n",
       ".text_cell_render h4 {    /*Use this for captions*/\n",
       "    font-family: 'Nixie One', serif;\n",
       "    font-size: 14pt;\n",
       "    text-align: center;\n",
       "    margin-top: 0em;\n",
       "    margin-bottom: 2em;\n",
       "    font-style: regular;\n",
       "}\n",
       "\n",
       ".text_cell_render h5 {  /*Use this for small titles*/\n",
       "    font-family: 'Nixie One', sans-serif;\n",
       "    font-weight: 400;\n",
       "    font-size: 16pt;\n",
       "    color: rgb(163,0,0);\n",
       "    font-style: italic;\n",
       "    margin-bottom: .1em;\n",
       "    margin-top: 0.8em;\n",
       "    display: block;\n",
       "}\n",
       "\n",
       ".text_cell_render h6 { /*use this for copyright note*/\n",
       "    font-family: 'PT Mono', sans-serif;\n",
       "    font-weight: 300;\n",
       "    font-size: 9pt;\n",
       "    line-height: 100%;\n",
       "    color: grey;\n",
       "    margin-bottom: 1px;\n",
       "    margin-top: 1px;\n",
       "}\n",
       "\n",
       ".CodeMirror{\n",
       "    font-family: \"PT Mono\";\n",
       "    font-size: 90%;\n",
       "}\n",
       "\n",
       "</style>\n",
       "<script>\n",
       "    MathJax.Hub.Config({\n",
       "                        TeX: {\n",
       "                           extensions: [\"AMSmath.js\"],\n",
       "                           equationNumbers: { autoNumber: \"AMS\", useLabelIds: true}\n",
       "                           },\n",
       "                tex2jax: {\n",
       "                    inlineMath: [ ['$','$'], [\"\\\\(\",\"\\\\)\"] ],\n",
       "                    displayMath: [ ['$$','$$'], [\"\\\\[\",\"\\\\]\"] ]\n",
       "                },\n",
       "                displayAlign: 'center', // Change this to 'center' to center equations.\n",
       "                \"HTML-CSS\": {\n",
       "                    styles: {'.MathJax_Display': {\"margin\": 4}}\n",
       "                }\n",
       "        });\n",
       "</script>\n"
      ],
      "text/plain": [
       "<IPython.core.display.HTML object>"
      ]
     },
     "execution_count": 2,
     "metadata": {},
     "output_type": "execute_result"
    }
   ],
   "source": [
    "from IPython.core.display import HTML\n",
    "#css_file = '/Users/Luis/numerical-mooc/styles/numericalmoocstyle.css'\n",
    "css_file = './numericalmoocstyle.css'\n",
    "HTML(open(css_file, \"r\").read())"
   ]
  },
  {
   "cell_type": "markdown",
   "metadata": {},
   "source": [
    "A convenient function of the scipy.constants library is that we can invoke constants in electromagnetic equations from the values built into the library. We can see what information is stored for each constant. For example:"
   ]
  },
  {
   "cell_type": "code",
   "execution_count": 3,
   "metadata": {
    "collapsed": false
   },
   "outputs": [
    {
     "data": {
      "text/plain": [
       "(5.670373e-08, 'W m^-2 K^-4', 2.1e-13)"
      ]
     },
     "execution_count": 3,
     "metadata": {},
     "output_type": "execute_result"
    }
   ],
   "source": [
    "scipy.constants.physical_constants[\"Stefan-Boltzmann constant\"]"
   ]
  },
  {
   "cell_type": "markdown",
   "metadata": {},
   "source": [
    "## The Equations"
   ]
  },
  {
   "cell_type": "markdown",
   "metadata": {},
   "source": [
    "First, the energy balance of the interelectrode plasma:\n",
    "\n",
    "\\begin{align}\n",
    "I_{arc}U_{pl} + U_{c}I_{e}  = &    I_{arc} \\big(2T_{e} +  U_{a} \\big) + U_{iz}I_{ion} \\\\ & +  3 \\frac{m_{e}}{m_{i}} \\big( T_{e} - T_{a} \\big) n_{e} \\mu_{e} \\pi R_{arc}^{2} L_{gap} \\nonumber\n",
    "\\end{align}\n",
    "\n",
    "This equation states that the Joule Heating  provided by the current should balance with the heat losses from the anode and ionization plus heat transfer between electrons to neutrals.\n",
    "\n",
    "Next, a balance of energy at the cathode yields the following equation:\n",
    "\n",
    "\\begin{align}\n",
    "I_{ion} \\big( U_{c} + U_{iz} - \\phi_{W} \\big) = q_{conduction} + q_{convection}\n",
    "\\end{align}\n",
    "\n",
    "Equation 2 above can be solved for cathode voltage as such:\n",
    "\n",
    "\\begin{align}\n",
    "U_{c} = \\frac{\\pi R_{c}^{2} \\bigg( \\epsilon \\sigma T_{c}^{4} + \\frac{\\big( T_{c} - T_{0} \\big) \\lambda }{\\pi^{3/2} R_{c}} \\bigg) }{I_{ion}} + \\phi_{W} - U_{iz}\n",
    "\\end{align}\n",
    "\n",
    "Additionally, anode potential drop can be given by:\n",
    "\n",
    "\\begin{align}\n",
    "U_{a} =& - T_{e} ln \\bigg( \\frac{I_{th}}{I_{arc}} \\bigg)\n",
    "\\end{align}\n",
    "\n",
    "$I_{th}$ above represents the thermal current, and is define as:\n",
    "\n",
    "\\begin{align}\n",
    "I_{th} = \\frac{I_{arc}}{\\pi R_{arc}^{2}} \\pi R_{anode}^{2}\n",
    "\\end{align}\n",
    "\n",
    "The equation for current continuity, which states that the total current is equal to the sum of the ion and electron currents:\n",
    "\n",
    "\\begin{align}\n",
    "I_{arc} = I_{ion} + I_{e}\n",
    "\\end{align}\n",
    "\n",
    "Ion and electron currents are also given explicitly:\n",
    "\n",
    "\\begin{align}\n",
    "I_{e} =& \\pi R_{c}^{2} \\big( A T_{c}^{2} \\big)  exp^{ \\big( - \\frac{e \\phi_{W}}{k_{B} T_{c}} \\big) } \\\\\n",
    "I_{ion} =& \\pi R_{c}^{2} \\bigg( 0.6 e n_{e} \\bigg[ \\frac{T_{e}}{m_{i}} \\bigg]^{0.5} \\bigg)\n",
    "\\end{align}\n",
    "\n",
    "The current continuity equation yields a non linear equation to solve for the cathode temperature:\n",
    "\n",
    "\\begin{align}\n",
    "I_{arc} = \\pi R_{c}^{2} \\bigg( A T_{c}^{2}  exp^{ \\big( - \\frac{e \\phi_{W}}{k_{B} T_{c}} \\big)  } +  0.6 e n_{e} \\bigg[ \\frac{T_{e}}{m_{i}} \\bigg]^{0.5} \\bigg)\n",
    "\\end{align}\n",
    "\n",
    "\n",
    "From the Saha equation, we can obtain number densities of ions, neutrals, and electrons of the individual species in the plasma. In this case, the elements are helium and carbon, so there will be two saha equations. These can be generalized considering l represents each individual species in the equation below:\n",
    "\n",
    "\\begin{align}\n",
    "\\frac{n_{i,l} n_{e}}{n_{o,l}} =& \\bigg( \\frac{2 \\pi m_{e} k_{B} T_{e}}{h^{2}} \\bigg)^{3/2} exp^{ \\bigg( - \\frac{E_{l}}{k_{b} T_{e}} \\bigg) }\n",
    "\\end{align}\n",
    "\n",
    "\n",
    "Finally, the anode temperature will depend on the electron temperature since heating of the anode by electrons creates a temperature rise in the anode, as we will later see.\n",
    "\n",
    "\n",
    "At this point we can isolate variables to understand if the system of equations have closure. We can express the variable of interest in terms of what variables they depend on:\n",
    "\n",
    "\\begin{align}\n",
    "I_{ion} = & f(T_{e}, n_{e}) \\nonumber \\\\\n",
    "I_{e} = & f(T_{c}) \\nonumber \\\\\n",
    "T_{c} = & f(T_{e}, n_{e}) \\nonumber \\\\\n",
    "T_{a} = & f(T_{e}) \\nonumber \\\\\n",
    "U_{c} = & f(T_{e}, n_{e}) \\nonumber \\\\\n",
    "n_{e} = & f(T_{e}) \\nonumber\n",
    "\\end{align}\n",
    "\n",
    "There is now a closure issue because there is no analytical equation that can be used to solve the electron temperature. Thus, we have to develop a solver that is based on initial guesses corresponding to the necessary inputs such as total pressure and electron temperature.\n",
    "\n",
    "For now, we'll spend some time understanding how the equations work."
   ]
  },
  {
   "cell_type": "markdown",
   "metadata": {},
   "source": [
    "## Simulation for Given Arc Current and Experiment Pressure"
   ]
  },
  {
   "cell_type": "markdown",
   "metadata": {},
   "source": [
    "Temperatures will vary based on on the input arc current and Pressure. For now, this notebook only considers arc current of 20 amps and Pressure of 300 Torr. \n",
    "\n",
    "The values for pressure and arc current are taken from results provided in Chapter 6."
   ]
  },
  {
   "cell_type": "markdown",
   "metadata": {},
   "source": [
    "##### Total Pressure - Experiment Input\n"
   ]
  },
  {
   "cell_type": "code",
   "execution_count": 4,
   "metadata": {
    "collapsed": false
   },
   "outputs": [
    {
     "name": "stdout",
     "output_type": "stream",
     "text": [
      "Assumed Pressure in Pascal: 39996.60\n"
     ]
    }
   ],
   "source": [
    "Pt = 300 * 133.322 # torr to Pa\n",
    "print('Assumed Pressure in Pascal: %.2f' % Pt)"
   ]
  },
  {
   "cell_type": "markdown",
   "metadata": {},
   "source": [
    "##### Electron Temperature (Assumed)"
   ]
  },
  {
   "cell_type": "code",
   "execution_count": 5,
   "metadata": {
    "collapsed": false
   },
   "outputs": [
    {
     "name": "stdout",
     "output_type": "stream",
     "text": [
      "Assumed electron temperature in Kelvin: 7658.99 \n"
     ]
    }
   ],
   "source": [
    "Te_eV = 0.66 # given in eV\n",
    "Te = Te_eV*(11604.52500617) # K\n",
    "#Te = Te_eV*constants.e/constants.k # given in Kelvin\n",
    "\n",
    "print('Assumed electron temperature in Kelvin: %.2f ' % Te)"
   ]
  },
  {
   "cell_type": "markdown",
   "metadata": {},
   "source": [
    "## Plasma Composition and the  Saha Equation"
   ]
  },
  {
   "cell_type": "markdown",
   "metadata": {},
   "source": [
    "From the saha equations, we can compute the number density of ions and neutrals for each species, and also calculate the number density of electrons. However, the solution is not straightforward because we have five unknowns and 2 nonlinear equations.\n",
    "\n",
    "From the equation of state, we can write an expression for the electron pressure:\n",
    "\n",
    "\\begin{equation}\n",
    "P_{e} = n_{e}k_{B}T_{e} \n",
    "\\end{equation}\n",
    "\n",
    "Additionally, we can relate the total pressure to the electron pressure by the electron concentration:\n",
    "\n",
    "\\begin{equation}\n",
    "C_{e} = \\frac{P_{e}}{P_{T}}\n",
    "\\end{equation}\n",
    "\n",
    "We can use several equations invoking ionization equilibrium as a form of chemical equilibrium. We can write concentrations for electrons and total number of neutrals and ions:\n",
    "\n",
    "\\begin{align}\n",
    "C_{e} &= \\frac{n_{e}}{n_{e} + n_{i,t} + n_{o,t} } \\\\\n",
    "C_{o,t} &= \\frac{n_{o,t}}{n_{e} + n_{i,t} + n_{o,t} } \\\\\n",
    "C_{i,t} &= \\frac{n_{i,t}}{n_{e} + n_{i,t} + n_{o,t} } \n",
    "\\end{align}\n",
    "\n",
    "Additionally, let's remember the quasi-neutral relationship:\n",
    "\n",
    "\\begin{equation}\n",
    "n_{e} = n_{i,He} + n_{i,C}\n",
    "\\end{equation}\n",
    "\n"
   ]
  },
  {
   "cell_type": "markdown",
   "metadata": {},
   "source": [
    "Process:\n",
    "\n",
    "1. Give initial guess for number density of electrons. \n",
    "2. Find electron pressure\n",
    "3. Find electron concentration\n",
    "4. Find total number density of ions and neutrals\n",
    "5. Find concentrations of ions and neutrals\n",
    "6. Find individual number density of individual species\n",
    "\n",
    "7. Check for convergence: How close do guessed values conserve atom conservation? How well do guessed values predict total Pressure?"
   ]
  },
  {
   "cell_type": "markdown",
   "metadata": {},
   "source": [
    "### Electron number density  $ \\Big( \\frac{1}{m^3} \\Big)$"
   ]
  },
  {
   "cell_type": "code",
   "execution_count": 6,
   "metadata": {
    "collapsed": true
   },
   "outputs": [],
   "source": [
    "ne_guess = 7e20"
   ]
  },
  {
   "cell_type": "markdown",
   "metadata": {},
   "source": [
    "### Steps 2 through 5"
   ]
  },
  {
   "cell_type": "code",
   "execution_count": 7,
   "metadata": {
    "collapsed": false
   },
   "outputs": [],
   "source": [
    "Pe_guess = ne_guess*constants.k*Te\n",
    "Ce_guess = Pe_guess/Pt"
   ]
  },
  {
   "cell_type": "code",
   "execution_count": 8,
   "metadata": {
    "collapsed": false
   },
   "outputs": [
    {
     "name": "stdout",
     "output_type": "stream",
     "text": [
      "Concentration of electrons 0.0019 \n"
     ]
    }
   ],
   "source": [
    "print('Concentration of electrons %.4f ' % Ce_guess)"
   ]
  },
  {
   "cell_type": "code",
   "execution_count": 9,
   "metadata": {
    "collapsed": true
   },
   "outputs": [],
   "source": [
    "ni_t = ne_guess\n",
    "no_t = (ne_guess - Ce_guess*(ne_guess+ni_t))/Ce_guess\n"
   ]
  },
  {
   "cell_type": "code",
   "execution_count": 10,
   "metadata": {
    "collapsed": false
   },
   "outputs": [
    {
     "name": "stdout",
     "output_type": "stream",
     "text": [
      "number density of total ions 7e+20 \n"
     ]
    }
   ],
   "source": [
    "print('number density of total ions %.4g ' % ni_t)"
   ]
  },
  {
   "cell_type": "code",
   "execution_count": 11,
   "metadata": {
    "collapsed": false
   },
   "outputs": [
    {
     "name": "stdout",
     "output_type": "stream",
     "text": [
      "number density of total neutrals 3.768e+23 \n"
     ]
    }
   ],
   "source": [
    "print('number density of total neutrals %.4g ' % no_t)"
   ]
  },
  {
   "cell_type": "code",
   "execution_count": 12,
   "metadata": {
    "collapsed": true
   },
   "outputs": [],
   "source": [
    "Ci = ni_t/(ne_guess+ni_t+no_t)\n",
    "Co = no_t/(ne_guess+ni_t+no_t)"
   ]
  },
  {
   "cell_type": "code",
   "execution_count": 13,
   "metadata": {
    "collapsed": false
   },
   "outputs": [
    {
     "name": "stdout",
     "output_type": "stream",
     "text": [
      "Concentration of Ions 0.9963 \n"
     ]
    }
   ],
   "source": [
    "print('Concentration of Ions %.4f ' % Co)"
   ]
  },
  {
   "cell_type": "code",
   "execution_count": 14,
   "metadata": {
    "collapsed": false
   },
   "outputs": [
    {
     "name": "stdout",
     "output_type": "stream",
     "text": [
      "concentration of neutrals 0.001851 \n"
     ]
    }
   ],
   "source": [
    "print('concentration of neutrals %.4g ' % Ci)"
   ]
  },
  {
   "cell_type": "code",
   "execution_count": 15,
   "metadata": {
    "collapsed": false
   },
   "outputs": [
    {
     "name": "stdout",
     "output_type": "stream",
     "text": [
      "Sum of concentrations should be close to 1 : 1.000000 \n"
     ]
    }
   ],
   "source": [
    "Ct = Co + Ci + Ce_guess\n",
    "print('Sum of concentrations should be close to 1 : %.6f ' % Ct)"
   ]
  },
  {
   "cell_type": "code",
   "execution_count": 16,
   "metadata": {
    "collapsed": false
   },
   "outputs": [
    {
     "name": "stdout",
     "output_type": "stream",
     "text": [
      "Total number density : 3.782e+23 \n"
     ]
    }
   ],
   "source": [
    "Nt = ni_t + no_t + ne_guess\n",
    "print('Total number density : %.4g ' % Nt)"
   ]
  },
  {
   "cell_type": "code",
   "execution_count": 17,
   "metadata": {
    "collapsed": false
   },
   "outputs": [],
   "source": [
    "Pt_guess = Nt*constants.k*Te"
   ]
  },
  {
   "cell_type": "code",
   "execution_count": 18,
   "metadata": {
    "collapsed": false
   },
   "outputs": [
    {
     "name": "stdout",
     "output_type": "stream",
     "text": [
      "Total Pressure as a function of guessed values : 39996.6000 \n"
     ]
    }
   ],
   "source": [
    "Pt_guess\n",
    "print('Total Pressure as a function of guessed values : %.4f ' % Pt_guess)"
   ]
  },
  {
   "cell_type": "markdown",
   "metadata": {},
   "source": [
    "### Ionization Energies of Helium and Carbon"
   ]
  },
  {
   "cell_type": "code",
   "execution_count": 19,
   "metadata": {
    "collapsed": true
   },
   "outputs": [],
   "source": [
    "#These are given in eV, https://dept.astro.lsa.umich.edu/~cowley/ionen.htm\n",
    "\n",
    "#assume values for 1st spectra\n",
    "\n",
    "E_He = 24.5874*constants.e  #ionization energy for helium in Joules\n",
    "E_C = 11.2603*constants.e #ionization energy for carbon\n",
    "\n",
    "# Values from http://periodictable.com/Elements/002/data.html\n",
    "\n",
    "# I need to give ionization energies in Joules for the saha equation\n",
    "\n",
    "# E_He =2372.3 #kJ/mol\n",
    "# E_He2 = 5250.5 #kJ/mol\n",
    "\n",
    "# E_C = 1086.5 #kJ/mol\n",
    "# E_C2 = 2352.6 #kJ/mol\n",
    "# E_C3 = 4620.5 #kJ/mol\n",
    "# E_C4 = 6222.7 #kJ/mol\n",
    "# E_C5 = 37831 #kJ/mol\n",
    "# E_C6 = 47277 #kJ/mol"
   ]
  },
  {
   "cell_type": "markdown",
   "metadata": {},
   "source": [
    "### Saha Equation - Right-Hand Side"
   ]
  },
  {
   "cell_type": "code",
   "execution_count": 20,
   "metadata": {
    "collapsed": false
   },
   "outputs": [],
   "source": [
    "A =  ( ( (2*numpy.pi*constants.m_e*constants.k*Te) / (constants.h**2) )**(3/2) ) *\\\n",
    "                 math.exp( (-E_He)/(constants.k*Te))\n",
    "    \n",
    "B =  ( ( (2*numpy.pi*constants.m_e*constants.k*Te) / (constants.h**2) )**(3/2) ) *\\\n",
    "                 math.exp( (-E_C) / (constants.k*Te))"
   ]
  },
  {
   "cell_type": "code",
   "execution_count": 21,
   "metadata": {
    "collapsed": false
   },
   "outputs": [
    {
     "data": {
      "text/plain": [
       "107170757213.4718"
      ]
     },
     "execution_count": 21,
     "metadata": {},
     "output_type": "execute_result"
    }
   ],
   "source": [
    "A #this is the right-hand side for the helium eqn"
   ]
  },
  {
   "cell_type": "code",
   "execution_count": 22,
   "metadata": {
    "collapsed": false
   },
   "outputs": [
    {
     "data": {
      "text/plain": [
       "6.303709865846398e+19"
      ]
     },
     "execution_count": 22,
     "metadata": {},
     "output_type": "execute_result"
    }
   ],
   "source": [
    "B #this is the right-hand side for the carbon eqn"
   ]
  },
  {
   "cell_type": "markdown",
   "metadata": {},
   "source": [
    "### Find Number Densities of Individual Species"
   ]
  },
  {
   "cell_type": "markdown",
   "metadata": {},
   "source": [
    "At this point we have four equations and four unknowns. We can do some math to solve for the unknowns. \n",
    "\n",
    "\\begin{align}\n",
    "\\frac{n_{e}n_{i,He}}{n_{o,He}} &= A \\\\\n",
    "\\frac{n_{e}n_{i,C}}{n_{o,C}} &= B \\\\\n",
    "n_{o,t} &= n_{o,He} + n_{o,C} \\\\\n",
    "n_{i,t} &= n_{i,He} + n_{i,C} \n",
    "\\end{align}"
   ]
  },
  {
   "cell_type": "markdown",
   "metadata": {},
   "source": [
    "From equations 19 and 20 above, we can solve for number of ions in each species and use these expressions in equation 20 to solve for $n_{o,C} $ :\n",
    "\n",
    "\\begin{align}\n",
    "n_{i,He} &= \\frac{A n_{o,He}}{n_{e}} \\nonumber \\\\\n",
    "n_{i,C} &= \\frac{B n_{o,C}}{n_{e}} \\nonumber \\\\\n",
    "n_{i,t} &=  \\frac{A n_{o,He}}{n_{e}} + \\frac{B n_{o,C}}{n_{e}} \\nonumber \\\\\n",
    "n_{o,C} &= \\frac{n_{i,t} - n_{o,He}\\frac{A}{n_{e}}}{1  - \\frac{B}{n_{e}}}\n",
    "\\end{align}\n",
    "\n",
    "\n"
   ]
  },
  {
   "cell_type": "markdown",
   "metadata": {},
   "source": [
    "Plugging equation 21 into equation 19, we can solve for one unknown:\n",
    "\n",
    "\\begin{equation}\n",
    "n_{o,He} = \\frac{n_{o,t} - n_{i,t}\\frac{n_{e}}{B}}{1 - \\frac{A}{B}}\n",
    "\\end{equation}\n"
   ]
  },
  {
   "cell_type": "code",
   "execution_count": 23,
   "metadata": {
    "collapsed": false
   },
   "outputs": [],
   "source": [
    "no_He = (no_t - (ne_guess*ni_t)/B)/(1 - A/B)"
   ]
  },
  {
   "cell_type": "code",
   "execution_count": 24,
   "metadata": {
    "collapsed": false
   },
   "outputs": [
    {
     "name": "stdout",
     "output_type": "stream",
     "text": [
      "number density He neutrals 3.691e+23 \n"
     ]
    }
   ],
   "source": [
    "print('number density He neutrals %.4g ' % no_He)"
   ]
  },
  {
   "cell_type": "markdown",
   "metadata": {},
   "source": [
    "Now, we can use quasi-neutrality from equation 16 to solve for the carbon ion number density:"
   ]
  },
  {
   "cell_type": "code",
   "execution_count": 25,
   "metadata": {
    "collapsed": true
   },
   "outputs": [],
   "source": [
    "no_C = no_t - no_He"
   ]
  },
  {
   "cell_type": "code",
   "execution_count": 26,
   "metadata": {
    "collapsed": false
   },
   "outputs": [
    {
     "name": "stdout",
     "output_type": "stream",
     "text": [
      "number density C neutrals 7.773e+21 \n"
     ]
    }
   ],
   "source": [
    "print('number density C neutrals %.4g ' % no_C)"
   ]
  },
  {
   "cell_type": "markdown",
   "metadata": {},
   "source": [
    "Similarly, we can use the saha equations to solve for the ions of each species:"
   ]
  },
  {
   "cell_type": "code",
   "execution_count": 27,
   "metadata": {
    "collapsed": true
   },
   "outputs": [],
   "source": [
    "ni_He = (no_He/ne_guess)*A"
   ]
  },
  {
   "cell_type": "code",
   "execution_count": 28,
   "metadata": {
    "collapsed": false
   },
   "outputs": [
    {
     "name": "stdout",
     "output_type": "stream",
     "text": [
      "number density He ions 5.65e+13 \n"
     ]
    }
   ],
   "source": [
    "print('number density He ions %.4g ' % ni_He)"
   ]
  },
  {
   "cell_type": "code",
   "execution_count": 29,
   "metadata": {
    "collapsed": true
   },
   "outputs": [],
   "source": [
    "ni_C = (no_C/ne_guess)*B"
   ]
  },
  {
   "cell_type": "code",
   "execution_count": 30,
   "metadata": {
    "collapsed": false
   },
   "outputs": [
    {
     "name": "stdout",
     "output_type": "stream",
     "text": [
      "number density C ions 7e+20 \n"
     ]
    }
   ],
   "source": [
    "print('number density C ions %.4g ' % ni_C)"
   ]
  },
  {
   "cell_type": "code",
   "execution_count": 31,
   "metadata": {
    "collapsed": true
   },
   "outputs": [],
   "source": [
    "Conservation = (ni_He + no_He)/(ni_C + no_C)"
   ]
  },
  {
   "cell_type": "code",
   "execution_count": 32,
   "metadata": {
    "collapsed": false
   },
   "outputs": [
    {
     "name": "stdout",
     "output_type": "stream",
     "text": [
      "the ratio of helium to carbon partial pressures is 43.56\n"
     ]
    }
   ],
   "source": [
    "print(  'the ratio of helium to carbon partial pressures is %.2f' % Conservation )"
   ]
  },
  {
   "cell_type": "code",
   "execution_count": 33,
   "metadata": {
    "collapsed": true
   },
   "outputs": [],
   "source": [
    "Nt2 = (ni_He + ni_C) + (no_He + no_C) + ne_guess\n",
    "\n",
    "n_He = ni_He + no_He\n",
    "n_C = ni_C + no_C\n",
    "C_He = n_He/Nt2\n",
    "C_C = n_C/Nt2"
   ]
  },
  {
   "cell_type": "code",
   "execution_count": 34,
   "metadata": {
    "collapsed": false
   },
   "outputs": [
    {
     "name": "stdout",
     "output_type": "stream",
     "text": [
      "Sum of concentrations should be close to 1 : 1.000000 \n"
     ]
    }
   ],
   "source": [
    "Ct2 = Ce_guess + C_He + C_C\n",
    "print('Sum of concentrations should be close to 1 : %.6f ' % Ct2)"
   ]
  },
  {
   "cell_type": "markdown",
   "metadata": {},
   "source": [
    "### Check Partial Pressures"
   ]
  },
  {
   "cell_type": "code",
   "execution_count": 35,
   "metadata": {
    "collapsed": false
   },
   "outputs": [],
   "source": [
    "P_He = C_He*Pt\n",
    "P_C = C_C*Pt"
   ]
  },
  {
   "cell_type": "code",
   "execution_count": 36,
   "metadata": {
    "collapsed": false
   },
   "outputs": [
    {
     "data": {
      "text/plain": [
       "39026.59187378081"
      ]
     },
     "execution_count": 36,
     "metadata": {},
     "output_type": "execute_result"
    }
   ],
   "source": [
    "P_He"
   ]
  },
  {
   "cell_type": "code",
   "execution_count": 37,
   "metadata": {
    "collapsed": false
   },
   "outputs": [
    {
     "data": {
      "text/plain": [
       "895.9875325367469"
      ]
     },
     "execution_count": 37,
     "metadata": {},
     "output_type": "execute_result"
    }
   ],
   "source": [
    "P_C"
   ]
  },
  {
   "cell_type": "code",
   "execution_count": 38,
   "metadata": {
    "collapsed": false
   },
   "outputs": [
    {
     "data": {
      "text/plain": [
       "43.557070223162086"
      ]
     },
     "execution_count": 38,
     "metadata": {},
     "output_type": "execute_result"
    }
   ],
   "source": [
    "P_He/P_C"
   ]
  },
  {
   "cell_type": "code",
   "execution_count": 39,
   "metadata": {
    "collapsed": false
   },
   "outputs": [
    {
     "data": {
      "text/plain": [
       "0.0"
      ]
     },
     "execution_count": 39,
     "metadata": {},
     "output_type": "execute_result"
    }
   ],
   "source": [
    "Pt - (P_He + P_C + Pe_guess )"
   ]
  },
  {
   "cell_type": "markdown",
   "metadata": {},
   "source": [
    "Now that conservation of concentrations and pressure are satisfied we can move on to solve other properties"
   ]
  },
  {
   "cell_type": "markdown",
   "metadata": {},
   "source": [
    "## Solve for Ion Current"
   ]
  },
  {
   "cell_type": "markdown",
   "metadata": {},
   "source": [
    "### More Parameters"
   ]
  },
  {
   "cell_type": "code",
   "execution_count": 40,
   "metadata": {
    "collapsed": true
   },
   "outputs": [],
   "source": [
    "Iarc = 20.\n",
    "\n",
    "Rc = (12.5/2.) * 1./1000. # cathode radius [meters]\n",
    "Ran = 6.35/2. * 1./1000.  #anode radius [meters]\n",
    "Lgap = 2.0 * 1./1000. #interelectrode gap [meters]\n",
    "\n",
    "Rarc = Ran*0.2*Iarc\n",
    "\n",
    "Em_C = 0.70 #emissivity - graphite (0-3600 deg)\n",
    "\n",
    "#Richardson Constant:\n",
    "A = 1.2e6 #constant in electron current density eqn [A/(m^2 K^2)], pg.62\n",
    "\n",
    "#Thermal Conductivity Carbon\n",
    "lmbda_C = 1.7 #thermal conductivity carbon W m-1 K-1\n",
    "#lmbda_C = 140 #Thermal Conductivity; 140 W/(m K), http://periodictable.com/Elements/006/data.html\n",
    "\n",
    "n_e = ne_guess # number density of electrons\n",
    "\n",
    "#Work Function, http://hyperphysics.phy-astr.gsu.edu/hbase/tables/photoelec.html\n",
    "phi_C = 4.81*constants.e #work function of Carbon for photoelectric effect, eV to Joules\n",
    "phi_C_eV = 4.81 #eV\n",
    "\n",
    "#Ionization Potential of Carbon\n",
    "Uiz_C_eV = 11.2603 #eV\n",
    "\n",
    "#Initial Cathode and Anode Temperatures, assume room temp in Kelvin:\n",
    "To = 298.15\n"
   ]
  },
  {
   "cell_type": "markdown",
   "metadata": {},
   "source": [
    "### Mass of Helium and Carbon Ions [Kg]"
   ]
  },
  {
   "cell_type": "code",
   "execution_count": 41,
   "metadata": {
    "collapsed": false
   },
   "outputs": [
    {
     "name": "stdout",
     "output_type": "stream",
     "text": [
      "mass of He and C Ions : 2.659e-26 \n"
     ]
    }
   ],
   "source": [
    "UAMU = 1.660538921e-27 # Unified atomic mass unit in Kg\n",
    "\n",
    "mi_He = UAMU*4.002602\n",
    "mi_C = UAMU*12.0107\n",
    "\n",
    "m_i_AMU = (mi_He + mi_C) # given in kilograms\n",
    "#\n",
    "print('mass of He and C Ions : %.4g ' % m_i_AMU)"
   ]
  },
  {
   "cell_type": "code",
   "execution_count": 42,
   "metadata": {
    "collapsed": false
   },
   "outputs": [
    {
     "data": {
      "text/plain": [
       "(5.670373e-08, 'W m^-2 K^-4', 2.1e-13)"
      ]
     },
     "execution_count": 42,
     "metadata": {},
     "output_type": "execute_result"
    }
   ],
   "source": [
    "scipy.constants.physical_constants[\"Stefan-Boltzmann constant\"]"
   ]
  },
  {
   "cell_type": "code",
   "execution_count": 43,
   "metadata": {
    "collapsed": false
   },
   "outputs": [
    {
     "data": {
      "text/plain": [
       "(1.3806488e-23, 'J K^-1', 1.3e-29)"
      ]
     },
     "execution_count": 43,
     "metadata": {},
     "output_type": "execute_result"
    }
   ],
   "source": [
    "scipy.constants.physical_constants[\"Boltzmann constant\"]"
   ]
  },
  {
   "cell_type": "markdown",
   "metadata": {},
   "source": [
    "### Ion Current "
   ]
  },
  {
   "cell_type": "markdown",
   "metadata": {},
   "source": [
    "Let's check the units for the ion current equation. We want the result given in amperes. In order for the units to give the expected result, we need to give the electron temperature in Joules."
   ]
  },
  {
   "cell_type": "code",
   "execution_count": 44,
   "metadata": {
    "collapsed": false
   },
   "outputs": [
    {
     "name": "stdout",
     "output_type": "stream",
     "text": [
      "Ion Current in Amperes : 16.47 \n"
     ]
    }
   ],
   "source": [
    "I_ion = numpy.pi*(Rc**2)*\\\n",
    "0.6*(constants.e)*(n_e)*numpy.sqrt( (Te_eV*constants.e) / m_i_AMU)\n",
    "print('Ion Current in Amperes : %.4g ' % I_ion)"
   ]
  },
  {
   "cell_type": "code",
   "execution_count": 45,
   "metadata": {
    "collapsed": false
   },
   "outputs": [
    {
     "data": {
      "text/plain": [
       "0.82338273371657189"
      ]
     },
     "execution_count": 45,
     "metadata": {},
     "output_type": "execute_result"
    }
   ],
   "source": [
    "I_ion/Iarc"
   ]
  },
  {
   "cell_type": "markdown",
   "metadata": {},
   "source": [
    "## Solve for Cathode Temperature"
   ]
  },
  {
   "cell_type": "code",
   "execution_count": 46,
   "metadata": {
    "collapsed": true
   },
   "outputs": [],
   "source": [
    "Tc = sympy.symbols('Tc')"
   ]
  },
  {
   "cell_type": "markdown",
   "metadata": {},
   "source": [
    "From here, I'll apply the correction factor to the mass we found:"
   ]
  },
  {
   "cell_type": "code",
   "execution_count": 47,
   "metadata": {
    "collapsed": false
   },
   "outputs": [],
   "source": [
    "Tc_eqn = sympy.Eq( 20, numpy.pi*(Rc**2)*A*(Tc**2)*sympy.exp(-phi_C/(constants.k*Tc))\\\n",
    "                  + I_ion ) "
   ]
  },
  {
   "cell_type": "code",
   "execution_count": 48,
   "metadata": {
    "collapsed": false
   },
   "outputs": [
    {
     "data": {
      "text/plain": [
       "20 == 147.262155637022*Tc**2*exp(-55817.737846511/Tc) + 16.4676546743314"
      ]
     },
     "execution_count": 48,
     "metadata": {},
     "output_type": "execute_result"
    }
   ],
   "source": [
    "Tc_eqn"
   ]
  },
  {
   "cell_type": "code",
   "execution_count": 49,
   "metadata": {
    "collapsed": false
   },
   "outputs": [],
   "source": [
    "#Tcs = sympy.solve(Tc_eqn, Tc)\n",
    "Tcs = sympy.nsolve(Tc_eqn, Tc, 3000)"
   ]
  },
  {
   "cell_type": "code",
   "execution_count": 50,
   "metadata": {
    "collapsed": false
   },
   "outputs": [
    {
     "name": "stdout",
     "output_type": "stream",
     "text": [
      "Cathode Temperature in Kelvin: 2843 \n"
     ]
    }
   ],
   "source": [
    "Tc_sim = float(Tcs)\n",
    "\n",
    "print('Cathode Temperature in Kelvin: %.4g ' % Tc_sim)"
   ]
  },
  {
   "cell_type": "markdown",
   "metadata": {},
   "source": [
    "This cathode temperature does not match with the results presented in Figure 6.25 on page 320. The cathode temperature when Iarc = 20 is reported to be above 3200 Kelvin."
   ]
  },
  {
   "cell_type": "markdown",
   "metadata": {},
   "source": [
    "## Solve for Electron Current"
   ]
  },
  {
   "cell_type": "code",
   "execution_count": 51,
   "metadata": {
    "collapsed": false
   },
   "outputs": [
    {
     "name": "stdout",
     "output_type": "stream",
     "text": [
      "Electron Current in Amperes : 3.532 \n"
     ]
    }
   ],
   "source": [
    "I_e = numpy.pi*(Rc**2)*A*(Tc_sim**2)*numpy.exp(-phi_C/(constants.k*Tc_sim))\n",
    "print('Electron Current in Amperes : %.4g ' % I_e)"
   ]
  },
  {
   "cell_type": "markdown",
   "metadata": {},
   "source": [
    "### Current Continuity"
   ]
  },
  {
   "cell_type": "code",
   "execution_count": 52,
   "metadata": {
    "collapsed": false
   },
   "outputs": [
    {
     "name": "stdout",
     "output_type": "stream",
     "text": [
      "Current Continuity Conservation (percent) : 100 \n"
     ]
    }
   ],
   "source": [
    "#check continuity\n",
    "I_cons = ((I_e + I_ion)/Iarc)*100.\n",
    "print('Current Continuity Conservation (percent) : %.4g ' % I_cons)\n"
   ]
  },
  {
   "cell_type": "markdown",
   "metadata": {},
   "source": [
    "## Anode Region"
   ]
  },
  {
   "cell_type": "code",
   "execution_count": 53,
   "metadata": {
    "collapsed": true
   },
   "outputs": [],
   "source": [
    "Ta = sympy.symbols('Ta')"
   ]
  },
  {
   "cell_type": "markdown",
   "metadata": {},
   "source": [
    "### Thermal Current"
   ]
  },
  {
   "cell_type": "code",
   "execution_count": 54,
   "metadata": {
    "collapsed": false
   },
   "outputs": [
    {
     "name": "stdout",
     "output_type": "stream",
     "text": [
      "Thermal Current (Amps): 1.25 \n"
     ]
    }
   ],
   "source": [
    "#Need to find thermal current to calculate anode voltage drop:\n",
    "I_th = (Iarc/(numpy.pi*(Rarc**2)))*(numpy.pi*Ran**2.)\n",
    "print('Thermal Current (Amps): %.4g ' % I_th)"
   ]
  },
  {
   "cell_type": "code",
   "execution_count": 55,
   "metadata": {
    "collapsed": true
   },
   "outputs": [],
   "source": [
    "#Another method as presented in TEFLON CAVITY OF A COAXIAL PPT\n",
    "\n",
    "# I_th2 = 0.25*constants.e*(n_e)*(numpy.sqrt((8*constants.e*Te_eV)/(numpy.pi*constants.m_e)))*numpy.pi*Ran**2\n",
    "# I_th2"
   ]
  },
  {
   "cell_type": "markdown",
   "metadata": {},
   "source": [
    "### Anode Voltage"
   ]
  },
  {
   "cell_type": "code",
   "execution_count": 56,
   "metadata": {
    "collapsed": false
   },
   "outputs": [],
   "source": [
    "Ua_eV =  - Te_eV * numpy.log(I_th/Iarc) #eV"
   ]
  },
  {
   "cell_type": "code",
   "execution_count": 57,
   "metadata": {
    "collapsed": false
   },
   "outputs": [
    {
     "name": "stdout",
     "output_type": "stream",
     "text": [
      "Anode Voltage drop in eV: 1.83 \n"
     ]
    }
   ],
   "source": [
    "print('Anode Voltage drop in eV: %.4g ' % Ua_eV)"
   ]
  },
  {
   "cell_type": "markdown",
   "metadata": {},
   "source": [
    "### Anode Heat Flux Density"
   ]
  },
  {
   "cell_type": "code",
   "execution_count": 58,
   "metadata": {
    "collapsed": false
   },
   "outputs": [
    {
     "name": "stdout",
     "output_type": "stream",
     "text": [
      "Anode Heat Flux density [ W/m2 ]: 5.027e+06 \n"
     ]
    }
   ],
   "source": [
    "q_a = (Iarc/(numpy.pi*Ran**2))*((2.*Te_eV + Ua_eV + phi_C_eV))\n",
    "print('Anode Heat Flux density [ W/m2 ]: %.4g ' % q_a)"
   ]
  },
  {
   "cell_type": "markdown",
   "metadata": {},
   "source": [
    "### Anode Ablation Rate (Langmuir Model)"
   ]
  },
  {
   "cell_type": "markdown",
   "metadata": {},
   "source": [
    "The paper \"Electrical Discharge in the Teflon Cavity of a Coaxial\n",
    "Pulsed Plasma Thruster\" has an expression for ablation rate. The blation rate will be dependent on anode temperature. We can express the ablation rate, gamma:\n",
    "\n",
    "\\begin{equation}\n",
    "\\Gamma = P_{experiment} \\sqrt{\\frac{m_i}{2 \\pi k_B T_a}} \\nonumber\n",
    "\\end{equation}\n",
    "\n",
    "Note that paper \"Wall interactions with plasma generated\n",
    "by vacuum arcs and targets irradiated by\n",
    "intense laser beams\" has the following model:\n",
    "\n",
    "\\begin{equation}\n",
    "\\Gamma = \\frac{P_{experiment}}{\\sqrt{2 m_{atom} \\pi k_B T_a}} \\nonumber\n",
    "\\end{equation}\n",
    "\n"
   ]
  },
  {
   "cell_type": "markdown",
   "metadata": {},
   "source": [
    "### Erosion Terms"
   ]
  },
  {
   "cell_type": "code",
   "execution_count": 59,
   "metadata": {
    "collapsed": false
   },
   "outputs": [],
   "source": [
    "dH = (355.8/(0.012))*1000. #convert kJ/Kmol to J/kg, heat of vaporization carbon\n",
    "dH2 = 5.95e7 #J/Kg http://www.wolframalpha.com/input/?i=heat+of+evaporationcarbon\n",
    "cp = 710.0 # J/(Kg*K) #specific heat @ constant pressure\n"
   ]
  },
  {
   "cell_type": "code",
   "execution_count": 60,
   "metadata": {
    "collapsed": false
   },
   "outputs": [
    {
     "data": {
      "text/plain": [
       "0.49831932773109244"
      ]
     },
     "execution_count": 60,
     "metadata": {},
     "output_type": "execute_result"
    }
   ],
   "source": [
    "dH/dH2"
   ]
  },
  {
   "cell_type": "code",
   "execution_count": 61,
   "metadata": {
    "collapsed": false
   },
   "outputs": [],
   "source": [
    "# ABL = (Pt*numpy.sqrt(m_i_AMU/(2*numpy.pi*constants.k*3350)))\n",
    "\n",
    "# RHS = q_a - dH*ABL - ABL*cp*(3350-To)\n",
    "# LHS = 3350*ABL*cp\n"
   ]
  },
  {
   "cell_type": "markdown",
   "metadata": {},
   "source": [
    "### Solve For Ta"
   ]
  },
  {
   "cell_type": "code",
   "execution_count": 62,
   "metadata": {
    "collapsed": false
   },
   "outputs": [],
   "source": [
    "# Ta_eqn = sympy.Eq (0,  q_a - ( (Pt*sympy.exp(-Te/Ta))*\\\n",
    "#                               sympy.sqrt(m_i_AMU/(2*numpy.pi*constants.k*Ta)))*\\\n",
    "#                    (cp*Ta + dH + cp*(Ta-To)))\n",
    "\n",
    "A = 15.73\n",
    "B = 40030.0\n",
    "\n",
    "Ta_eqn = sympy.Eq (0.,  q_a - ( (0.133*sympy.exp(2.3*(A - B/Ta)))*\\\n",
    "                              sympy.sqrt(m_i_AMU/(2*numpy.pi*constants.k*Ta)))*\\\n",
    "                   (cp*Ta + dH + cp*(Ta-To)))"
   ]
  },
  {
   "cell_type": "code",
   "execution_count": 63,
   "metadata": {
    "collapsed": false
   },
   "outputs": [
    {
     "data": {
      "text/plain": [
       "0.0 == -12006740779177.2*(1420.0*Ta + 29438313.5)*sqrt(1/Ta)*exp(-92069.0/Ta) + 5026905.74584341"
      ]
     },
     "execution_count": 63,
     "metadata": {},
     "output_type": "execute_result"
    }
   ],
   "source": [
    "Ta_eqn"
   ]
  },
  {
   "cell_type": "code",
   "execution_count": 64,
   "metadata": {
    "collapsed": false
   },
   "outputs": [],
   "source": [
    "#Tas = sympy.nsolve(Ta_eqn, Ta, 1000 ) #This method does not work"
   ]
  },
  {
   "cell_type": "code",
   "execution_count": 65,
   "metadata": {
    "collapsed": false
   },
   "outputs": [],
   "source": [
    "# def get_T(x):\n",
    "#     y = q_a - ( (0.133*sympy.exp(2.3*(A - B/Ta)))*\\\n",
    "#                               sympy.sqrt(m_i_AMU/(2*numpy.pi*constants.k*Ta)))*\\\n",
    "#                    (cp*Ta + dH + cp*(Ta-To)) \n",
    "#     return y"
   ]
  },
  {
   "cell_type": "code",
   "execution_count": 66,
   "metadata": {
    "collapsed": true
   },
   "outputs": [],
   "source": [
    "#?scipy.optimize.fsolve"
   ]
  },
  {
   "cell_type": "code",
   "execution_count": 67,
   "metadata": {
    "collapsed": false
   },
   "outputs": [],
   "source": [
    "# Tas2 = scipy.optimize.fsolve(get_T, 1000)"
   ]
  },
  {
   "cell_type": "code",
   "execution_count": 68,
   "metadata": {
    "collapsed": false
   },
   "outputs": [],
   "source": [
    "# Tas2"
   ]
  },
  {
   "cell_type": "code",
   "execution_count": 69,
   "metadata": {
    "collapsed": false
   },
   "outputs": [
    {
     "name": "stdout",
     "output_type": "stream",
     "text": [
      "Anode Temperature in Kelvin: 3290 \n"
     ]
    }
   ],
   "source": [
    "#Ta_sim = float(Tas)\n",
    "Ta_sim = 3290.3\n",
    "\n",
    "print('Anode Temperature in Kelvin: %.4g ' % Ta_sim)"
   ]
  },
  {
   "cell_type": "markdown",
   "metadata": {},
   "source": [
    "### Ablation Rate [kg/s]"
   ]
  },
  {
   "cell_type": "code",
   "execution_count": 70,
   "metadata": {
    "collapsed": false
   },
   "outputs": [
    {
     "name": "stdout",
     "output_type": "stream",
     "text": [
      "Ablation Rate from Anode in [kg/(s)]: 4.667 \n"
     ]
    }
   ],
   "source": [
    "#Ablation rate using equilibrium Pressure kg/(m2 s)\n",
    "\n",
    "#Ta_sim = 3290\n",
    "ABL = (0.133*sympy.exp(2.3*(A - B/Ta_sim)))*\\\n",
    "        numpy.sqrt(m_i_AMU/(2*numpy.pi*constants.k*Ta_sim))*\\\n",
    "        numpy.pi*(Ran**2)*1e6\n",
    "print('Ablation Rate from Anode in [kg/(s)]: %.4g ' % ABL)"
   ]
  },
  {
   "cell_type": "markdown",
   "metadata": {},
   "source": [
    "# Energy Balance Interelectrode Gap"
   ]
  },
  {
   "cell_type": "markdown",
   "metadata": {},
   "source": [
    "Now we need 3 more values to check for energy conservation:\n",
    "\n",
    "1. Interelectrode voltage drop, $U_{pl}$\n",
    "2. Cathode voltage, $U_c$, and\n",
    "3. Electron collision frequency, $\\nu_{e}$"
   ]
  },
  {
   "cell_type": "markdown",
   "metadata": {},
   "source": [
    "### Electron Collisions"
   ]
  },
  {
   "cell_type": "markdown",
   "metadata": {},
   "source": [
    "We need to know electrical conductivity to obtain the interelectrode gap voltage. The electrical conductivty can be described in terms of electron collisions with neutrals and ions.\n",
    "\n",
    "We can describe electrical conductivity as:\n",
    "\n",
    "\\begin{equation}\n",
    "\\sigma = \\frac{e^{2} n_{e}}{m_{e} (\\nu_{e,o} + \\nu_{e,i})} \n",
    "\\end{equation}\n",
    "\n",
    "Additionally, we can describe the electron-neutral and electrion-ion collision frequencies $\\big[\\frac{1}{s} \\big]$:\n",
    "\n",
    "\\begin{align}\n",
    "\\nu_{e,o} &= \\frac{4}{3} \\sqrt{ \\frac{8 k_{B} T_{e}}{\\pi m_{e}} } n_{a} Q_{m} \\\\\n",
    "\\nu_{e,i} &= \\sqrt{2 \\pi} \\frac{4}{3} n_{i} \\bigg( \\frac{e^{2}}{k_{B} T_{e}} \\bigg)^{2} \\sqrt{\\frac{k_{B} T_{e}}{m_{e}}} ln(\\Lambda)\n",
    "\\end{align}\n",
    "\n",
    "where \n",
    "\n",
    "\\begin{align}\n",
    "ln(\\Lambda) &= ln \\bigg( \\frac{4 k_{B} T_{e}}{\\gamma^{2} e^{2} k_{e}} \\bigg) - 2 ln(\\sqrt{2}) \\nonumber \\\\\n",
    "k_{e}^{2} &= \\frac{4 \\pi n_{e} e^{2}}{k_{B} T_{e}} \\nonumber \\\\\n",
    "ln(\\gamma) &= 0.577 \\nonumber \\\\\n",
    "Q_{m} &= \\pi r_{e}^{2} \\nonumber\n",
    "\\end{align}\n",
    "\n",
    "$Q_{m}$ is the collision cross-section.\n",
    "\n"
   ]
  },
  {
   "cell_type": "code",
   "execution_count": 71,
   "metadata": {
    "collapsed": false
   },
   "outputs": [
    {
     "data": {
      "text/plain": [
       "(2.8179403267e-15, 'm', 2.7e-24)"
      ]
     },
     "execution_count": 71,
     "metadata": {},
     "output_type": "execute_result"
    }
   ],
   "source": [
    "scipy.constants.physical_constants[\"classical electron radius\"]"
   ]
  },
  {
   "cell_type": "code",
   "execution_count": 72,
   "metadata": {
    "collapsed": false
   },
   "outputs": [],
   "source": [
    "#scipy.constants.find(\"classical\")"
   ]
  },
  {
   "cell_type": "code",
   "execution_count": 73,
   "metadata": {
    "collapsed": false
   },
   "outputs": [],
   "source": [
    "\n",
    "# Parameters\n",
    "#-----------\n",
    "re = 2.8179403267e-15 # classical electron radius in meters\n",
    "rC = 7e-11#carbon atom radius meters\n",
    "rHe = 3.1e-11 #helium atom radius meters\n",
    "gamma = numpy.exp(0.577) #from Euler's constant\n",
    "nt = (ni_He + ni_C) + (no_He + no_C) #plasma cloud density\n",
    "#------------\n",
    "Qm = numpy.pi*((re+rC+rHe)**2) #collisional cross-section area\n",
    "\n",
    "ke = numpy.sqrt((4*numpy.pi*n_e*(constants.e**2))/(Te*constants.k))\n",
    "\n",
    "lnA = numpy.log((4*constants.k*Te)/((gamma**2)*(ke)*(constants.e**2))) -\\\n",
    "        2*numpy.log(numpy.sqrt(2))\n",
    "\n",
    "# electron-neutral collision frequency\n",
    "v_eo = (4/3)*numpy.sqrt((8*constants.k*Te)/(numpy.pi*constants.m_e))*\\\n",
    "                Qm*(no_He + no_C)\n",
    "\n",
    "# electron-neutral collision frequency\n",
    "v_ei = (4/3)*numpy.sqrt(2*numpy.pi)*(ni_He + ni_C)*\\\n",
    "            (((constants.e**2)/(constants.k*Te))**2)*\\\n",
    "            numpy.sqrt((constants.k*Te)/constants.m_e)*lnA\n",
    "        \n",
    "\n",
    "ve_t = v_ei + v_eo\n"
   ]
  },
  {
   "cell_type": "code",
   "execution_count": 74,
   "metadata": {
    "collapsed": false
   },
   "outputs": [
    {
     "data": {
      "text/plain": [
       "38.568187187318117"
      ]
     },
     "execution_count": 74,
     "metadata": {},
     "output_type": "execute_result"
    }
   ],
   "source": [
    "lnA"
   ]
  },
  {
   "cell_type": "code",
   "execution_count": 75,
   "metadata": {
    "collapsed": false
   },
   "outputs": [
    {
     "data": {
      "text/plain": [
       "1.8116369596292933e-09"
      ]
     },
     "execution_count": 75,
     "metadata": {},
     "output_type": "execute_result"
    }
   ],
   "source": [
    "v_ei"
   ]
  },
  {
   "cell_type": "code",
   "execution_count": 76,
   "metadata": {
    "collapsed": false
   },
   "outputs": [
    {
     "data": {
      "text/plain": [
       "8755209160.356039"
      ]
     },
     "execution_count": 76,
     "metadata": {},
     "output_type": "execute_result"
    }
   ],
   "source": [
    "v_eo"
   ]
  },
  {
   "cell_type": "code",
   "execution_count": 77,
   "metadata": {
    "collapsed": false
   },
   "outputs": [
    {
     "name": "stdout",
     "output_type": "stream",
     "text": [
      "Electron Collision Frequency [1/s]: 8.755e+09 \n"
     ]
    }
   ],
   "source": [
    "print('Electron Collision Frequency [1/s]: %.4g ' % ve_t)"
   ]
  },
  {
   "cell_type": "code",
   "execution_count": 78,
   "metadata": {
    "collapsed": false
   },
   "outputs": [
    {
     "name": "stdout",
     "output_type": "stream",
     "text": [
      "Electrical Conductivity of plasma [Siemens/meter]: 2253 \n"
     ]
    }
   ],
   "source": [
    "# electrical conductivity:\n",
    "\n",
    "sigma = (n_e*constants.e**2)/(constants.m_e* ve_t)\n",
    "\n",
    "print('Electrical Conductivity of plasma [Siemens/meter]: %.4g ' % sigma)"
   ]
  },
  {
   "cell_type": "markdown",
   "metadata": {},
   "source": [
    "### Interelectrode Voltage drop"
   ]
  },
  {
   "cell_type": "markdown",
   "metadata": {},
   "source": [
    "Now that we have found the electrical conductivity, we can find the interelectrode voltage. It is expressed as:\n",
    "\n",
    "\\begin{equation}\n",
    "U_{pl} = \\frac{I_{arc} L_{gap}}{ \\sigma \\pi R_{arc}^{2}}\n",
    "\\end{equation}"
   ]
  },
  {
   "cell_type": "code",
   "execution_count": 79,
   "metadata": {
    "collapsed": false
   },
   "outputs": [
    {
     "data": {
      "text/plain": [
       "0.035038005002210888"
      ]
     },
     "execution_count": 79,
     "metadata": {},
     "output_type": "execute_result"
    }
   ],
   "source": [
    "Upl2 = (Iarc*Lgap)/(sigma*numpy.pi*Rarc**2)\n",
    "Upl2"
   ]
  },
  {
   "cell_type": "markdown",
   "metadata": {},
   "source": [
    "This result is inacurrate, and it should be around 7.5 volts for this case. I Need to review the above equations! I think that the electron-ion collision (v_ei) is too low."
   ]
  },
  {
   "cell_type": "code",
   "execution_count": 80,
   "metadata": {
    "collapsed": false
   },
   "outputs": [
    {
     "name": "stdout",
     "output_type": "stream",
     "text": [
      "Interelectrode Voltage [V]: 7.5 \n"
     ]
    }
   ],
   "source": [
    "\n",
    "# from experiment published results:\n",
    "\n",
    "\n",
    "Upl = 7.5 #volts\n",
    "\n",
    "print('Interelectrode Voltage [V]: %.4g ' % Upl)"
   ]
  },
  {
   "cell_type": "code",
   "execution_count": 81,
   "metadata": {
    "collapsed": false
   },
   "outputs": [
    {
     "data": {
      "text/plain": [
       "10.52546795407992"
      ]
     },
     "execution_count": 81,
     "metadata": {},
     "output_type": "execute_result"
    }
   ],
   "source": [
    "sigma_sim = (Iarc*Lgap)/(Upl*numpy.pi*Rarc**2)\n",
    "sigma_sim"
   ]
  },
  {
   "cell_type": "code",
   "execution_count": 94,
   "metadata": {
    "collapsed": false
   },
   "outputs": [
    {
     "data": {
      "text/plain": [
       "1874081264002.528"
      ]
     },
     "execution_count": 94,
     "metadata": {},
     "output_type": "execute_result"
    }
   ],
   "source": [
    "# This is what the electron collision frequency needs to be, \n",
    "#just to compare to the results that I am getting\n",
    "v_et_sim = ((constants.e**2)/constants.m_e)*\\\n",
    "         (n_e/sigma_sim)\n",
    "v_et_sim"
   ]
  },
  {
   "cell_type": "markdown",
   "metadata": {},
   "source": [
    "## Cathode Voltage"
   ]
  },
  {
   "cell_type": "markdown",
   "metadata": {},
   "source": [
    "### Heat Losses due to Thermal and Radiative conduction"
   ]
  },
  {
   "cell_type": "code",
   "execution_count": 83,
   "metadata": {
    "collapsed": false
   },
   "outputs": [],
   "source": [
    "# thermal conduction flux (W/m2)\n",
    "q_con = ((Tc_sim-To)*lmbda_C)/(Rc*(numpy.pi**(3/2)) )\n",
    "\n",
    "# radiative  flux (W/m2)\n",
    "q_rad = Em_C*constants.sigma*(Tc_sim**4)"
   ]
  },
  {
   "cell_type": "code",
   "execution_count": 84,
   "metadata": {
    "collapsed": false
   },
   "outputs": [
    {
     "name": "stdout",
     "output_type": "stream",
     "text": [
      "Radiative flux [W/m2]: 2.592e+06 \n"
     ]
    }
   ],
   "source": [
    "\n",
    "print('Radiative flux [W/m2]: %.4g ' % q_rad)"
   ]
  },
  {
   "cell_type": "code",
   "execution_count": 85,
   "metadata": {
    "collapsed": false
   },
   "outputs": [
    {
     "name": "stdout",
     "output_type": "stream",
     "text": [
      "Thermal conduction flux [W/m2]: 1.243e+05 \n"
     ]
    }
   ],
   "source": [
    "print('Thermal conduction flux [W/m2]: %.4g ' % q_con)"
   ]
  },
  {
   "cell_type": "markdown",
   "metadata": {},
   "source": [
    "### Solve for Cathode Voltage"
   ]
  },
  {
   "cell_type": "markdown",
   "metadata": {},
   "source": [
    "Using the following equation, we can solve for cathode voltage:\n",
    "\n",
    "\n",
    "\\begin{equation}\n",
    "U_{c} = \\frac{\\pi R_{c}^{2} \\bigg( \\epsilon \\sigma T_{c}^{4} + \\frac{\\big( T_{c} - T_{0} \\big) \\lambda }{\\pi^{3/2} R_{c}} \\bigg) }{I_{ion}} + \\phi_{W} - U_{iz} \\nonumber\n",
    "\\end{equation}"
   ]
  },
  {
   "cell_type": "code",
   "execution_count": 86,
   "metadata": {
    "collapsed": false
   },
   "outputs": [
    {
     "name": "stdout",
     "output_type": "stream",
     "text": [
      " Cathode Voltage in Volts : 36.31 \n"
     ]
    }
   ],
   "source": [
    "Uc = ((numpy.pi*(Rc**2))/(I_ion))*( q_con + q_rad ) + phi_C_eV + Uiz_C_eV\n",
    "\n",
    "print(' Cathode Voltage in Volts : %.4g ' % Uc)"
   ]
  },
  {
   "cell_type": "markdown",
   "metadata": {},
   "source": [
    "### Check energy conservation"
   ]
  },
  {
   "cell_type": "markdown",
   "metadata": {},
   "source": [
    "This will be the last step. If energy is conserved, then the calculations will be accepted."
   ]
  },
  {
   "cell_type": "code",
   "execution_count": 87,
   "metadata": {
    "collapsed": false
   },
   "outputs": [
    {
     "data": {
      "text/plain": [
       "278.27015901699338"
      ]
     },
     "execution_count": 87,
     "metadata": {},
     "output_type": "execute_result"
    }
   ],
   "source": [
    "J_Heating = Iarc*Upl + Uc*I_e\n",
    "J_Heating"
   ]
  },
  {
   "cell_type": "code",
   "execution_count": 88,
   "metadata": {
    "collapsed": false
   },
   "outputs": [
    {
     "data": {
      "text/plain": [
       "0.2835359481108088"
      ]
     },
     "execution_count": 88,
     "metadata": {},
     "output_type": "execute_result"
    }
   ],
   "source": [
    "# Convert anode temp to eV\n",
    "Ta_sim_eV = Ta_sim/(11604.52500617)\n",
    "Ta_sim_eV"
   ]
  },
  {
   "cell_type": "code",
   "execution_count": 89,
   "metadata": {
    "collapsed": false
   },
   "outputs": [
    {
     "data": {
      "text/plain": [
       "3.2148266343228899e+21"
      ]
     },
     "execution_count": 89,
     "metadata": {},
     "output_type": "execute_result"
    }
   ],
   "source": [
    "Losses = Iarc*(2*Te_eV + Ua_eV) + Uiz_C_eV*I_ion +\\\n",
    "         3*(constants.m_e/m_i_AMU)*(Te_eV-Ta_sim_eV)*n_e*Lgap*numpy.pi*(Ran**2)*v_et_sim\n",
    "Losses"
   ]
  },
  {
   "cell_type": "markdown",
   "metadata": {},
   "source": [
    "AS we can see the Losses are too large and energy is not conserved. Let's examine the equations. We know that Joule Heating is correct because all of the variables used match the published results\n",
    "\n",
    "We can look at the Losses terms individually.\n",
    "\n",
    "The first term $ \\bigg( Iarc (2Te + Ua) \\bigg)$ should be correct becaouse all of these values match published results.\n",
    "\n",
    "The second term $ \\bigg( U_{iz} I_{ion} \\bigg) $ should also be ok since the ion current matches published results. I am using a value of about 12 eV for the ionization potential.\n",
    "\n",
    "The first and second terms for losses are coded immediately below (watts)."
   ]
  },
  {
   "cell_type": "code",
   "execution_count": 99,
   "metadata": {
    "collapsed": false
   },
   "outputs": [
    {
     "data": {
      "text/plain": [
       "248.42890306293941"
      ]
     },
     "execution_count": 99,
     "metadata": {},
     "output_type": "execute_result"
    }
   ],
   "source": [
    "loss12 = Iarc*(2*Te_eV + Ua_eV) + Uiz_C_eV*I_ion\n",
    "loss12"
   ]
  },
  {
   "cell_type": "markdown",
   "metadata": {},
   "source": [
    "I think that the third term $ \\bigg( 3 \\frac{m_{e}}{m_{i}} \\big( T_{e} - T_{a} \\big) n_{e} \\mu_{e} \\pi R_{arc}^{2} L_{gap} \\bigg)$ has some issues. The units that result from this are [volts/second] but we want watts. If I multiply this term by charge, I will get power. I don't have a value for charge, but I can try using the elementary charge."
   ]
  },
  {
   "cell_type": "code",
   "execution_count": 100,
   "metadata": {
    "collapsed": false
   },
   "outputs": [
    {
     "data": {
      "text/plain": [
       "515.0719894049959"
      ]
     },
     "execution_count": 100,
     "metadata": {},
     "output_type": "execute_result"
    }
   ],
   "source": [
    "loss3 = 3*(constants.m_e/m_i_AMU)*(Te_eV-Ta_sim_eV)*n_e*Lgap*numpy.pi*(Ran**2)*v_et_sim*constants.e\n",
    "loss3"
   ]
  },
  {
   "cell_type": "markdown",
   "metadata": {},
   "source": [
    "There is still an issue because heating and losses do not equal to zero. Taking the displayed values above:"
   ]
  },
  {
   "cell_type": "code",
   "execution_count": 102,
   "metadata": {
    "collapsed": false
   },
   "outputs": [
    {
     "data": {
      "text/plain": [
       "-485.2307334509419"
      ]
     },
     "execution_count": 102,
     "metadata": {},
     "output_type": "execute_result"
    }
   ],
   "source": [
    "J_Heating - loss12 - loss3"
   ]
  },
  {
   "cell_type": "markdown",
   "metadata": {},
   "source": [
    "## Working on loops:"
   ]
  },
  {
   "cell_type": "raw",
   "metadata": {},
   "source": [
    "def Saha_Eqns(ne_init):\n",
    "    \n",
    "    convergence_target = 1e-3\n",
    "    conservation = convergence_target + 1\n",
    "    conservation_analytical = 3.0\n",
    "    #\n",
    "    ne_guess = ne_init\n",
    "    #\n",
    "    while ( numpy.abs(conservation_analytical-conservation) > convergence_target == True):\n",
    "        #\n",
    "        Pe_guess = ne_guess*constants.k*Te #eqn of state to fine electron pressure\n",
    "        Ce_guess = Pe_guess/Pt #electron concentration\n",
    "        ni_t = ne_guess #quasi-neutrality\n",
    "        no_t = (ne_guess - 2*Ce_guess*ne_guess)/Ce_guess\n",
    "\n",
    "        Ci = ni_t/(ne_guess+ni_t+no_t)\n",
    "        Co = no_t/(ne_guess+ni_t+no_t)\n",
    "\n",
    "        #SAHA eqns RHS:\n",
    "        RHS_1 =  ( ( (2*numpy.pi*constants.m_e*constants.k*Te) / (constants.h**2) )**(3/2) ) *\\  #species 1 = He\n",
    "                     math.exp(-El_He/(constants.k*Te))\n",
    "\n",
    "        RHS_2 =  ( ( (2*numpy.pi*constants.m_e*constants.k*Te) / (constants.h**2) )**(3/2) ) *\\ #species 2 = C\n",
    "                     math.exp(-El_C/(constants.k*Te))\n",
    "        #\n",
    "        no_He = (no_t - (ne_guess*ni_t)/B)/(1 - RHS_1/RHS_2)\n",
    "        no_C = no_t - no_He\n",
    "        ni_He = (no_He/ne_guess)*RHS_1\n",
    "        ni_C = (no_C/ne_guess)*RHS_2\n",
    "        #\n",
    "        #atom conservation:\n",
    "        Conservation = (ni_He + no_He)/(ni_C + no_C)\n",
    "        #\n",
    "        if (conservation > conservation_analytical): #ne_guess must be higher than previous guess\n",
    "            ne_guess = ne_guess + (ne_guess*.10)\n",
    "        if (conservation < conservation_analytical):  #ne_guess must be lower than previous guess\n",
    "            ne_guess = ne_guess - (ne_guess*.10)\n",
    "        \n",
    "    \n",
    "    \n",
    "    "
   ]
  }
 ],
 "metadata": {
  "kernelspec": {
   "display_name": "Python 3",
   "language": "python",
   "name": "python3"
  },
  "language_info": {
   "codemirror_mode": {
    "name": "ipython",
    "version": 3
   },
   "file_extension": ".py",
   "mimetype": "text/x-python",
   "name": "python",
   "nbconvert_exporter": "python",
   "pygments_lexer": "ipython3",
   "version": "3.4.4"
  }
 },
 "nbformat": 4,
 "nbformat_minor": 0
}
