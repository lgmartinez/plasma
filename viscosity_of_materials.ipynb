{
 "cells": [
  {
   "cell_type": "code",
   "execution_count": 1,
   "metadata": {
    "collapsed": false
   },
   "outputs": [
    {
     "data": {
      "text/html": [
       "<link href='http://fonts.googleapis.com/css?family=Alegreya+Sans:100,300,400,500,700,800,900,100italic,300italic,400italic,500italic,700italic,800italic,900italic' rel='stylesheet' type='text/css'>\n",
       "<link href='http://fonts.googleapis.com/css?family=Arvo:400,700,400italic' rel='stylesheet' type='text/css'>\n",
       "<link href='http://fonts.googleapis.com/css?family=PT+Mono' rel='stylesheet' type='text/css'>\n",
       "<link href='http://fonts.googleapis.com/css?family=Shadows+Into+Light' rel='stylesheet' type='text/css'>\n",
       "<link href='http://fonts.googleapis.com/css?family=Nixie+One' rel='stylesheet' type='text/css'>\n",
       "<style>\n",
       "\n",
       "@font-face {\n",
       "    font-family: \"Computer Modern\";\n",
       "    src: url('http://mirrors.ctan.org/fonts/cm-unicode/fonts/otf/cmunss.otf');\n",
       "}\n",
       "\n",
       "#notebook_panel { /* main background */\n",
       "    background: rgb(245,245,245);\n",
       "}\n",
       "\n",
       "div.cell { /* set cell width */\n",
       "    width: 750px;\n",
       "}\n",
       "\n",
       "div #notebook { /* centre the content */\n",
       "    background: #fff; /* white background for content */\n",
       "    width: 1000px;\n",
       "    margin: auto;\n",
       "    padding-left: 0em;\n",
       "}\n",
       "\n",
       "#notebook li { /* More space between bullet points */\n",
       "    margin-top:0.8em;\n",
       "}\n",
       "\n",
       "/* draw border around running cells */\n",
       "div.cell.border-box-sizing.code_cell.running { \n",
       "    border: 1px solid #111;\n",
       "}\n",
       "\n",
       "/* Put a solid color box around each cell and its output, visually linking them*/\n",
       "div.cell.code_cell {\n",
       "    background-color: rgb(256,256,256); \n",
       "    border-radius: 0px; \n",
       "    padding: 0.5em;\n",
       "    margin-left:1em;\n",
       "    margin-top: 1em;\n",
       "}\n",
       "\n",
       "div.text_cell_render{\n",
       "    font-family: 'Alegreya Sans' sans-serif;\n",
       "    line-height: 140%;\n",
       "    font-size: 125%;\n",
       "    font-weight: 400;\n",
       "    width:600px;\n",
       "    margin-left:auto;\n",
       "    margin-right:auto;\n",
       "}\n",
       "\n",
       "\n",
       "/* Formatting for header cells */\n",
       ".text_cell_render h1 {\n",
       "    font-family: 'Nixie One', serif;\n",
       "    font-style:regular;\n",
       "    font-weight: 400;    \n",
       "    font-size: 45pt;\n",
       "    line-height: 100%;\n",
       "    color: rgb(0,51,102);\n",
       "    margin-bottom: 0.5em;\n",
       "    margin-top: 0.5em;\n",
       "    display: block;\n",
       "}\n",
       "\n",
       ".text_cell_render h2 {\n",
       "    font-family: 'Nixie One', serif;\n",
       "    font-weight: 400;\n",
       "    font-size: 30pt;\n",
       "    line-height: 100%;\n",
       "    color: rgb(0,51,102);\n",
       "    margin-bottom: 0.1em;\n",
       "    margin-top: 0.3em;\n",
       "    display: block;\n",
       "}\t\n",
       "\n",
       ".text_cell_render h3 {\n",
       "    font-family: 'Nixie One', serif;\n",
       "    margin-top:16px;\n",
       "    font-size: 22pt;\n",
       "    font-weight: 600;\n",
       "    margin-bottom: 3px;\n",
       "    font-style: regular;\n",
       "    color: rgb(102,102,0);\n",
       "}\n",
       "\n",
       ".text_cell_render h4 {    /*Use this for captions*/\n",
       "    font-family: 'Nixie One', serif;\n",
       "    font-size: 14pt;\n",
       "    text-align: center;\n",
       "    margin-top: 0em;\n",
       "    margin-bottom: 2em;\n",
       "    font-style: regular;\n",
       "}\n",
       "\n",
       ".text_cell_render h5 {  /*Use this for small titles*/\n",
       "    font-family: 'Nixie One', sans-serif;\n",
       "    font-weight: 400;\n",
       "    font-size: 16pt;\n",
       "    color: rgb(163,0,0);\n",
       "    font-style: italic;\n",
       "    margin-bottom: .1em;\n",
       "    margin-top: 0.8em;\n",
       "    display: block;\n",
       "}\n",
       "\n",
       ".text_cell_render h6 { /*use this for copyright note*/\n",
       "    font-family: 'PT Mono', sans-serif;\n",
       "    font-weight: 300;\n",
       "    font-size: 9pt;\n",
       "    line-height: 100%;\n",
       "    color: grey;\n",
       "    margin-bottom: 1px;\n",
       "    margin-top: 1px;\n",
       "}\n",
       "\n",
       ".CodeMirror{\n",
       "    font-family: \"PT Mono\";\n",
       "    font-size: 90%;\n",
       "}\n",
       "\n",
       "</style>\n",
       "<script>\n",
       "    MathJax.Hub.Config({\n",
       "                        TeX: {\n",
       "                           extensions: [\"AMSmath.js\"],\n",
       "                           equationNumbers: { autoNumber: \"AMS\", useLabelIds: true}\n",
       "                           },\n",
       "                tex2jax: {\n",
       "                    inlineMath: [ ['$','$'], [\"\\\\(\",\"\\\\)\"] ],\n",
       "                    displayMath: [ ['$$','$$'], [\"\\\\[\",\"\\\\]\"] ]\n",
       "                },\n",
       "                displayAlign: 'center', // Change this to 'center' to center equations.\n",
       "                \"HTML-CSS\": {\n",
       "                    styles: {'.MathJax_Display': {\"margin\": 4}}\n",
       "                }\n",
       "        });\n",
       "</script>\n"
      ],
      "text/plain": [
       "<IPython.core.display.HTML object>"
      ]
     },
     "execution_count": 1,
     "metadata": {},
     "output_type": "execute_result"
    }
   ],
   "source": [
    "from IPython.core.display import HTML\n",
    "css_file = './numericalmoocstyle.css'\n",
    "HTML(open(css_file, \"r\").read())"
   ]
  },
  {
   "cell_type": "code",
   "execution_count": 2,
   "metadata": {
    "collapsed": true
   },
   "outputs": [],
   "source": [
    "import numpy\n",
    "from matplotlib import pyplot\n",
    "%matplotlib inline"
   ]
  },
  {
   "cell_type": "code",
   "execution_count": 3,
   "metadata": {
    "collapsed": true
   },
   "outputs": [],
   "source": [
    "def plot(v1, v2, xlabl, ylabl, title):\n",
    "    ''' a function for plots\n",
    "    \n",
    "    Parameters\n",
    "    ----------\n",
    "    v1: x-axis vector\n",
    "    v2: y-axis vector\n",
    "    xlabl: label for x-axis values\n",
    "    ylabl: label for y-axis values\n",
    "    title: plot title\n",
    "    \n",
    "    Return:\n",
    "    -------\n",
    "    Plot!\n",
    "    '''\n",
    "    #\n",
    "    pyplot.figure(figsize=(8,8))\n",
    "    pyplot.grid(True)\n",
    "    #\n",
    "    pyplot.xlabel(xlabl, fontsize=18)\n",
    "    pyplot.ylabel(ylabl, fontsize=18)\n",
    "    #\n",
    "    pyplot.tick_params(axis='x', pad=10)\n",
    "    pyplot.tick_params(axis='y', pad=10)\n",
    "    #\n",
    "    #pyplot.xticks(numpy.arange(0, 3000, 200))\n",
    "    #\n",
    "    pyplot.title(title)\n",
    "    pyplot.plot(v1,v2, color='k', ls='--', lw=2, marker='o');"
   ]
  },
  {
   "cell_type": "markdown",
   "metadata": {},
   "source": [
    "## Nitrogen"
   ]
  },
  {
   "cell_type": "code",
   "execution_count": 4,
   "metadata": {
    "collapsed": true
   },
   "outputs": [],
   "source": [
    "def get_dynamic_viscosity_nitrogen(data_points):\n",
    "    ''' Defines thermal conductivity for nitrogen gas at different \n",
    "    temperatures and pressures\n",
    "    \n",
    "    thermal conductivity units: milliWatts/(meter-Kelvin)\n",
    "    \n",
    "     Ref: Handbook of Physical properties of Liquids and Gases. Pure Substances \n",
    "    and mixtures. N.B. Vargaftik; Y.K. Vinogradov; V. S. Yargin. pg. 795, 804\n",
    "    '''\n",
    "    #temperature array\n",
    "    TN = numpy.zeros((data_points),dtype=float)\n",
    "    TN[0] = 65\n",
    "    TN[1] = 70\n",
    "    TN[2] = 80\n",
    "    TN[3] = 90\n",
    "    TN[4] = 100\n",
    "    TN[5] = 110\n",
    "    TN[6] = 120\n",
    "    TN[7] = 130\n",
    "    TN[8] = 140\n",
    "    TN[9] = 150\n",
    "    TN[10] = 160\n",
    "    TN[11] = 180\n",
    "    TN[12] = 200\n",
    "    TN[13] = 250\n",
    "    TN[14] = 300\n",
    "    TN[15] = 350\n",
    "    TN[16] = 400\n",
    "    TN[17] = 450\n",
    "    TN[18] = 500\n",
    "    TN[19] = 600\n",
    "    TN[20] = 700\n",
    "    TN[21] = 800\n",
    "    TN[22] = 1000\n",
    "    TN[23] = 1200\n",
    "    TN[24] = 1500\n",
    "    TN[25] = 2000 \n",
    "    TN[26] = 2500\n",
    "    TN[27] = 3000 #dissociated values \n",
    "    TN[28] = 3200\n",
    "    TN[29] = 3400\n",
    "    TN[30] = 3600\n",
    "    TN[31] = 3800\n",
    "    TN[32] = 4000\n",
    "    TN[33] = 4200\n",
    "    TN[34] = 4400\n",
    "    TN[35] = 4600\n",
    "    TN[36] = 4800\n",
    "    TN[37] = 5000\n",
    "    TN[38] = 5200\n",
    "    TN[39] = 5400\n",
    "    TN[40] = 5600\n",
    "    TN[41] = 5800\n",
    "    TN[42] = 6000\n",
    "\n",
    "    # dynamic viscosity array \n",
    "    kN = numpy.zeros((data_points),dtype=float)\n",
    "    kN[0] = 44. #@ 0 MPa\n",
    "    kN[1] = 47.3\n",
    "    kN[2] = 53.9\n",
    "    kN[3] = 60.5\n",
    "    kN[4] = 67.2\n",
    "    kN[5] = 73.7\n",
    "    kN[6] = 80.3\n",
    "    kN[7] = 86.7\n",
    "    kN[8] = 93.0\n",
    "    kN[9] = 99.2\n",
    "    kN[10] = 105.2\n",
    "    kN[11] = 117.0\n",
    "    kN[12] = 128.3\n",
    "    kN[13] = 154.7\n",
    "    kN[14] = 178.8\n",
    "    kN[15] = 201.1\n",
    "    kN[16] = 221.9\n",
    "    kN[17] = 241.6\n",
    "    kN[18] = 260.2\n",
    "    kN[19] = 295.1\n",
    "    kN[20] = 327.5\n",
    "    kN[21] = 357.9\n",
    "    kN[22] = 414.6\n",
    "    kN[23] = 466.9\n",
    "    kN[24] = 539.6\n",
    "    kN[25] = 649.8\n",
    "    kN[26] = 750.1\n",
    "    kN[27] = 920. #dissociated values, 1 bar\n",
    "    kN[28] = 967.\n",
    "    kN[29] = 1014.\n",
    "    kN[30] = 1061.\n",
    "    kN[31] = 1106.\n",
    "    kN[32] = 1153.\n",
    "    kN[33] = 1199.\n",
    "    kN[34] = 1244.\n",
    "    kN[35] = 1290.\n",
    "    kN[36] = 1336.\n",
    "    kN[37] = 1381.\n",
    "    kN[38] = 1427.\n",
    "    kN[39] = 1473.\n",
    "    kN[40] = 1518.\n",
    "    kN[41] = 1562.\n",
    "    kN[42] = 1607.\n",
    "    #\n",
    "    return kN, TN"
   ]
  },
  {
   "cell_type": "code",
   "execution_count": 5,
   "metadata": {
    "collapsed": true
   },
   "outputs": [],
   "source": [
    "npoints1 = 43\n",
    "mu1, T1 = get_dynamic_viscosity_nitrogen(npoints1)"
   ]
  },
  {
   "cell_type": "code",
   "execution_count": 6,
   "metadata": {
    "collapsed": false
   },
   "outputs": [
    {
     "data": {
      "image/png": "[encoded data removed]",
      "text/plain": [
       "<matplotlib.figure.Figure at 0x10cb9f4e0>"
      ]
     },
     "metadata": {},
     "output_type": "display_data"
    }
   ],
   "source": [
    "plot(T1,mu1,'Kelvin', 'Pa-s {1e7}', 'Dynamic Viscosity of Nitrogen')"
   ]
  },
  {
   "cell_type": "markdown",
   "metadata": {},
   "source": [
    "### curve fit"
   ]
  },
  {
   "cell_type": "code",
   "execution_count": 7,
   "metadata": {
    "collapsed": true
   },
   "outputs": [],
   "source": [
    "AN2 = numpy.vstack([T1**2,T1,numpy.ones(len(T1))]).T\n",
    "aN2,bN2,cN2 = numpy.linalg.lstsq(AN2,mu1)[0]\n",
    "\n",
    "AN3 = numpy.vstack([T1**3,T1**2,T1,numpy.ones(len(T1))]).T\n",
    "aN3,bN3,cN3,dN3 = numpy.linalg.lstsq(AN3,mu1)[0]\n",
    "\n",
    "AN4 = numpy.vstack([T1**4,T1**3,T1**2,T1,numpy.ones(len(T1))]).T\n",
    "aN4,bN4,cN4,dN4,eN4 = numpy.linalg.lstsq(AN4,mu1)[0]"
   ]
  },
  {
   "cell_type": "code",
   "execution_count": 8,
   "metadata": {
    "collapsed": false
   },
   "outputs": [],
   "source": [
    "#2nd order\n",
    "muN2 = numpy.zeros_like(T1)\n",
    "muN2[:] = aN2*(T1[:]**2) + bN2*(T1[:]) + cN2\n",
    "#3rd order\n",
    "muN3 = numpy.zeros_like(T1)\n",
    "muN3[:] = aN3*(T1[:]**3) + bN3*(T1[:]**2) + cN3*T1[:] + dN3\n",
    "#4th order\n",
    "muN4 = numpy.zeros_like(T1)\n",
    "muN4[:] = aN4*(T1[:]**4) + bN4*(T1[:]**3) + cN4*(T1[:]**2) + dN4*T1[:] + eN4"
   ]
  },
  {
   "cell_type": "code",
   "execution_count": 9,
   "metadata": {
    "collapsed": false
   },
   "outputs": [
    {
     "data": {
      "image/png": "[encoded data removed]",
      "text/plain": [
       "<matplotlib.figure.Figure at 0x10bd80da0>"
      ]
     },
     "metadata": {},
     "output_type": "display_data"
    }
   ],
   "source": [
    "%matplotlib inline\n",
    "#\n",
    "pyplot.figure(figsize=(8,8))\n",
    "pyplot.grid(True)\n",
    "#\n",
    "pyplot.xlabel('Kelvin', fontsize=18)\n",
    "pyplot.ylabel('Pa-sec [1e7]', fontsize=18)\n",
    "#\n",
    "pyplot.tick_params(axis='x', pad=10)\n",
    "pyplot.tick_params(axis='y', pad=10)\n",
    "#\n",
    "#pyplot.xticks(numpy.arange(0, 3000, 200))\n",
    "#\n",
    "pyplot.title('Dynamic Viscosity of Nitrogen')\n",
    "#\n",
    "pyplot.plot(T1,mu1,color='k', ls='--', lw=2, marker='o')\n",
    "pyplot.plot(T1,muN2,color='b',ls='--', lw=2, marker='o')\n",
    "pyplot.plot(T1,muN3,color='r',ls='--', lw=2, marker='o')\n",
    "pyplot.plot(T1,muN4,color='g',ls='--', lw=2, marker='o');\n",
    "pyplot.legend(['Empirical','2nd order fit','3rd order fit','4th order'],loc='upper left');"
   ]
  },
  {
   "cell_type": "markdown",
   "metadata": {},
   "source": [
    "#### use third order fit"
   ]
  },
  {
   "cell_type": "code",
   "execution_count": 10,
   "metadata": {
    "collapsed": false
   },
   "outputs": [
    {
     "data": {
      "text/plain": [
       "4.2177299011972125e-09"
      ]
     },
     "execution_count": 10,
     "metadata": {},
     "output_type": "execute_result"
    }
   ],
   "source": [
    "aN3"
   ]
  },
  {
   "cell_type": "code",
   "execution_count": 11,
   "metadata": {
    "collapsed": false
   },
   "outputs": [
    {
     "data": {
      "text/plain": [
       "-4.8160156609647342e-05"
      ]
     },
     "execution_count": 11,
     "metadata": {},
     "output_type": "execute_result"
    }
   ],
   "source": [
    "bN3"
   ]
  },
  {
   "cell_type": "code",
   "execution_count": 12,
   "metadata": {
    "collapsed": false
   },
   "outputs": [
    {
     "data": {
      "text/plain": [
       "0.40073205811284623"
      ]
     },
     "execution_count": 12,
     "metadata": {},
     "output_type": "execute_result"
    }
   ],
   "source": [
    "cN3"
   ]
  },
  {
   "cell_type": "code",
   "execution_count": 13,
   "metadata": {
    "collapsed": false
   },
   "outputs": [
    {
     "data": {
      "text/plain": [
       "44.208627576799387"
      ]
     },
     "execution_count": 13,
     "metadata": {},
     "output_type": "execute_result"
    }
   ],
   "source": [
    "dN3"
   ]
  },
  {
   "cell_type": "markdown",
   "metadata": {},
   "source": [
    "##### there is an alternative relationship"
   ]
  },
  {
   "cell_type": "code",
   "execution_count": 14,
   "metadata": {
    "collapsed": false
   },
   "outputs": [],
   "source": [
    "muN = numpy.zeros((9),dtype=float)\n",
    "muN[0] = 1.66 \n",
    "muN[1] =1.76\n",
    "muN[2] =1.89\n",
    "muN[3] =2.12\n",
    "muN[4] =2.51\n",
    "muN[5] =2.86\n",
    "muN[6] =3.19\n",
    "muN[7] =3.49\n",
    "muN[8] =3.78\n",
    "\n",
    "Tn = numpy.ones((9),dtype=float)*273.15\n",
    "Tn[0] += 0\n",
    "Tn[1] += 20\n",
    "Tn[2] += 50\n",
    "Tn[3] += 100\n",
    "Tn[4] += 200\n",
    "Tn[5] += 300\n",
    "Tn[6] += 400\n",
    "Tn[7] += 500\n",
    "Tn[8] += 600\n"
   ]
  },
  {
   "cell_type": "code",
   "execution_count": 1,
   "metadata": {
    "collapsed": true
   },
   "outputs": [],
   "source": [
    "#http://www.engineeringtoolbox.com/gases-absolute-dynamic-viscosity-d_1888.html"
   ]
  },
  {
   "cell_type": "code",
   "execution_count": 17,
   "metadata": {
    "collapsed": false
   },
   "outputs": [
    {
     "data": {
      "image/png": "[encoded data removed]",
      "text/plain": [
       "<matplotlib.figure.Figure at 0x113434d68>"
      ]
     },
     "metadata": {},
     "output_type": "display_data"
    }
   ],
   "source": [
    "plot(Tn[:], muN[:], 'Kelvin', '{1e-5} Pa-sec', 'dynamic viscosity of nitrogen')"
   ]
  },
  {
   "cell_type": "markdown",
   "metadata": {},
   "source": [
    "## Boron"
   ]
  },
  {
   "cell_type": "code",
   "execution_count": null,
   "metadata": {
    "collapsed": true
   },
   "outputs": [],
   "source": [
    "muB = 5.4e-5 #viscosity used in carbon-helium simulation #1e-5#2e-3 #Pa-sec"
   ]
  },
  {
   "cell_type": "markdown",
   "metadata": {},
   "source": [
    "## Nickel"
   ]
  },
  {
   "cell_type": "code",
   "execution_count": null,
   "metadata": {
    "collapsed": true
   },
   "outputs": [],
   "source": [
    "muNi = 0."
   ]
  },
  {
   "cell_type": "markdown",
   "metadata": {},
   "source": [
    "## Cobalt"
   ]
  },
  {
   "cell_type": "code",
   "execution_count": null,
   "metadata": {
    "collapsed": true
   },
   "outputs": [],
   "source": [
    "muCo = 0."
   ]
  },
  {
   "cell_type": "markdown",
   "metadata": {},
   "source": [
    "## References"
   ]
  },
  {
   "cell_type": "markdown",
   "metadata": {},
   "source": [
    "##### electrical resistivity of boron nitride\n",
    "http://iopscience.iop.org/article/10.1088/0022-3727/15/7/009/pdf\n",
    "\n",
    "\n",
    "##### resistivity of tungsten\n",
    "http://hypertextbook.com/facts/2004/DeannaStewart.shtml\n",
    "\n",
    "\n",
    "##### data fit\n",
    "http://math.stackexchange.com/questions/121212/how-to-find-curve-equation-from-data\n",
    "\n",
    "\n",
    "##### electrical resisitivity of boron\n",
    "http://scitation.aip.org/docserver/fulltext/aip/journal/jap/28/11/1.1722660.pdf?expires=1471883048&id=id&accname=2099752&checksum=7088042D610B893B040905189D492442\n",
    "\n",
    "\n",
    "#### #resistivity of materials\n",
    "http://www.engineeringtoolbox.com/resistivity-conductivity-d_418.html\n",
    "\n",
    "\n",
    "http://chemistry.about.com/od/moleculescompounds/a/Table-Of-Electrical-Resistivity-And-Conductivity.htm\n",
    "\n",
    "\n",
    "##### resistivity of elements\n",
    "https://en.wikipedia.org/wiki/Electrical_resistivities_of_the_elements_(data_page)\n",
    "\n",
    "\n",
    "##### electrical resistance of nickel\n",
    "http://journals.jps.jp/doi/pdf/10.1143/JPSJ.20.1865\n",
    "\n",
    "\n",
    "##### Temperature dependence of the electrical resistivity of pure cobalt at low temperatures\n",
    "http://iopscience.iop.org/article/10.1088/0305-4608/14/12/021/pdf\n",
    "\n",
    "\n",
    "##### viscosity of liquid boron\n",
    "http://journals.aps.org/prb/pdf/10.1103/PhysRevB.81.140201\n",
    "\n",
    "\n",
    "##### thermal conductivity of boron and some compounds\n",
    "http://journals.aps.org/prb/pdf/10.1103/PhysRevB.4.1714\n",
    "\n",
    "\n",
    "##### ref for viscosity relation\n",
    "http://www.engineeringtoolbox.com/dynamic-absolute-kinematic-viscosity-d_412.html\n",
    "\n"
   ]
  },
  {
   "cell_type": "code",
   "execution_count": null,
   "metadata": {
    "collapsed": true
   },
   "outputs": [],
   "source": []
  }
 ],
 "metadata": {
  "kernelspec": {
   "display_name": "Python 3",
   "language": "python",
   "name": "python3"
  },
  "language_info": {
   "codemirror_mode": {
    "name": "ipython",
    "version": 3
   },
   "file_extension": ".py",
   "mimetype": "text/x-python",
   "name": "python",
   "nbconvert_exporter": "python",
   "pygments_lexer": "ipython3",
   "version": "3.4.5"
  }
 },
 "nbformat": 4,
 "nbformat_minor": 0
}
