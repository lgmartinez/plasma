{
 "cells": [
  {
   "cell_type": "code",
   "execution_count": 1,
   "metadata": {
    "collapsed": false
   },
   "outputs": [
    {
     "data": {
      "text/html": [
       "<link href='http://fonts.googleapis.com/css?family=Alegreya+Sans:100,300,400,500,700,800,900,100italic,300italic,400italic,500italic,700italic,800italic,900italic' rel='stylesheet' type='text/css'>\n",
       "<link href='http://fonts.googleapis.com/css?family=Arvo:400,700,400italic' rel='stylesheet' type='text/css'>\n",
       "<link href='http://fonts.googleapis.com/css?family=PT+Mono' rel='stylesheet' type='text/css'>\n",
       "<link href='http://fonts.googleapis.com/css?family=Shadows+Into+Light' rel='stylesheet' type='text/css'>\n",
       "<link href='http://fonts.googleapis.com/css?family=Nixie+One' rel='stylesheet' type='text/css'>\n",
       "<style>\n",
       "\n",
       "@font-face {\n",
       "    font-family: \"Computer Modern\";\n",
       "    src: url('http://mirrors.ctan.org/fonts/cm-unicode/fonts/otf/cmunss.otf');\n",
       "}\n",
       "\n",
       "#notebook_panel { /* main background */\n",
       "    background: rgb(245,245,245);\n",
       "}\n",
       "\n",
       "div.cell { /* set cell width */\n",
       "    width: 750px;\n",
       "}\n",
       "\n",
       "div #notebook { /* centre the content */\n",
       "    background: #fff; /* white background for content */\n",
       "    width: 1000px;\n",
       "    margin: auto;\n",
       "    padding-left: 0em;\n",
       "}\n",
       "\n",
       "#notebook li { /* More space between bullet points */\n",
       "    margin-top:0.8em;\n",
       "}\n",
       "\n",
       "/* draw border around running cells */\n",
       "div.cell.border-box-sizing.code_cell.running { \n",
       "    border: 1px solid #111;\n",
       "}\n",
       "\n",
       "/* Put a solid color box around each cell and its output, visually linking them*/\n",
       "div.cell.code_cell {\n",
       "    background-color: rgb(256,256,256); \n",
       "    border-radius: 0px; \n",
       "    padding: 0.5em;\n",
       "    margin-left:1em;\n",
       "    margin-top: 1em;\n",
       "}\n",
       "\n",
       "div.text_cell_render{\n",
       "    font-family: 'Alegreya Sans' sans-serif;\n",
       "    line-height: 140%;\n",
       "    font-size: 125%;\n",
       "    font-weight: 400;\n",
       "    width:600px;\n",
       "    margin-left:auto;\n",
       "    margin-right:auto;\n",
       "}\n",
       "\n",
       "\n",
       "/* Formatting for header cells */\n",
       ".text_cell_render h1 {\n",
       "    font-family: 'Nixie One', serif;\n",
       "    font-style:regular;\n",
       "    font-weight: 400;    \n",
       "    font-size: 45pt;\n",
       "    line-height: 100%;\n",
       "    color: rgb(0,51,102);\n",
       "    margin-bottom: 0.5em;\n",
       "    margin-top: 0.5em;\n",
       "    display: block;\n",
       "}\n",
       "\n",
       ".text_cell_render h2 {\n",
       "    font-family: 'Nixie One', serif;\n",
       "    font-weight: 400;\n",
       "    font-size: 30pt;\n",
       "    line-height: 100%;\n",
       "    color: rgb(0,51,102);\n",
       "    margin-bottom: 0.1em;\n",
       "    margin-top: 0.3em;\n",
       "    display: block;\n",
       "}\t\n",
       "\n",
       ".text_cell_render h3 {\n",
       "    font-family: 'Nixie One', serif;\n",
       "    margin-top:16px;\n",
       "    font-size: 22pt;\n",
       "    font-weight: 600;\n",
       "    margin-bottom: 3px;\n",
       "    font-style: regular;\n",
       "    color: rgb(102,102,0);\n",
       "}\n",
       "\n",
       ".text_cell_render h4 {    /*Use this for captions*/\n",
       "    font-family: 'Nixie One', serif;\n",
       "    font-size: 14pt;\n",
       "    text-align: center;\n",
       "    margin-top: 0em;\n",
       "    margin-bottom: 2em;\n",
       "    font-style: regular;\n",
       "}\n",
       "\n",
       ".text_cell_render h5 {  /*Use this for small titles*/\n",
       "    font-family: 'Nixie One', sans-serif;\n",
       "    font-weight: 400;\n",
       "    font-size: 16pt;\n",
       "    color: rgb(163,0,0);\n",
       "    font-style: italic;\n",
       "    margin-bottom: .1em;\n",
       "    margin-top: 0.8em;\n",
       "    display: block;\n",
       "}\n",
       "\n",
       ".text_cell_render h6 { /*use this for copyright note*/\n",
       "    font-family: 'PT Mono', sans-serif;\n",
       "    font-weight: 300;\n",
       "    font-size: 9pt;\n",
       "    line-height: 100%;\n",
       "    color: grey;\n",
       "    margin-bottom: 1px;\n",
       "    margin-top: 1px;\n",
       "}\n",
       "\n",
       ".CodeMirror{\n",
       "    font-family: \"PT Mono\";\n",
       "    font-size: 90%;\n",
       "}\n",
       "\n",
       "</style>\n",
       "<script>\n",
       "    MathJax.Hub.Config({\n",
       "                        TeX: {\n",
       "                           extensions: [\"AMSmath.js\"],\n",
       "                           equationNumbers: { autoNumber: \"AMS\", useLabelIds: true}\n",
       "                           },\n",
       "                tex2jax: {\n",
       "                    inlineMath: [ ['$','$'], [\"\\\\(\",\"\\\\)\"] ],\n",
       "                    displayMath: [ ['$$','$$'], [\"\\\\[\",\"\\\\]\"] ]\n",
       "                },\n",
       "                displayAlign: 'center', // Change this to 'center' to center equations.\n",
       "                \"HTML-CSS\": {\n",
       "                    styles: {'.MathJax_Display': {\"margin\": 4}}\n",
       "                }\n",
       "        });\n",
       "</script>\n"
      ],
      "text/plain": [
       "<IPython.core.display.HTML object>"
      ]
     },
     "execution_count": 1,
     "metadata": {},
     "output_type": "execute_result"
    }
   ],
   "source": [
    "from IPython.core.display import HTML\n",
    "#css_file = '/Users/Luis/numerical-mooc/styles/numericalmoocstyle.css'\n",
    "css_file = './numericalmoocstyle.css'\n",
    "HTML(open(css_file, \"r\").read())"
   ]
  },
  {
   "cell_type": "code",
   "execution_count": 2,
   "metadata": {
    "collapsed": true
   },
   "outputs": [],
   "source": [
    "import numpy\n",
    "from numpy import pi\n",
    "#\n",
    "import sympy\n",
    "import math\n",
    "#\n",
    "import scipy\n",
    "from scipy import constants\n",
    "#\n",
    "import matplotlib.pyplot \n",
    "#\n",
    "from mpl_toolkits.mplot3d import Axes3D\n",
    "from matplotlib import pyplot, cm\n",
    "%matplotlib inline\n",
    "#\n",
    "from matplotlib import rcParams\n",
    "rcParams['font.family'] = 'serif'\n",
    "rcParams['font.size'] = 16\n",
    "#\n",
    "from matplotlib import animation\n",
    "from JSAnimation.IPython_display import display_animation"
   ]
  },
  {
   "cell_type": "markdown",
   "metadata": {},
   "source": [
    "### Domain"
   ]
  },
  {
   "cell_type": "code",
   "execution_count": 3,
   "metadata": {
    "collapsed": true
   },
   "outputs": [],
   "source": [
    "def get_domain(Ld,Lg,Lc,n_an, n_gap, n_cath):\n",
    "    ''' This function obtains the domain based on a \n",
    "    cell-centered grid. The domain is divided into three parts:\n",
    "    (1) anode region, (2) gap, (3) cathode.\n",
    "    \n",
    "    Parameters:\n",
    "    ----------\n",
    "    Ld: Domain Length\n",
    "    Lg: gap length\n",
    "    Lc: cathode length\n",
    "    n_an: number of boundary nodes in anode\n",
    "    n_gap: number of boundary nodes in gap\n",
    "    n_cath: number of boundary nodes in cathode\n",
    "    \n",
    "    Returns:\n",
    "    --------\n",
    "    '''\n",
    "    # Dimensions of Domain\n",
    "    L_chamber = Ld\n",
    "    L_gap = Lg\n",
    "    L_cathode = Lc\n",
    "    L_anode = L_chamber - (Lgap + L_cathode)\n",
    "    #\n",
    "    #cell-centered grid approach\n",
    "    #\n",
    "    #anode region\n",
    "    xl_an = 0.0\n",
    "    xr_an = L_anode\n",
    "    delx_an = (xr_an-xl_an)/(n_an-1.0)\n",
    "    xb_an = numpy.linspace(xl_an, xr_an, n_an)\n",
    "    xc_an = xb_an[:-1]+(delx_an*0.5)\n",
    "    #\n",
    "    #gap region\n",
    "    xl_gap = L_anode\n",
    "    xr_gap = L_anode+Lgap\n",
    "    delx_gap = (xr_gap-xl_gap)/(n_gap-1.0)\n",
    "    xb_gap = numpy.linspace(xl_gap, xr_gap, n_gap)\n",
    "    xc_gap = xb_gap[:-1]+(delx_gap*0.5)\n",
    "    #\n",
    "    #cathode region\n",
    "    xl_cath = L_anode+Lgap\n",
    "    xr_cath = L_chamber\n",
    "    delx_cath = (xr_cath-xl_cath)/(n_cath-1.0)\n",
    "    xb_cath = numpy.linspace(xl_cath, xr_cath, n_cath)\n",
    "    xc_cath = xb_cath[:-1]+(delx_cath*0.5)\n",
    "    #\n",
    "    xb_t = numpy.concatenate((xb_an, xb_gap[1:-1], xb_cath))\n",
    "    xc_t = numpy.concatenate((xc_an, xc_gap, xc_cath))\n",
    "    #\n",
    "    return delx_an, delx_gap, delx_cath, xb_t, xc_t\n",
    "#     return delx_an, delx_gap, delx_cath, xb_an, xc_an, xb_gap, xc_gap,\\\n",
    "#                 xb_cath, xc_cath\n",
    "    "
   ]
  },
  {
   "cell_type": "code",
   "execution_count": 4,
   "metadata": {
    "collapsed": false
   },
   "outputs": [],
   "source": [
    "# Domain, Dimensions\n",
    "L_chamber = 0.24  #meters\n",
    "Lgap = 0.004 #interelectrode gap [meters]\n",
    "L_cathode = 0.112\n",
    "L_anode = L_chamber - (Lgap + L_cathode)\n",
    "#\n",
    "nx_anode = 101\n",
    "nx_cathode = 111\n",
    "nx_gap = 41\n",
    "\n",
    "#get cell boundary and cell center locations\n",
    "dx_a, dx_g, dx_c, xb, xc = get_domain(L_chamber,Lgap,L_cathode,\\\n",
    "                                      nx_anode, nx_gap, nx_cathode)"
   ]
  },
  {
   "cell_type": "code",
   "execution_count": 5,
   "metadata": {
    "collapsed": false
   },
   "outputs": [
    {
     "data": {
      "image/png": "[encoded data removed]",
      "text/plain": [
       "<matplotlib.figure.Figure at 0x110dac7f0>"
      ]
     },
     "metadata": {},
     "output_type": "display_data"
    }
   ],
   "source": [
    "Xc_an = numpy.meshgrid(xc[:100])\n",
    "Xc_gap = numpy.meshgrid(xc[100:140])\n",
    "Xc_cathode = numpy.meshgrid(xc[141:])\n",
    "#\n",
    "pyplot.scatter(numpy.zeros_like(Xc_an), Xc_an,\\\n",
    "                   s=10, color='b', marker='o', linewidth=0)\n",
    "pyplot.scatter(numpy.zeros_like(Xc_gap), Xc_gap,\\\n",
    "                   s=10, color='r', marker='o', linewidth=0)\n",
    "pyplot.scatter(numpy.zeros_like(Xc_cathode), Xc_cathode,\\\n",
    "                   s=10, color='k', marker='o', linewidth=0);"
   ]
  },
  {
   "cell_type": "markdown",
   "metadata": {},
   "source": [
    "##### xc[0:100]  to access anode cell-center nodes\n",
    "##### xc[100:140] to access gap cell-center nodes\n",
    "##### xc[140:] to access cathode cell-center nodes\n",
    "\n",
    "##### xb[0:101] # to access anode boundary nodes\n",
    "##### xb[101:141] to access gap boundary nodes\n",
    "##### xb[141:] to access cathode boundary nodes\n"
   ]
  },
  {
   "cell_type": "raw",
   "metadata": {
    "collapsed": false
   },
   "source": [
    "# Domain, Dimensions\n",
    "L_chamber = 0.24  #meters\n",
    "Lgap = 0.004 #interelectrode gap [meters]\n",
    "L_cathode = 0.112\n",
    "L_anode = L_chamber - (Lgap + L_cathode)\n",
    "#\n",
    "nx_anode = 101\n",
    "nx_cathode = 111\n",
    "nx_gap = 41\n",
    "nx = nx_anode+nx_cathode+nx_gap\n",
    "#\n",
    "xl_an = 0.0\n",
    "xr_an = L_anode\n",
    "x_an = numpy.linspace(xl_an, xr_an, nx_anode)\n",
    "#\n",
    "xl_gap = L_anode\n",
    "xr_gap = L_anode+Lgap\n",
    "x_gap = numpy.linspace(xl_gap, xr_gap, nx_gap)\n",
    "#\n",
    "xl_cathode = L_anode+Lgap\n",
    "xr_cathode = L_chamber\n",
    "x_cathode = numpy.linspace(xl_cathode, xr_cathode, nx_cathode)\n",
    "#\n",
    "x = numpy.concatenate((x_an, x_gap, x_cathode))\n",
    "#\n",
    "X_an = numpy.meshgrid(x_an[:-1])\n",
    "X_gap = numpy.meshgrid(x_gap)\n",
    "X_cathode = numpy.meshgrid(x_cathode[1:])\n",
    "#\n",
    "pyplot.scatter(numpy.zeros_like(X_an), X_an,\\\n",
    "                   s=10, color='b', marker='o', linewidth=0)\n",
    "pyplot.scatter(numpy.zeros_like(X_gap), X_gap,\\\n",
    "                   s=10, color='r', marker='o', linewidth=0)\n",
    "pyplot.scatter(numpy.zeros_like(X_cathode), X_cathode,\\\n",
    "                   s=10, color='k', marker='o', linewidth=0);"
   ]
  },
  {
   "cell_type": "markdown",
   "metadata": {},
   "source": [
    "### Initialization"
   ]
  },
  {
   "cell_type": "code",
   "execution_count": 6,
   "metadata": {
    "collapsed": false
   },
   "outputs": [],
   "source": [
    "#Input Current\n",
    "I_arc = 60.0\n",
    "\n",
    "#Initialization Variables\n",
    "gamma1 = 5.0/3.0\n",
    "gravity = 9.8\n",
    "\n",
    "# collision radius Carbon-Helium:\n",
    "cr_C_He = (1.7 + 1.4)\n",
    "\n",
    "#reference pressure and temperature\n",
    "T_ref = 3350.0 #Kelvin\n",
    "P_ref = 300 * 133.322 # torr to Pa\n",
    "\n",
    "#Constants\n",
    "Ckb = scipy.constants.k  #Boltzmann Constant J/K\n",
    "Cme = scipy.constants.m_e #Elementary Electron Mass kg\n",
    "Ch = scipy.constants.h; # Planck's constant Js\n",
    "\n",
    "CNA = scipy.constants.N_A #avogadros number\n",
    "\n",
    "e = scipy.constants.e #elementary charge, C\n",
    "\n",
    "#Carbon\n",
    "M_carbon = 12.0e-3/CNA #kg\n",
    "mC = 12.0 # molar mass g/mol\n",
    "Ipc1 = 1086.5e3/CNA #J, energy of first ionization\n",
    "anode_workfunction = 4.7 #eV\n",
    "emissivity=0.70 #carbon, graphite\n",
    "\n",
    "#heat of vaporization anode:\n",
    "dH_C = 710.0e6/mC\n",
    "#\n",
    "\n",
    "#Helium\n",
    "M_helium = 4.0e-3/CNA # kg\n",
    "mHe = 4.0 #molar mass, g/mol\n",
    "Ipg1 = 2372.3e3/CNA; # J, energy of first ionization\n",
    "#              "
   ]
  },
  {
   "cell_type": "markdown",
   "metadata": {},
   "source": [
    "##### anode and cathode"
   ]
  },
  {
   "cell_type": "code",
   "execution_count": 7,
   "metadata": {
    "collapsed": true
   },
   "outputs": [],
   "source": [
    "def electrodes_initial(xp_an, xp_cath):\n",
    "    ''' This function assigns the initial\n",
    "    thermophysical properties for electrodes\n",
    "    \n",
    "    Parameters:\n",
    "    ------------\n",
    "    xp: node locations for anode, cathode\n",
    "    mu: viscosity\n",
    "    kp: thermal conductivity\n",
    "    \n",
    "    \n",
    "    '''\n",
    "    xC = 1.0 #molar fraction, pure carbon material\n",
    "    wC = 1.0 # mass fraction, pure carbon material\n",
    "    #dynamic viscosity\n",
    "    mu_an = numpy.zeros_like(xp_an)\n",
    "    mu_cath = numpy.zeros_like(xp_cath)\n",
    "    #\n",
    "    mu_an[:] = 10. #\n",
    "    mu_cath[:] = 10.\n",
    "    # thermal conductivity\n",
    "    kp_an = numpy.zeros_like(xp_an)\n",
    "    kp_cath = numpy.zeros_like(xp_cath)\n",
    "    #\n",
    "    kp_an = 110.0 # W/(m K)\n",
    "    kp_cath = 110.0 #W/(m K)\n",
    "    # density\n",
    "    rho_an = numpy.zeros_like(xp_an)\n",
    "    rho_cath = numpy.zeros_like(xp_cath)\n",
    "    #\n",
    "    rho_an[:] = 2267.0*xC #kg/m3\n",
    "    rho_cath[:] = 2267.0*xC\n",
    "    # diffusion coefficient\n",
    "    D_an = numpy.zeros_like(xp_an)\n",
    "    D_cath = numpy.zeros_like(xp_cath)\n",
    "    #\n",
    "    D_an[:] = 100.0 #m2/s\n",
    "    D_cath[:] = 100.0\n",
    "    #specific heat\n",
    "    cp_an = numpy.zeros_like(xp_an)\n",
    "    cp_cath = numpy.zeros_like(xp_cath)\n",
    "    #\n",
    "    cp_an[:] = 710. #J/(Kg-K)\n",
    "    cp_cath[:] = 710.0\n",
    "    # temperature\n",
    "    T_an = numpy.zeros_like(xp_an)\n",
    "    T_cath = numpy.zeros_like(xp_cath)\n",
    "    #\n",
    "    T_an[:] = 300.0 #K\n",
    "    T_cath[:] = 300.0\n",
    "    #\n",
    "    return mu_an, mu_cath, kp_an, kp_cath, rho_an, rho_cath, D_an, D_cath,\\\n",
    "            cp_an, cp_cath, T_an, T_cath"
   ]
  },
  {
   "cell_type": "code",
   "execution_count": 8,
   "metadata": {
    "collapsed": true
   },
   "outputs": [],
   "source": [
    "mu_a, mu_c, k_a, k_c, rho_a, rho_c, D_a, D_c, cp_a, cp_c, T_a, T_c = \\\n",
    "    electrodes_initial(xc[0:100], xc[141:])"
   ]
  },
  {
   "cell_type": "markdown",
   "metadata": {},
   "source": [
    "##### gap"
   ]
  },
  {
   "cell_type": "code",
   "execution_count": 9,
   "metadata": {
    "collapsed": false
   },
   "outputs": [],
   "source": [
    "def gap_initial(cs1,ms1,ms2, xp, I_current):\n",
    "    ''' Finds molar mass of mixture in 1D domain at every node in gap\n",
    "    \n",
    "    Parameters:\n",
    "    ----------\n",
    "    cs1: Concentration of species 1\n",
    "    ms1: molar mass of species 1\n",
    "    ms2: molar mass of species 2, background gas if only 2 species\n",
    "    xp: number of nodes in domain\n",
    "    \n",
    "    \n",
    "    '''\n",
    "    m_mix = numpy.zeros_like(xp)\n",
    "    R_mix = numpy.zeros_like(xp)\n",
    "    mu_gap = numpy.zeros_like(xp)\n",
    "    k_gap = numpy.zeros_like(xp)\n",
    "    rho_gap = numpy.zeros_like(xp)\n",
    "    cp_gap = numpy.zeros_like(xp)\n",
    "    T_gap = numpy.zeros_like(xp)\n",
    "    e_cond_He = numpy.zeros_like(xp)\n",
    "    ne_gap = numpy.zeros_like(xp)\n",
    "    P_gap = numpy.zeros_like(xp)\n",
    "    #\n",
    "    c1 = numpy.ones_like(xp)*cs1\n",
    "    #\n",
    "    #molar mass of mixture\n",
    "    m_mix[:] = 1.0/( (c1[:]/ms1) + ((1.0-c1[:])/ms2) )\n",
    "    #specific gas constant of mixture\n",
    "    R_mix[:] = (scipy.constants.R/m_mix[:])*1000 \n",
    "    #viscosity of mixture\n",
    "    mu_gap[:] = 19e-6\n",
    "    #thermal conductivity of mixture\n",
    "    k_gap[:] = 0.15\n",
    "    #density of mixture:\n",
    "    rho_gap[:] = 0.109486\n",
    "    #specific heat of mixture:\n",
    "    cp_gap[:] = 5000.0\n",
    "    #Temperature of gap:\n",
    "    T_gap[:] = 300.0\n",
    "    #electrical conductivity:\n",
    "    e_cond_He[:] = I_current # or try 0.00001\n",
    "    #number density:\n",
    "    ne_gap[:] = 1e6\n",
    "    #Pressure:\n",
    "    P_gap[:] = rho_gap[:]*R_mix[:]*(T_gap[:] + ne_gap[:]*Ckb*T_gap[:])\n",
    "    #\n",
    "    return m_mix, R_mix, mu_gap, k_gap, rho_gap, cp_gap, T_gap, e_cond_He,\\\n",
    "            ne_gap, P_gap"
   ]
  },
  {
   "cell_type": "code",
   "execution_count": 10,
   "metadata": {
    "collapsed": false
   },
   "outputs": [],
   "source": [
    "mol_mass_g, R_g, mu_g, k_g, rho_g, cp_g, T_g, e_cond_g, ne_g, P_g =\\\n",
    "    gap_initial(1.0e-14, mC, mHe, xc[100:140], I_arc)\n"
   ]
  },
  {
   "cell_type": "code",
   "execution_count": 11,
   "metadata": {
    "collapsed": false
   },
   "outputs": [],
   "source": [
    "def get_cp_avg(numx):\n",
    "    '''Function obtains the specific heat of carbon and helium\n",
    "    as a function of temperature\n",
    "    \n",
    "    Parameters:\n",
    "    -----------\n",
    "    T: current temperature in domain\n",
    "    numx: number of iterations to store\n",
    "    \n",
    "    Returns:\n",
    "    ---------\n",
    "    '''\n",
    "    cpAve1 = numpy.zeros((numx))\n",
    "    cpAve4 = numpy.zeros((numx))\n",
    "    Ti = numpy.zeros((numx))\n",
    "    cp1i = numpy.zeros((numx))\n",
    "    cp4i = numpy.zeros((numx))\n",
    "    #\n",
    "    Ti[0] = 0.0\n",
    "\n",
    "    cp1i[0] = 2100.0 + (Ti[0]-300.0)*0.1\n",
    "    cp4i[0] = 7.3489e-17*(Ti[0]**5) - 1.201e-12*(Ti[0]**4) -\\\n",
    "                7.448e-10*(Ti[0]**3) + 8.6509e-5*(Ti[0]**2) - 0.34052*Ti[0] + 5351.7\n",
    "    #    \n",
    "    cpAve1[0] = cp1i[0]\n",
    "    cpAve4[0] = cp4i[0]\n",
    "    #  \n",
    "    Tim1 = Ti[0]\n",
    "    #\n",
    "    for i in range(1,numx):\n",
    "        #\n",
    "        Ti[i] = Tim1+100.0\n",
    "        #\n",
    "        cp1i[i] = 2100.0 + (Ti[i]-300.0)*0.1\n",
    "        cp4i[i] = 7.3489e-17*(Ti[i]**5) - 1.201e-12*(Ti[i]**4) -\\\n",
    "                7.448e-10*(Ti[i]**3) + 8.6509e-5*(Ti[i]**2) - 0.34052*Ti[i] + 5351.7\n",
    "        #\n",
    "        if (cp4i[i] > 70000.0):\n",
    "            cp4i[i] = 70000.0;\n",
    "        if (cp4i[i] < 5000.0):\n",
    "            cp4i[i] = 5000.0;\n",
    "        #\n",
    "        cpAve1[i] = (cpAve1[i-1]*Tim1 +\\\n",
    "                     (cp1i[0]+cp1i[i])/2.0*(Ti[i] - Tim1))/Ti[i]\n",
    "        cpAve4[i] = (cpAve4[i-1]*Tim1 + (cp4i[0]+cp4i[i])/2.0*(Ti[i] - Tim1))/Ti[i]\n",
    "        #\n",
    "        cp1im1 = cp1i\n",
    "        cp4im1 = cp4i\n",
    "        #\n",
    "        Tim1 = Ti[i]\n",
    "        \n",
    "    return Ti, cp1i, cpAve1, cp4i, cpAve4"
   ]
  },
  {
   "cell_type": "code",
   "execution_count": 12,
   "metadata": {
    "collapsed": false
   },
   "outputs": [],
   "source": [
    "T_i, cp_C_i, cp_C_avg, cp_He_i, cp_He_avg = get_cp_avg(300)"
   ]
  },
  {
   "cell_type": "code",
   "execution_count": null,
   "metadata": {
    "collapsed": true
   },
   "outputs": [],
   "source": []
  },
  {
   "cell_type": "code",
   "execution_count": null,
   "metadata": {
    "collapsed": true
   },
   "outputs": [],
   "source": [
    "#electric potential equation \n",
    "counter = 0\n",
    "\n",
    "while(toterror > EMAXi)\n",
    "    #\n",
    "    counter +=1\n",
    "    toterror = 0.0\n",
    "    for(j = anode_len+2; j<=NZ-cathode_len; j++)\n",
    "    #\n",
    "        electricpotential(j);\n",
    "        TDMA(row_st[j],cathode_wid+1,j,choice)\n",
    "        toterror = toterror + error;\n",
    "     \n",
    "    toterror = sqrt(toterror/((NR-1)*(NZ-1)))\n",
    "    #\n",
    "    j = anode_len+1\n",
    "    phi[j] = phi_ase\n",
    "    #\n",
    "    j = NZ-cathode_len+1;\n",
    "    phi[i][j] = phi_cathode\n",
    "    #\n",
    "    for(j=anode_len+1; j<=NZ-cathode_len+1; j++):\n",
    "        phi[i][j] = phi[i-1][j]"
   ]
  },
  {
   "cell_type": "code",
   "execution_count": null,
   "metadata": {
    "collapsed": true
   },
   "outputs": [],
   "source": []
  },
  {
   "cell_type": "code",
   "execution_count": null,
   "metadata": {
    "collapsed": true
   },
   "outputs": [],
   "source": [
    "# run for a test case of 60 amps\n",
    "#\n",
    "Rc = (12.5/2.) * 1./1000. # cathode radius [meters]\n",
    "#\n",
    "I_arc = 60.\n",
    "j_arc = I_arc/(pi*Rc**2)\n",
    "\n",
    "#surface area of anode\n",
    "R_an = 6.35/2. * 1./1000.  #anode radius [meters]\n",
    "A_an = pi*(R_an**2)\n",
    "#\n",
    "# molar mass\n",
    "mol_mass_c = 12.0e-3 #kg/mol\n",
    "mol_mass_he = 4.0e-3\n",
    "#\n",
    "mol_mass_c_2 = 12.0 #g/mol\n",
    "mol_mass_he_2 = 4.0\n",
    "#\n",
    "#Specific gas constants\n",
    "R_C = scipy.constants.R/(mol_mass_c ) #J/(kg-K)\n",
    "R_He = scipy.constants.R/(mol_mass_he )\n",
    "R_total = scipy.constants.R/(mol_mass_c + mol_mass_he )\n",
    "#\n",
    "#gravity:\n",
    "g = 9.81\n",
    "\n",
    "#Electric Potential at cathode\n",
    "p_c = 23.66 #volts\n",
    "\n",
    "#ION MASS\n",
    "UAMU = 1.660538921e-27 # Unified atomic mass unit in Kg\n",
    "\n",
    "mi_He = UAMU*4.002602\n",
    "mi_C = UAMU*12.0107\n",
    "\n",
    "m_i_AMU = (mi_He + mi_C) # given in kilograms"
   ]
  },
  {
   "cell_type": "code",
   "execution_count": null,
   "metadata": {
    "collapsed": true
   },
   "outputs": [],
   "source": [
    "def L2_error(p_new, p_old):\n",
    "    '''This function computes the L2 norm of the error for convergence\n",
    "\n",
    "    Parameters:\n",
    "    ----------\n",
    "    p_new: new computed potential in flow field\n",
    "    p_old: previous flow field potential\n",
    "    \n",
    "    Returns:\n",
    "    ----------\n",
    "    error!\n",
    "    '''\n",
    "    \n",
    "    return numpy.sqrt(numpy.sum((p_new[:] - p_old[:])**2)/numpy.sum(p_old[:]**2))"
   ]
  },
  {
   "cell_type": "markdown",
   "metadata": {},
   "source": [
    "### Initialize Potential and Current"
   ]
  },
  {
   "cell_type": "code",
   "execution_count": null,
   "metadata": {
    "collapsed": true
   },
   "outputs": [],
   "source": [
    "def get_phi_init(xp):\n",
    "    '''Initializes potential field\n",
    "    ''' \n",
    "    p = numpy.zeros_like(xp)\n",
    "    #\n",
    "    return p  "
   ]
  },
  {
   "cell_type": "code",
   "execution_count": null,
   "metadata": {
    "collapsed": true
   },
   "outputs": [],
   "source": [
    "def get_initial_potential(p, l2_target, jx, sigma, delx, phi_cathode):\n",
    "    '''Use jacobi to solve for potential\n",
    "    \n",
    "    Notes:\n",
    "    1. constant electric potential is considered at the cathode, and\n",
    "    2. uniform current flux is considered at anode\n",
    "    \n",
    "    ''' \n",
    "    #\n",
    "    l2_norm = 1.1 + l2_target #want to make sure this is high enough!\n",
    "    iterations = 0\n",
    "    l2_err = []\n",
    "    itermax = 100000\n",
    "    \n",
    "    while l2_norm > l2_target:\n",
    "        #\n",
    "        pk = p.copy()\n",
    "        p[1:-1] = 0.5* (pk[2:] + pk[:-2])\n",
    "        #\n",
    "        #Boundary Conditions\n",
    "        p[0] = pk[1] - ((jx*delx)/sigma)\n",
    "        p[-1] = phi_cathode\n",
    "        #\n",
    "        l2_norm = L2_error(p,pk)\n",
    "        iterations += 1\n",
    "        l2_err.append(l2_norm)\n",
    "        #\n",
    "        if iterations>itermax:\n",
    "            print('max iterations reached')\n",
    "            break\n",
    "    #\n",
    "    return p, iterations, l2_err"
   ]
  },
  {
   "cell_type": "code",
   "execution_count": null,
   "metadata": {
    "collapsed": false
   },
   "outputs": [],
   "source": [
    "p_init = get_phi_init(x.copy())"
   ]
  },
  {
   "cell_type": "code",
   "execution_count": null,
   "metadata": {
    "collapsed": false
   },
   "outputs": [],
   "source": [
    "phi, itern, l2err = get_initial_potential(p_init.copy(), l2_tar, 60., j_arc, dx, p_c )"
   ]
  },
  {
   "cell_type": "code",
   "execution_count": null,
   "metadata": {
    "collapsed": false
   },
   "outputs": [],
   "source": [
    "def xy_plot(xp, Uv, labl1, labl2):\n",
    "    pyplot.figure(figsize=(8,5))\n",
    "    pyplot.grid(True)\n",
    "    pyplot.xlabel(labl1, fontsize=18)\n",
    "    pyplot.ylabel(labl2, fontsize=18)\n",
    "    pyplot.plot(xp, Uv, color='k', ls='--', lw=2);"
   ]
  },
  {
   "cell_type": "code",
   "execution_count": null,
   "metadata": {
    "collapsed": false
   },
   "outputs": [],
   "source": [
    "xy_plot(x,phi,'Lgap (m)', 'potential $\\phi$ in Volts' )"
   ]
  },
  {
   "cell_type": "code",
   "execution_count": null,
   "metadata": {
    "collapsed": true
   },
   "outputs": [],
   "source": [
    "def get_current(p, delx, sigma):\n",
    "    '''Finds current from electric potential\n",
    "    '''\n",
    "    #\n",
    "    j = numpy.zeros_like(p)\n",
    "    #\n",
    "    j[1:-1] = (sigma)*((phi[2:]-phi[1:-1])/(2*delx))\n",
    "    j[0] = (sigma)*((phi[2]-phi[0])/(2*delx))\n",
    "    j[-1] = (sigma)*((phi[-1]-phi[-3])/(2*delx))\n",
    "    #\n",
    "    return j"
   ]
  },
  {
   "cell_type": "code",
   "execution_count": null,
   "metadata": {
    "collapsed": true
   },
   "outputs": [],
   "source": [
    "j_current = get_current(phi.copy(), dx, j_arc)"
   ]
  },
  {
   "cell_type": "code",
   "execution_count": null,
   "metadata": {
    "collapsed": false
   },
   "outputs": [],
   "source": [
    "xy_plot(x,j_current/j_arc, 'Lgap (m)', ' Normalized Current Density A/m2' )"
   ]
  },
  {
   "cell_type": "markdown",
   "metadata": {},
   "source": [
    "### Initial Temperature"
   ]
  },
  {
   "cell_type": "code",
   "execution_count": null,
   "metadata": {
    "collapsed": false
   },
   "outputs": [],
   "source": [
    "def get_P_and_T_initial(P_chamber,T_chamber, xp, M_bg):\n",
    "    ''' Use equation of state to find initial temperature\n",
    "    Parameters:\n",
    "    ------------\n",
    "    P_chamber: Initial chamber pressure in scalar form\n",
    "    T_chamber: Initial chamber temperature (scalar)\n",
    "    M_bg: background gas molar mass\n",
    "    '''\n",
    "    P_i = numpy.zeros_like(xp)\n",
    "    T_i = numpy.zeros_like(xp)\n",
    "    rho_i = numpy.zeros_like(xp)\n",
    "    #\n",
    "    P_i[:] = P_chamber\n",
    "    T_i[:] = T_chamber\n",
    "    #\n",
    "    rho_i[:] = P_i[:]/(T_i[:]*(scipy.constants.R/M_bg))\n",
    "    #\n",
    "    return P_i, T_i, rho_i"
   ]
  },
  {
   "cell_type": "code",
   "execution_count": null,
   "metadata": {
    "collapsed": false
   },
   "outputs": [],
   "source": [
    "Pi, Ti, ri = get_P_and_T_initial(P_exp, 288.15, x, mol_mass_he)"
   ]
  },
  {
   "cell_type": "markdown",
   "metadata": {},
   "source": [
    "### electrical conductivity function. to initialize assume sigma = I_arc."
   ]
  },
  {
   "cell_type": "code",
   "execution_count": null,
   "metadata": {
    "collapsed": true
   },
   "outputs": [],
   "source": [
    "def get_electrical_conductivity(ne_s, no_s, T):\n",
    "    #------------------------------------------ \n",
    "    #Parameters for Collisions\n",
    "    re = 2.8179403267e-15 # classical electron radius in meters\n",
    "    gamma = numpy.exp(0.577) #from Euler's constant\n",
    "    Qm = 40e-20 #collision cross-section [meters]\n",
    "    #------------------------------------------\n",
    "    ni_C = ne_s.copy() #plasma quasi-neutrality\n",
    "    Te = T.copy()\n",
    "    #------------------------------------------\n",
    "    ke = numpy.zeros_like(Te)\n",
    "    lnA = numpy.zeros_like(Te)\n",
    "    v_eo = numpy.zeros_like(Te)\n",
    "    v_ei = numpy.zeros_like(Te)\n",
    "    ve_t = numpy.zeros_like(Te)\n",
    "    sigma = numpy.zeros_like(Te)\n",
    "    #-------------------------------------------\n",
    "    ke[:] = numpy.sqrt((4*numpy.pi*ne_s[:]*(constants.e**2))/(Te[:]*constants.k))\n",
    "\n",
    "    lnA[:] = numpy.log((4*constants.k*Te[:])/((gamma**2)*(ke[:])*(constants.e**2))) -\\\n",
    "            2*numpy.log(numpy.sqrt(2))\n",
    "\n",
    "    # electron-neutral collision frequency\n",
    "    v_eo[:] = (4/3)*numpy.sqrt((8*constants.k*Te[:])/(pi*constants.m_e))*\\\n",
    "                    Qm*(no_s[:])\n",
    "\n",
    "    # electron-neutral collision frequency\n",
    "    v_ei[:] = (4/3)*numpy.sqrt(2*pi)*(ni_C[:])*\\\n",
    "                (((constants.e**2)/(constants.k*Te[:]))**2)*\\\n",
    "                numpy.sqrt((constants.k*Te[:])/constants.m_e)*lnA[:]\n",
    "    # total collisions\n",
    "    ve_t[:] = v_ei[:] + v_eo[:]\n",
    "    #\n",
    "    # electrical conductivity:\n",
    "    sigma[:] = (ne_s[:]*constants.e**2)/(constants.m_e* ve_t[:])\n",
    "    #\n",
    "    return sigma"
   ]
  },
  {
   "cell_type": "markdown",
   "metadata": {},
   "source": [
    "### Get thermophysical properties based on current temperature"
   ]
  },
  {
   "cell_type": "code",
   "execution_count": null,
   "metadata": {
    "collapsed": true
   },
   "outputs": [],
   "source": [
    "def get_diffusivity(Q, Ma, Mb, P, T):\n",
    "    #\n",
    "    Dab = numpy.zeros_like(P)\n",
    "    #\n",
    "    Dab = (2.63e-7/(P*(Q**2)))*numpy.sqrt((T**3)*(Ma+Mb)/(2*Ma*Mb))\n",
    "    Dab = Dab*(.01**2)\n",
    "    #\n",
    "    return Dab"
   ]
  },
  {
   "cell_type": "code",
   "execution_count": null,
   "metadata": {
    "collapsed": true
   },
   "outputs": [],
   "source": [
    "Qm = 0.5*(2.2e-10+2.2e-10 )#meters \n",
    "\n",
    "# http://www.umich.edu/~elements/fogler%26gurmen/html/03chap/html/collision/index.htm"
   ]
  },
  {
   "cell_type": "code",
   "execution_count": null,
   "metadata": {
    "collapsed": false
   },
   "outputs": [],
   "source": [
    "Di= get_diffusivity(2.2, mol_mass_c_2, mol_mass_he_2, 0.394737, 288.15)\n",
    "Di"
   ]
  },
  {
   "cell_type": "markdown",
   "metadata": {},
   "source": [
    "### get k, mu, cp and gamma from literature"
   ]
  },
  {
   "cell_type": "markdown",
   "metadata": {},
   "source": [
    "### get ablation rate"
   ]
  },
  {
   "cell_type": "code",
   "execution_count": null,
   "metadata": {
    "collapsed": true
   },
   "outputs": [],
   "source": [
    "def get_abl_vel(Ta, mi, Aan):\n",
    "    #\n",
    "    A = 15.73\n",
    "    B = 40030.0\n",
    "    #\n",
    "    Pv = 0.133*numpy.exp(2.3*(A - B/Ta))\n",
    "    #\n",
    "    abl = Pv*numpy.sqrt(mi/(2*pi*scipy.constants.k*Ta))*Aan #kg/(s)\n",
    "    #\n",
    "    return abl"
   ]
  },
  {
   "cell_type": "code",
   "execution_count": null,
   "metadata": {
    "collapsed": false
   },
   "outputs": [],
   "source": [
    "abl_init= get_abl_vel(288.15, m_i_AMU, A_an)\n",
    "abl_init"
   ]
  },
  {
   "cell_type": "code",
   "execution_count": null,
   "metadata": {
    "collapsed": false
   },
   "outputs": [],
   "source": [
    "scipy.constants.N_A"
   ]
  },
  {
   "cell_type": "code",
   "execution_count": null,
   "metadata": {
    "collapsed": false
   },
   "outputs": [],
   "source": [
    "scipy.constants.h"
   ]
  },
  {
   "cell_type": "code",
   "execution_count": null,
   "metadata": {
    "collapsed": true
   },
   "outputs": [],
   "source": []
  },
  {
   "cell_type": "code",
   "execution_count": null,
   "metadata": {
    "collapsed": true
   },
   "outputs": [],
   "source": [
    "def mass_diffusion():\n",
    "    "
   ]
  },
  {
   "cell_type": "markdown",
   "metadata": {},
   "source": [
    "### Initial Conditions for NS equations"
   ]
  },
  {
   "cell_type": "code",
   "execution_count": null,
   "metadata": {
    "collapsed": true
   },
   "outputs": [],
   "source": [
    "def get_U_initial(numx, rho_bg, T_start, cp_start, gamma_start, c_abl):\n",
    "    ''' Finds initial conditions \n",
    "    Parameters:\n",
    "    -----------\n",
    "    numx: nodes\n",
    "    rho_abl: density of ablated material\n",
    "    vel_abl: velocity of ablated material\n",
    "    P_abl: Pressure of ablated material\n",
    "    \n",
    "    return:\n",
    "    -------\n",
    "    U_start: Initialize flow field\n",
    "    '''\n",
    "    #\n",
    "    U_start = numpy.zeros((3, numx), dtype=float) #mass, mom, energy\n",
    "    h_start = numpy.zeros_like(rho_bg)\n",
    "    #\n",
    "    #\n",
    "    U_start[0,:] = (rho_bg)\n",
    "    #\n",
    "    U_start[1,:] = (rho_bg)*c_abl\n",
    "    #\n",
    "    h_start = cp_start*T_start\n",
    "    U_start[2,:] = (rho_bg*h_start)/gamma_start\n",
    "    #\n",
    "    return U_start"
   ]
  },
  {
   "cell_type": "code",
   "execution_count": null,
   "metadata": {
    "collapsed": true
   },
   "outputs": [],
   "source": [
    "Ui_test = get_U_initial(nx, ri, Ti, cp_he_std, 1.4, 0.0)"
   ]
  },
  {
   "cell_type": "raw",
   "metadata": {
    "collapsed": true
   },
   "source": [
    "def get_IC(numx, rho_abl, rho_bg, Ta, Tc, abl, c_abl, Tgap):\n",
    "    ''' Finds initial conditions \n",
    "    Parameters:\n",
    "    -----------\n",
    "    numx: nodes\n",
    "    rho_abl: density of ablated material\n",
    "    vel_abl: velocity of ablated material\n",
    "    P_abl: Pressure of ablated material\n",
    "    \n",
    "    return:\n",
    "    -------\n",
    "    U_start: Initialize flow field\n",
    "    '''\n",
    "    #\n",
    "    U_start = numpy.zeros((3, numx), dtype=float) #mom, energy\n",
    "    #\n",
    "    #\n",
    "    U_start[0,0] = (rho_abl+rho_bg)\n",
    "    U_start[0,1:] = (rho_bg)\n",
    "    #\n",
    "    U_start[1,0] = (rho_abl+rho_bg)*c_abl\n",
    "    U_start[1,1:] = 0.0\n",
    "    #\n",
    "    U_start[2,0] = (rho_abl+rho_bg)*cp*Ta + cp*Ta*(R/cp)\n",
    "    U_start[2,1:-1] = (rho_bg)*Tgap*cp + cp*Tgap*(R/cp)\n",
    "    U_start[2,-1] = (rho_bg)*Tc*cp + cp*Tc*(R/cp) #(rho_abl+rho_bg)*cp*Tc\n",
    "    #\n",
    "    return U_start"
   ]
  },
  {
   "cell_type": "markdown",
   "metadata": {},
   "source": [
    "### Boundary Conditions for NS equations"
   ]
  },
  {
   "cell_type": "code",
   "execution_count": null,
   "metadata": {
    "collapsed": true
   },
   "outputs": [],
   "source": [
    "def get_BC(Uv, rho_abl, rho_bg, abl, Ta, Tc):\n",
    "    ''' Finds boundary conditions for anode, cathode \n",
    "    Parameters:\n",
    "    -----------\n",
    "    Uv: vector of mass, mom, energy [3, no. of nodes]\n",
    "    \n",
    "    return:\n",
    "    Ubc: solution field with boundary conditions\n",
    "    ''' \n",
    "    Ubc = Uv.copy()\n",
    "    #\n",
    "    # Anode Region\n",
    "    Ubc[0,0] = # at anode tip (vapor density + gas density)\n",
    "    Ubc[1,0] = abl #momentum\n",
    "    Ubc[2,0] = Uv[2,0] #Energy\n",
    "\n",
    "    # Cathode Region\n",
    "    Ubc[0,-1] = 2*(Uv[0,-2]) - Uv[0,-3]#interpolate from interior points\n",
    "    #Ubc[1,-1] = 0.0 #m/s, no flux through boundaries\n",
    "    Ubc[1,-1] = 2*(Uv[1,-2]) - Uv[1,-3]#interpolate from interior points\n",
    "    #Ubc[2,-1] = (2*(Uv[0,-2]) - Uv[0,-3])*cp*Tc#interpolate from interior points\n",
    "    Ubc[2,-1] = 2*(Uv[2,-2]) - Uv[2,-3]\n",
    "    return Ubc"
   ]
  },
  {
   "cell_type": "code",
   "execution_count": null,
   "metadata": {
    "collapsed": true
   },
   "outputs": [],
   "source": []
  },
  {
   "cell_type": "code",
   "execution_count": null,
   "metadata": {
    "collapsed": true
   },
   "outputs": [],
   "source": [
    "def Maccormack(U_init, numt, numx, delt, delx):\n",
    "    \"\"\"\n",
    "    Parameters:\n",
    "    -----------\n",
    "    U_init - initial values of mass, momentum, and pressure\n",
    "    numt - number of time steps\n",
    "    delt - time step size\n",
    "    delx - uniform node spacing\n",
    "    numx - number of nodes\n",
    "\n",
    "    \"\"\"\n",
    "    Un = numpy.zeros((numt+1,3,numx))\n",
    "    Un[:,:,:] = U_init.copy()\n",
    "    #\n",
    "    Us = numpy.zeros_like(U_init)\n",
    "    Us = U_init.copy()\n",
    "    #\n",
    "    U = numpy.zeros((3,numx))\n",
    "    U = U_init.copy()\n",
    "    #\n",
    "    for t in range(1,numt+1):\n",
    "        #--------------\n",
    "        # Thermophysical Properties:\n",
    "        #\n",
    "        get_temperature(U)\n",
    "        get_ionization(T_field)\n",
    "        get_thermal_conductivity(T_field)\n",
    "        get_viscosity(T_field)\n",
    "        get_electrical_conductivity(T_field)\n",
    "        get_specific_heat(T_field)\n",
    "        #---------------\n",
    "        #---------------\n",
    "        # Sublimation\n",
    "        #\n",
    "        get_sublimation_rate(Pvapor, Tan)\n",
    "        #---------------\n",
    "        #---------------\n",
    "        # Solve Potential and current density\n",
    "        get_potential(sigma,)\n",
    "        get_current_density(phi,)\n",
    "        #----------------\n",
    "        #\n",
    "        # SOLVE NAVIER STOKES:\n",
    "            #---------------\n",
    "            #predictor step\n",
    "        Fs = get_flux(U) \n",
    "        S = get_source(U, g,j_arc,sigma)\n",
    "        #\n",
    "        Us[:,1:-1] =\n",
    "            #update Bc on Ustar:\n",
    "        Us = get_BC()\n",
    "            #---------------\n",
    "            #corrector step:\n",
    "        F = get_flux(Us)\n",
    "        S2 = get_source(Us, g, j_arc , sigma)\n",
    "        #\n",
    "        Un[t,:,1:-1] = 0.5*( U[:,1:-1] + Us[:,1:-1] -\\\n",
    "                            (delt/delx)*(E2[:,1:-1] - E2[:,:-2]) -\\\n",
    "                            (delt/delx**2)*(F2[:,2:] - 2*F2[:,1:-1] + F2[:,:-2]) #+\\\n",
    "                            #S2[:,1:-1] )\n",
    "        #update BCs\n",
    "        Un[t,:,:] = get_BC( Un[t,:,:], rho_v, rho_He, ABL, T_an, T_c)\n",
    "        #\n",
    "        U = Un[t,:,:].copy()\n",
    "        #--------------------\n",
    "        # Residual:\n",
    "        residnorm = numpy.sum(Un[t,2,:]) + numpy.sum(F) - S\n",
    "                            \n",
    "        \n",
    "        #\n",
    "#         if ( residnorm < 1e-8) == True ):\n",
    "#             print('steady state reached')\n",
    "#             break\n",
    "    #\n",
    "    return Un"
   ]
  },
  {
   "cell_type": "code",
   "execution_count": null,
   "metadata": {
    "collapsed": true
   },
   "outputs": [],
   "source": []
  },
  {
   "cell_type": "markdown",
   "metadata": {},
   "source": [
    "### Ablation Rate and Ejection Velocity"
   ]
  },
  {
   "cell_type": "code",
   "execution_count": null,
   "metadata": {
    "collapsed": true
   },
   "outputs": [],
   "source": [
    "def get_abl_vel(Ta, mi, Aan, rho):\n",
    "    #\n",
    "    A = 15.73\n",
    "    B = 40030.0\n",
    "    #\n",
    "    Pv = 0.133*numpy.exp(2.3*(A - B/Ta))\n",
    "    #\n",
    "    abl = Pv*numpy.sqrt(mi/(2*pi*scipy.constants.k*Ta)) #kg/(m2s)\n",
    "    #\n",
    "    vel = abl/(rho) #m/s\n",
    "    #\n",
    "    return abl, vel"
   ]
  },
  {
   "cell_type": "markdown",
   "metadata": {},
   "source": [
    "##### Initial ablation and velocity should be zero"
   ]
  },
  {
   "cell_type": "code",
   "execution_count": null,
   "metadata": {
    "collapsed": false
   },
   "outputs": [],
   "source": [
    "ABL, u_vel = get_abl_vel(Ti[0], m_i_AMU, A_an, ri[0])"
   ]
  },
  {
   "cell_type": "code",
   "execution_count": null,
   "metadata": {
    "collapsed": false
   },
   "outputs": [],
   "source": [
    "ABL"
   ]
  },
  {
   "cell_type": "code",
   "execution_count": null,
   "metadata": {
    "collapsed": false
   },
   "outputs": [],
   "source": [
    "u_vel"
   ]
  },
  {
   "cell_type": "markdown",
   "metadata": {},
   "source": [
    "### Species Diffusion"
   ]
  },
  {
   "cell_type": "markdown",
   "metadata": {},
   "source": [
    "##### For one-species model, we don't worry about mass fraction of species since we only consider 1 species"
   ]
  },
  {
   "cell_type": "markdown",
   "metadata": {},
   "source": [
    "### Ionization"
   ]
  },
  {
   "cell_type": "code",
   "execution_count": null,
   "metadata": {
    "collapsed": true
   },
   "outputs": [],
   "source": [
    "E_C = 11.2603*constants.e #ionization energy for carbon in Joules"
   ]
  },
  {
   "cell_type": "code",
   "execution_count": null,
   "metadata": {
    "collapsed": true
   },
   "outputs": [],
   "source": [
    "def get_ne_s1(T, e_iz, P, numx):\n",
    "    ''' Use SAHA equation, assume 1-species plasma\n",
    "    \n",
    "    Parameters:\n",
    "    ------------\n",
    "    T_el: Temperature array of domain\n",
    "    e_iz: ionization energy of species\n",
    "    P_total: array of pressure, at each node\n",
    "    \n",
    "    return:\n",
    "    -------\n",
    "    nes,nos, nis: arrays of number densities (solved at each node)\n",
    "    '''\n",
    "    T_el = numpy.zeros_like(T)\n",
    "    P_total = numpy.zeros_like(P)\n",
    "    #\n",
    "    T_el = T.copy()\n",
    "    P_total = P.copy()\n",
    "    #create arrays:\n",
    "    f_c = numpy.zeros_like(T_el)\n",
    "    nes = numpy.zeros_like(T_el)\n",
    "    nos = numpy.zeros_like(T_el)\n",
    "    nis = numpy.zeros_like(T_el)\n",
    "    # create symbolic variable to solve\n",
    "    #\n",
    "    for i in range(numx):\n",
    "        ne_var = sympy.symbols('ne_var')\n",
    "        #Saha Eqn\n",
    "        f_c[i] =  ( ( (2*pi*constants.m_e*constants.k*T_el[i]) / \\\n",
    "                     (constants.h**2) )**(3/2) ) *\\\n",
    "                         numpy.exp( (-e_iz) / (constants.k*T_el[i]))\n",
    "        #\n",
    "        ne_var_eqn = sympy.Eq(0, ((ne_var**2 )/f_c[i]) + (2*ne_var) -\\\n",
    "                          (P_total[i]/(T_el[i]*constants.k)) )\n",
    "        #solve for number density:\n",
    "        nes[i] = sympy.solve(ne_var_eqn, ne_var)[1]\n",
    "        nos[i] = (nes[i]**2)/f_c[i]\n",
    "        nis[i] = nes[i]\n",
    "    #\n",
    "    return nes, nos, nis"
   ]
  },
  {
   "cell_type": "code",
   "execution_count": null,
   "metadata": {
    "collapsed": false
   },
   "outputs": [],
   "source": [
    "ne, no, ni = get_ne_s1(Ti.copy(), E_C, Pi.copy(), nx)"
   ]
  },
  {
   "cell_type": "markdown",
   "metadata": {},
   "source": [
    "### Update Electrical Conductivity"
   ]
  },
  {
   "cell_type": "code",
   "execution_count": null,
   "metadata": {
    "collapsed": true
   },
   "outputs": [],
   "source": [
    "def get_electrical_conductivity(ne_s, no_s, T):\n",
    "    #------------------------------------------ \n",
    "    #Parameters for Collisions\n",
    "    re = 2.8179403267e-15 # classical electron radius in meters\n",
    "    gamma = numpy.exp(0.577) #from Euler's constant\n",
    "    Qm = 40e-20 #collision cross-section [meters]\n",
    "    #------------------------------------------\n",
    "    ni_C = ne_s.copy() #plasma quasi-neutrality\n",
    "    Te = T.copy()\n",
    "    #------------------------------------------\n",
    "    ke = numpy.zeros_like(Te)\n",
    "    lnA = numpy.zeros_like(Te)\n",
    "    v_eo = numpy.zeros_like(Te)\n",
    "    v_ei = numpy.zeros_like(Te)\n",
    "    ve_t = numpy.zeros_like(Te)\n",
    "    sigma = numpy.zeros_like(Te)\n",
    "    #-------------------------------------------\n",
    "    ke[:] = numpy.sqrt((4*numpy.pi*ne_s[:]*(constants.e**2))/(Te[:]*constants.k))\n",
    "\n",
    "    lnA[:] = numpy.log((4*constants.k*Te[:])/((gamma**2)*(ke[:])*(constants.e**2))) -\\\n",
    "            2*numpy.log(numpy.sqrt(2))\n",
    "\n",
    "    # electron-neutral collision frequency\n",
    "    v_eo[:] = (4/3)*numpy.sqrt((8*constants.k*Te[:])/(pi*constants.m_e))*\\\n",
    "                    Qm*(no_s[:])\n",
    "\n",
    "    # electron-neutral collision frequency\n",
    "    v_ei[:] = (4/3)*numpy.sqrt(2*pi)*(ni_C[:])*\\\n",
    "                (((constants.e**2)/(constants.k*Te[:]))**2)*\\\n",
    "                numpy.sqrt((constants.k*Te[:])/constants.m_e)*lnA[:]\n",
    "    # total collisions\n",
    "    ve_t[:] = v_ei[:] + v_eo[:]\n",
    "    #\n",
    "    # electrical conductivity:\n",
    "    sigma[:] = (ne_s[:]*constants.e**2)/(constants.m_e* ve_t[:])\n",
    "    #\n",
    "    return sigma"
   ]
  },
  {
   "cell_type": "code",
   "execution_count": null,
   "metadata": {
    "collapsed": false
   },
   "outputs": [],
   "source": [
    "sgma = get_electrical_conductivity(ne.copy(), no.copy(), Ti.copy())"
   ]
  },
  {
   "cell_type": "code",
   "execution_count": null,
   "metadata": {
    "collapsed": false
   },
   "outputs": [],
   "source": [
    "sgma"
   ]
  },
  {
   "cell_type": "markdown",
   "metadata": {},
   "source": [
    "### Diffusivity as  a function of Temperature"
   ]
  },
  {
   "cell_type": "raw",
   "metadata": {},
   "source": [
    "Qm = 15e-8*1e-3#meters\n",
    "Qm"
   ]
  },
  {
   "cell_type": "raw",
   "metadata": {},
   "source": [
    "def get_diffusivity(Q, Ma, Mb, P, T):\n",
    "    #\n",
    "    Dab = numpy.zeros_like(P)\n",
    "    #\n",
    "    Dab = (2.63e-7/(P*(Q**2)))*numpy.sqrt((T**3)*(Ma+Mb)/(2*Ma*Mb))\n",
    "#     Dab = (7.5329e-14)*(numpy.sqrt((1/Ma) + (1/Mb)))*(T**(1.5))/\\\n",
    "#             ((Q**2)*P)\n",
    "    #\n",
    "    return Dab"
   ]
  },
  {
   "cell_type": "code",
   "execution_count": null,
   "metadata": {
    "collapsed": true
   },
   "outputs": [],
   "source": [
    "def get_diffusivity2(k_v, rho_v, cp_v, xp):\n",
    "    #\n",
    "    D = numpy.zeros_like(xp)\n",
    "    #\n",
    "    D[:] = k_v/(rho_v*cp_v)\n",
    "    #\n",
    "    return D"
   ]
  },
  {
   "cell_type": "code",
   "execution_count": null,
   "metadata": {
    "collapsed": true
   },
   "outputs": [],
   "source": [
    "def get_viscosity(T, To):\n",
    "    #\n",
    "    mu_i = 1.9793e-5 #m2/s\n",
    "    mu = numpy.zeros_like(T)\n",
    "    #\n",
    "    mu[:] = mu_i*((T/To)**(3/2))*((To+110.)/(T+110.))\n",
    "    #\n",
    "    return mu"
   ]
  },
  {
   "cell_type": "code",
   "execution_count": null,
   "metadata": {
    "collapsed": true
   },
   "outputs": [],
   "source": [
    "def get_th_conductivity(mu, cp):\n",
    "    #\n",
    "    Pr = 2./3.\n",
    "    k = numpy.zeros_like(mu)\n",
    "    #\n",
    "    k[:] = mu[:]*cp[:]/Pr\n",
    "    #\n",
    "    return k"
   ]
  },
  {
   "cell_type": "code",
   "execution_count": null,
   "metadata": {
    "collapsed": true
   },
   "outputs": [],
   "source": [
    "def get_cp(T, h_enth):\n",
    "    #\n",
    "    cp = numpy.zeros_like(T)\n",
    "    #\n",
    "    cp[:] = h_enth[:]/T[:]\n",
    "    #\n",
    "    return cp"
   ]
  },
  {
   "cell_type": "code",
   "execution_count": null,
   "metadata": {
    "collapsed": false
   },
   "outputs": [],
   "source": [
    "# Df = get_diffusivity(Qm, mol_mass_c, mol_mass_he, Pi, Ti)\n",
    "# Df"
   ]
  },
  {
   "cell_type": "code",
   "execution_count": null,
   "metadata": {
    "collapsed": true
   },
   "outputs": [],
   "source": [
    "Df = get_diffusivity2()"
   ]
  },
  {
   "cell_type": "code",
   "execution_count": null,
   "metadata": {
    "collapsed": true
   },
   "outputs": [],
   "source": [
    "k =0.138#W/mK"
   ]
  },
  {
   "cell_type": "markdown",
   "metadata": {},
   "source": [
    "### Momentum and Energy Solver to find velocity distribution in field"
   ]
  },
  {
   "cell_type": "markdown",
   "metadata": {},
   "source": [
    "The problem can be studied using the time-dependent, 1D Navier-Stokes equations with gravity and joule heating. The equations for x momentum, and energy are:\n",
    "\n",
    "\\begin{align}\n",
    "0 =& \\frac{\\partial}{\\partial t}( \\rho ) + \\frac{\\partial}{\\partial x} (\\rho u) \\nonumber \\\\\n",
    "pg =& \\frac{\\partial}{\\partial t}( \\rho u ) + \\frac{\\partial}{\\partial x} \\bigg[ \\rho u^2 + P - \\tau_{x} \\bigg] \\nonumber \\\\\n",
    "\\frac{j^{2}}{\\sigma}=& \\frac{\\partial}{\\partial t}\\big(E_{t}-P \\big) + \\frac{\\partial}{\\partial x} \\bigg[ \\big( E_{t}+P \\big)u - D_{c} \\big(\\frac{h}{c_{p}} \\big) - k \\frac{\\partial}{\\partial x} \\big( \\frac{h}{c_p}\\big) \\bigg] \\nonumber \\\\\n",
    "\\end{align}\n",
    "\n",
    "In the equations above: \n",
    "\n",
    "\\begin{align}\n",
    "D_{c} &= \\frac{5jk_{B}}{2e} \\nonumber \\\\\n",
    "E_{t} &= \\rho h \\nonumber \\\\\n",
    "P &= \\rho R T = \\rho h \\frac{R}{c_p} \\nonumber \\\\\n",
    "\\tau_{x} &= \\mu \\frac{\\partial u}{\\partial x} \\nonumber\n",
    "\\end{align}\n",
    "\n",
    "To begin the discretization process, we can express the system of governing equations in vector form:\n",
    "\n",
    "\\begin{equation}\n",
    "\\frac{\\partial \\textbf{U}}{\\partial t} + \\frac{\\partial \\textbf{E}}{\\partial x}  = \\textbf{S} \\nonumber,\n",
    "\\end{equation}\n",
    "\n",
    "where the vectors $\\textbf{U}, \\ and \\ \\textbf{E}$ with mass conservation included are:\n",
    "\n",
    "$$\\textbf{U} = \n",
    "\\left[ \\begin{array}{c}\n",
    "\\rho \\\\\n",
    "\\rho u \\\\\n",
    "\\rho h + \\rho h \\frac{R}{c_p}\n",
    "\\end{array} \\right]$$\n",
    "\n",
    "$$\\textbf{E} = \n",
    "\\left[ \\begin{array}{c}\n",
    "\\rho u \\\\\n",
    "\\rho u^2 + \\rho h \\frac{R}{c_p} - \\tau_x \\\\\n",
    "(\\rho h - \\rho h \\frac{R}{c_p})u - D_{c} \\big( \\frac{h}{c_p} \\big) - k \\frac{\\partial}{\\partial x} \\big( \\frac{h}{c_p}\\big)\n",
    "\\end{array} \\right] $$ "
   ]
  },
  {
   "cell_type": "code",
   "execution_count": null,
   "metadata": {
    "collapsed": true
   },
   "outputs": [],
   "source": [
    "def get_E_flux(Uv):\n",
    "    ''' Finds flux values \n",
    "    Parameters:\n",
    "    -----------\n",
    "    Uv: vector of mass, mom, energy [3, no. of nodes]\n",
    "    \n",
    "    return:\n",
    "    --------\n",
    "    Fv: fluxes\n",
    "    ''' \n",
    "    #\n",
    "    Ev = numpy.zeros_like(Uv)\n",
    "    #\n",
    "    Ev[0,:] = \n",
    "    #\n",
    "    Ev[1,:] = \n",
    "    #\n",
    "    Ev[2,:] = \n",
    "    #\n",
    "    return Ev"
   ]
  }
 ],
 "metadata": {
  "kernelspec": {
   "display_name": "Python 3",
   "language": "python",
   "name": "python3"
  },
  "language_info": {
   "codemirror_mode": {
    "name": "ipython",
    "version": 3
   },
   "file_extension": ".py",
   "mimetype": "text/x-python",
   "name": "python",
   "nbconvert_exporter": "python",
   "pygments_lexer": "ipython3",
   "version": "3.4.4"
  }
 },
 "nbformat": 4,
 "nbformat_minor": 0
}
