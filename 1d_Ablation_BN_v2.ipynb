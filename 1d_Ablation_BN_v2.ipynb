{
 "cells": [
  {
   "cell_type": "code",
   "execution_count": 1,
   "metadata": {
    "collapsed": false
   },
   "outputs": [
    {
     "data": {
      "text/html": [
       "<link href='http://fonts.googleapis.com/css?family=Alegreya+Sans:100,300,400,500,700,800,900,100italic,300italic,400italic,500italic,700italic,800italic,900italic' rel='stylesheet' type='text/css'>\n",
       "<link href='http://fonts.googleapis.com/css?family=Arvo:400,700,400italic' rel='stylesheet' type='text/css'>\n",
       "<link href='http://fonts.googleapis.com/css?family=PT+Mono' rel='stylesheet' type='text/css'>\n",
       "<link href='http://fonts.googleapis.com/css?family=Shadows+Into+Light' rel='stylesheet' type='text/css'>\n",
       "<link href='http://fonts.googleapis.com/css?family=Nixie+One' rel='stylesheet' type='text/css'>\n",
       "<style>\n",
       "\n",
       "@font-face {\n",
       "    font-family: \"Computer Modern\";\n",
       "    src: url('http://mirrors.ctan.org/fonts/cm-unicode/fonts/otf/cmunss.otf');\n",
       "}\n",
       "\n",
       "#notebook_panel { /* main background */\n",
       "    background: rgb(245,245,245);\n",
       "}\n",
       "\n",
       "div.cell { /* set cell width */\n",
       "    width: 750px;\n",
       "}\n",
       "\n",
       "div #notebook { /* centre the content */\n",
       "    background: #fff; /* white background for content */\n",
       "    width: 1000px;\n",
       "    margin: auto;\n",
       "    padding-left: 0em;\n",
       "}\n",
       "\n",
       "#notebook li { /* More space between bullet points */\n",
       "    margin-top:0.8em;\n",
       "}\n",
       "\n",
       "/* draw border around running cells */\n",
       "div.cell.border-box-sizing.code_cell.running { \n",
       "    border: 1px solid #111;\n",
       "}\n",
       "\n",
       "/* Put a solid color box around each cell and its output, visually linking them*/\n",
       "div.cell.code_cell {\n",
       "    background-color: rgb(256,256,256); \n",
       "    border-radius: 0px; \n",
       "    padding: 0.5em;\n",
       "    margin-left:1em;\n",
       "    margin-top: 1em;\n",
       "}\n",
       "\n",
       "div.text_cell_render{\n",
       "    font-family: 'Alegreya Sans' sans-serif;\n",
       "    line-height: 140%;\n",
       "    font-size: 125%;\n",
       "    font-weight: 400;\n",
       "    width:600px;\n",
       "    margin-left:auto;\n",
       "    margin-right:auto;\n",
       "}\n",
       "\n",
       "\n",
       "/* Formatting for header cells */\n",
       ".text_cell_render h1 {\n",
       "    font-family: 'Nixie One', serif;\n",
       "    font-style:regular;\n",
       "    font-weight: 400;    \n",
       "    font-size: 45pt;\n",
       "    line-height: 100%;\n",
       "    color: rgb(0,51,102);\n",
       "    margin-bottom: 0.5em;\n",
       "    margin-top: 0.5em;\n",
       "    display: block;\n",
       "}\n",
       "\n",
       ".text_cell_render h2 {\n",
       "    font-family: 'Nixie One', serif;\n",
       "    font-weight: 400;\n",
       "    font-size: 30pt;\n",
       "    line-height: 100%;\n",
       "    color: rgb(0,51,102);\n",
       "    margin-bottom: 0.1em;\n",
       "    margin-top: 0.3em;\n",
       "    display: block;\n",
       "}\t\n",
       "\n",
       ".text_cell_render h3 {\n",
       "    font-family: 'Nixie One', serif;\n",
       "    margin-top:16px;\n",
       "    font-size: 22pt;\n",
       "    font-weight: 600;\n",
       "    margin-bottom: 3px;\n",
       "    font-style: regular;\n",
       "    color: rgb(102,102,0);\n",
       "}\n",
       "\n",
       ".text_cell_render h4 {    /*Use this for captions*/\n",
       "    font-family: 'Nixie One', serif;\n",
       "    font-size: 14pt;\n",
       "    text-align: center;\n",
       "    margin-top: 0em;\n",
       "    margin-bottom: 2em;\n",
       "    font-style: regular;\n",
       "}\n",
       "\n",
       ".text_cell_render h5 {  /*Use this for small titles*/\n",
       "    font-family: 'Nixie One', sans-serif;\n",
       "    font-weight: 400;\n",
       "    font-size: 16pt;\n",
       "    color: rgb(163,0,0);\n",
       "    font-style: italic;\n",
       "    margin-bottom: .1em;\n",
       "    margin-top: 0.8em;\n",
       "    display: block;\n",
       "}\n",
       "\n",
       ".text_cell_render h6 { /*use this for copyright note*/\n",
       "    font-family: 'PT Mono', sans-serif;\n",
       "    font-weight: 300;\n",
       "    font-size: 9pt;\n",
       "    line-height: 100%;\n",
       "    color: grey;\n",
       "    margin-bottom: 1px;\n",
       "    margin-top: 1px;\n",
       "}\n",
       "\n",
       ".CodeMirror{\n",
       "    font-family: \"PT Mono\";\n",
       "    font-size: 90%;\n",
       "}\n",
       "\n",
       "</style>\n",
       "<script>\n",
       "    MathJax.Hub.Config({\n",
       "                        TeX: {\n",
       "                           extensions: [\"AMSmath.js\"],\n",
       "                           equationNumbers: { autoNumber: \"AMS\", useLabelIds: true}\n",
       "                           },\n",
       "                tex2jax: {\n",
       "                    inlineMath: [ ['$','$'], [\"\\\\(\",\"\\\\)\"] ],\n",
       "                    displayMath: [ ['$$','$$'], [\"\\\\[\",\"\\\\]\"] ]\n",
       "                },\n",
       "                displayAlign: 'center', // Change this to 'center' to center equations.\n",
       "                \"HTML-CSS\": {\n",
       "                    styles: {'.MathJax_Display': {\"margin\": 4}}\n",
       "                }\n",
       "        });\n",
       "</script>\n"
      ],
      "text/plain": [
       "<IPython.core.display.HTML object>"
      ]
     },
     "execution_count": 1,
     "metadata": {},
     "output_type": "execute_result"
    }
   ],
   "source": [
    "from IPython.core.display import HTML\n",
    "css_file = './numericalmoocstyle.css'\n",
    "HTML(open(css_file, \"r\").read())"
   ]
  },
  {
   "cell_type": "code",
   "execution_count": 2,
   "metadata": {
    "collapsed": false
   },
   "outputs": [],
   "source": [
    "import numpy\n",
    "#\n",
    "import math\n",
    "#\n",
    "import scipy\n",
    "from scipy import constants\n",
    "#\n",
    "import matplotlib.pyplot\n",
    "%matplotlib inline\n",
    "#\n",
    "from mpl_toolkits.mplot3d import Axes3D\n",
    "from matplotlib import pyplot, cm\n",
    "#\n",
    "from matplotlib import rcParams\n",
    "rcParams['font.family'] = 'serif'\n",
    "rcParams['font.size'] = 16\n",
    "#\n",
    "from JSAnimation.IPython_display import display_animation\n",
    "# from JSAnimation import IPython_display\n",
    "#\n",
    "from moviepy.editor import *\n",
    "# \n",
    "import timeit\n",
    "import numba\n",
    "from numba import jit\n",
    "#\n",
    "import sys\n",
    "from sys import exit"
   ]
  },
  {
   "cell_type": "code",
   "execution_count": 3,
   "metadata": {
    "collapsed": true
   },
   "outputs": [],
   "source": [
    "def plot(v1, v2, xlabl, ylabl, title):\n",
    "    ''' a function for plots\n",
    "    \n",
    "    Parameters\n",
    "    ----------\n",
    "    v1: x-axis vector\n",
    "    v2: y-axis vector\n",
    "    xlabl: label for x-axis values\n",
    "    ylabl: label for y-axis values\n",
    "    title: plot title\n",
    "    \n",
    "    Return:\n",
    "    -------\n",
    "    Plot!\n",
    "    '''\n",
    "    #\n",
    "    pyplot.figure(figsize=(8,8))\n",
    "    pyplot.grid(True)\n",
    "    #\n",
    "    pyplot.xlabel(xlabl, fontsize=18)\n",
    "    pyplot.ylabel(ylabl, fontsize=18)\n",
    "    #\n",
    "    pyplot.tick_params(axis='x', pad=10)\n",
    "    pyplot.tick_params(axis='y', pad=10)\n",
    "    #\n",
    "    pyplot.xticks(numpy.arange(0, Lgap+0.001, 0.001))\n",
    "    #\n",
    "    pyplot.title(title)\n",
    "    pyplot.plot(v1,v2, color='k', ls='--', lw=2, marker='o');"
   ]
  },
  {
   "cell_type": "code",
   "execution_count": 4,
   "metadata": {
    "collapsed": true
   },
   "outputs": [],
   "source": [
    "def plot2(v1, v2, xlabl, ylabl, title, end_number):\n",
    "    ''' a function for plots\n",
    "    \n",
    "    Parameters\n",
    "    ----------\n",
    "    v1: x-axis vector\n",
    "    v2: y-axis vector\n",
    "    xlabl: label for x-axis values\n",
    "    ylabl: label for y-axis values\n",
    "    title: plot title\n",
    "    \n",
    "    Return:\n",
    "    -------\n",
    "    Plot!\n",
    "    '''\n",
    "    #\n",
    "    pyplot.figure(figsize=(8,8))\n",
    "    pyplot.grid(True)\n",
    "    #\n",
    "    pyplot.xlabel(xlabl, fontsize=18)\n",
    "    pyplot.ylabel(ylabl, fontsize=18)\n",
    "    #\n",
    "    pyplot.tick_params(axis='x', pad=10)\n",
    "    pyplot.tick_params(axis='y', pad=10)\n",
    "    #\n",
    "    pyplot.xticks(numpy.arange(0, end_number+end_number/5, end_number/5))\n",
    "    #\n",
    "    pyplot.title(title)\n",
    "    pyplot.plot(v1,v2, color='k', ls='--', lw=2, marker='o');"
   ]
  },
  {
   "cell_type": "markdown",
   "metadata": {},
   "source": [
    "### Domain"
   ]
  },
  {
   "cell_type": "code",
   "execution_count": 5,
   "metadata": {
    "collapsed": true
   },
   "outputs": [],
   "source": [
    "def get_domain(Ld, n_gap):\n",
    "    ''' This function obtains the domain based on a \n",
    "    staggered grid. The domain is divided into three parts:\n",
    "    (1) anode region, (2) gap, (3) cathode.\n",
    "    \n",
    "    However the electrodes region is not modeled here and only the gap is considered\n",
    "    with inlet boundary condition at the anode and an outlet boundary condition at the\n",
    "    cathode\n",
    "    \n",
    "    Parameters:\n",
    "    ----------\n",
    "    Ld: Domain Length\n",
    "    n_gap: number of boundary nodes in gap\n",
    "    \n",
    "    Returns:\n",
    "    --------\n",
    "    gap domain from x = 0 to x = length (this is the length of the interelectrode gap)\n",
    "    '''\n",
    "    #staggered grid approach\n",
    "    #gap region\n",
    "    xl_gap = 0.0\n",
    "    xr_gap = Ld\n",
    "    delx_gap = (xr_gap-xl_gap)/(n_gap-1.0)\n",
    "    xb_gap = numpy.linspace(xl_gap, xr_gap, n_gap)\n",
    "    xc_gap = xb_gap[:-1]+(delx_gap*0.5)\n",
    "    #\n",
    "    return delx_gap, xb_gap, xc_gap"
   ]
  },
  {
   "cell_type": "code",
   "execution_count": 6,
   "metadata": {
    "collapsed": false
   },
   "outputs": [],
   "source": [
    "Lgap = 0.004 #interelectrode gap [meters]\n",
    "nx_gap = 121\n",
    "Ran = 6.35/2. * 1./1000.  #anode radius [meters]\n",
    "#get cell boundary and cell center locations\n",
    "dx, xb, xc = get_domain(Lgap,nx_gap)\n",
    "dxplot, xbplot, xcplot = get_domain(Lgap,21)\n",
    "#error for pressure equation\n",
    "l2_target = 1e-7\n",
    "#time step\n",
    "dt = 4e-9 #{sec} time step"
   ]
  },
  {
   "cell_type": "code",
   "execution_count": 7,
   "metadata": {
    "collapsed": false
   },
   "outputs": [
    {
     "data": {
      "text/plain": [
       "(121,)"
      ]
     },
     "execution_count": 7,
     "metadata": {},
     "output_type": "execute_result"
    }
   ],
   "source": [
    "numpy.shape(xb)"
   ]
  },
  {
   "cell_type": "code",
   "execution_count": 8,
   "metadata": {
    "collapsed": false
   },
   "outputs": [
    {
     "data": {
      "text/plain": [
       "(120,)"
      ]
     },
     "execution_count": 8,
     "metadata": {},
     "output_type": "execute_result"
    }
   ],
   "source": [
    "numpy.shape(xc)"
   ]
  },
  {
   "cell_type": "code",
   "execution_count": 9,
   "metadata": {
    "collapsed": false
   },
   "outputs": [
    {
     "data": {
      "image/png": "[encoded data removed]",
      "text/plain": [
       "<matplotlib.figure.Figure at 0x114fa9978>"
      ]
     },
     "metadata": {},
     "output_type": "display_data"
    }
   ],
   "source": [
    "Xc_gap = numpy.meshgrid(xcplot)\n",
    "Xb_gap = numpy.meshgrid(xbplot)\n",
    "#\n",
    "pyplot.title('One Dimensional Domain for Interelectrode Gap',fontsize=14)\n",
    "pyplot.ylim(-.0002,0.0002)\n",
    "pyplot.xlim(0., Lgap)\n",
    "pyplot.scatter(Xb_gap,numpy.zeros_like(Xb_gap),\\\n",
    "                   s=10, color='b', marker='o', linewidth=5)\n",
    "pyplot.scatter(Xc_gap,numpy.zeros_like(Xc_gap), \\\n",
    "                   s=10, color='r', marker='o', linewidth=5)\n",
    "pyplot.xticks(numpy.arange(0, Lgap+0.001, 0.001))\n",
    "pyplot.yticks(numpy.arange(0, 0.0002, 0.001));\n",
    "#pyplot.savefig('1d_domain_ablation.png')"
   ]
  },
  {
   "cell_type": "markdown",
   "metadata": {},
   "source": [
    "Note that velocities are calculated on the cell boundaries (blue), and the pressure, density,electrical conductivity, potential, current density and temperature are calculated on the cell center (red)"
   ]
  },
  {
   "cell_type": "markdown",
   "metadata": {},
   "source": [
    "### Initialization"
   ]
  },
  {
   "cell_type": "code",
   "execution_count": 10,
   "metadata": {
    "collapsed": true
   },
   "outputs": [],
   "source": [
    "def L2_error(p_new, p_old):\n",
    "    '''This function computes the L2 norm of the error for convergence\n",
    "    \n",
    "    This function is used for convergence of the pressure equation\n",
    "\n",
    "    Parameters:\n",
    "    ----------\n",
    "    p_new: new computed potential in flow field\n",
    "    p_old: previous flow field potential\n",
    "    \n",
    "    Returns:\n",
    "    ----------\n",
    "    L2 norm of the error\n",
    "    \n",
    "    '''\n",
    "    return numpy.sqrt(numpy.sum((p_new[:] - p_old[:])**2)\\\n",
    "                      /numpy.sum(p_old[:]**2))"
   ]
  },
  {
   "cell_type": "code",
   "execution_count": 11,
   "metadata": {
    "collapsed": false
   },
   "outputs": [],
   "source": [
    "#Input Current\n",
    "I_arc = 60.0\n",
    "\n",
    "#Initialization Variables\n",
    "#gamma1 = 5.0/3.0\n",
    "#gravity = 9.81\n",
    "\n",
    "# collision radii, set equal to van der waal radii:\n",
    "RSCD_N_B = (1.55 + 1.92) #nitrogen-boron\n",
    "RSCD_N_Ni = (1.55 + 1.63) #nitrogen-nickel\n",
    "RSCD_N_Co = (1.55 + 1.63) #nitrogen-cobalt, note that cobalt radius not available \n",
    "\n",
    "#Constants\n",
    "Ckb = scipy.constants.k  #Boltzmann Constant J/K\n",
    "Cme = scipy.constants.m_e #Elementary Electron Mass kg\n",
    "Ch = scipy.constants.h; # Planck's constant Js\n",
    "CA = 1.2e6 #Richardson constant in electron current density eqn [A/(m^2 K^2)], pg.62\n",
    "CNA = scipy.constants.N_A #avogadros number\n",
    "Ce = scipy.constants.e #elementary charge, C\n",
    "\n",
    "#Boron\n",
    "rho_B = 2460. #kg/m3\n",
    "M_B = 10.811e-3/CNA #kg, mass of 1 atom of pure boron (also = Ckb/M)\n",
    "mB = 10.811 # molar mass g/mol\n",
    "Ips1 = 800.6e3/CNA #J, energy of first ionization\n",
    "cp_B = 1030. # J/(Kg K)\n",
    "R_B = 8314.0/mB #specific gas constant\n",
    "Boron_workfunction = 4.45 #eV\n",
    "dH_B = 507e6/mB #heat of vaporization J/Kg\n",
    "Uiz_B = 8.2980 #eV\n",
    "k_B = 27. #W/(mK)\n",
    "\n",
    "#Nickel\n",
    "rho_Ni = 8908\n",
    "M_Ni = 58.6934e-3/CNA #kg, mass of 1 atom of pure nickel (also = Ckb/M)\n",
    "mNi = 58.6934 # molar mass g/mol\n",
    "Ips2 = 737.1e3/CNA #J, energy of first ionization\n",
    "cp_Ni = 445. # J/(Kg K)\n",
    "R_Ni = 8314.0/mNi #specific gas constant\n",
    "Nickel_workfunction = 5.01 #eV\n",
    "dH_Ni = 378e6/mNi #heat of vaporization J/Kg\n",
    "Uiz_Ni = 7.6398 #eV\n",
    "k_Ni = 91. #W/(m K)\n",
    "\n",
    "#Cobalt\n",
    "rho_Co = 8900.\n",
    "M_Co = 58.9332/CNA #kg, mass of 1 atom of pure cobalt (also = Ckb/M)\n",
    "mCo = 58.9332 # molar mass g/mol\n",
    "Ips3 = 760.4e3/CNA #J, energy of first ionization\n",
    "cp_Co = 418.68# J/(Kg K)\n",
    "R_Co = 8314.0/mCo #specific gas constant\n",
    "Cobalt_workfunction = 5.0 #eV\n",
    "dH_Co = 375e6/mCo #heat of vaporization J/Kg\n",
    "Uiz_Co = 7.8810 #eV\n",
    "k_Co = 100. #W/(m K)\n",
    "\n",
    "#Nitrogen gas\n",
    "rho_N = 1.25\n",
    "M_N = (2*14.0067)/CNA # kg, mass of 1 atom of Helium\n",
    "mN = (2*14.0067) #molar mass, g/mol\n",
    "Ipg1 = 1402.3e3/CNA; # J, energy of first ionization\n",
    "R_N = 8314.0/mN #specific gas constant\n",
    "cp_N = 1039. #J/Kg-K\n",
    "Uiz_N = 14.5341 #eV\n",
    "k_N = 0.02583 #W/(m K)"
   ]
  },
  {
   "cell_type": "code",
   "execution_count": 12,
   "metadata": {
    "collapsed": false
   },
   "outputs": [],
   "source": [
    "#composition of ingot (grams)\n",
    "WB = 2.00\n",
    "WNi = 0.5*(WB*(1-0.99))/0.99\n",
    "WCo = 0.5*(WB*(1-0.99))/0.99\n",
    "Wtotal = WB+WNi+WCo\n",
    "\n",
    "#mass fractions\n",
    "wB = WB/(Wtotal)\n",
    "wNi = WNi/(Wtotal)\n",
    "wCo = WCo/(Wtotal)\n",
    "\n",
    "#molar fractions\n",
    "xtotal = WB/mB + WNi/mNi + WCo/mCo\n",
    "xB = (WB/mB)/xtotal\n",
    "xNi = (WNi/mNi)/xtotal\n",
    "xCo = (WCo/mCo)/xtotal\n",
    "xN = 0.\n",
    "\n",
    "#molar mass of evaporated anode material\n",
    "molmass_evap = 1/((wB/mB)+(wNi/mNi)+(wCo/mCo))\n",
    "\n",
    "rho_an_max = 0.99*(rho_B) + 0.005*(rho_Ni+rho_Co)\n",
    "Rs_an = 0.99*(R_B) + 0.005*(R_Ni+R_Co)\n",
    "MW_evap = 0.99*M_B  + 0.005*(M_Ni + M_Co)\n",
    "k_an = 0.99*k_B  + 0.005*(k_Ni + k_Co)\n",
    "cp_an = 0.99*cp_B  + 0.005*(cp_Ni + cp_Co)\n",
    "Uiz_an = 0.99*Uiz_B  + 0.005*(Uiz_Ni + Uiz_Co)\n",
    "dH_an = 0.99*dH_B  + 0.005*(dH_Ni + dH_Co)\n",
    "anode_workfunction = 0.99*Boron_workfunction +\\\n",
    "                    0.005*(Nickel_workfunction+Cobalt_workfunction) #anode material"
   ]
  },
  {
   "cell_type": "code",
   "execution_count": 13,
   "metadata": {
    "collapsed": false
   },
   "outputs": [
    {
     "data": {
      "text/plain": [
       "5.075642769874852e-25"
      ]
     },
     "execution_count": 13,
     "metadata": {},
     "output_type": "execute_result"
    }
   ],
   "source": [
    "MW_evap #kg"
   ]
  },
  {
   "cell_type": "code",
   "execution_count": 14,
   "metadata": {
    "collapsed": false
   },
   "outputs": [
    {
     "data": {
      "text/plain": [
       "10.899963350292108"
      ]
     },
     "execution_count": 14,
     "metadata": {},
     "output_type": "execute_result"
    }
   ],
   "source": [
    "molmass_evap #g/mol"
   ]
  },
  {
   "cell_type": "markdown",
   "metadata": {},
   "source": [
    "##### Initial Conditions"
   ]
  },
  {
   "cell_type": "code",
   "execution_count": 15,
   "metadata": {
    "collapsed": false
   },
   "outputs": [],
   "source": [
    "def get_initial_conditions(x1,x2,I_input,R_anode):\n",
    "    '''\n",
    "    - Defines initial arrays\n",
    "    - Adds two ghost cells to represent nodes on anode and cathode,\n",
    "        for boundary conditions\n",
    "    \n",
    "    Parameters:\n",
    "    -----------\n",
    "    x1: boundary x locations\n",
    "    x2: center cell x locations\n",
    "    I_input: arc current input\n",
    "    R_anode: anode radius\n",
    "    \n",
    "    Returns:\n",
    "    -------\n",
    "    Arrays!\n",
    "    Tx: temperature \n",
    "    jx: current density\n",
    "    phix: electric potential\n",
    "    cpx: specific heat\n",
    "    visc: viscosity (mu)\n",
    "    ux: velocity\n",
    "    kx: thermal conductivity\n",
    "    rhox: density\n",
    "    Px: pressure\n",
    "    hx: enthalpy\n",
    "    econdx: electrical conductivity\n",
    "    nex: number density of electrons\n",
    "    \n",
    "    Consistent with the staggered grid approach, the velocity is calculated on the\n",
    "    cell boundaries and all of the other values are computed on the cell centers.\n",
    "    '''\n",
    "    Tref = 300.0 # initial reference temperature\n",
    "    #\n",
    "    a = numpy.size(x1) + 2 #this is to add ghost cells, these are boundary cells\n",
    "    b = numpy.size(x2) + 2 #this is to add ghost cells, these are center cells\n",
    "    #-------------------------------------------------------------------------\n",
    "    #initialize arrays\n",
    "    #grid 1 (cell edges)\n",
    "    ux = numpy.zeros((a),dtype=float) #velocity\n",
    "    #grid 2 cell centers-----------------------\n",
    "    jx = numpy.zeros((b), dtype=float) #current density\n",
    "    phix = numpy.zeros((b),dtype=float) #electric potential\n",
    "    econdx = numpy.zeros((b),dtype=float) #electrical conductivity\n",
    "    rhox = numpy.zeros((b),dtype=float) #density\n",
    "    nex = numpy.zeros((b), dtype=float) #number density of electrons\n",
    "    #\n",
    "    cpx = numpy.zeros((b),dtype=float) #specific heat\n",
    "    Tx = numpy.zeros((b),dtype=float) #temperature\n",
    "    visc = numpy.zeros((b),dtype=float) #viscosity\n",
    "    kx = numpy.zeros((b),dtype=float) #thermal conductivity\n",
    "    Px = numpy.zeros((b),dtype=float) # pressure\n",
    "    hx = numpy.zeros((b),dtype=float) #enthalpy\n",
    "    Rs = numpy.zeros((b),dtype=float) # specific gas constant\n",
    "    #-------------------------------------------------------------------------\n",
    "    jx[:] = I_input/(numpy.pi*(R_anode**2)) #current density \n",
    "    # electric potential\n",
    "    phix[:] = 0.0\n",
    "    # specific heat\n",
    "    cpx[1:] = cp_N #J/(kg-K) of helium\n",
    "    cpx[0] = cp_an\n",
    "    # temperature\n",
    "    Tx[:] = Tref #kelvin # assume uniform temperature\n",
    "    #enthalpy\n",
    "    hx[:] = cpx[:]*Tx[:]\n",
    "    # viscosity\n",
    "    visc[:] = 1.76e-6 #of Nitrogen Pa·s = kg/(s·m)\n",
    "    # velocity, assume still\n",
    "    ux[:] = 0. # m/s\n",
    "    # thermal conductivity\n",
    "    kx[1:] = 0.02583  # W/(m-K)\n",
    "    kx[0] = k_an\n",
    "    # electrical conductivity\n",
    "    econdx[:] = I_input # Siemens/meter\n",
    "    # number density of electrons\n",
    "    nex[:] = 1e6 # 1/m3, number density of electrons\n",
    "    # density\n",
    "    rhox[0] = rho_N #nitrogen, this is anode material but set as nitrogen to start\n",
    "    rhox[1:] = rho_N #nitrogen\n",
    "    #\n",
    "    Px[:] = (rhox[:])*R_N*Tx[:] #+ (nex[:])*Ckb*Tx[:] #50662.5 #\n",
    "    #\n",
    "    return Tx, jx, phix, cpx,visc, ux, kx, rhox, Px, hx, econdx, nex"
   ]
  },
  {
   "cell_type": "code",
   "execution_count": 16,
   "metadata": {
    "collapsed": false
   },
   "outputs": [],
   "source": [
    "T0,j0,phi0,cp0,mu0,u0,\\\n",
    "k0,rho0,p0,h0,econd0,ne0 = get_initial_conditions(xb,xc,I_arc,Ran)"
   ]
  },
  {
   "cell_type": "markdown",
   "metadata": {},
   "source": [
    "##### reference values"
   ]
  },
  {
   "cell_type": "code",
   "execution_count": 17,
   "metadata": {
    "collapsed": true
   },
   "outputs": [],
   "source": [
    "# reference values are stored (n-1) time step,\n",
    "# because they are used in the energy equation \n",
    "pref = p0.copy() \n",
    "Tref = T0.copy()\n",
    "rhoref = rho0.copy()\n",
    "nexnref = ne0.copy()\n",
    "uxnref = u0.copy()\n",
    "jn = j0.copy()\n",
    "Tn = T0.copy()\n",
    "#\n",
    "numx = numpy.size(p0) #number of center nodes with ghost cells"
   ]
  },
  {
   "cell_type": "markdown",
   "metadata": {},
   "source": [
    "##### potential algorithm"
   ]
  },
  {
   "cell_type": "code",
   "execution_count": 18,
   "metadata": {
    "collapsed": true
   },
   "outputs": [],
   "source": [
    "def get_electric_potential(current_density,electrical_conductivity,\\\n",
    "                           electric_potential, center_nodes, delx):\n",
    "    ''' Defines the electric potential field.\n",
    "    \n",
    "    This function obtains the electric potential based on two solutions to the \n",
    "    ordinary differential equation.\n",
    "    \n",
    "    Solution 1: B^2 - 4AC = 0\n",
    "    Solution 2: B^2 - 4AC > 0\n",
    "    \n",
    "    Parameters\n",
    "    ----------\n",
    "    current_density: current density in the domain, constant current is assumed\n",
    "    electrical_conductivity: \n",
    "    electric_potential: electric potential is solved from d/dx{-econd d/dx(phi)} =0\n",
    "    center_nodes: cell-center nodes are used to solve electric potential\n",
    "    delx: x-direction spacing\n",
    "    \n",
    "    Returns:\n",
    "    --------\n",
    "    electric potential\n",
    "    '''\n",
    "    jx = current_density.copy()\n",
    "    #\n",
    "    xc_nodes = center_nodes.copy()\n",
    "    x_an = xc_nodes[0] - 0.5*delx\n",
    "    x_cath = xc_nodes[-1] + 0.5*delx\n",
    "    #\n",
    "    array_size = electrical_conductivity.size\n",
    "    eratio = numpy.zeros_like(center_nodes)\n",
    "    #\n",
    "    A = numpy.zeros_like(electrical_conductivity)\n",
    "    B = numpy.zeros_like(electrical_conductivity)\n",
    "    #\n",
    "    C1 = numpy.zeros_like(electrical_conductivity)\n",
    "    C2 = numpy.zeros_like(electrical_conductivity)\n",
    "    #\n",
    "    econdx = electrical_conductivity.copy()\n",
    "    phix = electric_potential.copy()\n",
    "    #\n",
    "    jx_anode = I_arc/(numpy.pi*(Ran**2)) \n",
    "    econdx_anode = 1e5 #electrical conductivity max\n",
    "    anode_potential = jx_anode*delx/econdx_anode\n",
    "    #\n",
    "    cathode_potential =  -1.\n",
    "    #\n",
    "    A[1:-1] =  - econdx[1:-1]\n",
    "    B[1:-1] = - (0.5/delx)*(econdx[2:] - econdx[:-2])\n",
    "    #\n",
    "    for i in range(1,array_size-1):\n",
    "        if (B[i]**2 == 0.0 ):\n",
    "            # general solution constants\n",
    "            C2[i] = (cathode_potential/(numpy.exp((-B[i]/A[i])*x_cath)) -\\\n",
    "                     anode_potential)/(x_cath-x_an)\n",
    "            C1[i] = (anode_potential/(numpy.exp((-B[i]/A[i])*x_an))) -\\\n",
    "                     anode_potential\n",
    "            # potential solution\n",
    "            phix[i] = C1[i]*numpy.exp((-B[i]/A[i])*xc_nodes[i-1]) +\\\n",
    "                      C2[i]*xc_nodes[i-1]*numpy.exp((-B[i]/A[i])*xc_nodes[i-1])\n",
    "        if (B[i]**2 > 0.0):\n",
    "            #print('using {B**2 > 0} solution for potential')\n",
    "            eratio[:] = numpy.exp((-B[i]/A[i])*x_cath)/numpy.exp((-B[i]/A[i])*x_an)\n",
    "            C2[i] = (cathode_potential-anode_potential*eratio[i-1])/(1.-eratio[i-1])\n",
    "            C1[i] = (anode_potential-C2[i])/numpy.exp((-B[i]/A[i])*x_an)\n",
    "            #potential solution\n",
    "            phix[i] = C1[i]*numpy.exp((-B[i]/A[i])*xc_nodes[i-1]) + C2[i]\n",
    "    #\n",
    "    phix[0] = jx_anode*delx/econdx_anode\n",
    "    phix[-1] = cathode_potential\n",
    "    #\n",
    "    return phix"
   ]
  },
  {
   "cell_type": "code",
   "execution_count": 19,
   "metadata": {
    "collapsed": false
   },
   "outputs": [],
   "source": [
    "phin = get_electric_potential(j0.copy(),econd0.copy(), phi0.copy(), xc.copy(), dx)"
   ]
  },
  {
   "cell_type": "markdown",
   "metadata": {},
   "source": [
    "##### Ablation of Anode"
   ]
  },
  {
   "cell_type": "code",
   "execution_count": 20,
   "metadata": {
    "collapsed": true
   },
   "outputs": [],
   "source": [
    "def get_anode_temperature(anode_temperature):\n",
    "    ''' computes the anode temperature \n",
    "    '''\n",
    "    Tan = anode_temperature\n",
    "    return Tan"
   ]
  },
  {
   "cell_type": "code",
   "execution_count": 21,
   "metadata": {
    "collapsed": false
   },
   "outputs": [
    {
     "data": {
      "text/plain": [
       "300.0"
      ]
     },
     "execution_count": 21,
     "metadata": {},
     "output_type": "execute_result"
    }
   ],
   "source": [
    "Tanode = get_anode_temperature(Tn[0])\n",
    "Tanode"
   ]
  },
  {
   "cell_type": "code",
   "execution_count": 22,
   "metadata": {
    "collapsed": false
   },
   "outputs": [
    {
     "data": {
      "text/plain": [
       "1.0"
      ]
     },
     "execution_count": 22,
     "metadata": {},
     "output_type": "execute_result"
    }
   ],
   "source": [
    "xB+xNi+xCo"
   ]
  },
  {
   "cell_type": "code",
   "execution_count": 23,
   "metadata": {
    "collapsed": true
   },
   "outputs": [],
   "source": [
    "def get_saturation_pressure(anode_temperature,molar_fraction_s1,\\\n",
    "                            molar_fraction_s2,molar_fraction_s3):\n",
    "    ''' Defines saturation pressure at anode based on curves\n",
    "    \n",
    "    s1: Boron\n",
    "    s2: Nickel\n",
    "    s3: Cobalt\n",
    "    \n",
    "    Returns:\n",
    "    --------\n",
    "    Psat: Total saturation pressure [Pa]\n",
    "    '''\n",
    "    # Boron saturation pressure (using carbon curves for now)\n",
    "    xs1 = molar_fraction_s1\n",
    "    A_s1 = 15.73\n",
    "    B_s1 = 40030.0\n",
    "    psat_s1 = (0.133*numpy.exp(2.3*(A_s1 - B_s1/anode_temperature)))\n",
    "    # Nickel saturation pressure\n",
    "    xs2 = molar_fraction_s2\n",
    "    A_s2 = 12.75\n",
    "    B_s2 = 20960.0\n",
    "    psat_s2 = (0.133*numpy.exp(2.3*(A_s2 - B_s2/anode_temperature)))\n",
    "    # Cobalt saturation pressure (use nickel for now)\n",
    "    xs3 = molar_fraction_s3\n",
    "    A_s3 = 12.75\n",
    "    B_s3 = 20960.0\n",
    "    psat_s3 = (0.133*numpy.exp(2.3*(A_s3 - B_s3/anode_temperature)))\n",
    "    #total saturation pressure\n",
    "    psat = xs1*psat_s1 + xs2*psat_s2 + xs3*psat_s3\n",
    "    #\n",
    "    return psat\n",
    "    "
   ]
  },
  {
   "cell_type": "code",
   "execution_count": 24,
   "metadata": {
    "collapsed": false
   },
   "outputs": [
    {
     "data": {
      "text/plain": [
       "2.1840404215416084e-61"
      ]
     },
     "execution_count": 24,
     "metadata": {},
     "output_type": "execute_result"
    }
   ],
   "source": [
    "Psaturation = get_saturation_pressure(Tanode,xB, xNi, xCo)\n",
    "Psaturation"
   ]
  },
  {
   "cell_type": "code",
   "execution_count": 25,
   "metadata": {
    "collapsed": false
   },
   "outputs": [],
   "source": [
    "def get_ablation_rate(anode_temperature, saturation_pressure,molar_mass_anode):\n",
    "    '''\n",
    "    #\n",
    "    Another method:\n",
    "    abl_rate_v2 = saturation_pressure*numpy.sqrt(molecular_weight_anode/\\\n",
    "                    (2*numpy.pi*Ckb*anode_temperature))\n",
    "    also input: molecular_weight_anode\n",
    "    \n",
    "    Defines ablation rate in { kg } / { m2 s }\n",
    "    \n",
    "    Parameters:\n",
    "    -----------\n",
    "    anode temperature\n",
    "    molar_mass_anode (g/mol)\n",
    "    molecular weight of anode material in kg (DO NOT USE molar mass here!!)\n",
    "    total saturation pressure \n",
    "    \n",
    "    Returns:\n",
    "    --------\n",
    "    mass flux of evaporated material\n",
    "    '''\n",
    "    #\n",
    "    Ru = 8134.\n",
    "    abl_rate = saturation_pressure*\\\n",
    "                numpy.sqrt(molar_mass_anode/(2*numpy.pi*Ru*anode_temperature))\n",
    "\n",
    "    #\n",
    "    return abl_rate"
   ]
  },
  {
   "cell_type": "code",
   "execution_count": 26,
   "metadata": {
    "collapsed": false
   },
   "outputs": [],
   "source": [
    "ablrate = get_ablation_rate(Tanode,Psaturation,molmass_evap)"
   ]
  },
  {
   "cell_type": "code",
   "execution_count": 27,
   "metadata": {
    "collapsed": false
   },
   "outputs": [
    {
     "data": {
      "text/plain": [
       "1.8414950049224023e-64"
      ]
     },
     "execution_count": 27,
     "metadata": {},
     "output_type": "execute_result"
    }
   ],
   "source": [
    "ablrate #kg/(m2 sec)"
   ]
  },
  {
   "cell_type": "code",
   "execution_count": 28,
   "metadata": {
    "collapsed": true
   },
   "outputs": [],
   "source": [
    "def get_velocity_of_evaporated_mass(anode_temperature,molar_mass_anode):\n",
    "    ''' Defines velocity of evaporated mass using thermal velocity\n",
    "    \n",
    "    Returns:\n",
    "    --------\n",
    "    thermal velocity of evaporated mass [m/s]\n",
    "    '''\n",
    "    Ru = 8134.\n",
    "    vth_evap = 0.5*numpy.sqrt((8*Ru*anode_temperature)/\\\n",
    "                              (molar_mass_anode*numpy.pi))\n",
    "    return vth_evap"
   ]
  },
  {
   "cell_type": "code",
   "execution_count": 29,
   "metadata": {
    "collapsed": false
   },
   "outputs": [
    {
     "data": {
      "text/plain": [
       "377.52025182984534"
      ]
     },
     "execution_count": 29,
     "metadata": {},
     "output_type": "execute_result"
    }
   ],
   "source": [
    "velocity_evap = get_velocity_of_evaporated_mass(Tanode,molmass_evap)\n",
    "velocity_evap #m/s"
   ]
  },
  {
   "cell_type": "code",
   "execution_count": 30,
   "metadata": {
    "collapsed": true
   },
   "outputs": [],
   "source": [
    "def get_density_of_evaporated_mass(ablation_rate, velocity_evaporated_mass):\n",
    "    ''' \n",
    "    Calculates the density of evaporated material \n",
    "    \n",
    "    Have also tried:\n",
    "    density_evap = saturation_pressure/(Rs_an*anode_temperature)\n",
    "    also inpuy: saturation_pressure,anode_temperature\n",
    "    \n",
    "    Returns:\n",
    "    --------\n",
    "    Density of evaporated material [kg/m3]\n",
    "    '''\n",
    "    density_evap = ablation_rate/velocity_evaporated_mass \n",
    "    #\n",
    "    return density_evap"
   ]
  },
  {
   "cell_type": "code",
   "execution_count": 31,
   "metadata": {
    "collapsed": false
   },
   "outputs": [],
   "source": [
    "rho_evap = get_density_of_evaporated_mass(ablrate,velocity_evap)"
   ]
  },
  {
   "cell_type": "code",
   "execution_count": 32,
   "metadata": {
    "collapsed": false
   },
   "outputs": [
    {
     "data": {
      "text/plain": [
       "4.8778707791082817e-67"
      ]
     },
     "execution_count": 32,
     "metadata": {},
     "output_type": "execute_result"
    }
   ],
   "source": [
    "rho_evap"
   ]
  },
  {
   "cell_type": "markdown",
   "metadata": {},
   "source": [
    "##### Initial Species Concentrations"
   ]
  },
  {
   "cell_type": "code",
   "execution_count": 33,
   "metadata": {
    "collapsed": true
   },
   "outputs": [],
   "source": [
    "def get_initial_concentrations(density,evaporated_density,mass_fraction_s1,\\\n",
    "                               mass_fraction_s2, mass_fraction_s3,\\\n",
    "                               molar_mass_s1,molar_mass_s2,molar_mass_s3,\\\n",
    "                               molar_mass_g1, reference_pressure_interface,\\\n",
    "                               anode_temperature):\n",
    "    ''' defines initial concentrations for individual species in the domain\n",
    "    \n",
    "    Parameters:\n",
    "    -----------\n",
    "    density: total density in the domain\n",
    "    ablated_density: vapor density obtained from vapor pressure\n",
    "    \n",
    "    Returns:\n",
    "    -------\n",
    "    cs1: concentration of boron species\n",
    "    cs2: concentration of nickel species\n",
    "    cs3: concentration of cobalt species\n",
    "    cg1: concentration of nitrogen species\n",
    "    '''\n",
    "    rhox = density.copy()\n",
    "    #\n",
    "    cs1 = numpy.zeros_like(density)\n",
    "    cs2 = numpy.zeros_like(density)\n",
    "    cs3 = numpy.zeros_like(density)\n",
    "    cg1 = numpy.zeros_like(density)\n",
    "    #\n",
    "    ws1 = mass_fraction_s1\n",
    "    ws2 = mass_fraction_s2\n",
    "    ws3 = mass_fraction_s3\n",
    "    #\n",
    "    ms1 = molar_mass_s1\n",
    "    ms2 = molar_mass_s2\n",
    "    ms3 = molar_mass_s3\n",
    "    mg1 = molar_mass_g1\n",
    "    #\n",
    "    MW_interface = 1./( (1e-14/ms1) + (1e-14/ms2) + (1e-14/ms3) + (1.-3e-14)/mg1)\n",
    "    Rgas_interface = 8314./MW_interface\n",
    "    pref_interface = reference_pressure_interface\n",
    "    rho_interface = (pref_interface/(anode_temperature*Rgas_interface))+\\\n",
    "                        evaporated_density\n",
    "    rho_total_in = rho_interface + evaporated_density\n",
    "    #Concentration of boron\n",
    "    cs1[1:] = 1e-14\n",
    "    cs1[0] =  (ws1*evaporated_density + cs1[1]*rho_interface)/(rho_total_in)\n",
    "    #nickel\n",
    "    cs2[1:] = 1e-14\n",
    "    cs2[0] = (ws2*evaporated_density + cs2[1]*rho_interface)/(rho_total_in)\n",
    "    #cobalt\n",
    "    cs3[1:] = 1e-14\n",
    "    cs3[0] = (ws3*evaporated_density + cs3[1]*rho_interface)/(rho_total_in)\n",
    "    # nitrogen\n",
    "    cg1[:] = 1.-cs1[:]-cs2[:]-cs3[:]\n",
    "    #\n",
    "    return cs1, cs2, cs3, cg1"
   ]
  },
  {
   "cell_type": "code",
   "execution_count": 34,
   "metadata": {
    "collapsed": false
   },
   "outputs": [],
   "source": [
    "cB,cNi,cCo,cN = get_initial_concentrations(rho0.copy(),rho_evap,wB,wNi,wCo,\\\n",
    "                                          mB,mNi,mCo,mN,p0[1],Tanode)"
   ]
  },
  {
   "cell_type": "code",
   "execution_count": 35,
   "metadata": {
    "collapsed": false
   },
   "outputs": [
    {
     "data": {
      "text/plain": [
       "122"
      ]
     },
     "execution_count": 35,
     "metadata": {},
     "output_type": "execute_result"
    }
   ],
   "source": [
    "cB.size"
   ]
  },
  {
   "cell_type": "code",
   "execution_count": 36,
   "metadata": {
    "collapsed": false
   },
   "outputs": [
    {
     "data": {
      "text/plain": [
       "array([  1.00000000e-14,   1.00000000e-14,   1.00000000e-14,\n",
       "         1.00000000e-14,   1.00000000e-14,   1.00000000e-14,\n",
       "         1.00000000e-14,   1.00000000e-14,   1.00000000e-14,\n",
       "         1.00000000e-14])"
      ]
     },
     "execution_count": 36,
     "metadata": {},
     "output_type": "execute_result"
    }
   ],
   "source": [
    "cB[:10]"
   ]
  },
  {
   "cell_type": "code",
   "execution_count": 37,
   "metadata": {
    "collapsed": false
   },
   "outputs": [
    {
     "data": {
      "text/plain": [
       "array([  1.00000000e-14,   1.00000000e-14,   1.00000000e-14,\n",
       "         1.00000000e-14,   1.00000000e-14,   1.00000000e-14,\n",
       "         1.00000000e-14,   1.00000000e-14,   1.00000000e-14,\n",
       "         1.00000000e-14])"
      ]
     },
     "execution_count": 37,
     "metadata": {},
     "output_type": "execute_result"
    }
   ],
   "source": [
    "cNi[:10]"
   ]
  },
  {
   "cell_type": "code",
   "execution_count": 38,
   "metadata": {
    "collapsed": false
   },
   "outputs": [
    {
     "data": {
      "text/plain": [
       "array([  1.00000000e-14,   1.00000000e-14,   1.00000000e-14,\n",
       "         1.00000000e-14,   1.00000000e-14,   1.00000000e-14,\n",
       "         1.00000000e-14,   1.00000000e-14,   1.00000000e-14,\n",
       "         1.00000000e-14])"
      ]
     },
     "execution_count": 38,
     "metadata": {},
     "output_type": "execute_result"
    }
   ],
   "source": [
    "cCo[:10]"
   ]
  },
  {
   "cell_type": "code",
   "execution_count": 39,
   "metadata": {
    "collapsed": false
   },
   "outputs": [
    {
     "data": {
      "text/plain": [
       "array([ 1.,  1.,  1.,  1.,  1.,  1.,  1.,  1.,  1.,  1.])"
      ]
     },
     "execution_count": 39,
     "metadata": {},
     "output_type": "execute_result"
    }
   ],
   "source": [
    "cN[:10]"
   ]
  },
  {
   "cell_type": "markdown",
   "metadata": {},
   "source": [
    "##### Thermophysical Properties:  thermal conductivity, shear viscosity, and specific heat"
   ]
  },
  {
   "cell_type": "code",
   "execution_count": 40,
   "metadata": {
    "collapsed": true
   },
   "outputs": [],
   "source": [
    "def get_thermophysical_properties(temperature,concentration1,concentration2,\\\n",
    "                                 concentration3,concentration4):\n",
    "    '''finds viscosity, thermal conductivity\n",
    "    \n",
    "    Parameters:\n",
    "    -----------\n",
    "    mu: viscosity\n",
    "    kth: thermal conductivity\n",
    "    '''\n",
    "    cs1 = concentration4 #nitrogen\n",
    "    cs2 = concentration2 #boron\n",
    "    cs3 = concentration3 #nickel\n",
    "    cs4 = concentration1 #cobalt\n",
    "    #\n",
    "    mu = numpy.zeros_like(temperature) #viscosity\n",
    "    mus1 = numpy.zeros_like(temperature)\n",
    "    mus2 = numpy.zeros_like(temperature)\n",
    "    mus3 = numpy.zeros_like(temperature)\n",
    "    mus4 = numpy.zeros_like(temperature) \n",
    "    #\n",
    "    kth = numpy.zeros_like(temperature) #thermal conductivity\n",
    "    ks1 = numpy.zeros_like(temperature) #thermal conductivity s1\n",
    "    ks2 = numpy.zeros_like(temperature) #thermal conductivity s2\n",
    "    ks3 = numpy.zeros_like(temperature) #thermal conductivity s3\n",
    "    ks4 = numpy.zeros_like(temperature) #thermal conductivity s4\n",
    "    #\n",
    "    Tx = temperature.copy() # temperature\n",
    "    a = numpy.size(Tx)\n",
    "    #\n",
    "    #--------thermal conductivity---------\n",
    "    #conductivity of Nitrogen\n",
    "    aN4,bN4 = 1.1973364764750705e-11,-1.0022238377799794e-07 \n",
    "    cN4,dN4,eN4 = 0.00025655111953739039,-0.1423732005907308,33.464978104210182\n",
    "    ks1[:] = 1e-3*(aN4*(Tx[:]**4) + bN4*(Tx[:]**3) +\\\n",
    "                   cN4*(Tx[:]**2) + dN4*Tx[:] + eN4)\n",
    "    #conductivity of Boron\n",
    "    ks2[:] = k_B\n",
    "    #conductivity of Nickel\n",
    "    ks3[:] = k_Ni\n",
    "    #conductivity of Cobalt\n",
    "    ks4[:] = k_Co\n",
    "    # total viscosity\n",
    "    kth[:] = cs1[:]*ks1[:] + cs2[:]*ks2[:] + cs3[:]*ks3[:] + cs4[:]*ks4[:] \n",
    "    kth[-1] = kth[-2]#2*kth[-2] - kth[-3]\n",
    "    #\n",
    "    #--------dynamic viscosity------------------\n",
    "    #viscosity of nitrogen\n",
    "    aNmu,bNmu = 4.2177299011972125e-09, -4.8160156609647342e-05\n",
    "    cNmu,dNmu = 0.40073205811284623, 44.208627576799387\n",
    "    mus1[:] = 1e-7*(aNmu*(Tx[:]**3) + bNmu*(Tx[:]**2) + cNmu*(Tx[:]) + dNmu)\n",
    "    #viscosity of boron (gas)\n",
    "    mus2[:] = 5.4e-5 #viscosity used in carbon-helium simulation #1e-5 #2e-3\n",
    "    #viscosity of nickel (gas)\n",
    "    mus3[:] = 0.\n",
    "    #viscosity of viscosity (gas)\n",
    "    mus4[:] = 0.\n",
    "    #total viscosity\n",
    "    mu[:] = cs1[:]*mus1[:] + cs2[:]*mus2[:] + cs3[:]*mus3[:] + cs4[:]*mus4[:]\n",
    "    mu[-1] = mu[-2]#2*mu[-2] - mu[-3]\n",
    "    #\n",
    "    return kth,mu"
   ]
  },
  {
   "cell_type": "code",
   "execution_count": 41,
   "metadata": {
    "collapsed": false
   },
   "outputs": [],
   "source": [
    "# thermal conductivity and viscosity:\n",
    "kn, mun = get_thermophysical_properties(Tn.copy(),cB.copy(),cNi.copy(),\\\n",
    "                                        cCo.copy(),cN.copy())"
   ]
  },
  {
   "cell_type": "code",
   "execution_count": 42,
   "metadata": {
    "collapsed": false
   },
   "outputs": [
    {
     "data": {
      "text/plain": [
       "array([ 0.0112336,  0.0112336,  0.0112336,  0.0112336,  0.0112336,\n",
       "        0.0112336,  0.0112336,  0.0112336,  0.0112336,  0.0112336])"
      ]
     },
     "execution_count": 42,
     "metadata": {},
     "output_type": "execute_result"
    }
   ],
   "source": [
    "kn[:10]"
   ]
  },
  {
   "cell_type": "code",
   "execution_count": 43,
   "metadata": {
    "collapsed": false
   },
   "outputs": [
    {
     "data": {
      "text/plain": [
       "array([  1.60207710e-05,   1.60207710e-05,   1.60207710e-05,\n",
       "         1.60207710e-05,   1.60207710e-05,   1.60207710e-05,\n",
       "         1.60207710e-05,   1.60207710e-05,   1.60207710e-05,\n",
       "         1.60207710e-05])"
      ]
     },
     "execution_count": 43,
     "metadata": {},
     "output_type": "execute_result"
    }
   ],
   "source": [
    "mun[:10]"
   ]
  },
  {
   "cell_type": "code",
   "execution_count": 44,
   "metadata": {
    "collapsed": true
   },
   "outputs": [],
   "source": [
    "def get_specific_heat(temperature,concentration1,concentration2,concentration3,\\\n",
    "                      concentration4):\n",
    "    '''\n",
    "    \n",
    "    old values used:\n",
    "    #     cp_s1[:] = 1030.\n",
    "    #     cp_s2[:] = 725.0\n",
    "    #     cp_s3[:] = 421.\n",
    "    #     cp_g1[:] = 1040.\n",
    "    \n",
    "    This if for BN  \n",
    "    #cp_total[:] = 3.46 + (7.24e-3)*Tx[:] # this is for Boron Nitride\n",
    "    \n",
    "    ref:thermodynamic properties of 65 elements\n",
    "    '''\n",
    "    Tx = temperature.copy()\n",
    "    #\n",
    "    cp_s1 = numpy.zeros_like(temperature) #boron\n",
    "    cp_s2 = numpy.zeros_like(temperature) #nickel\n",
    "    cp_s3 = numpy.zeros_like(temperature) #cobalt\n",
    "    cp_g1 = numpy.zeros_like(temperature) #nitrogen\n",
    "    #\n",
    "    c1 = concentration1.copy()\n",
    "    c2 = concentration2.copy()\n",
    "    c3 = concentration3.copy()\n",
    "    cg1 = concentration4.copy()\n",
    "    #\n",
    "    array_size = numpy.size(temperature)\n",
    "    cp_total = numpy.zeros_like(temperature)\n",
    "    #\n",
    "    #specific heat of nitrogen gas\n",
    "    for i in range(array_size):\n",
    "        cp_g1[i] = 6.66 + 1.02*(1e-3)*Tx[i] # {cal}/{gram-mole K}\n",
    "    #conversion:\n",
    "    mw_N2 = 2*14.0067*(1e-3) # molar mass in kg\n",
    "    cp_g1[:] = cp_g1[:] * (4.184)/mw_N2\n",
    "    #---------------------------------------------\n",
    "    #specific heat of Boron\n",
    "    for i in range(array_size):\n",
    "        if (Tx[i] < 1200.):\n",
    "            cp_s1[i] = 1.54 + 4.49*(1e-3)*Tx[i]\n",
    "        else:\n",
    "            cp_s1[i] = 1.54 + 4.49*(1e-3)*1200.\n",
    "    #conversion\n",
    "    mw_B = 10.811*1e-3 #kg\n",
    "    cp_s1[:] = cp_s1[:] * 4.814/mw_B\n",
    "    #---------------------------------------------\n",
    "    # specific heat of nickel\n",
    "    for i in range(array_size):\n",
    "        if ( Tx[i] < 633.0):\n",
    "            cp_s2[i] = 4.06 + 7.04*(1e-3)*Tx[i]\n",
    "        elif (Tx[i] >= 633. and Tx[i] < 1725.):\n",
    "        #elif (633. <= Tx[i] < 1725.) :\n",
    "            cp_s2[i] = 6.0 + 1.8*(1e-3)*Tx[i]\n",
    "        elif (Tx[i] >=1725):\n",
    "            cp_s2[i] = 9.20\n",
    "    #conversion\n",
    "    mw_Ni = 58.6934*1e-3\n",
    "    cp_s3[:] = cp_s3[:] * (4.184)/mw_Ni\n",
    "    #\n",
    "    #specific heat of cobalt\n",
    "    for i in range (array_size):\n",
    "        if (Tx[i] < 718.):\n",
    "            cp_s3[i] = 4.72 + 4.3*(1e-3)*Tx[i]\n",
    "        elif ( Tx[i] >= 718. and  Tx[i] < 1400.):\n",
    "            cp_s3[i] = 3.30 + 5.86*(1e-3)*Tx[i]\n",
    "        elif (Tx[i] >= 1400.):\n",
    "            cp_s3[i] = 9.60\n",
    "    #conversion:\n",
    "    mw_Co = 58.933195*1e-3\n",
    "    cp_s3[:] = cp_s3[:] * 4.184/mw_Co\n",
    "    #\n",
    "    #total specific heat\n",
    "    cp_total[:] = c1[:]*cp_s1[:] + c2[:]*cp_s2[:] + c3[:]*cp_s3[:] +\\\n",
    "                  cg1[:]*cp_g1[:]\n",
    "    cp_total[-1] = cp_total[-2]\n",
    "    #\n",
    "    return cp_total"
   ]
  },
  {
   "cell_type": "code",
   "execution_count": 45,
   "metadata": {
    "collapsed": false
   },
   "outputs": [],
   "source": [
    "cpn = get_specific_heat(Tn.copy(),cB,cNi,cCo,cN)"
   ]
  },
  {
   "cell_type": "code",
   "execution_count": 46,
   "metadata": {
    "collapsed": false
   },
   "outputs": [
    {
     "data": {
      "text/plain": [
       "122"
      ]
     },
     "execution_count": 46,
     "metadata": {},
     "output_type": "execute_result"
    }
   ],
   "source": [
    "cpn.size"
   ]
  },
  {
   "cell_type": "code",
   "execution_count": 47,
   "metadata": {
    "collapsed": false
   },
   "outputs": [
    {
     "data": {
      "text/plain": [
       "array([ 1040.42151256,  1040.42151256,  1040.42151256,  1040.42151256,\n",
       "        1040.42151256,  1040.42151256,  1040.42151256,  1040.42151256,\n",
       "        1040.42151256,  1040.42151256])"
      ]
     },
     "execution_count": 47,
     "metadata": {},
     "output_type": "execute_result"
    }
   ],
   "source": [
    "cpn[:10]"
   ]
  },
  {
   "cell_type": "code",
   "execution_count": 48,
   "metadata": {
    "collapsed": true
   },
   "outputs": [],
   "source": [
    "def get_molar_mass_domain(molar_mass_s1, molar_mass_s2, molar_mass_s3,\\\n",
    "                          molar_mass_g1, concentration_s1, concentration_s2,\\\n",
    "                          concentration_s3, concentration_g1):\n",
    "    ''' \n",
    "    Defines the molecular weight g/mol in domain\n",
    "    \n",
    "    s1: Boron\n",
    "    s2: Nickel\n",
    "    s3: Cobalt\n",
    "    g1: Nitrogen\n",
    "    '''\n",
    "    #molar mass\n",
    "    ms1 = molar_mass_s1\n",
    "    ms2 = molar_mass_s2\n",
    "    ms3 = molar_mass_s3\n",
    "    mg1 = molar_mass_g1\n",
    "    #concentrations\n",
    "    cs1 = concentration_s1\n",
    "    cs2 = concentration_s2\n",
    "    cs3 = concentration_s3\n",
    "    cg1 = concentration_g1\n",
    "    #\n",
    "    molarmass = numpy.zeros_like(concentration_s1)\n",
    "    #\n",
    "    molarmass[:] = 1./((cs1[:]/ms1) + (cs2[:]/ms2) + (cs3[:]/ms3) + (cg1[:]/mg1))\n",
    "    #\n",
    "    return molarmass"
   ]
  },
  {
   "cell_type": "code",
   "execution_count": 49,
   "metadata": {
    "collapsed": false
   },
   "outputs": [
    {
     "data": {
      "text/plain": [
       "array([ 28.0134,  28.0134,  28.0134,  28.0134,  28.0134,  28.0134,\n",
       "        28.0134,  28.0134,  28.0134,  28.0134])"
      ]
     },
     "execution_count": 49,
     "metadata": {},
     "output_type": "execute_result"
    }
   ],
   "source": [
    "molmassn = get_molar_mass_domain(mB,mNi,mCo,mN,cB,cNi,cCo,cN)\n",
    "molmassn[:10]"
   ]
  },
  {
   "cell_type": "code",
   "execution_count": 50,
   "metadata": {
    "collapsed": true
   },
   "outputs": [],
   "source": [
    "def get_gas_constant_domain(molar_mass_domain):\n",
    "    ''' defines specific gas constant in domain from molecular weight\n",
    "    \n",
    "    molar mass: array of values [g/mol]\n",
    "    \n",
    "    Returns:\n",
    "    -------\n",
    "    Rs: specific gas constant #J/(kg K)\n",
    "    '''\n",
    "    molarmass = molar_mass_domain.copy()\n",
    "    Ru = 8134.\n",
    "    Rsdomain = numpy.zeros_like(molarmass)\n",
    "    Rsdomain[:] = Ru/molarmass[:]\n",
    "    #\n",
    "    return Rsdomain"
   ]
  },
  {
   "cell_type": "code",
   "execution_count": 51,
   "metadata": {
    "collapsed": false
   },
   "outputs": [
    {
     "data": {
      "text/plain": [
       "array([ 290.3610415,  290.3610415,  290.3610415,  290.3610415,\n",
       "        290.3610415,  290.3610415,  290.3610415,  290.3610415,\n",
       "        290.3610415,  290.3610415])"
      ]
     },
     "execution_count": 51,
     "metadata": {},
     "output_type": "execute_result"
    }
   ],
   "source": [
    "Rsn = get_gas_constant_domain(molmassn)\n",
    "Rsn[:10]"
   ]
  },
  {
   "cell_type": "markdown",
   "metadata": {},
   "source": [
    "##### Anode-Gap Interface Density"
   ]
  },
  {
   "cell_type": "code",
   "execution_count": 52,
   "metadata": {
    "collapsed": true
   },
   "outputs": [],
   "source": [
    "def get_interface_density_anode(local_pressure,local_temperature,\\\n",
    "                                local_Rgas,evaporated_density):\n",
    "    '''\n",
    "    '''\n",
    "    pref_interface = local_pressure\n",
    "    #pref_interface = 111294.95170169\n",
    "    #\n",
    "    rhol = (pref_interface/(local_temperature*local_Rgas)) #+ evaporated_density\n",
    "    #\n",
    "    return rhol"
   ]
  },
  {
   "cell_type": "code",
   "execution_count": null,
   "metadata": {
    "collapsed": false
   },
   "outputs": [],
   "source": [
    "rho_local = get_interface_density_anode(p0[1],Tn[1],Rsn[1],rho_evap)\n",
    "rho_local"
   ]
  },
  {
   "cell_type": "markdown",
   "metadata": {},
   "source": [
    "##### Obtain mass-averaged velocity for anode boundary condition"
   ]
  },
  {
   "cell_type": "code",
   "execution_count": null,
   "metadata": {
    "collapsed": false
   },
   "outputs": [],
   "source": [
    "def get_ablation_velocity(ablation_rate,evaporated_density,interface_anode_density):\n",
    "    '''obtains the velocity of sublimated particles, these will be used as boundary\n",
    "    conditions, considered mass-averaged velocity\n",
    "    \n",
    "    Parameters:\n",
    "    ----------\n",
    "    ablation rate in kg/{m2 s}\n",
    "    local anode density\n",
    "    ablated density (vapor density obtained from vapor pressure)\n",
    "    \n",
    "    Returns:\n",
    "    --------\n",
    "    velocity of sublimated particles {m/s}\n",
    "    '''\n",
    "    ablation_velocity = (ablation_rate)/(evaporated_density+interface_anode_density)\n",
    "    #\n",
    "    return ablation_velocity"
   ]
  },
  {
   "cell_type": "code",
   "execution_count": null,
   "metadata": {
    "collapsed": false
   },
   "outputs": [],
   "source": [
    "uabl = get_ablation_velocity(ablrate,rho_evap,rho_local)\n",
    "uabl"
   ]
  },
  {
   "cell_type": "code",
   "execution_count": null,
   "metadata": {
    "collapsed": false
   },
   "outputs": [],
   "source": [
    "uabl #m/s"
   ]
  },
  {
   "cell_type": "code",
   "execution_count": null,
   "metadata": {
    "collapsed": false
   },
   "outputs": [],
   "source": [
    "u0.size"
   ]
  },
  {
   "cell_type": "code",
   "execution_count": null,
   "metadata": {
    "collapsed": false
   },
   "outputs": [],
   "source": [
    "xb.size"
   ]
  },
  {
   "cell_type": "code",
   "execution_count": null,
   "metadata": {
    "collapsed": false
   },
   "outputs": [],
   "source": [
    "def get_initial_velocity(velocity, ablation_velocity):\n",
    "    ''' defines initial velocity in the field\n",
    "    \n",
    "    Boundary_conditions:\n",
    "    --------------------\n",
    "    Ghost cell and anode/fluid interface velocities are set equal to the\n",
    "    sublimation velocity\n",
    "    \n",
    "    Parameters:\n",
    "    -----------\n",
    "    velocity in the field {m/s}\n",
    "    ablation velocity of anode material {m/s}\n",
    "    \n",
    "    Returns:\n",
    "    --------\n",
    "    velocity with updated sublimation velocity\n",
    "    \n",
    "    '''\n",
    "    ui = velocity.copy()\n",
    "    #anode region\n",
    "    ui[1] = ablation_velocity\n",
    "    ui[0] = 2*ablation_velocity - ui[2] #ablation_velocity #\n",
    "    # cathode region\n",
    "    #ubl = 2*(0.5*(ui[-2]+ui[-3])) - 0.5*(ui[-3]+ui[-4])\n",
    "    #ui[-2] = 2*ui[-3] - ui[-4]\n",
    "    ui[-1] = 2*ui[-2] - ui[-3] #ui[-3]#\n",
    "    #\n",
    "    return ui"
   ]
  },
  {
   "cell_type": "code",
   "execution_count": null,
   "metadata": {
    "collapsed": true
   },
   "outputs": [],
   "source": [
    "def get_velocity_bc(velocity, ablation_velocity):\n",
    "    ''' updates the velocity boundary conditions\n",
    "    \n",
    "    anode bc: dirichlet set to ablation velocity\n",
    "    cathode bc: homogeneous dirichlet\n",
    "    \n",
    "    Parameters:\n",
    "    -----------\n",
    "    velocity: total (divergence-free) velocity\n",
    "    ablation_velocity: velocity of sublimated particles\n",
    "    \n",
    "    Returns:\n",
    "    ---------\n",
    "    ubc: updated velocity boundary conditions\n",
    "    '''\n",
    "    ubc = velocity.copy()\n",
    "    #anode region\n",
    "    ubc[0] = 2*ablation_velocity - ubc[2] #ablation_velocity #\n",
    "    ubc[1] = ablation_velocity\n",
    "    # cathod region\n",
    "    #ubl = 2*(0.5*(ubc[-2]+ubc[-3])) - 0.5*(ubc[-3]+ubc[-4])\n",
    "    #ubl2 = 0.5*(ubc[-2]+ubc[-3])\n",
    "    #ubc[-2] = 0.5*(ubl + ubl2) #2*ubc[-3] - ubc[-4] #\n",
    "    ubc[-1] = 2*ubc[-2] - ubc[-3] #ubc[-3]#\n",
    "    #\n",
    "    return ubc"
   ]
  },
  {
   "cell_type": "code",
   "execution_count": null,
   "metadata": {
    "collapsed": false
   },
   "outputs": [],
   "source": [
    "uxn = get_initial_velocity(uxnref.copy(),uabl)"
   ]
  },
  {
   "cell_type": "code",
   "execution_count": null,
   "metadata": {
    "collapsed": false
   },
   "outputs": [],
   "source": [
    "uxn = get_velocity_bc(uxn.copy(),uabl)\n",
    "uxn[:10]"
   ]
  },
  {
   "cell_type": "markdown",
   "metadata": {
    "collapsed": true
   },
   "source": [
    "##### update density boundary conditions to incude ablated density"
   ]
  },
  {
   "cell_type": "code",
   "execution_count": null,
   "metadata": {
    "collapsed": true
   },
   "outputs": [],
   "source": [
    "def get_total_anode_density(evaporated_density,interface_anode_density):\n",
    "    '''\n",
    "    '''\n",
    "    rhoanode = evaporated_density + interface_anode_density\n",
    "    return rhoanode"
   ]
  },
  {
   "cell_type": "code",
   "execution_count": null,
   "metadata": {
    "collapsed": true
   },
   "outputs": [],
   "source": [
    "rho_anode = get_total_anode_density(rho_evap,rho_local)"
   ]
  },
  {
   "cell_type": "code",
   "execution_count": null,
   "metadata": {
    "collapsed": true
   },
   "outputs": [],
   "source": [
    "def get_density_bc(density,evaporated_density,interface_anode_density):\n",
    "    ''' updates densities in the anode region \n",
    "        by summing ablated density with local density\n",
    "    \n",
    "    Parameters:\n",
    "    -----------\n",
    "    density: total density in the domain\n",
    "    ablated_density: vapor density obtained from vapor pressure\n",
    "    \n",
    "    Returns:\n",
    "    -------\n",
    "    density with updated boundary values\n",
    "        \n",
    "    '''\n",
    "    rhobc = density.copy()\n",
    "    #anode region\n",
    "    rhoan = evaporated_density+interface_anode_density\n",
    "    rhobc[0] = 2*rhoan - rhobc[1] #rhoan #\n",
    "    #\n",
    "    return rhobc"
   ]
  },
  {
   "cell_type": "markdown",
   "metadata": {},
   "source": [
    "##### mass conservation to find $\\rho^{n+1}$"
   ]
  },
  {
   "cell_type": "code",
   "execution_count": null,
   "metadata": {
    "collapsed": false
   },
   "outputs": [],
   "source": [
    "def get_mass_conservation(density, velocity, delx, delt, anode_density):\n",
    "    ''' solves mass conservation to obtain total density in the field\n",
    "    \n",
    "    Parameters:\n",
    "    -----------\n",
    "    density: current density distribution\n",
    "    velocity: current velocity distribution\n",
    "    delx: x-direction spacing\n",
    "    delt: time step\n",
    "    \n",
    "    Returns:\n",
    "    --------\n",
    "    rho_new: new total density distribution\n",
    "    \n",
    "    '''\n",
    "    # densities\n",
    "    rhoan = anode_density\n",
    "    rhox = density.copy()\n",
    "    rho_new = density.copy()\n",
    "    #velocity\n",
    "    ux = velocity.copy()\n",
    "    ux_int = numpy.zeros_like(density)\n",
    "    ux_int[:] = 0.5*(ux[1:]+ux[:-1])\n",
    "    #\n",
    "    # mass conservation\n",
    "    rho_new[1:-1] = rhox[1:-1] - (0.5*delt/delx)*\\\n",
    "                                    (rhox[2:]*ux_int[2:] - rhox[:-2]*ux_int[:-2])\n",
    "    #boundary conditions\n",
    "    rho_new[0] = 2*rhoan - rho_new[1] #rhoan #\n",
    "    rho_new[-1] = 2*rho_new[-2] - rho_new[-3] #rho_new[-2]#\n",
    "    #\n",
    "    return rho_new"
   ]
  },
  {
   "cell_type": "code",
   "execution_count": null,
   "metadata": {
    "collapsed": false
   },
   "outputs": [],
   "source": [
    "rhoxn = get_density_bc(rhoref.copy(),rho_evap,rho_local)\n",
    "rhoxn = get_mass_conservation(rhoxn, uxn, dx, dt, rho_anode)\n"
   ]
  },
  {
   "cell_type": "code",
   "execution_count": null,
   "metadata": {
    "collapsed": false
   },
   "outputs": [],
   "source": [
    "rhoxn[:10]"
   ]
  },
  {
   "cell_type": "markdown",
   "metadata": {},
   "source": [
    "##### this new density will not be used to update the fluxes in the momentum equation but will be used at the last step to solve for $u^{n+1}$\n",
    "\n",
    "\\begin{align}\n",
    "(\\rho u )^{n+1} &= f(\\rho^{n},u^{n},P^{n},\\mu^{n}) \\nonumber \\\\\n",
    "(u)^{n+1} &= \\frac{f(\\rho^{n},u^{n},P^{n},\\mu^{n})}{\\rho^{n+1}} \\nonumber\n",
    "\\end{align}"
   ]
  },
  {
   "cell_type": "markdown",
   "metadata": {},
   "source": [
    "### Now solve momentum equation to find $u^{n+1}$ and $P^{n+1}$"
   ]
  },
  {
   "cell_type": "code",
   "execution_count": null,
   "metadata": {
    "collapsed": true
   },
   "outputs": [],
   "source": [
    "def get_anode_pressure(pressure,anode_temperature,anode_density,anode_Rgas):\n",
    "    ''' uses eqn of state\n",
    "    '''\n",
    "    pbc = pressure.copy()\n",
    "    pbc[0] = (anode_temperature*anode_density*anode_Rgas) \n",
    "    return pbc"
   ]
  },
  {
   "cell_type": "code",
   "execution_count": null,
   "metadata": {
    "collapsed": false
   },
   "outputs": [],
   "source": [
    "pxn = get_anode_pressure(p0,Tanode,rhoxn[0],Rsn[0])\n",
    "pxn[:5]"
   ]
  },
  {
   "cell_type": "code",
   "execution_count": null,
   "metadata": {
    "collapsed": true
   },
   "outputs": [],
   "source": [
    "def get_interpolated_density(velocity,density, anode_density):\n",
    "    '''\n",
    "    '''\n",
    "    rhoan = anode_density\n",
    "    rhox = density.copy()\n",
    "    rhoxint = numpy.zeros_like(velocity)\n",
    "    #ghost cell anode:\n",
    "    rhoxint[0] = 2*rhoan - 0.5*(rhox[2]+rhox[1]) #rhoan\n",
    "    rhoxint[1] = rhoan\n",
    "    #interior points:\n",
    "    rhoxint[2:-1] = 0.5*(rhox[2:]+rhox[1:-1])\n",
    "    #ghost cell cathode:\n",
    "    rhoxint[-2] = 0.5*(rhox[-2]+rhox[-1]) \n",
    "    rhoxint[-1] = 2*rhoxint[-2] - rhoxint[-3] #rhoxint[-3]#\n",
    "    #\n",
    "    return rhoxint"
   ]
  },
  {
   "cell_type": "code",
   "execution_count": null,
   "metadata": {
    "collapsed": false
   },
   "outputs": [],
   "source": [
    "rhoxn_int = get_interpolated_density(uxn,rhoxn,rho_anode)\n",
    "rhoxn_int[:5]"
   ]
  },
  {
   "cell_type": "code",
   "execution_count": null,
   "metadata": {
    "collapsed": false
   },
   "outputs": [],
   "source": [
    "rhoxn_int[-5:]"
   ]
  },
  {
   "cell_type": "code",
   "execution_count": null,
   "metadata": {
    "collapsed": false
   },
   "outputs": [],
   "source": [
    "def get_current_momentum(density,velocity,anode_density):\n",
    "    ''' This function obtains momentum at nth time step\n",
    "    \n",
    "    Parameters:\n",
    "    -----------\n",
    "    density @ nth time step\n",
    "    velocty @ nth time step\n",
    "    \n",
    "    Returns:\n",
    "    --------\n",
    "    momentum = density*velocity \n",
    "    '''\n",
    "    #arrays\n",
    "    momx = numpy.zeros_like(velocity)\n",
    "    rhox = density.copy()\n",
    "    ux = velocity.copy()\n",
    "    rhoxint = get_interpolated_density(ux,rhox,anode_density)\n",
    "    # momentum\n",
    "    momx[:] = ux[:]*rhoxint[:]\n",
    "    #\n",
    "    return momx\n",
    "    "
   ]
  },
  {
   "cell_type": "code",
   "execution_count": null,
   "metadata": {
    "collapsed": false
   },
   "outputs": [],
   "source": [
    "momn = get_current_momentum(rhoxn.copy(),uxn.copy(),rho_anode)\n",
    "momn[:5]"
   ]
  },
  {
   "cell_type": "code",
   "execution_count": null,
   "metadata": {
    "collapsed": true
   },
   "outputs": [],
   "source": [
    "def get_momentum_bc(momentum,ablated_velocity,density_anode):\n",
    "    ''' Boundary Conditions for current momentum (nth time step)\n",
    "    \n",
    "    Parameters:\n",
    "    -----------\n",
    "    density_anode: total density at rho[0]\n",
    "    '''\n",
    "    mombc = momentum.copy()\n",
    "    moman = ablated_velocity*density_anode \n",
    "    #\n",
    "    mombc[0] = 2*moman - mombc[2] \n",
    "    mombc[1] = moman\n",
    "    #\n",
    "#     mombcl = 2*(0.5*([mombc[-2]]+mombc[-3])) - 0.5*((mombc[-3])+mombc[-4])\n",
    "#     mombcl2 = 0.5*(mombc[-2]+mombc[-3])\n",
    "#     mombc[-2] = 0.5*(mombcl+mombcl2)\n",
    "    #\n",
    "    mombc[-1] = 2*(mombc[-2]) - mombc[-3] #mombc[-3] #\n",
    "    #\n",
    "    return mombc"
   ]
  },
  {
   "cell_type": "code",
   "execution_count": null,
   "metadata": {
    "collapsed": false
   },
   "outputs": [],
   "source": [
    "uxn[2:-2].size"
   ]
  },
  {
   "cell_type": "code",
   "execution_count": null,
   "metadata": {
    "collapsed": true
   },
   "outputs": [],
   "source": [
    "def get_convective_flux(velocity,density,delx,anode_density):\n",
    "    ''' calculates convective fluxes for momentum equation\n",
    "        uses central differencing scheme \n",
    "        \n",
    "    Parameters:\n",
    "    -----------\n",
    "    velocity: helmholtz velocity\n",
    "    delx: x-direction spacing\n",
    "    \n",
    "    Returns:\n",
    "    -------\n",
    "    fc: convective fluxes\n",
    "    '''\n",
    "    ux = velocity.copy()\n",
    "    rhoxint = get_interpolated_density(velocity,density,anode_density)\n",
    "    fc = numpy.zeros_like(velocity)\n",
    "    #\n",
    "    uxint = numpy.zeros_like(density)\n",
    "    uxint[:] = 0.5*(ux[1:]+ux[:-1])\n",
    "    uxint[-1] = 2*uxint[-2] - uxint[-3] #uxint[-2] #\n",
    "    rhox = density.copy()\n",
    "    #\n",
    "    fc[1:-1] = (-0.5/delx)*((rhoxint[2:]*ux[2:]**2) -\\\n",
    "                            (rhoxint[:-2]*ux[:-2]**2) )\n",
    "    # Alternative, use cell-center:\n",
    "    fc[-2] = (-1./delx)*((rhox[-1]*uxint[-1]**2) -\\\n",
    "                            (rhox[-2]*uxint[-2]**2) )\n",
    "    \n",
    "    #\n",
    "    return fc"
   ]
  },
  {
   "cell_type": "code",
   "execution_count": null,
   "metadata": {
    "collapsed": false
   },
   "outputs": [],
   "source": [
    "fct = get_convective_flux(uxn,rhoxn,dx,rho_anode)\n",
    "fct[:5]"
   ]
  },
  {
   "cell_type": "code",
   "execution_count": null,
   "metadata": {
    "collapsed": false
   },
   "outputs": [],
   "source": [
    "def get_viscous_flux(velocity,shear_viscosity,delx):\n",
    "    ''' calculates viscous fluxes for momentum equation\n",
    "        uses central differencing scheme\n",
    "        \n",
    "    Parameters:\n",
    "    -----------\n",
    "    velocity: helmholtz velocity\n",
    "    delx: x-direction spacing\n",
    "    shear_viscosity: mu\n",
    "    density: total density in domain\n",
    "    \n",
    "    Returns:\n",
    "    --------\n",
    "    fv: viscous fluxes\n",
    "    '''\n",
    "    ux = velocity.copy()\n",
    "    fv = numpy.zeros_like(velocity)\n",
    "    #\n",
    "    mux = shear_viscosity.copy()\n",
    "    muxb = numpy.zeros_like(velocity) #interpolated viscosity boundary values\n",
    "    muxb[1:-1] = 0.5*(mux[1:]+mux[:-1])\n",
    "    muxb[0] = muxb[1]\n",
    "    muxb[-1] = muxb[-2]\n",
    "    #\n",
    "    uxint = numpy.zeros_like(shear_viscosity)\n",
    "    uxint[:] = 0.5*(ux[1:]+ux[:-1])\n",
    "    uxint[-1] = 2*uxint[-2] - uxint[-3] #uxint[-2]#\n",
    "    #\n",
    "    fv[1:-1] = (muxb[1:-1])*(1./(delx**2))*(ux[2:] - 2*ux[1:-1] + ux[:-2]) +\\\n",
    "                (1./delx)*(mux[1:]-mux[:-1])*\\\n",
    "                (0.5/delx)*(ux[2:]-ux[:-2])\n",
    "    #\n",
    "    fv[-2] = muxb[-2]*(2./(delx**2))*(uxint[-1]-2*ux[-2]+uxint[-2]) +\\\n",
    "            (1./delx)*(mux[-1]-mux[-2])*\\\n",
    "            (1./delx)*(uxint[-1]-uxint[-2])\n",
    "    #\n",
    "    return fv"
   ]
  },
  {
   "cell_type": "code",
   "execution_count": null,
   "metadata": {
    "collapsed": false
   },
   "outputs": [],
   "source": [
    "fvt= get_viscous_flux(uxn.copy(),mun.copy(),dx)\n",
    "fvt[:5]"
   ]
  },
  {
   "cell_type": "code",
   "execution_count": null,
   "metadata": {
    "collapsed": true
   },
   "outputs": [],
   "source": [
    "def get_pressure_flux(velocity, pressure, delx):\n",
    "    ''' calculates pressure fluxes for momentum equation\n",
    "    \n",
    "    Parameters:\n",
    "    ----------\n",
    "    velocity: helmholtz velocity\n",
    "    pressure: heavy particle pressure only, exclude electron pressure\n",
    "    delx: x-direction spacing\n",
    "    \n",
    "    Returns:\n",
    "    -------\n",
    "    fp: pressure flux\n",
    "    '''\n",
    "    px = pressure.copy()\n",
    "    #\n",
    "    fp = numpy.zeros_like(velocity)\n",
    "    #\n",
    "    fp[2:-2] = -(1./delx)*(px[2:-1]-px[1:-2])\n",
    "    #\n",
    "    return fp"
   ]
  },
  {
   "cell_type": "code",
   "execution_count": null,
   "metadata": {
    "collapsed": false
   },
   "outputs": [],
   "source": [
    "fpt = get_pressure_flux(uxn.copy(), pref.copy(), dx)\n",
    "fpt[:5]"
   ]
  },
  {
   "cell_type": "code",
   "execution_count": null,
   "metadata": {
    "collapsed": false
   },
   "outputs": [],
   "source": [
    "def get_source_pressure(density_new, density_old, momentum, delx, delt):\n",
    "    ''' computes the pressure source terms\n",
    "    \n",
    "    Parameters:\n",
    "    -----------\n",
    "    velocity: helmholtz velocity\n",
    "    pressure: heavy particle pressure\n",
    "    delx: x-direction spacing\n",
    "    \n",
    "    Returns:\n",
    "    --------\n",
    "    fps: pressure source term\n",
    "    '''\n",
    "    rho_new = density_new.copy()\n",
    "    rho_old = density_old.copy() \n",
    "    momx = momentum.copy()\n",
    "    fps = numpy.zeros_like(density_old)\n",
    "    #\n",
    "    fps[1:-1] = (1./delx)*(momx[2:-1] - momx[1:-2]) +\\\n",
    "             (1./delt)*(rho_new[1:-1]-rho_old[1:-1])\n",
    "    #\n",
    "    return fps"
   ]
  },
  {
   "cell_type": "code",
   "execution_count": null,
   "metadata": {
    "collapsed": false
   },
   "outputs": [],
   "source": [
    "fs = get_source_pressure(rhoxn.copy(),rhoref.copy(),momn.copy(),dx,dt)\n",
    "fs[:5]"
   ]
  },
  {
   "cell_type": "code",
   "execution_count": null,
   "metadata": {
    "collapsed": true
   },
   "outputs": [],
   "source": [
    "@jit(nopython=True)\n",
    "def get_pressure_GS(p,pk,delx,delt,l2_target,factor,fsp,numx,anode_pressure):\n",
    "    ''' Uses Gauss_Sidel to solve for pressure\n",
    "    \n",
    "    Parameters:\n",
    "    -----------\n",
    "    p: pressure {time n}\n",
    "    pk: pressure {time n-1}\n",
    "    delx: x-direction spacing\n",
    "    delt: time step\n",
    "    l2_target: target error value\n",
    "    factor: used for the fractional step method\n",
    "    fsp: pressure source term\n",
    "    numx: number of nodes\n",
    "    '''\n",
    "    pan = anode_pressure\n",
    "    pref_interface = 111294.95170169\n",
    "    #\n",
    "    iterations = 0\n",
    "    iter_diff = l2_target + 1.1\n",
    "    denominator = 0.0\n",
    "    l2_err = numpy.zeros(20000)\n",
    "    \n",
    "    while iter_diff > l2_target:\n",
    "        for i in range(numx):\n",
    "            pk[i] = p[i] \n",
    "        #        \n",
    "        iter_diff = 0.0\n",
    "        denominator = 0.0\n",
    "        #\n",
    "        for i in range(1,numx-1):\n",
    "            p[i] = 0.5*(p[i+1]+p[i-1])-(0.5*(delx**2)*(1/(delt*factor))*fsp[i])\n",
    "            #\n",
    "        #boundary conditions\n",
    "        p[0] = pan \n",
    "        p[-1] = 2*p[-2] - p[-3] #p[-2] #\n",
    "        #\n",
    "        for i in range(1,numx-1):\n",
    "            iter_diff += (p[i] - pk[i])**2\n",
    "            denominator += (pk[i]*pk[i])\n",
    "        #\n",
    "        iter_diff /= denominator\n",
    "        iter_diff = iter_diff**0.5\n",
    "        l2_err[iterations] = iter_diff\n",
    "        iterations += 1    \n",
    "        \n",
    "    return p, iterations, l2_err"
   ]
  },
  {
   "cell_type": "markdown",
   "metadata": {},
   "source": [
    "##### Solve Momentum Equation"
   ]
  },
  {
   "cell_type": "code",
   "execution_count": null,
   "metadata": {
    "collapsed": false
   },
   "outputs": [],
   "source": [
    "def get_momentum(momentum,pressure,density,velocity,shear_viscosity,\\\n",
    "                 delx, delt, velocity_anode_bc, density_anode_bc):\n",
    "    ''' Use Fractional Step Method to find velocity field and \n",
    "    pressure of heavy particles\n",
    "    \n",
    "    Parameters:\n",
    "    -----------\n",
    "    velocity: current velocity field\n",
    "    shear_viscosity: mu\n",
    "    density: total density in the field\n",
    "    pressure: total pressure in the field\n",
    "    delx: x-direction spacing\n",
    "    delt: time step\n",
    "    ablated_velocity: velocity of sublimated particles\n",
    "    \n",
    "    Returns:\n",
    "    --------\n",
    "    un: velocity distribution at the next time step\n",
    "    '''\n",
    "    # flux-related terms\n",
    "    G1 = numpy.zeros_like(velocity)\n",
    "    G2 = numpy.zeros_like(velocity)\n",
    "    G3 = numpy.zeros_like(velocity)\n",
    "    #Helmholtz momentum\n",
    "    moms1 = numpy.zeros_like(velocity)\n",
    "    moms2 = numpy.zeros_like(velocity)\n",
    "    moms3 = numpy.zeros_like(velocity)\n",
    "    # current momentum\n",
    "    momn = momentum.copy()\n",
    "    # density arrays\n",
    "    rhoold = density.copy()\n",
    "    rho_bc_anode = density_anode_bc\n",
    "    # current velocity field\n",
    "    un = velocity.copy()\n",
    "    # current shear viscosity field\n",
    "    mun = shear_viscosity.copy()\n",
    "    #anode bc velocity\n",
    "    u_abl = velocity_anode_bc\n",
    "    # current pressure\n",
    "    pn = pressure.copy()\n",
    "    anode_pressure = pn[0] # for pressure algorithm\n",
    "    #\n",
    "    #Fractional Step Method, RK3 time advancement:\n",
    "    #-------------------------------------------------------------------------\n",
    "    #-------------------------------------------------------------------------\n",
    "    #stage1\n",
    "    #first thing is find the new density that would exist at this step\n",
    "    rhonew = get_mass_conservation(rhoold,un,delx,(1./3.)*delt,\\\n",
    "                                   rho_bc_anode) #advance 1/3 dt\n",
    "    #\n",
    "    Fc1 = get_convective_flux(un,rhoold,delx,rho_bc_anode) #Convective Flux \n",
    "    Fv1 = get_viscous_flux(un,mun,delx) #Viscous FLux\n",
    "    G1[:] = Fc1[:] + Fv1[:]\n",
    "    #\n",
    "    moms1[:] = momn[:] + (delt/3.)*(G1[:]) #predicted momentum\n",
    "    moms1 = get_momentum_bc(moms1,u_abl,rho_bc_anode)\n",
    "    #\n",
    "    fs1 = get_source_pressure(rhonew,rhoold,moms1,delx,delt) #pressure source term \n",
    "    #\n",
    "    ps1, it1, e1 = get_pressure_GS(pn,pn,delx,delt,l2_target,1./3.,fs1,numx,\\\n",
    "                                   anode_pressure)\n",
    "    #\n",
    "    Fp1 = get_pressure_flux(un, ps1, delx) #pressure flux\n",
    "    #\n",
    "    momn[:] = moms1[:] + (delt/3.)*(Fp1[:]) #rk1 momentum\n",
    "    momn = get_momentum_bc(momn,u_abl,rho_bc_anode)\n",
    "    #\n",
    "    rhonew_int = get_interpolated_density(un,rhonew,rho_bc_anode)  \n",
    "    un[:] = momn[:]/rhonew_int[:] #rk1 velocity\n",
    "    un = get_velocity_bc(un, u_abl)\n",
    "    #-------------------------------------------------------------------------\n",
    "    #-------------------------------------------------------------------------\n",
    "    #stage2\n",
    "    rhoold = rhonew.copy()\n",
    "    rhonew = get_mass_conservation(rhoold,un,delx,(5./12.)*delt,\\\n",
    "                                  rho_bc_anode) #advance to 9/12 dt\n",
    "    #\n",
    "    Fc2 = get_convective_flux(un,rhoold,delx,rho_bc_anode) #Convective Flux\n",
    "    Fv2 = get_viscous_flux(un,mun,delx) #Viscous FLux\n",
    "    G2[:] = - (5./9.)*(G1[:]) + (Fc2[:] + Fv2[:])\n",
    "    #\n",
    "    moms2[:] = momn[:] + (15.*delt/16.)*(G2[:]) \n",
    "    moms2 = get_momentum_bc(moms2,u_abl,rho_bc_anode)\n",
    "    #\n",
    "    fs2 = get_source_pressure(rhonew,rhoold,moms2,delx,delt) \n",
    "    #\n",
    "    ps2, it2, e2 = get_pressure_GS(pn,pn,delx,delt,l2_target,5./12.,fs2,numx,\\\n",
    "                                  anode_pressure)\n",
    "    #\n",
    "    Fp2 = get_pressure_flux(un, ps2, delx) #pressure flux\n",
    "    #\n",
    "    momn[:] = moms2[:] + (5.*delt/12.)*(Fp2[:]) #rk2 momentum\n",
    "    momn = get_momentum_bc(momn,u_abl,rho_bc_anode)\n",
    "    #\n",
    "    rhonew_int = get_interpolated_density(un,rhonew,rho_bc_anode) \n",
    "    un[:] = momn[:]/rhonew_int[:] #rk2 velocity\n",
    "    un = get_velocity_bc(un, u_abl)\n",
    "    #-------------------------------------------------------------------------\n",
    "    #-------------------------------------------------------------------------\n",
    "    #stage 3\n",
    "    rhoold = rhonew.copy()\n",
    "    rhonew = get_mass_conservation(rhoold,un,delx,(1./4.)*delt,\\\n",
    "                                  rho_bc_anode) #advance to dt\n",
    "    #\n",
    "    Fc3 = get_convective_flux(un,rhoold,delx,rho_bc_anode) #Convective Flux\n",
    "    Fv3 = get_viscous_flux(un,mun,delx) #Viscous FLux\n",
    "    G3[:] = - (153./128.)*(G2[:]) + (Fc3[:] + Fv3[:])\n",
    "    #\n",
    "    moms3[:] = momn[:] + (8.*delt/15.)*(G3[:]) #helmholtz velocity\n",
    "    moms3 = get_momentum_bc(moms3,u_abl,rho_bc_anode)\n",
    "    #\n",
    "    fs3 = get_source_pressure(rhonew,rhoold,moms3,delx,delt) #source term for pressure\n",
    "    #\n",
    "    ps3, it3, e3 = get_pressure_GS(pn,pn,delx,delt,l2_target,1./4.,fs3,numx,\\\n",
    "                                  anode_pressure)\n",
    "    #\n",
    "    Fp3 = get_pressure_flux(un, ps3, delx) #pressure flux\n",
    "    #\n",
    "    momn[:] = moms3[:] + (1.*delt/4.)*(Fp3[:]) #rk1 velocity\n",
    "    momn = get_momentum_bc(momn,u_abl,rho_bc_anode)\n",
    "    #\n",
    "    rhonew_int = get_interpolated_density(un,rhonew,rho_bc_anode) \n",
    "    un[:] = momn[:]/rhonew_int[:] #rk3 velocity\n",
    "    un = get_velocity_bc(un, u_abl)\n",
    "    #\n",
    "    #momentum CFL:\n",
    "    momfluxmax = numpy.max(rhonew_int[:]*un[:]**2)\n",
    "    cflm = (delt/(delx))*momfluxmax\n",
    "    #\n",
    "    return rhonew, un, ps3, cflm,momfluxmax"
   ]
  },
  {
   "cell_type": "code",
   "execution_count": null,
   "metadata": {
    "collapsed": false
   },
   "outputs": [],
   "source": [
    "#%%timeit\n",
    "rhoxn,uxn,pxn,cflmn,mfmax = get_momentum(momn.copy(),pxn.copy(),rhoxn.copy(),\\\n",
    "                                          uxn.copy(), mun.copy(),dx,dt,uabl,\\\n",
    "                                          rho_anode)"
   ]
  },
  {
   "cell_type": "code",
   "execution_count": null,
   "metadata": {
    "collapsed": false
   },
   "outputs": [],
   "source": [
    "rhoxn[:10]"
   ]
  },
  {
   "cell_type": "code",
   "execution_count": null,
   "metadata": {
    "collapsed": false
   },
   "outputs": [],
   "source": [
    "uxn[:10] # velocity profile"
   ]
  },
  {
   "cell_type": "code",
   "execution_count": null,
   "metadata": {
    "collapsed": false
   },
   "outputs": [],
   "source": [
    "pxn[:10] #pressure"
   ]
  },
  {
   "cell_type": "code",
   "execution_count": null,
   "metadata": {
    "collapsed": false
   },
   "outputs": [],
   "source": [
    "cflmn"
   ]
  },
  {
   "cell_type": "code",
   "execution_count": null,
   "metadata": {
    "collapsed": false
   },
   "outputs": [],
   "source": [
    "mfmax"
   ]
  },
  {
   "cell_type": "markdown",
   "metadata": {},
   "source": [
    "### Now that we have the velocity field and pressure field of heavy particles, we can find the amount of individual ablated species in the gap at time t=n+1"
   ]
  },
  {
   "cell_type": "markdown",
   "metadata": {},
   "source": [
    "##### Mass Diffusion"
   ]
  },
  {
   "cell_type": "code",
   "execution_count": null,
   "metadata": {
    "collapsed": false
   },
   "outputs": [],
   "source": [
    "def get_mass_diffusion(pressure, temperature, density, velocity, concentration1,\\\n",
    "                      concentration2, concentration3, concentration4, delt, delx,\\\n",
    "                      molar_mass1, molar_mass2, molar_mass3, molar_mass4, \\\n",
    "                      evaporated_density, interface_anode_density):\n",
    "    ''' Obtains individual species densities and concentrations by solving the\n",
    "    mass diffusion equation\n",
    "    \n",
    "    Parameters:\n",
    "    -----------\n",
    "    pressure:\n",
    "    temperature:\n",
    "    density:\n",
    "    velocity:\n",
    "    concentration1:\n",
    "    concentration2:\n",
    "    delt:\n",
    "    delx:\n",
    "    molar_mass1:\n",
    "    molar_mass2:\n",
    "    vapor_density:\n",
    "    \n",
    "    Returns:\n",
    "    --------\n",
    "    rho_s1: density of species 1\n",
    "    rho_s2: density of species 2 (background gas if only 2 total species)\n",
    "    c1_out: concentration of species 1\n",
    "    c2_out: concentration of species 2 (background gas if only 2 total species)\n",
    "    '''\n",
    "    #temperature and pressure\n",
    "    p = pressure.copy()\n",
    "    Tx = temperature.copy()\n",
    "    # current density\n",
    "    rhox = density.copy()\n",
    "    # densities of individual species\n",
    "    rho_s1 = numpy.zeros_like(density) #B\n",
    "    rho_s2 = numpy.zeros_like(density) #Ni\n",
    "    rho_s3 = numpy.zeros_like(density) #Co\n",
    "    rho_g1 = numpy.zeros_like(density) #N\n",
    "    # velocity in domain\n",
    "    ux = velocity.copy()\n",
    "    uxc = numpy.zeros_like(density)\n",
    "    uxc[:] = 0.5*(ux[1:]+ux[:-1])\n",
    "    # concentrations\n",
    "    c1 = concentration1.copy()\n",
    "    c2 = concentration2.copy()\n",
    "    c3 = concentration3.copy()\n",
    "    cg1 = concentration4.copy()\n",
    "    # new concentrations\n",
    "    c1_out = numpy.zeros_like(concentration1)\n",
    "    c2_out = numpy.zeros_like(concentration2)\n",
    "    c3_out = numpy.zeros_like(concentration3)\n",
    "    cg1_out = numpy.zeros_like(concentration4)\n",
    "    #diffusion flux: D {d/dx rho*c}\n",
    "    Dflux_s1 = numpy.zeros_like(density) \n",
    "    Dflux_s2 = numpy.zeros_like(density)\n",
    "    Dflux_s3 = numpy.zeros_like(density)\n",
    "    Dflux_g1 = numpy.zeros_like(density)\n",
    "    # Rigid sphere collision diameters defined in parameters above\n",
    "    # molar mass of base material and background gas\n",
    "    ms1 = molar_mass1\n",
    "    ms2 = molar_mass2\n",
    "    ms3 = molar_mass3\n",
    "    mg1 = molar_mass4\n",
    "    #--------------------------------\n",
    "    # diffusion coefficient\n",
    "    D1 = numpy.zeros_like(density) #binary diffusion coefficient\n",
    "    D1[1:-1] = (((2.63e-7)/(( p[1:-1]/101325.0)*(RSCD_N_B)**2))*\\\n",
    "                numpy.sqrt(((Tx[1:-1])**3)*(ms1+mg1)/(2*ms1*mg1)))*1e-4\n",
    "    D2 = numpy.zeros_like(density) #binary diffusion coefficient\n",
    "    D2[1:-1] = (((2.63e-7)/(( p[1:-1]/101325.0)*(RSCD_N_Ni)**2))*\\\n",
    "                numpy.sqrt(((Tx[1:-1])**3)*(ms2+mg1)/(2*ms2*mg1)))*1e-4\n",
    "    D3 = numpy.zeros_like(density) #binary diffusion coefficient\n",
    "    D3[1:-1] = (((2.63e-7)/(( p[1:-1]/101325.0)*(RSCD_N_Co)**2))*\\\n",
    "                numpy.sqrt(((Tx[1:-1])**3)*(ms3+mg1)/(2*ms3*mg1)))*1e-4\n",
    "    #diffusion flux, species 1\n",
    "    Dflux_s1[1:-1] = (D1[1:-1]/(2*delx))*(rhox[2:]*c1[2:] - rhox[:-2]*c1[:-2])\n",
    "    Dflux_s1[0] = Dflux_s1[1]\n",
    "    Dflux_s1[-1] = Dflux_s1[-2]\n",
    "    #diffusion flux, species 2\n",
    "    Dflux_s2[1:-1] = (D2[1:-1]/(2*delx))*(rhox[2:]*c2[2:] - rhox[:-2]*c2[:-2])\n",
    "    Dflux_s2[0] = Dflux_s2[1]\n",
    "    Dflux_s2[-1] = Dflux_s2[-2]\n",
    "    #diffusion flux, species 3\n",
    "    Dflux_s3[1:-1] = (D3[1:-1]/(2*delx))*(rhox[2:]*c3[2:] - rhox[:-2]*c3[:-2])\n",
    "    Dflux_s3[0] = Dflux_s3[1]\n",
    "    Dflux_s3[-1] = Dflux_s3[-2]\n",
    "    # diffusion flux, gas\n",
    "    Dflux_g1[1:-1] = (D1[1:-1]/(2*delx))*(rhox[2:]*cg1[2:] - rhox[:-2]*cg1[:-2])\n",
    "    Dflux_g1[0] = Dflux_g1[1]\n",
    "    Dflux_g1[-1] = Dflux_g1[-2]\n",
    "    #---------------------------\n",
    "    #species 1 density\n",
    "    #anode conditions:\n",
    "    rho_s1[0] = wB*evaporated_density + c1[1]*interface_anode_density #rhox[1]\n",
    "    # inner points\n",
    "    rho_s1[1:-1] = rhox[1:-1]*c1[1:-1] -\\\n",
    "                    (delt/(2*delx))*(rhox[2:]*uxc[2:]*c1[2:] -\\\n",
    "                                     rhox[:-2]*uxc[:-2]*c1[:-2]) +\\\n",
    "                    (delt/(2*delx))*(Dflux_s1[2:] - Dflux_s1[:-2])\n",
    "    # exit\n",
    "    rho_s1[-1] = 2*rho_s1[-2] - rho_s1[-3] #rho_s1[-2] #\n",
    "    #----------------------------\n",
    "    #species 2 density\n",
    "    #anode conditions\n",
    "    rho_s2[0] = wNi*evaporated_density + c2[1]*interface_anode_density #rhox[1]\n",
    "    #\n",
    "    # inner points\n",
    "    rho_s2[1:-1] = rhox[1:-1]*c2[1:-1] -\\\n",
    "                    (delt/(2*delx))*(rhox[2:]*uxc[2:]*c2[2:] -\\\n",
    "                                     rhox[:-2]*uxc[:-2]*c2[:-2]) +\\\n",
    "                    (delt/(2*delx))*(Dflux_s2[2:] - Dflux_s2[:-2])\n",
    "    # exit\n",
    "    rho_s2[-1] = 2*rho_s2[-2] - rho_s2[-3] #rho_s2[-2] #\n",
    "    #-----------------------------\n",
    "    #----------------------------\n",
    "    #species 3 density\n",
    "    #anode conditions\n",
    "    rho_s3[0] = wCo*evaporated_density + c3[1]*interface_anode_density #rhox[1]\n",
    "    #\n",
    "    # inner points\n",
    "    rho_s3[1:-1] = rhox[1:-1]*c3[1:-1] -\\\n",
    "                    (delt/(2*delx))*(rhox[2:]*uxc[2:]*c3[2:] -\\\n",
    "                                     rhox[:-2]*uxc[:-2]*c3[:-2]) +\\\n",
    "                    (delt/(2*delx))*(Dflux_s3[2:] - Dflux_s3[:-2])\n",
    "    # exit\n",
    "    rho_s3[-1] = 2*rho_s3[-2] - rho_s3[-3] #rho_s3[-2] #\n",
    "    #-----------------------------\n",
    "    #----------------------------\n",
    "    #gas species density\n",
    "    #anode conditions\n",
    "    rho_g1[0] = cg1[1]*interface_anode_density #rhox[1]\n",
    "    #\n",
    "    # inner points\n",
    "    rho_g1[1:-1] = rhox[1:-1]*cg1[1:-1] -\\\n",
    "                    (delt/(2*delx))*(rhox[2:]*uxc[2:]*cg1[2:] -\\\n",
    "                                     rhox[:-2]*uxc[:-2]*cg1[:-2]) +\\\n",
    "                    (delt/(2*delx))*(Dflux_g1[2:] - Dflux_g1[:-2])\n",
    "    # exit\n",
    "    rho_g1[-1] = 2*rho_g1[-2] - rho_g1[-3] #rho_g1[-2] #\n",
    "    #-----------------------------\n",
    "    #concentration of species\n",
    "    #\n",
    "    rhototal = numpy.zeros_like(density)\n",
    "    rhototal[:] = numpy.abs(rho_s1[:])+ numpy.abs(rho_s2[:]) + numpy.abs(rho_s3[:])+\\\n",
    "                  numpy.abs(rho_g1[:])\n",
    "    #\n",
    "    c1_out[:] = numpy.abs(rho_s1[:])/rhototal[:]\n",
    "    c2_out[:] = numpy.abs(rho_s2[:])/rhototal[:]\n",
    "    c3_out[:] = numpy.abs(rho_s3[:])/rhototal[:]\n",
    "    cg1_out[:] = numpy.abs(rho_g1[:])/rhototal[:]\n",
    "    #\n",
    "    return rho_s1, rho_s2,rho_s3, rho_g1, c1_out, c2_out, c3_out, cg1_out"
   ]
  },
  {
   "cell_type": "code",
   "execution_count": null,
   "metadata": {
    "collapsed": false
   },
   "outputs": [],
   "source": [
    "#%%timeit\n",
    "rhoB,rhoNi,rhoCo,rhoN,\\\n",
    "cB,cNi,cCo,cN = get_mass_diffusion(pxn,Tn,rhoxn,uxn,cB,cNi,cCo,cN,dt,dx,\\\n",
    "                                   mB,mNi,mCo,mN,rho_evap,rho_local)"
   ]
  },
  {
   "cell_type": "code",
   "execution_count": null,
   "metadata": {
    "collapsed": false
   },
   "outputs": [],
   "source": [
    "rhoB[:10]"
   ]
  },
  {
   "cell_type": "code",
   "execution_count": null,
   "metadata": {
    "collapsed": false
   },
   "outputs": [],
   "source": [
    "rhoNi[:10]"
   ]
  },
  {
   "cell_type": "code",
   "execution_count": null,
   "metadata": {
    "collapsed": false
   },
   "outputs": [],
   "source": [
    "rhoCo[:10]"
   ]
  },
  {
   "cell_type": "code",
   "execution_count": null,
   "metadata": {
    "collapsed": false
   },
   "outputs": [],
   "source": [
    "rhoN[:10]"
   ]
  },
  {
   "cell_type": "code",
   "execution_count": null,
   "metadata": {
    "collapsed": false
   },
   "outputs": [],
   "source": [
    "cB[:10] #concentration of helium in domain"
   ]
  },
  {
   "cell_type": "code",
   "execution_count": null,
   "metadata": {
    "collapsed": false
   },
   "outputs": [],
   "source": [
    "cNi[:10]"
   ]
  },
  {
   "cell_type": "code",
   "execution_count": null,
   "metadata": {
    "collapsed": false
   },
   "outputs": [],
   "source": [
    "cCo[:10]"
   ]
  },
  {
   "cell_type": "code",
   "execution_count": null,
   "metadata": {
    "collapsed": false
   },
   "outputs": [],
   "source": [
    "cN[:10]"
   ]
  },
  {
   "cell_type": "code",
   "execution_count": null,
   "metadata": {
    "collapsed": false
   },
   "outputs": [],
   "source": [
    "cB[:10]+cNi[:10]+cCo[:10]+cN[:10]"
   ]
  },
  {
   "cell_type": "code",
   "execution_count": null,
   "metadata": {
    "collapsed": false
   },
   "outputs": [],
   "source": [
    "rhoB[:10] + rhoNi[:10] + rhoCo[:10] + rhoN[:10]"
   ]
  },
  {
   "cell_type": "code",
   "execution_count": null,
   "metadata": {
    "collapsed": false
   },
   "outputs": [],
   "source": [
    "rhoxn[:10]"
   ]
  },
  {
   "cell_type": "markdown",
   "metadata": {},
   "source": [
    "##### Ionization Rate - Saha Equation"
   ]
  },
  {
   "cell_type": "code",
   "execution_count": null,
   "metadata": {
    "collapsed": true
   },
   "outputs": [],
   "source": [
    "def saha_algorithm(temperature,density,concentration1,concentration2,concentration3,\\\n",
    "                   concentration4,ionization_energy_s1,ionization_energy_s2,\\\n",
    "                   ionization_energy_s3,ionization_energy_s4, mass_species1,\\\n",
    "                   mass_species2,mass_species3,mass_species4,electron_number_density):\n",
    "    ''' \n",
    "    Solve Set of Saha equations to obtain number densities\n",
    "    \n",
    "    Returns:\n",
    "    --------\n",
    "    1. number densities of ions, neutrals, and electrons\n",
    "    2. electron pressure\n",
    "    '''\n",
    "    #\n",
    "    T_el = temperature.copy()\n",
    "    ne_old = electron_number_density.copy()\n",
    "    #\n",
    "    rhox = density.copy()\n",
    "    #\n",
    "    c1 = concentration1.copy()\n",
    "    c2 = concentration2.copy()\n",
    "    c3 = concentration3.copy()\n",
    "    cg1 = concentration4.copy()\n",
    "    #\n",
    "    E1 = ionization_energy_s1\n",
    "    E2 = ionization_energy_s2\n",
    "    E3 = ionization_energy_s3\n",
    "    Egas = ionization_energy_s4\n",
    "    #\n",
    "    M1 = mass_species1\n",
    "    M2 = mass_species2\n",
    "    M3 = mass_species3\n",
    "    Mg1 = mass_species4\n",
    "    #\n",
    "    nc1 = numpy.zeros_like(density)\n",
    "    nc2 = numpy.zeros_like(density)\n",
    "    nc3 = numpy.zeros_like(density)\n",
    "    ncg1 = numpy.zeros_like(density)\n",
    "    nc1[:] = rhox[:]*c1[:]/M1\n",
    "    nc2[:] = rhox[:]*c2[:]/M2\n",
    "    nc3[:] = rhox[:]*c3[:]/M3\n",
    "    ncg1[:] = rhox[:]*cg1[:]/Mg1\n",
    "    #\n",
    "    SAHA_s1 = numpy.zeros_like(density)\n",
    "    d1c1 = numpy.zeros_like(density)\n",
    "    d1c1_old = numpy.zeros_like(density)\n",
    "    as1 = numpy.zeros_like(density)\n",
    "    bs1 = numpy.zeros_like(density)\n",
    "    cs1 = numpy.zeros_like(density)\n",
    "    d0c1 = numpy.zeros_like(density)\n",
    "    de_c1 = numpy.zeros_like(density)\n",
    "    s1_ions = numpy.zeros_like(density)\n",
    "    err1 = numpy.zeros_like(density)\n",
    "    #\n",
    "    SAHA_s2 = numpy.zeros_like(density)\n",
    "    d1c2 = numpy.zeros_like(density)\n",
    "    d1c2_old = numpy.zeros_like(density)\n",
    "    as2 = numpy.zeros_like(density)\n",
    "    bs2 = numpy.zeros_like(density)\n",
    "    cs2 = numpy.zeros_like(density)\n",
    "    d0c2 = numpy.zeros_like(density)\n",
    "    de_c2 = numpy.zeros_like(density)\n",
    "    s2_ions = numpy.zeros_like(density)\n",
    "    err2 = numpy.zeros_like(density)\n",
    "    #\n",
    "    SAHA_s3 = numpy.zeros_like(density)\n",
    "    d1c3 = numpy.zeros_like(density)\n",
    "    d1c3_old = numpy.zeros_like(density)\n",
    "    as3 = numpy.zeros_like(density)\n",
    "    bs3 = numpy.zeros_like(density)\n",
    "    cs3 = numpy.zeros_like(density)\n",
    "    d0c3 = numpy.zeros_like(density)\n",
    "    de_c3 = numpy.zeros_like(density)\n",
    "    s3_ions = numpy.zeros_like(density)\n",
    "    err3 = numpy.zeros_like(density)\n",
    "    #\n",
    "    SAHA_gas = numpy.zeros_like(density)\n",
    "    d1g = numpy.zeros_like(density)\n",
    "    d1g_old = numpy.zeros_like(density)\n",
    "    ag = numpy.zeros_like(density)\n",
    "    bg = numpy.zeros_like(density)\n",
    "    cg = numpy.zeros_like(density)\n",
    "    d0g = numpy.zeros_like(density)\n",
    "    de_g = numpy.zeros_like(density)\n",
    "    gas_ions = numpy.zeros_like(density)\n",
    "    errg = numpy.zeros_like(density)\n",
    "    ##\n",
    "    s1_neutrals = numpy.zeros_like(density)\n",
    "    s2_neutrals = numpy.zeros_like(density)\n",
    "    s3_neutrals = numpy.zeros_like(density)\n",
    "    gas_neutrals = numpy.zeros_like(density)\n",
    "    electrons = numpy.zeros_like(density)\n",
    "    P_electrons = numpy.zeros_like(density) #electron pressure\n",
    "    #\n",
    "    ions_total = numpy.zeros_like(density)\n",
    "    neutrals_total = numpy.zeros_like(density)\n",
    "    #\n",
    "    d1c1[:] = 0.0\n",
    "    d1c2[:] = 0.0\n",
    "    d1c3[:] = 0.0\n",
    "    d1g[:] = 0.0\n",
    "    #\n",
    "    err1[:] = 10.\n",
    "    err2[:] = 10.\n",
    "    err3[:] = 10.\n",
    "    errg[:] = 10.\n",
    "    #\n",
    "    d0c1[:] = 1.0\n",
    "    d0c2[:] = 1.0\n",
    "    d0c3[:] = 1.0\n",
    "    d0g[:] = 1.0\n",
    "    #\n",
    "    iterations = 0\n",
    "    itermax = 20000\n",
    "    itermax2 = itermax-10\n",
    "    tolerance = 1e-7\n",
    "    #\n",
    "    domain_size = density.size\n",
    "    #\n",
    "    for i in range(domain_size):\n",
    "        #\n",
    "        while ((err1[i] > tolerance) and (err2[i]>tolerance) and\\\n",
    "               (err3[i]>tolerance) and (errg[i]>tolerance)):\n",
    "            #----------------------------------------------------------------------\n",
    "            #species 1\n",
    "            d1c1_old[i] = d1c1[i]\n",
    "            SAHA_s1[i] =  ( ( (2*numpy.pi*Cme*Ckb*T_el[i]) / (Ch**2) )**(3/2) ) *\\\n",
    "                     math.exp((-E1)/(constants.k*T_el[i]))\n",
    "            as1[i] = nc1[i]\n",
    "            bs1[i] = nc2[i]*d1c2[i] + nc3[i]*d1c3[i] + ncg1[i]*d1g[i] + SAHA_s1[i]\n",
    "            cs1[i] = - SAHA_s1[i]\n",
    "            d1c1[i] = (-bs1[i] + numpy.sqrt(bs1[i]**2 - 4*as1[i]*cs1[i]))/(2*as1[i])\n",
    "            #\n",
    "            d0c1[i] = 1. - d1c1[i]\n",
    "            de_c1[i] = d1c1[i]\n",
    "            #\n",
    "            s1_ions[i] = d1c1[i]*rhox[i]*c1[i]/M1\n",
    "            #-----------------------------------------------------------------\n",
    "            #species 2\n",
    "            d1c2_old[i] = d1c2[i]\n",
    "            SAHA_s2[i] =  ( ( (2*numpy.pi*Cme*Ckb*T_el[i]) / (Ch**2) )**(3/2) ) *\\\n",
    "                     math.exp((-E2)/(constants.k*T_el[i]))\n",
    "            as2[i] = nc2[i]\n",
    "            bs2[i] = nc1[i]*d1c1[i] + nc3[i]*d1c3[i] + ncg1[i]*d1g[i] + SAHA_s2[i]\n",
    "            cs2[i] = - SAHA_s2[i]\n",
    "            d1c2[i] = (-bs2[i] + numpy.sqrt(bs2[i]**2 - 4*as2[i]*cs2[i]))/(2*as2[i])\n",
    "            #\n",
    "            d0c2[i] = 1. - d1c2[i]\n",
    "            de_c2[i] = d1c2[i]\n",
    "            #\n",
    "            s2_ions[i] = d1c2[i]*rhox[i]*c2[i]/M2\n",
    "            #-----------------------------------------------------------------\n",
    "            #species 3\n",
    "            d1c3_old[i] = d1c3[i]\n",
    "            SAHA_s3[i] =  ( ( (2*numpy.pi*Cme*Ckb*T_el[i]) / (Ch**2) )**(3/2) ) *\\\n",
    "                     math.exp((-E3)/(constants.k*T_el[i]))\n",
    "            as3[i] = nc3[i]\n",
    "            bs3[i] = nc1[i]*d1c1[i] + nc2[i]*d1c2[i] + ncg1[i]*d1g[i] + SAHA_s3[i]\n",
    "            cs3[i] = - SAHA_s3[i]\n",
    "            d1c3[i] = (-bs3[i] + numpy.sqrt(bs3[i]**2 - 4*as3[i]*cs3[i]))/(2*as3[i])\n",
    "            #\n",
    "            d0c3[i] = 1. - d1c3[i]\n",
    "            de_c3[i] = d1c3[i]\n",
    "            #\n",
    "            s3_ions[i] = d1c3[i]*rhox[i]*c3[i]/M3\n",
    "            #---------------------------------------------------------------------\n",
    "            #gas\n",
    "            d1g_old[i] = d1g[i]\n",
    "            SAHA_gas[i] = ( ( (2*numpy.pi*Cme*Ckb*T_el[i]) / (Ch**2) )**(3/2) ) *\\\n",
    "                     math.exp((-Egas)/(constants.k*T_el[i]))\n",
    "            ag[i] = ncg1[i]\n",
    "            bg[i] = nc1[i]*d1c1[i] + nc2[i]*d1c2[i] + nc3[i]*d1c3[i] + SAHA_gas[i]\n",
    "            cg[i] = - SAHA_gas[i]\n",
    "            d1g[i]  = (-bg[i] + numpy.sqrt(bg[i]**2 - 4*ag[i]*cg[i]))/(2*ag[i])\n",
    "            #\n",
    "            d0g[i] = 1. - d1g[i]\n",
    "            de_g[i] = d1g[i]\n",
    "            #\n",
    "            gas_ions[i] = d1g[i]*rhox[i]*cg1[i]/Mg1\n",
    "            #-------------------------------------------------------------------\n",
    "            # electrons\n",
    "            electrons[i] = s1_ions[i] + s2_ions[i] +\\\n",
    "                           s3_ions[i] + gas_ions[i] #number density, enforce LTE\n",
    "            P_electrons[i] = numpy.abs(electrons[i]-ne_old[i])*Ckb*T_el[i]\n",
    "            #--------------------------------------------------------------------\n",
    "            #neutrals\n",
    "            s1_neutrals[i] = d0c1[i]*rhox[i]*c1[i]/M1\n",
    "            s2_neutrals[i] = d0c2[i]*rhox[i]*c2[i]/M2\n",
    "            s3_neutrals[i] = d0c3[i]*rhox[i]*c3[i]/M3\n",
    "            gas_neutrals[i] = d0g[i]*rhox[i]*cg1[i]/Mg1\n",
    "            #\n",
    "            #--------------------------------------------------------------------\n",
    "            #totals\n",
    "            ions_total[i] = gas_ions[i] + s1_ions[i] + s2_ions[i] + s3_ions[i] \n",
    "            neutrals_total[i] = s1_neutrals[i] + s2_neutrals[i] +\\\n",
    "                                s3_neutrals[i] + gas_neutrals[i]\n",
    "            #----------------------------------------------------------------------\n",
    "            #bound for minimum number of electrons:\n",
    "            if (electrons[i]<ne_old[i]):\n",
    "                electrons[i] = ne_old[i]\n",
    "            if (ions_total[i]<ne_old[i]):\n",
    "                ions_total[i] = ne_old[i]#electrons[i]\n",
    "            #\n",
    "            #errors\n",
    "            err1[i] = numpy.abs(d1c1[i] - d1c1_old[i])\n",
    "            err2[i] = numpy.abs(d1c2[i] - d1c2_old[i])\n",
    "            err3[i] = numpy.abs(d1c3[i] - d1c3_old[i])\n",
    "            errg[i] = numpy.abs(d1g[i] - d1g_old[i])\n",
    "            #\n",
    "            iterations += 1\n",
    "        \n",
    "            if (iterations>itermax):\n",
    "                print('max iterations reached')\n",
    "                break\n",
    "            #\n",
    "    return electrons,ions_total, neutrals_total,P_electrons"
   ]
  },
  {
   "cell_type": "code",
   "execution_count": null,
   "metadata": {
    "collapsed": true
   },
   "outputs": [],
   "source": [
    "nexn,nixn,noxn,\\\n",
    "pelectrons = saha_algorithm(Tn,rhoxn,cB,cNi,cCo,cN,Ips1,Ips2,Ips3,Ipg1,\\\n",
    "                                    M_B,M_Ni,M_Co,M_N,ne0)"
   ]
  },
  {
   "cell_type": "code",
   "execution_count": null,
   "metadata": {
    "collapsed": false
   },
   "outputs": [],
   "source": [
    "nexn[:10]"
   ]
  },
  {
   "cell_type": "code",
   "execution_count": null,
   "metadata": {
    "collapsed": false
   },
   "outputs": [],
   "source": [
    "nixn[:10]"
   ]
  },
  {
   "cell_type": "code",
   "execution_count": null,
   "metadata": {
    "collapsed": false
   },
   "outputs": [],
   "source": [
    "noxn[:10]"
   ]
  },
  {
   "cell_type": "code",
   "execution_count": null,
   "metadata": {
    "collapsed": false
   },
   "outputs": [],
   "source": [
    "pelectrons[:10]"
   ]
  },
  {
   "cell_type": "markdown",
   "metadata": {},
   "source": [
    "## Initially then, there is little ionization because the initialized temperature is not high enough to sublimate too much material from the anode"
   ]
  },
  {
   "cell_type": "markdown",
   "metadata": {},
   "source": [
    "##### Update Electrical Conductivity"
   ]
  },
  {
   "cell_type": "code",
   "execution_count": null,
   "metadata": {
    "collapsed": true
   },
   "outputs": [],
   "source": [
    "time = 0 + dt #time n = 1"
   ]
  },
  {
   "cell_type": "code",
   "execution_count": null,
   "metadata": {
    "collapsed": false
   },
   "outputs": [],
   "source": [
    "def get_electrical_conductivity(temperature,electrical_conductivity,density_mixture,\\\n",
    "                                electron_number_density,neutral_number_density,\\\n",
    "                                reference_temperature,time):\n",
    "    ''' \n",
    "    Obtain electrical conductivity based on the chapmann-enskog equation\n",
    "    \n",
    "    Parameters:\n",
    "    ------\n",
    "    temperature: temperature obtained from energy equation\n",
    "    electrical_conductivity:\n",
    "    \n",
    "    Return:\n",
    "    -------\n",
    "    e_cond: electrical conductivitiy\n",
    "    '''\n",
    "    domain_size = numpy.size(electrical_conductivity)\n",
    "    Qm = numpy.zeros((domain_size),dtype=float)\n",
    "    #\n",
    "    na = neutral_number_density.copy()\n",
    "    ne = electron_number_density.copy()\n",
    "    #\n",
    "    Tx = temperature.copy()\n",
    "    Tref = reference_temperature.copy()\n",
    "    #\n",
    "    rho_mix = density_mixture.copy()\n",
    "    #\n",
    "    #momentum transfer cross section:\n",
    "    r1 = 5.25\n",
    "    r2 = 7.0\n",
    "    Qm[1:-1] = ((r1 + (r2-r1)*(Tx[1:-1]-300.)/(11604.*(1.74-0.01)))*1e-16)*1e-4\n",
    "    Qm[0] = Qm[1]\n",
    "    Qm[-1] = Qm[-2]\n",
    "    #Qm[:] = 40e-20\n",
    "    #\n",
    "    #electron-neutral collision\n",
    "    v_e_a = numpy.zeros((domain_size),dtype=float)\n",
    "    v_e_a[1:-1] = (4./3.)*Qm[1:-1]*(na[1:-1])*\\\n",
    "                    numpy.sqrt((8.*Ckb*Tx[1:-1]) /(numpy.pi*Cme))\n",
    "    v_e_a[0] = v_e_a[1]\n",
    "    v_e_a[-1] = v_e_a[-2]\n",
    "    #electron-ion collision\n",
    "    v_e_i = numpy.zeros((domain_size),dtype=float)\n",
    "    lnA = numpy.zeros((domain_size),dtype=float)\n",
    "    ke = numpy.zeros((domain_size),dtype=float)\n",
    "    #\n",
    "    ke[1:-1] = numpy.sqrt((4.*numpy.pi*ne[1:-1]*Ce**2)/(Ckb*Tx[1:-1]))\n",
    "    gam = numpy.exp(0.577)\n",
    "    lnA[1:-1] = numpy.log(4*Ckb*Tx[1:-1]/(ke[1:-1]*(Ce**2)*(gam**2))) -\\\n",
    "                2*numpy.log(numpy.sqrt(2.))\n",
    "    #\n",
    "    v_e_i[1:-1] = lnA[1:-1]*(4./3.)*(numpy.sqrt(2*numpy.pi))*ne[1:-1]*\\\n",
    "                    numpy.sqrt((Ckb*Tx[1:-1])/Cme)*\\\n",
    "                    (Ce**2/(Ckb*Tx[1:-1]))**2\n",
    "    v_e_i[0] = v_e_i[1]\n",
    "    v_e_i[-1] = v_e_i[-2]\n",
    "    #electrical conductivity\n",
    "    e_cond =  numpy.zeros((domain_size),dtype=float)\n",
    "    e_cond_real =  numpy.zeros((domain_size),dtype=float)\n",
    "    econd_max = 2e4\n",
    "    econd_min = I_arc\n",
    "    #\n",
    "    e_cond_real[1:-1] = ((Ce**2)/Cme)*(ne[1:-1]/(v_e_i[1:-1]+v_e_a[1:-1]))\n",
    "    e_cond_real[0] = e_cond_real[1]\n",
    "    e_cond_real[-1] = e_cond_real[-2]\n",
    "    #\n",
    "    for i in range(domain_size):\n",
    "        if e_cond_real[i]>econd_max:\n",
    "            e_cond_real[i] = econd_max\n",
    "        if e_cond_real[i]<econd_min:\n",
    "            e_cond_real[i] = econd_min\n",
    "    #\n",
    "    #if too many fluctuations, can set the entire domain to the average:\n",
    "    econdavg = numpy.zeros((domain_size),dtype=float)\n",
    "    econdavg = numpy.average(e_cond_real[:])\n",
    "    e_cond_real[:] = econdavg\n",
    "    #\n",
    "    e_cond[:] = econd_min\n",
    "    #\n",
    "    return e_cond, e_cond_real"
   ]
  },
  {
   "cell_type": "code",
   "execution_count": null,
   "metadata": {
    "collapsed": false
   },
   "outputs": [],
   "source": [
    "econd, econdreal = get_electrical_conductivity(T0, econd0, rhoxn, nexn,\\\n",
    "                                               noxn, Tref, time)"
   ]
  },
  {
   "cell_type": "code",
   "execution_count": null,
   "metadata": {
    "collapsed": false
   },
   "outputs": [],
   "source": [
    "econd[:10] #electrical conductivity {S/m}"
   ]
  },
  {
   "cell_type": "code",
   "execution_count": null,
   "metadata": {
    "collapsed": false
   },
   "outputs": [],
   "source": [
    "econdreal[:10]"
   ]
  },
  {
   "cell_type": "code",
   "execution_count": null,
   "metadata": {
    "collapsed": false
   },
   "outputs": [],
   "source": [
    "def get_temperature_bc(temperature,electron_density_anode,\\\n",
    "                       current_density_anode,velocity_anode,density_anode,\\\n",
    "                       specific_heat_anode_area, delx):\n",
    "    ''' \n",
    "    Obtains boundary temperature at anode from heat fluxes\n",
    "    \n",
    "    parameters:\n",
    "    ----------\n",
    "    temperature: temperature at current time step\n",
    "    reference_temperature: temperature at previous time step\n",
    "    electron_density_anode: use index=1\n",
    "    current_density_anode: anode current density\n",
    "    velocity_anode: boundary condition velocity\n",
    "    density_anode: boundary condition density \n",
    "    delx\n",
    "    \n",
    "    Returns:\n",
    "    --------\n",
    "    temperature with boundary conditions\n",
    "    '''\n",
    "    Tbc = temperature.copy()\n",
    "    Tan_ref = Tbc[0]\n",
    "    #\n",
    "    cp_location = specific_heat_anode_area\n",
    "    ne_an = electron_density_anode \n",
    "    j_an = current_density_anode \n",
    "    #\n",
    "    uan = velocity_anode #velocity bc value\n",
    "    rhoan = density_anode #density bc value\n",
    "    #--------------------ANODE REGION-------------------------------------------#\n",
    "    #work function of anode (eV)\n",
    "    phi_an_eV = anode_workfunction \n",
    "    #temperature of oncoming electrons in kevlin\n",
    "    Te_an = Tbc[1] \n",
    "    #temperature of oncoming electrons in eV\n",
    "    Tev_an = Te_an/(11604.52500617)\n",
    "    #electron flux [1/(m^2 sec)]=vth*ne\n",
    "    jth = Ce*ne_an*numpy.sqrt((Ckb*Te_an)/(2*numpy.pi*Cme)) #j_an#\n",
    "    #anode sheath drop, eV\n",
    "    Ua_eV = - Tev_an*numpy.log(jth/j_an) \n",
    "    #anode heat flux, W/m^2\n",
    "    qa = j_an*numpy.abs(2*Tev_an + phi_an_eV + Ua_eV)  \n",
    "    # Heat of vaporization of anode material flux\n",
    "    Levap_flux = dH_an*(uan*rhoan)\n",
    "    # enthalpy of evaporated mass flux\n",
    "    hevap_flux = cp_an*(Tbc[0])*uan*rhoan \n",
    "    # anode temperature (bc pg 315 plasma book)\n",
    "    heat_flux_anode = (delx/k_an)*(qa - Levap_flux) \n",
    "    # define anode temperature\n",
    "    Tan = Tbc[1] + heat_flux_anode \n",
    "    Tbc[0] = Tan\n",
    "    #\n",
    "    if (heat_flux_anode <= 0.):\n",
    "        Tbc[0] = Tbc[1]\n",
    "    #--------------------Cathode REGION-------------------------------------------#\n",
    "    Tbc[-1] = 2*Tbc[-2] - Tbc[-3] #Tbc[-2] #\n",
    "    #\n",
    "    return Tbc,heat_flux_anode\n"
   ]
  },
  {
   "cell_type": "markdown",
   "metadata": {},
   "source": [
    "##### update enthalpy for energy equation"
   ]
  },
  {
   "cell_type": "code",
   "execution_count": null,
   "metadata": {
    "collapsed": true
   },
   "outputs": [],
   "source": [
    "def get_enthalpy(temperature,specific_heat):\n",
    "    ''' \n",
    "    computes enthalpy based on specific heat and temperature field\n",
    "    \n",
    "    Returns:\n",
    "    --------\n",
    "    enthalpy in the system\n",
    "    '''\n",
    "    cpx = specific_heat.copy()\n",
    "    Tx = temperature.copy()\n",
    "    hx = numpy.zeros_like(temperature)\n",
    "    #\n",
    "    hx[:] = cpx[:]*(Tx[:])\n",
    "    #\n",
    "    return hx"
   ]
  },
  {
   "cell_type": "code",
   "execution_count": null,
   "metadata": {
    "collapsed": false
   },
   "outputs": [],
   "source": [
    "hn = get_enthalpy(Tn,cpn) \n",
    "hn[:10]"
   ]
  },
  {
   "cell_type": "markdown",
   "metadata": {},
   "source": [
    "### close the cycle and calculate temperature"
   ]
  },
  {
   "cell_type": "code",
   "execution_count": null,
   "metadata": {
    "collapsed": false
   },
   "outputs": [],
   "source": [
    "def get_energy(density,velocity,pressure,reference_pressure,temperature,\\\n",
    "               enthalpy,specific_heat,thermal_conductivity,viscosity,\\\n",
    "               current_density,electrical_conductivity,electron_density,delx,delt):\n",
    "    ''' \n",
    "    Defines energy based on computed values, \n",
    "    includes Joule Heating, Heat Flux, DP/Dt, d(puh)/dx\n",
    "    \n",
    "    Note that this actually solves for (rho*h), so \n",
    "                                         h = (rho*h)\\rho\n",
    "    \n",
    "    Then we can solve for temperature,\n",
    "                                         T^{n+1} = dh/cp + T_{ref}\n",
    "    \n",
    "    Returns:\n",
    "    --------\n",
    "    Temperature at next time step\n",
    "    enthalpy at next time step\n",
    "    '''\n",
    "    #density\n",
    "    rhox = density.copy() #n\n",
    "    #velocity\n",
    "    ux = velocity.copy() #n\n",
    "    uxint = numpy.zeros_like(enthalpy)\n",
    "    uxint[:] = 0.5*(ux[1:]+ux[:-1])\n",
    "    #pressure\n",
    "    P_ref = reference_pressure.copy()#pressure.copy() # #n-1\n",
    "    Px = pressure.copy() #n\n",
    "    #temperature\n",
    "    Tx = temperature.copy() #n\n",
    "    #enthalpy\n",
    "    hx = enthalpy.copy() # n\n",
    "    #thermophysical properties\n",
    "    cpx = specific_heat.copy()\n",
    "    kx = thermal_conductivity.copy()\n",
    "    mux = viscosity.copy()\n",
    "    #electrical properties\n",
    "    jx = current_density.copy()\n",
    "    econdx = electrical_conductivity.copy()\n",
    "    #electron density\n",
    "    nex = electron_density.copy()\n",
    "    #\n",
    "    # create flux arrays for energy equation\n",
    "    Vflux = numpy.zeros_like(enthalpy) #viscous heat flux\n",
    "    Hflux = numpy.zeros_like(enthalpy) #conductive heat flux\n",
    "    Jflux = numpy.zeros_like(enthalpy) #joule heating\n",
    "    Pflux = numpy.zeros_like(enthalpy) # pressure flux\n",
    "    Mflux  = numpy.zeros_like(enthalpy) #momentum flux\n",
    "    rhoh_old = numpy.zeros_like(enthalpy) # rho*h @ n-1\n",
    "    #property arrays\n",
    "    rhoh_new = numpy.zeros_like(enthalpy) #density*enthalpy n+1\n",
    "    h_new = numpy.zeros_like(enthalpy) #enthalpy n+1\n",
    "    T_new = numpy.zeros_like(enthalpy) #temperature n+1\n",
    "    Temp = numpy.zeros_like(enthalpy) # delta Temp\n",
    "    Temp[:] = hx[:]/cpx[:] #Tx[:]#\n",
    "    #\n",
    "    # joule heating flux\n",
    "    Jflux[1:-1] = delt*((jx[1:-1]**2)/econdx[1:-1])+\\\n",
    "                    delt*((5./2.)*Ckb/Ce)*(jx[1:-1])*\\\n",
    "                    (0.5/delx)*(Temp[2:] - Temp[:-2])\n",
    "    #viscous heat flux\n",
    "    vel_mu = numpy.zeros_like(enthalpy)\n",
    "    vel_mu[1:-1] = uxint[1:-1]*mux[1:-1]\n",
    "    vel_mu[0] = vel_mu[1]\n",
    "    vel_mu[-1] = vel_mu[-2]\n",
    "    Vflux[1:-1] = -(0.5*delt/delx)*(vel_mu[2:]*uxint[2:]-vel_mu[:-2]*uxint[:-2]) -\\\n",
    "                -(vel_mu[1:-1])*(0.5*delt/delx)*(uxint[2:]-2*uxint[1:-1]-uxint[:-2])\n",
    "    # conductive heat flux\n",
    "    Hflux[1:-1] = delt*(kx[1:-1]/(delx**2))*(Temp[2:] - 2*Temp[1:-1] + Temp[:-2])+\\\n",
    "                  delt*(0.5/delx)*((kx[2:]-kx[:-2])*(Temp[2:]-Temp[:-2]))\n",
    "    # pressure flux\n",
    "#     Pflux[1:-1] = (Px[1:-1]-P_ref[1:-1]) +\\\n",
    "#                     (0.5*delt/delx)*(Px[2:]-Px[:-2])*uxint[1:-1]\n",
    "    Pflux[1:-1] = -(0.5*delt/delx)*(Px[2:]*uxint[2:]-Px[:-2]*uxint[:-2])\n",
    "    # convective heat flux, or momentum flux\n",
    "    Mflux[1:-1] = - (0.5*delt/delx)*\\\n",
    "                    (rhox[2:]*uxint[2:]*hx[2:] - rhox[:-2]*uxint[:-2]*hx[:-2])\n",
    "    # Energy at n:\n",
    "    rhoh_old[1:-1] = rhox[1:-1]*hx[1:-1]\n",
    "    # Energy at n+1\n",
    "    rhoh_new[1:-1] = rhoh_old[1:-1] + Mflux[1:-1] + Pflux[1:-1] +\\\n",
    "                        Hflux[1:-1] + Jflux[1:-1]\n",
    "    # new (n+1) enthalpy values at interior points\n",
    "    #note that here we approximate by dividing with rho @ n bc we dont have @ n+1\n",
    "    h_new[1:-1] = rhoh_new[1:-1]/(rhox[1:-1])\n",
    "    #------------------------------------------------\n",
    "    # new temperature values\n",
    "    #interior points\n",
    "    T_new[1:-1] = ((h_new[1:-1]-hx[1:-1])/cpx[1:-1]) + Tx[1:-1]\n",
    "    #T_new[1:-1] = ((h_new[1:-1])/cpx[1:-1])\n",
    "    T_new[0] = T_new[1]\n",
    "    T_new[-1] = T_new[-2]\n",
    "    #temperature boundary conditions\n",
    "    T_new,qanflux = get_temperature_bc(T_new,nex[1],jn[1],ux[0],rhox[0],cpx[1],delx)\n",
    "    #enthalpy boundary values\n",
    "    h_new[0] = cpx[0]*T_new[0]\n",
    "    h_new[-1] = h_new[-2]\n",
    "    # maximum flux and cfl number\n",
    "    efluxmax = numpy.max(rhoh_new[:]*uxint[:])\n",
    "    cfle = (delt/(delx))*efluxmax\n",
    "    #\n",
    "    return T_new,h_new,cfle,efluxmax,qanflux"
   ]
  },
  {
   "cell_type": "code",
   "execution_count": null,
   "metadata": {
    "collapsed": false
   },
   "outputs": [],
   "source": [
    "#%%timeit\n",
    "Tn,hn,cflen,efmax,qhf = get_energy(rhoxn,uxn,pxn,pref,Tn,hn,cpn,kn,mun,\\\n",
    "                               jn,econd,nexn,dx,dt)"
   ]
  },
  {
   "cell_type": "code",
   "execution_count": null,
   "metadata": {
    "collapsed": false,
    "scrolled": false
   },
   "outputs": [],
   "source": [
    "Tn[:10] #updated temperature, kelvin"
   ]
  },
  {
   "cell_type": "code",
   "execution_count": null,
   "metadata": {
    "collapsed": false
   },
   "outputs": [],
   "source": [
    "hn[:10]"
   ]
  },
  {
   "cell_type": "code",
   "execution_count": null,
   "metadata": {
    "collapsed": false
   },
   "outputs": [],
   "source": [
    "cflen"
   ]
  },
  {
   "cell_type": "code",
   "execution_count": null,
   "metadata": {
    "collapsed": false
   },
   "outputs": [],
   "source": [
    "efmax"
   ]
  },
  {
   "cell_type": "markdown",
   "metadata": {
    "collapsed": true
   },
   "source": [
    "# Main Algorithm"
   ]
  },
  {
   "cell_type": "code",
   "execution_count": null,
   "metadata": {
    "collapsed": false
   },
   "outputs": [],
   "source": [
    "def get_compressibility(pressure,reference_pressure,density,reference_density):\n",
    "    ''' Defines compressibility\n",
    "    '''\n",
    "    Beta = numpy.zeros_like(density)\n",
    "    px = pressure.copy()\n",
    "    pxref = reference_pressure.copy()\n",
    "    rhox = density.copy()\n",
    "    rhoxref = reference_density.copy()\n",
    "    #\n",
    "    for i in range(Beta.size):\n",
    "        if ( (px[i]-pxref[i]) < 1e-20 ):\n",
    "            Beta[i] = 0.\n",
    "        else:\n",
    "            Beta[i] = (1/rhox[i])*(rhox[i]-rhoxref[i])/(px[i]-pxref[i])\n",
    "    #\n",
    "    return Beta"
   ]
  },
  {
   "cell_type": "code",
   "execution_count": null,
   "metadata": {
    "collapsed": false
   },
   "outputs": [],
   "source": [
    "def get_adaptive_time_step(cflenergy,cflmomentum,energyflux,momentumflux,\\\n",
    "                           delx,delt_ref,maximum_velocity):\n",
    "    ''' Adaptive time step\n",
    "    '''\n",
    "    dtlim = 4e-9\n",
    "    cfle_max = 75\n",
    "    cflm_max = 0.75\n",
    "    #\n",
    "    if (cflenergy>cfle_max) or (cflmomentum>cflm_max): \n",
    "        dte = (delx*cfle_max)/energyflux\n",
    "        dtm = (delx*cflm_max)/momentumflux\n",
    "        dtlim = numpy.minimum(dte,dtm)\n",
    "    #\n",
    "    if (dtlim>delt_ref):\n",
    "        dte = (delx*cfle_max)/energyflux\n",
    "        dtm = (delx*cflm_max)/momentumflux\n",
    "        dtlim = numpy.minimum(dte,dtm)\n",
    "    #\n",
    "#     if (cflmomentum<cflmomentum_ref) and (cflenergy<=cflenergy_ref):\n",
    "#         dte = (delx*cfle_max)/(energyflux-numpy.abs(energyflux-energyflux_ref))\n",
    "#         dtm = (delx*cflm_max)/(momentumflux-numpy.abs(momentumflux-\\\n",
    "#                                                      momentumflux_ref))\n",
    "#         dtlim = numpy.minimum(dte,dtm)\n",
    "    #\n",
    "    return dtlim"
   ]
  },
  {
   "cell_type": "code",
   "execution_count": null,
   "metadata": {
    "collapsed": false
   },
   "outputs": [],
   "source": [
    "dt_test = get_adaptive_time_step(cflen,cflmn,efmax,mfmax,dx,dt,numpy.max(uxn))\n",
    "dt_test"
   ]
  },
  {
   "cell_type": "code",
   "execution_count": null,
   "metadata": {
    "collapsed": false
   },
   "outputs": [],
   "source": [
    "def get_solution(enthalpy,temperature,reference_temperature,pressure,\\\n",
    "                 reference_pressure,density,reference_density,velocity,\\\n",
    "                 concentration_s1,concentration_s2,concentration_s3,\\\n",
    "                 concentration_g1,electric_potential,current_density,\\\n",
    "                 electrical_conductivity,number_density,\\\n",
    "                 delx,delt,cfl_energy,cfl_momentum,energyfluxmax,momentumfluxmax):\n",
    "    ''' \n",
    "    this function combines the entire algorithm and provides a time-marched solution\n",
    "    These are constant:\n",
    "    molar_mass_s1,molar_mass_s2,molar_mass_s3,\\\n",
    "                 molar_mass_g1,molar_fraction_s1,molar_fraction_s2,\\\n",
    "                 molar_fraction_s3,molar_fraction_g1,molar_mass_anode,\\\n",
    "    Returns:\n",
    "    -----------\n",
    "    A whole bunch of stuff!\n",
    "    \n",
    "    '''\n",
    "    hn_ref = enthalpy.copy()\n",
    "    #used for stability condition\n",
    "    delt_ref = delt\n",
    "    # cfl numbers for stability condition\n",
    "    cflen = cfl_energy\n",
    "    cflmn = cfl_momentum\n",
    "    cflen_ref = cfl_energy\n",
    "    cflmn_ref = cfl_momentum\n",
    "    #fluxes for stability condition\n",
    "    efmax = energyfluxmax\n",
    "    mfmax = momentumfluxmax\n",
    "    #temperature\n",
    "    Tnref = temperature.copy()\n",
    "    Tnref_old = reference_temperature.copy()\n",
    "    #pressure\n",
    "    pxn = pressure.copy() \n",
    "    pxn_ref = reference_pressure.copy()\n",
    "    #density\n",
    "    rhoxn = density.copy()\n",
    "    rhoxn_ref = reference_density.copy()\n",
    "    #velocity\n",
    "    uxn = velocity.copy()\n",
    "    #concentrations\n",
    "    cB  = concentration_s1.copy()\n",
    "    cNi = concentration_s2.copy()\n",
    "    cCo = concentration_s3.copy()\n",
    "    cN  = concentration_g1.copy() \n",
    "    # electric potential\n",
    "    phin = electric_potential.copy()\n",
    "    #current density\n",
    "    jn = current_density.copy()\n",
    "    # electrical conductivity\n",
    "    econdreal = electrical_conductivity.copy()\n",
    "    #number density of electrons\n",
    "    nexn = number_density.copy()\n",
    "    nexn_ref = number_density.copy() #reference_number_density\n",
    "    # arrays for output\n",
    "    #\n",
    "    time = 0 + delt_ref\n",
    "    #\n",
    "    t_terminal = 0.00005\n",
    "    #\n",
    "    iterations = 0\n",
    "    #------------------------------------------------------------------\n",
    "    itermax = int(1e9)\n",
    "    step_it = int(2000)\n",
    "    step_it_2 = int(5000)\n",
    "    check_iterations_size = int((itermax)/step_it)\n",
    "    check_iterations_size_2 = int((itermax)/step_it_2)\n",
    "    check_iterations = numpy.zeros((check_iterations_size))\n",
    "    check_iterations_v2 = numpy.zeros((check_iterations_size_2))\n",
    "    for j in range(check_iterations_size):\n",
    "        check_iterations[j] = j*step_it\n",
    "    for j in range(check_iterations_size_2):\n",
    "        check_iterations_v2[j] = j*step_it_2\n",
    "    #------------------------------------------------------------------\n",
    "    #\n",
    "    while (time < t_terminal):\n",
    "        #-----------------------\n",
    "        # iterations\n",
    "        iterations += 1\n",
    "        index = int(iterations)\n",
    "        #-----------------------\n",
    "        #adaptive time step:\n",
    "        delt = get_adaptive_time_step(cflen,cflmn,efmax,mfmax,delx,delt_ref,\\\n",
    "                                     numpy.max(uxn))\n",
    "        time = time + delt\n",
    "        #-----------------------\n",
    "        #thermophysical properties\n",
    "        kn, mun = get_thermophysical_properties(Tnref,cN,cB,cNi,cCo)\n",
    "        #specific heat\n",
    "        cpn = get_specific_heat(Tnref,cB,cNi,cCo,cN)\n",
    "        #-----------------------\n",
    "        #molar mass in domain\n",
    "        molmassn = get_molar_mass_domain(mB,mNi,mCo,mN,cB,cNi,cCo,cN)\n",
    "        #gas constant in domain\n",
    "        Rsn = get_gas_constant_domain(molmassn)\n",
    "        #-----------------------\n",
    "        #Anode Ablation\n",
    "        Tanode = get_anode_temperature(Tnref[0])\n",
    "        #saturation pressure\n",
    "        Psaturation = get_saturation_pressure(Tanode,xB,xNi,xCo)\n",
    "        # mass flux of evaporated material\n",
    "        ablrate = get_ablation_rate(Tanode,Psaturation,molmass_evap)\n",
    "        # thermal velocity of evaporated particles\n",
    "        velocity_evap = get_velocity_of_evaporated_mass(Tanode,molmass_evap)\n",
    "        #density of evaporated mass\n",
    "        rho_evap = get_density_of_evaporated_mass(ablrate,velocity_evap)\n",
    "        #density at the interface of anode and gap\n",
    "        rho_local = get_interface_density_anode(pxn[1],Tnref[1],Rsn[1],rho_evap)\n",
    "        # mass averaged velocity for anode bc\n",
    "        uabl = get_ablation_velocity(ablrate,rho_evap,rho_local)\n",
    "        #----------------------\n",
    "        #update velocity bcs\n",
    "        uxn = get_velocity_bc(uxn,uabl)\n",
    "        # update density boundary conditions\n",
    "        rho_anode = get_total_anode_density(rho_evap,rho_local)\n",
    "        rhoxn = get_density_bc(rhoxn,rho_evap,rho_local)\n",
    "        #rhoxn = get_mass_conservation(rhoxn, uxn, dx, dt, rho_anode)\n",
    "        #pressure anode bc\n",
    "        pxn = get_anode_pressure(pxn,Tanode,rhoxn[0],Rsn[0])\n",
    "        #-----------------------\n",
    "        #momentum equation - solve\n",
    "        momn = get_current_momentum(rhoxn,uxn, rho_anode)\n",
    "        rhoxn,uxn,pxn,cflmn,mfmax = get_momentum(momn,pxn,rhoxn,uxn,mun,\\\n",
    "                                                 delx,delt,uabl,rho_anode)\n",
    "        #------------------------\n",
    "        #check compressibility\n",
    "        compress = get_compressibility(pxn,pxn_ref,rhoxn,rhoxn_ref)\n",
    "        #--------------------\n",
    "        #mass diffusion\n",
    "        rhoB,rhoNi,rhoCo,rhoN,\\\n",
    "            cB,cNi,cCo,cN = get_mass_diffusion(pxn,Tnref,rhoxn,uxn,cB,cNi,cCo,cN,\\\n",
    "                                               delt,delx,\\\n",
    "                                               mB,mNi,mCo,mN,rho_evap,rho_local)\n",
    "        #-----------------------\n",
    "        #ionization rates\n",
    "        nexn,nixn,\\\n",
    "        noxn,pelectrons = saha_algorithm(Tnref,rhoxn,cB,cNi,cCo,cN,\\\n",
    "                                            Ips1,Ips2,Ips3,Ipg1,\\\n",
    "                                            M_B,M_Ni,M_Co,M_N,nexn_ref)\n",
    "        #electrical conductivity\n",
    "        econd,econdreal = get_electrical_conductivity(Tnref,econdreal,rhoxn,nexn,\\\n",
    "                                                      noxn,Tnref_old,time)\n",
    "        #-----------------------\n",
    "        #electric potential\n",
    "        #current density\n",
    "        #-----------------------\n",
    "        #total pressure \n",
    "        #-----------------------\n",
    "        #enthalpy\n",
    "        #hn = get_enthalpy(Tn,cpn) \n",
    "        #-----------------------\n",
    "        #solve energy equation to get temperature\n",
    "        Tn,hn,cflen,efmax,qhf = get_energy(rhoxn,uxn,pxn,pxn_ref,Tnref,\\\n",
    "                                       hn_ref,cpn,kn,mun,\\\n",
    "                                       jn,econdreal,nexn,delx,delt)\n",
    "        #------------------------\n",
    "        #update pressure\n",
    "        pxn[:] = rhoxn[:]*Rsn[:]*Tn[:]\n",
    "        #---------------------------\n",
    "        # now the cycle is complete!\n",
    "        # reference values\n",
    "        Tnref_old = Tnref.copy()\n",
    "        Tnref = Tn.copy()\n",
    "        hn_ref = hn.copy()\n",
    "        rhoxn_ref = rhoxn.copy()\n",
    "        pxn_ref = pxn.copy()\n",
    "        nexn_ref = nexn.copy() \n",
    "        delt_ref = delt\n",
    "        time_ref = time\n",
    "        #\n",
    "        cflen_ref = cflen\n",
    "        cflmn_ref = cflmn\n",
    "        #----------------------------\n",
    "        #\n",
    "        if iterations in check_iterations_v2:\n",
    "            plot( xc,numpy.round(Tn[1:-1],decimals=10),\\\n",
    "                 'grid location [m]','Temperature [K]',  'time= %.4g sec' %time)\n",
    "            pyplot.savefig('%.5g_temperature.png' %iterations)\n",
    "            #\n",
    "            plot( xb,numpy.round(uxn[1:-1],decimals=5),\\\n",
    "                 'grid location [m]','velocity [m/s]',  'time= %.4g sec' %time)\n",
    "            pyplot.savefig('%.5g_velocity.png' %iterations)\n",
    "            #\n",
    "            plot( xc,numpy.round(rhoxn[1:-1],decimals=4),\\\n",
    "                 'grid location [m]','density [kg/m3]',  'time= %.4g sec' %time)\n",
    "            pyplot.savefig('%.5g_density.png'%iterations)\n",
    "            #\n",
    "            plot( xc,numpy.round(pxn[1:-1],decimals=0),\\\n",
    "                 'grid location [m]','pressure [Pa]',  'time= %.4g sec' %time)\n",
    "            pyplot.savefig('%.5g_pressure.png'%iterations)\n",
    "            #\n",
    "            plot( xc,numpy.round(nexn[1:-1],decimals=0),\\\n",
    "                 'grid location [m]','ne [1/m3]',  'time= %.4g sec' %time)\n",
    "            pyplot.savefig('%.5g_ne.png'%iterations)\n",
    "            #\n",
    "            plot( xc,numpy.round(econdreal[1:-1],decimals=0),\\\n",
    "                 'grid location [m]','econd [S/m]',  'time= %.4g sec' %time)\n",
    "            pyplot.savefig('%.5g_econdreal.png'%iterations)\n",
    "        #\n",
    "        #-------------------------------------------------------------------------\n",
    "        #\n",
    "        if iterations in check_iterations:\n",
    "            print('---------------------------------------')\n",
    "            print('current iteration is: %.3g' %iterations)\n",
    "            print('evaporated density is: %.3g' %rho_evap)\n",
    "            print('ablation rate is: %.3g' %ablrate)\n",
    "            print('max compressibility is: %.3g' %numpy.max(compress))\n",
    "            print('time step value is: %.3g' %delt)\n",
    "            print('current time in seconds is: %.3g' %time)\n",
    "            print('anode velocity in [m/s] is: %.3g' %uxn[0])\n",
    "            print('uxn[1] velocity in [m/s] is: %.3g' %uxn[1])\n",
    "            print('uxn[2] velocity in [m/s] is: %.3g' %uxn[2])\n",
    "            print('uxn[3] velocity in [m/s] is: %.3g' %uxn[3])\n",
    "            print('max velocity is:  %.3g' %numpy.max(uxn))\n",
    "            print('min velocity is:  %.3g' %numpy.min(uxn))\n",
    "            print('anode density in [kg/m3] is: %.3g' %rhoxn[0])\n",
    "            print('rhoxn[1] density in [kg/m3] is: %.3g' %rhoxn[1])\n",
    "            print('rhoxn[2] density in [kg/m3] is: %.3g' %rhoxn[2])\n",
    "            print('rhoxn[3] density in [kg/m3] is: %.3g' %rhoxn[3])\n",
    "            print('max density is:  %.3g' %numpy.max(rhoxn))\n",
    "            print('min density is:  %.3g' %numpy.min(rhoxn))\n",
    "            print('Anode Temperature [K] is: %.3g' %Tn[0])\n",
    "            print('T[1] temperature in [K] is: %.3g' %Tn[1])\n",
    "            print('T[2] temperature in [K] is: %.3g' %Tn[2])\n",
    "            print('T[3] temperature in [K] is: %.3g' %Tn[3])\n",
    "            print('max temperature is:  %.3g' %numpy.max(Tn))\n",
    "            print('min temperature is:  %.3g' %numpy.min(Tn))\n",
    "            print('Anode Pressure [Pa] is: %.3g' %pxn[0])\n",
    "            print('p[1] pressure in [Pa] is: %.3g' %pxn[1])\n",
    "            print('p[2] pressure in [Pa] is: %.3g' %pxn[2])\n",
    "            print('p[3] pressure in [Pa] is: %.3g' %pxn[3])\n",
    "            print('max pressure is:  %.3g' %numpy.max(pxn))\n",
    "            print('min pressure is:  %.3g' %numpy.min(pxn))\n",
    "            print('momentum cfl number is:  %.3g' %cflmn)\n",
    "            print('energy cfl number is:  %.3g' %cflen)\n",
    "            print('anode heat flux:  %.4g' %qhf)\n",
    "            print('---------------------------------------')\n",
    "        #------------------------------------------------------------------------\n",
    "        if numpy.abs(Tn[0]-Tnref[0]) <1e-9 and iterations>1e6:\n",
    "            plot( xc,numpy.round(Tn[1:-1],decimals=10),\\\n",
    "                 'grid location [m]','Temperature [K]',  'time= %.4g sec' %time)\n",
    "            pyplot.savefig('%.5g_temperature.png' %iterations)\n",
    "            #\n",
    "            plot( xb,numpy.round(uxn[1:-1],decimals=5),\\\n",
    "                 'grid location [m]','velocity [m/s]',  'time= %.4g sec' %time)\n",
    "            pyplot.savefig('%.5g_velocity.png' %iterations)\n",
    "            #\n",
    "            plot( xc,numpy.round(rhoxn[1:-1],decimals=4),\\\n",
    "                 'grid location [m]','density [kg/m3]',  'time= %.4g sec' %time)\n",
    "            pyplot.savefig('%.5g_density.png'%iterations)\n",
    "            #\n",
    "            plot( xc,numpy.round(pxn[1:-1],decimals=0),\\\n",
    "                 'grid location [m]','pressure [Pa]',  'time= %.4g sec' %time)\n",
    "            pyplot.savefig('%.5g_pressure.png'%iterations)\n",
    "            #\n",
    "            plot( xc,numpy.round(nexn[1:-1],decimals=0),\\\n",
    "                 'grid location [m]','ne [1/m3]',  'time= %.4g sec' %time)\n",
    "            pyplot.savefig('%.5g_ne.png'%iterations)\n",
    "            #\n",
    "            plot( xc,numpy.round(econdreal[1:-1],decimals=0),\\\n",
    "                 'grid location [m]','econd [S/m]',  'time= %.4g sec' %time)\n",
    "            pyplot.savefig('%.5g_econdreal.png'%iterations)\n",
    "            print('anode temperature has reached steady state')\n",
    "            break\n",
    "    return iterations,time"
   ]
  },
  {
   "cell_type": "code",
   "execution_count": null,
   "metadata": {
    "collapsed": false,
    "scrolled": true
   },
   "outputs": [],
   "source": [
    "itnum,ctime = get_solution(hn,Tn,Tref,pxn,pref,rhoxn,rhoref,uxn,\n",
    "                          cB,cNi,cCo,cN,phin,jn,econd,nexn,dx,dt_test,\\\n",
    "                          cflen,cflmn,efmax,mfmax)"
   ]
  },
  {
   "cell_type": "code",
   "execution_count": null,
   "metadata": {
    "collapsed": false
   },
   "outputs": [],
   "source": [
    "length = int(numpy.size(cfl))\n",
    "iterations = numpy.zeros_like(cfl)\n",
    "for i in range(length):\n",
    "    iterations[i] = i"
   ]
  },
  {
   "cell_type": "code",
   "execution_count": null,
   "metadata": {
    "collapsed": false
   },
   "outputs": [],
   "source": [
    "length"
   ]
  },
  {
   "cell_type": "code",
   "execution_count": null,
   "metadata": {
    "collapsed": false
   },
   "outputs": [],
   "source": [
    "plot2(iterations[:],numpy.round(cfl[:], decimals=10),\\\n",
    "      'iterations','cfl',  'time= 10 milli-sec', numpy.size(cfl))\n",
    "#pyplot.savefig('cfl_50_millisec.png')"
   ]
  },
  {
   "cell_type": "code",
   "execution_count": null,
   "metadata": {
    "collapsed": false
   },
   "outputs": [],
   "source": [
    "plot2(iterations[:],numpy.round(ps[:], decimals=10),\\\n",
    "      'iterations','Vapor Pressure [Pa]',  'time= sec', numpy.size(ps))"
   ]
  },
  {
   "cell_type": "markdown",
   "metadata": {},
   "source": [
    "# intermediate time"
   ]
  },
  {
   "cell_type": "code",
   "execution_count": null,
   "metadata": {
    "collapsed": false
   },
   "outputs": [],
   "source": [
    "numpy.shape(ctime)"
   ]
  },
  {
   "cell_type": "code",
   "execution_count": null,
   "metadata": {
    "collapsed": false
   },
   "outputs": [],
   "source": [
    "numpy.shape(Ts)[0]"
   ]
  },
  {
   "cell_type": "code",
   "execution_count": null,
   "metadata": {
    "collapsed": true
   },
   "outputs": [],
   "source": [
    "array_size = numpy.shape(us)[0] #\n",
    "mid_time = int(array_size/2)\n",
    "#\n",
    "#for temperature\n",
    "array_size2 = numpy.shape(Ts)[0] #\n",
    "mid_time2 = int(array_size/2)"
   ]
  },
  {
   "cell_type": "code",
   "execution_count": null,
   "metadata": {
    "collapsed": false
   },
   "outputs": [],
   "source": [
    "mid_time"
   ]
  },
  {
   "cell_type": "code",
   "execution_count": null,
   "metadata": {
    "collapsed": false
   },
   "outputs": [],
   "source": [
    "ctime[mid_time]"
   ]
  },
  {
   "cell_type": "code",
   "execution_count": null,
   "metadata": {
    "collapsed": false
   },
   "outputs": [],
   "source": [
    "cfl[mid_time]*dx/numpy.max(us[mid_time])"
   ]
  },
  {
   "cell_type": "code",
   "execution_count": null,
   "metadata": {
    "collapsed": false
   },
   "outputs": [],
   "source": [
    "plot( xb,numpy.round(us[mid_time][1:-1], decimals=10), 'grid location [m]','velocity [m/s]',  'time= sec')"
   ]
  },
  {
   "cell_type": "code",
   "execution_count": null,
   "metadata": {
    "collapsed": false
   },
   "outputs": [],
   "source": [
    "plot( xc,ps[mid_time][1:-1], 'grid location [m]','Momentum Pressure [Pa]',  'time= sec')"
   ]
  },
  {
   "cell_type": "code",
   "execution_count": null,
   "metadata": {
    "collapsed": false
   },
   "outputs": [],
   "source": [
    "plot( xc,numpy.round(rhos[mid_time][1:-1],decimals=10), 'grid location [m]','density [kg/m3]',  'time= sec')"
   ]
  },
  {
   "cell_type": "code",
   "execution_count": null,
   "metadata": {
    "collapsed": false
   },
   "outputs": [],
   "source": [
    "plot( xc,nes[mid_time][1:-1], 'grid location [m]','electrons',  'time= sec')"
   ]
  },
  {
   "cell_type": "code",
   "execution_count": null,
   "metadata": {
    "collapsed": false
   },
   "outputs": [],
   "source": [
    "plot(xc,econdsreal[mid_time][1:-1], 'grid location [m]','real electrical conductivity',  'time= sec')"
   ]
  },
  {
   "cell_type": "code",
   "execution_count": null,
   "metadata": {
    "collapsed": false
   },
   "outputs": [],
   "source": [
    "#plot( xc, numpy.round(nos[mid_time][1:-1], decimals=25), 'grid location [m]','neutrals',  'time= sec')"
   ]
  },
  {
   "cell_type": "code",
   "execution_count": null,
   "metadata": {
    "collapsed": false
   },
   "outputs": [],
   "source": [
    "plot( xc,numpy.round(Ts[mid_time][1:-1],decimals=10), 'grid location [m]','Temperature [K]',  'time= sec')"
   ]
  },
  {
   "cell_type": "code",
   "execution_count": null,
   "metadata": {
    "collapsed": false
   },
   "outputs": [],
   "source": [
    "cfl[mid_time]"
   ]
  },
  {
   "cell_type": "markdown",
   "metadata": {},
   "source": [
    "# final time"
   ]
  },
  {
   "cell_type": "code",
   "execution_count": null,
   "metadata": {
    "collapsed": false
   },
   "outputs": [],
   "source": [
    "cfl[1-1]"
   ]
  },
  {
   "cell_type": "code",
   "execution_count": null,
   "metadata": {
    "collapsed": false
   },
   "outputs": [],
   "source": [
    "plot( xb,numpy.round(us[-1][1:-1],decimals=10), 'grid location in meters','velocity m/s',  'time= sec')\n",
    "#pyplot.savefig('velocity_0_01s.png')"
   ]
  },
  {
   "cell_type": "code",
   "execution_count": null,
   "metadata": {
    "collapsed": false
   },
   "outputs": [],
   "source": [
    "plot( xc,numpy.round(rhos[-1][1:-1], decimals=1), 'grid location [m]','density [kg/m3]',  'time= sec')\n",
    "#pyplot.savefig('density_0_01s.png')"
   ]
  },
  {
   "cell_type": "code",
   "execution_count": null,
   "metadata": {
    "collapsed": false
   },
   "outputs": [],
   "source": [
    "plot( xc,ps[-1][1:-1], 'grid location [m]','Momentum Pressure [Pa]',  'time= sec')\n",
    "#pyplot.savefig('heavypressure_0_01s.png')"
   ]
  },
  {
   "cell_type": "code",
   "execution_count": null,
   "metadata": {
    "collapsed": false
   },
   "outputs": [],
   "source": [
    "plot(xc,numpy.round(cBs[-1][1:-1], decimals=3), 'grid location [m]','Boron [kg/m3]',  'time= sec')\n",
    "#pyplot.savefig('boron_0_01s.png')"
   ]
  },
  {
   "cell_type": "code",
   "execution_count": null,
   "metadata": {
    "collapsed": false
   },
   "outputs": [],
   "source": [
    "plot( xc,numpy.round(cNis[-1][1:-1], decimals=3), 'grid location [m]','Nickel [kg/m3]',  'time= sec')\n",
    "#pyplot.savefig('nickel_0_01s.png')"
   ]
  },
  {
   "cell_type": "code",
   "execution_count": null,
   "metadata": {
    "collapsed": false
   },
   "outputs": [],
   "source": [
    "plot( xc,numpy.round(cCos[-1][1:-1], decimals=3), 'grid location [m]','Cobalt [kg/m3]',  'time= sec')\n",
    "#pyplot.savefig('cobalt_0_01s.png')"
   ]
  },
  {
   "cell_type": "code",
   "execution_count": null,
   "metadata": {
    "collapsed": false
   },
   "outputs": [],
   "source": [
    "plot( xc,numpy.round(cNs[-1][1:-1], decimals=3), 'grid location [m]','Nitrogen Gas [kg/m3]',  'time= sec')\n",
    "#pyplot.savefig('nitrogen_0_01s.png')"
   ]
  },
  {
   "cell_type": "code",
   "execution_count": null,
   "metadata": {
    "collapsed": false
   },
   "outputs": [],
   "source": [
    "plot( xc,nes[-1][1:-1], 'grid location [m]','electrons',  'time= sec')\n",
    "#pyplot.savefig('electrons_0_01s.png')"
   ]
  },
  {
   "cell_type": "code",
   "execution_count": null,
   "metadata": {
    "collapsed": false
   },
   "outputs": [],
   "source": [
    "plot( xc, nos[-1][1:-1], 'grid location [m]','neutrals',  'time= sec')\n",
    "#pyplot.savefig('neutrals_0_01s.png')"
   ]
  },
  {
   "cell_type": "code",
   "execution_count": null,
   "metadata": {
    "collapsed": false
   },
   "outputs": [],
   "source": [
    "plot( xc,econdsreal[-1][1:-1], 'grid location [m]','real electrical conductivity',  'time= sec')\n",
    "#pyplot.savefig('econdr_0_01s.png')"
   ]
  },
  {
   "cell_type": "code",
   "execution_count": null,
   "metadata": {
    "collapsed": false
   },
   "outputs": [],
   "source": [
    "plot( xc,numpy.round(Ts[20][1:-1],decimals=4), 'grid location [m]','Temperature [K]',  'time= sec')\n",
    "#pyplot.savefig('temperature_0_01s.png')"
   ]
  },
  {
   "cell_type": "code",
   "execution_count": null,
   "metadata": {
    "collapsed": false
   },
   "outputs": [],
   "source": [
    "Ts[20][:10]"
   ]
  },
  {
   "cell_type": "markdown",
   "metadata": {},
   "source": [
    "### ideal gas law pressure"
   ]
  },
  {
   "cell_type": "code",
   "execution_count": null,
   "metadata": {
    "collapsed": true
   },
   "outputs": [],
   "source": [
    "Pid = numpy.zeros_like(Ts[-1])\n",
    "Pid[:] = Rs_an*rhos[-1]*Ts[-1]"
   ]
  },
  {
   "cell_type": "code",
   "execution_count": null,
   "metadata": {
    "collapsed": false
   },
   "outputs": [],
   "source": [
    "plot( xc,numpy.round(Pid[1:-1],decimals=4), 'grid location [m]','Pressure [Pa]',  'time= 0.001 sec')\n",
    "#pyplot.savefig('idealpressure_0_001s.png')"
   ]
  },
  {
   "cell_type": "markdown",
   "metadata": {},
   "source": [
    "### The graphs below address the issue of drastic variation in anode temperature. After some time, I noticed that  the anode temperature showed an usteady time dependency with oscillating values. To remedy, I chose to make the anode temperature the average of the domain when these variations begin to occur."
   ]
  },
  {
   "cell_type": "code",
   "execution_count": null,
   "metadata": {
    "collapsed": false
   },
   "outputs": [],
   "source": [
    "length = numpy.shape(ablrate)[0]\n",
    "iterations_total = numpy.zeros((length))\n",
    "Tanode = numpy.zeros((length))\n",
    "#\n",
    "for i in range(length):\n",
    "    iterations_total[i] = i+1\n",
    "    Tanode[i] = Ts[i][0]"
   ]
  },
  {
   "cell_type": "code",
   "execution_count": null,
   "metadata": {
    "collapsed": false
   },
   "outputs": [],
   "source": [
    "plot( iterations_total[:-5], numpy.round(Tanode[:-5],decimals=4), 'iterations','anode temp',  'time= -sec')\n",
    "#pyplot.savefig('anodetemp_0_01s.png')"
   ]
  },
  {
   "cell_type": "code",
   "execution_count": null,
   "metadata": {
    "collapsed": false
   },
   "outputs": [],
   "source": [
    "plot( iterations_total[:-5], numpy.round(ablrate[:-5],decimals=4), 'iterations','ablation rate',  'time= sec')\n",
    "#pyplot.savefig('ablrate_0_01s.png')"
   ]
  },
  {
   "cell_type": "code",
   "execution_count": null,
   "metadata": {
    "collapsed": false
   },
   "outputs": [],
   "source": [
    "plot( iterations_total[:-5], numpy.round(rhos_vapor[:-5],decimals=4), 'iterations','vapor density',  'time= sec')\n",
    "#pyplot.savefig('vapordensity_0_01.png')"
   ]
  },
  {
   "cell_type": "markdown",
   "metadata": {},
   "source": [
    "### The anode temperature experiences a significant variation and i have minimized the noise by forcing the anode temperature to the average domain temperature whenever the temperature is lower than the previous anode temperature. This helps keep the ablation rate steady."
   ]
  },
  {
   "cell_type": "code",
   "execution_count": null,
   "metadata": {
    "collapsed": false
   },
   "outputs": [],
   "source": [
    "numpy.average(Ts[-1]-Ts[-2])"
   ]
  },
  {
   "cell_type": "code",
   "execution_count": null,
   "metadata": {
    "collapsed": false
   },
   "outputs": [],
   "source": [
    "numpy.average(rhos[-1]-rhos[-2])"
   ]
  },
  {
   "cell_type": "code",
   "execution_count": null,
   "metadata": {
    "collapsed": false
   },
   "outputs": [],
   "source": [
    "numpy.abs(numpy.average(us[-1]-us[-2]))"
   ]
  },
  {
   "cell_type": "markdown",
   "metadata": {},
   "source": [
    "## Animation"
   ]
  },
  {
   "cell_type": "code",
   "execution_count": null,
   "metadata": {
    "collapsed": false
   },
   "outputs": [],
   "source": [
    "time_domain = numpy.size(ctime)\n",
    "time_domain_temp = numpy.shape(Ts)[0]\n",
    "# time_domain_pressure = numpy.shape(ps)[0]\n",
    "space_domain = numpy.size(xb)\n",
    "space_domain2 = numpy.size(xc)\n",
    "US = numpy.zeros((time_domain, space_domain), dtype=float)\n",
    "TS = numpy.zeros((time_domain_temp, space_domain2), dtype=float)\n",
    "PS = numpy.zeros((time_domain_temp, space_domain2), dtype=float)\n",
    "JS = numpy.zeros((time_domain, space_domain2), dtype=float)\n",
    "NES = numpy.zeros((time_domain, space_domain2), dtype=float)\n",
    "RHOS = numpy.zeros((time_domain, space_domain2), dtype=float)\n",
    "C1S = numpy.zeros((time_domain, space_domain2), dtype=float)\n",
    "C2S = numpy.zeros((time_domain, space_domain2), dtype=float)\n",
    "C3S = numpy.zeros((time_domain, space_domain2), dtype=float)\n",
    "C4S = numpy.zeros((time_domain, space_domain2), dtype=float)\n",
    "ECONDRS =  numpy.zeros((time_domain, space_domain2), dtype=float)\n",
    "ECOND =  numpy.zeros((time_domain, space_domain2), dtype=float)\n",
    "#\n",
    "for i in range(time_domain):\n",
    "    US[i,:] = us[i][1:-1]\n",
    "    NES[i,:] = nes[i][1:-1]\n",
    "    RHOS[i,:] = rhos[i][1:-1]\n",
    "    ECONDRS[i,:] = econdsreal[i][1:-1]\n",
    "    ECOND[i,:] = econds[i][1:-1]\n",
    "    C1S[i,:] = cBs[i][1:-1]\n",
    "    C2S[i,:] = cNis[i][1:-1]\n",
    "    C3S[i,:] = cCos[i][1:-1]\n",
    "    C4S[i,:] = cNs[i][1:-1]\n",
    "    #\n",
    "for i in range(time_domain_temp):\n",
    "    TS[i,:] = Ts[i][1:-1]\n",
    "    PS[i,:] = ps2[i][1:-1]"
   ]
  },
  {
   "cell_type": "code",
   "execution_count": null,
   "metadata": {
    "collapsed": false
   },
   "outputs": [],
   "source": [
    "PSid = numpy.zeros((time_domain, space_domain2), dtype=float)"
   ]
  },
  {
   "cell_type": "code",
   "execution_count": null,
   "metadata": {
    "collapsed": false
   },
   "outputs": [],
   "source": [
    "for i in range(time_domain):\n",
    "    PSid[i,:] = rhos[i][1:-1]*Ts[i][1:-1]*\\\n",
    "                (R_N*cNs[i][1:-1] + R_B*cBs[i][1:-1] +\\\n",
    "                 R_Ni*cNis[i][1:-1] + R_Co*cCos[i][1:-1])"
   ]
  },
  {
   "cell_type": "code",
   "execution_count": null,
   "metadata": {
    "collapsed": false
   },
   "outputs": [],
   "source": [
    "fig = pyplot.figure(figsize=(8,5))\n",
    "ax = pyplot.axes()\n",
    "im = ax.plot([], [], color='b', ls='--', lw=3)"
   ]
  },
  {
   "cell_type": "code",
   "execution_count": null,
   "metadata": {
    "collapsed": true
   },
   "outputs": [],
   "source": [
    "def animate(data):\n",
    "    im = ax.plot([], [])\n",
    "    im = ax.plot(xb,data, color='b', ls='--', lw=3)\n",
    "    return im"
   ]
  },
  {
   "cell_type": "code",
   "execution_count": null,
   "metadata": {
    "collapsed": true
   },
   "outputs": [],
   "source": [
    "def animate2(data):\n",
    "    im = ax.plot([], [])\n",
    "    im = ax.plot(xc,data, color='b', ls='--', lw=3)\n",
    "    return im"
   ]
  },
  {
   "cell_type": "code",
   "execution_count": null,
   "metadata": {
    "collapsed": false
   },
   "outputs": [],
   "source": [
    "anim = animation.FuncAnimation(fig, animate2, frames=C4S[1::10,:], interval=200)"
   ]
  },
  {
   "cell_type": "code",
   "execution_count": null,
   "metadata": {
    "collapsed": false
   },
   "outputs": [],
   "source": [
    "#anim.save(\"1D_ABL_Us_10_millisec.mp4\", writer='ffmpeg')\n",
    "\n",
    "#anim.save(\"1D_ABL_rho_10_millisec.mp4\", writer='ffmpeg')\n",
    "#anim.save(\"1D_ABL_Ts_10_millisec.mp4\", writer='ffmpeg')\n",
    "#anim.save(\"1D_ABL_ps_10_millisec.mp4\", writer='ffmpeg')\n",
    "#anim.save(\"1D_ABL_NES_10_millisec.mp4\", writer='ffmpeg')\n",
    "\n",
    "#anim.save(\"1D_ABL_econd.mp4\", writer='ffmpeg')\n",
    "#anim.save(\"1D_ABL_econdrs_10_millisec.mp4\", writer='ffmpeg')\n",
    "#anim.save(\"1D_ABL_c1_10_millisec.mp4\", writer='ffmpeg')\n",
    "#anim.save(\"1D_ABL_c2_10_millisec.mp4\", writer='ffmpeg')\n",
    "#anim.save(\"1D_ABL_c3_10_millisec.mp4\", writer='ffmpeg')\n",
    "#anim.save(\"1D_ABL_c4_10_millisec.mp4\", writer='ffmpeg')\n",
    "#anim.save(\"1D_ABL_js.mp4\", writer='ffmpeg')\n",
    "\n",
    "#display_animation(anim, default_mode='once')"
   ]
  },
  {
   "cell_type": "markdown",
   "metadata": {
    "collapsed": true
   },
   "source": [
    "capacitor = 10*1e-6\n",
    "resistor1 = 47e3\n",
    "resistor2 = 100e3\n",
    "fhz = 1/(numpy.log(2)*capacitor*(resistor1+2*resistor2))\n",
    "hightime = numpy.log(2)*capacitor*(resistor1+resistor2)\n",
    "lowtime = numpy.log(2)*capacitor*resistor2"
   ]
  }
 ],
 "metadata": {
  "kernelspec": {
   "display_name": "Python [default]",
   "language": "python",
   "name": "python3"
  },
  "language_info": {
   "codemirror_mode": {
    "name": "ipython",
    "version": 3
   },
   "file_extension": ".py",
   "mimetype": "text/x-python",
   "name": "python",
   "nbconvert_exporter": "python",
   "pygments_lexer": "ipython3",
   "version": "3.5.2"
  }
 },
 "nbformat": 4,
 "nbformat_minor": 0
}
