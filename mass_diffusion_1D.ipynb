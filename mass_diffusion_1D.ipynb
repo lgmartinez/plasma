{
 "cells": [
  {
   "cell_type": "code",
   "execution_count": 1,
   "metadata": {
    "collapsed": false
   },
   "outputs": [
    {
     "data": {
      "text/html": [
       "<link href='http://fonts.googleapis.com/css?family=Alegreya+Sans:100,300,400,500,700,800,900,100italic,300italic,400italic,500italic,700italic,800italic,900italic' rel='stylesheet' type='text/css'>\n",
       "<link href='http://fonts.googleapis.com/css?family=Arvo:400,700,400italic' rel='stylesheet' type='text/css'>\n",
       "<link href='http://fonts.googleapis.com/css?family=PT+Mono' rel='stylesheet' type='text/css'>\n",
       "<link href='http://fonts.googleapis.com/css?family=Shadows+Into+Light' rel='stylesheet' type='text/css'>\n",
       "<link href='http://fonts.googleapis.com/css?family=Nixie+One' rel='stylesheet' type='text/css'>\n",
       "<style>\n",
       "\n",
       "@font-face {\n",
       "    font-family: \"Computer Modern\";\n",
       "    src: url('http://mirrors.ctan.org/fonts/cm-unicode/fonts/otf/cmunss.otf');\n",
       "}\n",
       "\n",
       "#notebook_panel { /* main background */\n",
       "    background: rgb(245,245,245);\n",
       "}\n",
       "\n",
       "div.cell { /* set cell width */\n",
       "    width: 750px;\n",
       "}\n",
       "\n",
       "div #notebook { /* centre the content */\n",
       "    background: #fff; /* white background for content */\n",
       "    width: 1000px;\n",
       "    margin: auto;\n",
       "    padding-left: 0em;\n",
       "}\n",
       "\n",
       "#notebook li { /* More space between bullet points */\n",
       "    margin-top:0.8em;\n",
       "}\n",
       "\n",
       "/* draw border around running cells */\n",
       "div.cell.border-box-sizing.code_cell.running { \n",
       "    border: 1px solid #111;\n",
       "}\n",
       "\n",
       "/* Put a solid color box around each cell and its output, visually linking them*/\n",
       "div.cell.code_cell {\n",
       "    background-color: rgb(256,256,256); \n",
       "    border-radius: 0px; \n",
       "    padding: 0.5em;\n",
       "    margin-left:1em;\n",
       "    margin-top: 1em;\n",
       "}\n",
       "\n",
       "div.text_cell_render{\n",
       "    font-family: 'Alegreya Sans' sans-serif;\n",
       "    line-height: 140%;\n",
       "    font-size: 125%;\n",
       "    font-weight: 400;\n",
       "    width:600px;\n",
       "    margin-left:auto;\n",
       "    margin-right:auto;\n",
       "}\n",
       "\n",
       "\n",
       "/* Formatting for header cells */\n",
       ".text_cell_render h1 {\n",
       "    font-family: 'Nixie One', serif;\n",
       "    font-style:regular;\n",
       "    font-weight: 400;    \n",
       "    font-size: 45pt;\n",
       "    line-height: 100%;\n",
       "    color: rgb(0,51,102);\n",
       "    margin-bottom: 0.5em;\n",
       "    margin-top: 0.5em;\n",
       "    display: block;\n",
       "}\n",
       "\n",
       ".text_cell_render h2 {\n",
       "    font-family: 'Nixie One', serif;\n",
       "    font-weight: 400;\n",
       "    font-size: 30pt;\n",
       "    line-height: 100%;\n",
       "    color: rgb(0,51,102);\n",
       "    margin-bottom: 0.1em;\n",
       "    margin-top: 0.3em;\n",
       "    display: block;\n",
       "}\t\n",
       "\n",
       ".text_cell_render h3 {\n",
       "    font-family: 'Nixie One', serif;\n",
       "    margin-top:16px;\n",
       "    font-size: 22pt;\n",
       "    font-weight: 600;\n",
       "    margin-bottom: 3px;\n",
       "    font-style: regular;\n",
       "    color: rgb(102,102,0);\n",
       "}\n",
       "\n",
       ".text_cell_render h4 {    /*Use this for captions*/\n",
       "    font-family: 'Nixie One', serif;\n",
       "    font-size: 14pt;\n",
       "    text-align: center;\n",
       "    margin-top: 0em;\n",
       "    margin-bottom: 2em;\n",
       "    font-style: regular;\n",
       "}\n",
       "\n",
       ".text_cell_render h5 {  /*Use this for small titles*/\n",
       "    font-family: 'Nixie One', sans-serif;\n",
       "    font-weight: 400;\n",
       "    font-size: 16pt;\n",
       "    color: rgb(163,0,0);\n",
       "    font-style: italic;\n",
       "    margin-bottom: .1em;\n",
       "    margin-top: 0.8em;\n",
       "    display: block;\n",
       "}\n",
       "\n",
       ".text_cell_render h6 { /*use this for copyright note*/\n",
       "    font-family: 'PT Mono', sans-serif;\n",
       "    font-weight: 300;\n",
       "    font-size: 9pt;\n",
       "    line-height: 100%;\n",
       "    color: grey;\n",
       "    margin-bottom: 1px;\n",
       "    margin-top: 1px;\n",
       "}\n",
       "\n",
       ".CodeMirror{\n",
       "    font-family: \"PT Mono\";\n",
       "    font-size: 90%;\n",
       "}\n",
       "\n",
       "</style>\n",
       "<script>\n",
       "    MathJax.Hub.Config({\n",
       "                        TeX: {\n",
       "                           extensions: [\"AMSmath.js\"],\n",
       "                           equationNumbers: { autoNumber: \"AMS\", useLabelIds: true}\n",
       "                           },\n",
       "                tex2jax: {\n",
       "                    inlineMath: [ ['$','$'], [\"\\\\(\",\"\\\\)\"] ],\n",
       "                    displayMath: [ ['$$','$$'], [\"\\\\[\",\"\\\\]\"] ]\n",
       "                },\n",
       "                displayAlign: 'center', // Change this to 'center' to center equations.\n",
       "                \"HTML-CSS\": {\n",
       "                    styles: {'.MathJax_Display': {\"margin\": 4}}\n",
       "                }\n",
       "        });\n",
       "</script>\n"
      ],
      "text/plain": [
       "<IPython.core.display.HTML object>"
      ]
     },
     "execution_count": 1,
     "metadata": {},
     "output_type": "execute_result"
    }
   ],
   "source": [
    "from IPython.core.display import HTML\n",
    "#css_file = '/Users/Luis/numerical-mooc/styles/numericalmoocstyle.css'\n",
    "css_file = './numericalmoocstyle.css'\n",
    "HTML(open(css_file, \"r\").read())"
   ]
  },
  {
   "cell_type": "markdown",
   "metadata": {},
   "source": [
    "# 1-D Mass Deposition"
   ]
  },
  {
   "cell_type": "markdown",
   "metadata": {},
   "source": [
    "##### This notebook uses the Richtmeyer Method to solve for mass,momentum, and energy conservation. The objective is to model mass diffusion and deposition."
   ]
  },
  {
   "cell_type": "markdown",
   "metadata": {},
   "source": [
    "### Equations"
   ]
  },
  {
   "cell_type": "markdown",
   "metadata": {},
   "source": [
    "The problem can be studied using the time-dependent, 1D Navier-Stokes equations with gravity and joule heating. The equations for continuity, x momentum, and energy are:\n",
    "\n",
    "\\begin{align}\n",
    "0=& \\frac{\\partial \\rho}{\\partial t} + \\frac{\\partial}{\\partial x}(\\rho u ) \\nonumber \\\\\n",
    "pg =& \\frac{\\partial}{\\partial t}( \\rho u ) + \\frac{\\partial}{\\partial x}( \\rho u^2 + P ) \\nonumber \\\\\n",
    "\\frac{j^{2}}{\\sigma}=& \\frac{\\partial}{\\partial t}E_{t} + \\frac{\\partial}{\\partial x} \\bigg[ \\big( E_{t}+P \\big)u - D_{c} \\big(\\frac{h}{c_{p}} \\big) \\bigg] - k \\frac{\\partial^2}{\\partial x^2} \\big( \\frac{h}{c_p}\\big) \\nonumber \\\\\n",
    "\\end{align}\n",
    "\n",
    "In the equations above: $D_{c} = \\frac{5jk_{B}}{2e} $, and $E_{t} = \\rho h$\n",
    "\n",
    "W can also use the equation of state: $P = \\rho R T$\n",
    "\n",
    "\n",
    "To begin the discretization process, we can express the system of governing equations in vector form:\n",
    "\n",
    "\\begin{equation}\n",
    "\\frac{\\partial \\textbf{U}}{\\partial t} + \\frac{\\partial \\textbf{E}}{\\partial x} + \\frac{\\partial^2 \\textbf{F}}{\\partial x^2} = \\textbf{S},\n",
    "\\end{equation}\n",
    "\n",
    "where the vectors $\\textbf{U}, \\textbf{E}$, and $\\textbf{F}$ are:\n",
    "\n",
    "$$\\textbf{U} = \n",
    "\\left[ \\begin{array}{c}\n",
    "\\rho \\\\\n",
    "\\rho u \\\\\n",
    "E_{t}\n",
    "\\end{array} \\right]$$\n",
    "\n",
    "$$\\textbf{E} = \n",
    "\\left[ \\begin{array}{c}\n",
    "\\rho u\\\\\n",
    "\\rho u^2 + P \\\\\n",
    "(E_{t}+P)u - D_{c} \\big( \\frac{h}{c_p} \\big) \n",
    "\\end{array} \\right] $$ \n",
    "\n",
    "$$\\textbf{F} = \n",
    "\\left[ \\begin{array}{c}\n",
    "0 \\\\\n",
    "0  \\\\\n",
    "-k \\big( \\frac{h}{c_p} \\big)\n",
    "\\end{array} \\right] $$ \n",
    "\n",
    "$$\\textbf{S} = \n",
    "\\left[ \\begin{array}{c}\n",
    "0 \\\\\n",
    "\\rho g  \\\\\n",
    "\\frac{j^2}{\\sigma}\n",
    "\\end{array} \\right] $$ "
   ]
  },
  {
   "cell_type": "markdown",
   "metadata": {},
   "source": [
    "### Boundary Conditions"
   ]
  },
  {
   "cell_type": "markdown",
   "metadata": {},
   "source": [
    "At the anode boundary:\n",
    "\n",
    "Density:\n",
    "\n",
    "\n",
    "\\begin{align}\n",
    "\\rho_{bc, anode} &= \\rho_{vapor} + \\rho_{local} \\nonumber \\\\\n",
    "\\rho_{bc, anode} &= \\frac{P_{vapor}}{R_{specific, C} T_{anode}} + \\frac{P_{He}}{R_{specific, He} T_{plasma} } \\nonumber\n",
    "\\end{align}\n",
    "\n",
    "Velocity:\n",
    "\n",
    "\\begin{equation}\n",
    "u_{bc, anode} = \\frac{\\Gamma_{ablation}}{\\rho_{bc, anode} A_{surface, anode}} \\nonumber\n",
    "\\end{equation}\n",
    "\n",
    "Energy (enthalpy):\n",
    "\n",
    "\\begin{equation}\n",
    "h_{bc, anode} = c_{p} T_{anode} \\nonumber\n",
    "\\end{equation}\n",
    "\n",
    "\n",
    "At the cathode boundary:\n",
    "\n",
    "Density:\n",
    "\n",
    "\n",
    "\\begin{align}\n",
    "\\frac{\\partial \\rho_{bc, cathode}}{ \\partial x} &= 0 \\nonumber \\\\\n",
    "\\end{align}\n",
    "\n",
    "Velocity:\n",
    "\n",
    "\\begin{equation}\n",
    "u_{bc, cathode} = 0 \\nonumber\n",
    "\\end{equation}\n",
    "\n",
    "Energy (enthalpy):\n",
    "\n",
    "\\begin{equation}\n",
    "h_{bc, cathode} = c_{p} T_{cathode} \\nonumber\n",
    "\\end{equation}"
   ]
  },
  {
   "cell_type": "markdown",
   "metadata": {},
   "source": [
    "### Libraries"
   ]
  },
  {
   "cell_type": "code",
   "execution_count": 2,
   "metadata": {
    "collapsed": true
   },
   "outputs": [],
   "source": [
    "import numpy\n",
    "from numpy import pi\n",
    "#\n",
    "import sympy\n",
    "import math\n",
    "#\n",
    "import scipy\n",
    "from scipy import constants\n",
    "#\n",
    "import matplotlib.pyplot \n",
    "#\n",
    "from mpl_toolkits.mplot3d import Axes3D\n",
    "from matplotlib import pyplot, cm\n",
    "%matplotlib inline\n",
    "#\n",
    "from matplotlib import rcParams\n",
    "rcParams['font.family'] = 'serif'\n",
    "rcParams['font.size'] = 16\n",
    "#\n",
    "from matplotlib import animation\n",
    "from JSAnimation.IPython_display import display_animation"
   ]
  },
  {
   "cell_type": "markdown",
   "metadata": {},
   "source": [
    "### Parameters"
   ]
  },
  {
   "cell_type": "code",
   "execution_count": 3,
   "metadata": {
    "collapsed": false
   },
   "outputs": [],
   "source": [
    "# run for a test case of 50 first\n",
    "Rc = (12.5/2.) * 1./1000. # cathode radius [meters]\n",
    "I_arc = 60.\n",
    "j_arc = I_arc/(pi*Rc**2)\n",
    "\n",
    "#Plasma Temperature\n",
    "Te_eV =  0.60771000000000541 # given in eV\n",
    "Te = Te_eV*(11604.52500617) # K\n",
    "\n",
    "#cathode \n",
    "T_c = 2842\n",
    "\n",
    "#surface area of anode\n",
    "R_an = 6.35/2. * 1./1000.  #anode radius [meters]\n",
    "A_an = pi*(R_an**2)\n",
    "T_an = 3318.46 # Kelvin, anode temperature\n",
    "ABL = 5.893 # kg/s\n",
    "\n",
    "# R-specific for carbon and helium\n",
    "mol_mass_c = 12.0e-3 #kg\n",
    "mol_mass_he = 4.0e-3\n",
    "\n",
    "#Specific gas constants\n",
    "R_C = scipy.constants.R/(mol_mass_c ) #J/(kg-K)\n",
    "R_He = scipy.constants.R/(mol_mass_he )\n",
    "R_total = scipy.constants.R/(mol_mass_c + mol_mass_he )\n",
    "gamma = 1.4\n",
    "\n",
    "#vapor pressure of carbon\n",
    "Pv = 612.24 #Pa\n",
    "\n",
    "#Background gas\n",
    "P_exp = 300 * 133.322 # torr to Pa\n",
    "rho_He = P_exp/(R_He*Te) #local density\n",
    "rho_v = Pv/(R_C*T_an)  #vapor density\n",
    "\n",
    "#cp specific heat at constant pressure of carbon\n",
    "cp = 0.6752 #KJ/(Kg*K)\n",
    "\n",
    "#thermal conductivty\n",
    "k = 1.7 #thermal conductivity carbon W m-1 K-1\n",
    "\n",
    "#gravity:\n",
    "g = 9.81\n",
    "\n",
    "#electrical conductivity of plasma:\n",
    "sigma = 512.8 #siemens/meter\n",
    "\n",
    "#velocity of ablated material, assume sound speed:\n",
    "\n",
    "c_abl = numpy.sqrt(gamma*R_total*T_an)\n",
    "#c_abl = (ABL/((rho_v + rho_He)*pi*(R_an**2)))\n",
    "\n",
    "#constant for heat flux\n",
    "Dc = (5./2.)*(constants.k/constants.e)*j_arc"
   ]
  },
  {
   "cell_type": "code",
   "execution_count": 4,
   "metadata": {
    "collapsed": false
   },
   "outputs": [
    {
     "data": {
      "text/plain": [
       "1553.7795423682296"
      ]
     },
     "execution_count": 4,
     "metadata": {},
     "output_type": "execute_result"
    }
   ],
   "source": [
    "c_abl #velocity of ablated species coming off anode, m/s"
   ]
  },
  {
   "cell_type": "markdown",
   "metadata": {},
   "source": [
    "### Grid"
   ]
  },
  {
   "cell_type": "code",
   "execution_count": 5,
   "metadata": {
    "collapsed": false
   },
   "outputs": [],
   "source": [
    "# Grid\n",
    "Lgap = 3.5 * 1./1000. #interelectrode gap [meters]\n",
    "#\n",
    "nx = 101\n",
    "dx = Lgap/nx\n",
    "#\n",
    "x_left = 0.0\n",
    "x_right = Lgap - x_left\n",
    "#\n",
    "x = numpy.linspace(x_left,x_right,nx)\n",
    "#\n",
    "\n"
   ]
  },
  {
   "cell_type": "markdown",
   "metadata": {},
   "source": [
    "### Time Requirements"
   ]
  },
  {
   "cell_type": "code",
   "execution_count": 6,
   "metadata": {
    "collapsed": true
   },
   "outputs": [],
   "source": [
    "dt = 1e-11\n",
    "T_terminal = 100e-11 #seconds\n",
    "#\n",
    "nt = int(T_terminal/dt)\n"
   ]
  },
  {
   "cell_type": "code",
   "execution_count": 7,
   "metadata": {
    "collapsed": false
   },
   "outputs": [
    {
     "data": {
      "text/plain": [
       "100"
      ]
     },
     "execution_count": 7,
     "metadata": {},
     "output_type": "execute_result"
    }
   ],
   "source": [
    "nt"
   ]
  },
  {
   "cell_type": "markdown",
   "metadata": {},
   "source": [
    "### Initial Conditions\n"
   ]
  },
  {
   "cell_type": "code",
   "execution_count": 8,
   "metadata": {
    "collapsed": false
   },
   "outputs": [],
   "source": [
    "def get_IC(numx, rho_abl, rho_bg, Ta, Tc, abl, Tplasma):\n",
    "    ''' Finds initial conditions \n",
    "    Parameters:\n",
    "    -----------\n",
    "    numx: nodes\n",
    "    rho_abl: density of ablated material\n",
    "    vel_abl: velocity of ablated material\n",
    "    P_abl: Pressure of ablated material\n",
    "    \n",
    "    return:\n",
    "    -------\n",
    "    U_start: Initialize flow field\n",
    "    '''\n",
    "    #(abl/((rho_abl + rho_bg)*pi*(R_an**2)))\n",
    "    #\n",
    "    U_start = numpy.zeros((3, numx), dtype=float) #mass, mom, energy\n",
    "    #\n",
    "    U_start[0,0] = rho_abl+rho_bg # at anode tip\n",
    "    U_start[0,1:] = rho_abl+rho_bg #everywhere else in the gap\n",
    "    #\n",
    "    U_start[1,0] = (rho_abl+rho_bg)*c_abl\n",
    "    U_start[1,1:] = (rho_abl+rho_bg)*c_abl\n",
    "    #\n",
    "    U_start[2,0] = (rho_abl+rho_bg)*cp*Ta\n",
    "    U_start[2,1:-1] = (rho_abl+rho_bg)*Tplasma*cp\n",
    "    U_start[2,-1] = (rho_abl+rho_bg)*Tplasma*cp #(rho_abl+rho_bg)*cp*Tc\n",
    "    #\n",
    "    return U_start"
   ]
  },
  {
   "cell_type": "markdown",
   "metadata": {},
   "source": [
    "### Boundary Conditions"
   ]
  },
  {
   "cell_type": "code",
   "execution_count": 9,
   "metadata": {
    "collapsed": true
   },
   "outputs": [],
   "source": [
    "def get_BC(Uv,rho_abl, rho_bg, abl, Ta, Tc):\n",
    "    ''' Finds boundary conditions for anode, cathode \n",
    "    Parameters:\n",
    "    -----------\n",
    "    Uv: vector of mass, mom, energy [3, no. of nodes]\n",
    "    \n",
    "    return:\n",
    "    Ubc: solution field with boundary conditions\n",
    "    ''' \n",
    "    Ubc = Uv.copy()\n",
    "    #\n",
    "    # Anode Region\n",
    "    Ubc[0,0] = rho_abl+rho_bg # at anode tip\n",
    "    Ubc[1,0] = (rho_abl+rho_bg)*c_abl #momentum\n",
    "    Ubc[2,0] = (rho_abl+rho_bg)*cp*Ta #Energy\n",
    "\n",
    "    # Cathode Region\n",
    "    Ubc[0,-1] = 2*(Uv[0,-2]) - Uv[0,-3]#interpolate from interior points\n",
    "    #Ubc[1,-1] = 0.0 #m/s, no flux through boundaries\n",
    "    Ubc[1,-1] = 2*(Uv[1,-2]) - Uv[1,-3]#interpolate from interior points\n",
    "    #Ubc[2,-1] = (2*(Uv[0,-2]) - Uv[0,-3])*cp*Tc#interpolate from interior points\n",
    "    Ubc[2,-1] = 2*(Uv[2,-2]) - Uv[2,-3]\n",
    "    return Ubc"
   ]
  },
  {
   "cell_type": "code",
   "execution_count": 10,
   "metadata": {
    "collapsed": true
   },
   "outputs": [],
   "source": [
    "def get_flux(Uv, tau_x):\n",
    "    ''' Finds flux values \n",
    "    Parameters:\n",
    "    -----------\n",
    "    Uv: vector of mass, mom, energy [3, no. of nodes]\n",
    "    \n",
    "    return:\n",
    "    --------\n",
    "    Fv: fluxes\n",
    "    ''' \n",
    "    #\n",
    "    Ev = numpy.zeros_like(Uv)\n",
    "    #\n",
    "    Ev[0,:] = Uv[1,:] \n",
    "    #\n",
    "    Ev[1,:] = ((Uv[1,:]**2)/Uv[0,:]) +   - tau_x\n",
    "    #\n",
    "    Ev[2,:] = (Uv[1,:]/Uv[0,:])*(Uv[2,:] + (gamma-1.)*Uv[2,:]) +\\\n",
    "                (Dc/cp)*(Uv[2,:]/Uv[0,:])\n",
    "    \n",
    "    #\n",
    "    return Ev"
   ]
  },
  {
   "cell_type": "code",
   "execution_count": 11,
   "metadata": {
    "collapsed": false
   },
   "outputs": [],
   "source": [
    "def get_grad_flux(Uv, k, cp):\n",
    "    #\n",
    "    #\n",
    "    Fv = numpy.zeros_like(Uv)\n",
    "    #\n",
    "    Fv[2,:] = (k/cp)*(Uv[2,:]/Uv[0,:])\n",
    "    #\n",
    "    return Fv"
   ]
  },
  {
   "cell_type": "code",
   "execution_count": 12,
   "metadata": {
    "collapsed": true
   },
   "outputs": [],
   "source": [
    "def get_source(Uv, g, j, sigma):\n",
    "    #\n",
    "    S = numpy.zeros_like(Uv)\n",
    "    #\n",
    "    #S[1,:] = Uv[0,:]*g\n",
    "    #\n",
    "    return S"
   ]
  },
  {
   "cell_type": "code",
   "execution_count": 13,
   "metadata": {
    "collapsed": true
   },
   "outputs": [],
   "source": [
    "def Maccormack(U_init, numt, numx, delt, delx):\n",
    "    \"\"\"\n",
    "    Parameters:\n",
    "    -----------\n",
    "    U_init - initial values of mass, momentum, and pressure\n",
    "    numt - number of time steps\n",
    "    delt - time step size\n",
    "    delx - uniform node spacing\n",
    "    numx - number of nodes\n",
    "\n",
    "    \"\"\"\n",
    "    Un = numpy.zeros((numt+1,3,numx))\n",
    "    Un[:,:,:] = U_init.copy()\n",
    "    #\n",
    "    Us = numpy.zeros_like(U_init)\n",
    "    Us = U_init.copy()\n",
    "    #\n",
    "    U = numpy.zeros((3,numx))\n",
    "    U = U_init.copy()\n",
    "    #\n",
    "    for t in range(1,numt+1):\n",
    "        #--------------\n",
    "        #predictor step\n",
    "        E = get_flux(U) \n",
    "        F = get_grad_flux(U, k, cp)\n",
    "        S = get_source(U, g,j_arc,sigma)\n",
    "        #\n",
    "        Us[:,1:-1] = U[:,1:-1] - (delt/delx)*(E[:,2:] - E[:,1:-1]) -\\\n",
    "                        (delt/delx**2)*(F[:,2:] - 2*F[:,1:-1] + F[:,:-2]) +\\\n",
    "                            S[:,1:-1]\n",
    "        #update Bc on Ustar:\n",
    "        Us = get_BC(Us, rho_v, rho_He, ABL, T_an, T_c)\n",
    "        #---------------\n",
    "        #corrector step:\n",
    "        E2 = get_flux(Us)\n",
    "        F2 = get_grad_flux(Us, k, cp)\n",
    "        S2 = get_source(Us, g, j_arc , sigma)\n",
    "        #\n",
    "        Un[t,:,1:-1] = 0.5*( U[:,1:-1] + Us[:,1:-1] -\\\n",
    "                            (delt/delx)*(E2[:,1:-1] - E2[:,:-2]) -\\\n",
    "                            (delt/delx**2)*(F2[:,2:] - 2*F2[:,1:-1] + F2[:,:-2]) +\\\n",
    "                            S2[:,1:-1] )\n",
    "        #update BCs\n",
    "        Un[t,:,:] = get_BC( Un[t,:,:], rho_v, rho_He, ABL, T_an, T_c)\n",
    "        #\n",
    "        U = Un[t,:,:].copy()\n",
    "        #\n",
    "#         if ( numpy.all(numpy.abs(Un[t,0,:]-Un[t-1,0,:]) < 1e-8) == True ):\n",
    "#             print('steady state reached')\n",
    "#             break\n",
    "    #\n",
    "    return Un"
   ]
  },
  {
   "cell_type": "code",
   "execution_count": 14,
   "metadata": {
    "collapsed": true
   },
   "outputs": [],
   "source": [
    "Ui = get_IC(nx, rho_v, rho_He, T_an, T_c, ABL, Te)"
   ]
  },
  {
   "cell_type": "code",
   "execution_count": 15,
   "metadata": {
    "collapsed": false
   },
   "outputs": [
    {
     "name": "stderr",
     "output_type": "stream",
     "text": [
      "/Users/Luis/anaconda/lib/python3.4/site-packages/ipykernel/__main__.py:16: RuntimeWarning: overflow encountered in square\n",
      "/Users/Luis/anaconda/lib/python3.4/site-packages/ipykernel/__main__.py:37: RuntimeWarning: invalid value encountered in subtract\n",
      "/Users/Luis/anaconda/lib/python3.4/site-packages/ipykernel/__main__.py:28: RuntimeWarning: invalid value encountered in subtract\n",
      "/Users/Luis/anaconda/lib/python3.4/site-packages/ipykernel/__main__.py:16: RuntimeWarning: invalid value encountered in true_divide\n",
      "/Users/Luis/anaconda/lib/python3.4/site-packages/ipykernel/__main__.py:18: RuntimeWarning: invalid value encountered in true_divide\n",
      "/Users/Luis/anaconda/lib/python3.4/site-packages/ipykernel/__main__.py:6: RuntimeWarning: invalid value encountered in true_divide\n"
     ]
    }
   ],
   "source": [
    "Usol = Maccormack(Ui, nt, nx, dt, dx)"
   ]
  },
  {
   "cell_type": "code",
   "execution_count": 23,
   "metadata": {
    "collapsed": false
   },
   "outputs": [
    {
     "data": {
      "text/plain": [
       "array([ 4.69714537,  4.61266873,  4.8868619 ,  4.54186746,  4.766551  ,\n",
       "        4.68037346,  4.69886926,  4.69714537,  4.69714537,  4.69714537,\n",
       "        4.69714537,  4.69714537,  4.69714537,  4.69714537,  4.69714537,\n",
       "        4.69714537,  4.69714537,  4.69714537,  4.69714537,  4.69714537,\n",
       "        4.69714537,  4.69714537,  4.69714537,  4.69714537,  4.69714537,\n",
       "        4.69714537,  4.69714537,  4.69714537,  4.69714537,  4.69714537,\n",
       "        4.69714537,  4.69714537,  4.69714537,  4.69714537,  4.69714537,\n",
       "        4.69714537,  4.69714537,  4.69714537,  4.69714537,  4.69714537,\n",
       "        4.69714537,  4.69714537,  4.69714537,  4.69714537,  4.69714537,\n",
       "        4.69714537,  4.69714537,  4.69714537,  4.69714537,  4.69714537,\n",
       "        4.69714537,  4.69714537,  4.69714537,  4.69714537,  4.69714537,\n",
       "        4.69714537,  4.69714537,  4.69714537,  4.69714537,  4.69714537,\n",
       "        4.69714537,  4.69714537,  4.69714537,  4.69714537,  4.69714537,\n",
       "        4.69714537,  4.69714537,  4.69714537,  4.69714537,  4.69714537,\n",
       "        4.69714537,  4.69714537,  4.69714537,  4.69714537,  4.69714537,\n",
       "        4.69714537,  4.69714537,  4.69714537,  4.69714537,  4.69714537,\n",
       "        4.69714537,  4.69714537,  4.69714537,  4.69714537,  4.69714537,\n",
       "        4.69714537,  4.69714537,  4.69714537,  4.69714537,  4.69714537,\n",
       "        4.69714537,  4.69714537,  4.69714537,  4.69714537,  4.69714537,\n",
       "        4.69714537,  4.69714537,  4.69714537,  4.69714537,  4.69714537,\n",
       "        4.69714537])"
      ]
     },
     "execution_count": 23,
     "metadata": {},
     "output_type": "execute_result"
    }
   ],
   "source": [
    "Usol[3,1,:]"
   ]
  },
  {
   "cell_type": "markdown",
   "metadata": {},
   "source": [
    "### Plot"
   ]
  },
  {
   "cell_type": "code",
   "execution_count": null,
   "metadata": {
    "collapsed": false
   },
   "outputs": [],
   "source": [
    "from matplotlib import animation\n",
    "from JSAnimation import IPython_display\n",
    "from JSAnimation.IPython_display import display_animation\n",
    "from moviepy.editor import *\n",
    "\n",
    "import pylab \n",
    "import types"
   ]
  },
  {
   "cell_type": "code",
   "execution_count": null,
   "metadata": {
    "collapsed": true
   },
   "outputs": [],
   "source": [
    "def animate(data):\n",
    "    im = ax.plot(x,data)\n",
    "    return im"
   ]
  },
  {
   "cell_type": "code",
   "execution_count": null,
   "metadata": {
    "collapsed": false
   },
   "outputs": [],
   "source": [
    "numpy.size(x)"
   ]
  },
  {
   "cell_type": "code",
   "execution_count": null,
   "metadata": {
    "collapsed": false
   },
   "outputs": [],
   "source": [
    "fig = pyplot.figure(figsize=(8,5))\n",
    "ax = pyplot.axes()\n",
    "im = ax.plot(x, Usol[0,0,:])\n",
    "\n",
    "anim = animation.FuncAnimation(fig, animate, frames=Usol[:,0,:], interval=1)"
   ]
  },
  {
   "cell_type": "code",
   "execution_count": null,
   "metadata": {
    "collapsed": false
   },
   "outputs": [],
   "source": [
    "display_animation(anim, default_mode='once')"
   ]
  },
  {
   "cell_type": "code",
   "execution_count": null,
   "metadata": {
    "collapsed": true
   },
   "outputs": [],
   "source": []
  }
 ],
 "metadata": {
  "kernelspec": {
   "display_name": "Python 3",
   "language": "python",
   "name": "python3"
  },
  "language_info": {
   "codemirror_mode": {
    "name": "ipython",
    "version": 3
   },
   "file_extension": ".py",
   "mimetype": "text/x-python",
   "name": "python",
   "nbconvert_exporter": "python",
   "pygments_lexer": "ipython3",
   "version": "3.4.4"
  }
 },
 "nbformat": 4,
 "nbformat_minor": 0
}
