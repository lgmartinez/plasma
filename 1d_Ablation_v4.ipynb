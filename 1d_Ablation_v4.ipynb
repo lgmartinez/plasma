{
 "cells": [
  {
   "cell_type": "code",
   "execution_count": 1,
   "metadata": {
    "collapsed": false
   },
   "outputs": [
    {
     "data": {
      "text/html": [
       "<link href='http://fonts.googleapis.com/css?family=Alegreya+Sans:100,300,400,500,700,800,900,100italic,300italic,400italic,500italic,700italic,800italic,900italic' rel='stylesheet' type='text/css'>\n",
       "<link href='http://fonts.googleapis.com/css?family=Arvo:400,700,400italic' rel='stylesheet' type='text/css'>\n",
       "<link href='http://fonts.googleapis.com/css?family=PT+Mono' rel='stylesheet' type='text/css'>\n",
       "<link href='http://fonts.googleapis.com/css?family=Shadows+Into+Light' rel='stylesheet' type='text/css'>\n",
       "<link href='http://fonts.googleapis.com/css?family=Nixie+One' rel='stylesheet' type='text/css'>\n",
       "<style>\n",
       "\n",
       "@font-face {\n",
       "    font-family: \"Computer Modern\";\n",
       "    src: url('http://mirrors.ctan.org/fonts/cm-unicode/fonts/otf/cmunss.otf');\n",
       "}\n",
       "\n",
       "#notebook_panel { /* main background */\n",
       "    background: rgb(245,245,245);\n",
       "}\n",
       "\n",
       "div.cell { /* set cell width */\n",
       "    width: 750px;\n",
       "}\n",
       "\n",
       "div #notebook { /* centre the content */\n",
       "    background: #fff; /* white background for content */\n",
       "    width: 1000px;\n",
       "    margin: auto;\n",
       "    padding-left: 0em;\n",
       "}\n",
       "\n",
       "#notebook li { /* More space between bullet points */\n",
       "    margin-top:0.8em;\n",
       "}\n",
       "\n",
       "/* draw border around running cells */\n",
       "div.cell.border-box-sizing.code_cell.running { \n",
       "    border: 1px solid #111;\n",
       "}\n",
       "\n",
       "/* Put a solid color box around each cell and its output, visually linking them*/\n",
       "div.cell.code_cell {\n",
       "    background-color: rgb(256,256,256); \n",
       "    border-radius: 0px; \n",
       "    padding: 0.5em;\n",
       "    margin-left:1em;\n",
       "    margin-top: 1em;\n",
       "}\n",
       "\n",
       "div.text_cell_render{\n",
       "    font-family: 'Alegreya Sans' sans-serif;\n",
       "    line-height: 140%;\n",
       "    font-size: 125%;\n",
       "    font-weight: 400;\n",
       "    width:600px;\n",
       "    margin-left:auto;\n",
       "    margin-right:auto;\n",
       "}\n",
       "\n",
       "\n",
       "/* Formatting for header cells */\n",
       ".text_cell_render h1 {\n",
       "    font-family: 'Nixie One', serif;\n",
       "    font-style:regular;\n",
       "    font-weight: 400;    \n",
       "    font-size: 45pt;\n",
       "    line-height: 100%;\n",
       "    color: rgb(0,51,102);\n",
       "    margin-bottom: 0.5em;\n",
       "    margin-top: 0.5em;\n",
       "    display: block;\n",
       "}\n",
       "\n",
       ".text_cell_render h2 {\n",
       "    font-family: 'Nixie One', serif;\n",
       "    font-weight: 400;\n",
       "    font-size: 30pt;\n",
       "    line-height: 100%;\n",
       "    color: rgb(0,51,102);\n",
       "    margin-bottom: 0.1em;\n",
       "    margin-top: 0.3em;\n",
       "    display: block;\n",
       "}\t\n",
       "\n",
       ".text_cell_render h3 {\n",
       "    font-family: 'Nixie One', serif;\n",
       "    margin-top:16px;\n",
       "    font-size: 22pt;\n",
       "    font-weight: 600;\n",
       "    margin-bottom: 3px;\n",
       "    font-style: regular;\n",
       "    color: rgb(102,102,0);\n",
       "}\n",
       "\n",
       ".text_cell_render h4 {    /*Use this for captions*/\n",
       "    font-family: 'Nixie One', serif;\n",
       "    font-size: 14pt;\n",
       "    text-align: center;\n",
       "    margin-top: 0em;\n",
       "    margin-bottom: 2em;\n",
       "    font-style: regular;\n",
       "}\n",
       "\n",
       ".text_cell_render h5 {  /*Use this for small titles*/\n",
       "    font-family: 'Nixie One', sans-serif;\n",
       "    font-weight: 400;\n",
       "    font-size: 16pt;\n",
       "    color: rgb(163,0,0);\n",
       "    font-style: italic;\n",
       "    margin-bottom: .1em;\n",
       "    margin-top: 0.8em;\n",
       "    display: block;\n",
       "}\n",
       "\n",
       ".text_cell_render h6 { /*use this for copyright note*/\n",
       "    font-family: 'PT Mono', sans-serif;\n",
       "    font-weight: 300;\n",
       "    font-size: 9pt;\n",
       "    line-height: 100%;\n",
       "    color: grey;\n",
       "    margin-bottom: 1px;\n",
       "    margin-top: 1px;\n",
       "}\n",
       "\n",
       ".CodeMirror{\n",
       "    font-family: \"PT Mono\";\n",
       "    font-size: 90%;\n",
       "}\n",
       "\n",
       "</style>\n",
       "<script>\n",
       "    MathJax.Hub.Config({\n",
       "                        TeX: {\n",
       "                           extensions: [\"AMSmath.js\"],\n",
       "                           equationNumbers: { autoNumber: \"AMS\", useLabelIds: true}\n",
       "                           },\n",
       "                tex2jax: {\n",
       "                    inlineMath: [ ['$','$'], [\"\\\\(\",\"\\\\)\"] ],\n",
       "                    displayMath: [ ['$$','$$'], [\"\\\\[\",\"\\\\]\"] ]\n",
       "                },\n",
       "                displayAlign: 'center', // Change this to 'center' to center equations.\n",
       "                \"HTML-CSS\": {\n",
       "                    styles: {'.MathJax_Display': {\"margin\": 4}}\n",
       "                }\n",
       "        });\n",
       "</script>\n"
      ],
      "text/plain": [
       "<IPython.core.display.HTML object>"
      ]
     },
     "execution_count": 1,
     "metadata": {},
     "output_type": "execute_result"
    }
   ],
   "source": [
    "from IPython.core.display import HTML\n",
    "css_file = './numericalmoocstyle.css'\n",
    "HTML(open(css_file, \"r\").read())"
   ]
  },
  {
   "cell_type": "code",
   "execution_count": 2,
   "metadata": {
    "collapsed": true
   },
   "outputs": [],
   "source": [
    "import numpy\n",
    "from numpy import pi\n",
    "#\n",
    "import sympy\n",
    "import math\n",
    "#\n",
    "import scipy\n",
    "from scipy import constants\n",
    "#\n",
    "import matplotlib.pyplot \n",
    "#\n",
    "from mpl_toolkits.mplot3d import Axes3D\n",
    "from matplotlib import pyplot, cm\n",
    "%matplotlib inline\n",
    "#\n",
    "from matplotlib import rcParams\n",
    "rcParams['font.family'] = 'serif'\n",
    "rcParams['font.size'] = 16\n",
    "#\n",
    "from matplotlib import animation\n",
    "from JSAnimation.IPython_display import display_animation"
   ]
  },
  {
   "cell_type": "markdown",
   "metadata": {},
   "source": [
    "### Domain"
   ]
  },
  {
   "cell_type": "code",
   "execution_count": 3,
   "metadata": {
    "collapsed": true
   },
   "outputs": [],
   "source": [
    "def get_domain(Ld, n_gap):\n",
    "    ''' This function obtains the domain based on a \n",
    "    staggered grid. The domain is divided into three parts:\n",
    "    (1) anode region, (2) gap, (3) cathode.\n",
    "    \n",
    "    Parameters:\n",
    "    ----------\n",
    "    Ld: Domain Length\n",
    "    n_gap: number of boundary nodes in gap\n",
    "    \n",
    "    Returns:\n",
    "    --------\n",
    "    '''\n",
    "    #staggered grid approach\n",
    "    #gap region\n",
    "    xl_gap = 0.0\n",
    "    xr_gap = Ld\n",
    "    delx_gap = (xr_gap-xl_gap)/(n_gap-1.0)\n",
    "    xb_gap = numpy.linspace(xl_gap, xr_gap, n_gap)\n",
    "    xc_gap = xb_gap[:-1]+(delx_gap*0.5)\n",
    "    #\n",
    "    #\n",
    "    return delx_gap, xb_gap, xc_gap\n",
    "    "
   ]
  },
  {
   "cell_type": "code",
   "execution_count": 4,
   "metadata": {
    "collapsed": false
   },
   "outputs": [],
   "source": [
    "# Domain, Dimensions\n",
    "L_chamber = 0.24  #meters\n",
    "Lgap = 0.004 #interelectrode gap [meters]\n",
    "L_cathode = 0.112\n",
    "L_anode = L_chamber - (Lgap + L_cathode)\n",
    "#\n",
    "nx_anode = 101\n",
    "nx_cathode = 111\n",
    "nx_gap = 121\n",
    "#\n",
    "Rc = (12.5/2.) * 1./1000. # cathode radius [meters]\n",
    "Ran = 6.35/2. * 1./1000.  #anode radius [meters]\n",
    "\n",
    "#get cell boundary and cell center locations\n",
    "dx, xb, xc = get_domain(Lgap,nx_gap)\n",
    "#\n",
    "l2_target = 1e-7\n",
    "#\n",
    "#time step\n",
    "dt = 0.000015 # {sec} time step"
   ]
  },
  {
   "cell_type": "code",
   "execution_count": 5,
   "metadata": {
    "collapsed": false
   },
   "outputs": [
    {
     "data": {
      "text/plain": [
       "(121,)"
      ]
     },
     "execution_count": 5,
     "metadata": {},
     "output_type": "execute_result"
    }
   ],
   "source": [
    "numpy.shape(xb)"
   ]
  },
  {
   "cell_type": "code",
   "execution_count": 6,
   "metadata": {
    "collapsed": false
   },
   "outputs": [
    {
     "data": {
      "text/plain": [
       "(120,)"
      ]
     },
     "execution_count": 6,
     "metadata": {},
     "output_type": "execute_result"
    }
   ],
   "source": [
    "numpy.shape(xc)"
   ]
  },
  {
   "cell_type": "code",
   "execution_count": 7,
   "metadata": {
    "collapsed": false
   },
   "outputs": [
    {
     "data": {
      "image/png": "[encoded data removed]",
      "text/plain": [
       "<matplotlib.figure.Figure at 0x1114cb7f0>"
      ]
     },
     "metadata": {},
     "output_type": "display_data"
    }
   ],
   "source": [
    "Xc_gap = numpy.meshgrid(xc)\n",
    "Xb_gap = numpy.meshgrid(xb)\n",
    "#\n",
    "pyplot.title('One Dimensional Domain for Interelectrode Gap')\n",
    "pyplot.ylim(-.0002,0.0002)\n",
    "pyplot.xlim(0., Lgap)\n",
    "pyplot.scatter(Xb_gap,numpy.zeros_like(Xb_gap),\\\n",
    "                   s=10, color='b', marker='o', linewidth=0)\n",
    "pyplot.scatter(Xc_gap,numpy.zeros_like(Xc_gap), \\\n",
    "                   s=10, color='r', marker='o', linewidth=0)\n",
    "pyplot.xticks(numpy.arange(0, Lgap+0.001, 0.001))\n",
    "pyplot.yticks(numpy.arange(0, 0.0002, 0.001));"
   ]
  },
  {
   "cell_type": "markdown",
   "metadata": {},
   "source": [
    "Note that velocities are calculated on the cell boundaries (blue), and the pressure, density,electrical conductivity, potential, current density and temperature are calculated on the cell center (red)"
   ]
  },
  {
   "cell_type": "markdown",
   "metadata": {},
   "source": [
    "### Initialization"
   ]
  },
  {
   "cell_type": "code",
   "execution_count": 8,
   "metadata": {
    "collapsed": true
   },
   "outputs": [],
   "source": [
    "def L2_error(p_new, p_old):\n",
    "    '''This function computes the L2 norm of the error for convergence\n",
    "    \n",
    "    This function is used for convergence of the pressure equation\n",
    "\n",
    "    Parameters:\n",
    "    ----------\n",
    "    p_new: new computed potential in flow field\n",
    "    p_old: previous flow field potential\n",
    "    \n",
    "    Returns:\n",
    "    ----------\n",
    "    error!\n",
    "    \n",
    "    1:-1,1:-1\n",
    "    '''\n",
    "    \n",
    "    return numpy.sqrt(numpy.sum((p_new[:] - p_old[:])**2)\\\n",
    "                      /numpy.sum(p_old[:]**2))"
   ]
  },
  {
   "cell_type": "code",
   "execution_count": 9,
   "metadata": {
    "collapsed": false
   },
   "outputs": [],
   "source": [
    "#Input Current\n",
    "I_arc = 60.0\n",
    "\n",
    "#Initialization Variables\n",
    "gamma1 = 5.0/3.0\n",
    "gravity = 9.81\n",
    "\n",
    "# collision radius Carbon-Helium:\n",
    "cr_C_He = (1.7 + 1.4)\n",
    "\n",
    "#Constants\n",
    "Ckb = scipy.constants.k  #Boltzmann Constant J/K\n",
    "Cme = scipy.constants.m_e #Elementary Electron Mass kg\n",
    "Ch = scipy.constants.h; # Planck's constant Js\n",
    "CA = 1.2e6 #constant in electron current density eqn [A/(m^2 K^2)], pg.62\n",
    "\n",
    "CNA = scipy.constants.N_A #avogadros number\n",
    "\n",
    "Ce = scipy.constants.e #elementary charge, C\n",
    "\n",
    "#Carbon\n",
    "M_C = 12.0e-3/CNA #kg, mass of 1 atom of pure carbon\n",
    "mC = 12.0107 # molar mass g/mol\n",
    "Ips1 = 1086.5e3/CNA #J, energy of first ionization\n",
    "anode_workfunction = 4.81 #eV\n",
    "emissivity=0.70 #carbon, graphite\n",
    "E_C = 11.2603*constants.e #ionization energy for carbon in Joules\n",
    "R_C = 8314.0/mC #specific gas constant\n",
    "\n",
    "#heat of vaporization anode:\n",
    "dH_C = 710.0e6/mC\n",
    "#\n",
    "#Helium\n",
    "M_He = 4.0e-3/CNA # kg, mass of 1 atom of Helium\n",
    "mHe = 4.002602 #molar mass, g/mol\n",
    "Ipg1 = 2372.3e3/CNA; # J, energy of first ionization\n",
    "\n",
    "R_He = 8314.0/mHe #specific gas constant\n",
    "#       "
   ]
  },
  {
   "cell_type": "markdown",
   "metadata": {},
   "source": [
    "##### Initial Conditions"
   ]
  },
  {
   "cell_type": "code",
   "execution_count": 10,
   "metadata": {
    "collapsed": false
   },
   "outputs": [],
   "source": [
    "def get_initial_conditions(x1,x2,I_input,R_anode, phi_cathode):\n",
    "    '''\n",
    "    Defines initial variables \n",
    "    add two ghost cells to represent nodes on anode and cathode\n",
    "    \n",
    "    Parameters:\n",
    "    -----------\n",
    "    x1: boundary x locations\n",
    "    x2: center cell x locations\n",
    "    I_input: arc current input\n",
    "    R_anode: anode radius\n",
    "    \n",
    "    Returns:\n",
    "    -------\n",
    "    jx:current density\n",
    "    phi_x: electric potential\n",
    "    cp_x: specific heat\n",
    "    Tx: Temperature\n",
    "    e_cond: electrical conductivity\n",
    "    visc: viscosity\n",
    "    k_cond: thermal conductivty\n",
    "    ne_x: number density of electrons\n",
    "    \n",
    "    Assume vent conditions and that only anode is modeled\n",
    "    '''\n",
    "    Tref = 300.0\n",
    "    #\n",
    "    a = numpy.size(x1) + 2 #this is to add ghost cells, these are boundary cells\n",
    "    b = numpy.size(x2) + 2 #this is to add ghost cells, these are center cells\n",
    "    #------------------------------------------\n",
    "    #grid 1 (cell edges)\n",
    "    ux = numpy.zeros((a),dtype=float) #velocity\n",
    "    #grid 2 cell centers-----------------------\n",
    "    jx = numpy.zeros((b), dtype=float) #current density\n",
    "    phi_x = numpy.zeros((b),dtype=float) #electric potential\n",
    "    e_cond = numpy.zeros((b),dtype=float) #electrical conductivity\n",
    "    rho_x = numpy.zeros((b),dtype=float) #density\n",
    "    ne_x = numpy.zeros((b), dtype=float) #number density of electrons\n",
    "    #\n",
    "    cp_x = numpy.zeros((b),dtype=float) #specific heat\n",
    "    Tx = numpy.zeros((b),dtype=float) #temperature\n",
    "    visc = numpy.zeros((b),dtype=float) #viscosity\n",
    "    k_cond = numpy.zeros((b),dtype=float) #thermal conductivity\n",
    "    Px = numpy.zeros((b),dtype=float) # pressure\n",
    "    hx = numpy.zeros((b),dtype=float) #enthalpy\n",
    "    #\n",
    "    Rs = numpy.zeros((b),dtype=float) # specific gas constant\n",
    "    Rs[:] = 8314.0/mHe\n",
    "    # \n",
    "    jx[0] = I_input/(numpy.pi*(R_anode**2)) #current density\n",
    "    jx[1] = I_input/(numpy.pi*(R_anode**2))\n",
    "    jx[2:] = I_input/(numpy.pi*(R_anode**2)) \n",
    "    # electric potential\n",
    "    phi_x[:] = 0.0\n",
    "    phi_x[-1] = 0.\n",
    "    phi_x[-2] = 0.\n",
    "    # specific heat\n",
    "    cp_x[1:] = 5195. #J/(kg-K) of helium\n",
    "    cp_x[0] = 710. #J/(kg-K) of carbon\n",
    "    # temperature\n",
    "    Tx[:] = 300.0 #kelvin # assume uniform temperature\n",
    "    # viscosity\n",
    "    visc[0] = 10. #Pa·s = kg/(s·m)\n",
    "    visc[-1] = 19.0e-6 #10.\n",
    "    visc[1:-1] = 19.0e-6\n",
    "    # velocity, assume still\n",
    "    ux[:] = 0. # m/s\n",
    "    # thermal conductivity\n",
    "    k_cond[2:] = 0.15 # W/(m-K)\n",
    "    k_cond[0] = 110.\n",
    "    k_cond[1] = 0.15 #110.\n",
    "    # electrical conductivity\n",
    "    e_cond[1:-1] = I_input # Siemens/meter\n",
    "    e_cond[0] = I_input #1e-5\n",
    "    e_cond[-1] = I_input #1e-5\n",
    "    # number density of electrons\n",
    "    ne_x[0] = 1e6 # 1/m3, number density of electrons\n",
    "    ne_x[-1] = 1e6 \n",
    "    ne_x[1:-1] = 1e6\n",
    "    # density\n",
    "    rho_x[0] = 0.164#2266 #graphite kg/m3\n",
    "    rho_x[-1] = 0.164  #2266. #graphite\n",
    "    rho_x[1:-1] = 0.164 #helium\n",
    "    #\n",
    "    #Px[:] = 0.5*(rho_x[1:]+rho_x[:-1])*Rs[:]*Tx[:] + 0.5*(ne_x[1:]+ne_x[:-1])*Ckb*Tx[:]\n",
    "    Px[:] = (rho_x[:])*Rs[:]*Tx[:] + (ne_x[:])*Ckb*Tx[:]\n",
    "    #\n",
    "    hx[:] = cp_x[:]*(Tx[:]-Tref)\n",
    "    #\n",
    "    return jx, phi_x, cp_x, Tx, visc, ux, k_cond, rho_x, Px, hx, e_cond, ne_x"
   ]
  },
  {
   "cell_type": "code",
   "execution_count": 11,
   "metadata": {
    "collapsed": false
   },
   "outputs": [],
   "source": [
    "j0,phi0,cp0,T0,mu0,u0,k0,rho0,p0,h0,econd0, ne0 = \\\n",
    "    get_initial_conditions(xb,xc,I_arc,Ran, -10.0)"
   ]
  },
  {
   "cell_type": "code",
   "execution_count": 12,
   "metadata": {
    "collapsed": false
   },
   "outputs": [
    {
     "data": {
      "text/plain": [
       "array([ 60.,  60.,  60.,  60.,  60.,  60.,  60.,  60.,  60.,  60.])"
      ]
     },
     "execution_count": 12,
     "metadata": {},
     "output_type": "execute_result"
    }
   ],
   "source": [
    "econd0[:10] \n",
    "#\n",
    "#first ten values\n",
    "# this is how the electrical conductivity is initialized (same as arc current)"
   ]
  },
  {
   "cell_type": "code",
   "execution_count": 13,
   "metadata": {
    "collapsed": false
   },
   "outputs": [
    {
     "data": {
      "text/plain": [
       "array([ 1894584.23173439,  1894584.23173439,  1894584.23173439,\n",
       "        1894584.23173439,  1894584.23173439,  1894584.23173439,\n",
       "        1894584.23173439,  1894584.23173439,  1894584.23173439,\n",
       "        1894584.23173439])"
      ]
     },
     "execution_count": 13,
     "metadata": {},
     "output_type": "execute_result"
    }
   ],
   "source": [
    "j0[:10] \n",
    "# these are the first ten values in the array\n",
    "#this is the initial condition for current density (corresponfs to 60 amps everywhere)"
   ]
  },
  {
   "cell_type": "markdown",
   "metadata": {},
   "source": [
    "## there is constant current throughout the domain initially"
   ]
  },
  {
   "cell_type": "code",
   "execution_count": 14,
   "metadata": {
    "collapsed": false
   },
   "outputs": [
    {
     "data": {
      "text/plain": [
       "array([ 1000000.,  1000000.,  1000000.,  1000000.,  1000000.,  1000000.,\n",
       "        1000000.,  1000000.,  1000000.,  1000000.,  1000000.,  1000000.,\n",
       "        1000000.,  1000000.,  1000000.,  1000000.,  1000000.,  1000000.,\n",
       "        1000000.,  1000000.,  1000000.,  1000000.,  1000000.,  1000000.,\n",
       "        1000000.,  1000000.,  1000000.,  1000000.,  1000000.,  1000000.,\n",
       "        1000000.,  1000000.,  1000000.,  1000000.,  1000000.,  1000000.,\n",
       "        1000000.,  1000000.,  1000000.,  1000000.,  1000000.,  1000000.,\n",
       "        1000000.,  1000000.,  1000000.,  1000000.,  1000000.,  1000000.,\n",
       "        1000000.,  1000000.,  1000000.,  1000000.,  1000000.,  1000000.,\n",
       "        1000000.,  1000000.,  1000000.,  1000000.,  1000000.,  1000000.,\n",
       "        1000000.,  1000000.,  1000000.,  1000000.,  1000000.,  1000000.,\n",
       "        1000000.,  1000000.,  1000000.,  1000000.,  1000000.,  1000000.,\n",
       "        1000000.,  1000000.,  1000000.,  1000000.,  1000000.,  1000000.,\n",
       "        1000000.,  1000000.,  1000000.,  1000000.,  1000000.,  1000000.,\n",
       "        1000000.,  1000000.,  1000000.,  1000000.,  1000000.,  1000000.,\n",
       "        1000000.,  1000000.,  1000000.,  1000000.,  1000000.,  1000000.,\n",
       "        1000000.,  1000000.,  1000000.,  1000000.,  1000000.,  1000000.,\n",
       "        1000000.,  1000000.,  1000000.,  1000000.,  1000000.,  1000000.,\n",
       "        1000000.,  1000000.,  1000000.,  1000000.,  1000000.,  1000000.,\n",
       "        1000000.,  1000000.,  1000000.,  1000000.,  1000000.,  1000000.,\n",
       "        1000000.,  1000000.])"
      ]
     },
     "execution_count": 14,
     "metadata": {},
     "output_type": "execute_result"
    }
   ],
   "source": [
    "ne0"
   ]
  },
  {
   "cell_type": "markdown",
   "metadata": {},
   "source": [
    "##### reference values"
   ]
  },
  {
   "cell_type": "code",
   "execution_count": 15,
   "metadata": {
    "collapsed": true
   },
   "outputs": [],
   "source": [
    "# reference values are stored (n-1) time step,\n",
    "# because they are used in the energy equation\n",
    "pref = numpy.zeros_like(p0)\n",
    "pref[:] = p0[1]\n",
    "#\n",
    "Tref = numpy.zeros_like(T0)\n",
    "Tref[:] = 300."
   ]
  },
  {
   "cell_type": "code",
   "execution_count": 16,
   "metadata": {
    "collapsed": true
   },
   "outputs": [],
   "source": [
    "def potential_algorithm(electrical_conductivity, center_nodes, delx):\n",
    "    '''\n",
    "    '''\n",
    "    #\n",
    "    xc_nodes = center_nodes.copy()\n",
    "    x_an = xc_nodes[0]\n",
    "    x_cath = xc_nodes[-1]\n",
    "    #\n",
    "    array_size = electrical_conductivity.size \n",
    "    #\n",
    "    A = numpy.zeros_like(electrical_conductivity)\n",
    "    B = numpy.zeros_like(electrical_conductivity)\n",
    "    eratio = numpy.zeros_like(electrical_conductivity)\n",
    "    #\n",
    "    C1 = numpy.zeros_like(electrical_conductivity)\n",
    "    C2 = numpy.zeros_like(electrical_conductivity)\n",
    "    #\n",
    "    econdx = electrical_conductivity.copy()\n",
    "    phix = numpy.zeros_like(electrical_conductivity)\n",
    "    #\n",
    "    jx_anode = I_arc/(numpy.pi*(Ran**2)) #anode_current_density#\n",
    "    econdx_anode = 5e6\n",
    "    anode_potential = jx_anode*delx/econdx_anode\n",
    "    #\n",
    "    cathode_potential = -10.0\n",
    "    #\n",
    "    A[1:-1] = - econdx[1:-1]\n",
    "    B[1:-1] = -(0.5/delx)*(econdx[2:] - 2*econdx[1:-1] + econdx[:-2])\n",
    "    #\n",
    "    for i in range(1,array_size-1):\n",
    "        #\n",
    "        if (B[i] == 0.):\n",
    "            # general solution constants\n",
    "            C2[i] = - (cathode_potential+anode_potential)/(x_cath-x_an) \n",
    "            C1[i] = anode_potential - C2[i]*x_an\n",
    "            # potential solution\n",
    "            phix[i] = C1[i] + C2[i]*xc_nodes[i-1]\n",
    "        #\n",
    "        if (B[i]**2 > 0.):\n",
    "            #general solution constants\n",
    "            eratio[i] = numpy.exp((-B[i]/A[i])*x_cath)/numpy.exp((-B[i]/A[i])*x_an)\n",
    "            C2[i] = (cathode_potential - anode_potential*eratio[i])/(1-eratio[i])\n",
    "            C1[i] = (anode_potential - C2[i])/numpy.exp((-B[i]/A[i])*x_an)\n",
    "            # potential solution\n",
    "            phix[i] = C1[i]*numpy.exp((-B[i]/A[i])*xc_nodes[i-1]) + C2[i]\n",
    "    #\n",
    "    phix[0] = jx_anode*delx/econdx_anode\n",
    "    phix[-1] = phix[-2]#cathode_potential\n",
    "    #\n",
    "    return phix"
   ]
  },
  {
   "cell_type": "code",
   "execution_count": 17,
   "metadata": {
    "collapsed": false
   },
   "outputs": [],
   "source": [
    "phi_init =  potential_algorithm(econd0.copy(), xc.copy(), dx)"
   ]
  },
  {
   "cell_type": "code",
   "execution_count": 18,
   "metadata": {
    "collapsed": false
   },
   "outputs": [
    {
     "data": {
      "text/plain": [
       "array([  1.26305615e-05,   1.26305615e-05,   8.40461379e-02,\n",
       "         1.68079645e-01,   2.52113152e-01,   3.36146660e-01,\n",
       "         4.20180167e-01,   5.04213674e-01,   5.88247182e-01,\n",
       "         6.72280689e-01,   7.56314196e-01,   8.40347704e-01,\n",
       "         9.24381211e-01,   1.00841472e+00,   1.09244823e+00,\n",
       "         1.17648173e+00,   1.26051524e+00,   1.34454875e+00,\n",
       "         1.42858225e+00,   1.51261576e+00,   1.59664927e+00,\n",
       "         1.68068278e+00,   1.76471628e+00,   1.84874979e+00,\n",
       "         1.93278330e+00,   2.01681681e+00,   2.10085031e+00,\n",
       "         2.18488382e+00,   2.26891733e+00,   2.35295084e+00,\n",
       "         2.43698434e+00,   2.52101785e+00,   2.60505136e+00,\n",
       "         2.68908486e+00,   2.77311837e+00,   2.85715188e+00,\n",
       "         2.94118539e+00,   3.02521889e+00,   3.10925240e+00,\n",
       "         3.19328591e+00,   3.27731942e+00,   3.36135292e+00,\n",
       "         3.44538643e+00,   3.52941994e+00,   3.61345344e+00,\n",
       "         3.69748695e+00,   3.78152046e+00,   3.86555397e+00,\n",
       "         3.94958747e+00,   4.03362098e+00,   4.11765449e+00,\n",
       "         4.20168800e+00,   4.28572150e+00,   4.36975501e+00,\n",
       "         4.45378852e+00,   4.53782203e+00,   4.62185553e+00,\n",
       "         4.70588904e+00,   4.78992255e+00,   4.87395605e+00,\n",
       "         4.95798956e+00,   5.04202307e+00,   5.12605658e+00,\n",
       "         5.21009008e+00,   5.29412359e+00,   5.37815710e+00,\n",
       "         5.46219061e+00,   5.54622411e+00,   5.63025762e+00,\n",
       "         5.71429113e+00,   5.79832463e+00,   5.88235814e+00,\n",
       "         5.96639165e+00,   6.05042516e+00,   6.13445866e+00,\n",
       "         6.21849217e+00,   6.30252568e+00,   6.38655919e+00,\n",
       "         6.47059269e+00,   6.55462620e+00,   6.63865971e+00,\n",
       "         6.72269322e+00,   6.80672672e+00,   6.89076023e+00,\n",
       "         6.97479374e+00,   7.05882724e+00,   7.14286075e+00,\n",
       "         7.22689426e+00,   7.31092777e+00,   7.39496127e+00,\n",
       "         7.47899478e+00,   7.56302829e+00,   7.64706180e+00,\n",
       "         7.73109530e+00,   7.81512881e+00,   7.89916232e+00,\n",
       "         7.98319582e+00,   8.06722933e+00,   8.15126284e+00,\n",
       "         8.23529635e+00,   8.31932985e+00,   8.40336336e+00,\n",
       "         8.48739687e+00,   8.57143038e+00,   8.65546388e+00,\n",
       "         8.73949739e+00,   8.82353090e+00,   8.90756441e+00,\n",
       "         8.99159791e+00,   9.07563142e+00,   9.15966493e+00,\n",
       "         9.24369843e+00,   9.32773194e+00,   9.41176545e+00,\n",
       "         9.49579896e+00,   9.57983246e+00,   9.66386597e+00,\n",
       "         9.74789948e+00,   9.83193299e+00,   9.91596649e+00,\n",
       "         1.00000000e+01,   1.00000000e+01])"
      ]
     },
     "execution_count": 18,
     "metadata": {},
     "output_type": "execute_result"
    }
   ],
   "source": [
    "phi_init"
   ]
  },
  {
   "cell_type": "markdown",
   "metadata": {},
   "source": [
    "#### this is the initial potential field.  There needs to be a potential gradient large enough to allow a high enough current density to provide the joule heating term that feeds into the energy equation."
   ]
  },
  {
   "cell_type": "markdown",
   "metadata": {},
   "source": [
    "##### Get Temperature after Initializing Arc"
   ]
  },
  {
   "cell_type": "code",
   "execution_count": 19,
   "metadata": {
    "collapsed": true
   },
   "outputs": [],
   "source": [
    "def get_energy(density, pressure, velocity, current_density, thermal_conductivity,\\\n",
    "               electrical_conductivity, specific_heat, delx, delt, reference_pressure,\\\n",
    "              enthalpy, reference_temperature):\n",
    "    ''' Defines energy based on computed values, \n",
    "    includes Joule Heating, Heat Flux, DP/Dt, d(puh)/dx\n",
    "    \n",
    "    Note that this actually solves for (rho*h)\n",
    "    \n",
    "    h = (rho*h)\\rho\n",
    "    \n",
    "    T^{n+1} = h/cp + T_{ref}\n",
    "    '''\n",
    "    T_ref = reference_temperature.copy()\n",
    "    #\n",
    "    Hflux = numpy.zeros_like(enthalpy) #heat flux\n",
    "    Jflux = numpy.zeros_like(enthalpy) #joule heating\n",
    "    Pflux = numpy.zeros_like(enthalpy) # pressure flux\n",
    "    Mflux  = numpy.zeros_like(enthalpy) #momentum flux\n",
    "    #\n",
    "    rhoh = numpy.zeros_like(enthalpy) #density*enthalpy\n",
    "    dTemp = numpy.zeros_like(enthalpy) # delta Temp\n",
    "    h_new = numpy.zeros_like(enthalpy) #enthalpy\n",
    "    T_new = numpy.zeros_like(enthalpy) #temperature\n",
    "    #\n",
    "    ux = velocity.copy()\n",
    "    ux_int = numpy.zeros_like(enthalpy) #interpolated velocities\n",
    "    ux_int[:] = 0.5*(ux[1:]+ux[:-1])\n",
    "    \n",
    "    P_ref = reference_pressure.copy()\n",
    "    Px = pressure.copy()\n",
    "    hx = enthalpy.copy()\n",
    "    rhox = density.copy()\n",
    "    kx = thermal_conductivity.copy()\n",
    "    cpx = specific_heat.copy()\n",
    "    #\n",
    "    dTemp[:] = hx[:]/cpx[:] #enthalpy/specific_heat = delta Temp\n",
    "    econd = electrical_conductivity.copy()\n",
    "    jx = current_density.copy()\n",
    "    # joule heating flux\n",
    "    Jflux[1:-1] = delt*((jx[1:-1]**2)/econd[1:-1])+\\\n",
    "                    delt*((5./2.)*Ckb/Ce)*(jx[1:-1])*\\\n",
    "                    (0.5/delx)*(dTemp[2:] - dTemp[:-2])\n",
    "    # conductive heat flux\n",
    "    Hflux[1:-1] = delt*(kx[1:-1]/(delx**2))*(dTemp[2:] - 2*dTemp[1:-1] + dTemp[:-2]) \n",
    "    # pressure flux\n",
    "    Pflux[1:-1] = (Px[1:-1]-P_ref[1:-1]) +\\\n",
    "                    (0.5*delt/delx)*(Px[2:]-Px[:-2])*ux_int[1:-1]\n",
    "    # convective heat flux, or momentum flux\n",
    "    Mflux[1:-1] = - (0.5*delt/delx)*\\\n",
    "                  (rhox[2:]*ux_int[2:]*hx[2:] -rhox[:-2]*ux_int[:-2]*hx[:-2])\n",
    "    #\n",
    "    rhoh[1:-1] = rhox[1:-1]*hx[1:-1] + Mflux[1:-1] + Pflux[1:-1] +\\\n",
    "                                                            Hflux[1:-1] + Jflux[1:-1]\n",
    "    #\n",
    "    h_new[1:-1] = rhoh[1:-1]/(rhox[1:-1])\n",
    "    #\n",
    "    T_new[1:-1] = (h_new[1:-1]/cpx[1:-1]) + T_ref[1:-1]\n",
    "    #ghost cells\n",
    "    T_new[0] = T_new[1]\n",
    "    T_new[-1] = T_new[-2]\n",
    "    #\n",
    "    return T_new \n",
    "    "
   ]
  },
  {
   "cell_type": "raw",
   "metadata": {
    "collapsed": true
   },
   "source": [
    "def get_energy(density, pressure, velocity, current_density, thermal_conductivity,\\\n",
    "               electrical_conductivity, specific_heat, delx, delt, reference_pressure,\\\n",
    "              enthalpy, reference_temperature):\n",
    "    ''' Defines energy based on computed values, \n",
    "    includes Joule Heating, Heat Flux, DP/Dt, d(puh)/dx\n",
    "    \n",
    "    Note that this actually solves for (rho*h)\n",
    "    \n",
    "    h = (rho*h)\\rho\n",
    "    \n",
    "    T^{n+1} = h/cp + T_{ref}\n",
    "    '''\n",
    "    T_ref = reference_temperature.copy()\n",
    "    #\n",
    "    Hflux = numpy.zeros_like(enthalpy) #heat flux\n",
    "    Jflux = numpy.zeros_like(enthalpy) #joule heating\n",
    "    Pflux = numpy.zeros_like(enthalpy) # pressure flux\n",
    "    Mflux  = numpy.zeros_like(enthalpy) #momentum flux\n",
    "    #\n",
    "    rhoh = numpy.zeros_like(enthalpy) #density*enthalpy\n",
    "    dTemp = numpy.zeros_like(enthalpy) # delta Temp\n",
    "    h_new = numpy.zeros_like(enthalpy) #enthalpy\n",
    "    T_new = numpy.zeros_like(enthalpy) #temperature\n",
    "    #\n",
    "    ux = velocity.copy()\n",
    "    ux_int = numpy.zeros_like(enthalpy) #interpolated velocities\n",
    "    ux_int[:] = 0.5*(ux[1:]+ux[:-1])\n",
    "    \n",
    "    P_ref = reference_pressure.copy()\n",
    "    Px = pressure.copy()\n",
    "    hx = enthalpy.copy()\n",
    "    rhox = density.copy()\n",
    "    kx = thermal_conductivity.copy()\n",
    "    cpx = specific_heat.copy()\n",
    "    #\n",
    "    dTemp[:] = hx[:]/cpx[:] #enthalpy/specific_heat = delta Temp\n",
    "    econd = electrical_conductivity.copy()\n",
    "    jx = current_density.copy()\n",
    "    #\n",
    "    Jflux[1:-1] = delt*((jx[1:-1]**2)/econd[1:-1])+\\\n",
    "                    delt*((5./2.)*Ckb/Ce)*(jx[1:-1])*\\\n",
    "                    (0.5/delx)*(dTemp[2:] - 2*dTemp[1:-1] + dTemp[:-2])\n",
    "    #\n",
    "    Hflux[1:-1] = delt*(kx[1:-1]/(delx**2))*(dTemp[2:] - 2*dTemp[1:-1] + dTemp[:-2]) \n",
    "    #\n",
    "    Pflux[1:-1] = (Px[1:-1]-P_ref[1:-1]) +\\\n",
    "                    (0.5*delt/delx)*(Px[2:]-2*Px[1:-1]+Px[:-2])*ux_int[1:-1]\n",
    "    #\n",
    "    Mflux[1:-1] = - (0.5*delt/delx)*\\\n",
    "              (rhox[2:]*ux_int[2:]*hx[2:] - 2*rhox[1:-1]*ux_int[1:-1]*hx[1:-1] +\\\n",
    "                      rhox[:-2]*ux_int[:-2]*hx[:-2])\n",
    "    #\n",
    "    rhoh[1:-1] = rhox[1:-1]*hx[1:-1] + Mflux[1:-1] + Pflux[1:-1] +\\\n",
    "                                                            Hflux[1:-1] + Jflux[1:-1]\n",
    "    #\n",
    "    h_new[1:-1] = rhoh[1:-1]/(rhox[1:-1])\n",
    "    #\n",
    "    T_new[1:-1] = (h_new[1:-1]/cpx[1:-1]) + T_ref[1:-1]\n",
    "    #ghost cells\n",
    "    T_new[0] = T_new[1]\n",
    "    T_new[-1] = T_new[-2]\n",
    "    #\n",
    "    return T_new \n",
    "    "
   ]
  },
  {
   "cell_type": "code",
   "execution_count": 20,
   "metadata": {
    "collapsed": false
   },
   "outputs": [],
   "source": [
    "Tn = get_energy(rho0.copy(), p0.copy(), u0.copy(), j0.copy(), k0.copy(),\\\n",
    "               econd0.copy(), cp0.copy(), dx, dt, pref.copy(),\\\n",
    "              h0.copy(), Tref.copy())\n"
   ]
  },
  {
   "cell_type": "code",
   "execution_count": 21,
   "metadata": {
    "collapsed": false
   },
   "outputs": [
    {
     "data": {
      "text/plain": [
       "array([ 1353.26692268,  1353.26692268,  1353.26692268,  1353.26692268,\n",
       "        1353.26692268,  1353.26692268,  1353.26692268,  1353.26692268,\n",
       "        1353.26692268,  1353.26692268,  1353.26692268,  1353.26692268,\n",
       "        1353.26692268,  1353.26692268,  1353.26692268,  1353.26692268,\n",
       "        1353.26692268,  1353.26692268,  1353.26692268,  1353.26692268,\n",
       "        1353.26692268,  1353.26692268,  1353.26692268,  1353.26692268,\n",
       "        1353.26692268,  1353.26692268,  1353.26692268,  1353.26692268,\n",
       "        1353.26692268,  1353.26692268,  1353.26692268,  1353.26692268,\n",
       "        1353.26692268,  1353.26692268,  1353.26692268,  1353.26692268,\n",
       "        1353.26692268,  1353.26692268,  1353.26692268,  1353.26692268,\n",
       "        1353.26692268,  1353.26692268,  1353.26692268,  1353.26692268,\n",
       "        1353.26692268,  1353.26692268,  1353.26692268,  1353.26692268,\n",
       "        1353.26692268,  1353.26692268,  1353.26692268,  1353.26692268,\n",
       "        1353.26692268,  1353.26692268,  1353.26692268,  1353.26692268,\n",
       "        1353.26692268,  1353.26692268,  1353.26692268,  1353.26692268,\n",
       "        1353.26692268,  1353.26692268,  1353.26692268,  1353.26692268,\n",
       "        1353.26692268,  1353.26692268,  1353.26692268,  1353.26692268,\n",
       "        1353.26692268,  1353.26692268,  1353.26692268,  1353.26692268,\n",
       "        1353.26692268,  1353.26692268,  1353.26692268,  1353.26692268,\n",
       "        1353.26692268,  1353.26692268,  1353.26692268,  1353.26692268,\n",
       "        1353.26692268,  1353.26692268,  1353.26692268,  1353.26692268,\n",
       "        1353.26692268,  1353.26692268,  1353.26692268,  1353.26692268,\n",
       "        1353.26692268,  1353.26692268,  1353.26692268,  1353.26692268,\n",
       "        1353.26692268,  1353.26692268,  1353.26692268,  1353.26692268,\n",
       "        1353.26692268,  1353.26692268,  1353.26692268,  1353.26692268,\n",
       "        1353.26692268,  1353.26692268,  1353.26692268,  1353.26692268,\n",
       "        1353.26692268,  1353.26692268,  1353.26692268,  1353.26692268,\n",
       "        1353.26692268,  1353.26692268,  1353.26692268,  1353.26692268,\n",
       "        1353.26692268,  1353.26692268,  1353.26692268,  1353.26692268,\n",
       "        1353.26692268,  1353.26692268,  1353.26692268,  1353.26692268,\n",
       "        1353.26692268,  1353.26692268])"
      ]
     },
     "execution_count": 21,
     "metadata": {},
     "output_type": "execute_result"
    }
   ],
   "source": [
    "Tn # this is the temperature {K} at the next time step t = 0 "
   ]
  },
  {
   "cell_type": "code",
   "execution_count": 22,
   "metadata": {
    "collapsed": true
   },
   "outputs": [],
   "source": [
    "Tref2 = Tn.copy()"
   ]
  },
  {
   "cell_type": "markdown",
   "metadata": {},
   "source": [
    "#### This is the temperature distribution used to initialize. Note that this will vary depending on the time step"
   ]
  },
  {
   "cell_type": "markdown",
   "metadata": {},
   "source": [
    "##### Thermophysical Properties"
   ]
  },
  {
   "cell_type": "code",
   "execution_count": 23,
   "metadata": {
    "collapsed": false
   },
   "outputs": [],
   "source": [
    "def get_thermophysical_properties(temperature):\n",
    "    ''' finds viscosity, thermal conductivity\n",
    "    '''\n",
    "    mu = numpy.zeros_like(temperature) #viscosity\n",
    "    kth = numpy.zeros_like(temperature) #thermal conductivity\n",
    "    T = temperature.copy() # temperature\n",
    "    a = numpy.size(T)\n",
    "    #\n",
    "    kth[:] = 0.15 + (10.0-0.15)*(T[:]-300.0)/20000.0\n",
    "    #\n",
    "    for i in range(a):\n",
    "        #\n",
    "        if (T[i]<1873.0):\n",
    "            mu[i] = -1.4083e-11*T[i]*T[i] + 5.2322e-8*T[i] + 5.4399e-6\n",
    "        else:\n",
    "                mu[i] = 5.4e-5\n",
    "        #\n",
    "        if(mu[i]<5.4e-5):\n",
    "            mu[i] = 5.4e-5\n",
    "        #\n",
    "        if(kth[i]>10.0):\n",
    "            kth[i] = 10.0\n",
    "        #\n",
    "    return kth, mu"
   ]
  },
  {
   "cell_type": "code",
   "execution_count": 24,
   "metadata": {
    "collapsed": false
   },
   "outputs": [],
   "source": [
    "kn, mun = get_thermophysical_properties(Tn.copy())"
   ]
  },
  {
   "cell_type": "code",
   "execution_count": 25,
   "metadata": {
    "collapsed": false
   },
   "outputs": [
    {
     "data": {
      "text/plain": [
       "array([ 0.66873396,  0.66873396,  0.66873396,  0.66873396,  0.66873396,\n",
       "        0.66873396,  0.66873396,  0.66873396,  0.66873396,  0.66873396])"
      ]
     },
     "execution_count": 25,
     "metadata": {},
     "output_type": "execute_result"
    }
   ],
   "source": [
    "kn[:10]"
   ]
  },
  {
   "cell_type": "code",
   "execution_count": 26,
   "metadata": {
    "collapsed": false
   },
   "outputs": [
    {
     "data": {
      "text/plain": [
       "array([  5.40000000e-05,   5.40000000e-05,   5.40000000e-05,\n",
       "         5.40000000e-05,   5.40000000e-05,   5.40000000e-05,\n",
       "         5.40000000e-05,   5.40000000e-05,   5.40000000e-05,\n",
       "         5.40000000e-05])"
      ]
     },
     "execution_count": 26,
     "metadata": {},
     "output_type": "execute_result"
    }
   ],
   "source": [
    "mun[:10]"
   ]
  },
  {
   "cell_type": "markdown",
   "metadata": {},
   "source": [
    "##### Ablation of Anode"
   ]
  },
  {
   "cell_type": "code",
   "execution_count": 27,
   "metadata": {
    "collapsed": false
   },
   "outputs": [],
   "source": [
    "def get_ablation(anode_temperature, molecular_weight):\n",
    "    '''Defines ablation rate\n",
    "    \n",
    "    in { kg } / { m2 s }\n",
    "    '''\n",
    "    Tan = anode_temperature\n",
    "    A = 15.73\n",
    "    B = 40030.0\n",
    "    #\n",
    "    MW = molecular_weight\n",
    "    #\n",
    "    p_vapor = (0.133*numpy.exp(2.3*(A - B/Tan)))\n",
    "    ablation = p_vapor*numpy.sqrt(MW/(2*numpy.pi*Ckb*Tan))\n",
    "    rho_vapor = p_vapor/(R_C*Tan)\n",
    "    #\n",
    "    return ablation, rho_vapor"
   ]
  },
  {
   "cell_type": "code",
   "execution_count": 28,
   "metadata": {
    "collapsed": false
   },
   "outputs": [],
   "source": [
    "ABL, rhov = get_ablation(Tn[1],M_C)"
   ]
  },
  {
   "cell_type": "code",
   "execution_count": 29,
   "metadata": {
    "collapsed": false
   },
   "outputs": [
    {
     "data": {
      "text/plain": [
       "2.0773360623576932e-21"
      ]
     },
     "execution_count": 29,
     "metadata": {},
     "output_type": "execute_result"
    }
   ],
   "source": [
    "rhov # vapor density in { kg } / { m3 }"
   ]
  },
  {
   "cell_type": "code",
   "execution_count": 30,
   "metadata": {
    "collapsed": false
   },
   "outputs": [
    {
     "data": {
      "text/plain": [
       "8.0172200374022508e-19"
      ]
     },
     "execution_count": 30,
     "metadata": {},
     "output_type": "execute_result"
    }
   ],
   "source": [
    "ABL # ablation rate in { kg } / { m2 s }"
   ]
  },
  {
   "cell_type": "markdown",
   "metadata": {},
   "source": [
    "##### update density boundary conditions to include the ablated density"
   ]
  },
  {
   "cell_type": "code",
   "execution_count": 31,
   "metadata": {
    "collapsed": true
   },
   "outputs": [],
   "source": [
    "def density_bc(density, ablated_density):\n",
    "    ''' updates densities in the anode region \n",
    "    by summing ablated density with local density\n",
    "    '''\n",
    "    rhox = density.copy()\n",
    "    rhobc = density.copy()\n",
    "    #rhobc[1] = rhox[1] + ablated_density\n",
    "    rhobc[0] = rhox[1] + ablated_density\n",
    "    #\n",
    "    rhobc[-1] = 2*rhobc[-2] - rhobc[-3]\n",
    "    #\n",
    "    return rhobc"
   ]
  },
  {
   "cell_type": "code",
   "execution_count": 32,
   "metadata": {
    "collapsed": false
   },
   "outputs": [
    {
     "data": {
      "text/plain": [
       "array([ 0.164,  0.164,  0.164,  0.164,  0.164,  0.164,  0.164,  0.164,\n",
       "        0.164,  0.164])"
      ]
     },
     "execution_count": 32,
     "metadata": {},
     "output_type": "execute_result"
    }
   ],
   "source": [
    "rhon = density_bc(rho0.copy(), rhov)\n",
    "rhon[:10]"
   ]
  },
  {
   "cell_type": "markdown",
   "metadata": {},
   "source": [
    "##### obtain velocity of sublimated particles"
   ]
  },
  {
   "cell_type": "code",
   "execution_count": 33,
   "metadata": {
    "collapsed": true
   },
   "outputs": [],
   "source": [
    "def get_ablation_velocity(ablation_rate, density):\n",
    "    '''obtains the velocity of sublimated particles\n",
    "    '''\n",
    "    rhox = density.copy()\n",
    "    abl_rate = ablation_rate\n",
    "    ablation_velocity = (abl_rate*(numpy.pi*(Ran**2)))/rhox[1]\n",
    "    #\n",
    "    return ablation_velocity"
   ]
  },
  {
   "cell_type": "code",
   "execution_count": 34,
   "metadata": {
    "collapsed": false
   },
   "outputs": [
    {
     "data": {
      "text/plain": [
       "1.5481651503513873e-22"
      ]
     },
     "execution_count": 34,
     "metadata": {},
     "output_type": "execute_result"
    }
   ],
   "source": [
    "u_abl = get_ablation_velocity(ABL, rhon.copy())\n",
    "u_abl #m/s"
   ]
  },
  {
   "cell_type": "markdown",
   "metadata": {},
   "source": [
    "## Depending on the initial temperature, there may be no sublimation of the anode material"
   ]
  },
  {
   "cell_type": "markdown",
   "metadata": {},
   "source": [
    "##### Solve Momentum Equation"
   ]
  },
  {
   "cell_type": "code",
   "execution_count": 35,
   "metadata": {
    "collapsed": false
   },
   "outputs": [],
   "source": [
    "def initial_velocity(velocity,ablation_velocity):\n",
    "    ''' defines initial velocity in the field\n",
    "    \n",
    "    Boundary_conditions:\n",
    "    --------------------\n",
    "    Ghost cell and anode/fluid interface velocities are set,\n",
    "    as the sublimation velocity\n",
    "    \n",
    "    '''\n",
    "    ui = velocity.copy()\n",
    "    ui[0] = ablation_velocity\n",
    "    ui[1] = ablation_velocity\n",
    "    #\n",
    "    return ui"
   ]
  },
  {
   "cell_type": "code",
   "execution_count": 36,
   "metadata": {
    "collapsed": false
   },
   "outputs": [
    {
     "data": {
      "text/plain": [
       "array([  1.54816515e-22,   1.54816515e-22,   0.00000000e+00,\n",
       "         0.00000000e+00,   0.00000000e+00])"
      ]
     },
     "execution_count": 36,
     "metadata": {},
     "output_type": "execute_result"
    }
   ],
   "source": [
    "u_init = initial_velocity(u0.copy(), u_abl)\n",
    "u_init[:5] #the rest are zeros initially"
   ]
  },
  {
   "cell_type": "markdown",
   "metadata": {},
   "source": [
    "## The velocity of sublimated particles is a function of temperature, so depending on the initial temperature, there may be no sublimation"
   ]
  },
  {
   "cell_type": "markdown",
   "metadata": {},
   "source": [
    "## Now,  solve momentum equation to obtain velocity distribution and heavy particle pressure (i.e., exclude electrons). Here I use the fractional step method to solve for the heavy particle pressure and the velocity field."
   ]
  },
  {
   "cell_type": "code",
   "execution_count": 37,
   "metadata": {
    "collapsed": true
   },
   "outputs": [],
   "source": [
    "def convective_flux(velocity, delx):\n",
    "    ''' calculates convective fluxes for momentum equation\n",
    "    '''\n",
    "    ux = velocity.copy()\n",
    "    fc = numpy.zeros_like(velocity)\n",
    "    #fc[1:-1] = (-0.5/delx)*((ux[2:]**2)-2*(ux[1:-1]**2) + (ux[:-2]**2))\n",
    "    fc[1:-1] = (-0.5/delx)*((ux[2:]**2)-(ux[:-2]**2) )\n",
    "    #\n",
    "    return fc"
   ]
  },
  {
   "cell_type": "code",
   "execution_count": 38,
   "metadata": {
    "collapsed": false
   },
   "outputs": [
    {
     "data": {
      "text/plain": [
       "array([  0.00000000e+00,   3.59522300e-40,   3.59522300e-40,\n",
       "        -0.00000000e+00,  -0.00000000e+00])"
      ]
     },
     "execution_count": 38,
     "metadata": {},
     "output_type": "execute_result"
    }
   ],
   "source": [
    "fct = convective_flux(u_init.copy(), dx)\n",
    "fct[:5]"
   ]
  },
  {
   "cell_type": "code",
   "execution_count": 39,
   "metadata": {
    "collapsed": true
   },
   "outputs": [],
   "source": [
    "def viscous_flux(velocity, delx, shear_viscosity, density):\n",
    "    ''' calculates viscous fluxes for momentum equation\n",
    "    '''\n",
    "    ux = velocity.copy()\n",
    "    fv = numpy.zeros_like(velocity)\n",
    "    fv2 = numpy.zeros_like(velocity) # = mu * d/dx {u}\n",
    "    #\n",
    "    mux = shear_viscosity.copy()\n",
    "    muxb = numpy.zeros_like(velocity) #interpolated viscosity boundary values\n",
    "    muxb[1:-1] = 0.5*(mux[1:]+mux[:-1])\n",
    "    #\n",
    "    rhox = density.copy() #density at cell center\n",
    "    #\n",
    "    rhoxb = numpy.zeros_like(velocity) #density at cell boundary\n",
    "    #\n",
    "    #interpolate densities to cell boundaries\n",
    "    #anode\n",
    "    rhoxb[0] = rhox[0]\n",
    "    rhoxb[1] = rhox[1] \n",
    "    # inner points\n",
    "    rhoxb[2:-1] = 0.5*(rhox[2:]+rhox[1:-1])\n",
    "    #exit\n",
    "    rhoxb[-1] = 2*rhoxb[-2] - rhoxb[-3]\n",
    "    #\n",
    "    fv[1:-1] = (muxb[1:-1]/rhoxb[1:-1])*(1/(delx**2))*\\\n",
    "                (ux[2:] - 2*ux[1:-1] + ux[:-2])\n",
    "    #\n",
    "    return fv"
   ]
  },
  {
   "cell_type": "code",
   "execution_count": 40,
   "metadata": {
    "collapsed": false
   },
   "outputs": [],
   "source": [
    "fvt= viscous_flux(u_init.copy(), dx, mun.copy(), rhon.copy())"
   ]
  },
  {
   "cell_type": "code",
   "execution_count": 41,
   "metadata": {
    "collapsed": false
   },
   "outputs": [
    {
     "data": {
      "text/plain": [
       "array([  0.00000000e+00,  -4.58785526e-17,   4.58785526e-17,\n",
       "         0.00000000e+00,   0.00000000e+00])"
      ]
     },
     "execution_count": 41,
     "metadata": {},
     "output_type": "execute_result"
    }
   ],
   "source": [
    "fvt[:5]"
   ]
  },
  {
   "cell_type": "code",
   "execution_count": 42,
   "metadata": {
    "collapsed": true
   },
   "outputs": [],
   "source": [
    "def pressure_flux(velocity, pressure, delx):\n",
    "    ''' calculates pressure fluxes for momentum equation\n",
    "    '''\n",
    "    px = pressure.copy()\n",
    "    #\n",
    "    fp = numpy.zeros_like(velocity)\n",
    "    #\n",
    "    fp[1:-1] = -(1./delx)*(px[1:]-px[:-1])\n",
    "    #\n",
    "    return fp"
   ]
  },
  {
   "cell_type": "code",
   "execution_count": 43,
   "metadata": {
    "collapsed": false
   },
   "outputs": [],
   "source": [
    "fpt = pressure_flux(u_init.copy(), p0.copy(), dx)"
   ]
  },
  {
   "cell_type": "code",
   "execution_count": 44,
   "metadata": {
    "collapsed": false
   },
   "outputs": [
    {
     "data": {
      "text/plain": [
       "array([ 0., -0., -0., -0., -0.])"
      ]
     },
     "execution_count": 44,
     "metadata": {},
     "output_type": "execute_result"
    }
   ],
   "source": [
    "fpt[:5]"
   ]
  },
  {
   "cell_type": "code",
   "execution_count": 45,
   "metadata": {
    "collapsed": false
   },
   "outputs": [],
   "source": [
    "def get_source_pressure(velocity,pressure, delx):\n",
    "    '''\n",
    "    '''\n",
    "    ux = velocity.copy()\n",
    "    fps = numpy.zeros_like(pressure)\n",
    "    #\n",
    "    fps[:] = (1./delx)*(ux[1:]-ux[:-1])\n",
    "    #\n",
    "    return fps"
   ]
  },
  {
   "cell_type": "code",
   "execution_count": 46,
   "metadata": {
    "collapsed": true
   },
   "outputs": [],
   "source": [
    "fs = get_source_pressure(u_init.copy(), p0.copy(), dx)"
   ]
  },
  {
   "cell_type": "code",
   "execution_count": 47,
   "metadata": {
    "collapsed": false
   },
   "outputs": [
    {
     "data": {
      "text/plain": [
       "array([  0.00000000e+00,  -4.64449545e-18,   0.00000000e+00,\n",
       "         0.00000000e+00,   0.00000000e+00])"
      ]
     },
     "execution_count": 47,
     "metadata": {},
     "output_type": "execute_result"
    }
   ],
   "source": [
    "fs[:5]"
   ]
  },
  {
   "cell_type": "code",
   "execution_count": 48,
   "metadata": {
    "collapsed": true
   },
   "outputs": [],
   "source": [
    "def pressure_bc(pressure):\n",
    "    '''\n",
    "    '''\n",
    "    px = pressure.copy()\n",
    "    # enforce zero pressure gradient\n",
    "    px[-1] = px[-2] \n",
    "    px[0] = px[1]\n",
    "    #\n",
    "    return px"
   ]
  },
  {
   "cell_type": "code",
   "execution_count": 49,
   "metadata": {
    "collapsed": true
   },
   "outputs": [],
   "source": [
    "def velocity_bc(velocity, ablation_velocity):\n",
    "    '''\n",
    "    '''\n",
    "    ubc = velocity.copy()\n",
    "    #\n",
    "    ux = velocity.copy()\n",
    "    u_abl = ablation_velocity\n",
    "    #\n",
    "    ubc[0] = u_abl\n",
    "    ubc[1] = u_abl\n",
    "    ubc[-1] = 2*ux[-2] - ux[-3] #ux[-3]\n",
    "    #\n",
    "    return ubc"
   ]
  },
  {
   "cell_type": "code",
   "execution_count": 50,
   "metadata": {
    "collapsed": false
   },
   "outputs": [],
   "source": [
    "def get_pressure(p, delx, delt, l2_target, factor, source_pressure):\n",
    "    '''\n",
    "    '''\n",
    "    fsp = source_pressure.copy()\n",
    "    #\n",
    "    itermax = 20000000\n",
    "    itermax2 = itermax-20\n",
    "    #    \n",
    "    l2_norm = 1.1 + l2_target #want to make sure this is high enough!\n",
    "    iterations = 0\n",
    "    l2_err = []\n",
    "    #\n",
    "    while l2_norm > l2_target:\n",
    "        #\n",
    "        pk = pressure_bc(p.copy())\n",
    "        #\n",
    "        p[1:-1] = 0.5*(pk[2:]+pk[:-2]) -\\\n",
    "                        (0.5*(delx**2)*(1/(delt*factor))*fsp[1:-1])\n",
    "        p[0] = p[1]\n",
    "        p[-1] = p[-2]\n",
    "        #\n",
    "        l2_norm = L2_error(p[1:-1],pk[1:-1])\n",
    "        iterations += 1\n",
    "        l2_err.append(l2_norm)\n",
    "        #\n",
    "        if (iterations > itermax2):\n",
    "            print(l2_norm)\n",
    "        if (iterations>itermax):\n",
    "            print('max iterations reached')\n",
    "            break\n",
    "    #\n",
    "    return p,iterations,l2_err"
   ]
  },
  {
   "cell_type": "code",
   "execution_count": 51,
   "metadata": {
    "collapsed": false
   },
   "outputs": [],
   "source": [
    "def get_momentum(velocity, shear_viscosity, density,\\\n",
    "                 pressure,delx, delt):\n",
    "    ''' Use Fractional Step Method to find velocity field and \n",
    "    pressure of heavy particles\n",
    "    \n",
    "    x1: cell edge, used for velocity\n",
    "    x2: cell-center, used for everything else\n",
    "    \n",
    "    '''\n",
    "    #\n",
    "    G1 = numpy.zeros_like(velocity)\n",
    "    G2 = numpy.zeros_like(velocity)\n",
    "    G3 = numpy.zeros_like(velocity)\n",
    "    us1 = numpy.zeros_like(velocity)\n",
    "    us2 = numpy.zeros_like(velocity)\n",
    "    us3 = numpy.zeros_like(velocity)\n",
    "    #\n",
    "    un = velocity.copy()\n",
    "    un_ref = velocity.copy()\n",
    "    mu = shear_viscosity.copy()\n",
    "    rhon = density.copy()\n",
    "    u_ABL = un[1]\n",
    "    #\n",
    "    p = pressure.copy()\n",
    "    p0 = pressure.copy()\n",
    "    #\n",
    "    #Fractional Step Method, RK3 time advancement:\n",
    "    #-------------------------------------------------------------------------\n",
    "    #-------------------------------------------------------------------------\n",
    "    #stage1\n",
    "    #un = velocity_bc(un_ref.copy(), u_ABL)\n",
    "    #\n",
    "    Fc1 = convective_flux(un.copy(), delx) #Convective Flux\n",
    "    Fv1 = viscous_flux(un.copy(), delx, mu.copy(), rhon.copy()) #Viscous FLux\n",
    "    G1[:] = Fc1[:] + Fv1[:]\n",
    "    #\n",
    "    us1[:] = un[:] + (delt/3.)*(G1[:]) #helmholtz velocity\n",
    "    us1 = velocity_bc(us1.copy(), u_ABL)\n",
    "    #\n",
    "    fs1 = get_source_pressure(un_ref.copy(), p.copy(), delx) #source term for pressure\n",
    "    #\n",
    "    ps1, it1, e1 = get_pressure(p0.copy(), delx, delt, l2_target, 1./3., fs1.copy()) #pressure\n",
    "    ps1 = pressure_bc(ps1.copy())\n",
    "    #\n",
    "    Fp1 = pressure_flux(us1.copy(), ps1.copy(), delx) #pressure flux\n",
    "    #\n",
    "    un[:] = us1[:] + (delt/3.)*(Fp1[:]) #rk1 velocity\n",
    "    #-------------------------------------------------------------------------\n",
    "    #-------------------------------------------------------------------------\n",
    "    #stage2\n",
    "    un = velocity_bc(un.copy(), u_ABL)\n",
    "    #print(un)\n",
    "    #\n",
    "    Fc2 = convective_flux(un.copy(), delx) #Convective Flux\n",
    "    Fv2 = viscous_flux(un.copy(), delx, mu.copy(), rhon.copy()) #Viscous FLux\n",
    "    G2[:] = - (5./9.)*(G1[:]) + (Fc2[:] + Fv2[:])\n",
    "    #\n",
    "    us2[:] = un[:] + (15.*delt/16.)*(G2[:]) #helmholtz velocity\n",
    "    us2 = velocity_bc(us2.copy(), u_ABL)\n",
    "    #\n",
    "    fs2 = get_source_pressure(us2.copy(),ps1.copy(), delx) #source term for pressure\n",
    "    #\n",
    "    ps2, it2, e2 = get_pressure(p0.copy(), delx, delt, l2_target, 5./12., fs2.copy()) #pressure\n",
    "    ps2 = pressure_bc(ps2.copy())\n",
    "    #\n",
    "    Fp2 = pressure_flux(us2.copy(), ps2.copy(), delx) #pressure flux\n",
    "    #\n",
    "    un[:] = us2[:] + (5.*delt/12.)*(Fp2[:]) #rk2 velocity\n",
    "    #-------------------------------------------------------------------------\n",
    "    #-------------------------------------------------------------------------\n",
    "    #stage 3\n",
    "    un = velocity_bc(un.copy(), u_ABL)\n",
    "    #\n",
    "    Fc3 = convective_flux(un.copy(), delx) #Convective Flux\n",
    "    Fv3 = viscous_flux(un.copy(), delx, mu.copy(), rhon.copy()) #Viscous FLux\n",
    "    G3[:] = - (153./128.)*(G2[:]) + (Fc3[:] + Fv3[:])\n",
    "    #\n",
    "    us3[:] = un[:] + (8.*delt/15.)*(G3[:]) #helmholtz velocity\n",
    "    us3 = velocity_bc(us3.copy(), u_ABL)\n",
    "    #\n",
    "    fs3 = get_source_pressure(us3.copy(),ps2.copy(),delx) #source term for pressure\n",
    "    #\n",
    "    ps3, it3, e3 = get_pressure(p0.copy(), delx, delt, l2_target, 1./4.,fs3.copy()) #pressure\n",
    "    ps3 = pressure_bc(ps3)\n",
    "    #\n",
    "    Fp3 =  pressure_flux(us3.copy(), ps3.copy(), delx) #pressure flux\n",
    "    #\n",
    "    un[:] = us3[:] + (1.*delt/4.)*(Fp3[:]) #rk1 velocity\n",
    "    un = velocity_bc(un.copy(), u_ABL)\n",
    "    #\n",
    "    #un[:] = numpy.abs(un[:])\n",
    "    #\n",
    "    return un, ps3"
   ]
  },
  {
   "cell_type": "code",
   "execution_count": 52,
   "metadata": {
    "collapsed": false
   },
   "outputs": [],
   "source": [
    "uxn, pxn = get_momentum(u_init.copy(),mun.copy(),rhon.copy(),p0.copy(),dx,dt)"
   ]
  },
  {
   "cell_type": "code",
   "execution_count": 53,
   "metadata": {
    "collapsed": false
   },
   "outputs": [
    {
     "data": {
      "text/plain": [
       "array([  1.54816515e-22,   1.54816515e-22,   8.96063349e-21,\n",
       "        -7.53567508e-21,   2.26629832e-21,   0.00000000e+00,\n",
       "         0.00000000e+00,   0.00000000e+00,   0.00000000e+00,\n",
       "         0.00000000e+00])"
      ]
     },
     "execution_count": 53,
     "metadata": {},
     "output_type": "execute_result"
    }
   ],
   "source": [
    "uxn[:10] # velocity profile"
   ]
  },
  {
   "cell_type": "code",
   "execution_count": 54,
   "metadata": {
    "collapsed": false
   },
   "outputs": [
    {
     "data": {
      "text/plain": [
       "array([ 102195.72168305,  102195.72168305,  102195.72168305,\n",
       "        102195.72168305,  102195.72168305,  102195.72168305,\n",
       "        102195.72168305,  102195.72168305,  102195.72168305,\n",
       "        102195.72168305])"
      ]
     },
     "execution_count": 54,
     "metadata": {},
     "output_type": "execute_result"
    }
   ],
   "source": [
    "pxn[:10] #pressure"
   ]
  },
  {
   "cell_type": "markdown",
   "metadata": {},
   "source": [
    "## Now that we have the velocity field and pressure field of heavy particles, we can find the amount of individual ablated species in the gap"
   ]
  },
  {
   "cell_type": "markdown",
   "metadata": {},
   "source": [
    "##### mass conservation"
   ]
  },
  {
   "cell_type": "code",
   "execution_count": 55,
   "metadata": {
    "collapsed": false
   },
   "outputs": [],
   "source": [
    "def mass_conservation(density, velocity, delx, delt):\n",
    "    ''' solves mass conservation to obtain total density in the field\n",
    "    \n",
    "    \n",
    "    '''\n",
    "    # densities\n",
    "    rhox = density.copy()\n",
    "    rho_new = numpy.zeros_like(density)\n",
    "    # density interpolated on boundaries\n",
    "    rho_bc = numpy.zeros_like(velocity)\n",
    "    rho_bc[1:-1] = 0.5*(rhox[1:]+rhox[:-1])\n",
    "    rho_bc[0] = rho_bc[1]\n",
    "    rho_bc[-1] = 2*rho_bc[-2] - rho_bc[-3]\n",
    "    #velocity\n",
    "    ux = velocity.copy() #velocity at boundary nodes\n",
    "    #\n",
    "    # calculate new density\n",
    "    # at anode, the density is already established\n",
    "    rho_new[0] = rhox[1] #rhox[0]\n",
    "    #rho_new[1] = rhox[1]\n",
    "    # inner points\n",
    "#     rho_new[2:-1] = rhox[2:-1] -\\\n",
    "#                     (delt/(delx))*(rho_bc[3:-1]*ux[3:-1] - rho_bc[2:-2]*ux[2:-2])\n",
    "    rho_new[1:-1] = rhox[1:-1] -\\\n",
    "                    (delt/(delx))*(rho_bc[2:-1]*ux[2:-1] - rho_bc[:-3]*ux[:-3])\n",
    "    # exit\n",
    "    rho_new[-1] = 2*rho_new[-2] - rho_new[-3]\n",
    "    \n",
    "    #\n",
    "    return rho_new"
   ]
  },
  {
   "cell_type": "code",
   "execution_count": 56,
   "metadata": {
    "collapsed": false
   },
   "outputs": [],
   "source": [
    "rhon = mass_conservation(rhon.copy(), uxn.copy(), dx, dt)"
   ]
  },
  {
   "cell_type": "code",
   "execution_count": 57,
   "metadata": {
    "collapsed": false
   },
   "outputs": [
    {
     "data": {
      "text/plain": [
       "array([ 0.164,  0.164,  0.164,  0.164,  0.164,  0.164,  0.164,  0.164,\n",
       "        0.164,  0.164,  0.164,  0.164,  0.164,  0.164,  0.164,  0.164,\n",
       "        0.164,  0.164,  0.164,  0.164,  0.164,  0.164,  0.164,  0.164,\n",
       "        0.164,  0.164,  0.164,  0.164,  0.164,  0.164,  0.164,  0.164,\n",
       "        0.164,  0.164,  0.164,  0.164,  0.164,  0.164,  0.164,  0.164,\n",
       "        0.164,  0.164,  0.164,  0.164,  0.164,  0.164,  0.164,  0.164,\n",
       "        0.164,  0.164,  0.164,  0.164,  0.164,  0.164,  0.164,  0.164,\n",
       "        0.164,  0.164,  0.164,  0.164,  0.164,  0.164,  0.164,  0.164,\n",
       "        0.164,  0.164,  0.164,  0.164,  0.164,  0.164,  0.164,  0.164,\n",
       "        0.164,  0.164,  0.164,  0.164,  0.164,  0.164,  0.164,  0.164,\n",
       "        0.164,  0.164,  0.164,  0.164,  0.164,  0.164,  0.164,  0.164,\n",
       "        0.164,  0.164,  0.164,  0.164,  0.164,  0.164,  0.164,  0.164,\n",
       "        0.164,  0.164,  0.164,  0.164,  0.164,  0.164,  0.164,  0.164,\n",
       "        0.164,  0.164,  0.164,  0.164,  0.164,  0.164,  0.164,  0.164,\n",
       "        0.164,  0.164,  0.164,  0.164,  0.164,  0.164,  0.164,  0.164,\n",
       "        0.164,  0.164])"
      ]
     },
     "execution_count": 57,
     "metadata": {},
     "output_type": "execute_result"
    }
   ],
   "source": [
    "rhon"
   ]
  },
  {
   "cell_type": "markdown",
   "metadata": {},
   "source": [
    "##### Mass Diffusion"
   ]
  },
  {
   "cell_type": "code",
   "execution_count": 58,
   "metadata": {
    "collapsed": true
   },
   "outputs": [],
   "source": [
    "def get_initial_concentrations(density, ablated_density):\n",
    "    ''' defines initial concentrations\n",
    "    '''\n",
    "    rhov = ablated_density\n",
    "    rhox = density.copy()\n",
    "    #\n",
    "    c_C = numpy.zeros_like(density)\n",
    "    #\n",
    "    c_C[:] = ablated_density/(rhox[:])\n",
    "    #\n",
    "    c_He = numpy.zeros_like(density)\n",
    "    c_He[0] = 1. - c_C[0]\n",
    "    c_He[1] = 1. - c_C[1]\n",
    "    c_He[2] = 1. - c_C[2]\n",
    "    c_He[3:] = 1. - c_C[3:]\n",
    "    #\n",
    "    return c_C, c_He"
   ]
  },
  {
   "cell_type": "code",
   "execution_count": 59,
   "metadata": {
    "collapsed": false
   },
   "outputs": [],
   "source": [
    "c_C, c_He = get_initial_concentrations(rho0, rhov)"
   ]
  },
  {
   "cell_type": "code",
   "execution_count": 60,
   "metadata": {
    "collapsed": true
   },
   "outputs": [],
   "source": [
    "def mass_diffusion(pressure, temperature, density, velocity, concentration1, \\\n",
    "                   concentration2, delt, delx, molar_mass1, molar_mass2, vapor_density):\n",
    "    ''' Defines the diffusion of anode material into gas in the gap\n",
    "    '''\n",
    "    #temperature and pressure\n",
    "    p = pressure.copy()\n",
    "    T = temperature.copy()\n",
    "    # current density\n",
    "    rhox = density.copy()\n",
    "    # densities of individual species\n",
    "    rho_s1 = numpy.zeros_like(density)\n",
    "    rho_s2 = numpy.zeros_like(density)\n",
    "    # velocity in domain\n",
    "    ux = velocity.copy()\n",
    "    uxc = numpy.zeros_like(density)\n",
    "    uxc[:] = 0.5*(ux[1:]+ux[:-1])\n",
    "    # concentrations\n",
    "    c1 = concentration1.copy()\n",
    "    c2 = concentration2.copy()\n",
    "    # new concentrations\n",
    "    c1_out = numpy.zeros_like(concentration1)\n",
    "    c2_out = numpy.zeros_like(concentration2)\n",
    "    #\n",
    "    Dflux_s1 = numpy.zeros_like(density) #diffusion flux: D {d/dx rho*c}\n",
    "    Dflux_s2 = numpy.zeros_like(density)\n",
    "    #\n",
    "    # Rigid sphere collision diameter\n",
    "    RSCD = 1.7 + 1.4 # Angstrom units, rigid sphere collision diameter\n",
    "    # molar mass of base material and background gas\n",
    "    m1 = molar_mass1\n",
    "    m2 = molar_mass2\n",
    "    #--------------------------------\n",
    "    # diffusion coefficient\n",
    "    D1 = numpy.zeros_like(density) #binary diffusion coefficient\n",
    "    D1[:] = (((2.63e-7)/(( p[:]/101325.0)*(RSCD)**2))*\\\n",
    "                numpy.sqrt(((T[:])**3)*(m1+m2)/(2*m1*m2)))*1e-4\n",
    "    #diffusion flux, species 1\n",
    "    Dflux_s1[1:-1] = (D1[1:-1]/(2*delx))*(rhox[2:]*c1[2:] - rhox[:-2]*c1[:-2])\n",
    "    Dflux_s1[0] = Dflux_s1[1]\n",
    "    Dflux_s1[-1] = Dflux_s1[-2]\n",
    "    # diffusion flux, gas\n",
    "    Dflux_s2[1:-1] = (D1[1:-1]/(2*delx))*(rhox[2:]*c2[2:] - rhox[:-2]*c2[:-2])\n",
    "    Dflux_s2[0] = Dflux_s2[1]\n",
    "    Dflux_s2[-1] = Dflux_s2[-2]\n",
    "    #----------------------------\n",
    "    #species 1 density\n",
    "    #anode conditions:\n",
    "    rho_s1[0] = vapor_density  \n",
    "    rho_s1[1] = vapor_density \n",
    "    # inner points\n",
    "    rho_s1[1:-1] = rhox[1:-1]*c1[1:-1] -\\\n",
    "                    (delt/(2*delx))*(rhox[2:]*uxc[2:]*c1[2:] -\\\n",
    "                                     rhox[:-2]*uxc[:-2]*c1[:-2]) +\\\n",
    "                    (delt/(2*delx))*(Dflux_s1[2:] - Dflux_s1[:-2])\n",
    "    # exit\n",
    "    rho_s1[-1] = 2*rho_s1[-2] - rho_s1[-3] \n",
    "    #\n",
    "\n",
    "    #species 2 density\n",
    "    #anode conditions\n",
    "    rho_s2[0] = rhox[0] - rho_s1[0]\n",
    "    rho_s2[1] = rhox[1] - rho_s1[1]\n",
    "    #\n",
    "    # inner points\n",
    "    rho_s2[1:-1] = rhox[1:-1]*c2[1:-1] -\\\n",
    "                    (delt/(2*delx))*(rhox[2:]*uxc[2:]*c2[2:] -\\\n",
    "                                     rhox[:-2]*uxc[:-2]*c2[:-2]) +\\\n",
    "                    (delt/(2*delx))*(Dflux_s2[2:] - Dflux_s2[:-2])\n",
    "    # exit\n",
    "    rho_s2[-1] = 2*rho_s2[-2] - rho_s2[-3] \n",
    "    #-----------------------------\n",
    "    #concentration of species\n",
    "    #need to specify a condition for when the ablated density is larger than\n",
    "    #the previous density because this means that the concentration will be greater than\n",
    "    # 1.0\n",
    "    \n",
    "    domain_range = density.size\n",
    "    factor = numpy.zeros_like(density)\n",
    "    #factor2 = numpy.zeros_like(density)\n",
    "    \n",
    "    for i in range(domain_range):\n",
    "        factor[i] = 1. - numpy.abs(rho_s1[i]/(rho_s1[i]+rho_s2[i]))\n",
    "        #factor2[i] = rho_s2[i]/(rho_s1[i]+rho_s2[i])\n",
    "        if (factor[i]<0.0):\n",
    "            c1_out[i] = 1.0\n",
    "            c2_out[i] = 0.0\n",
    "        else:\n",
    "            c1_out[i] = rho_s1[i]/(rho_s1[i]+rho_s2[i])\n",
    "            c2_out[i] = rho_s2[i]/(rho_s1[i]+rho_s2[i])\n",
    "    # \n",
    "    #\n",
    "    return rho_s1, rho_s2, c1_out, c2_out\n",
    "\n",
    "#D1, rho_diffusion, "
   ]
  },
  {
   "cell_type": "code",
   "execution_count": 61,
   "metadata": {
    "collapsed": false
   },
   "outputs": [],
   "source": [
    "rhoC, rhoHe, cC, cHe = mass_diffusion(pxn.copy(), Tn.copy(), rho0.copy(),\\\n",
    "                                                  uxn.copy(),c_C.copy(),\\\n",
    "                                                  c_He.copy(), dt, dx, mC, mHe, rhov)\n"
   ]
  },
  {
   "cell_type": "code",
   "execution_count": 62,
   "metadata": {
    "collapsed": false
   },
   "outputs": [
    {
     "data": {
      "text/plain": [
       "array([  2.07733606e-21,   2.07733606e-21,   2.07733606e-21,\n",
       "         2.07733606e-21,   2.07733606e-21,   2.07733606e-21,\n",
       "         2.07733606e-21,   2.07733606e-21,   2.07733606e-21,\n",
       "         2.07733606e-21,   2.07733606e-21,   2.07733606e-21,\n",
       "         2.07733606e-21,   2.07733606e-21,   2.07733606e-21,\n",
       "         2.07733606e-21,   2.07733606e-21,   2.07733606e-21,\n",
       "         2.07733606e-21,   2.07733606e-21,   2.07733606e-21,\n",
       "         2.07733606e-21,   2.07733606e-21,   2.07733606e-21,\n",
       "         2.07733606e-21,   2.07733606e-21,   2.07733606e-21,\n",
       "         2.07733606e-21,   2.07733606e-21,   2.07733606e-21,\n",
       "         2.07733606e-21,   2.07733606e-21,   2.07733606e-21,\n",
       "         2.07733606e-21,   2.07733606e-21,   2.07733606e-21,\n",
       "         2.07733606e-21,   2.07733606e-21,   2.07733606e-21,\n",
       "         2.07733606e-21,   2.07733606e-21,   2.07733606e-21,\n",
       "         2.07733606e-21,   2.07733606e-21,   2.07733606e-21,\n",
       "         2.07733606e-21,   2.07733606e-21,   2.07733606e-21,\n",
       "         2.07733606e-21,   2.07733606e-21,   2.07733606e-21,\n",
       "         2.07733606e-21,   2.07733606e-21,   2.07733606e-21,\n",
       "         2.07733606e-21,   2.07733606e-21,   2.07733606e-21,\n",
       "         2.07733606e-21,   2.07733606e-21,   2.07733606e-21,\n",
       "         2.07733606e-21,   2.07733606e-21,   2.07733606e-21,\n",
       "         2.07733606e-21,   2.07733606e-21,   2.07733606e-21,\n",
       "         2.07733606e-21,   2.07733606e-21,   2.07733606e-21,\n",
       "         2.07733606e-21,   2.07733606e-21,   2.07733606e-21,\n",
       "         2.07733606e-21,   2.07733606e-21,   2.07733606e-21,\n",
       "         2.07733606e-21,   2.07733606e-21,   2.07733606e-21,\n",
       "         2.07733606e-21,   2.07733606e-21,   2.07733606e-21,\n",
       "         2.07733606e-21,   2.07733606e-21,   2.07733606e-21,\n",
       "         2.07733606e-21,   2.07733606e-21,   2.07733606e-21,\n",
       "         2.07733606e-21,   2.07733606e-21,   2.07733606e-21,\n",
       "         2.07733606e-21,   2.07733606e-21,   2.07733606e-21,\n",
       "         2.07733606e-21,   2.07733606e-21,   2.07733606e-21,\n",
       "         2.07733606e-21,   2.07733606e-21,   2.07733606e-21,\n",
       "         2.07733606e-21,   2.07733606e-21,   2.07733606e-21,\n",
       "         2.07733606e-21,   2.07733606e-21,   2.07733606e-21,\n",
       "         2.07733606e-21,   2.07733606e-21,   2.07733606e-21,\n",
       "         2.07733606e-21,   2.07733606e-21,   2.07733606e-21,\n",
       "         2.07733606e-21,   2.07733606e-21,   2.07733606e-21,\n",
       "         2.07733606e-21,   2.07733606e-21,   2.07733606e-21,\n",
       "         2.07733606e-21,   2.07733606e-21,   2.07733606e-21,\n",
       "         2.07733606e-21,   2.07733606e-21])"
      ]
     },
     "execution_count": 62,
     "metadata": {},
     "output_type": "execute_result"
    }
   ],
   "source": [
    "rhoC"
   ]
  },
  {
   "cell_type": "code",
   "execution_count": 63,
   "metadata": {
    "collapsed": false
   },
   "outputs": [
    {
     "data": {
      "text/plain": [
       "array([ 0.164,  0.164,  0.164,  0.164,  0.164,  0.164,  0.164,  0.164,\n",
       "        0.164,  0.164,  0.164,  0.164,  0.164,  0.164,  0.164,  0.164,\n",
       "        0.164,  0.164,  0.164,  0.164,  0.164,  0.164,  0.164,  0.164,\n",
       "        0.164,  0.164,  0.164,  0.164,  0.164,  0.164,  0.164,  0.164,\n",
       "        0.164,  0.164,  0.164,  0.164,  0.164,  0.164,  0.164,  0.164,\n",
       "        0.164,  0.164,  0.164,  0.164,  0.164,  0.164,  0.164,  0.164,\n",
       "        0.164,  0.164,  0.164,  0.164,  0.164,  0.164,  0.164,  0.164,\n",
       "        0.164,  0.164,  0.164,  0.164,  0.164,  0.164,  0.164,  0.164,\n",
       "        0.164,  0.164,  0.164,  0.164,  0.164,  0.164,  0.164,  0.164,\n",
       "        0.164,  0.164,  0.164,  0.164,  0.164,  0.164,  0.164,  0.164,\n",
       "        0.164,  0.164,  0.164,  0.164,  0.164,  0.164,  0.164,  0.164,\n",
       "        0.164,  0.164,  0.164,  0.164,  0.164,  0.164,  0.164,  0.164,\n",
       "        0.164,  0.164,  0.164,  0.164,  0.164,  0.164,  0.164,  0.164,\n",
       "        0.164,  0.164,  0.164,  0.164,  0.164,  0.164,  0.164,  0.164,\n",
       "        0.164,  0.164,  0.164,  0.164,  0.164,  0.164,  0.164,  0.164,\n",
       "        0.164,  0.164])"
      ]
     },
     "execution_count": 63,
     "metadata": {},
     "output_type": "execute_result"
    }
   ],
   "source": [
    "rhoHe"
   ]
  },
  {
   "cell_type": "code",
   "execution_count": 64,
   "metadata": {
    "collapsed": false
   },
   "outputs": [
    {
     "data": {
      "text/plain": [
       "array([  1.26666833e-20,   1.26666833e-20,   1.26666833e-20,\n",
       "         1.26666833e-20,   1.26666833e-20,   1.26666833e-20,\n",
       "         1.26666833e-20,   1.26666833e-20,   1.26666833e-20,\n",
       "         1.26666833e-20])"
      ]
     },
     "execution_count": 64,
     "metadata": {},
     "output_type": "execute_result"
    }
   ],
   "source": [
    "cC[:10] #concentration of carbon in domain"
   ]
  },
  {
   "cell_type": "code",
   "execution_count": 65,
   "metadata": {
    "collapsed": false
   },
   "outputs": [
    {
     "data": {
      "text/plain": [
       "array([ 1.,  1.,  1.,  1.,  1.,  1.,  1.,  1.,  1.,  1.])"
      ]
     },
     "execution_count": 65,
     "metadata": {},
     "output_type": "execute_result"
    }
   ],
   "source": [
    "cHe[:10] #concentration of helium in domain"
   ]
  },
  {
   "cell_type": "code",
   "execution_count": 66,
   "metadata": {
    "collapsed": false
   },
   "outputs": [
    {
     "data": {
      "text/plain": [
       "array([ 1.,  1.,  1.,  1.,  1.,  1.,  1.,  1.,  1.,  1.])"
      ]
     },
     "execution_count": 66,
     "metadata": {},
     "output_type": "execute_result"
    }
   ],
   "source": [
    "cHe[:10]+cC[:10] #check conservation"
   ]
  },
  {
   "cell_type": "markdown",
   "metadata": {},
   "source": [
    "##### Update Gas Constant"
   ]
  },
  {
   "cell_type": "code",
   "execution_count": 67,
   "metadata": {
    "collapsed": true
   },
   "outputs": [],
   "source": [
    "def get_gas_constant(concentration1, concentration2, gas_R1, gas_R2):\n",
    "    ''' Defines gas constant based on concentration of species\n",
    "    '''\n",
    "    c1 = concentration1.copy()\n",
    "    c2 = concentration2.copy()\n",
    "    #\n",
    "    R1 = gas_R1\n",
    "    R2 = gas_R2\n",
    "    #\n",
    "    Rt = numpy.zeros_like(concentration1)\n",
    "    #\n",
    "    Rt[:] = c1[:]*R1 + c2[:]*R2\n",
    "    #\n",
    "    return Rt"
   ]
  },
  {
   "cell_type": "code",
   "execution_count": 68,
   "metadata": {
    "collapsed": false
   },
   "outputs": [],
   "source": [
    "R_gas = get_gas_constant(cC,cHe, R_C, R_He)\n",
    "#R_gas"
   ]
  },
  {
   "cell_type": "markdown",
   "metadata": {},
   "source": [
    "##### Ionization Rate - Saha Equation"
   ]
  },
  {
   "cell_type": "code",
   "execution_count": 69,
   "metadata": {
    "collapsed": false
   },
   "outputs": [],
   "source": [
    "def saha_algorithm(temperature,density,concentration_s1, concentration_gas,\\\n",
    "                   ionization_energy_s1, ionization_energy_gas,\\\n",
    "                  mass_species1, mass_gas, electron_number_density):\n",
    "    ''' solves for the ionization fractions, number densities of ions, neutrals, \n",
    "    and electrons\n",
    "    '''\n",
    "    #\n",
    "    T_el = temperature.copy()\n",
    "    ne_old = electron_number_density.copy()\n",
    "    #\n",
    "    rhox = density.copy()\n",
    "    #\n",
    "    concentration1 =concentration_s1.copy()\n",
    "    concentration2 = concentration_gas.copy()\n",
    "    #\n",
    "    #\n",
    "    E1 = ionization_energy_s1\n",
    "    Egas = ionization_energy_gas\n",
    "    #\n",
    "    M1 = mass_species1\n",
    "    Mg = mass_gas\n",
    "    #\n",
    "    nc1 = numpy.zeros_like(density)\n",
    "    nc1[:] = rhox[:]*concentration1[:]/M1\n",
    "    #\n",
    "    ngas = numpy.zeros_like(density)\n",
    "    ngas[:] = rhox[:]*concentration2[:]/Mg\n",
    "    #\n",
    "    SAHA_s1 = numpy.zeros_like(density)\n",
    "    d1c1 = numpy.zeros_like(density)\n",
    "    d1c1_old = numpy.zeros_like(density)\n",
    "    as1 = numpy.zeros_like(density)\n",
    "    bs1 = numpy.zeros_like(density)\n",
    "    cs1 = numpy.zeros_like(density)\n",
    "    d0c1 = numpy.zeros_like(density)\n",
    "    de_c1 = numpy.zeros_like(density)\n",
    "    s1_ions = numpy.zeros_like(density)\n",
    "    err1 = numpy.zeros_like(density)\n",
    "    #\n",
    "    SAHA_gas = numpy.zeros_like(density)\n",
    "    d1g = numpy.zeros_like(density)\n",
    "    d1g_old = numpy.zeros_like(density)\n",
    "    ag = numpy.zeros_like(density)\n",
    "    bg = numpy.zeros_like(density)\n",
    "    cg = numpy.zeros_like(density)\n",
    "    d0g = numpy.zeros_like(density)\n",
    "    de_g = numpy.zeros_like(density)\n",
    "    gas_ions = numpy.zeros_like(density)\n",
    "    errg = numpy.zeros_like(density)\n",
    "    ##\n",
    "    s1_neutrals = numpy.zeros_like(density)\n",
    "    gas_neutrals = numpy.zeros_like(density)\n",
    "    electrons = numpy.zeros_like(density)\n",
    "    P_electrons = numpy.zeros_like(density)\n",
    "    #\n",
    "    ions_total = numpy.zeros_like(density)\n",
    "    neutrals_total = numpy.zeros_like(density)\n",
    "    #\n",
    "    d1c1[:] = 0.0\n",
    "    d1g[:] = 0.0\n",
    "    #\n",
    "    err1[:] = 10.\n",
    "    errg[:] = 10.\n",
    "    #\n",
    "    d0c1[:] = 1.0\n",
    "    d0g[:] = 1.0\n",
    "    #\n",
    "    iterations = 0\n",
    "    itermax = 20000\n",
    "    itermax2 = itermax-10\n",
    "    tolerance = 1e-7\n",
    "    #\n",
    "    domain_size = density.size\n",
    "    #\n",
    "    for i in range(domain_size):\n",
    "        #\n",
    "        while ((err1[i] > tolerance) and (errg[i]>tolerance)):\n",
    "            #\n",
    "            #species 1\n",
    "            d1c1_old[i] = d1c1[i]\n",
    "            SAHA_s1[i] =  ( ( (2*numpy.pi*Cme*Ckb*T_el[i]) / (Ch**2) )**(3/2) ) *\\\n",
    "                     math.exp( (-E1) / (constants.k*T_el[i]))\n",
    "            as1[i] = nc1[i]\n",
    "            bs1[i] = ngas[i]*d1g[i] + SAHA_s1[i]\n",
    "            cs1[i] = - SAHA_s1[i]\n",
    "            d1c1[i] = (-bs1[i] + numpy.sqrt(bs1[i]**2 - 4*as1[i]*cs1[i]))/(2*as1[i])\n",
    "            #\n",
    "            d0c1[i] = 1. - d1c1[i]\n",
    "            de_c1[i] = d1c1[i]\n",
    "            #\n",
    "            s1_ions[i] = d1c1[i]*rhox[i]*concentration1[i]/M1\n",
    "            #\n",
    "            #-----------------------------------------------------------------\n",
    "            #gas\n",
    "            d1g_old[i] = d1g[i]\n",
    "            SAHA_gas[i] = ( ( (2*numpy.pi*Cme*Ckb*T_el[i]) / (Ch**2) )**(3/2) ) *\\\n",
    "                     math.exp( (-Egas) / (constants.k*T_el[i]))\n",
    "            ag[i] = ngas[i]\n",
    "            bg[i] = nc1[i]*d1c1[i] + SAHA_gas[i]\n",
    "            cg[i] = - SAHA_gas[i]\n",
    "            d1g[i]  = (-bg[i] + numpy.sqrt(bg[i]**2 - 4*ag[i]*cg[i]))/(2*ag[i])\n",
    "            #\n",
    "            d0g[i] = 1. - d1g[i]\n",
    "            de_g[i] = d1g[i]\n",
    "            #\n",
    "            gas_ions[i] = d1g[i]*rhox[i]*concentration_gas[i]/Mg\n",
    "            #-------------------------------------------------------------------\n",
    "            # electrons\n",
    "            electrons[i] = s1_ions[i] + gas_ions[i] #number density, enforce LTE\n",
    "            P_electrons[i] = (electrons[i]-ne_old[i])*Ckb*T_el[i]   #electron pressure\n",
    "            #--------------------------------------------------------------------\n",
    "            #neutrals\n",
    "            s1_neutrals[i] = (s1_ions[i]*electrons[i])/SAHA_s1[i]\n",
    "            gas_neutrals[i] = (gas_ions[i]*electrons[i])/SAHA_gas[i]\n",
    "            #\n",
    "            #--------------------------------------------------------------------\n",
    "            #totals\n",
    "            ions_total[i] = gas_ions[i] + s1_ions[i] \n",
    "            neutrals_total[i] = s1_neutrals[i] + gas_neutrals[i]\n",
    "            #----------------------------------------------------------------------\n",
    "            #bound for minimum number of electrons:\n",
    "            if (electrons[i]<ne_old[i]):\n",
    "                electrons[i] = ne_old[i]\n",
    "            if (ions_total[i]<ne_old[i]):\n",
    "                ions_total[i] = electrons[i]\n",
    "            #\n",
    "            #errors\n",
    "            err1[i] = numpy.abs(d1c1[i] - d1c1_old[i])\n",
    "            errg[i] = numpy.abs(d1g[i] - d1g_old[i])\n",
    "            #\n",
    "            iterations += 1\n",
    "        \n",
    "            if (iterations>itermax):\n",
    "                print('max iterations reached')\n",
    "                break\n",
    "            #\n",
    "    return electrons, P_electrons,\\\n",
    "            ions_total, neutrals_total\n",
    "          "
   ]
  },
  {
   "cell_type": "code",
   "execution_count": 70,
   "metadata": {
    "collapsed": false
   },
   "outputs": [],
   "source": [
    "ne_field, pe,\\\n",
    "ni_field, no_field = saha_algorithm(Tn.copy(),rhon.copy(),c_C.copy(),\\\n",
    "                                         c_He.copy(),Ips1,Ipg1,M_C,M_He, ne0.copy())"
   ]
  },
  {
   "cell_type": "code",
   "execution_count": 71,
   "metadata": {
    "collapsed": false
   },
   "outputs": [
    {
     "data": {
      "text/plain": [
       "array([ 1000000.,  1000000.,  1000000.,  1000000.,  1000000.,  1000000.,\n",
       "        1000000.,  1000000.,  1000000.,  1000000.,  1000000.,  1000000.,\n",
       "        1000000.,  1000000.,  1000000.,  1000000.,  1000000.,  1000000.,\n",
       "        1000000.,  1000000.,  1000000.,  1000000.,  1000000.,  1000000.,\n",
       "        1000000.,  1000000.,  1000000.,  1000000.,  1000000.,  1000000.,\n",
       "        1000000.,  1000000.,  1000000.,  1000000.,  1000000.,  1000000.,\n",
       "        1000000.,  1000000.,  1000000.,  1000000.,  1000000.,  1000000.,\n",
       "        1000000.,  1000000.,  1000000.,  1000000.,  1000000.,  1000000.,\n",
       "        1000000.,  1000000.,  1000000.,  1000000.,  1000000.,  1000000.,\n",
       "        1000000.,  1000000.,  1000000.,  1000000.,  1000000.,  1000000.,\n",
       "        1000000.,  1000000.,  1000000.,  1000000.,  1000000.,  1000000.,\n",
       "        1000000.,  1000000.,  1000000.,  1000000.,  1000000.,  1000000.,\n",
       "        1000000.,  1000000.,  1000000.,  1000000.,  1000000.,  1000000.,\n",
       "        1000000.,  1000000.,  1000000.,  1000000.,  1000000.,  1000000.,\n",
       "        1000000.,  1000000.,  1000000.,  1000000.,  1000000.,  1000000.,\n",
       "        1000000.,  1000000.,  1000000.,  1000000.,  1000000.,  1000000.,\n",
       "        1000000.,  1000000.,  1000000.,  1000000.,  1000000.,  1000000.,\n",
       "        1000000.,  1000000.,  1000000.,  1000000.,  1000000.,  1000000.,\n",
       "        1000000.,  1000000.,  1000000.,  1000000.,  1000000.,  1000000.,\n",
       "        1000000.,  1000000.,  1000000.,  1000000.,  1000000.,  1000000.,\n",
       "        1000000.,  1000000.])"
      ]
     },
     "execution_count": 71,
     "metadata": {},
     "output_type": "execute_result"
    }
   ],
   "source": [
    "ne_field"
   ]
  },
  {
   "cell_type": "code",
   "execution_count": 72,
   "metadata": {
    "collapsed": false
   },
   "outputs": [
    {
     "data": {
      "text/plain": [
       "122"
      ]
     },
     "execution_count": 72,
     "metadata": {},
     "output_type": "execute_result"
    }
   ],
   "source": [
    "ne_field.size"
   ]
  },
  {
   "cell_type": "code",
   "execution_count": 73,
   "metadata": {
    "collapsed": false
   },
   "outputs": [
    {
     "data": {
      "text/plain": [
       "array([ -1.86838635e-14,  -1.86838635e-14,  -1.86838635e-14,\n",
       "        -1.86838635e-14,  -1.86838635e-14,  -1.86838635e-14,\n",
       "        -1.86838635e-14,  -1.86838635e-14,  -1.86838635e-14,\n",
       "        -1.86838635e-14,  -1.86838635e-14,  -1.86838635e-14,\n",
       "        -1.86838635e-14,  -1.86838635e-14,  -1.86838635e-14,\n",
       "        -1.86838635e-14,  -1.86838635e-14,  -1.86838635e-14,\n",
       "        -1.86838635e-14,  -1.86838635e-14,  -1.86838635e-14,\n",
       "        -1.86838635e-14,  -1.86838635e-14,  -1.86838635e-14,\n",
       "        -1.86838635e-14,  -1.86838635e-14,  -1.86838635e-14,\n",
       "        -1.86838635e-14,  -1.86838635e-14,  -1.86838635e-14,\n",
       "        -1.86838635e-14,  -1.86838635e-14,  -1.86838635e-14,\n",
       "        -1.86838635e-14,  -1.86838635e-14,  -1.86838635e-14,\n",
       "        -1.86838635e-14,  -1.86838635e-14,  -1.86838635e-14,\n",
       "        -1.86838635e-14,  -1.86838635e-14,  -1.86838635e-14,\n",
       "        -1.86838635e-14,  -1.86838635e-14,  -1.86838635e-14,\n",
       "        -1.86838635e-14,  -1.86838635e-14,  -1.86838635e-14,\n",
       "        -1.86838635e-14,  -1.86838635e-14,  -1.86838635e-14,\n",
       "        -1.86838635e-14,  -1.86838635e-14,  -1.86838635e-14,\n",
       "        -1.86838635e-14,  -1.86838635e-14,  -1.86838635e-14,\n",
       "        -1.86838635e-14,  -1.86838635e-14,  -1.86838635e-14,\n",
       "        -1.86838635e-14,  -1.86838635e-14,  -1.86838635e-14,\n",
       "        -1.86838635e-14,  -1.86838635e-14,  -1.86838635e-14,\n",
       "        -1.86838635e-14,  -1.86838635e-14,  -1.86838635e-14,\n",
       "        -1.86838635e-14,  -1.86838635e-14,  -1.86838635e-14,\n",
       "        -1.86838635e-14,  -1.86838635e-14,  -1.86838635e-14,\n",
       "        -1.86838635e-14,  -1.86838635e-14,  -1.86838635e-14,\n",
       "        -1.86838635e-14,  -1.86838635e-14,  -1.86838635e-14,\n",
       "        -1.86838635e-14,  -1.86838635e-14,  -1.86838635e-14,\n",
       "        -1.86838635e-14,  -1.86838635e-14,  -1.86838635e-14,\n",
       "        -1.86838635e-14,  -1.86838635e-14,  -1.86838635e-14,\n",
       "        -1.86838635e-14,  -1.86838635e-14,  -1.86838635e-14,\n",
       "        -1.86838635e-14,  -1.86838635e-14,  -1.86838635e-14,\n",
       "        -1.86838635e-14,  -1.86838635e-14,  -1.86838635e-14,\n",
       "        -1.86838635e-14,  -1.86838635e-14,  -1.86838635e-14,\n",
       "        -1.86838635e-14,  -1.86838635e-14,  -1.86838635e-14,\n",
       "        -1.86838635e-14,  -1.86838635e-14,  -1.86838635e-14,\n",
       "        -1.86838635e-14,  -1.86838635e-14,  -1.86838635e-14,\n",
       "        -1.86838635e-14,  -1.86838635e-14,  -1.86838635e-14,\n",
       "        -1.86838635e-14,  -1.86838635e-14,  -1.86838635e-14,\n",
       "        -1.86838635e-14,  -1.86838635e-14,  -1.86838635e-14,\n",
       "        -1.86838635e-14,  -1.86838635e-14])"
      ]
     },
     "execution_count": 73,
     "metadata": {},
     "output_type": "execute_result"
    }
   ],
   "source": [
    "pe"
   ]
  },
  {
   "cell_type": "code",
   "execution_count": 74,
   "metadata": {
    "collapsed": false
   },
   "outputs": [
    {
     "data": {
      "text/plain": [
       "122"
      ]
     },
     "execution_count": 74,
     "metadata": {},
     "output_type": "execute_result"
    }
   ],
   "source": [
    "pe.size"
   ]
  },
  {
   "cell_type": "code",
   "execution_count": 75,
   "metadata": {
    "collapsed": false
   },
   "outputs": [
    {
     "data": {
      "text/plain": [
       "array([ 104250.09394895,  104250.09394895,  104250.09394895,\n",
       "        104250.09394895,  104250.09394895,  104250.09394895,\n",
       "        104250.09394895,  104250.09394895,  104250.09394895,\n",
       "        104250.09394895,  104250.09394895,  104250.09394895,\n",
       "        104250.09394895,  104250.09394895,  104250.09394895,\n",
       "        104250.09394895,  104250.09394895,  104250.09394895,\n",
       "        104250.09394895,  104250.09394895,  104250.09394895,\n",
       "        104250.09394895,  104250.09394895,  104250.09394895,\n",
       "        104250.09394895,  104250.09394895,  104250.09394895,\n",
       "        104250.09394895,  104250.09394895,  104250.09394895,\n",
       "        104250.09394895,  104250.09394895,  104250.09394895,\n",
       "        104250.09394895,  104250.09394895,  104250.09394895,\n",
       "        104250.09394895,  104250.09394895,  104250.09394895,\n",
       "        104250.09394895,  104250.09394895,  104250.09394895,\n",
       "        104250.09394895,  104250.09394895,  104250.09394895,\n",
       "        104250.09394895,  104250.09394895,  104250.09394895,\n",
       "        104250.09394895,  104250.09394895,  104250.09394895,\n",
       "        104250.09394895,  104250.09394895,  104250.09394895,\n",
       "        104250.09394895,  104250.09394895,  104250.09394895,\n",
       "        104250.09394895,  104250.09394895,  104250.09394895,\n",
       "        104250.09394895,  104250.09394895,  104250.09394895,\n",
       "        104250.09394895,  104250.09394895,  104250.09394895,\n",
       "        104250.09394895,  104250.09394895,  104250.09394895,\n",
       "        104250.09394895,  104250.09394895,  104250.09394895,\n",
       "        104250.09394895,  104250.09394895,  104250.09394895,\n",
       "        104250.09394895,  104250.09394895,  104250.09394895,\n",
       "        104250.09394895,  104250.09394895,  104250.09394895,\n",
       "        104250.09394895,  104250.09394895,  104250.09394895,\n",
       "        104250.09394895,  104250.09394895,  104250.09394895,\n",
       "        104250.09394895,  104250.09394895,  104250.09394895,\n",
       "        104250.09394895,  104250.09394895,  104250.09394895,\n",
       "        104250.09394895,  104250.09394895,  104250.09394895,\n",
       "        104250.09394895,  104250.09394895,  104250.09394895,\n",
       "        104250.09394895,  104250.09394895,  104250.09394895,\n",
       "        104250.09394895,  104250.09394895,  104250.09394895,\n",
       "        104250.09394895,  104250.09394895,  104250.09394895,\n",
       "        104250.09394895,  104250.09394895,  104250.09394895,\n",
       "        104250.09394895,  104250.09394895,  104250.09394895,\n",
       "        104250.09394895,  104250.09394895,  104250.09394895,\n",
       "        104250.09394895,  104250.09394895,  104250.09394895,\n",
       "        104250.09394895,  104250.09394895])"
      ]
     },
     "execution_count": 75,
     "metadata": {},
     "output_type": "execute_result"
    }
   ],
   "source": [
    "no_field"
   ]
  },
  {
   "cell_type": "code",
   "execution_count": 76,
   "metadata": {
    "collapsed": false
   },
   "outputs": [
    {
     "data": {
      "text/plain": [
       "array([ 1000000.,  1000000.,  1000000.,  1000000.,  1000000.,  1000000.,\n",
       "        1000000.,  1000000.,  1000000.,  1000000.,  1000000.,  1000000.,\n",
       "        1000000.,  1000000.,  1000000.,  1000000.,  1000000.,  1000000.,\n",
       "        1000000.,  1000000.,  1000000.,  1000000.,  1000000.,  1000000.,\n",
       "        1000000.,  1000000.,  1000000.,  1000000.,  1000000.,  1000000.,\n",
       "        1000000.,  1000000.,  1000000.,  1000000.,  1000000.,  1000000.,\n",
       "        1000000.,  1000000.,  1000000.,  1000000.,  1000000.,  1000000.,\n",
       "        1000000.,  1000000.,  1000000.,  1000000.,  1000000.,  1000000.,\n",
       "        1000000.,  1000000.,  1000000.,  1000000.,  1000000.,  1000000.,\n",
       "        1000000.,  1000000.,  1000000.,  1000000.,  1000000.,  1000000.,\n",
       "        1000000.,  1000000.,  1000000.,  1000000.,  1000000.,  1000000.,\n",
       "        1000000.,  1000000.,  1000000.,  1000000.,  1000000.,  1000000.,\n",
       "        1000000.,  1000000.,  1000000.,  1000000.,  1000000.,  1000000.,\n",
       "        1000000.,  1000000.,  1000000.,  1000000.,  1000000.,  1000000.,\n",
       "        1000000.,  1000000.,  1000000.,  1000000.,  1000000.,  1000000.,\n",
       "        1000000.,  1000000.,  1000000.,  1000000.,  1000000.,  1000000.,\n",
       "        1000000.,  1000000.,  1000000.,  1000000.,  1000000.,  1000000.,\n",
       "        1000000.,  1000000.,  1000000.,  1000000.,  1000000.,  1000000.,\n",
       "        1000000.,  1000000.,  1000000.,  1000000.,  1000000.,  1000000.,\n",
       "        1000000.,  1000000.,  1000000.,  1000000.,  1000000.,  1000000.,\n",
       "        1000000.,  1000000.])"
      ]
     },
     "execution_count": 76,
     "metadata": {},
     "output_type": "execute_result"
    }
   ],
   "source": [
    "ni_field"
   ]
  },
  {
   "cell_type": "markdown",
   "metadata": {},
   "source": [
    "##### Update Pressure"
   ]
  },
  {
   "cell_type": "markdown",
   "metadata": {},
   "source": [
    "## We have obtained heavy particle pressure from the fractional step method, we need to add pressure from electrons"
   ]
  },
  {
   "cell_type": "code",
   "execution_count": 77,
   "metadata": {
    "collapsed": true
   },
   "outputs": [],
   "source": [
    "def get_total_pressure(pressure, electron_pressure):\n",
    "    '''\n",
    "    '''\n",
    "    p_current = pressure.copy()\n",
    "    p_electron = electron_pressure.copy()\n",
    "    #\n",
    "    p_total = numpy.zeros_like(pressure)\n",
    "    #\n",
    "    #nex = electron_density.copy()\n",
    "    #Tx = temperature.copy()\n",
    "    #\n",
    "    #pt[:] = px[:] + Ckb*Tx[:]*nex[:]\n",
    "    p_total[:] = p_current[:] + p_electron[:]\n",
    "    #\n",
    "    return p_total\n",
    "\n",
    "#get_total_pressure(pressure, electron_density, temperature)"
   ]
  },
  {
   "cell_type": "code",
   "execution_count": 78,
   "metadata": {
    "collapsed": false
   },
   "outputs": [],
   "source": [
    "ptn = get_total_pressure(p0.copy(), pe.copy())\n",
    "\n",
    "#get_total_pressure(p0.copy(), ne_fieldg.copy(), Tn.copy())"
   ]
  },
  {
   "cell_type": "code",
   "execution_count": 79,
   "metadata": {
    "collapsed": false
   },
   "outputs": [
    {
     "data": {
      "text/plain": [
       "array([ 102195.72168305,  102195.72168305,  102195.72168305,\n",
       "        102195.72168305,  102195.72168305,  102195.72168305,\n",
       "        102195.72168305,  102195.72168305,  102195.72168305,\n",
       "        102195.72168305,  102195.72168305,  102195.72168305,\n",
       "        102195.72168305,  102195.72168305,  102195.72168305,\n",
       "        102195.72168305,  102195.72168305,  102195.72168305,\n",
       "        102195.72168305,  102195.72168305,  102195.72168305,\n",
       "        102195.72168305,  102195.72168305,  102195.72168305,\n",
       "        102195.72168305,  102195.72168305,  102195.72168305,\n",
       "        102195.72168305,  102195.72168305,  102195.72168305,\n",
       "        102195.72168305,  102195.72168305,  102195.72168305,\n",
       "        102195.72168305,  102195.72168305,  102195.72168305,\n",
       "        102195.72168305,  102195.72168305,  102195.72168305,\n",
       "        102195.72168305,  102195.72168305,  102195.72168305,\n",
       "        102195.72168305,  102195.72168305,  102195.72168305,\n",
       "        102195.72168305,  102195.72168305,  102195.72168305,\n",
       "        102195.72168305,  102195.72168305,  102195.72168305,\n",
       "        102195.72168305,  102195.72168305,  102195.72168305,\n",
       "        102195.72168305,  102195.72168305,  102195.72168305,\n",
       "        102195.72168305,  102195.72168305,  102195.72168305,\n",
       "        102195.72168305,  102195.72168305,  102195.72168305,\n",
       "        102195.72168305,  102195.72168305,  102195.72168305,\n",
       "        102195.72168305,  102195.72168305,  102195.72168305,\n",
       "        102195.72168305,  102195.72168305,  102195.72168305,\n",
       "        102195.72168305,  102195.72168305,  102195.72168305,\n",
       "        102195.72168305,  102195.72168305,  102195.72168305,\n",
       "        102195.72168305,  102195.72168305,  102195.72168305,\n",
       "        102195.72168305,  102195.72168305,  102195.72168305,\n",
       "        102195.72168305,  102195.72168305,  102195.72168305,\n",
       "        102195.72168305,  102195.72168305,  102195.72168305,\n",
       "        102195.72168305,  102195.72168305,  102195.72168305,\n",
       "        102195.72168305,  102195.72168305,  102195.72168305,\n",
       "        102195.72168305,  102195.72168305,  102195.72168305,\n",
       "        102195.72168305,  102195.72168305,  102195.72168305,\n",
       "        102195.72168305,  102195.72168305,  102195.72168305,\n",
       "        102195.72168305,  102195.72168305,  102195.72168305,\n",
       "        102195.72168305,  102195.72168305,  102195.72168305,\n",
       "        102195.72168305,  102195.72168305,  102195.72168305,\n",
       "        102195.72168305,  102195.72168305,  102195.72168305,\n",
       "        102195.72168305,  102195.72168305,  102195.72168305,\n",
       "        102195.72168305,  102195.72168305])"
      ]
     },
     "execution_count": 79,
     "metadata": {},
     "output_type": "execute_result"
    }
   ],
   "source": [
    "ptn[:]"
   ]
  },
  {
   "cell_type": "markdown",
   "metadata": {},
   "source": [
    "## Initially then, there is little ionization because the initialized temperature is not high enough to sublimate too much material from the anode"
   ]
  },
  {
   "cell_type": "markdown",
   "metadata": {},
   "source": [
    "##### Update Electrical Conductivity"
   ]
  },
  {
   "cell_type": "code",
   "execution_count": 80,
   "metadata": {
    "collapsed": true
   },
   "outputs": [],
   "source": [
    "def get_electrical_conductivity(temperature, electrical_conductivity, density_mixture,\\\n",
    "                            electron_number_density, neutral_number_density,\\\n",
    "                               reference_temperature,time):\n",
    "    ''' Obtain thermophysical properties\n",
    "    \n",
    "    input:\n",
    "    ------\n",
    "    temperature: temperature obtained from energy equation\n",
    "    electrical_conductivity:\n",
    "    \n",
    "    Return:\n",
    "    -------\n",
    "    e_cond: electrical conductivitiy\n",
    "    '''\n",
    "    a = numpy.size(electrical_conductivity)\n",
    "    Qm = numpy.zeros((a),dtype=float)\n",
    "    #\n",
    "    na = neutral_number_density.copy()\n",
    "    ne = electron_number_density.copy()\n",
    "    #\n",
    "    T = temperature.copy()\n",
    "    Tref = reference_temperature.copy()\n",
    "    #\n",
    "    rho_mix = density_mixture.copy()\n",
    "    #\n",
    "    #momentum transfer cross section:\n",
    "    r1 = 5.25\n",
    "    r2 = 7.0\n",
    "    Qm[1:-1] = ((r1 + (r2-r1)*(T[1:-1]-Tref[1:-1])/(11604.*(1.74-0.01)))*1e-16)*1e-4\n",
    "    Qm[0] = Qm[1]\n",
    "    Qm[-1] = Qm[-2]\n",
    "    #\n",
    "    #electron-neutral collision\n",
    "    v_e_a = numpy.zeros((a),dtype=float)\n",
    "    v_e_a[1:-1] = (4./3.)*Qm[1:-1]*(na[1:-1])*\\\n",
    "                    ((8.*Ckb*T[1:-1]) /(numpy.pi*Cme))**0.5\n",
    "    v_e_a[0] = v_e_a[1]\n",
    "    v_e_a[-1] = v_e_a[-2]\n",
    "    #electron-ion collision\n",
    "    v_e_i = numpy.zeros((a),dtype=float)\n",
    "    lnA = numpy.zeros((a),dtype=float)\n",
    "    ke = numpy.zeros((a),dtype=float)\n",
    "    #\n",
    "    ke[1:-1] = numpy.sqrt((4.*numpy.pi*ne[1:-1]*Ce**2)/(Ckb*T[1:-1]))\n",
    "    ke[0] = ke[1]\n",
    "    ke[-1] = ke[-2]\n",
    "    gam = numpy.exp(0.577)\n",
    "    lnA[:] = numpy.log(4*Ckb*T[:]/(ke[:]*(Ce**2)*(gam**2))) -\\\n",
    "                2*numpy.log(numpy.sqrt(2.))\n",
    "    #\n",
    "    v_e_i[1:-1] = lnA[1:-1]*(4./3.)*(numpy.sqrt(2*numpy.pi))*ne[1:-1]*\\\n",
    "                    numpy.sqrt((Ckb*T[1:-1])/Cme)*\\\n",
    "                    (Ce/(Ckb*T[1:-1]))**2\n",
    "    v_e_i[0] = v_e_i[1]\n",
    "    v_e_i[-1] = v_e_i[-2]\n",
    "    #electrical conductivity\n",
    "    e_cond =  numpy.zeros((a),dtype=float)\n",
    "    e_cond[1:-1] = ((Ce**2)/Cme)*(ne[1:-1]/(v_e_i[1:-1]+v_e_a[1:-1]))\n",
    "    #e_cond[:] = (ne[:]*Ce**2)/(Cme*(v_e_i[:]+v_e_a[:]))\n",
    "    #\n",
    "    for i in range(1,a-1):\n",
    "        e_cond_low = 2.0 + (I_arc-2.0)*numpy.exp(-time*0.5)\n",
    "        if (e_cond[i] < e_cond_low):\n",
    "            e_cond[i] = e_cond_low\n",
    "        if (e_cond[i] > 2400.):\n",
    "            e_cond[i] = 2400.\n",
    "    #\n",
    "    e_cond[0] = e_cond[1]\n",
    "    e_cond[-1] = e_cond[-2]\n",
    "    #\n",
    "    return e_cond #, v_e_a, v_e_i, Qm"
   ]
  },
  {
   "cell_type": "code",
   "execution_count": 81,
   "metadata": {
    "collapsed": true
   },
   "outputs": [],
   "source": [
    "time = 0 + dt"
   ]
  },
  {
   "cell_type": "code",
   "execution_count": 82,
   "metadata": {
    "collapsed": false
   },
   "outputs": [],
   "source": [
    "econd = get_electrical_conductivity(Tn.copy(), econd0.copy(),\\\n",
    "                                                rhon.copy(), ne_field.copy(),\\\n",
    "                                               no_field.copy(), Tref.copy(),time)\n",
    "\n",
    "#,vea,vei,qm"
   ]
  },
  {
   "cell_type": "code",
   "execution_count": 83,
   "metadata": {
    "collapsed": false
   },
   "outputs": [
    {
     "data": {
      "text/plain": [
       "array([ 59.999565,  59.999565,  59.999565,  59.999565,  59.999565,\n",
       "        59.999565,  59.999565,  59.999565,  59.999565,  59.999565])"
      ]
     },
     "execution_count": 83,
     "metadata": {},
     "output_type": "execute_result"
    }
   ],
   "source": [
    "econd[:10] #electrical conductivity {S/m}"
   ]
  },
  {
   "cell_type": "code",
   "execution_count": 84,
   "metadata": {
    "collapsed": false
   },
   "outputs": [
    {
     "data": {
      "text/plain": [
       "array([ 59.999565,  59.999565,  59.999565,  59.999565])"
      ]
     },
     "execution_count": 84,
     "metadata": {},
     "output_type": "execute_result"
    }
   ],
   "source": [
    "econd[-4:]"
   ]
  },
  {
   "cell_type": "markdown",
   "metadata": {},
   "source": [
    "## Note that this value of electrical conductivity is set to the lower limit in this iteration because the computed value came out to 3.17641022e-17 {S/m}. This value should self adjust as the number densities change."
   ]
  },
  {
   "cell_type": "markdown",
   "metadata": {},
   "source": [
    "## Now we have the potential field and electrical conductivity at all nodes in the field. Now we can find current densit"
   ]
  },
  {
   "cell_type": "code",
   "execution_count": 85,
   "metadata": {
    "collapsed": true
   },
   "outputs": [],
   "source": [
    "def get_current_density(electric_potential, electrical_conductivity, delx):\n",
    "    '''\n",
    "    '''\n",
    "    a = numpy.size(electrical_conductivity)   \n",
    "    #\n",
    "    econd = electrical_conductivity.copy()\n",
    "    #\n",
    "    econdx = numpy.zeros((a),dtype=float) #includes 2 ghost cells\n",
    "    econdx[1:-1] = econd[1:-1]\n",
    "    econd_carbon = 5e6\n",
    "    econdx[0] = econd[1]\n",
    "    econdx[-1] = econdx[-2]\n",
    "    #\n",
    "    jx = numpy.zeros_like(electric_potential)\n",
    "    #\n",
    "    phix = electric_potential.copy()\n",
    "    #\n",
    "    jx[1:-1] = econdx[1:-1]*(1/delx)*(phix[1:-1]-phix[:-2])\n",
    "    jx[0] = jx[2]  \n",
    "    jx[1] = jx[2]\n",
    "    jx[-1] = jx[-2]  \n",
    "    #\n",
    "    return jx"
   ]
  },
  {
   "cell_type": "code",
   "execution_count": 86,
   "metadata": {
    "collapsed": false
   },
   "outputs": [],
   "source": [
    "jn = get_current_density(phi_init.copy(), econd.copy(), dx)"
   ]
  },
  {
   "cell_type": "code",
   "execution_count": 87,
   "metadata": {
    "collapsed": false
   },
   "outputs": [
    {
     "data": {
      "text/plain": [
       "array([ 4.79026102,  4.79026102,  4.79026102,  4.79026102,  4.79026102,\n",
       "        4.79026102,  4.79026102,  4.79026102,  4.79026102,  4.79026102,\n",
       "        4.79026102,  4.79026102,  4.79026102,  4.79026102,  4.79026102,\n",
       "        4.79026102,  4.79026102,  4.79026102,  4.79026102,  4.79026102,\n",
       "        4.79026102,  4.79026102,  4.79026102,  4.79026102,  4.79026102,\n",
       "        4.79026102,  4.79026102,  4.79026102,  4.79026102,  4.79026102,\n",
       "        4.79026102,  4.79026102,  4.79026102,  4.79026102,  4.79026102,\n",
       "        4.79026102,  4.79026102,  4.79026102,  4.79026102,  4.79026102,\n",
       "        4.79026102,  4.79026102,  4.79026102,  4.79026102,  4.79026102,\n",
       "        4.79026102,  4.79026102,  4.79026102,  4.79026102,  4.79026102,\n",
       "        4.79026102,  4.79026102,  4.79026102,  4.79026102,  4.79026102,\n",
       "        4.79026102,  4.79026102,  4.79026102,  4.79026102,  4.79026102,\n",
       "        4.79026102,  4.79026102,  4.79026102,  4.79026102,  4.79026102,\n",
       "        4.79026102,  4.79026102,  4.79026102,  4.79026102,  4.79026102,\n",
       "        4.79026102,  4.79026102,  4.79026102,  4.79026102,  4.79026102,\n",
       "        4.79026102,  4.79026102,  4.79026102,  4.79026102,  4.79026102,\n",
       "        4.79026102,  4.79026102,  4.79026102,  4.79026102,  4.79026102,\n",
       "        4.79026102,  4.79026102,  4.79026102,  4.79026102,  4.79026102,\n",
       "        4.79026102,  4.79026102,  4.79026102,  4.79026102,  4.79026102,\n",
       "        4.79026102,  4.79026102,  4.79026102,  4.79026102,  4.79026102,\n",
       "        4.79026102,  4.79026102,  4.79026102,  4.79026102,  4.79026102,\n",
       "        4.79026102,  4.79026102,  4.79026102,  4.79026102,  4.79026102,\n",
       "        4.79026102,  4.79026102,  4.79026102,  4.79026102,  4.79026102,\n",
       "        4.79026102,  4.79026102,  4.79026102,  4.79026102,  4.79026102,\n",
       "        4.79026102,  4.79026102])"
      ]
     },
     "execution_count": 87,
     "metadata": {},
     "output_type": "execute_result"
    }
   ],
   "source": [
    "(jn[:]*(numpy.pi*Ran**2)) #check current continuity in amps"
   ]
  },
  {
   "cell_type": "markdown",
   "metadata": {},
   "source": [
    "##### update specific heat"
   ]
  },
  {
   "cell_type": "code",
   "execution_count": 88,
   "metadata": {
    "collapsed": true
   },
   "outputs": [],
   "source": [
    "def get_specific_heat(temperature, concentration1, concentration2,\\\n",
    "                      reference_temperature):\n",
    "    '''\n",
    "    '''\n",
    "    T = temperature.copy()\n",
    "    Tref = reference_temperature.copy()\n",
    "    #\n",
    "    cp_c = numpy.zeros_like(temperature)\n",
    "    c1= concentration1.copy()\n",
    "    #\n",
    "    cp_he = numpy.zeros_like(temperature)\n",
    "    c2 = concentration2.copy()\n",
    "    #\n",
    "    cp_total = numpy.zeros_like(temperature)\n",
    "    #\n",
    "    cp_c[:] = 2100.0 + 0.1*(T[:]-Tref[:])\n",
    "    cp_he[:] = 7.3489e-17*(T[:]**5) - 1.201e-12*(T[:]**4) - 7.448e-10*(T[:]**3) +\\\n",
    "                8.6509e-5*(T[:]**2) - 0.34052*T[:] + 5351.7\n",
    "    cp_total[:] = c1[:]*cp_c[:] + c2[:]*cp_he\n",
    "    #\n",
    "    return cp_total"
   ]
  },
  {
   "cell_type": "code",
   "execution_count": 89,
   "metadata": {
    "collapsed": false
   },
   "outputs": [],
   "source": [
    "cp_total = get_specific_heat(Tn.copy(), cC.copy(), cHe.copy(), Tref.copy())"
   ]
  },
  {
   "cell_type": "code",
   "execution_count": 90,
   "metadata": {
    "collapsed": false
   },
   "outputs": [
    {
     "data": {
      "text/plain": [
       "array([ 5043.77201981,  5043.77201981,  5043.77201981,  5043.77201981,\n",
       "        5043.77201981,  5043.77201981,  5043.77201981,  5043.77201981,\n",
       "        5043.77201981,  5043.77201981])"
      ]
     },
     "execution_count": 90,
     "metadata": {},
     "output_type": "execute_result"
    }
   ],
   "source": [
    "cp_total[:10]"
   ]
  },
  {
   "cell_type": "markdown",
   "metadata": {},
   "source": [
    "##### update enthalpy for energy equation"
   ]
  },
  {
   "cell_type": "code",
   "execution_count": 91,
   "metadata": {
    "collapsed": true
   },
   "outputs": [],
   "source": [
    "def electrodes_heat_flux(electron_temperature, arc_current, anode_radius,\\\n",
    "                         current_density, electron_density_anode):\n",
    "    ''' Defines heat flux at electrodes\n",
    "    '''\n",
    "    #\n",
    "    Te_eV = electron_temperature.copy()/(11604.52500617) #from kelvin to eV\n",
    "    Te_eV_anode = Te_eV[1]\n",
    "    Te_eV_cathode = Te_eV[-2]\n",
    "    Iarc = arc_current\n",
    "    Ran = anode_radius\n",
    "    #\n",
    "    jx = current_density.copy() #array\n",
    "    jx_anode = jx[1]\n",
    "    jx_cathode = jx[-2]\n",
    "    #\n",
    "    ne_anode = electron_density_anode\n",
    "    #\n",
    "    phi_C_eV = 4.81 #carbon work function eV\n",
    "    Uiz = 11.2603 # ionization energy carbon eV\n",
    "    #\n",
    "    # electron flux, j_th\n",
    "    jth = 0.25*Ce*(ne_anode)*(numpy.sqrt((8*Ce*Te_eV_anode)/(numpy.pi*Cme)))\n",
    "    #\n",
    "    # Anode Sheath drop:\n",
    "    Ua_eV = - Te_eV_anode*numpy.log(jth/jx_anode)\n",
    "    #\n",
    "    #thermionic emission current density, j_emission:\n",
    "    je = CA*(Te_eV_cathode**2)*numpy.exp(-phi_C_eV /(Ckb*Te_eV_cathode)) \n",
    "    #-----------------------------------------------------\n",
    "    #anode heat flux\n",
    "    qa = (Iarc/(numpy.pi*Ran**2))*((2.*Te_eV_anode + Ua_eV + phi_C_eV)) \\\n",
    "            -(355.8/(0.012))*1000.\n",
    "    #\n",
    "    #cathode heat flux\n",
    "    qc = jx_cathode*(Uiz + phi_C_eV) - je*phi_C_eV\n",
    "    #\n",
    "    return qa, qc"
   ]
  },
  {
   "cell_type": "code",
   "execution_count": 92,
   "metadata": {
    "collapsed": false
   },
   "outputs": [],
   "source": [
    "fqa, fqc = electrodes_heat_flux(Tn.copy(), I_arc, Ran,\\\n",
    "                         jn.copy(), ne_field[1])"
   ]
  },
  {
   "cell_type": "code",
   "execution_count": 93,
   "metadata": {
    "collapsed": false
   },
   "outputs": [
    {
     "data": {
      "text/plain": [
       "-13370749.258735307"
      ]
     },
     "execution_count": 93,
     "metadata": {},
     "output_type": "execute_result"
    }
   ],
   "source": [
    "fqa #anode heat flux W/m2"
   ]
  },
  {
   "cell_type": "code",
   "execution_count": 94,
   "metadata": {
    "collapsed": false
   },
   "outputs": [
    {
     "data": {
      "text/plain": [
       "2430780.9872094141"
      ]
     },
     "execution_count": 94,
     "metadata": {},
     "output_type": "execute_result"
    }
   ],
   "source": [
    "fqc #cathode heat flux"
   ]
  },
  {
   "cell_type": "code",
   "execution_count": 95,
   "metadata": {
    "collapsed": false
   },
   "outputs": [],
   "source": [
    "def get_enthalpy(specific_heat, temperature, heat_flux_anode, heat_flux_cathode,\\\n",
    "                 delx, thermal_conductivity, reference_temperature):\n",
    "    '''\n",
    "    '''\n",
    "    #\n",
    "    qa = heat_flux_anode\n",
    "    qc = heat_flux_cathode\n",
    "    #\n",
    "    kx = thermal_conductivity.copy()\n",
    "    k_anode = 0.5*(kx[0]+kx[1])\n",
    "    k_cathode = 0.5*(kx[-1]+kx[-2])\n",
    "    #\n",
    "    cpx = specific_heat.copy()\n",
    "    #\n",
    "    Tref = reference_temperature.copy()\n",
    "    hx = numpy.zeros_like(temperature)\n",
    "    #\n",
    "    cpx = specific_heat.copy()\n",
    "    Tx = temperature.copy()\n",
    "    #\n",
    "    hx[1:-1] = cpx[1:-1]*(Tx[1:-1]-Tref[1:-1])\n",
    "    #\n",
    "    hx[0] = hx[1]\n",
    "    hx[-1] = hx[-2]\n",
    "    #\n",
    "    return hx"
   ]
  },
  {
   "cell_type": "code",
   "execution_count": 96,
   "metadata": {
    "collapsed": false
   },
   "outputs": [],
   "source": [
    "hn = get_enthalpy(cp_total.copy(), Tn.copy(), fqa, fqc, dx, kn.copy(), Tref.copy())"
   ]
  },
  {
   "cell_type": "code",
   "execution_count": 97,
   "metadata": {
    "collapsed": false
   },
   "outputs": [
    {
     "data": {
      "text/plain": [
       "array([ 5312438.23399552,  5312438.23399552,  5312438.23399552,\n",
       "        5312438.23399552,  5312438.23399552,  5312438.23399552,\n",
       "        5312438.23399552,  5312438.23399552,  5312438.23399552,\n",
       "        5312438.23399552])"
      ]
     },
     "execution_count": 97,
     "metadata": {},
     "output_type": "execute_result"
    }
   ],
   "source": [
    "hn[-10:] # enthalpy, J/kg"
   ]
  },
  {
   "cell_type": "markdown",
   "metadata": {},
   "source": [
    "##### close the cycle and calculate temperature"
   ]
  },
  {
   "cell_type": "code",
   "execution_count": 98,
   "metadata": {
    "collapsed": false
   },
   "outputs": [],
   "source": [
    "Tn = get_energy(rhon.copy(), ptn.copy(), uxn.copy(), jn.copy(), kn.copy(),\\\n",
    "            econd.copy(), cp_total.copy(), dx, dt, pref.copy(), hn.copy(), Tref.copy())\n",
    "\n",
    "#, JF, HF, PF, MF"
   ]
  },
  {
   "cell_type": "code",
   "execution_count": 99,
   "metadata": {
    "collapsed": false,
    "scrolled": false
   },
   "outputs": [
    {
     "data": {
      "text/plain": [
       "array([ 1360.18184896,  1360.18184896,  1360.18184896,  1360.18184896,\n",
       "        1360.18184896,  1360.18184896,  1360.18184896,  1360.18184896,\n",
       "        1360.18184896,  1360.18184896,  1360.18184896,  1360.18184896,\n",
       "        1360.18184896,  1360.18184896,  1360.18184896,  1360.18184896,\n",
       "        1360.18184896,  1360.18184896,  1360.18184896,  1360.18184896,\n",
       "        1360.18184896,  1360.18184896,  1360.18184896,  1360.18184896,\n",
       "        1360.18184896,  1360.18184896,  1360.18184896,  1360.18184896,\n",
       "        1360.18184896,  1360.18184896,  1360.18184896,  1360.18184896,\n",
       "        1360.18184896,  1360.18184896,  1360.18184896,  1360.18184896,\n",
       "        1360.18184896,  1360.18184896,  1360.18184896,  1360.18184896,\n",
       "        1360.18184896,  1360.18184896,  1360.18184896,  1360.18184896,\n",
       "        1360.18184896,  1360.18184896,  1360.18184896,  1360.18184896,\n",
       "        1360.18184896,  1360.18184896,  1360.18184896,  1360.18184896,\n",
       "        1360.18184896,  1360.18184896,  1360.18184896,  1360.18184896,\n",
       "        1360.18184896,  1360.18184896,  1360.18184896,  1360.18184896,\n",
       "        1360.18184896,  1360.18184896,  1360.18184896,  1360.18184896,\n",
       "        1360.18184896,  1360.18184896,  1360.18184896,  1360.18184896,\n",
       "        1360.18184896,  1360.18184896,  1360.18184896,  1360.18184896,\n",
       "        1360.18184896,  1360.18184896,  1360.18184896,  1360.18184896,\n",
       "        1360.18184896,  1360.18184896,  1360.18184896,  1360.18184896,\n",
       "        1360.18184896,  1360.18184896,  1360.18184896,  1360.18184896,\n",
       "        1360.18184896,  1360.18184896,  1360.18184896,  1360.18184896,\n",
       "        1360.18184896,  1360.18184896,  1360.18184896,  1360.18184896,\n",
       "        1360.18184896,  1360.18184896,  1360.18184896,  1360.18184896,\n",
       "        1360.18184896,  1360.18184896,  1360.18184896,  1360.18184896,\n",
       "        1360.18184896,  1360.18184896,  1360.18184896,  1360.18184896,\n",
       "        1360.18184896,  1360.18184896,  1360.18184896,  1360.18184896,\n",
       "        1360.18184896,  1360.18184896,  1360.18184896,  1360.18184896,\n",
       "        1360.18184896,  1360.18184896,  1360.18184896,  1360.18184896,\n",
       "        1360.18184896,  1360.18184896,  1360.18184896,  1360.18184896,\n",
       "        1360.18184896,  1360.18184896])"
      ]
     },
     "execution_count": 99,
     "metadata": {},
     "output_type": "execute_result"
    }
   ],
   "source": [
    "Tn #updated temperature, kelvin"
   ]
  },
  {
   "cell_type": "code",
   "execution_count": 100,
   "metadata": {
    "collapsed": true
   },
   "outputs": [],
   "source": [
    "Tref3 = Tn.copy()"
   ]
  },
  {
   "cell_type": "markdown",
   "metadata": {},
   "source": [
    "#### this will be the temperature at time t = 0 + dt. "
   ]
  },
  {
   "cell_type": "markdown",
   "metadata": {
    "collapsed": true
   },
   "source": [
    "##### Main Algorithm"
   ]
  },
  {
   "cell_type": "code",
   "execution_count": 101,
   "metadata": {
    "collapsed": false
   },
   "outputs": [],
   "source": [
    "def get_solution(temperature, velocity, pressure, density, concentration1,\\\n",
    "                concentration2, electrical_conductivity, current_density,\\\n",
    "                 reference_pressure, reference_temperature, delx, delt,\\\n",
    "                reference_number_density):\n",
    "    ''' this function combines the entire algorithm and \n",
    "    provides a time-marched solution\n",
    "    '''\n",
    "    Tn = temperature.copy()\n",
    "    rhon = density.copy()\n",
    "    uxn = velocity.copy()\n",
    "    ptn = pressure.copy()\n",
    "    cC = concentration1.copy()\n",
    "    cHe = concentration2.copy()\n",
    "    #\n",
    "    ne_ref = reference_number_density.copy()\n",
    "    econd = electrical_conductivity.copy()\n",
    "    jn = current_density.copy()\n",
    "    pref = reference_pressure.copy()\n",
    "    Tref = reference_temperature.copy()\n",
    "    #\n",
    "    pout = []\n",
    "    uout = []\n",
    "    Tout = []\n",
    "    rho_out = []\n",
    "    c1out = []\n",
    "    c2out = []\n",
    "    jn_out = []\n",
    "    #\n",
    "    jfout = []\n",
    "    hfout = []\n",
    "    pfout = []\n",
    "    mfout = []\n",
    "    #\n",
    "    ne_out = []\n",
    "    no_out = []\n",
    "    econd_out = []\n",
    "    phin_out = []\n",
    "    #\n",
    "    time_array_out = []\n",
    "    #\n",
    "    ne_fieldg = numpy.zeros_like(ptn)\n",
    "    #\n",
    "    time = 0 + delt\n",
    "    #\n",
    "    t_terminal = 2001*delt\n",
    "    #\n",
    "    iterations = 0\n",
    "    #------------------------------------------------------------------\n",
    "    itermax = int(1e6)\n",
    "    step_it = int(5)\n",
    "    check_iterations_size = int((itermax)/step_it)\n",
    "    check_iterations = numpy.zeros((check_iterations_size))\n",
    "    for j in range(check_iterations_size):\n",
    "        check_iterations[j] = j*step_it\n",
    "    #------------------------------------------------------------------\n",
    "    #\n",
    "    while time < t_terminal:\n",
    "        #\n",
    "        time = time + delt\n",
    "        #\n",
    "        #-----------------------\n",
    "        #thermophysical properties\n",
    "        kn, mun = get_thermophysical_properties(Tn.copy())\n",
    "        #-----------------------\n",
    "        #Anode Ablation\n",
    "        ABL, rhov = get_ablation(Tn[1],M_C)\n",
    "        #-----------------------\n",
    "        #update boundary density and velocity based on ablation rate\n",
    "        rhon = density_bc(rhon.copy(), rhov)\n",
    "        u_abl = get_ablation_velocity(ABL, rhon.copy())\n",
    "        uxn = velocity_bc(uxn.copy(), u_abl)\n",
    "        #-----------------------\n",
    "        #momentum equation - fluxes\n",
    "        fct = convective_flux(uxn.copy(), delx) #convective\n",
    "        fvt = viscous_flux(uxn.copy(), delx, mun.copy(), rhon.copy()) #viscous\n",
    "        fpt = pressure_flux(uxn.copy(), ptn.copy(), delx) #pressure\n",
    "        #\n",
    "        fs = get_source_pressure(uxn.copy(), ptn.copy(), delx) #source pressure eqn\n",
    "        #momentum equation - solve\n",
    "        uxn, pxn = get_momentum(uxn.copy(),mun.copy(),rhon.copy(), ptn.copy(),\\\n",
    "                        delx, delt)\n",
    "        #-----------------------\n",
    "        #mass conservation\n",
    "        rhon = mass_conservation(rhon.copy(), uxn.copy(), delx, delt)\n",
    "        #------------------------\n",
    "        #mass diffusion\n",
    "        rhoC, rhoHe, cC, cHe = mass_diffusion(pxn.copy(), Tn.copy(),\\\n",
    "                                                         rhon.copy(), uxn.copy(),\\\n",
    "                                                         cC.copy(),cHe.copy(), delt,\\\n",
    "                                                         delx, mC, mHe, rhov) \n",
    "\n",
    "        #-----------------------\n",
    "        #ionization rates\n",
    "        ne_field, pe,\\\n",
    "        ni_field, no_field = saha_algorithm(Tn.copy(),rhon.copy(),c_C.copy(),\\\n",
    "                                         c_He.copy(),Ips1,Ipg1,M_C,M_He, ne_ref.copy())\n",
    "        #-----------------------\n",
    "        #update pressure\n",
    "        #ptn = get_total_pressure(ptn.copy(), ne_fieldg.copy(), Tn.copy())\n",
    "        ptn = get_total_pressure(ptn.copy(), pe.copy())\n",
    "        #\n",
    "        #-----------------------\n",
    "        #electrical conductivity\n",
    "        econd = get_electrical_conductivity(Tn.copy(), econd.copy(),\\\n",
    "                                                rhon.copy(), ne_field.copy(),\\\n",
    "                                               no_field.copy(),Tref.copy(),time)\n",
    "        #-----------------------\n",
    "        #electric potential\n",
    "        phin = potential_algorithm(econd.copy(), xc.copy(), delx)\n",
    "        #-----------------------\n",
    "        #current density\n",
    "        jn = get_current_density(phin.copy(), econd.copy(), delx)\n",
    "        #\n",
    "        #specific heat\n",
    "        cp_total = get_specific_heat(Tn.copy(), cC.copy(), cHe.copy(), Tref.copy())\n",
    "        #\n",
    "        #heat fluxes at cathode and anode\n",
    "        fqa, fqc = electrodes_heat_flux(Tn.copy(), I_arc, Ran,\\\n",
    "                                 jn.copy(), ne_field[1])\n",
    "        #enthalpy\n",
    "        hn = get_enthalpy(cp_total.copy(), Tn.copy(), fqa, fqc, delx,kn.copy(),Tref.copy())\n",
    "        #\n",
    "        #-----------------------\n",
    "        #solve energy equation to get temperature\n",
    "        Tn = get_energy(rhon.copy(), ptn.copy(), uxn.copy(), jn.copy(),kn.copy(),\\\n",
    "                           econd.copy(), cp_total.copy(), delx, delt, pref.copy(), hn.copy(),\\\n",
    "                            Tref.copy())\n",
    "        #\n",
    "        pref = ptn.copy()\n",
    "        Tref = Tn.copy()\n",
    "        ne_ref = ne_field.copy()\n",
    "        #-------------------------------------------------------------------------\n",
    "        #\n",
    "        iterations += 1\n",
    "        #\n",
    "        if iterations in check_iterations:\n",
    "            print('current iteration is: %.3g' %iterations)\n",
    "            print('current time in seconds is: : %.3g' %time)\n",
    "            #\n",
    "            #OUTPUT\n",
    "            #\n",
    "            pout.append(ptn)\n",
    "            uout.append(uxn)\n",
    "            Tout.append(Tn)\n",
    "            rho_out.append(rhon)\n",
    "            c1out.append(cC)\n",
    "            c2out.append(cHe)\n",
    "            #\n",
    "            ne_out.append(ne_field)\n",
    "            no_out.append(no_field)\n",
    "            econd_out.append(econd)\n",
    "            jn_out.append(jn)\n",
    "            phin_out.append(phin)\n",
    "            #\n",
    "            time_array_out.append(time)\n",
    "        #\n",
    "    return Tout, pout, uout, rho_out, c1out, c2out, ne_out,no_out,\\\n",
    "                econd_out, jn_out,phin_out,time_array_out\n",
    "\n",
    "#, jfout, hfout, pfout, mfout"
   ]
  },
  {
   "cell_type": "code",
   "execution_count": 102,
   "metadata": {
    "collapsed": false,
    "scrolled": true
   },
   "outputs": [
    {
     "name": "stdout",
     "output_type": "stream",
     "text": [
      "current iteration is: 5\n",
      "current time in seconds is: : 9e-05\n",
      "current iteration is: 10\n",
      "current time in seconds is: : 0.000165\n",
      "current iteration is: 15\n",
      "current time in seconds is: : 0.00024\n",
      "current iteration is: 20\n",
      "current time in seconds is: : 0.000315\n",
      "current iteration is: 25\n",
      "current time in seconds is: : 0.00039\n",
      "current iteration is: 30\n",
      "current time in seconds is: : 0.000465\n",
      "current iteration is: 35\n",
      "current time in seconds is: : 0.00054\n",
      "current iteration is: 40\n",
      "current time in seconds is: : 0.000615\n",
      "current iteration is: 45\n",
      "current time in seconds is: : 0.00069\n",
      "current iteration is: 50\n",
      "current time in seconds is: : 0.000765\n",
      "current iteration is: 55\n",
      "current time in seconds is: : 0.00084\n",
      "current iteration is: 60\n",
      "current time in seconds is: : 0.000915\n",
      "current iteration is: 65\n",
      "current time in seconds is: : 0.00099\n",
      "current iteration is: 70\n",
      "current time in seconds is: : 0.00107\n",
      "current iteration is: 75\n",
      "current time in seconds is: : 0.00114\n",
      "current iteration is: 80\n",
      "current time in seconds is: : 0.00122\n",
      "current iteration is: 85\n",
      "current time in seconds is: : 0.00129\n",
      "current iteration is: 90\n",
      "current time in seconds is: : 0.00137\n",
      "current iteration is: 95\n",
      "current time in seconds is: : 0.00144\n",
      "current iteration is: 100\n",
      "current time in seconds is: : 0.00152\n",
      "current iteration is: 105\n",
      "current time in seconds is: : 0.00159\n",
      "current iteration is: 110\n",
      "current time in seconds is: : 0.00167\n",
      "current iteration is: 115\n",
      "current time in seconds is: : 0.00174\n",
      "current iteration is: 120\n",
      "current time in seconds is: : 0.00182\n",
      "current iteration is: 125\n",
      "current time in seconds is: : 0.00189\n",
      "current iteration is: 130\n",
      "current time in seconds is: : 0.00197\n",
      "current iteration is: 135\n",
      "current time in seconds is: : 0.00204\n",
      "current iteration is: 140\n",
      "current time in seconds is: : 0.00212\n",
      "current iteration is: 145\n",
      "current time in seconds is: : 0.00219\n",
      "current iteration is: 150\n",
      "current time in seconds is: : 0.00227\n",
      "current iteration is: 155\n",
      "current time in seconds is: : 0.00234\n",
      "current iteration is: 160\n",
      "current time in seconds is: : 0.00241\n",
      "current iteration is: 165\n",
      "current time in seconds is: : 0.00249\n",
      "current iteration is: 170\n",
      "current time in seconds is: : 0.00256\n",
      "current iteration is: 175\n",
      "current time in seconds is: : 0.00264\n",
      "current iteration is: 180\n",
      "current time in seconds is: : 0.00271\n",
      "current iteration is: 185\n",
      "current time in seconds is: : 0.00279\n",
      "current iteration is: 190\n",
      "current time in seconds is: : 0.00286\n",
      "current iteration is: 195\n",
      "current time in seconds is: : 0.00294\n",
      "current iteration is: 200\n",
      "current time in seconds is: : 0.00301\n",
      "current iteration is: 205\n",
      "current time in seconds is: : 0.00309\n",
      "current iteration is: 210\n",
      "current time in seconds is: : 0.00316\n",
      "current iteration is: 215\n",
      "current time in seconds is: : 0.00324\n",
      "current iteration is: 220\n",
      "current time in seconds is: : 0.00331\n",
      "current iteration is: 225\n",
      "current time in seconds is: : 0.00339\n",
      "current iteration is: 230\n",
      "current time in seconds is: : 0.00346\n",
      "current iteration is: 235\n",
      "current time in seconds is: : 0.00354\n",
      "current iteration is: 240\n",
      "current time in seconds is: : 0.00361\n",
      "current iteration is: 245\n",
      "current time in seconds is: : 0.00369\n",
      "current iteration is: 250\n",
      "current time in seconds is: : 0.00376\n",
      "current iteration is: 255\n",
      "current time in seconds is: : 0.00384\n",
      "current iteration is: 260\n",
      "current time in seconds is: : 0.00391\n",
      "current iteration is: 265\n",
      "current time in seconds is: : 0.00399\n",
      "current iteration is: 270\n",
      "current time in seconds is: : 0.00406\n",
      "current iteration is: 275\n",
      "current time in seconds is: : 0.00414\n",
      "current iteration is: 280\n",
      "current time in seconds is: : 0.00421\n",
      "current iteration is: 285\n",
      "current time in seconds is: : 0.00429\n",
      "current iteration is: 290\n",
      "current time in seconds is: : 0.00436\n",
      "current iteration is: 295\n",
      "current time in seconds is: : 0.00444\n",
      "current iteration is: 300\n",
      "current time in seconds is: : 0.00451\n",
      "current iteration is: 305\n",
      "current time in seconds is: : 0.00459\n",
      "current iteration is: 310\n",
      "current time in seconds is: : 0.00466\n",
      "current iteration is: 315\n",
      "current time in seconds is: : 0.00474\n",
      "current iteration is: 320\n",
      "current time in seconds is: : 0.00481\n",
      "current iteration is: 325\n",
      "current time in seconds is: : 0.00489\n",
      "current iteration is: 330\n",
      "current time in seconds is: : 0.00496\n",
      "current iteration is: 335\n",
      "current time in seconds is: : 0.00504\n",
      "current iteration is: 340\n",
      "current time in seconds is: : 0.00512\n",
      "current iteration is: 345\n",
      "current time in seconds is: : 0.00519\n",
      "current iteration is: 350\n",
      "current time in seconds is: : 0.00527\n",
      "current iteration is: 355\n",
      "current time in seconds is: : 0.00534\n",
      "current iteration is: 360\n",
      "current time in seconds is: : 0.00542\n",
      "current iteration is: 365\n",
      "current time in seconds is: : 0.00549\n",
      "current iteration is: 370\n",
      "current time in seconds is: : 0.00557\n",
      "current iteration is: 375\n",
      "current time in seconds is: : 0.00564\n",
      "current iteration is: 380\n",
      "current time in seconds is: : 0.00572\n",
      "current iteration is: 385\n",
      "current time in seconds is: : 0.00579\n",
      "current iteration is: 390\n",
      "current time in seconds is: : 0.00587\n",
      "current iteration is: 395\n",
      "current time in seconds is: : 0.00594\n",
      "current iteration is: 400\n",
      "current time in seconds is: : 0.00602\n",
      "current iteration is: 405\n",
      "current time in seconds is: : 0.00609\n",
      "current iteration is: 410\n",
      "current time in seconds is: : 0.00617\n",
      "current iteration is: 415\n",
      "current time in seconds is: : 0.00624\n",
      "current iteration is: 420\n",
      "current time in seconds is: : 0.00632\n",
      "current iteration is: 425\n",
      "current time in seconds is: : 0.00639\n",
      "current iteration is: 430\n",
      "current time in seconds is: : 0.00647\n",
      "current iteration is: 435\n",
      "current time in seconds is: : 0.00654\n",
      "current iteration is: 440\n",
      "current time in seconds is: : 0.00662\n",
      "current iteration is: 445\n",
      "current time in seconds is: : 0.00669\n",
      "current iteration is: 450\n",
      "current time in seconds is: : 0.00677\n",
      "current iteration is: 455\n",
      "current time in seconds is: : 0.00684\n",
      "current iteration is: 460\n",
      "current time in seconds is: : 0.00692\n",
      "current iteration is: 465\n",
      "current time in seconds is: : 0.00699\n",
      "current iteration is: 470\n",
      "current time in seconds is: : 0.00707\n",
      "current iteration is: 475\n",
      "current time in seconds is: : 0.00714\n",
      "current iteration is: 480\n",
      "current time in seconds is: : 0.00722\n",
      "current iteration is: 485\n",
      "current time in seconds is: : 0.00729\n",
      "current iteration is: 490\n",
      "current time in seconds is: : 0.00737\n",
      "current iteration is: 495\n",
      "current time in seconds is: : 0.00744\n",
      "current iteration is: 500\n",
      "current time in seconds is: : 0.00752\n",
      "current iteration is: 505\n",
      "current time in seconds is: : 0.00759\n",
      "current iteration is: 510\n",
      "current time in seconds is: : 0.00767\n",
      "current iteration is: 515\n",
      "current time in seconds is: : 0.00774\n",
      "current iteration is: 520\n",
      "current time in seconds is: : 0.00782\n",
      "current iteration is: 525\n",
      "current time in seconds is: : 0.00789\n",
      "current iteration is: 530\n",
      "current time in seconds is: : 0.00797\n",
      "current iteration is: 535\n",
      "current time in seconds is: : 0.00804\n",
      "current iteration is: 540\n",
      "current time in seconds is: : 0.00812\n",
      "current iteration is: 545\n",
      "current time in seconds is: : 0.00819\n",
      "current iteration is: 550\n",
      "current time in seconds is: : 0.00827\n",
      "current iteration is: 555\n",
      "current time in seconds is: : 0.00834\n",
      "current iteration is: 560\n",
      "current time in seconds is: : 0.00842\n",
      "current iteration is: 565\n",
      "current time in seconds is: : 0.00849\n",
      "current iteration is: 570\n",
      "current time in seconds is: : 0.00857\n",
      "current iteration is: 575\n",
      "current time in seconds is: : 0.00864\n",
      "current iteration is: 580\n",
      "current time in seconds is: : 0.00872\n",
      "current iteration is: 585\n",
      "current time in seconds is: : 0.00879\n",
      "current iteration is: 590\n",
      "current time in seconds is: : 0.00887\n",
      "current iteration is: 595\n",
      "current time in seconds is: : 0.00894\n",
      "current iteration is: 600\n",
      "current time in seconds is: : 0.00901\n",
      "current iteration is: 605\n",
      "current time in seconds is: : 0.00909\n",
      "current iteration is: 610\n",
      "current time in seconds is: : 0.00916\n",
      "current iteration is: 615\n",
      "current time in seconds is: : 0.00924\n",
      "current iteration is: 620\n",
      "current time in seconds is: : 0.00931\n",
      "current iteration is: 625\n",
      "current time in seconds is: : 0.00939\n",
      "current iteration is: 630\n",
      "current time in seconds is: : 0.00946\n",
      "current iteration is: 635\n",
      "current time in seconds is: : 0.00954\n",
      "current iteration is: 640\n",
      "current time in seconds is: : 0.00961\n",
      "current iteration is: 645\n",
      "current time in seconds is: : 0.00969\n",
      "current iteration is: 650\n",
      "current time in seconds is: : 0.00976\n",
      "current iteration is: 655\n",
      "current time in seconds is: : 0.00984\n",
      "current iteration is: 660\n",
      "current time in seconds is: : 0.00991\n",
      "current iteration is: 665\n",
      "current time in seconds is: : 0.00999\n",
      "current iteration is: 670\n",
      "current time in seconds is: : 0.0101\n",
      "current iteration is: 675\n",
      "current time in seconds is: : 0.0101\n",
      "current iteration is: 680\n",
      "current time in seconds is: : 0.0102\n",
      "current iteration is: 685\n",
      "current time in seconds is: : 0.0103\n",
      "current iteration is: 690\n",
      "current time in seconds is: : 0.0104\n",
      "current iteration is: 695\n",
      "current time in seconds is: : 0.0104\n",
      "current iteration is: 700\n",
      "current time in seconds is: : 0.0105\n",
      "current iteration is: 705\n",
      "current time in seconds is: : 0.0106\n",
      "current iteration is: 710\n",
      "current time in seconds is: : 0.0107\n",
      "current iteration is: 715\n",
      "current time in seconds is: : 0.0107\n",
      "current iteration is: 720\n",
      "current time in seconds is: : 0.0108\n",
      "current iteration is: 725\n",
      "current time in seconds is: : 0.0109\n",
      "current iteration is: 730\n",
      "current time in seconds is: : 0.011\n",
      "current iteration is: 735\n",
      "current time in seconds is: : 0.011\n",
      "current iteration is: 740\n",
      "current time in seconds is: : 0.0111\n",
      "current iteration is: 745\n",
      "current time in seconds is: : 0.0112\n",
      "current iteration is: 750\n",
      "current time in seconds is: : 0.0113\n",
      "current iteration is: 755\n",
      "current time in seconds is: : 0.0113\n",
      "current iteration is: 760\n",
      "current time in seconds is: : 0.0114\n",
      "current iteration is: 765\n",
      "current time in seconds is: : 0.0115\n",
      "current iteration is: 770\n",
      "current time in seconds is: : 0.0116\n",
      "current iteration is: 775\n",
      "current time in seconds is: : 0.0116\n",
      "current iteration is: 780\n",
      "current time in seconds is: : 0.0117\n",
      "current iteration is: 785\n",
      "current time in seconds is: : 0.0118\n",
      "current iteration is: 790\n",
      "current time in seconds is: : 0.0119\n",
      "current iteration is: 795\n",
      "current time in seconds is: : 0.0119\n",
      "current iteration is: 800\n",
      "current time in seconds is: : 0.012\n",
      "current iteration is: 805\n",
      "current time in seconds is: : 0.0121\n",
      "current iteration is: 810\n",
      "current time in seconds is: : 0.0122\n",
      "current iteration is: 815\n",
      "current time in seconds is: : 0.0122\n",
      "current iteration is: 820\n",
      "current time in seconds is: : 0.0123\n",
      "current iteration is: 825\n",
      "current time in seconds is: : 0.0124\n",
      "current iteration is: 830\n",
      "current time in seconds is: : 0.0125\n",
      "current iteration is: 835\n",
      "current time in seconds is: : 0.0125\n",
      "current iteration is: 840\n",
      "current time in seconds is: : 0.0126\n",
      "current iteration is: 845\n",
      "current time in seconds is: : 0.0127\n",
      "current iteration is: 850\n",
      "current time in seconds is: : 0.0128\n",
      "current iteration is: 855\n",
      "current time in seconds is: : 0.0128\n",
      "current iteration is: 860\n",
      "current time in seconds is: : 0.0129\n",
      "current iteration is: 865\n",
      "current time in seconds is: : 0.013\n",
      "current iteration is: 870\n",
      "current time in seconds is: : 0.0131\n",
      "current iteration is: 875\n",
      "current time in seconds is: : 0.0131\n",
      "current iteration is: 880\n",
      "current time in seconds is: : 0.0132\n",
      "current iteration is: 885\n",
      "current time in seconds is: : 0.0133\n",
      "current iteration is: 890\n",
      "current time in seconds is: : 0.0134\n",
      "current iteration is: 895\n",
      "current time in seconds is: : 0.0134\n",
      "current iteration is: 900\n",
      "current time in seconds is: : 0.0135\n",
      "current iteration is: 905\n",
      "current time in seconds is: : 0.0136\n",
      "current iteration is: 910\n",
      "current time in seconds is: : 0.0137\n",
      "current iteration is: 915\n",
      "current time in seconds is: : 0.0137\n",
      "current iteration is: 920\n",
      "current time in seconds is: : 0.0138\n",
      "current iteration is: 925\n",
      "current time in seconds is: : 0.0139\n",
      "current iteration is: 930\n",
      "current time in seconds is: : 0.014\n",
      "current iteration is: 935\n",
      "current time in seconds is: : 0.014\n",
      "current iteration is: 940\n",
      "current time in seconds is: : 0.0141\n",
      "current iteration is: 945\n",
      "current time in seconds is: : 0.0142\n",
      "current iteration is: 950\n",
      "current time in seconds is: : 0.0143\n",
      "current iteration is: 955\n",
      "current time in seconds is: : 0.0143\n",
      "current iteration is: 960\n",
      "current time in seconds is: : 0.0144\n",
      "current iteration is: 965\n",
      "current time in seconds is: : 0.0145\n",
      "current iteration is: 970\n",
      "current time in seconds is: : 0.0146\n",
      "current iteration is: 975\n",
      "current time in seconds is: : 0.0146\n",
      "current iteration is: 980\n",
      "current time in seconds is: : 0.0147\n",
      "current iteration is: 985\n",
      "current time in seconds is: : 0.0148\n",
      "current iteration is: 990\n",
      "current time in seconds is: : 0.0149\n",
      "current iteration is: 995\n",
      "current time in seconds is: : 0.0149\n",
      "current iteration is: 1e+03\n",
      "current time in seconds is: : 0.015\n",
      "current iteration is: 1.00e+03\n",
      "current time in seconds is: : 0.0151\n",
      "current iteration is: 1.01e+03\n",
      "current time in seconds is: : 0.0152\n",
      "current iteration is: 1.02e+03\n",
      "current time in seconds is: : 0.0152\n",
      "current iteration is: 1.02e+03\n",
      "current time in seconds is: : 0.0153\n",
      "current iteration is: 1.02e+03\n",
      "current time in seconds is: : 0.0154\n",
      "current iteration is: 1.03e+03\n",
      "current time in seconds is: : 0.0155\n",
      "current iteration is: 1.04e+03\n",
      "current time in seconds is: : 0.0155\n",
      "current iteration is: 1.04e+03\n",
      "current time in seconds is: : 0.0156\n",
      "current iteration is: 1.04e+03\n",
      "current time in seconds is: : 0.0157\n",
      "current iteration is: 1.05e+03\n",
      "current time in seconds is: : 0.0158\n",
      "current iteration is: 1.06e+03\n",
      "current time in seconds is: : 0.0158\n",
      "current iteration is: 1.06e+03\n",
      "current time in seconds is: : 0.0159\n",
      "current iteration is: 1.06e+03\n",
      "current time in seconds is: : 0.016\n",
      "current iteration is: 1.07e+03\n",
      "current time in seconds is: : 0.0161\n",
      "current iteration is: 1.08e+03\n",
      "current time in seconds is: : 0.0161\n",
      "current iteration is: 1.08e+03\n",
      "current time in seconds is: : 0.0162\n",
      "current iteration is: 1.08e+03\n",
      "current time in seconds is: : 0.0163\n",
      "current iteration is: 1.09e+03\n",
      "current time in seconds is: : 0.0164\n",
      "current iteration is: 1.1e+03\n",
      "current time in seconds is: : 0.0164\n",
      "current iteration is: 1.1e+03\n",
      "current time in seconds is: : 0.0165\n",
      "current iteration is: 1.10e+03\n",
      "current time in seconds is: : 0.0166\n",
      "current iteration is: 1.11e+03\n",
      "current time in seconds is: : 0.0167\n",
      "current iteration is: 1.12e+03\n",
      "current time in seconds is: : 0.0167\n",
      "current iteration is: 1.12e+03\n",
      "current time in seconds is: : 0.0168\n",
      "current iteration is: 1.12e+03\n",
      "current time in seconds is: : 0.0169\n",
      "current iteration is: 1.13e+03\n",
      "current time in seconds is: : 0.017\n",
      "current iteration is: 1.14e+03\n",
      "current time in seconds is: : 0.017\n",
      "current iteration is: 1.14e+03\n",
      "current time in seconds is: : 0.0171\n",
      "current iteration is: 1.14e+03\n",
      "current time in seconds is: : 0.0172\n",
      "current iteration is: 1.15e+03\n",
      "current time in seconds is: : 0.0173\n",
      "current iteration is: 1.16e+03\n",
      "current time in seconds is: : 0.0173\n",
      "current iteration is: 1.16e+03\n",
      "current time in seconds is: : 0.0174\n",
      "current iteration is: 1.16e+03\n",
      "current time in seconds is: : 0.0175\n",
      "current iteration is: 1.17e+03\n",
      "current time in seconds is: : 0.0176\n",
      "current iteration is: 1.18e+03\n",
      "current time in seconds is: : 0.0176\n",
      "current iteration is: 1.18e+03\n",
      "current time in seconds is: : 0.0177\n",
      "current iteration is: 1.18e+03\n",
      "current time in seconds is: : 0.0178\n",
      "current iteration is: 1.19e+03\n",
      "current time in seconds is: : 0.0179\n",
      "current iteration is: 1.2e+03\n",
      "current time in seconds is: : 0.0179\n",
      "current iteration is: 1.2e+03\n",
      "current time in seconds is: : 0.018\n",
      "current iteration is: 1.20e+03\n",
      "current time in seconds is: : 0.0181\n",
      "current iteration is: 1.21e+03\n",
      "current time in seconds is: : 0.0182\n",
      "current iteration is: 1.22e+03\n",
      "current time in seconds is: : 0.0182\n",
      "current iteration is: 1.22e+03\n",
      "current time in seconds is: : 0.0183\n",
      "current iteration is: 1.22e+03\n",
      "current time in seconds is: : 0.0184\n",
      "current iteration is: 1.23e+03\n",
      "current time in seconds is: : 0.0185\n",
      "current iteration is: 1.24e+03\n",
      "current time in seconds is: : 0.0185\n",
      "current iteration is: 1.24e+03\n",
      "current time in seconds is: : 0.0186\n",
      "current iteration is: 1.24e+03\n",
      "current time in seconds is: : 0.0187\n",
      "current iteration is: 1.25e+03\n",
      "current time in seconds is: : 0.0188\n",
      "current iteration is: 1.26e+03\n",
      "current time in seconds is: : 0.0188\n",
      "current iteration is: 1.26e+03\n",
      "current time in seconds is: : 0.0189\n",
      "current iteration is: 1.26e+03\n",
      "current time in seconds is: : 0.019\n",
      "current iteration is: 1.27e+03\n",
      "current time in seconds is: : 0.0191\n",
      "current iteration is: 1.28e+03\n",
      "current time in seconds is: : 0.0191\n",
      "current iteration is: 1.28e+03\n",
      "current time in seconds is: : 0.0192\n",
      "current iteration is: 1.28e+03\n",
      "current time in seconds is: : 0.0193\n",
      "current iteration is: 1.29e+03\n",
      "current time in seconds is: : 0.0194\n",
      "current iteration is: 1.3e+03\n",
      "current time in seconds is: : 0.0194\n",
      "current iteration is: 1.3e+03\n",
      "current time in seconds is: : 0.0195\n",
      "current iteration is: 1.30e+03\n",
      "current time in seconds is: : 0.0196\n",
      "current iteration is: 1.31e+03\n",
      "current time in seconds is: : 0.0197\n",
      "current iteration is: 1.32e+03\n",
      "current time in seconds is: : 0.0197\n",
      "current iteration is: 1.32e+03\n",
      "current time in seconds is: : 0.0198\n",
      "current iteration is: 1.32e+03\n",
      "current time in seconds is: : 0.0199\n",
      "current iteration is: 1.33e+03\n",
      "current time in seconds is: : 0.02\n",
      "current iteration is: 1.34e+03\n",
      "current time in seconds is: : 0.02\n",
      "current iteration is: 1.34e+03\n",
      "current time in seconds is: : 0.0201\n",
      "current iteration is: 1.34e+03\n",
      "current time in seconds is: : 0.0202\n",
      "current iteration is: 1.35e+03\n",
      "current time in seconds is: : 0.0203\n",
      "current iteration is: 1.36e+03\n",
      "current time in seconds is: : 0.0203\n",
      "current iteration is: 1.36e+03\n",
      "current time in seconds is: : 0.0204\n",
      "current iteration is: 1.36e+03\n",
      "current time in seconds is: : 0.0205\n",
      "current iteration is: 1.37e+03\n",
      "current time in seconds is: : 0.0206\n",
      "current iteration is: 1.38e+03\n",
      "current time in seconds is: : 0.0206\n",
      "current iteration is: 1.38e+03\n",
      "current time in seconds is: : 0.0207\n",
      "current iteration is: 1.38e+03\n",
      "current time in seconds is: : 0.0208\n",
      "current iteration is: 1.39e+03\n",
      "current time in seconds is: : 0.0209\n",
      "current iteration is: 1.4e+03\n",
      "current time in seconds is: : 0.0209\n",
      "current iteration is: 1.4e+03\n",
      "current time in seconds is: : 0.021\n",
      "current iteration is: 1.40e+03\n",
      "current time in seconds is: : 0.0211\n",
      "current iteration is: 1.41e+03\n",
      "current time in seconds is: : 0.0212\n",
      "current iteration is: 1.42e+03\n",
      "current time in seconds is: : 0.0212\n",
      "current iteration is: 1.42e+03\n",
      "current time in seconds is: : 0.0213\n",
      "current iteration is: 1.42e+03\n",
      "current time in seconds is: : 0.0214\n",
      "current iteration is: 1.43e+03\n",
      "current time in seconds is: : 0.0215\n",
      "current iteration is: 1.44e+03\n",
      "current time in seconds is: : 0.0215\n",
      "current iteration is: 1.44e+03\n",
      "current time in seconds is: : 0.0216\n",
      "current iteration is: 1.44e+03\n",
      "current time in seconds is: : 0.0217\n",
      "current iteration is: 1.45e+03\n",
      "current time in seconds is: : 0.0218\n",
      "current iteration is: 1.46e+03\n",
      "current time in seconds is: : 0.0218\n",
      "current iteration is: 1.46e+03\n",
      "current time in seconds is: : 0.0219\n",
      "current iteration is: 1.46e+03\n",
      "current time in seconds is: : 0.022\n",
      "current iteration is: 1.47e+03\n",
      "current time in seconds is: : 0.0221\n",
      "current iteration is: 1.48e+03\n",
      "current time in seconds is: : 0.0221\n",
      "current iteration is: 1.48e+03\n",
      "current time in seconds is: : 0.0222\n",
      "current iteration is: 1.48e+03\n",
      "current time in seconds is: : 0.0223\n",
      "current iteration is: 1.49e+03\n",
      "current time in seconds is: : 0.0224\n",
      "current iteration is: 1.5e+03\n",
      "current time in seconds is: : 0.0224\n",
      "current iteration is: 1.5e+03\n",
      "current time in seconds is: : 0.0225\n",
      "current iteration is: 1.50e+03\n",
      "current time in seconds is: : 0.0226\n",
      "current iteration is: 1.51e+03\n",
      "current time in seconds is: : 0.0227\n",
      "current iteration is: 1.52e+03\n",
      "current time in seconds is: : 0.0227\n",
      "current iteration is: 1.52e+03\n",
      "current time in seconds is: : 0.0228\n",
      "current iteration is: 1.52e+03\n",
      "current time in seconds is: : 0.0229\n",
      "current iteration is: 1.53e+03\n",
      "current time in seconds is: : 0.023\n",
      "current iteration is: 1.54e+03\n",
      "current time in seconds is: : 0.023\n",
      "current iteration is: 1.54e+03\n",
      "current time in seconds is: : 0.0231\n",
      "current iteration is: 1.54e+03\n",
      "current time in seconds is: : 0.0232\n",
      "current iteration is: 1.55e+03\n",
      "current time in seconds is: : 0.0233\n",
      "current iteration is: 1.56e+03\n",
      "current time in seconds is: : 0.0233\n",
      "current iteration is: 1.56e+03\n",
      "current time in seconds is: : 0.0234\n",
      "current iteration is: 1.56e+03\n",
      "current time in seconds is: : 0.0235\n",
      "current iteration is: 1.57e+03\n",
      "current time in seconds is: : 0.0236\n",
      "current iteration is: 1.58e+03\n",
      "current time in seconds is: : 0.0236\n",
      "current iteration is: 1.58e+03\n",
      "current time in seconds is: : 0.0237\n",
      "current iteration is: 1.58e+03\n",
      "current time in seconds is: : 0.0238\n",
      "current iteration is: 1.59e+03\n",
      "current time in seconds is: : 0.0239\n",
      "current iteration is: 1.6e+03\n",
      "current time in seconds is: : 0.0239\n",
      "current iteration is: 1.6e+03\n",
      "current time in seconds is: : 0.024\n",
      "current iteration is: 1.60e+03\n",
      "current time in seconds is: : 0.0241\n",
      "current iteration is: 1.61e+03\n",
      "current time in seconds is: : 0.0242\n",
      "current iteration is: 1.62e+03\n",
      "current time in seconds is: : 0.0242\n",
      "current iteration is: 1.62e+03\n",
      "current time in seconds is: : 0.0243\n",
      "current iteration is: 1.62e+03\n",
      "current time in seconds is: : 0.0244\n",
      "current iteration is: 1.63e+03\n",
      "current time in seconds is: : 0.0245\n",
      "current iteration is: 1.64e+03\n",
      "current time in seconds is: : 0.0245\n",
      "current iteration is: 1.64e+03\n",
      "current time in seconds is: : 0.0246\n",
      "current iteration is: 1.64e+03\n",
      "current time in seconds is: : 0.0247\n",
      "current iteration is: 1.65e+03\n",
      "current time in seconds is: : 0.0248\n",
      "current iteration is: 1.66e+03\n",
      "current time in seconds is: : 0.0248\n",
      "current iteration is: 1.66e+03\n",
      "current time in seconds is: : 0.0249\n",
      "current iteration is: 1.66e+03\n",
      "current time in seconds is: : 0.025\n",
      "current iteration is: 1.67e+03\n",
      "current time in seconds is: : 0.0251\n",
      "current iteration is: 1.68e+03\n",
      "current time in seconds is: : 0.0251\n",
      "current iteration is: 1.68e+03\n",
      "current time in seconds is: : 0.0252\n",
      "current iteration is: 1.68e+03\n",
      "current time in seconds is: : 0.0253\n",
      "current iteration is: 1.69e+03\n",
      "current time in seconds is: : 0.0254\n",
      "current iteration is: 1.7e+03\n",
      "current time in seconds is: : 0.0254\n",
      "current iteration is: 1.7e+03\n",
      "current time in seconds is: : 0.0255\n",
      "current iteration is: 1.70e+03\n",
      "current time in seconds is: : 0.0256\n",
      "current iteration is: 1.71e+03\n",
      "current time in seconds is: : 0.0257\n",
      "current iteration is: 1.72e+03\n",
      "current time in seconds is: : 0.0257\n",
      "current iteration is: 1.72e+03\n",
      "current time in seconds is: : 0.0258\n",
      "current iteration is: 1.72e+03\n",
      "current time in seconds is: : 0.0259\n",
      "current iteration is: 1.73e+03\n",
      "current time in seconds is: : 0.026\n",
      "current iteration is: 1.74e+03\n",
      "current time in seconds is: : 0.026\n",
      "current iteration is: 1.74e+03\n",
      "current time in seconds is: : 0.0261\n",
      "current iteration is: 1.74e+03\n",
      "current time in seconds is: : 0.0262\n",
      "current iteration is: 1.75e+03\n",
      "current time in seconds is: : 0.0263\n",
      "current iteration is: 1.76e+03\n",
      "current time in seconds is: : 0.0263\n",
      "current iteration is: 1.76e+03\n",
      "current time in seconds is: : 0.0264\n",
      "current iteration is: 1.76e+03\n",
      "current time in seconds is: : 0.0265\n",
      "current iteration is: 1.77e+03\n",
      "current time in seconds is: : 0.0266\n",
      "current iteration is: 1.78e+03\n",
      "current time in seconds is: : 0.0266\n",
      "current iteration is: 1.78e+03\n",
      "current time in seconds is: : 0.0267\n",
      "current iteration is: 1.78e+03\n",
      "current time in seconds is: : 0.0268\n",
      "current iteration is: 1.79e+03\n",
      "current time in seconds is: : 0.0269\n",
      "current iteration is: 1.8e+03\n",
      "current time in seconds is: : 0.0269\n",
      "current iteration is: 1.8e+03\n",
      "current time in seconds is: : 0.027\n",
      "current iteration is: 1.80e+03\n",
      "current time in seconds is: : 0.0271\n",
      "current iteration is: 1.81e+03\n",
      "current time in seconds is: : 0.0272\n",
      "current iteration is: 1.82e+03\n",
      "current time in seconds is: : 0.0272\n",
      "current iteration is: 1.82e+03\n",
      "current time in seconds is: : 0.0273\n",
      "current iteration is: 1.82e+03\n",
      "current time in seconds is: : 0.0274\n",
      "current iteration is: 1.83e+03\n",
      "current time in seconds is: : 0.0275\n",
      "current iteration is: 1.84e+03\n",
      "current time in seconds is: : 0.0275\n",
      "current iteration is: 1.84e+03\n",
      "current time in seconds is: : 0.0276\n",
      "current iteration is: 1.84e+03\n",
      "current time in seconds is: : 0.0277\n",
      "current iteration is: 1.85e+03\n",
      "current time in seconds is: : 0.0278\n",
      "current iteration is: 1.86e+03\n",
      "current time in seconds is: : 0.0278\n",
      "current iteration is: 1.86e+03\n",
      "current time in seconds is: : 0.0279\n",
      "current iteration is: 1.86e+03\n",
      "current time in seconds is: : 0.028\n",
      "current iteration is: 1.87e+03\n",
      "current time in seconds is: : 0.0281\n",
      "current iteration is: 1.88e+03\n",
      "current time in seconds is: : 0.0281\n",
      "current iteration is: 1.88e+03\n",
      "current time in seconds is: : 0.0282\n",
      "current iteration is: 1.88e+03\n",
      "current time in seconds is: : 0.0283\n",
      "current iteration is: 1.89e+03\n",
      "current time in seconds is: : 0.0284\n",
      "current iteration is: 1.9e+03\n",
      "current time in seconds is: : 0.0284\n",
      "current iteration is: 1.9e+03\n",
      "current time in seconds is: : 0.0285\n",
      "current iteration is: 1.90e+03\n",
      "current time in seconds is: : 0.0286\n",
      "current iteration is: 1.91e+03\n",
      "current time in seconds is: : 0.0287\n",
      "current iteration is: 1.92e+03\n",
      "current time in seconds is: : 0.0287\n",
      "current iteration is: 1.92e+03\n",
      "current time in seconds is: : 0.0288\n",
      "current iteration is: 1.92e+03\n",
      "current time in seconds is: : 0.0289\n",
      "current iteration is: 1.93e+03\n",
      "current time in seconds is: : 0.029\n",
      "current iteration is: 1.94e+03\n",
      "current time in seconds is: : 0.029\n",
      "current iteration is: 1.94e+03\n",
      "current time in seconds is: : 0.0291\n",
      "current iteration is: 1.94e+03\n",
      "current time in seconds is: : 0.0292\n",
      "current iteration is: 1.95e+03\n",
      "current time in seconds is: : 0.0293\n",
      "current iteration is: 1.96e+03\n",
      "current time in seconds is: : 0.0293\n",
      "current iteration is: 1.96e+03\n",
      "current time in seconds is: : 0.0294\n",
      "current iteration is: 1.96e+03\n",
      "current time in seconds is: : 0.0295\n",
      "current iteration is: 1.97e+03\n",
      "current time in seconds is: : 0.0296\n",
      "current iteration is: 1.98e+03\n",
      "current time in seconds is: : 0.0296\n",
      "current iteration is: 1.98e+03\n",
      "current time in seconds is: : 0.0297\n",
      "current iteration is: 1.98e+03\n",
      "current time in seconds is: : 0.0298\n",
      "current iteration is: 1.99e+03\n",
      "current time in seconds is: : 0.0299\n",
      "current iteration is: 2e+03\n",
      "current time in seconds is: : 0.0299\n",
      "current iteration is: 2e+03\n",
      "current time in seconds is: : 0.03\n"
     ]
    }
   ],
   "source": [
    "Ts, ps, us, rhos, c1s, c2s,\\\n",
    "nes,nos, econds,js,phis,ctime = get_solution(Tn.copy(), uxn.copy(), ptn.copy(),\\\n",
    "                                          rhon.copy(), cC.copy(), cHe.copy(),\\\n",
    "                                          econd.copy(), jn.copy(), pref.copy(),\\\n",
    "                                        Tref3.copy(),dx, dt,ne_field.copy())\n"
   ]
  },
  {
   "cell_type": "markdown",
   "metadata": {},
   "source": [
    "### Current Density"
   ]
  },
  {
   "cell_type": "code",
   "execution_count": 103,
   "metadata": {
    "collapsed": false
   },
   "outputs": [],
   "source": [
    "Aan = numpy.pi*(Ran**2)"
   ]
  },
  {
   "cell_type": "code",
   "execution_count": 104,
   "metadata": {
    "collapsed": false
   },
   "outputs": [
    {
     "data": {
      "text/plain": [
       "array([ 4.7213206,  4.7213206,  4.7213206,  4.7213206,  4.7213206,\n",
       "        4.7213206,  4.7213206,  4.7213206,  4.7213206,  4.7213206,\n",
       "        4.7213206,  4.7213206,  4.7213206,  4.7213206,  4.7213206,\n",
       "        4.7213206,  4.7213206,  4.7213206,  4.7213206,  4.7213206,\n",
       "        4.7213206,  4.7213206,  4.7213206,  4.7213206,  4.7213206])"
      ]
     },
     "execution_count": 104,
     "metadata": {},
     "output_type": "execute_result"
    }
   ],
   "source": [
    "js[-1][:25]*Aan"
   ]
  },
  {
   "cell_type": "code",
   "execution_count": 105,
   "metadata": {
    "collapsed": false
   },
   "outputs": [
    {
     "data": {
      "text/plain": [
       "array([ 4.79008737,  4.79008737,  4.79008737,  4.79008737,  4.79008737,\n",
       "        4.79008737,  4.79008737,  4.79008737,  4.79008737,  4.79008737,\n",
       "        4.79008737,  4.79008737,  4.79008737,  4.79008737,  4.79008737,\n",
       "        4.79008737,  4.79008737,  4.79008737,  4.79008737,  4.79008737,\n",
       "        4.79008737,  4.79008737,  4.79008737,  4.79008737,  4.79008737])"
      ]
     },
     "execution_count": 105,
     "metadata": {},
     "output_type": "execute_result"
    }
   ],
   "source": [
    "js[0][:25]*Aan"
   ]
  },
  {
   "cell_type": "markdown",
   "metadata": {},
   "source": [
    "### Temperature"
   ]
  },
  {
   "cell_type": "code",
   "execution_count": 106,
   "metadata": {
    "collapsed": false
   },
   "outputs": [
    {
     "data": {
      "text/plain": [
       "(400, 122)"
      ]
     },
     "execution_count": 106,
     "metadata": {},
     "output_type": "execute_result"
    }
   ],
   "source": [
    "numpy.shape(Ts)"
   ]
  },
  {
   "cell_type": "code",
   "execution_count": 107,
   "metadata": {
    "collapsed": false
   },
   "outputs": [
    {
     "data": {
      "text/plain": [
       "array([ 5446.35141201,  5446.35141201,  5140.66330116,  5482.40625665,\n",
       "        5457.58237993,  5700.82426666,  5783.50607435,  5996.34286981,\n",
       "        6143.4902508 ,  6358.40907801])"
      ]
     },
     "execution_count": 107,
     "metadata": {},
     "output_type": "execute_result"
    }
   ],
   "source": [
    "Ts[-1][:10]"
   ]
  },
  {
   "cell_type": "code",
   "execution_count": 108,
   "metadata": {
    "collapsed": false
   },
   "outputs": [
    {
     "data": {
      "text/plain": [
       "array([ 1394.77271028,  1394.77271028,  1394.7727082 ,  1394.77271033,\n",
       "        1394.77270935,  1394.77270914,  1394.77271021,  1394.77270877,\n",
       "        1394.77271013,  1394.77270913])"
      ]
     },
     "execution_count": 108,
     "metadata": {},
     "output_type": "execute_result"
    }
   ],
   "source": [
    "Ts[0][:10]"
   ]
  },
  {
   "cell_type": "code",
   "execution_count": 109,
   "metadata": {
    "collapsed": false
   },
   "outputs": [
    {
     "data": {
      "text/plain": [
       "array([ 4051.57870173,  4051.57870173,  3745.89059297,  4087.63354632,\n",
       "        4062.80967058,  4306.05155752,  4388.73336414,  4601.57016104,\n",
       "        4748.71754067,  4963.63636888])"
      ]
     },
     "execution_count": 109,
     "metadata": {},
     "output_type": "execute_result"
    }
   ],
   "source": [
    "Ts[-1][:10] - Ts[0][:10]"
   ]
  },
  {
   "cell_type": "markdown",
   "metadata": {},
   "source": [
    "### Density"
   ]
  },
  {
   "cell_type": "code",
   "execution_count": 110,
   "metadata": {
    "collapsed": false
   },
   "outputs": [
    {
     "data": {
      "text/plain": [
       "array([ 19.98451208,  19.99292147,  25.64113428,  20.72420704,\n",
       "        23.03727794,  19.83183677,  20.06940406,  17.71218897,\n",
       "        16.88854506,  14.95268077])"
      ]
     },
     "execution_count": 110,
     "metadata": {},
     "output_type": "execute_result"
    }
   ],
   "source": [
    "rhos[-1][:10]"
   ]
  },
  {
   "cell_type": "code",
   "execution_count": 111,
   "metadata": {
    "collapsed": false
   },
   "outputs": [
    {
     "data": {
      "text/plain": [
       "array([ 0.164     ,  0.16399998,  0.16400003,  0.16399998,  0.164     ,\n",
       "        0.16400001,  0.16399998,  0.16400002,  0.16399999,  0.16400001])"
      ]
     },
     "execution_count": 111,
     "metadata": {},
     "output_type": "execute_result"
    }
   ],
   "source": [
    "rhos[0][:10]"
   ]
  },
  {
   "cell_type": "markdown",
   "metadata": {},
   "source": [
    "### Concentrations of Species"
   ]
  },
  {
   "cell_type": "markdown",
   "metadata": {},
   "source": [
    "##### Carbon"
   ]
  },
  {
   "cell_type": "code",
   "execution_count": 112,
   "metadata": {
    "collapsed": false
   },
   "outputs": [
    {
     "data": {
      "text/plain": [
       "array([ 0.41441983,  0.36364326,  0.50121619,  0.53010233,  0.6113299 ,\n",
       "        0.6617125 ,  0.71004082,  0.743671  ,  0.75738933,  0.75830365,\n",
       "        0.73930183,  0.71035298,  0.66868602,  0.62243126,  0.5710135 ,\n",
       "        0.52004777,  0.46887242,  0.42102318,  0.37513108,  0.33322754,\n",
       "        0.29351315,  0.25693488,  0.22174199,  0.18818202,  0.15541114])"
      ]
     },
     "execution_count": 112,
     "metadata": {},
     "output_type": "execute_result"
    }
   ],
   "source": [
    "c1s[-1][:25] #carbon"
   ]
  },
  {
   "cell_type": "code",
   "execution_count": 113,
   "metadata": {
    "collapsed": false
   },
   "outputs": [
    {
     "data": {
      "text/plain": [
       "array([  6.73007734e-20,   1.26811705e-20,   1.26811704e-20,\n",
       "         1.26666856e-20,   1.26666856e-20,   1.26666833e-20,\n",
       "         1.26666833e-20,   1.26666833e-20,   1.26666833e-20,\n",
       "         1.26666833e-20,   1.26666833e-20,   1.26666833e-20,\n",
       "         1.26666833e-20,   1.26666833e-20,   1.26666833e-20,\n",
       "         1.26666833e-20,   1.26666833e-20,   1.26666833e-20,\n",
       "         1.26666833e-20,   1.26666833e-20,   1.26666833e-20,\n",
       "         1.26666833e-20,   1.26666833e-20,   1.26666833e-20,\n",
       "         1.26666833e-20])"
      ]
     },
     "execution_count": 113,
     "metadata": {},
     "output_type": "execute_result"
    }
   ],
   "source": [
    "c1s[0][:25] #carbon"
   ]
  },
  {
   "cell_type": "markdown",
   "metadata": {},
   "source": [
    "##### Helium"
   ]
  },
  {
   "cell_type": "code",
   "execution_count": 114,
   "metadata": {
    "collapsed": false
   },
   "outputs": [
    {
     "data": {
      "text/plain": [
       "array([ 0.58558017,  0.63635674,  0.49878381,  0.46989767,  0.3886701 ,\n",
       "        0.3382875 ,  0.28995918,  0.256329  ,  0.24261067,  0.24169635,\n",
       "        0.26069817,  0.28964702,  0.33131398,  0.37756874,  0.4289865 ,\n",
       "        0.47995223,  0.53112758,  0.57897682,  0.62486892,  0.66677246,\n",
       "        0.70648685,  0.74306512,  0.77825801,  0.81181798,  0.84458886])"
      ]
     },
     "execution_count": 114,
     "metadata": {},
     "output_type": "execute_result"
    }
   ],
   "source": [
    "c2s[-1][:25]"
   ]
  },
  {
   "cell_type": "code",
   "execution_count": 115,
   "metadata": {
    "collapsed": false
   },
   "outputs": [
    {
     "data": {
      "text/plain": [
       "array([ 1.,  1.,  1.,  1.,  1.,  1.,  1.,  1.,  1.,  1.,  1.,  1.,  1.,\n",
       "        1.,  1.,  1.,  1.,  1.,  1.,  1.,  1.,  1.,  1.,  1.,  1.])"
      ]
     },
     "execution_count": 115,
     "metadata": {},
     "output_type": "execute_result"
    }
   ],
   "source": [
    "c2s[0][:25]"
   ]
  },
  {
   "cell_type": "markdown",
   "metadata": {},
   "source": [
    "### Pressure"
   ]
  },
  {
   "cell_type": "code",
   "execution_count": 116,
   "metadata": {
    "collapsed": false
   },
   "outputs": [
    {
     "data": {
      "text/plain": [
       "array([ 102195.72221213,  102195.72221223,  102195.72179738,\n",
       "        102195.72233064,  102195.72228546,  102195.72352092,\n",
       "        102195.72439581,  102195.72819339,  102195.73341064,\n",
       "        102195.74735757])"
      ]
     },
     "execution_count": 116,
     "metadata": {},
     "output_type": "execute_result"
    }
   ],
   "source": [
    "ps[-1][:10]"
   ]
  },
  {
   "cell_type": "code",
   "execution_count": 117,
   "metadata": {
    "collapsed": false
   },
   "outputs": [
    {
     "data": {
      "text/plain": [
       "array([ 102195.72168305,  102195.72168305,  102195.72168305,\n",
       "        102195.72168305,  102195.72168305,  102195.72168305,\n",
       "        102195.72168305,  102195.72168305,  102195.72168305,\n",
       "        102195.72168305])"
      ]
     },
     "execution_count": 117,
     "metadata": {},
     "output_type": "execute_result"
    }
   ],
   "source": [
    "ps[0][:10]"
   ]
  },
  {
   "cell_type": "markdown",
   "metadata": {},
   "source": [
    "### Velocity"
   ]
  },
  {
   "cell_type": "code",
   "execution_count": 118,
   "metadata": {
    "collapsed": false
   },
   "outputs": [
    {
     "data": {
      "text/plain": [
       "array([ 0.01016139,  0.01016139,  0.00992931,  0.00952626,  0.00946556,\n",
       "        0.00889241,  0.00900302,  0.0082611 ,  0.00854249,  0.00763362,\n",
       "        0.00808477,  0.0070112 ,  0.00763066,  0.0063951 ,  0.00718093,\n",
       "        0.00578653,  0.00673635,  0.00518671,  0.00629768,  0.00459681,\n",
       "        0.00586566,  0.00401798,  0.00544099,  0.00345135,  0.0050244 ])"
      ]
     },
     "execution_count": 118,
     "metadata": {},
     "output_type": "execute_result"
    }
   ],
   "source": [
    "us[-1][:25]"
   ]
  },
  {
   "cell_type": "code",
   "execution_count": 119,
   "metadata": {
    "collapsed": false
   },
   "outputs": [
    {
     "data": {
      "text/plain": [
       "array([  8.33017907e-22,   8.33017907e-22,   2.44963553e-07,\n",
       "        -4.26359954e-07,   5.05346537e-07,  -4.80330128e-07,\n",
       "         3.82043294e-07,  -2.55761218e-07,   1.41288562e-07,\n",
       "        -6.04770698e-08,   1.59948415e-08,   1.64165462e-09,\n",
       "        -4.94336173e-09,   3.30846190e-09,  -1.38724242e-09,\n",
       "         3.90779893e-10,  -7.04729089e-11,   7.21725037e-12,\n",
       "        -4.56269887e-14,   1.52340729e-15,   0.00000000e+00,\n",
       "         0.00000000e+00,   0.00000000e+00,   0.00000000e+00,\n",
       "         0.00000000e+00])"
      ]
     },
     "execution_count": 119,
     "metadata": {},
     "output_type": "execute_result"
    }
   ],
   "source": [
    "us[0][:25]"
   ]
  },
  {
   "cell_type": "markdown",
   "metadata": {},
   "source": [
    "### Electrical Conductivity"
   ]
  },
  {
   "cell_type": "code",
   "execution_count": 120,
   "metadata": {
    "collapsed": false
   },
   "outputs": [
    {
     "data": {
      "text/plain": [
       "array([ 59.13606397,  59.13606397,  59.13606397,  59.13606397,\n",
       "        59.13606397,  59.13606397,  59.13606397,  59.13606397,\n",
       "        59.13606397,  59.13606397])"
      ]
     },
     "execution_count": 120,
     "metadata": {},
     "output_type": "execute_result"
    }
   ],
   "source": [
    "econds[-1][:10]"
   ]
  },
  {
   "cell_type": "code",
   "execution_count": 121,
   "metadata": {
    "collapsed": false
   },
   "outputs": [
    {
     "data": {
      "text/plain": [
       "array([ 59.99739006,  59.99739006,  59.99739006,  59.99739006,\n",
       "        59.99739006,  59.99739006,  59.99739006,  59.99739006,\n",
       "        59.99739006,  59.99739006])"
      ]
     },
     "execution_count": 121,
     "metadata": {},
     "output_type": "execute_result"
    }
   ],
   "source": [
    "econds[0][:10]"
   ]
  },
  {
   "cell_type": "markdown",
   "metadata": {},
   "source": [
    "### Number Density of Electrons"
   ]
  },
  {
   "cell_type": "code",
   "execution_count": 122,
   "metadata": {
    "collapsed": false
   },
   "outputs": [
    {
     "data": {
      "text/plain": [
       "array([  7.18947513e+15,   7.19098762e+15,   1.64264955e+15,\n",
       "         8.74053447e+15,   8.15900316e+15,   2.38600845e+16,\n",
       "         3.46990608e+16,   8.03863849e+16,   1.41324207e+17,\n",
       "         2.99121900e+17,   5.72410098e+17,   1.16515025e+18,\n",
       "         2.29357230e+18,   4.52990117e+18,   8.82941681e+18,\n",
       "         1.68210762e+19,   3.16257138e+19,   5.76795663e+19,\n",
       "         1.03218353e+20,   1.79096603e+20,   3.04438381e+20,\n",
       "         5.00380937e+20,   8.07294987e+20,   1.24253729e+21,\n",
       "         1.86022376e+21])"
      ]
     },
     "execution_count": 122,
     "metadata": {},
     "output_type": "execute_result"
    }
   ],
   "source": [
    "nes[-1][:25]"
   ]
  },
  {
   "cell_type": "code",
   "execution_count": 123,
   "metadata": {
    "collapsed": false
   },
   "outputs": [
    {
     "data": {
      "text/plain": [
       "array([ 1000000.,  1000000.,  1000000.,  1000000.,  1000000.,  1000000.,\n",
       "        1000000.,  1000000.,  1000000.,  1000000.,  1000000.,  1000000.,\n",
       "        1000000.,  1000000.,  1000000.,  1000000.,  1000000.,  1000000.,\n",
       "        1000000.,  1000000.,  1000000.,  1000000.,  1000000.,  1000000.,\n",
       "        1000000.])"
      ]
     },
     "execution_count": 123,
     "metadata": {},
     "output_type": "execute_result"
    }
   ],
   "source": [
    "nes[0][:25]"
   ]
  },
  {
   "cell_type": "markdown",
   "metadata": {},
   "source": [
    "### Electric Potential"
   ]
  },
  {
   "cell_type": "code",
   "execution_count": 124,
   "metadata": {
    "collapsed": false
   },
   "outputs": [
    {
     "data": {
      "text/plain": [
       "array([  1.26305615e-05,   1.26305615e-05,   8.40461379e-02,\n",
       "         1.68079645e-01,   2.52113152e-01,   3.36146660e-01,\n",
       "         4.20180167e-01,   5.04213674e-01,   5.88247182e-01,\n",
       "         6.72280689e-01,   7.56314196e-01,   8.40347704e-01,\n",
       "         9.24381211e-01,   1.00841472e+00,   1.09244823e+00,\n",
       "         1.17648173e+00,   1.26051524e+00,   1.34454875e+00,\n",
       "         1.42858225e+00,   1.51261576e+00,   1.59664927e+00,\n",
       "         1.68068278e+00,   1.76471628e+00,   1.84874979e+00,\n",
       "         1.93278330e+00,   2.01681681e+00,   2.10085031e+00,\n",
       "         2.18488382e+00,   2.26891733e+00,   2.35295084e+00,\n",
       "         2.43698434e+00,   2.52101785e+00,   2.60505136e+00,\n",
       "         2.68908486e+00,   2.77311837e+00,   2.85715188e+00,\n",
       "         2.94118539e+00,   3.02521889e+00,   3.10925240e+00,\n",
       "         3.19328591e+00,   3.27731942e+00,   3.36135292e+00,\n",
       "         3.44538643e+00,   3.52941994e+00,   3.61345344e+00,\n",
       "         3.69748695e+00,   3.78152046e+00,   3.86555397e+00,\n",
       "         3.94958747e+00,   4.03362098e+00,   4.11765449e+00,\n",
       "         4.20168800e+00,   4.28572150e+00,   4.36975501e+00,\n",
       "         4.45378852e+00,   4.53782203e+00,   4.62185553e+00,\n",
       "         4.70588904e+00,   4.78992255e+00,   4.87395605e+00,\n",
       "         4.95798956e+00,   5.04202307e+00,   5.12605658e+00,\n",
       "         5.21009008e+00,   5.29412359e+00,   5.37815710e+00,\n",
       "         5.46219061e+00,   5.54622411e+00,   5.63025762e+00,\n",
       "         5.71429113e+00,   5.79832463e+00,   5.88235814e+00,\n",
       "         5.96639165e+00,   6.05042516e+00,   6.13445866e+00,\n",
       "         6.21849217e+00,   6.30252568e+00,   6.38655919e+00,\n",
       "         6.47059269e+00,   6.55462620e+00,   6.63865971e+00,\n",
       "         6.72269322e+00,   6.80672672e+00,   6.89076023e+00,\n",
       "         6.97479374e+00,   7.05882724e+00,   7.14286075e+00,\n",
       "         7.22689426e+00,   7.31092777e+00,   7.39496127e+00,\n",
       "         7.47899478e+00,   7.56302829e+00,   7.64706180e+00,\n",
       "         7.73109530e+00,   7.81512881e+00,   7.89916232e+00,\n",
       "         7.98319582e+00,   8.06722933e+00,   8.15126284e+00,\n",
       "         8.23529635e+00,   8.31932985e+00,   8.40336336e+00,\n",
       "         8.48739687e+00,   8.57143038e+00,   8.65546388e+00,\n",
       "         8.73949739e+00,   8.82353090e+00,   8.90756441e+00,\n",
       "         8.99159791e+00,   9.07563142e+00,   9.15966493e+00,\n",
       "         9.24369843e+00,   9.32773194e+00,   9.41176545e+00,\n",
       "         9.49579896e+00,   9.57983246e+00,   9.66386597e+00,\n",
       "         9.74789948e+00,   9.83193299e+00,   9.91596649e+00,\n",
       "         1.00000000e+01,   1.00000000e+01])"
      ]
     },
     "execution_count": 124,
     "metadata": {},
     "output_type": "execute_result"
    }
   ],
   "source": [
    "phis[-1]"
   ]
  },
  {
   "cell_type": "code",
   "execution_count": 125,
   "metadata": {
    "collapsed": false
   },
   "outputs": [
    {
     "data": {
      "text/plain": [
       "array([  1.26305615e-05,   1.26305615e-05,   8.40461379e-02,\n",
       "         1.68079645e-01,   2.52113152e-01,   3.36146660e-01,\n",
       "         4.20180167e-01,   5.04213674e-01,   5.88247182e-01,\n",
       "         6.72280689e-01,   7.56314196e-01,   8.40347704e-01,\n",
       "         9.24381211e-01,   1.00841472e+00,   1.09244823e+00,\n",
       "         1.17648173e+00,   1.26051524e+00,   1.34454875e+00,\n",
       "         1.42858225e+00,   1.51261576e+00,   1.59664927e+00,\n",
       "         1.68068278e+00,   1.76471628e+00,   1.84874979e+00,\n",
       "         1.93278330e+00,   2.01681681e+00,   2.10085031e+00,\n",
       "         2.18488382e+00,   2.26891733e+00,   2.35295084e+00,\n",
       "         2.43698434e+00,   2.52101785e+00,   2.60505136e+00,\n",
       "         2.68908486e+00,   2.77311837e+00,   2.85715188e+00,\n",
       "         2.94118539e+00,   3.02521889e+00,   3.10925240e+00,\n",
       "         3.19328591e+00,   3.27731942e+00,   3.36135292e+00,\n",
       "         3.44538643e+00,   3.52941994e+00,   3.61345344e+00,\n",
       "         3.69748695e+00,   3.78152046e+00,   3.86555397e+00,\n",
       "         3.94958747e+00,   4.03362098e+00,   4.11765449e+00,\n",
       "         4.20168800e+00,   4.28572150e+00,   4.36975501e+00,\n",
       "         4.45378852e+00,   4.53782203e+00,   4.62185553e+00,\n",
       "         4.70588904e+00,   4.78992255e+00,   4.87395605e+00,\n",
       "         4.95798956e+00,   5.04202307e+00,   5.12605658e+00,\n",
       "         5.21009008e+00,   5.29412359e+00,   5.37815710e+00,\n",
       "         5.46219061e+00,   5.54622411e+00,   5.63025762e+00,\n",
       "         5.71429113e+00,   5.79832463e+00,   5.88235814e+00,\n",
       "         5.96639165e+00,   6.05042516e+00,   6.13445866e+00,\n",
       "         6.21849217e+00,   6.30252568e+00,   6.38655919e+00,\n",
       "         6.47059269e+00,   6.55462620e+00,   6.63865971e+00,\n",
       "         6.72269322e+00,   6.80672672e+00,   6.89076023e+00,\n",
       "         6.97479374e+00,   7.05882724e+00,   7.14286075e+00,\n",
       "         7.22689426e+00,   7.31092777e+00,   7.39496127e+00,\n",
       "         7.47899478e+00,   7.56302829e+00,   7.64706180e+00,\n",
       "         7.73109530e+00,   7.81512881e+00,   7.89916232e+00,\n",
       "         7.98319582e+00,   8.06722933e+00,   8.15126284e+00,\n",
       "         8.23529635e+00,   8.31932985e+00,   8.40336336e+00,\n",
       "         8.48739687e+00,   8.57143038e+00,   8.65546388e+00,\n",
       "         8.73949739e+00,   8.82353090e+00,   8.90756441e+00,\n",
       "         8.99159791e+00,   9.07563142e+00,   9.15966493e+00,\n",
       "         9.24369843e+00,   9.32773194e+00,   9.41176545e+00,\n",
       "         9.49579896e+00,   9.57983246e+00,   9.66386597e+00,\n",
       "         9.74789948e+00,   9.83193299e+00,   9.91596649e+00,\n",
       "         1.00000000e+01,   1.00000000e+01])"
      ]
     },
     "execution_count": 125,
     "metadata": {},
     "output_type": "execute_result"
    }
   ],
   "source": [
    "phis[0]"
   ]
  },
  {
   "cell_type": "markdown",
   "metadata": {},
   "source": [
    "### Post-Processing"
   ]
  },
  {
   "cell_type": "code",
   "execution_count": 126,
   "metadata": {
    "collapsed": true
   },
   "outputs": [],
   "source": [
    "from matplotlib.ticker import MultipleLocator, FormatStrFormatter"
   ]
  },
  {
   "cell_type": "code",
   "execution_count": 127,
   "metadata": {
    "collapsed": true
   },
   "outputs": [],
   "source": [
    "def plot(v1, v2, xlabl, ylabl, title):\n",
    "    #\n",
    "    pyplot.figure(figsize=(8,8))\n",
    "    pyplot.grid(True)\n",
    "    #\n",
    "    pyplot.xlabel(xlabl, fontsize=18)\n",
    "    pyplot.ylabel(ylabl, fontsize=18)\n",
    "    #\n",
    "    pyplot.tick_params(axis='x', pad=10, labelbottom='off')\n",
    "    pyplot.tick_params(axis='y', pad=10)\n",
    "    #\n",
    "    pyplot.title(title)\n",
    "    pyplot.plot(v1,v2, color='k', ls='--', lw=2, marker='o');"
   ]
  },
  {
   "cell_type": "markdown",
   "metadata": {},
   "source": [
    "## starting time"
   ]
  },
  {
   "cell_type": "code",
   "execution_count": 128,
   "metadata": {
    "collapsed": false
   },
   "outputs": [
    {
     "data": {
      "image/png": "[encoded data removed]",
      "text/plain": [
       "<matplotlib.figure.Figure at 0x1142c6710>"
      ]
     },
     "metadata": {},
     "output_type": "display_data"
    }
   ],
   "source": [
    "plot( xc,phis[0][1:-1], 'grid location [m]','electric potential',  'time= 9e-5 sec')"
   ]
  },
  {
   "cell_type": "code",
   "execution_count": 129,
   "metadata": {
    "collapsed": false
   },
   "outputs": [
    {
     "data": {
      "image/png": "[encoded data removed]",
      "text/plain": [
       "<matplotlib.figure.Figure at 0x10fc77eb8>"
      ]
     },
     "metadata": {},
     "output_type": "display_data"
    }
   ],
   "source": [
    "plot( xc, numpy.round(js[0][1:-1], decimals=4), 'grid location [m]','current density',  'time= 9e-5 sec')"
   ]
  },
  {
   "cell_type": "code",
   "execution_count": 130,
   "metadata": {
    "collapsed": false
   },
   "outputs": [
    {
     "data": {
      "image/png": "[encoded data removed]",
      "text/plain": [
       "<matplotlib.figure.Figure at 0x111735208>"
      ]
     },
     "metadata": {},
     "output_type": "display_data"
    }
   ],
   "source": [
    "plot( xc, numpy.round(rhos[0][1:-1], decimals=4), 'grid location [m]','density [kg/m3]',  'time= 9e-5 sec')"
   ]
  },
  {
   "cell_type": "code",
   "execution_count": 131,
   "metadata": {
    "collapsed": false
   },
   "outputs": [
    {
     "data": {
      "image/png": "[encoded data removed]",
      "text/plain": [
       "<matplotlib.figure.Figure at 0x1114278d0>"
      ]
     },
     "metadata": {},
     "output_type": "display_data"
    }
   ],
   "source": [
    "plot( xc,numpy.round(Ts[0][1:-1], decimals=4), 'grid location [m]','Temperature [K]',  'time= 9e-5 sec')"
   ]
  },
  {
   "cell_type": "code",
   "execution_count": 132,
   "metadata": {
    "collapsed": false
   },
   "outputs": [
    {
     "data": {
      "image/png": "[encoded data removed]",
      "text/plain": [
       "<matplotlib.figure.Figure at 0x1144c5828>"
      ]
     },
     "metadata": {},
     "output_type": "display_data"
    }
   ],
   "source": [
    "plot( xb,numpy.round(us[0][1:-1], decimals=20), 'grid location [m]','velocity [m/s]',  'time= 9e-5 sec')"
   ]
  },
  {
   "cell_type": "code",
   "execution_count": 133,
   "metadata": {
    "collapsed": false
   },
   "outputs": [
    {
     "data": {
      "image/png": "[encoded data removed]",
      "text/plain": [
       "<matplotlib.figure.Figure at 0x114f8b518>"
      ]
     },
     "metadata": {},
     "output_type": "display_data"
    }
   ],
   "source": [
    "plot( xc,ps[0][1:-1], 'grid location [m]','pressure [Pa]',  'time=9e-5 sec')"
   ]
  },
  {
   "cell_type": "markdown",
   "metadata": {},
   "source": [
    "## intermediate time"
   ]
  },
  {
   "cell_type": "code",
   "execution_count": 134,
   "metadata": {
    "collapsed": true
   },
   "outputs": [],
   "source": [
    "test = numpy.zeros_like(Ts)\n",
    "array_size = numpy.size(test[:,0])\n",
    "mid_time = int(array_size/2)"
   ]
  },
  {
   "cell_type": "code",
   "execution_count": 135,
   "metadata": {
    "collapsed": false
   },
   "outputs": [
    {
     "data": {
      "text/plain": [
       "0.015089999999999751"
      ]
     },
     "execution_count": 135,
     "metadata": {},
     "output_type": "execute_result"
    }
   ],
   "source": [
    "ctime[mid_time]"
   ]
  },
  {
   "cell_type": "code",
   "execution_count": 136,
   "metadata": {
    "collapsed": false
   },
   "outputs": [
    {
     "data": {
      "image/png": "[encoded data removed]",
      "text/plain": [
       "<matplotlib.figure.Figure at 0x114fdb128>"
      ]
     },
     "metadata": {},
     "output_type": "display_data"
    }
   ],
   "source": [
    "plot( xc,phis[mid_time][1:-1], 'grid location [m]','electric potential',  'time=  sec')"
   ]
  },
  {
   "cell_type": "code",
   "execution_count": 137,
   "metadata": {
    "collapsed": false
   },
   "outputs": [
    {
     "data": {
      "image/png": "[encoded data removed]",
      "text/plain": [
       "<matplotlib.figure.Figure at 0x114ffb860>"
      ]
     },
     "metadata": {},
     "output_type": "display_data"
    }
   ],
   "source": [
    "plot( xc,numpy.round(js[mid_time][1:-1]), 'grid location [m]','current density',  'time=  sec')"
   ]
  },
  {
   "cell_type": "code",
   "execution_count": 138,
   "metadata": {
    "collapsed": false
   },
   "outputs": [
    {
     "data": {
      "image/png": "[encoded data removed]",
      "text/plain": [
       "<matplotlib.figure.Figure at 0x1144a27f0>"
      ]
     },
     "metadata": {},
     "output_type": "display_data"
    }
   ],
   "source": [
    "plot( xc,numpy.round(rhos[mid_time][1:-1],decimals=10), 'grid location [m]','density [kg/m3]',  'time= sec')"
   ]
  },
  {
   "cell_type": "code",
   "execution_count": 139,
   "metadata": {
    "collapsed": false
   },
   "outputs": [
    {
     "data": {
      "image/png": "[encoded data removed]",
      "text/plain": [
       "<matplotlib.figure.Figure at 0x11171c668>"
      ]
     },
     "metadata": {},
     "output_type": "display_data"
    }
   ],
   "source": [
    "plot( xc,numpy.round(Ts[mid_time][1:-1],decimals=10), 'grid location [m]','Temperature [K]',  'time= sec')"
   ]
  },
  {
   "cell_type": "code",
   "execution_count": 140,
   "metadata": {
    "collapsed": false
   },
   "outputs": [
    {
     "data": {
      "image/png": "[encoded data removed]",
      "text/plain": [
       "<matplotlib.figure.Figure at 0x1116cf198>"
      ]
     },
     "metadata": {},
     "output_type": "display_data"
    }
   ],
   "source": [
    "plot( xb,numpy.round(us[mid_time][1:-1], decimals=10), 'grid location [m]','velocity [m/s]',  'time= sec')"
   ]
  },
  {
   "cell_type": "code",
   "execution_count": 141,
   "metadata": {
    "collapsed": false
   },
   "outputs": [
    {
     "data": {
      "image/png": "[encoded data removed]",
      "text/plain": [
       "<matplotlib.figure.Figure at 0x114488828>"
      ]
     },
     "metadata": {},
     "output_type": "display_data"
    }
   ],
   "source": [
    "plot( xc,ps[mid_time][1:-1], 'grid location [m]','Pressure [Pa]',  'time= sec')"
   ]
  },
  {
   "cell_type": "code",
   "execution_count": 142,
   "metadata": {
    "collapsed": false
   },
   "outputs": [
    {
     "data": {
      "image/png": "[encoded data removed]",
      "text/plain": [
       "<matplotlib.figure.Figure at 0x10fd078d0>"
      ]
     },
     "metadata": {},
     "output_type": "display_data"
    }
   ],
   "source": [
    "plot( xc,nes[mid_time][1:-1], 'grid location [m]','electrons',  'time= sec')"
   ]
  },
  {
   "cell_type": "code",
   "execution_count": 143,
   "metadata": {
    "collapsed": false
   },
   "outputs": [
    {
     "data": {
      "image/png": "[encoded data removed]",
      "text/plain": [
       "<matplotlib.figure.Figure at 0x11529b438>"
      ]
     },
     "metadata": {},
     "output_type": "display_data"
    }
   ],
   "source": [
    "plot( xc, numpy.round(nos[mid_time][1:-1], decimals=25), 'grid location [m]','neutrals',  'time= sec')"
   ]
  },
  {
   "cell_type": "code",
   "execution_count": 144,
   "metadata": {
    "collapsed": false
   },
   "outputs": [
    {
     "data": {
      "image/png": "[encoded data removed]",
      "text/plain": [
       "<matplotlib.figure.Figure at 0x115cbf780>"
      ]
     },
     "metadata": {},
     "output_type": "display_data"
    }
   ],
   "source": [
    "plot( xc,econds[mid_time][1:-1], 'grid location [m]','electrical conductivity',  'time= sec')"
   ]
  },
  {
   "cell_type": "markdown",
   "metadata": {},
   "source": [
    "## final time"
   ]
  },
  {
   "cell_type": "code",
   "execution_count": 145,
   "metadata": {
    "collapsed": false
   },
   "outputs": [
    {
     "data": {
      "text/plain": [
       "(400, 122)"
      ]
     },
     "execution_count": 145,
     "metadata": {},
     "output_type": "execute_result"
    }
   ],
   "source": [
    "numpy.shape(phis)"
   ]
  },
  {
   "cell_type": "code",
   "execution_count": 146,
   "metadata": {
    "collapsed": false
   },
   "outputs": [
    {
     "data": {
      "image/png": "[encoded data removed]",
      "text/plain": [
       "<matplotlib.figure.Figure at 0x115d1d668>"
      ]
     },
     "metadata": {},
     "output_type": "display_data"
    }
   ],
   "source": [
    "plot( xc,phis[-1][1:-1], 'grid location [m]','electric potential',  'time=  sec')"
   ]
  },
  {
   "cell_type": "code",
   "execution_count": 147,
   "metadata": {
    "collapsed": false
   },
   "outputs": [
    {
     "data": {
      "image/png": "[encoded data removed]",
      "text/plain": [
       "<matplotlib.figure.Figure at 0x116020cf8>"
      ]
     },
     "metadata": {},
     "output_type": "display_data"
    }
   ],
   "source": [
    "plot( xc, numpy.round(js[-1][1:-1]), 'grid location [m]','current density',  'time=  sec')"
   ]
  },
  {
   "cell_type": "code",
   "execution_count": 148,
   "metadata": {
    "collapsed": false
   },
   "outputs": [
    {
     "data": {
      "image/png": "[encoded data removed]",
      "text/plain": [
       "<matplotlib.figure.Figure at 0x116278400>"
      ]
     },
     "metadata": {},
     "output_type": "display_data"
    }
   ],
   "source": [
    "plot( xc,numpy.round(rhos[-1][1:-1], decimals=10), 'grid location [m]','density [kg/m3]',  'time= sec')"
   ]
  },
  {
   "cell_type": "code",
   "execution_count": 149,
   "metadata": {
    "collapsed": false
   },
   "outputs": [
    {
     "data": {
      "image/png": "[encoded data removed]",
      "text/plain": [
       "<matplotlib.figure.Figure at 0x116057080>"
      ]
     },
     "metadata": {},
     "output_type": "display_data"
    }
   ],
   "source": [
    "plot( xc,numpy.round(Ts[-1][1:-1],decimals=4), 'grid location [m]','Temperature [K]',  'time= sec')"
   ]
  },
  {
   "cell_type": "code",
   "execution_count": 150,
   "metadata": {
    "collapsed": false
   },
   "outputs": [
    {
     "data": {
      "image/png": "[encoded data removed]",
      "text/plain": [
       "<matplotlib.figure.Figure at 0x1144982e8>"
      ]
     },
     "metadata": {},
     "output_type": "display_data"
    }
   ],
   "source": [
    "plot( xb,numpy.round(us[-1][1:-1],decimals=10), 'grid location in meters','velocity m/s',  'time= sec')"
   ]
  },
  {
   "cell_type": "code",
   "execution_count": 151,
   "metadata": {
    "collapsed": false
   },
   "outputs": [
    {
     "data": {
      "image/png": "[encoded data removed]",
      "text/plain": [
       "<matplotlib.figure.Figure at 0x10fcb30b8>"
      ]
     },
     "metadata": {},
     "output_type": "display_data"
    }
   ],
   "source": [
    "plot( xc,numpy.round(ps[-1][1:-1]), 'grid location [m]','Pressure [Pa]',  'time= sec')"
   ]
  },
  {
   "cell_type": "code",
   "execution_count": 152,
   "metadata": {
    "collapsed": false
   },
   "outputs": [
    {
     "data": {
      "image/png": "[encoded data removed]",
      "text/plain": [
       "<matplotlib.figure.Figure at 0x1116c7e80>"
      ]
     },
     "metadata": {},
     "output_type": "display_data"
    }
   ],
   "source": [
    "plot( xc,nes[-1][1:-1], 'grid location [m]','electrons',  'time= sec')"
   ]
  },
  {
   "cell_type": "code",
   "execution_count": 153,
   "metadata": {
    "collapsed": false
   },
   "outputs": [
    {
     "data": {
      "image/png": "[encoded data removed]",
      "text/plain": [
       "<matplotlib.figure.Figure at 0x11624a240>"
      ]
     },
     "metadata": {},
     "output_type": "display_data"
    }
   ],
   "source": [
    "plot( xc,econds[-1][1:-1], 'grid location [m]','electrical conductivity',  'time= sec')"
   ]
  },
  {
   "cell_type": "code",
   "execution_count": 154,
   "metadata": {
    "collapsed": false
   },
   "outputs": [
    {
     "data": {
      "image/png": "[encoded data removed]",
      "text/plain": [
       "<matplotlib.figure.Figure at 0x1144a6f60>"
      ]
     },
     "metadata": {},
     "output_type": "display_data"
    }
   ],
   "source": [
    "plot( xc,numpy.round(nos[-1][1:-1]), 'grid location [m]','neutrals',  'time= sec')"
   ]
  },
  {
   "cell_type": "markdown",
   "metadata": {},
   "source": [
    "## Animation"
   ]
  },
  {
   "cell_type": "code",
   "execution_count": 155,
   "metadata": {
    "collapsed": false
   },
   "outputs": [
    {
     "name": "stderr",
     "output_type": "stream",
     "text": [
      "WARNING:py.warnings:/Users/Luis/anaconda/lib/python3.4/site-packages/skimage/filter/__init__.py:6: skimage_deprecation: The `skimage.filter` module has been renamed to `skimage.filters`.  This placeholder module will be removed in v0.13.\n",
      "  warn(skimage_deprecation('The `skimage.filter` module has been renamed '\n",
      "\n"
     ]
    }
   ],
   "source": [
    "from matplotlib import animation\n",
    "from JSAnimation import IPython_display\n",
    "from JSAnimation.IPython_display import display_animation\n",
    "from moviepy.editor import *\n",
    "\n",
    "import pylab \n",
    "import types"
   ]
  },
  {
   "cell_type": "code",
   "execution_count": 174,
   "metadata": {
    "collapsed": false
   },
   "outputs": [],
   "source": [
    "time_domain = numpy.size(ctime)\n",
    "space_domain = numpy.size(xb)\n",
    "space_domain2 = numpy.size(xc)\n",
    "US = numpy.zeros((time_domain, space_domain), dtype=float)\n",
    "TS = numpy.zeros((time_domain, space_domain2), dtype=float)\n",
    "NES = numpy.zeros((time_domain, space_domain2), dtype=float)\n",
    "RHOS = numpy.zeros((time_domain, space_domain2), dtype=float)\n",
    "#\n",
    "for i in range(time_domain):\n",
    "    US[i,:] = us[i][1:-1]\n",
    "    TS[i,:] = Ts[i][1:-1]\n",
    "    NES[i,:] = nes[i][1:-1]\n",
    "    RHOS[i,:] = rhos[i][1:-1]"
   ]
  },
  {
   "cell_type": "code",
   "execution_count": 175,
   "metadata": {
    "collapsed": false
   },
   "outputs": [
    {
     "data": {
      "image/png": "[encoded data removed]",
      "text/plain": [
       "<matplotlib.figure.Figure at 0x11823d160>"
      ]
     },
     "metadata": {},
     "output_type": "display_data"
    }
   ],
   "source": [
    "fig = pyplot.figure(figsize=(8,5))\n",
    "ax = pyplot.axes()\n",
    "im = ax.plot([], [], color='b', ls='--', lw=3)"
   ]
  },
  {
   "cell_type": "code",
   "execution_count": 176,
   "metadata": {
    "collapsed": true
   },
   "outputs": [],
   "source": [
    "def animate(data):\n",
    "    im = ax.plot(xb,data, color='b', ls='--', lw=3)\n",
    "    return im"
   ]
  },
  {
   "cell_type": "code",
   "execution_count": 177,
   "metadata": {
    "collapsed": true
   },
   "outputs": [],
   "source": [
    "def animate2(data):\n",
    "    im = ax.plot(xc,data, color='b', ls='--', lw=3)\n",
    "    return im"
   ]
  },
  {
   "cell_type": "code",
   "execution_count": 178,
   "metadata": {
    "collapsed": false
   },
   "outputs": [],
   "source": [
    "anim = animation.FuncAnimation(fig, animate2, frames=NES[1:-1:10,:], interval=200)"
   ]
  },
  {
   "cell_type": "code",
   "execution_count": 179,
   "metadata": {
    "collapsed": false
   },
   "outputs": [],
   "source": [
    "#display_animation(anim, default_mode='once')"
   ]
  },
  {
   "cell_type": "code",
   "execution_count": 180,
   "metadata": {
    "collapsed": false
   },
   "outputs": [],
   "source": [
    "#anim.save(\"1D_ABL_rho_1000ts.mp4\", writer='ffmpeg')\n",
    "#anim.save(\"1D_ABL_Ts_1000ts.mp4\", writer='ffmpeg')\n",
    "#anim.save(\"1D_ABL_Us_1000ts.mp4\", writer='ffmpeg')\n",
    "anim.save(\"1D_ABL_NES_1000ts.mp4\", writer='ffmpeg')"
   ]
  },
  {
   "cell_type": "code",
   "execution_count": null,
   "metadata": {
    "collapsed": true
   },
   "outputs": [],
   "source": []
  }
 ],
 "metadata": {
  "kernelspec": {
   "display_name": "Python 3",
   "language": "python",
   "name": "python3"
  },
  "language_info": {
   "codemirror_mode": {
    "name": "ipython",
    "version": 3
   },
   "file_extension": ".py",
   "mimetype": "text/x-python",
   "name": "python",
   "nbconvert_exporter": "python",
   "pygments_lexer": "ipython3",
   "version": "3.4.4"
  }
 },
 "nbformat": 4,
 "nbformat_minor": 0
}
