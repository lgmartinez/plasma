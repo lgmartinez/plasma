{
 "cells": [
  {
   "cell_type": "code",
   "execution_count": 1,
   "metadata": {
    "collapsed": false
   },
   "outputs": [
    {
     "data": {
      "text/html": [
       "<link href='http://fonts.googleapis.com/css?family=Alegreya+Sans:100,300,400,500,700,800,900,100italic,300italic,400italic,500italic,700italic,800italic,900italic' rel='stylesheet' type='text/css'>\n",
       "<link href='http://fonts.googleapis.com/css?family=Arvo:400,700,400italic' rel='stylesheet' type='text/css'>\n",
       "<link href='http://fonts.googleapis.com/css?family=PT+Mono' rel='stylesheet' type='text/css'>\n",
       "<link href='http://fonts.googleapis.com/css?family=Shadows+Into+Light' rel='stylesheet' type='text/css'>\n",
       "<link href='http://fonts.googleapis.com/css?family=Nixie+One' rel='stylesheet' type='text/css'>\n",
       "<style>\n",
       "\n",
       "@font-face {\n",
       "    font-family: \"Computer Modern\";\n",
       "    src: url('http://mirrors.ctan.org/fonts/cm-unicode/fonts/otf/cmunss.otf');\n",
       "}\n",
       "\n",
       "#notebook_panel { /* main background */\n",
       "    background: rgb(245,245,245);\n",
       "}\n",
       "\n",
       "div.cell { /* set cell width */\n",
       "    width: 750px;\n",
       "}\n",
       "\n",
       "div #notebook { /* centre the content */\n",
       "    background: #fff; /* white background for content */\n",
       "    width: 1000px;\n",
       "    margin: auto;\n",
       "    padding-left: 0em;\n",
       "}\n",
       "\n",
       "#notebook li { /* More space between bullet points */\n",
       "    margin-top:0.8em;\n",
       "}\n",
       "\n",
       "/* draw border around running cells */\n",
       "div.cell.border-box-sizing.code_cell.running { \n",
       "    border: 1px solid #111;\n",
       "}\n",
       "\n",
       "/* Put a solid color box around each cell and its output, visually linking them*/\n",
       "div.cell.code_cell {\n",
       "    background-color: rgb(256,256,256); \n",
       "    border-radius: 0px; \n",
       "    padding: 0.5em;\n",
       "    margin-left:1em;\n",
       "    margin-top: 1em;\n",
       "}\n",
       "\n",
       "div.text_cell_render{\n",
       "    font-family: 'Alegreya Sans' sans-serif;\n",
       "    line-height: 140%;\n",
       "    font-size: 125%;\n",
       "    font-weight: 400;\n",
       "    width:600px;\n",
       "    margin-left:auto;\n",
       "    margin-right:auto;\n",
       "}\n",
       "\n",
       "\n",
       "/* Formatting for header cells */\n",
       ".text_cell_render h1 {\n",
       "    font-family: 'Nixie One', serif;\n",
       "    font-style:regular;\n",
       "    font-weight: 400;    \n",
       "    font-size: 45pt;\n",
       "    line-height: 100%;\n",
       "    color: rgb(0,51,102);\n",
       "    margin-bottom: 0.5em;\n",
       "    margin-top: 0.5em;\n",
       "    display: block;\n",
       "}\n",
       "\n",
       ".text_cell_render h2 {\n",
       "    font-family: 'Nixie One', serif;\n",
       "    font-weight: 400;\n",
       "    font-size: 30pt;\n",
       "    line-height: 100%;\n",
       "    color: rgb(0,51,102);\n",
       "    margin-bottom: 0.1em;\n",
       "    margin-top: 0.3em;\n",
       "    display: block;\n",
       "}\t\n",
       "\n",
       ".text_cell_render h3 {\n",
       "    font-family: 'Nixie One', serif;\n",
       "    margin-top:16px;\n",
       "    font-size: 22pt;\n",
       "    font-weight: 600;\n",
       "    margin-bottom: 3px;\n",
       "    font-style: regular;\n",
       "    color: rgb(102,102,0);\n",
       "}\n",
       "\n",
       ".text_cell_render h4 {    /*Use this for captions*/\n",
       "    font-family: 'Nixie One', serif;\n",
       "    font-size: 14pt;\n",
       "    text-align: center;\n",
       "    margin-top: 0em;\n",
       "    margin-bottom: 2em;\n",
       "    font-style: regular;\n",
       "}\n",
       "\n",
       ".text_cell_render h5 {  /*Use this for small titles*/\n",
       "    font-family: 'Nixie One', sans-serif;\n",
       "    font-weight: 400;\n",
       "    font-size: 16pt;\n",
       "    color: rgb(163,0,0);\n",
       "    font-style: italic;\n",
       "    margin-bottom: .1em;\n",
       "    margin-top: 0.8em;\n",
       "    display: block;\n",
       "}\n",
       "\n",
       ".text_cell_render h6 { /*use this for copyright note*/\n",
       "    font-family: 'PT Mono', sans-serif;\n",
       "    font-weight: 300;\n",
       "    font-size: 9pt;\n",
       "    line-height: 100%;\n",
       "    color: grey;\n",
       "    margin-bottom: 1px;\n",
       "    margin-top: 1px;\n",
       "}\n",
       "\n",
       ".CodeMirror{\n",
       "    font-family: \"PT Mono\";\n",
       "    font-size: 90%;\n",
       "}\n",
       "\n",
       "</style>\n",
       "<script>\n",
       "    MathJax.Hub.Config({\n",
       "                        TeX: {\n",
       "                           extensions: [\"AMSmath.js\"],\n",
       "                           equationNumbers: { autoNumber: \"AMS\", useLabelIds: true}\n",
       "                           },\n",
       "                tex2jax: {\n",
       "                    inlineMath: [ ['$','$'], [\"\\\\(\",\"\\\\)\"] ],\n",
       "                    displayMath: [ ['$$','$$'], [\"\\\\[\",\"\\\\]\"] ]\n",
       "                },\n",
       "                displayAlign: 'center', // Change this to 'center' to center equations.\n",
       "                \"HTML-CSS\": {\n",
       "                    styles: {'.MathJax_Display': {\"margin\": 4}}\n",
       "                }\n",
       "        });\n",
       "</script>\n"
      ],
      "text/plain": [
       "<IPython.core.display.HTML object>"
      ]
     },
     "execution_count": 1,
     "metadata": {},
     "output_type": "execute_result"
    }
   ],
   "source": [
    "from IPython.core.display import HTML\n",
    "#css_file = '/Users/Luis/numerical-mooc/styles/numericalmoocstyle.css'\n",
    "css_file = './numericalmoocstyle.css'\n",
    "HTML(open(css_file, \"r\").read())\n"
   ]
  },
  {
   "cell_type": "code",
   "execution_count": 2,
   "metadata": {
    "collapsed": true
   },
   "outputs": [],
   "source": [
    "import numba\n",
    "from numba import jit"
   ]
  },
  {
   "cell_type": "markdown",
   "metadata": {},
   "source": [
    "##### This notebook uses a staggered grid approach to solve the lid-driven cavity flow problem. The algorithm uses a RK3 fractional step method.\n"
   ]
  },
  {
   "cell_type": "markdown",
   "metadata": {},
   "source": [
    "Compute the flow using your solver for Reynolds number $Re = \\frac{UL}{\\nu} = 100$ where U is the velocity of the top wall, L is the box size, and ν the kinematic viscosity of the fluid."
   ]
  },
  {
   "cell_type": "code",
   "execution_count": 3,
   "metadata": {
    "collapsed": true
   },
   "outputs": [],
   "source": [
    "from math import pi\n",
    "import numpy\n",
    "#\n",
    "from mpl_toolkits.mplot3d import Axes3D\n",
    "from matplotlib import pyplot, cm\n",
    "#%matplotlib notebook\n",
    "%matplotlib inline\n",
    "#\n",
    "from matplotlib import rcParams\n",
    "rcParams['font.family'] = 'serif'\n",
    "rcParams['font.size'] = 16"
   ]
  },
  {
   "cell_type": "code",
   "execution_count": 4,
   "metadata": {
    "collapsed": true
   },
   "outputs": [],
   "source": [
    "# Parameters\n",
    "#\n",
    "nx = [26, 51, 76, 101, 151, 201]\n",
    "ny = [26, 51, 76, 101, 151, 201]\n",
    "#\n",
    "#Domain Size\n",
    "xmin = 0.0\n",
    "xmax = 1.0\n",
    "ymin = 0.\n",
    "ymax = 1.0\n",
    "#L2 Target\n",
    "l2_target = 1e-8"
   ]
  },
  {
   "cell_type": "code",
   "execution_count": 5,
   "metadata": {
    "collapsed": false
   },
   "outputs": [],
   "source": [
    "def domain (numxg, numyg, x_min, x_max, y_min, y_max):\n",
    "    #\n",
    "    ngrid = numpy.size(numxg)\n",
    "    # define sizes\n",
    "    delxg = [] #spacing\n",
    "    delyg = []\n",
    "    #\n",
    "    Xbg = []\n",
    "    Ybg = []\n",
    "    #\n",
    "    Xbg2 = []\n",
    "    Ybg2 = []\n",
    "    #\n",
    "    Xbg3 = []\n",
    "    Ybg3 = []\n",
    "    #\n",
    "    Xcg = []\n",
    "    Ycg = []\n",
    "    #\n",
    "    xbg = []\n",
    "    xcg = []\n",
    "    #\n",
    "    ybg = []\n",
    "    ycg = []\n",
    "    #\n",
    "    xbg2 = []\n",
    "    ybg2 = []\n",
    "    #\n",
    "    xbg3 = []\n",
    "    ybg3 = []\n",
    "    #\n",
    "    for i in range(ngrid):\n",
    "        #fill array of grid nodes\n",
    "        nx_k = numxg[i]\n",
    "        ny_k = numyg[i]\n",
    "        #grid spacing\n",
    "        delx_k = (x_max-x_min)/(nx_k-1)\n",
    "        dely_k = (y_max-y_min)/(ny_k-1)\n",
    "        #\n",
    "        delxg.append(delx_k)\n",
    "        delyg.append(dely_k)\n",
    "        #\n",
    "        #general grid, nodes on corners of each cell\n",
    "        xb_k = numpy.linspace(x_min, x_max, nx_k)\n",
    "        yb_k = numpy.linspace(y_min, y_max, ny_k)\n",
    "        #\n",
    "        #needed for velocity calculatons\n",
    "        # x-velocity grid\n",
    "        xb2_k = xb_k.copy()\n",
    "        yb2_k = yb_k[:-1]+(dely_k*.5) \n",
    "        #y-velocity grid\n",
    "        xb3_k = xb_k[:-1]+(delx_k*.5) \n",
    "        yb3_k = yb_k.copy()\n",
    "        #\n",
    "        #needed for pressure\n",
    "        #\n",
    "        xc_k = xb_k[:-1]+(delx_k*.5)      \n",
    "        yc_k = yb_k[:-1]+(dely_k*.5)  \n",
    "        #\n",
    "        xbg.append(xb_k)\n",
    "        xbg2.append(xb2_k)\n",
    "        xbg3.append(xb3_k)\n",
    "        xcg.append(xc_k)\n",
    "        #\n",
    "        ybg.append(yb_k)\n",
    "        ybg2.append(yb2_k)\n",
    "        ybg3.append(yb3_k)\n",
    "        ycg.append(yc_k)\n",
    "        #\n",
    "        Xb_k,Yb_k = numpy.meshgrid(xb_k,yb_k)\n",
    "        Xb2_k,Yb2_k = numpy.meshgrid(xb2_k,yb2_k)\n",
    "        Xb3_k, Yb3_k = numpy.meshgrid(xb3_k,yb3_k)\n",
    "        Xc_k,Yc_k = numpy.meshgrid(xc_k,yc_k)\n",
    "        #\n",
    "        Xbg.append(Xb_k)\n",
    "        Xbg2.append(Xb2_k)\n",
    "        Xbg3.append(Xb3_k)\n",
    "        Xcg.append(Xc_k)\n",
    "        #\n",
    "        Ybg.append(Yb_k)\n",
    "        Ybg2.append(Yb2_k)\n",
    "        Ybg3.append(Yb3_k)\n",
    "        Ycg.append(Yc_k)\n",
    "        #\n",
    "    return xbg,ybg,xcg,ycg, Xbg, Ybg, Xcg, Ycg, delxg, delyg,\\\n",
    "            xbg2, ybg2, Xbg2, Ybg2, xbg3, ybg3, Xbg3, Ybg3\n",
    "        \n",
    "    \n",
    "    "
   ]
  },
  {
   "cell_type": "code",
   "execution_count": 6,
   "metadata": {
    "collapsed": true
   },
   "outputs": [],
   "source": [
    "xb,yb,xc,yc,Xb,Yb,Xc,Yc,dx,dy,xb2, yb2, Xb2, Yb2, xb3, yb3, Xb3, Yb3 =\\\n",
    "    domain (nx, ny, xmin, xmax, ymin, ymax)"
   ]
  },
  {
   "cell_type": "code",
   "execution_count": 7,
   "metadata": {
    "collapsed": false
   },
   "outputs": [
    {
     "data": {
      "image/png": "[encoded data removed]",
      "text/plain": [
       "<matplotlib.figure.Figure at 0x110a1add8>"
      ]
     },
     "metadata": {},
     "output_type": "display_data"
    }
   ],
   "source": [
    "#\n",
    "fig = pyplot.figure(figsize=(8,8))\n",
    "pyplot.title('Node Locations for Staggered Grid')\n",
    "pyplot.xlabel('x')\n",
    "pyplot.ylabel('y')\n",
    "pyplot.ylim(-0.2,1.4)\n",
    "pyplot.scatter(Xb2[0], Yb2[0],\\\n",
    "                   s=10, color='b', marker='o', linewidth=0)\n",
    "pyplot.scatter(Xb3[0], Yb3[0],\\\n",
    "                   s=10, color='k', marker='o', linewidth=0)\n",
    "pyplot.scatter(Xc[0], Yc[0],\\\n",
    "                   s=10, color='r', marker='o', linewidth=0)\n",
    "pyplot.legend(['x-vel','y-vel','Pressure']);"
   ]
  },
  {
   "cell_type": "code",
   "execution_count": 8,
   "metadata": {
    "collapsed": true
   },
   "outputs": [],
   "source": [
    "def L2_error(p_new, p_old):\n",
    "    '''This function computes the L2 norm of the error for convergence\n",
    "\n",
    "    Parameters:\n",
    "    ----------\n",
    "    p_new: new computed potential in flow field\n",
    "    p_old: previous flow field potential\n",
    "    \n",
    "    Returns:\n",
    "    ----------\n",
    "    error!\n",
    "    '''\n",
    "    \n",
    "    return numpy.sqrt(numpy.sum((p_new[1:-1,1:-1] - p_old[1:-1,1:-1])**2)\\\n",
    "                      /numpy.sum(p_old[1:-1,1:-1]**2))"
   ]
  },
  {
   "cell_type": "code",
   "execution_count": 9,
   "metadata": {
    "collapsed": true
   },
   "outputs": [],
   "source": [
    "def plot_error_grid_refine(err1,nv, string_title):\n",
    "    pyplot.figure(figsize=(8,8))\n",
    "    \n",
    "    pyplot.grid(True)\n",
    "    pyplot.xlabel(r'$n_{cells}$', fontsize=18)\n",
    "    pyplot.ylabel(r'$L_2$-norm of the error', fontsize=18)\n",
    "    pyplot.title(string_title)\n",
    "    #\n",
    "    pyplot.loglog(nv, err1, color='k', ls='--', lw=2, marker='o')\n",
    "    pyplot.axis('equal');"
   ]
  },
  {
   "cell_type": "code",
   "execution_count": 10,
   "metadata": {
    "collapsed": true
   },
   "outputs": [],
   "source": [
    "def plot_error_time_refine(err1,nv, string_title):\n",
    "    pyplot.figure(figsize=(8,8))\n",
    "    \n",
    "    pyplot.grid(True)\n",
    "    pyplot.xlabel(r'$dt (seconds)$', fontsize=18)\n",
    "    pyplot.ylabel(r'$L_2$-norm of the error', fontsize=18)\n",
    "    pyplot.title(string_title)\n",
    "    #\n",
    "    pyplot.plot(nv, err1, color='k', ls='--', lw=2, marker='o')\n",
    "    pyplot.axis('equal');"
   ]
  },
  {
   "cell_type": "code",
   "execution_count": 40,
   "metadata": {
    "collapsed": true
   },
   "outputs": [],
   "source": [
    "def plot_2D(xp, yp, p_sol):\n",
    "    '''This function creates 2D plot for solution\n",
    "\n",
    "    Parameters:\n",
    "    ----------\n",
    "    xp: array of x grid points\n",
    "    yp: array of y grid points\n",
    "    p_sol: 2D array of calculated solution\n",
    "    \n",
    "    Returns:\n",
    "    ----------\n",
    "    2D plot\n",
    "    ''' \n",
    "    fig = pyplot.figure(figsize=(8,5))\n",
    "\n",
    "    pyplot.contourf(xp,yp,p_sol, cmap=cm.viridis)\n",
    "    pyplot.xlabel('$x$')\n",
    "    pyplot.ylabel('$y$')\n",
    "    pyplot.colorbar();"
   ]
  },
  {
   "cell_type": "code",
   "execution_count": 12,
   "metadata": {
    "collapsed": false
   },
   "outputs": [],
   "source": [
    "def plot_3D(xp, yp, p_sol):\n",
    "    '''This function creates 3D plot for solution\n",
    "\n",
    "    Parameters:\n",
    "    ----------\n",
    "    xp: array of x grid points\n",
    "    yp: array of y grid points\n",
    "    p_sol: 2D array of calculated solution\n",
    "    \n",
    "    Returns:\n",
    "    ----------\n",
    "    3D plot of result\n",
    "    '''\n",
    "    fig = pyplot.figure(figsize=(11,7), dpi=100)\n",
    "    ax = fig.gca(projection='3d')\n",
    "    XP,YP = numpy.meshgrid(xp,yp)\n",
    "    surf = ax.plot_surface(XP,YP,p_sol[:], rstride=1, cstride=1, cmap=cm.cool,\\\n",
    "                           linewidth=0, antialiased=True)\n",
    "\n",
    "    #ax.set_xlim(0,1)\n",
    "    #ax.set_ylim(0,1)\n",
    "    ax.set_xlabel('$x$')\n",
    "    ax.set_ylabel('$y$')\n",
    "    ax.set_zlabel('$z$')\n",
    "    ax.view_init(30,45)"
   ]
  },
  {
   "cell_type": "code",
   "execution_count": 13,
   "metadata": {
    "collapsed": false
   },
   "outputs": [],
   "source": [
    "def initial_conditions(x1,y1,x2,y2,x3,y3):\n",
    "    ''' Gives initial velocities and pressures\n",
    "    \n",
    "    '''\n",
    "    #make matrices\n",
    "    a = numpy.size(x1)\n",
    "    b = numpy.size(y1)\n",
    "    c = numpy.size(x2)\n",
    "    d = numpy.size(y2)\n",
    "    e = numpy.size(x3)\n",
    "    f = numpy.size(y3)\n",
    "    #\n",
    "    u = numpy.zeros((b,a), dtype=float)\n",
    "    v = numpy.zeros((d,c), dtype=float)\n",
    "    p = numpy.zeros((f,e), dtype=float)\n",
    "    #\n",
    "    return u,v,p"
   ]
  },
  {
   "cell_type": "code",
   "execution_count": 14,
   "metadata": {
    "collapsed": true
   },
   "outputs": [],
   "source": [
    "def pressure_ghost_cells(pv,x3,y3):\n",
    "    ''' creates ghost cells for pressure calculation\n",
    "    '''\n",
    "    a = numpy.size(y3)+2\n",
    "    b = numpy.size(x3)+2\n",
    "    #\n",
    "    pg = numpy.zeros((a,b), dtype=float)\n",
    "    #\n",
    "    pg[1:-1,1:-1] = pv.copy()\n",
    "    #\n",
    "    #x-direction momentum flux = 0 :\n",
    "    pg[1:-1,0] = pv[:,0]\n",
    "    pg[1:-1,-1] = pv[:,-1]\n",
    "    #y-direction momentum flux = 0 :\n",
    "    pg[0,1:-1] = pv[0,:]\n",
    "    pg[-1,1:-1] = pv[-1,:]\n",
    "    #\n",
    "    return pg"
   ]
  },
  {
   "cell_type": "code",
   "execution_count": 15,
   "metadata": {
    "collapsed": true
   },
   "outputs": [],
   "source": [
    "def boundary_conditions(u,v):\n",
    "    ''' Updates velocities on the boundaries based on analytical function\n",
    "    '''\n",
    "    ubc = u.copy() \n",
    "    vbc = v.copy() \n",
    "    pbc = pi.copy()\n",
    "    #\n",
    "    ubc[:,0]  = 0.0 #side wall\n",
    "    ubc[:,-1] = 0.0 #side wall\n",
    "    #---------------#\n",
    "    vbc[0,:]  = 0.0 #bottom wall\n",
    "    vbc[-1,:] = 0.0 #plate\n",
    "    #----------------#\n",
    "    \n",
    "    return ubc,vbc"
   ]
  },
  {
   "cell_type": "code",
   "execution_count": 16,
   "metadata": {
    "collapsed": false
   },
   "outputs": [],
   "source": [
    "def velocity_ghost_cells(u,v,x1,y1,x2,y2):\n",
    "    ''' includes ghost cells for easier calculations\n",
    "    '''\n",
    "    a = numpy.size(y1)+2\n",
    "    b = numpy.size(x1)+2\n",
    "    c = numpy.size(y2)+2\n",
    "    d = numpy.size(x2)+2\n",
    "    ug = numpy.zeros((a,b))\n",
    "    vg = numpy.zeros((c,d))\n",
    "    #\n",
    "    u_plate = 1.0\n",
    "    u_wall = 0.0\n",
    "    #\n",
    "    ug[1:-1,1:-1] = u.copy()\n",
    "    vg[1:-1,1:-1] = v.copy()\n",
    "    #\n",
    "    ug[1:-1,0] = 2*u_wall - u[:,0] #left side\n",
    "    ug[1:-1,-1] = 2*u_wall - u[:,-1]\n",
    "    ug[0,1:-1] = 2*u_wall - u[0,:] #bottom wall\n",
    "    ug[-1,1:-1] =  2*u_plate - u[-1,:] #plate\n",
    "    #\n",
    "    vg[1:-1,0] = 2*u_wall - v[:,0] #left side\n",
    "    vg[1:-1,-1] = 2*u_wall - v[:,-1] #right side\n",
    "    vg[0,1:-1] = 2*u_wall - v[0,:]\n",
    "    vg[-1,1:-1] = 2*u_wall - v[-1,:]\n",
    "    #\n",
    "    return ug,vg\n",
    "    "
   ]
  },
  {
   "cell_type": "markdown",
   "metadata": {},
   "source": [
    "##### define functions for the divergence of the convective, viscous, and pressure fluxes"
   ]
  },
  {
   "cell_type": "code",
   "execution_count": 17,
   "metadata": {
    "collapsed": false
   },
   "outputs": [],
   "source": [
    "def get_source_pressure(p,u,v, delx, dely):\n",
    "    ''' defines the right hand side for the pressure equation\n",
    "    \n",
    "    Parameters:\n",
    "    -----------\n",
    "    p: pressure\n",
    "    u,v: velocities \n",
    "    delx,dely:spacing\n",
    "    '''\n",
    "    fpt = numpy.zeros_like(p)\n",
    "    #\n",
    "    fpt[:,:] = (1./delx)*(u[:,1:]-u[:,:-1]) + (1./dely)*(v[1:,:]-v[:-1,:])\n",
    "    #\n",
    "    return fpt"
   ]
  },
  {
   "cell_type": "code",
   "execution_count": 18,
   "metadata": {
    "collapsed": false
   },
   "outputs": [],
   "source": [
    "def convective_flux(u,v, delx, dely):\n",
    "    '''This function finds the convective flux\n",
    "    for x and y coordinates. These are evaluated on the boundary nodes in accordance\n",
    "    with the locations for u,v velocities\n",
    "\n",
    "    indexing:\n",
    "    ---------\n",
    "    (j,i)\n",
    "    \n",
    "    Parameters:\n",
    "    ----------\n",
    "    u: 2D array of x-velocity\n",
    "    v: 2D array of y-velocity\n",
    "    delx, dely: x and y spacing\n",
    "    visc: viscosity, scalar\n",
    "    xp1, yp1, xp2, yp2: node locations at which the convective flux is evaluated,\n",
    "                1 is for the u velocity grid and 2 is for the v velocity grid\n",
    "    \n",
    "    Returns:\n",
    "    ----------\n",
    "    convective flux\n",
    "    ''' \n",
    "    #\n",
    "    Fxc = numpy.zeros_like(u[1:-1,1:-1]) \n",
    "    Fyc = numpy.zeros_like(v[1:-1,1:-1]) \n",
    "    #\n",
    "    # x-direction convective fluxes:\n",
    "    Fxc[:,:] =  (-0.25/delx)*((u[1:-1,2:]+u[1:-1,1:-1])**2 -\\\n",
    "                              (u[1:-1,1:-1]+u[1:-1,:-2])**2) +\\\n",
    "                (-0.25/dely)*( (u[2:,1:-1]+u[1:-1,1:-1])*(v[2:-1,:-1]+v[2:-1,1:]) -\\\n",
    "                               (u[1:-1,1:-1]+u[:-2,1:-1])*(v[1:-2,:-1]+v[1:-2,1:]) )\n",
    "    #--------------------------------------------------------------------------------\n",
    "    # y-direction convective fluxes:\n",
    "    Fyc[:,:] = (-0.25/delx)*((u[1:,2:-1]+u[:-1,2:-1])*(v[1:-1,2:]+v[1:-1,1:-1]) -\\\n",
    "                             (u[1:,1:-2]+u[:-1,1:-2])*(v[1:-1,1:-1]+v[1:-1,:-2])) +\\\n",
    "               (-0.25/dely)*( (v[2:,1:-1]+v[1:-1,1:-1])**2 -\\\n",
    "                              (v[1:-1,1:-1]+v[:-2,1:-1])**2)\n",
    "    #\n",
    "    return Fxc,Fyc"
   ]
  },
  {
   "cell_type": "code",
   "execution_count": 19,
   "metadata": {
    "collapsed": true
   },
   "outputs": [],
   "source": [
    "def viscous_flux(u,v, delx, dely, visc):\n",
    "    '''This function finds the convective flux\n",
    "    for x and y coordinates. These are evaluated on the boundary nodes in accordance\n",
    "    with the locations for u velocities\n",
    "\n",
    "    Parameters:\n",
    "    ----------\n",
    "    u: 2D array of x-velocity\n",
    "    v: 2D array of y-velocity\n",
    "    delx, dely: x and y spacing\n",
    "    visc: viscosity, scalar\n",
    "    x_b, y_b: node locations at which the convective flux is evaluated,\n",
    "                use same nodes as x-velocity\n",
    "                \n",
    "    indexing:\n",
    "    ---------\n",
    "    (j,i)\n",
    "    \n",
    "    Returns:\n",
    "    ----------\n",
    "    viscous flux\n",
    "    '''\n",
    "    #\n",
    "    Re_n = 100.\n",
    "    #\n",
    "    Fxv = numpy.zeros_like(u[1:-1,1:-1]) \n",
    "    Fyv = numpy.zeros_like(v[1:-1,1:-1]) \n",
    "    #\n",
    "    #x-direction viscous fluxes\n",
    "    Fxv[:,:] = (1./Re_n)*\\\n",
    "                ((1.0/(delx**2))*(u[1:-1,2:] - 2*u[1:-1,1:-1] + u[1:-1,:-2]) +\\\n",
    "                     (1.0/(dely**2))*(u[2:,1:-1] - 2*u[1:-1,1:-1] + u[:-2,1:-1]))\n",
    "    #\n",
    "    #y-direction viscous fluxes\n",
    "    Fyv[:,:] = (1./Re_n)*\\\n",
    "                    ((1.0/(delx**2))*(v[1:-1,2:] - 2*v[1:-1,1:-1] + v[1:-1,:-2]) +\\\n",
    "                     (1.0/(dely**2))*(v[2:,1:-1] - 2*v[1:-1,1:-1] + v[:-2,1:-1]))\n",
    "    #\n",
    "    return Fxv,Fyv"
   ]
  },
  {
   "cell_type": "code",
   "execution_count": 20,
   "metadata": {
    "collapsed": true
   },
   "outputs": [],
   "source": [
    "def pressure_flux(u,v,p, delx, dely):\n",
    "    '''This function finds the pressure flux\n",
    "    for x and y coordinates. These are evaluated on the same nodes as those where \n",
    "    Pressure is evaluated\n",
    "\n",
    "    Parameters:\n",
    "    ----------\n",
    "    delx, dely: x and y spacing\n",
    "    Pv: array of pressure values that include ghost cell values\n",
    "    \n",
    "    Returns:\n",
    "    ----------\n",
    "    viscous flux\n",
    "    '''\n",
    "    #\n",
    "    Re_n = 100. #used to solve cavity problem - nondimensional equations\n",
    "    #\n",
    "    Fpx = numpy.zeros_like(u[:,:]) \n",
    "    Fpy = numpy.zeros_like(v[:,:]) \n",
    "    # x coordinate pressure fluxes\n",
    "    Fpx[:,:] = -(1./delx)*(p[1:-1,1:]-p[1:-1,:-1])*(1./Re_n)\n",
    "    #\n",
    "    #y coordinate pressure fluxes\n",
    "    Fpy[:,:] = -(1./dely)*(p[1:,1:-1]-p[:-1,1:-1])*(1./Re_n)\n",
    "    #\n",
    "    return Fpx,Fpy"
   ]
  },
  {
   "cell_type": "markdown",
   "metadata": {},
   "source": [
    "##### Time Step"
   ]
  },
  {
   "cell_type": "code",
   "execution_count": 21,
   "metadata": {
    "collapsed": true
   },
   "outputs": [],
   "source": [
    "def get_dt(u,v, delx, dely, CFL, SIGMA, visc):\n",
    "    ''' Use adaptive time step function\n",
    "    \n",
    "    Uv: use interior points\n",
    "    delx, dely: spacing\n",
    "    CFL, SIGMA: stability conditions\n",
    "    visc = dynamic viscosity\n",
    "    ''' \n",
    "    #\n",
    "    a = numpy.max(u/delx)\n",
    "    b = numpy.max(v/dely)\n",
    "    #\n",
    "    c = []\n",
    "    c.append(a)\n",
    "    c.append(b)\n",
    "    #\n",
    "    deltc = CFL*(1/(numpy.max(c)))\n",
    "    #\n",
    "    dels = []\n",
    "    dels.append(delx**2)\n",
    "    dels.append(dely**2)\n",
    "    deltv = SIGMA * (visc/(numpy.min(dels)))\n",
    "    #\n",
    "    test = []\n",
    "    test.append(deltc)\n",
    "    test.append(deltv)\n",
    "    delt = numpy.min(test)\n",
    "    #\n",
    "    return delt"
   ]
  },
  {
   "cell_type": "markdown",
   "metadata": {},
   "source": [
    "##### Solve Poisson Eqn to Obtain Pressure Distribution"
   ]
  },
  {
   "cell_type": "code",
   "execution_count": 22,
   "metadata": {
    "collapsed": true
   },
   "outputs": [],
   "source": [
    "def get_pressure(p, delx, dely, delt, l2_target, factor, fv,x3,y3):\n",
    "    ''' Function uses Jacobi iteration to solve \n",
    "        pressure equation. neumann bcs for pressure.\n",
    "    \n",
    "    Parameters:\n",
    "    ----------\n",
    "    u,v: velocities\n",
    "    p : 2D array pressure\n",
    "    delx: spacing in x direction\n",
    "    dely: spacing in y direction\n",
    "    l2_target: target difference consecutive iterations\n",
    "    factor: ratio for each of the rk stages\n",
    "    \n",
    "    Returns:\n",
    "    -------\n",
    "    p: 2D array of float solution\n",
    "    iterations: number of iterations to convergence\n",
    "    l2_err: l2 norm of error\n",
    "    \n",
    "    '''\n",
    "    \n",
    "    itermax = 200000\n",
    "    itermax2 = itermax-20\n",
    "    #    \n",
    "    l2_norm = 1.1 + l2_target #want to make sure this is high enough!\n",
    "    iterations = 0\n",
    "    l2_err = []\n",
    "    #\n",
    "    while l2_norm > l2_target:\n",
    "        #\n",
    "        pk = pressure_ghost_cells(p.copy(),x3,y3)\n",
    "        # \n",
    "        #interior points\n",
    "        p[:,:] = (1/(2*(delx**2 + dely**2)) )*\\\n",
    "                        ( (dely**2)*(pk[1:-1,2:]+pk[1:-1,:-2]) +\\\n",
    "                          (delx**2)*(pk[2:,1:-1]+pk[:-2,1:-1]) -\\\n",
    "                         ((1./(delt*factor))*(delx**2)*(dely**2)*fv[:,:]) )\n",
    "        \n",
    "        #------------------------------------------------------------------------    \n",
    "        #\n",
    "        l2_norm = L2_error(p,pk[1:-1,1:-1])\n",
    "        iterations += 1\n",
    "        l2_err.append(l2_norm)\n",
    "        #\n",
    "        if (iterations > itermax2):\n",
    "            print(l2_norm)\n",
    "        if (iterations>itermax):\n",
    "            print('max iterations reached')\n",
    "            break\n",
    "    #\n",
    "    return p, iterations, l2_err"
   ]
  },
  {
   "cell_type": "markdown",
   "metadata": {},
   "source": [
    "##### Use Runge-Kutta third-order for time advancement"
   ]
  },
  {
   "cell_type": "code",
   "execution_count": 23,
   "metadata": {
    "collapsed": true
   },
   "outputs": [],
   "source": [
    "def rungekutta3(u_init,v_init, p_init, delx, dely,\\\n",
    "                                    t_terminal, X1, Y1, X2, Y2,X3, Y3,\\\n",
    "                                    x1,y1,x2,y2,x3, y3):\n",
    "    '''This function uses thrid order runge-kutta for fractional\n",
    "        time advancement\n",
    "\n",
    "    Parameters:\n",
    "    ----------\n",
    "    U_init, v_init: initial velocities\n",
    "    P_init: initial pressures\n",
    "    delx, dely: x and y spacing\n",
    "    t_terminal: ending time\n",
    "    X1,Y1: grid for x velocities\n",
    "    X2,Y2:grid for y velocities\n",
    "    x3,y3: grid for pressures\n",
    "    \n",
    "    Returns:\n",
    "    ----------\n",
    "    solved pressure and velocity fields\n",
    "    '''\n",
    "    #\n",
    "    P_out = []\n",
    "    P_err_out = []\n",
    "    u_out = []\n",
    "    v_out = []\n",
    "    dt_v = []\n",
    "    #\n",
    "    CFL=0.3\n",
    "    SIGMA=0.62\n",
    "    visc=1.0 \n",
    "    #Re_n = 100.0\n",
    "    #\n",
    "    un = u_init.copy()\n",
    "    vn = v_init.copy()\n",
    "    us = numpy.zeros_like(u_init)\n",
    "    vs = numpy.zeros_like(v_init)\n",
    "    us1 = numpy.zeros_like(u_init)\n",
    "    vs1 = numpy.zeros_like(v_init)\n",
    "    us2 = numpy.zeros_like(u_init)\n",
    "    us3 = numpy.zeros_like(u_init)\n",
    "    vs2 = numpy.zeros_like(v_init)\n",
    "    vs3 = numpy.zeros_like(v_init)\n",
    "    #\n",
    "    P = p_init.copy()\n",
    "    P0 = numpy.zeros_like(p_init)\n",
    "    #\n",
    "    Gx= numpy.zeros_like(u_init)\n",
    "    Gy= numpy.zeros_like(v_init)\n",
    "    Gx2= numpy.zeros_like(u_init)\n",
    "    Gy2= numpy.zeros_like(v_init)\n",
    "    Gx3= numpy.zeros_like(u_init)\n",
    "    Gy3= numpy.zeros_like(v_init)\n",
    "    #\n",
    "    t = 0.0\n",
    "    iterations = 0.0\n",
    "    dt =0.01\n",
    "    #\n",
    "    u_out.append(un)\n",
    "    v_out.append(vn)\n",
    "    P_out.append(P)\n",
    "    #\n",
    "    while (t < t_terminal):\n",
    "        #\n",
    "        #------------------------------------------------------------------\n",
    "        #------------------------------------------------------------------\n",
    "        ## stage 1, time advancement\n",
    "        t += dt/3.\n",
    "        #\n",
    "        #need velocity arrays with ghost cells to compute fluxes\n",
    "        ung, vng = velocity_ghost_cells(un.copy(),vn.copy(), x1, y1, x2, y2)\n",
    "        #convective fluxes\n",
    "        fcx,fcy = convective_flux(ung.copy(),vng.copy(), delx, dely)\n",
    "        #viscous fluxes\n",
    "        fvx,fvy = viscous_flux(ung.copy(),vng.copy(), delx, dely,visc)\n",
    "        # sum convective and viscous fluxes\n",
    "        Gx[:,:] = fcx[:,:] + fvx[:,:]\n",
    "        Gy[:,:] = fcy[:,:] + fvy[:,:]\n",
    "        #\n",
    "        #get u star velocities\n",
    "        us1[:,:] = un[:,:] + (dt/3.)*(Gx[:,:])\n",
    "        vs1[:,:] = vn[:,:] + (dt/3.)*(Gy[:,:])\n",
    "        us1,vs1 = boundary_conditions(us1.copy(),vs1.copy())\n",
    "        #\n",
    "        #update ghost cells\n",
    "        usg1, vsg1 = velocity_ghost_cells(us1.copy(),vs1.copy(), x1, y1, x2, y2)\n",
    "        #\n",
    "        fs1 = get_source_pressure(P.copy(),us1.copy(),vs1.copy(), delx, dely)\n",
    "        #\n",
    "        #compute P star pressure\n",
    "        ps1, its1, errs1 = get_pressure(P0.copy(), delx, dely, dt, l2_target, 1./3.,\\\n",
    "                                        fs1.copy(),x3,y3)\n",
    "        #\n",
    "        psg1 = pressure_ghost_cells(ps1.copy(),x3,y3)\n",
    "        #\n",
    "        #pressure fluxes\n",
    "        fpx1, fpy1 = pressure_flux(us.copy(),vs.copy(), psg1.copy(), delx, dely)\n",
    "        #\n",
    "        #update velocities\n",
    "        un[:,:] = us1[:,:] + (dt/3.)*(fpx1[:,:])\n",
    "        vn[:,:] = vs1[:,:] + (dt/3.)*(fpy1[:,:])\n",
    "        un,vn = boundary_conditions(un.copy(),vn.copy())\n",
    "        #\n",
    "        #------------------------------------------------------------------------\n",
    "        #------------------------------------------------------------------------\n",
    "        #stage 2, time advancements\n",
    "        t += dt*(5./12.)\n",
    "        #\n",
    "        #need velocity arrays with ghost cells to compute fluxes\n",
    "        ung2, vng2 = velocity_ghost_cells(un.copy(),vn.copy(), x1, y1, x2, y2)\n",
    "        #\n",
    "        # convective and viscous fluxes\n",
    "        fcx2,fcy2 = convective_flux(ung2.copy(),vng2.copy(), delx, dely)\n",
    "        fvx2,fvy2 = viscous_flux(ung2.copy(),vng2.copy(), delx, dely,visc)\n",
    "        #\n",
    "        Gx2[:,:] = - (5./9.)*(Gx[:,:]) + (fcx2[:,:] + fvx2[:,:])\n",
    "        Gy2[:,:] = - (5./9.)*(Gy[:,:]) + (fcy2[:,:] + fvy2[:,:])\n",
    "        #\n",
    "        #u star 2 velocities\n",
    "        us2[:,:] = un[:,:] + (15*dt/16)*Gx2[:,:]\n",
    "        vs2[:,:] = vn[:,:] + (15*dt/16)*Gy2[:,:]\n",
    "        us2,vs2 = boundary_conditions(us2.copy(),vs2.copy())\n",
    "        #\n",
    "        #update ghost cells\n",
    "        usg2, vsg2 = velocity_ghost_cells(us2.copy(),vs2.copy(),x1, y1, x2, y2)\n",
    "        #\n",
    "        fs2 = get_source_pressure(ps1.copy(),us2.copy(),vs2.copy(), delx, dely)\n",
    "        #\n",
    "        ps2, its2, errs2 = get_pressure(P0.copy(), delx, dely, dt, l2_target, 5./12.,\\\n",
    "                                        fs2.copy(),x3,y3)\n",
    "        psg2 = pressure_ghost_cells(ps2.copy(),x3,y3)\n",
    "        #\n",
    "        fpx2, fpy2 = pressure_flux(us2.copy(),vs2.copy(), psg2.copy(), delx, dely)\n",
    "        #\n",
    "        #update velocities\n",
    "        un[:,:] = us2[:,:] + (5.*dt/12.)*(fpx2[:,:])\n",
    "        vn[:,:] = vs2[:,:] + (5.*dt/12.)*(fpy2[:,:])\n",
    "        un,vn = boundary_conditions(un.copy(),vn.copy())\n",
    "        #-------------------------------------------------------------------------------------\n",
    "        #-------------------------------------------------------------------------------------\n",
    "        #stage 3, time advancements\n",
    "        t += dt*(1./4.)\n",
    "        #\n",
    "        #need velocity arrays with ghost cells to compute fluxes\n",
    "        ung3, vng3 = velocity_ghost_cells(un.copy(),vn.copy(), x1, y1, x2, y2)\n",
    "        #\n",
    "        # convective and viscous fluxes\n",
    "        fcx3,fcy3 = convective_flux(ung3.copy(),vng3.copy(), delx, dely)\n",
    "        fvx3,fvy3 = viscous_flux(ung3.copy(),vng3.copy(), delx, dely, visc)\n",
    "        #\n",
    "        Gx3[:,:] = - (153./128.)*(Gx2[:,:]) + (fcx3[:,:] + fvx3[:,:])\n",
    "        Gy3[:,:] = - (153./128.)*(Gy2[:,:]) + (fcy3[:,:] + fvy3[:,:])\n",
    "        #\n",
    "        #u star 2 velocities\n",
    "        us3[:,:] = un[:,:] + (8*dt/15)*Gx3[:,:]\n",
    "        vs3[:,:] = vn[:,:] + (8*dt/15)*Gy3[:,:]\n",
    "        us3,vs3 = boundary_conditions(us3.copy(),vs3.copy())\n",
    "        #\n",
    "        #update ghost cells\n",
    "        usg3, vsg3 = velocity_ghost_cells(us3.copy(),vs3.copy(),x1, y1, x2, y2)\n",
    "        #\n",
    "        fs3 = get_source_pressure(ps2.copy(),us3.copy(),vs3.copy(), delx, dely)\n",
    "        #\n",
    "        ps3, its3, errs3 = get_pressure(P0.copy(), delx, dely, dt, l2_target, 1./4.,\\\n",
    "                                        fs3.copy(),x3,y3)\n",
    "        psg3 = pressure_ghost_cells(ps3.copy(),x3,y3)\n",
    "        #\n",
    "        fpx3, fpy3 = pressure_flux(us3.copy(),vs3.copy(), psg3.copy(), delx, dely)\n",
    "        #\n",
    "        #update velocities\n",
    "        un[:,:] = us3[:,:] + (1.*dt/4.)*(fpx3[:,:])\n",
    "        vn[:,:] = vs3[:,:] + (1.*dt/4.)*(fpy3[:,:])\n",
    "        un,vn = boundary_conditions(un.copy(),vn.copy())\n",
    "        #\n",
    "        #-------------------------------------------------------------------------------------\n",
    "        #-------------------------------------------------------------------------------------\n",
    "        # update pressure to send back into loop\n",
    "        P = ps3.copy()\n",
    "        #P_err = L2_error(Pan, P)\n",
    "        #arrange variables for output\n",
    "        P_out.append(ps3)\n",
    "        u_out.append(un)\n",
    "        v_out.append(vn)\n",
    "        #\n",
    "        if( numpy.all(numpy.abs(u_out[-1] - u_out[-2]) < 1e-6) == True ):\n",
    "            print('Solution has reached steady state')\n",
    "            break\n",
    "        #\n",
    "        iterations += 1\n",
    "        #\n",
    "    return u_out,v_out,P_out, iterations, t #, dt_v"
   ]
  },
  {
   "cell_type": "code",
   "execution_count": 24,
   "metadata": {
    "collapsed": false
   },
   "outputs": [],
   "source": [
    "ui,vi,pi = initial_conditions(xb2[1],yb2[1],xb3[1],yb3[1],xc[1],yc[1])\n",
    "ui,vi = boundary_conditions(ui.copy(),vi.copy())"
   ]
  },
  {
   "cell_type": "code",
   "execution_count": 25,
   "metadata": {
    "collapsed": false
   },
   "outputs": [
    {
     "name": "stderr",
     "output_type": "stream",
     "text": [
      "/Users/Luis/anaconda/lib/python3.4/site-packages/ipykernel/__main__.py:14: RuntimeWarning: invalid value encountered in double_scalars\n",
      "/Users/Luis/anaconda/lib/python3.4/site-packages/ipykernel/__main__.py:14: RuntimeWarning: divide by zero encountered in double_scalars\n"
     ]
    }
   ],
   "source": [
    "t_end = 10.0\n",
    "Us,Vs, Ps, it, time = rungekutta3(ui.copy(),vi.copy(), pi.copy(),\\\n",
    "                                          dx[1], dy[1], t_end,\\\n",
    "                                         Xb2[1],Yb2[1],Xb3[1],Yb3[1],Xc[1],Yc[1],\\\n",
    "                                         xb2[1],yb2[1],xb3[1],yb3[1],xc[1],yc[1])\n",
    "\n"
   ]
  },
  {
   "cell_type": "code",
   "execution_count": 26,
   "metadata": {
    "collapsed": false
   },
   "outputs": [
    {
     "data": {
      "text/plain": [
       "10.009999999999915"
      ]
     },
     "execution_count": 26,
     "metadata": {},
     "output_type": "execute_result"
    }
   ],
   "source": [
    "time"
   ]
  },
  {
   "cell_type": "code",
   "execution_count": 27,
   "metadata": {
    "collapsed": false
   },
   "outputs": [
    {
     "data": {
      "image/png": "[encoded data removed]",
      "text/plain": [
       "<matplotlib.figure.Figure at 0x1143ff978>"
      ]
     },
     "metadata": {},
     "output_type": "display_data"
    }
   ],
   "source": [
    "plot_2D(xc[1],yc[1],Ps[-1])\n",
    "#pyplot.savefig('final_cf_pressure_8s.png')"
   ]
  },
  {
   "cell_type": "code",
   "execution_count": 28,
   "metadata": {
    "collapsed": false
   },
   "outputs": [
    {
     "data": {
      "text/plain": [
       "(1002, 50, 51)"
      ]
     },
     "execution_count": 28,
     "metadata": {},
     "output_type": "execute_result"
    }
   ],
   "source": [
    "numpy.shape(Us)"
   ]
  },
  {
   "cell_type": "code",
   "execution_count": 29,
   "metadata": {
    "collapsed": false
   },
   "outputs": [
    {
     "data": {
      "image/png": "[encoded data removed]",
      "text/plain": [
       "<matplotlib.figure.Figure at 0x110af54a8>"
      ]
     },
     "metadata": {},
     "output_type": "display_data"
    }
   ],
   "source": [
    "plot_2D(xb2[1],yb2[1],Us[-1])\n",
    "pyplot.savefig('final_u_8s.png')"
   ]
  },
  {
   "cell_type": "code",
   "execution_count": 30,
   "metadata": {
    "collapsed": false
   },
   "outputs": [
    {
     "data": {
      "image/png": "[encoded data removed]",
      "text/plain": [
       "<matplotlib.figure.Figure at 0x11a620400>"
      ]
     },
     "metadata": {},
     "output_type": "display_data"
    }
   ],
   "source": [
    "plot_2D(xb3[1],yb3[1],Vs[-1])\n",
    "pyplot.savefig('final_v_8s.png')"
   ]
  },
  {
   "cell_type": "markdown",
   "metadata": {},
   "source": [
    "##### Streamfunction and Vorticity"
   ]
  },
  {
   "cell_type": "code",
   "execution_count": 31,
   "metadata": {
    "collapsed": true
   },
   "outputs": [],
   "source": [
    "def get_vorticity(u,v,pv,delx,dely):\n",
    "    ''' Finds vorticity in flow field\n",
    "    '''\n",
    "    w = numpy.zeros_like(pv)\n",
    "    #\n",
    "    w[:,:] = (1./delx)*( 0.5*(v[2:-1,2:]+v[1:-2,2:]) -\\\n",
    "                         0.5*(v[2:-1,1:-1]+v[1:-2,1:-1]) )-\\\n",
    "             (1./dely)*(0.5*(u[2:,2:-1]+u[2:,1:-2]) -\\\n",
    "                        0.5*(u[1:-1,2:-1]+u[1:-1,1:-2]))\n",
    "    \n",
    "    #\n",
    "    return w"
   ]
  },
  {
   "cell_type": "code",
   "execution_count": 32,
   "metadata": {
    "collapsed": false
   },
   "outputs": [],
   "source": [
    "def get_streamfunction(fv,delx,dely):\n",
    "    ''' Find streamfunction\n",
    "    '''\n",
    "    psi = numpy.zeros_like(fv)\n",
    "    #\n",
    "    itermax = 200000\n",
    "    itermax2 = itermax-20\n",
    "    #    \n",
    "    l2_norm = 1.1 + l2_target #want to make sure this is high enough!\n",
    "    iterations = 0\n",
    "    l2_err = []\n",
    "    #\n",
    "    while l2_norm > l2_target:\n",
    "        #\n",
    "        pk = psi.copy()\n",
    "        #interior points\n",
    "        psi[1:-1,1:-1] = (1/(2*(delx**2 + dely**2)) )*\\\n",
    "                        ( (dely**2)*(pk[1:-1,2:]+pk[1:-1,:-2]) +\\\n",
    "                          (delx**2)*(pk[2:,1:-1]+pk[:-2,1:-1]) +\\\n",
    "                          (delx**2)*(dely**2)*fv[1:-1,1:-1])\n",
    "        \n",
    "        #------------------------------------------------------------------------    \n",
    "        #\n",
    "        l2_norm = L2_error(psi,pk)\n",
    "        iterations += 1\n",
    "        l2_err.append(l2_norm)\n",
    "        #\n",
    "        if (iterations > itermax2):\n",
    "            print(l2_norm)\n",
    "        if (iterations>itermax):\n",
    "            print('max iterations reached')\n",
    "            break\n",
    "    #\n",
    "    return psi, iterations, l2_err\n",
    "    "
   ]
  },
  {
   "cell_type": "code",
   "execution_count": 33,
   "metadata": {
    "collapsed": true
   },
   "outputs": [],
   "source": [
    "Usg , Vsg = velocity_ghost_cells(Us[-1].copy(),Vs[-1].copy(),\\\n",
    "                                 xb2[1], yb2[1], xb3[1], yb3[1])"
   ]
  },
  {
   "cell_type": "code",
   "execution_count": 34,
   "metadata": {
    "collapsed": false
   },
   "outputs": [],
   "source": [
    "vorticity = get_vorticity(Usg ,Vsg ,Ps[-1] ,dx[1],dy[1])"
   ]
  },
  {
   "cell_type": "code",
   "execution_count": 35,
   "metadata": {
    "collapsed": false
   },
   "outputs": [
    {
     "data": {
      "image/png": "[encoded data removed]",
      "text/plain": [
       "<matplotlib.figure.Figure at 0x11a4f6128>"
      ]
     },
     "metadata": {},
     "output_type": "display_data"
    }
   ],
   "source": [
    "plot_2D(xc[1],yc[1], vorticity)\n",
    "#pyplot.savefig('final_cf_vorticity.png')"
   ]
  },
  {
   "cell_type": "code",
   "execution_count": 36,
   "metadata": {
    "collapsed": false
   },
   "outputs": [
    {
     "name": "stderr",
     "output_type": "stream",
     "text": [
      "/Users/Luis/anaconda/lib/python3.4/site-packages/ipykernel/__main__.py:14: RuntimeWarning: divide by zero encountered in double_scalars\n"
     ]
    }
   ],
   "source": [
    "stream_function,it_psi, err_psi = get_streamfunction(vorticity.copy(), dx[1],dy[1])"
   ]
  },
  {
   "cell_type": "code",
   "execution_count": 42,
   "metadata": {
    "collapsed": false
   },
   "outputs": [
    {
     "data": {
      "image/png": "[encoded data removed]",
      "text/plain": [
       "<matplotlib.figure.Figure at 0x10d78dda0>"
      ]
     },
     "metadata": {},
     "output_type": "display_data"
    }
   ],
   "source": [
    "plot_2D(xc[1],yc[1], stream_function)\n",
    "pyplot.savefig('final_cf_streamfunction_10s.png')"
   ]
  },
  {
   "cell_type": "code",
   "execution_count": 43,
   "metadata": {
    "collapsed": false
   },
   "outputs": [
    {
     "data": {
      "text/plain": [
       "(50, 51)"
      ]
     },
     "execution_count": 43,
     "metadata": {},
     "output_type": "execute_result"
    }
   ],
   "source": [
    "numpy.shape(Us[-1])"
   ]
  },
  {
   "cell_type": "code",
   "execution_count": 117,
   "metadata": {
    "collapsed": false
   },
   "outputs": [],
   "source": [
    "#(Us[-1][:,25])"
   ]
  },
  {
   "cell_type": "code",
   "execution_count": 118,
   "metadata": {
    "collapsed": false
   },
   "outputs": [],
   "source": [
    "#xc[1][:]"
   ]
  },
  {
   "cell_type": "code",
   "execution_count": 119,
   "metadata": {
    "collapsed": false
   },
   "outputs": [],
   "source": [
    "#xc[1][49]"
   ]
  },
  {
   "cell_type": "code",
   "execution_count": 120,
   "metadata": {
    "collapsed": false
   },
   "outputs": [],
   "source": [
    "#vorticity[-1,49]"
   ]
  },
  {
   "cell_type": "code",
   "execution_count": 121,
   "metadata": {
    "collapsed": false
   },
   "outputs": [],
   "source": [
    "#vorticity[-1,:]"
   ]
  }
 ],
 "metadata": {
  "kernelspec": {
   "display_name": "Python 3",
   "language": "python",
   "name": "python3"
  },
  "language_info": {
   "codemirror_mode": {
    "name": "ipython",
    "version": 3
   },
   "file_extension": ".py",
   "mimetype": "text/x-python",
   "name": "python",
   "nbconvert_exporter": "python",
   "pygments_lexer": "ipython3",
   "version": "3.4.4"
  }
 },
 "nbformat": 4,
 "nbformat_minor": 0
}
