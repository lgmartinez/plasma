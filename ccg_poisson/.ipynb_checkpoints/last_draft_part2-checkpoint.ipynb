{
 "cells": [
  {
   "cell_type": "code",
   "execution_count": 1,
   "metadata": {
    "collapsed": false
   },
   "outputs": [
    {
     "data": {
      "text/html": [
       "<link href='http://fonts.googleapis.com/css?family=Alegreya+Sans:100,300,400,500,700,800,900,100italic,300italic,400italic,500italic,700italic,800italic,900italic' rel='stylesheet' type='text/css'>\n",
       "<link href='http://fonts.googleapis.com/css?family=Arvo:400,700,400italic' rel='stylesheet' type='text/css'>\n",
       "<link href='http://fonts.googleapis.com/css?family=PT+Mono' rel='stylesheet' type='text/css'>\n",
       "<link href='http://fonts.googleapis.com/css?family=Shadows+Into+Light' rel='stylesheet' type='text/css'>\n",
       "<link href='http://fonts.googleapis.com/css?family=Nixie+One' rel='stylesheet' type='text/css'>\n",
       "<style>\n",
       "\n",
       "@font-face {\n",
       "    font-family: \"Computer Modern\";\n",
       "    src: url('http://mirrors.ctan.org/fonts/cm-unicode/fonts/otf/cmunss.otf');\n",
       "}\n",
       "\n",
       "#notebook_panel { /* main background */\n",
       "    background: rgb(245,245,245);\n",
       "}\n",
       "\n",
       "div.cell { /* set cell width */\n",
       "    width: 750px;\n",
       "}\n",
       "\n",
       "div #notebook { /* centre the content */\n",
       "    background: #fff; /* white background for content */\n",
       "    width: 1000px;\n",
       "    margin: auto;\n",
       "    padding-left: 0em;\n",
       "}\n",
       "\n",
       "#notebook li { /* More space between bullet points */\n",
       "    margin-top:0.8em;\n",
       "}\n",
       "\n",
       "/* draw border around running cells */\n",
       "div.cell.border-box-sizing.code_cell.running { \n",
       "    border: 1px solid #111;\n",
       "}\n",
       "\n",
       "/* Put a solid color box around each cell and its output, visually linking them*/\n",
       "div.cell.code_cell {\n",
       "    background-color: rgb(256,256,256); \n",
       "    border-radius: 0px; \n",
       "    padding: 0.5em;\n",
       "    margin-left:1em;\n",
       "    margin-top: 1em;\n",
       "}\n",
       "\n",
       "div.text_cell_render{\n",
       "    font-family: 'Alegreya Sans' sans-serif;\n",
       "    line-height: 140%;\n",
       "    font-size: 125%;\n",
       "    font-weight: 400;\n",
       "    width:600px;\n",
       "    margin-left:auto;\n",
       "    margin-right:auto;\n",
       "}\n",
       "\n",
       "\n",
       "/* Formatting for header cells */\n",
       ".text_cell_render h1 {\n",
       "    font-family: 'Nixie One', serif;\n",
       "    font-style:regular;\n",
       "    font-weight: 400;    \n",
       "    font-size: 45pt;\n",
       "    line-height: 100%;\n",
       "    color: rgb(0,51,102);\n",
       "    margin-bottom: 0.5em;\n",
       "    margin-top: 0.5em;\n",
       "    display: block;\n",
       "}\n",
       "\n",
       ".text_cell_render h2 {\n",
       "    font-family: 'Nixie One', serif;\n",
       "    font-weight: 400;\n",
       "    font-size: 30pt;\n",
       "    line-height: 100%;\n",
       "    color: rgb(0,51,102);\n",
       "    margin-bottom: 0.1em;\n",
       "    margin-top: 0.3em;\n",
       "    display: block;\n",
       "}\t\n",
       "\n",
       ".text_cell_render h3 {\n",
       "    font-family: 'Nixie One', serif;\n",
       "    margin-top:16px;\n",
       "    font-size: 22pt;\n",
       "    font-weight: 600;\n",
       "    margin-bottom: 3px;\n",
       "    font-style: regular;\n",
       "    color: rgb(102,102,0);\n",
       "}\n",
       "\n",
       ".text_cell_render h4 {    /*Use this for captions*/\n",
       "    font-family: 'Nixie One', serif;\n",
       "    font-size: 14pt;\n",
       "    text-align: center;\n",
       "    margin-top: 0em;\n",
       "    margin-bottom: 2em;\n",
       "    font-style: regular;\n",
       "}\n",
       "\n",
       ".text_cell_render h5 {  /*Use this for small titles*/\n",
       "    font-family: 'Nixie One', sans-serif;\n",
       "    font-weight: 400;\n",
       "    font-size: 16pt;\n",
       "    color: rgb(163,0,0);\n",
       "    font-style: italic;\n",
       "    margin-bottom: .1em;\n",
       "    margin-top: 0.8em;\n",
       "    display: block;\n",
       "}\n",
       "\n",
       ".text_cell_render h6 { /*use this for copyright note*/\n",
       "    font-family: 'PT Mono', sans-serif;\n",
       "    font-weight: 300;\n",
       "    font-size: 9pt;\n",
       "    line-height: 100%;\n",
       "    color: grey;\n",
       "    margin-bottom: 1px;\n",
       "    margin-top: 1px;\n",
       "}\n",
       "\n",
       ".CodeMirror{\n",
       "    font-family: \"PT Mono\";\n",
       "    font-size: 90%;\n",
       "}\n",
       "\n",
       "</style>\n",
       "<script>\n",
       "    MathJax.Hub.Config({\n",
       "                        TeX: {\n",
       "                           extensions: [\"AMSmath.js\"],\n",
       "                           equationNumbers: { autoNumber: \"AMS\", useLabelIds: true}\n",
       "                           },\n",
       "                tex2jax: {\n",
       "                    inlineMath: [ ['$','$'], [\"\\\\(\",\"\\\\)\"] ],\n",
       "                    displayMath: [ ['$$','$$'], [\"\\\\[\",\"\\\\]\"] ]\n",
       "                },\n",
       "                displayAlign: 'center', // Change this to 'center' to center equations.\n",
       "                \"HTML-CSS\": {\n",
       "                    styles: {'.MathJax_Display': {\"margin\": 4}}\n",
       "                }\n",
       "        });\n",
       "</script>\n"
      ],
      "text/plain": [
       "<IPython.core.display.HTML object>"
      ]
     },
     "execution_count": 1,
     "metadata": {},
     "output_type": "execute_result"
    }
   ],
   "source": [
    "from IPython.core.display import HTML\n",
    "#css_file = '/Users/Luis/numerical-mooc/styles/numericalmoocstyle.css'\n",
    "css_file = './numericalmoocstyle.css'\n",
    "HTML(open(css_file, \"r\").read())"
   ]
  },
  {
   "cell_type": "markdown",
   "metadata": {},
   "source": [
    "##### This notebook uses a cell-centered grid approach to solve the Taylor-Green Vortex. The algorithm uses a RK3 fractional step method\n"
   ]
  },
  {
   "cell_type": "markdown",
   "metadata": {},
   "source": [
    "\n",
    "Integrate the Navier-Stokes equations numerically between t = 0 and t = 2 using (1–3) as initial conditions and periodic boundary conditions over the domain 0 ≤ x ≤ 2π, 0 ≤ y ≤ 2π. Use either the 3rd-order Runge- Kutta explicit time advancement scheme or the Adams-Bashforth scheme. Use a staggered grid (Fig. 2) and compare your results to the analytical solution. To apply the boundary conditions, define a row of ghost points around your grid. Demonstrate the spatial and temporal accuracy of your solver.\n",
    "\n",
    "The Taylor-Green vortex is an exact solution of the Navier-Stokes equations that, for $\\nu$ = 1, is given by\n",
    "\n",
    "\\begin{align}\n",
    "u &= − e^{−2t} \\ cos(x) \\ sin(y) \\\\\n",
    "v &= e^{−2t} \\ sin(x) \\ cos(y) \\\\\n",
    "\\textbf{P} &= − \\frac{e^{−4t}}{4} \\ \\bigg( cos(2x) \\ + \\ cos(2y) \\bigg) \n",
    "\\end{align}\n",
    "\n",
    "where \n",
    "\n",
    "$\n",
    "\\textbf{P} = \\frac{P}{\\rho}\n",
    "$"
   ]
  },
  {
   "cell_type": "code",
   "execution_count": 2,
   "metadata": {
    "collapsed": true
   },
   "outputs": [],
   "source": [
    "from math import pi\n",
    "import numpy\n",
    "#\n",
    "from mpl_toolkits.mplot3d import Axes3D\n",
    "from matplotlib import pyplot, cm\n",
    "#%matplotlib notebook\n",
    "%matplotlib inline\n",
    "#\n",
    "from matplotlib import rcParams\n",
    "rcParams['font.family'] = 'serif'\n",
    "rcParams['font.size'] = 16"
   ]
  },
  {
   "cell_type": "code",
   "execution_count": 3,
   "metadata": {
    "collapsed": true
   },
   "outputs": [],
   "source": [
    "import numba\n",
    "from numba import jit"
   ]
  },
  {
   "cell_type": "code",
   "execution_count": 4,
   "metadata": {
    "collapsed": true
   },
   "outputs": [],
   "source": [
    "# Parameters\n",
    "nx = [26, 51, 101, 151, 201]\n",
    "ny = [26,51, 101, 151, 201]\n",
    "#\n",
    "nxc = [25,50,100,150, 200]\n",
    "nyc = [25,50,100,150, 200]\n",
    "#\n",
    "#Domain Size\n",
    "xmin = 0.\n",
    "xmax = 2.0*numpy.pi\n",
    "ymin = 0.\n",
    "ymax = 2.0*numpy.pi\n",
    "#L2 Target\n",
    "l2_target = 1e-8"
   ]
  },
  {
   "cell_type": "code",
   "execution_count": 5,
   "metadata": {
    "collapsed": false
   },
   "outputs": [],
   "source": [
    "def domain (numxg, numyg, x_min, x_max, y_min, y_max):\n",
    "    #\n",
    "    ngrid = numpy.size(numxg)\n",
    "    # define sizes\n",
    "    delxg = [] #spacing\n",
    "    delyg = []\n",
    "    #\n",
    "    Xbg = []\n",
    "    Ybg = []\n",
    "    #\n",
    "    Xbg2 = []\n",
    "    Ybg2 = []\n",
    "    #\n",
    "    Xbg3 = []\n",
    "    Ybg3 = []\n",
    "    #\n",
    "    Xcg = []\n",
    "    Ycg = []\n",
    "    #\n",
    "    xbg = []\n",
    "    xcg = []\n",
    "    #\n",
    "    ybg = []\n",
    "    ycg = []\n",
    "    #\n",
    "    xbg2 = []\n",
    "    ybg2 = []\n",
    "    #\n",
    "    xbg3 = []\n",
    "    ybg3 = []\n",
    "    #\n",
    "    for i in range(ngrid):\n",
    "        #fill array of grid nodes\n",
    "        nx_k = numxg[i]\n",
    "        ny_k = numyg[i]\n",
    "        #grid spacing\n",
    "        delx_k = (x_max-x_min)/(nx_k-1)\n",
    "        dely_k = (y_max-y_min)/(ny_k-1)\n",
    "        #\n",
    "        delxg.append(delx_k)\n",
    "        delyg.append(dely_k)\n",
    "        #\n",
    "        #general grid, nodes on corners of each cell\n",
    "        xb_k = numpy.linspace(x_min, x_max, nx_k)\n",
    "        yb_k = numpy.linspace(y_min, y_max, ny_k)\n",
    "        #\n",
    "        #needed for velocity calculatons\n",
    "        # x-velocity grid\n",
    "        xb2_k = xb_k.copy()\n",
    "        yb2_k = yb_k[:-1]+(dely_k*.5) \n",
    "        #y-velocity grid\n",
    "        xb3_k = xb_k[:-1]+(delx_k*.5) \n",
    "        yb3_k = yb_k.copy()\n",
    "        #\n",
    "        #needed for pressure\n",
    "        #\n",
    "        xc_k = xb_k[:-1]+(delx_k*.5)      \n",
    "        yc_k = yb_k[:-1]+(dely_k*.5)  \n",
    "        #\n",
    "        xbg.append(xb_k)\n",
    "        xbg2.append(xb2_k)\n",
    "        xbg3.append(xb3_k)\n",
    "        xcg.append(xc_k)\n",
    "        #\n",
    "        ybg.append(yb_k)\n",
    "        ybg2.append(yb2_k)\n",
    "        ybg3.append(yb3_k)\n",
    "        ycg.append(yc_k)\n",
    "        #\n",
    "        Xb_k,Yb_k = numpy.meshgrid(xb_k,yb_k)\n",
    "        Xb2_k,Yb2_k = numpy.meshgrid(xb2_k,yb2_k)\n",
    "        Xb3_k, Yb3_k = numpy.meshgrid(xb3_k,yb3_k)\n",
    "        Xc_k,Yc_k = numpy.meshgrid(xc_k,yc_k)\n",
    "        #\n",
    "        Xbg.append(Xb_k)\n",
    "        Xbg2.append(Xb2_k)\n",
    "        Xbg3.append(Xb3_k)\n",
    "        Xcg.append(Xc_k)\n",
    "        #\n",
    "        Ybg.append(Yb_k)\n",
    "        Ybg2.append(Yb2_k)\n",
    "        Ybg3.append(Yb3_k)\n",
    "        Ycg.append(Yc_k)\n",
    "        #\n",
    "    return xbg,ybg,xcg,ycg, Xbg, Ybg, Xcg, Ycg, delxg, delyg,\\\n",
    "            xbg2, ybg2, Xbg2, Ybg2, xbg3, ybg3, Xbg3, Ybg3\n",
    "        \n",
    "    \n",
    "    "
   ]
  },
  {
   "cell_type": "code",
   "execution_count": 6,
   "metadata": {
    "collapsed": true
   },
   "outputs": [],
   "source": [
    "xb,yb,xc,yc,Xb,Yb,Xc,Yc,dx,dy,\\\n",
    "    xb2, yb2, Xb2, Yb2,\\\n",
    "    xb3, yb3, Xb3, Yb3 = domain (nx, ny, xmin, xmax, ymin, ymax)"
   ]
  },
  {
   "cell_type": "markdown",
   "metadata": {},
   "source": [
    "### grid for x-velocity"
   ]
  },
  {
   "cell_type": "code",
   "execution_count": 7,
   "metadata": {
    "collapsed": false
   },
   "outputs": [
    {
     "data": {
      "text/plain": [
       "(25, 26)"
      ]
     },
     "execution_count": 7,
     "metadata": {},
     "output_type": "execute_result"
    }
   ],
   "source": [
    "numpy.shape(Xb2[0]) #(y,x)"
   ]
  },
  {
   "cell_type": "markdown",
   "metadata": {},
   "source": [
    "##### then, x-velocity grid is (j=25, i=26)"
   ]
  },
  {
   "cell_type": "markdown",
   "metadata": {},
   "source": [
    "### grid for y-velocity"
   ]
  },
  {
   "cell_type": "code",
   "execution_count": 8,
   "metadata": {
    "collapsed": false
   },
   "outputs": [
    {
     "data": {
      "text/plain": [
       "(26, 25)"
      ]
     },
     "execution_count": 8,
     "metadata": {},
     "output_type": "execute_result"
    }
   ],
   "source": [
    "numpy.shape(Xb3[0])"
   ]
  },
  {
   "cell_type": "markdown",
   "metadata": {},
   "source": [
    "##### then, y-velocity grid is (j=26,i=25)"
   ]
  },
  {
   "cell_type": "markdown",
   "metadata": {},
   "source": [
    "### grid for pressure"
   ]
  },
  {
   "cell_type": "code",
   "execution_count": 9,
   "metadata": {
    "collapsed": false
   },
   "outputs": [
    {
     "data": {
      "text/plain": [
       "25"
      ]
     },
     "execution_count": 9,
     "metadata": {},
     "output_type": "execute_result"
    }
   ],
   "source": [
    "numpy.size(xc[0])"
   ]
  },
  {
   "cell_type": "code",
   "execution_count": 10,
   "metadata": {
    "collapsed": false
   },
   "outputs": [
    {
     "data": {
      "text/plain": [
       "25"
      ]
     },
     "execution_count": 10,
     "metadata": {},
     "output_type": "execute_result"
    }
   ],
   "source": [
    "numpy.size(yc[0])"
   ]
  },
  {
   "cell_type": "markdown",
   "metadata": {},
   "source": [
    "##### then the Pressure grid is (j=25, i=25)"
   ]
  },
  {
   "cell_type": "code",
   "execution_count": 11,
   "metadata": {
    "collapsed": false
   },
   "outputs": [
    {
     "data": {
      "image/png": "[encoded data removed]",
      "text/plain": [
       "<matplotlib.figure.Figure at 0x10f45ed30>"
      ]
     },
     "metadata": {},
     "output_type": "display_data"
    }
   ],
   "source": [
    "#\n",
    "fig = pyplot.figure(figsize=(8,8))\n",
    "pyplot.title('Node Locations for Staggered Grid')\n",
    "pyplot.xlabel('x')\n",
    "pyplot.ylabel('y')\n",
    "pyplot.ylim(-1,9.5)\n",
    "pyplot.scatter(Xb2[0], Yb2[0],\\\n",
    "                   s=10, color='b', marker='o', linewidth=0)\n",
    "pyplot.scatter(Xb3[0], Yb3[0],\\\n",
    "                   s=10, color='k', marker='o', linewidth=0)\n",
    "pyplot.scatter(Xc[0], Yc[0],\\\n",
    "                   s=10, color='r', marker='o', linewidth=0)\n",
    "pyplot.legend(['x-vel','y-vel','Pressure']);"
   ]
  },
  {
   "cell_type": "code",
   "execution_count": 12,
   "metadata": {
    "collapsed": true
   },
   "outputs": [],
   "source": [
    "def L2_error(p_new, p_old):\n",
    "    '''This function computes the L2 norm of the error for convergence\n",
    "\n",
    "    Parameters:\n",
    "    ----------\n",
    "    p_new: new computed potential in flow field\n",
    "    p_old: previous flow field potential\n",
    "    \n",
    "    Returns:\n",
    "    ----------\n",
    "    error!\n",
    "    '''\n",
    "    \n",
    "    return numpy.sqrt(numpy.sum((p_new[:,:] - p_old[:,:])**2)/numpy.sum(p_old[:,:]**2))"
   ]
  },
  {
   "cell_type": "code",
   "execution_count": 13,
   "metadata": {
    "collapsed": true
   },
   "outputs": [],
   "source": [
    "def plot_2D(xp, yp, p_sol):\n",
    "    '''This function creates 2D plot for solution\n",
    "\n",
    "    Parameters:\n",
    "    ----------\n",
    "    xp: array of x grid points\n",
    "    yp: array of y grid points\n",
    "    p_sol: 2D array of calculated solution\n",
    "    \n",
    "    Returns:\n",
    "    ----------\n",
    "    2D plot\n",
    "    ''' \n",
    "    fig = pyplot.figure(figsize=(8,5))\n",
    "\n",
    "    pyplot.contour(xp,yp,p_sol)\n",
    "    pyplot.xlabel('$x$')\n",
    "    pyplot.ylabel('$y$')\n",
    "    pyplot.colorbar();"
   ]
  },
  {
   "cell_type": "code",
   "execution_count": 14,
   "metadata": {
    "collapsed": true
   },
   "outputs": [],
   "source": [
    "def plot_3D(xp, yp, p_sol):\n",
    "    '''This function creates 3D plot for solution\n",
    "\n",
    "    Parameters:\n",
    "    ----------\n",
    "    xp: array of x grid points\n",
    "    yp: array of y grid points\n",
    "    p_sol: 2D array of calculated solution\n",
    "    \n",
    "    Returns:\n",
    "    ----------\n",
    "    3D plot of result\n",
    "    '''\n",
    "    fig = pyplot.figure(figsize=(11,7), dpi=100)\n",
    "    ax = fig.gca(projection='3d')\n",
    "    XP,YP = numpy.meshgrid(xp,yp)\n",
    "    surf = ax.plot_surface(XP,YP,p_sol[:], rstride=1, cstride=1, cmap=cm.cool,\\\n",
    "                           linewidth=0, antialiased=False)\n",
    "\n",
    "    ax.set_xlim(0,1)\n",
    "    ax.set_ylim(0,1)\n",
    "    ax.set_xlabel('$x$')\n",
    "    ax.set_ylabel('$y$')\n",
    "    ax.set_zlabel('$z$')\n",
    "    ax.view_init(30,45)"
   ]
  },
  {
   "cell_type": "code",
   "execution_count": 15,
   "metadata": {
    "collapsed": false
   },
   "outputs": [],
   "source": [
    "def vel_analytical(XP1,YP1, XP2, YP2, t):\n",
    "    '''This function calculates the analytical solution to the\n",
    "    x- and y-components of velocity.\n",
    "\n",
    "    Parameters:\n",
    "    ----------\n",
    "    XP: 2D array of floats x-position of mesh\n",
    "    YP: 2D array of floats y-position of mesh\n",
    "    \n",
    "    Returns:\n",
    "    ----------\n",
    "    x and y components of velocity\n",
    "    '''\n",
    "    u_analytical = - numpy.exp(-2.*t) * numpy.cos(XP1) * numpy.sin(YP1)\n",
    "    v_analytical = numpy.exp(-2.*t) * numpy.sin(XP2) * numpy.cos(YP2)\n",
    "    #\n",
    "    U = []\n",
    "    U.append(u_analytical)\n",
    "    U.append(v_analytical)\n",
    "    #\n",
    "    return U #, u_analytical, v_analytical"
   ]
  },
  {
   "cell_type": "code",
   "execution_count": 16,
   "metadata": {
    "collapsed": false
   },
   "outputs": [],
   "source": [
    " Ui= vel_analytical(Xb2[0],Yb2[0],Xb3[0],Yb3[0], 0.0)"
   ]
  },
  {
   "cell_type": "code",
   "execution_count": 17,
   "metadata": {
    "collapsed": false
   },
   "outputs": [
    {
     "data": {
      "text/plain": [
       "(25, 26)"
      ]
     },
     "execution_count": 17,
     "metadata": {},
     "output_type": "execute_result"
    }
   ],
   "source": [
    "numpy.shape(Ui[0]) # for x velocity nodes given in U(j,i)"
   ]
  },
  {
   "cell_type": "code",
   "execution_count": 18,
   "metadata": {
    "collapsed": false
   },
   "outputs": [
    {
     "data": {
      "text/plain": [
       "(26, 25)"
      ]
     },
     "execution_count": 18,
     "metadata": {},
     "output_type": "execute_result"
    }
   ],
   "source": [
    "numpy.shape(Ui[1]) # y velocity nodes given U(j,i)"
   ]
  },
  {
   "cell_type": "code",
   "execution_count": 19,
   "metadata": {
    "collapsed": true
   },
   "outputs": [],
   "source": [
    "def P_analytical(XP,YP, t):\n",
    "    '''This function calculates the analytical solution to the Pressure field\n",
    "    Note that this pressure is P/rho\n",
    "\n",
    "    Parameters:\n",
    "    ----------\n",
    "    XP: 2D array x-position of mesh\n",
    "    YP: 2D array y-position of mesh\n",
    "    \n",
    "    Returns:\n",
    "    ----------\n",
    "    analytical solution to Pressure (P/$\\rho$)\n",
    "    '''\n",
    "    P_analytical = - 0.25*numpy.exp(-4.*t) * ( numpy.cos(2*XP) + numpy.sin(2*YP) )\n",
    "    #\n",
    "    return P_analytical"
   ]
  },
  {
   "cell_type": "code",
   "execution_count": 20,
   "metadata": {
    "collapsed": false
   },
   "outputs": [],
   "source": [
    "Pi = P_analytical(Xc[0], Yc[0], 0.0)"
   ]
  },
  {
   "cell_type": "code",
   "execution_count": 21,
   "metadata": {
    "collapsed": false
   },
   "outputs": [
    {
     "data": {
      "text/plain": [
       "(25, 25)"
      ]
     },
     "execution_count": 21,
     "metadata": {},
     "output_type": "execute_result"
    }
   ],
   "source": [
    "numpy.shape(Pi) # cell-center nodes (j,i)"
   ]
  },
  {
   "cell_type": "markdown",
   "metadata": {},
   "source": [
    "##### define functions for the divergence of the convective, viscous, and pressure fluxes"
   ]
  },
  {
   "cell_type": "code",
   "execution_count": 22,
   "metadata": {
    "collapsed": true
   },
   "outputs": [],
   "source": [
    "def convective_flux(Uv, delx, dely):\n",
    "    '''This function finds the convective flux\n",
    "    for x and y coordinates. These are evaluated on the boundary nodes in accordance\n",
    "    with the locations for u velocities\n",
    "\n",
    "    indexing:\n",
    "    ---------\n",
    "    (j,i)\n",
    "    \n",
    "    Parameters:\n",
    "    ----------\n",
    "    u: 2D array of x-velocity\n",
    "    v: 2D array of y-velocity\n",
    "    delx, dely: x and y spacing\n",
    "    visc: viscosity, scalar\n",
    "    xp1, yp1, xp2, yp2: node locations at which the convective flux is evaluated,\n",
    "                1 is for the u velocity grid and 2 is for the v velocity grid\n",
    "    \n",
    "    Returns:\n",
    "    ----------\n",
    "    convective flux\n",
    "    '''\n",
    "    #\n",
    "    u = Uv[0].copy() # (j=25, i=26)\n",
    "    v = Uv[1].copy() # ( j=26, i=25)\n",
    "    #\n",
    "    Fxc = numpy.zeros_like(u) # (j=25, i=26)\n",
    "    Fyc = numpy.zeros_like(v) # (j=26, i=25)\n",
    "    Fc = [] \n",
    "    #\n",
    "    # do the fluxes for the 'interior' locations first, fluxes at nodes closest \n",
    "    # boundaries are treated separately\n",
    "    #\n",
    "    # x-direction convective fluxes:\n",
    "    Fxc[1:-1,1:-1] = - (0.25/delx)*\\\n",
    "                        ( (u[1:-1,2:]+u[1:-1,1:-1])**2 -\\\n",
    "                             (u[1:-1,1:-1]+u[1:-1,0:-2])**2 ) -\\\n",
    "                        (0.25/dely)*\\\n",
    "                        ((u[2:,1:-1]+u[1:-1,1:-1])*(v[2:-1,1:]+v[2:-1,0:-1]) -\\\n",
    "                         (u[1:-1,1:-1]+u[0:-2,1:-1])*(v[1:-2,1:]+v[1:-2,0:-1]))\n",
    "    \n",
    "    #\n",
    "    # y-direction convective fluxes:\n",
    "    Fyc[1:-1,1:-1] = - (0.25/delx)*\\\n",
    "                        ((u[1:,2:-1]+u[0:-1,2:-1])*(v[1:-1,2:]+v[1:-1,1:-1]) -\\\n",
    "                         (u[1:,1:-2]+u[0:-1,1:-2])*(v[1:-1,1:-1]+v[1:-1,0:-2])) -\\\n",
    "                       (0.25/dely)*\\\n",
    "                        ((v[2:,1:-1]+v[1:-1,1:-1])**2 -\\\n",
    "                         (v[1:-1,1:-1]+v[0:-2,1:-1])**2)    \n",
    "    #\n",
    "    Fc.append(Fxc)\n",
    "    Fc.append(Fyc)\n",
    "    #\n",
    "    return Fc"
   ]
  },
  {
   "cell_type": "code",
   "execution_count": 23,
   "metadata": {
    "collapsed": false
   },
   "outputs": [],
   "source": [
    "Fc_t = convective_flux(Ui.copy(), dx[0], dy[0])"
   ]
  },
  {
   "cell_type": "code",
   "execution_count": 24,
   "metadata": {
    "collapsed": false
   },
   "outputs": [
    {
     "data": {
      "text/plain": [
       "(25, 26)"
      ]
     },
     "execution_count": 24,
     "metadata": {},
     "output_type": "execute_result"
    }
   ],
   "source": [
    "numpy.shape(Fc_t[0])"
   ]
  },
  {
   "cell_type": "code",
   "execution_count": 25,
   "metadata": {
    "collapsed": false
   },
   "outputs": [
    {
     "data": {
      "text/plain": [
       "(26, 25)"
      ]
     },
     "execution_count": 25,
     "metadata": {},
     "output_type": "execute_result"
    }
   ],
   "source": [
    "numpy.shape(Fc_t[1])"
   ]
  },
  {
   "cell_type": "code",
   "execution_count": 26,
   "metadata": {
    "collapsed": true
   },
   "outputs": [],
   "source": [
    "def viscous_flux(Uv, delx, dely, visc):\n",
    "    '''This function finds the convective flux\n",
    "    for x and y coordinates. These are evaluated on the boundary nodes in accordance\n",
    "    with the locations for u velocities\n",
    "\n",
    "    Parameters:\n",
    "    ----------\n",
    "    u: 2D array of x-velocity\n",
    "    v: 2D array of y-velocity\n",
    "    delx, dely: x and y spacing\n",
    "    visc: viscosity, scalar\n",
    "    x_b, y_b: node locations at which the convective flux is evaluated,\n",
    "                use same nodes as x-velocity\n",
    "                \n",
    "    indexing:\n",
    "    ---------\n",
    "    (j,i)\n",
    "    \n",
    "    Returns:\n",
    "    ----------\n",
    "    viscous flux\n",
    "    '''\n",
    "    #\n",
    "    u = Uv[0].copy() # (j=25, i=26)\n",
    "    v = Uv[1].copy() # ( j=26, i=25)\n",
    "    #\n",
    "    Fxv = numpy.zeros_like(u) # (j=25, i=26)\n",
    "    Fyv = numpy.zeros_like(v) # (j=26, i=25)\n",
    "    Fv = [] \n",
    "    #\n",
    "    # do the fluxes for the 'interior' locations first, fluxes at nodes closest \n",
    "    # boundaries are treated separately\n",
    "    Fxv[1:-1,1:-1] = (visc/(delx**2))*(u[1:-1,2:] - 2*u[1:-1,1:-1] + u[1:-1,:-2]) +\\\n",
    "                     (visc/(dely**2))*(u[2:,1:-1] - 2*u[1:-1,1:-1] + u[:-2,1:-1])\n",
    "    #\n",
    "    Fyv[1:-1,1:-1] = (visc/(delx**2))*(v[1:-1,2:] - 2*v[1:-1,1:-1] + v[1:-1,:-2]) +\\\n",
    "                     (visc/(dely**2))*(v[2:,1:-1] - 2*v[1:-1,1:-1] + v[:-2,1:-1])\n",
    "    #\n",
    "    Fv.append(Fxv)\n",
    "    Fv.append(Fyv)\n",
    "    #\n",
    "    return Fv"
   ]
  },
  {
   "cell_type": "code",
   "execution_count": 27,
   "metadata": {
    "collapsed": true
   },
   "outputs": [],
   "source": [
    "Fv_t = viscous_flux(Ui.copy(), dx[0], dy[0], 1.0)"
   ]
  },
  {
   "cell_type": "code",
   "execution_count": 28,
   "metadata": {
    "collapsed": false
   },
   "outputs": [
    {
     "data": {
      "text/plain": [
       "(25, 26)"
      ]
     },
     "execution_count": 28,
     "metadata": {},
     "output_type": "execute_result"
    }
   ],
   "source": [
    "numpy.shape(Fv_t[0])"
   ]
  },
  {
   "cell_type": "code",
   "execution_count": 29,
   "metadata": {
    "collapsed": false
   },
   "outputs": [
    {
     "data": {
      "text/plain": [
       "(26, 25)"
      ]
     },
     "execution_count": 29,
     "metadata": {},
     "output_type": "execute_result"
    }
   ],
   "source": [
    "numpy.shape(Fv_t[1])"
   ]
  },
  {
   "cell_type": "code",
   "execution_count": 30,
   "metadata": {
    "collapsed": true
   },
   "outputs": [],
   "source": [
    "def pressure_flux(Uv,Pv, delx, dely):\n",
    "    '''This function finds the pressure flux\n",
    "    for x and y coordinates. These are evaluated on the boundary nodes in accordance\n",
    "    with the locations for u velocities\n",
    "\n",
    "    Parameters:\n",
    "    ----------\n",
    "    delx, dely: x and y spacing\n",
    "    Pv: array of pressure values\n",
    "    \n",
    "    Returns:\n",
    "    ----------\n",
    "    viscous flux\n",
    "    '''\n",
    "    u = Uv[0].copy() # (j=25, i=26)\n",
    "    v = Uv[1].copy() # ( j=26, i=25)\n",
    "    #\n",
    "    Fpx = numpy.zeros_like(u) # (j=25, i=26)\n",
    "    Fpy = numpy.zeros_like(v) # (j=26, i=25)\n",
    "    Fp = [] \n",
    "    # do the fluxes for the 'interior' locations first, fluxes at nodes closest \n",
    "    # boundaries are treated separately\n",
    "    Fpx[1:-1,1:-1] = (1/delx)*(Pv[1:-1,1:]-Pv[1:-1,:-1])\n",
    "    #\n",
    "    Fpy[1:-1,1:-1] = (1/dely)*(Pv[1:,1:-1] - Pv[:-1,1:-1])\n",
    "    #\n",
    "    Fp.append(Fpx)\n",
    "    Fp.append(Fpy)\n",
    "    #\n",
    "    return Fp"
   ]
  },
  {
   "cell_type": "code",
   "execution_count": 31,
   "metadata": {
    "collapsed": true
   },
   "outputs": [],
   "source": [
    "Fp_t = pressure_flux(Ui.copy(),Pi.copy(),dx[0], dy[0])"
   ]
  },
  {
   "cell_type": "code",
   "execution_count": 32,
   "metadata": {
    "collapsed": false
   },
   "outputs": [
    {
     "data": {
      "text/plain": [
       "(25, 26)"
      ]
     },
     "execution_count": 32,
     "metadata": {},
     "output_type": "execute_result"
    }
   ],
   "source": [
    "numpy.shape(Fp_t[0])"
   ]
  },
  {
   "cell_type": "code",
   "execution_count": 33,
   "metadata": {
    "collapsed": false
   },
   "outputs": [
    {
     "data": {
      "text/plain": [
       "(26, 25)"
      ]
     },
     "execution_count": 33,
     "metadata": {},
     "output_type": "execute_result"
    }
   ],
   "source": [
    "numpy.shape(Fp_t[1])"
   ]
  },
  {
   "cell_type": "code",
   "execution_count": 34,
   "metadata": {
    "collapsed": true
   },
   "outputs": [],
   "source": [
    "def get_dt(Uv, delx, dely, CFL, SIGMA, visc):\n",
    "    #\n",
    "    u = Uv[0].copy() # (j=25, i=26)\n",
    "    v = Uv[1].copy() # ( j=26, i=25)\n",
    "    #\n",
    "    a = numpy.max(u/delx)\n",
    "    b = numpy.max(v/dely)\n",
    "    #\n",
    "    c = []\n",
    "    c.append(a)\n",
    "    c.append(b)\n",
    "    #\n",
    "    deltc = CFL*(1/(numpy.max(c)))\n",
    "    #\n",
    "    dels = []\n",
    "    dels.append(delx**2)\n",
    "    dels.append(dely**2)\n",
    "    deltv = SIGMA * (visc/(numpy.min(dels)))\n",
    "    #\n",
    "    test = []\n",
    "    test.append(deltc)\n",
    "    test.append(deltv)\n",
    "    delt = numpy.min(test)\n",
    "    #\n",
    "    return delt"
   ]
  },
  {
   "cell_type": "code",
   "execution_count": 35,
   "metadata": {
    "collapsed": false
   },
   "outputs": [],
   "source": [
    "dt_t = get_dt(Ui.copy(), dx[0], dy[0], 0.25, 0.62, 1.0)"
   ]
  },
  {
   "cell_type": "code",
   "execution_count": 36,
   "metadata": {
    "collapsed": false
   },
   "outputs": [],
   "source": [
    "def get_pressure(p, Uv, delx, dely, delt, l2_target, factor):\n",
    "    ''' Function uses Jacobi iteration to solve \n",
    "        pressure equation. Apply periodic boundary conditions\n",
    "    \n",
    "    Parameters:\n",
    "    ----------\n",
    "    p : 2D array initial guess\n",
    "    delx: spacing in x direction\n",
    "    dely: spacing in y direction\n",
    "    l2_target: target difference consecutive iterations\n",
    "    factor: ratio for each of the rk stages\n",
    "    \n",
    "    Returns:\n",
    "    -------\n",
    "    p: 2D array of float solution\n",
    "    iterations: number of iterations to convergence\n",
    "    l2_err: l2 norm of error\n",
    "    '''\n",
    "    u = Uv[0].copy() # (j=25, i=26)\n",
    "    v = Uv[1].copy() # ( j=26, i=25)\n",
    "    #    \n",
    "    l2_norm = 1.1 + l2_target #want to make sure this is high enough!\n",
    "    iterations = 0\n",
    "    l2_err = []\n",
    "    #\n",
    "    f = numpy.zeros_like(p) #should be 25by25 for grid 1\n",
    "    f[1:-1,1:-1] = (1./(delt*factor))*\\\n",
    "                    ( (1/delx)*( u[1:-1,2:-1] - u[1:-1,:-3] ) +\\\n",
    "                      (1/dely)*( v[2:-1,1:-1] - v[:-3,1:-1] ) )\n",
    "    \n",
    "    while l2_norm > l2_target:\n",
    "        #\n",
    "        pk = p.copy()\n",
    "        # calculate interior pressure points\n",
    "        p[1:-1,1:-1] = (0.5/(delx**2 + dely**2))*\\\n",
    "                         ( (dely**2)*(pk[1:-1,2:]+pk[1:-1,:-2]) +\\\n",
    "                           (delx**2)*(pk[2:,1:-1]+pk[:-2,1:-1]) -\\\n",
    "                           (delx**2)*(dely**2)*f[1:-1,1:-1])\n",
    "        #boundary conditions\n",
    "        #j=1:-1, i=0\n",
    "        p[1:-1,0] = (0.5/(delx**2 + dely**2))*\\\n",
    "                         ( (dely**2)*(pk[1:-1,1]+pk[1:-1,-1]) +\\\n",
    "                           (delx**2)*(pk[2:,0]+pk[:-2,0]) -\\\n",
    "                           (delx**2)*(dely**2)*f[1:-1,0])\n",
    "        #j=1:-1, i=-1\n",
    "        p[1:-1,-1] = (0.5/(delx**2 + dely**2))*\\\n",
    "                         ( (dely**2)*(pk[1:-1,-2]+pk[1:-1,0]) +\\\n",
    "                           (delx**2)*(pk[2:,-1]+pk[:-2,-1]) -\\\n",
    "                           (delx**2)*(dely**2)*f[1:-1,-1])\n",
    "        #j=0, i=1:-1\n",
    "        p[0,1:-1] = (0.5/(delx**2 + dely**2))*\\\n",
    "                         ( (dely**2)*(pk[0,2:]+pk[0,:-2]) +\\\n",
    "                           (delx**2)*(pk[1,1:-1]+pk[-1,1:-1]) -\\\n",
    "                           (delx**2)*(dely**2)*f[0,1:-1])\n",
    "        #j=-1, i=1:-1\n",
    "        p[-1,1:-1] = (0.5/(delx**2 + dely**2))*\\\n",
    "                         ( (dely**2)*(pk[-1,2:]+pk[-1,:-2]) +\\\n",
    "                           (delx**2)*(pk[-2,1:-1]+pk[0,1:-1]) -\\\n",
    "                           (delx**2)*(dely**2)*f[-1,1:-1])\n",
    "        #j=0,i=0\n",
    "        p[0,0] = (0.5/(delx**2 + dely**2))*\\\n",
    "                         ( (dely**2)*(pk[0,1]+pk[0,-1]) +\\\n",
    "                           (delx**2)*(pk[1,0]+pk[-1,0]) -\\\n",
    "                           (delx**2)*(dely**2)*f[0,0])\n",
    "        #j=-1,i=0\n",
    "        p[-1,0] = (0.5/(delx**2 + dely**2))*\\\n",
    "                         ( (dely**2)*(pk[-1,1]+pk[-1,-1]) +\\\n",
    "                           (delx**2)*(pk[-2,0]+pk[0,0]) -\\\n",
    "                           (delx**2)*(dely**2)*f[-1,0])\n",
    "        #j=0,i=-1\n",
    "        p[0,-1] = (0.5/(delx**2 + dely**2))*\\\n",
    "                         ( (dely**2)*(pk[0,-2]+pk[0,0]) +\\\n",
    "                           (delx**2)*(pk[1,-1]+pk[-1,-1]) -\\\n",
    "                           (delx**2)*(dely**2)*f[0,-1])\n",
    "        #j=-1,i=-1\n",
    "        p[-1,-1] = (0.5/(delx**2 + dely**2))*\\\n",
    "                         ( (dely**2)*(pk[-1,-2]+pk[-1,0]) +\\\n",
    "                           (delx**2)*(pk[-2,-1]+pk[0,-1]) -\\\n",
    "                           (delx**2)*(dely**2)*f[-1,-1])\n",
    "        #\n",
    "        l2_norm = L2_error(p,pk)\n",
    "        iterations += 1\n",
    "        l2_err.append(l2_norm)\n",
    "    #\n",
    "    return p, iterations, l2_err"
   ]
  },
  {
   "cell_type": "code",
   "execution_count": 37,
   "metadata": {
    "collapsed": false
   },
   "outputs": [],
   "source": [
    "Pt, iterat, l2er = get_pressure(Pi.copy(), Ui.copy(), dx[0], dy[0], dt_t,\\\n",
    "                                l2_target, 1./3.)"
   ]
  },
  {
   "cell_type": "code",
   "execution_count": 38,
   "metadata": {
    "collapsed": false
   },
   "outputs": [
    {
     "data": {
      "text/plain": [
       "(25, 25)"
      ]
     },
     "execution_count": 38,
     "metadata": {},
     "output_type": "execute_result"
    }
   ],
   "source": [
    "numpy.shape(Pt)"
   ]
  },
  {
   "cell_type": "code",
   "execution_count": 39,
   "metadata": {
    "collapsed": false
   },
   "outputs": [
    {
     "data": {
      "text/plain": [
       "0.062956082519699377"
      ]
     },
     "execution_count": 39,
     "metadata": {},
     "output_type": "execute_result"
    }
   ],
   "source": [
    "dt_t"
   ]
  },
  {
   "cell_type": "markdown",
   "metadata": {},
   "source": [
    "##### Use Runge-Kutta third-order for time advancement"
   ]
  },
  {
   "cell_type": "code",
   "execution_count": 40,
   "metadata": {
    "collapsed": false
   },
   "outputs": [
    {
     "name": "stderr",
     "output_type": "stream",
     "text": [
      "/Users/Luis/anaconda/lib/python3.4/site-packages/ipykernel/__main__.py:25: DeprecationWarning: using a non-integer number instead of an integer will result in an error in the future\n"
     ]
    }
   ],
   "source": [
    "U_out = []\n",
    "#\n",
    "U = Ui.copy()\n",
    "P = Pi.copy()\n",
    "#\n",
    "t = 0.0\n",
    "iterations = 0.0\n",
    "#\n",
    "#variables for time stepping:\n",
    "CFL=0.3\n",
    "SIGMA=0.62\n",
    "visc=1.0\n",
    "\n",
    "Urk = numpy.zeros_like(U)\n",
    "Urk1 = numpy.zeros_like(U)\n",
    "Urk2 = numpy.zeros_like(U)\n",
    "Urk3 = numpy.zeros_like(U)\n",
    "\n",
    "dt = get_dt(U.copy(), dx[0], dy[0], CFL, SIGMA, visc)\n",
    "#\n",
    "#get fluxes from current velocity fiels:\n",
    "Fc = convective_flux(U.copy(), dx[0], dy[0])\n",
    "Fv = viscous_flux(U.copy(), dx[0], dy[0], visc)\n",
    "# stage 1, time advancement\n",
    "Urk1 = U + (dt/3.)*(Fc+Fv)"
   ]
  },
  {
   "cell_type": "code",
   "execution_count": 41,
   "metadata": {
    "collapsed": false
   },
   "outputs": [
    {
     "data": {
      "text/plain": [
       "(26,)"
      ]
     },
     "execution_count": 41,
     "metadata": {},
     "output_type": "execute_result"
    }
   ],
   "source": [
    "numpy.shape(Urk1[0][:][0])"
   ]
  },
  {
   "cell_type": "code",
   "execution_count": 42,
   "metadata": {
    "collapsed": false
   },
   "outputs": [
    {
     "data": {
      "text/plain": [
       "-0.12533323356430426"
      ]
     },
     "execution_count": 42,
     "metadata": {},
     "output_type": "execute_result"
    }
   ],
   "source": [
    "Urk1[0][0][0]"
   ]
  },
  {
   "cell_type": "code",
   "execution_count": 43,
   "metadata": {
    "collapsed": true
   },
   "outputs": [],
   "source": [
    "def get_bc(Unew,Uold):\n",
    "    #\n",
    "    # indexing (j,i)\n",
    "    u = Uv[0].copy() # (j=25, i=26)\n",
    "    v = Uv[1].copy() # ( j=26, i=25)\n",
    "    #\n",
    "    Unew[0] = Uold[-1,1:-1]\n",
    "    Unew[1] = Uold[1:-1,-1]\n",
    "    #\n",
    "    return Unew"
   ]
  },
  {
   "cell_type": "raw",
   "metadata": {},
   "source": [
    "U_out = []\n",
    "#\n",
    "U = Ui.copy()\n",
    "P = Pi.copy()\n",
    "#\n",
    "t = 0.0\n",
    "iterations = 0.0\n",
    "#\n",
    "#variables for time stepping:\n",
    "CFL=0.3\n",
    "SIGMA=0.62\n",
    "visc=1.0\n",
    "\n",
    "Urk = numpy.zeros_like(U)\n",
    "Urk1 = numpy.zeros_like(U)\n",
    "Urk2 = numpy.zeros_like(U)\n",
    "Urk3 = numpy.zeros_like(U)\n",
    "\n",
    "dt = get_dt(U.copy(), dx[0], dy[0], CFL, SIGMA, visc)\n",
    "#\n",
    "#get fluxes from current velocity fiels:\n",
    "Fc = convective_flux(U.copy(), dx[0], dy[0])\n",
    "Fv = viscous_flux(U.copy(), dx[0], dy[0], visc)\n",
    "# stage 1, time advancement\n",
    "Urk1 = U + (dt/3.)*(Fc+Fv)\n",
    "Prk1, iter1, err1 = get_pressure(P.copy(), Urk1.copy(),\\\n",
    "                                 dx[0], dy[0], dt, l2_target, 1./3.)\n",
    "Fp_rk1 = pressure_flux(Urk1.copy(),Prk1.copy(), dx[0], dy[0])\n",
    "\n",
    "print(numpy.shape(Urk))\n",
    "Urk = Urk1 + (dt/3.)*(Fp_rk1)\n",
    "#print(numpy.shape(Urk))\n",
    "#\n",
    "#stage 2, time advancements\n",
    "Fc2 = convective_flux(Urk.copy(),dx[0], dy[0])\n",
    "Fv2 = viscous_flux(Urk.copy(),dx[0], dy[0],visc)\n",
    "#         print(numpy.shape(Fc2))\n",
    "#         print(numpy.shape(Fc))\n",
    "#         #\n",
    "#         print(dt)\n",
    "Urk2 = Urk + (15*dt/16)*(-5./9.)*(Fc+Fv) +  (15*dt/16)*(Fc2+Fv2)\n",
    "Prk2, iter2, err2 = get_pressure(Prk1.copy(),Urk2.copy(), dx[0], dy[0], dt, l2_target, 5./12.)\n",
    "Fp_rk2 = pressure_flux(Urk2.copy(),Prk2.copy(),dx[0], dy[0])\n"
   ]
  },
  {
   "cell_type": "code",
   "execution_count": 46,
   "metadata": {
    "collapsed": false
   },
   "outputs": [],
   "source": [
    "def rungekutta3(U_init, P_init, delx, dely, t_terminal):\n",
    "    '''This function uses thrid order runge-kutta for fractional\n",
    "        time advancement\n",
    "\n",
    "    Parameters:\n",
    "    ----------\n",
    "    U_initial initial velocities\n",
    "    delx, dely: x and y spacing\n",
    "    t_terminal: ending time\n",
    "    \n",
    "    Returns:\n",
    "    ----------\n",
    "    solved pressure and velocity fields\n",
    "    '''\n",
    "    U_out = []\n",
    "    P_out = []\n",
    "    #\n",
    "    U = U_init.copy()\n",
    "    P = P_init.copy()\n",
    "    #\n",
    "    t = 0.0\n",
    "    iterations = 0.0\n",
    "    #\n",
    "    #variables for time stepping:\n",
    "    CFL=0.3\n",
    "    SIGMA=0.62\n",
    "    visc=1.0\n",
    "    #\n",
    "    while (t < t_terminal):\n",
    "        #\n",
    "        #get time step:\n",
    "        dt = get_dt(U.copy(), delx, dely, CFL, SIGMA, visc)\n",
    "        #\n",
    "        #get fluxes from current velocity fiels:\n",
    "        Fc = convective_flux(U.copy(), delx, dely)\n",
    "        Fv = viscous_flux(U.copy(), delx, dely, visc)\n",
    "        # stage 1, time advancement\n",
    "        Urk1 = U + (dt/3.)*(Fc+Fv)\n",
    "        #Urk1 = get_BC(Urk1.copy(),U.copy())\n",
    "        Prk1, iter1, err1 = get_pressure(P.copy(), Urk1.copy(),\\\n",
    "                                         delx, dely, dt, l2_target, 1./3.)\n",
    "        Fp_rk1 = pressure_flux(Urk1.copy(),Prk1.copy(), delx, dely)\n",
    "        Urk = Urk1 + (dt/3.)*(Fp_rk1)\n",
    "        #print(numpy.shape(Urk))\n",
    "        #\n",
    "        #stage 2, time advancements\n",
    "        Fc2 = convective_flux(Urk.copy(),delx,dely)\n",
    "        Fv2 = viscous_flux(Urk.copy(),delx,dely,visc)\n",
    "#         print(numpy.shape(Fc2))\n",
    "#         print(numpy.shape(Fc))\n",
    "#         #\n",
    "#         print(dt)\n",
    "        Urk2 = Urk + (15*dt/16)*(-5./9.)*(Fc+Fv) + (15*dt/16)*(Fc2+Fv2)\n",
    "        Prk2, iter2, err2 = get_pressure(Prk1.copy(),Urk2.copy(), delx, dely, dt, l2_target, 5./12.)\n",
    "        Fp_rk2 = pressure_flux(Urk2.copy(),Prk2.copy(),delx,dely)\n",
    "        Urk = Urk2 + (5.*dt/12.)*(Fp_rk2)\n",
    "        #\n",
    "        #stage 3:\n",
    "        Fc3 = convective_flux(Urk.copy(),delx,dely)\n",
    "        Fv3 = viscous_flux(Urk.copy(),delx,dely,visc)\n",
    "        #\n",
    "        Urk3 =  Urk + (8.*dt/15.)*(-153./128.)*(-5./9.)*(Fc+Fv) +\\\n",
    "                      (8.*dt/15.)*(-153./128.)*(Fc2+Fv2) +\\\n",
    "                      (8.*dt/15.)*(-153./128.)*(Fc3 + Fv3)\n",
    "        Prk3, iter3, err3 = get_pressure(Prk2.copy(),Urk3.copy(),delx, dely, dt, l2_target, 1./4.)\n",
    "        Fp_rk3 = pressure_flux(Urk3.copy(),Prk3.copy(),delx,dely)\n",
    "        U = Urk3 + (dt*0.25)*Fp_rk3\n",
    "        #\n",
    "        P_out.append(Prk3)\n",
    "        U_out.append(U)\n",
    "        #\n",
    "        t += dt\n",
    "        iterations += 1\n",
    "        #\n",
    "    return U_out, P_out, iterations, t"
   ]
  },
  {
   "cell_type": "code",
   "execution_count": 47,
   "metadata": {
    "collapsed": false
   },
   "outputs": [
    {
     "name": "stderr",
     "output_type": "stream",
     "text": [
      "/Users/Luis/anaconda/lib/python3.4/site-packages/ipykernel/__main__.py:38: DeprecationWarning: using a non-integer number instead of an integer will result in an error in the future\n",
      "/Users/Luis/anaconda/lib/python3.4/site-packages/ipykernel/__main__.py:42: DeprecationWarning: using a non-integer number instead of an integer will result in an error in the future\n",
      "/Users/Luis/anaconda/lib/python3.4/site-packages/ipykernel/__main__.py:52: DeprecationWarning: using a non-integer number instead of an integer will result in an error in the future\n",
      "/Users/Luis/anaconda/lib/python3.4/site-packages/ipykernel/__main__.py:55: DeprecationWarning: using a non-integer number instead of an integer will result in an error in the future\n",
      "/Users/Luis/anaconda/lib/python3.4/site-packages/ipykernel/__main__.py:61: DeprecationWarning: using a non-integer number instead of an integer will result in an error in the future\n",
      "/Users/Luis/anaconda/lib/python3.4/site-packages/ipykernel/__main__.py:64: DeprecationWarning: using a non-integer number instead of an integer will result in an error in the future\n"
     ]
    }
   ],
   "source": [
    "Us,Ps, it, time = rungekutta3(Ui, Pi, dx[0], dy[0], 2.0)"
   ]
  },
  {
   "cell_type": "code",
   "execution_count": 48,
   "metadata": {
    "collapsed": false
   },
   "outputs": [
    {
     "data": {
      "text/plain": [
       "(27, 2)"
      ]
     },
     "execution_count": 48,
     "metadata": {},
     "output_type": "execute_result"
    }
   ],
   "source": [
    "numpy.shape(Us)"
   ]
  },
  {
   "cell_type": "code",
   "execution_count": 49,
   "metadata": {
    "collapsed": false
   },
   "outputs": [
    {
     "data": {
      "text/plain": [
       "(25, 26)"
      ]
     },
     "execution_count": 49,
     "metadata": {},
     "output_type": "execute_result"
    }
   ],
   "source": [
    "numpy.shape(Us[0][0]) #corresponds to x velocities"
   ]
  },
  {
   "cell_type": "code",
   "execution_count": 50,
   "metadata": {
    "collapsed": false
   },
   "outputs": [
    {
     "data": {
      "text/plain": [
       "(26, 25)"
      ]
     },
     "execution_count": 50,
     "metadata": {},
     "output_type": "execute_result"
    }
   ],
   "source": [
    "numpy.shape(Us[0][1]) #corresponds to the y velocities"
   ]
  },
  {
   "cell_type": "code",
   "execution_count": 51,
   "metadata": {
    "collapsed": false
   },
   "outputs": [
    {
     "data": {
      "image/png": "[encoded data removed]",
      "text/plain": [
       "<matplotlib.figure.Figure at 0x10b6fba20>"
      ]
     },
     "metadata": {},
     "output_type": "display_data"
    }
   ],
   "source": [
    "plot_2D(xb2[0], yb2[0], Us[0][0])"
   ]
  },
  {
   "cell_type": "code",
   "execution_count": 52,
   "metadata": {
    "collapsed": false
   },
   "outputs": [
    {
     "data": {
      "image/png": "[encoded data removed]",
      "text/plain": [
       "<matplotlib.figure.Figure at 0x10b75b208>"
      ]
     },
     "metadata": {},
     "output_type": "display_data"
    }
   ],
   "source": [
    "plot_2D(xb3[0], yb3[0], Us[0][1])"
   ]
  },
  {
   "cell_type": "code",
   "execution_count": 53,
   "metadata": {
    "collapsed": false
   },
   "outputs": [
    {
     "data": {
      "text/plain": [
       "(25, 25)"
      ]
     },
     "execution_count": 53,
     "metadata": {},
     "output_type": "execute_result"
    }
   ],
   "source": [
    "numpy.shape(Ps[-1])"
   ]
  },
  {
   "cell_type": "code",
   "execution_count": 54,
   "metadata": {
    "collapsed": false
   },
   "outputs": [
    {
     "data": {
      "image/png": "[encoded data removed]",
      "text/plain": [
       "<matplotlib.figure.Figure at 0x114691898>"
      ]
     },
     "metadata": {},
     "output_type": "display_data"
    }
   ],
   "source": [
    "plot_2D(xc[0], yc[0], Ps[0])"
   ]
  },
  {
   "cell_type": "code",
   "execution_count": 55,
   "metadata": {
    "collapsed": false
   },
   "outputs": [
    {
     "data": {
      "text/plain": [
       "(2,)"
      ]
     },
     "execution_count": 55,
     "metadata": {},
     "output_type": "execute_result"
    }
   ],
   "source": [
    "Uan = vel_analytical(Xb2[0],Yb2[0], Xb3[0], Yb3[0], time)\n",
    "numpy.shape(Uan)"
   ]
  },
  {
   "cell_type": "code",
   "execution_count": 56,
   "metadata": {
    "collapsed": false
   },
   "outputs": [
    {
     "data": {
      "text/plain": [
       "(25, 26)"
      ]
     },
     "execution_count": 56,
     "metadata": {},
     "output_type": "execute_result"
    }
   ],
   "source": [
    "numpy.shape(Us[0][0])"
   ]
  },
  {
   "cell_type": "code",
   "execution_count": 57,
   "metadata": {
    "collapsed": false
   },
   "outputs": [
    {
     "data": {
      "text/plain": [
       "0.98308499442696418"
      ]
     },
     "execution_count": 57,
     "metadata": {},
     "output_type": "execute_result"
    }
   ],
   "source": [
    "L2_error(Uan[0], Us[0][0])"
   ]
  },
  {
   "cell_type": "code",
   "execution_count": 58,
   "metadata": {
    "collapsed": false
   },
   "outputs": [
    {
     "data": {
      "text/plain": [
       "0.98308499442696418"
      ]
     },
     "execution_count": 58,
     "metadata": {},
     "output_type": "execute_result"
    }
   ],
   "source": [
    "L2_error(Uan[1], Us[0][1])"
   ]
  },
  {
   "cell_type": "code",
   "execution_count": null,
   "metadata": {
    "collapsed": true
   },
   "outputs": [],
   "source": [
    "def plot_algb_conv(J_err, GS_err, SOR_err, string_title):\n",
    "    #\n",
    "    pyplot.figure(figsize=(8,5))\n",
    "    pyplot.title(string_title)\n",
    "    pyplot.xlabel(r'iterations', fontsize=18)\n",
    "    pyplot.ylabel(r'$L_2$-norm', fontsize=18)\n",
    "    pyplot.semilogy(numpy.trim_zeros(J_err,'b'),\n",
    "                'b-', lw=2, label='Jacobi')\n",
    "    pyplot.semilogy(numpy.trim_zeros(GS_err,'b'), \n",
    "                'k--', lw=2, label='Gauss-Seidel')\n",
    "    pyplot.semilogy(numpy.trim_zeros(SOR_err,'b'), \n",
    "                'g-', lw=2, label='SOR')\n",
    "    pyplot.legend(fontsize=16);"
   ]
  },
  {
   "cell_type": "code",
   "execution_count": null,
   "metadata": {
    "collapsed": true
   },
   "outputs": [],
   "source": [
    "def plot_error_grid_refine(err1,nv, string_title):\n",
    "    pyplot.figure(figsize=(8,8))\n",
    "    \n",
    "    pyplot.grid(True)\n",
    "    pyplot.xlabel(r'$n_x$', fontsize=18)\n",
    "    pyplot.ylabel(r'$L_2$-norm of the error', fontsize=18)\n",
    "    pyplot.title(string_title)\n",
    "    #\n",
    "    pyplot.loglog(nv, err1, color='k', ls='--', lw=2, marker='o')\n",
    "    pyplot.axis('equal');"
   ]
  }
 ],
 "metadata": {
  "kernelspec": {
   "display_name": "Python 3",
   "language": "python",
   "name": "python3"
  },
  "language_info": {
   "codemirror_mode": {
    "name": "ipython",
    "version": 3
   },
   "file_extension": ".py",
   "mimetype": "text/x-python",
   "name": "python",
   "nbconvert_exporter": "python",
   "pygments_lexer": "ipython3",
   "version": "3.4.4"
  }
 },
 "nbformat": 4,
 "nbformat_minor": 0
}
