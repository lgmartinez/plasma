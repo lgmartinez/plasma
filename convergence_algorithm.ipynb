{
 "cells": [
  {
   "cell_type": "code",
   "execution_count": 1,
   "metadata": {
    "collapsed": false
   },
   "outputs": [
    {
     "data": {
      "text/html": [
       "<link href='http://fonts.googleapis.com/css?family=Alegreya+Sans:100,300,400,500,700,800,900,100italic,300italic,400italic,500italic,700italic,800italic,900italic' rel='stylesheet' type='text/css'>\n",
       "<link href='http://fonts.googleapis.com/css?family=Arvo:400,700,400italic' rel='stylesheet' type='text/css'>\n",
       "<link href='http://fonts.googleapis.com/css?family=PT+Mono' rel='stylesheet' type='text/css'>\n",
       "<link href='http://fonts.googleapis.com/css?family=Shadows+Into+Light' rel='stylesheet' type='text/css'>\n",
       "<link href='http://fonts.googleapis.com/css?family=Nixie+One' rel='stylesheet' type='text/css'>\n",
       "<style>\n",
       "\n",
       "@font-face {\n",
       "    font-family: \"Computer Modern\";\n",
       "    src: url('http://mirrors.ctan.org/fonts/cm-unicode/fonts/otf/cmunss.otf');\n",
       "}\n",
       "\n",
       "#notebook_panel { /* main background */\n",
       "    background: rgb(245,245,245);\n",
       "}\n",
       "\n",
       "div.cell { /* set cell width */\n",
       "    width: 750px;\n",
       "}\n",
       "\n",
       "div #notebook { /* centre the content */\n",
       "    background: #fff; /* white background for content */\n",
       "    width: 1000px;\n",
       "    margin: auto;\n",
       "    padding-left: 0em;\n",
       "}\n",
       "\n",
       "#notebook li { /* More space between bullet points */\n",
       "    margin-top:0.8em;\n",
       "}\n",
       "\n",
       "/* draw border around running cells */\n",
       "div.cell.border-box-sizing.code_cell.running { \n",
       "    border: 1px solid #111;\n",
       "}\n",
       "\n",
       "/* Put a solid color box around each cell and its output, visually linking them*/\n",
       "div.cell.code_cell {\n",
       "    background-color: rgb(256,256,256); \n",
       "    border-radius: 0px; \n",
       "    padding: 0.5em;\n",
       "    margin-left:1em;\n",
       "    margin-top: 1em;\n",
       "}\n",
       "\n",
       "div.text_cell_render{\n",
       "    font-family: 'Alegreya Sans' sans-serif;\n",
       "    line-height: 140%;\n",
       "    font-size: 125%;\n",
       "    font-weight: 400;\n",
       "    width:600px;\n",
       "    margin-left:auto;\n",
       "    margin-right:auto;\n",
       "}\n",
       "\n",
       "\n",
       "/* Formatting for header cells */\n",
       ".text_cell_render h1 {\n",
       "    font-family: 'Nixie One', serif;\n",
       "    font-style:regular;\n",
       "    font-weight: 400;    \n",
       "    font-size: 45pt;\n",
       "    line-height: 100%;\n",
       "    color: rgb(0,51,102);\n",
       "    margin-bottom: 0.5em;\n",
       "    margin-top: 0.5em;\n",
       "    display: block;\n",
       "}\n",
       "\n",
       ".text_cell_render h2 {\n",
       "    font-family: 'Nixie One', serif;\n",
       "    font-weight: 400;\n",
       "    font-size: 30pt;\n",
       "    line-height: 100%;\n",
       "    color: rgb(0,51,102);\n",
       "    margin-bottom: 0.1em;\n",
       "    margin-top: 0.3em;\n",
       "    display: block;\n",
       "}\t\n",
       "\n",
       ".text_cell_render h3 {\n",
       "    font-family: 'Nixie One', serif;\n",
       "    margin-top:16px;\n",
       "    font-size: 22pt;\n",
       "    font-weight: 600;\n",
       "    margin-bottom: 3px;\n",
       "    font-style: regular;\n",
       "    color: rgb(102,102,0);\n",
       "}\n",
       "\n",
       ".text_cell_render h4 {    /*Use this for captions*/\n",
       "    font-family: 'Nixie One', serif;\n",
       "    font-size: 14pt;\n",
       "    text-align: center;\n",
       "    margin-top: 0em;\n",
       "    margin-bottom: 2em;\n",
       "    font-style: regular;\n",
       "}\n",
       "\n",
       ".text_cell_render h5 {  /*Use this for small titles*/\n",
       "    font-family: 'Nixie One', sans-serif;\n",
       "    font-weight: 400;\n",
       "    font-size: 16pt;\n",
       "    color: rgb(163,0,0);\n",
       "    font-style: italic;\n",
       "    margin-bottom: .1em;\n",
       "    margin-top: 0.8em;\n",
       "    display: block;\n",
       "}\n",
       "\n",
       ".text_cell_render h6 { /*use this for copyright note*/\n",
       "    font-family: 'PT Mono', sans-serif;\n",
       "    font-weight: 300;\n",
       "    font-size: 9pt;\n",
       "    line-height: 100%;\n",
       "    color: grey;\n",
       "    margin-bottom: 1px;\n",
       "    margin-top: 1px;\n",
       "}\n",
       "\n",
       ".CodeMirror{\n",
       "    font-family: \"PT Mono\";\n",
       "    font-size: 90%;\n",
       "}\n",
       "\n",
       "</style>\n",
       "<script>\n",
       "    MathJax.Hub.Config({\n",
       "                        TeX: {\n",
       "                           extensions: [\"AMSmath.js\"],\n",
       "                           equationNumbers: { autoNumber: \"AMS\", useLabelIds: true}\n",
       "                           },\n",
       "                tex2jax: {\n",
       "                    inlineMath: [ ['$','$'], [\"\\\\(\",\"\\\\)\"] ],\n",
       "                    displayMath: [ ['$$','$$'], [\"\\\\[\",\"\\\\]\"] ]\n",
       "                },\n",
       "                displayAlign: 'center', // Change this to 'center' to center equations.\n",
       "                \"HTML-CSS\": {\n",
       "                    styles: {'.MathJax_Display': {\"margin\": 4}}\n",
       "                }\n",
       "        });\n",
       "</script>\n"
      ],
      "text/plain": [
       "<IPython.core.display.HTML object>"
      ]
     },
     "execution_count": 1,
     "metadata": {},
     "output_type": "execute_result"
    }
   ],
   "source": [
    "import numpy\n",
    "from numpy import pi\n",
    "import sympy\n",
    "import math\n",
    "import scipy\n",
    "import scipy.optimize\n",
    "from scipy import constants\n",
    "\n",
    "\n",
    "from mpl_toolkits.mplot3d import Axes3D\n",
    "from matplotlib import pyplot, cm\n",
    "%matplotlib inline\n",
    "#\n",
    "from matplotlib import rcParams\n",
    "rcParams['font.family'] = 'serif'\n",
    "rcParams['font.size'] = 16\n",
    "\n",
    "from IPython.core.display import HTML\n",
    "css_file = './numericalmoocstyle.css'\n",
    "HTML(open(css_file, \"r\").read())"
   ]
  },
  {
   "cell_type": "code",
   "execution_count": 2,
   "metadata": {
    "collapsed": true
   },
   "outputs": [],
   "source": [
    "def get_ne(Te_K, e_iz_J, Pt):\n",
    "    '''\n",
    "    Parameters\n",
    "    ----------\n",
    "    Te_K: Plasma Temperature in Kelvin\n",
    "    e_iz: Ionization potential of species in Joules\n",
    "    Pt: Background Pressure\n",
    "    \n",
    "    Return:\n",
    "    ----------\n",
    "    number density of electrons, ions, and neutrals\n",
    "    '''\n",
    "    ne_var = sympy.symbols('ne_var')\n",
    "    #Saha Eqn\n",
    "    f_c =  ( ( (2*pi*constants.m_e*constants.k*Te_K) / (constants.h**2) )**(3/2) ) *\\\n",
    "                 math.exp( (-e_iz_J) / (constants.k*Te_K))\n",
    "    #\n",
    "    ne_var_eqn = sympy.Eq(0, ((ne_var**2 )/f_c) + (2*ne_var) -\\\n",
    "                          (Pt/(Te_K*constants.k)) )\n",
    "    #solve for number density:\n",
    "    nes = sympy.solve(ne_var_eqn, ne_var)\n",
    "    nos = (nes[1]**2)/f_c\n",
    "    nis = nes[1]\n",
    "    #\n",
    "    return nes[1], nos, nis"
   ]
  },
  {
   "cell_type": "code",
   "execution_count": 3,
   "metadata": {
    "collapsed": true
   },
   "outputs": [],
   "source": [
    "def get_I_ion(Rc, ne, Te_eV, m_i):\n",
    "    '''\n",
    "    Parameters\n",
    "    ----------\n",
    "    m_i: mass of ions\n",
    "    Te_eV: Plasma temperature\n",
    "    ne: number density of electrons\n",
    "    Rc: cathode radius\n",
    "    \n",
    "    Return:\n",
    "    ----------\n",
    "    Ion current\n",
    "    '''\n",
    "    I_i = pi*(Rc**2)*\\\n",
    "            0.6*(constants.e)*(ne)*numpy.sqrt( (Te_eV*constants.e) / m_i)\n",
    "        #\n",
    "    return I_i"
   ]
  },
  {
   "cell_type": "code",
   "execution_count": 4,
   "metadata": {
    "collapsed": true
   },
   "outputs": [],
   "source": [
    "def get_T_cathode(Iarc, root, phi_J, Rc, Iion):\n",
    "    '''\n",
    "    Parameters\n",
    "    ----------\n",
    "    Iarc: Arc current\n",
    "    root: Guess for nsolve\n",
    "    phi: work function\n",
    "    Rc: cathode radius\n",
    "    \n",
    "    Return\n",
    "    -----------\n",
    "    Cathode Temperature\n",
    "    '''\n",
    "    Tc = sympy.symbols('Tc')\n",
    "    Tc_eqn = sympy.Eq( Iarc, pi*(Rc**2)*A_R*(Tc**2)*sympy.exp(-phi_J/(constants.k*Tc))\\\n",
    "                  + Iion ) \n",
    "    Tcs = sympy.nsolve(Tc_eqn, Tc, root, verify=False)\n",
    "    Tc_sim = float(Tcs)\n",
    "    \n",
    "    return Tc_sim"
   ]
  },
  {
   "cell_type": "code",
   "execution_count": 5,
   "metadata": {
    "collapsed": true
   },
   "outputs": [],
   "source": [
    "def get_Ie_Ith(Rc, phi_J, ne, Te_eV, Ran, Tc):\n",
    "    '''\n",
    "    Parameters\n",
    "    ----------\n",
    "    Te_eV: Plasma temperature in electron volts\n",
    "    ne: electron number density\n",
    "    phi: work function\n",
    "    Rc: cathode radius\n",
    "    Ran: anode radius\n",
    "    Tc: cathode temperature\n",
    "    \n",
    "    Return\n",
    "    ----------\n",
    "    electron and thermal currents\n",
    "    '''\n",
    "    Ie = pi*(Rc**2)*A_R*(Tc**2)*numpy.exp(-phi_J/(constants.k*Tc))\n",
    "    Ith = 0.25*constants.e*(ne)*\\\n",
    "            (numpy.sqrt((8*constants.e*Te_eV)/(pi*constants.m_e)))*pi*Ran**2\n",
    "    #\n",
    "    return Ie, Ith"
   ]
  },
  {
   "cell_type": "code",
   "execution_count": 6,
   "metadata": {
    "collapsed": true
   },
   "outputs": [],
   "source": [
    "def get_anode_voltage_n_flux(Te_eV, Ith, Iarc, Ran, phi_eV):\n",
    "    '''\n",
    "    Parameters\n",
    "    ----------\n",
    "    Te_eV: Plasma temperature\n",
    "    I_th: thermal current\n",
    "    Iarc: Input arc current\n",
    "    \n",
    "    Return:\n",
    "    ----------\n",
    "    Anode voltage drop in eV, and Heat flux density at anode\n",
    "    '''\n",
    "    #\n",
    "    ua_ev =  - Te_eV * math.log(Ith/Iarc)\n",
    "    Qan = (Iarc/(pi*Ran**2))*((2.*Te_eV + ua_ev + phi_eV))\n",
    "    \n",
    "    return ua_ev, Qan"
   ]
  },
  {
   "cell_type": "code",
   "execution_count": 7,
   "metadata": {
    "collapsed": true
   },
   "outputs": [],
   "source": [
    "def get_Ta_ABL(m_i, root, hv, cp, qa, Ti, Ran, A, B):\n",
    "    '''\n",
    "    Parameters\n",
    "    ----------\n",
    "    m_i: ion mass\n",
    "    root: root for nsolve\n",
    "    hv: heat of vaporization\n",
    "    cp: specific hear\n",
    "    qa: heat flux density at anode\n",
    "    Ti: initial temperature\n",
    "    Ran: anode temperature\n",
    "    A,B: constants for vapor pressure function\n",
    "    '''\n",
    "\n",
    "    Ta = sympy.symbols('Ta')\n",
    "    #\n",
    "    Ta_eqn = qa - ( (0.133*sympy.exp(2.3*(A - B/Ta)))*\\\n",
    "                              sympy.sqrt(m_i/(2*pi*constants.k*Ta)))*\\\n",
    "                   (cp*Ta + hv+ cp*(Ta-Ti))\n",
    "    #\n",
    "    Ta_sol = sympy.nsolve(Ta_eqn, root, verify=False)\n",
    "    #\n",
    "    Tan = float(Ta_sol)\n",
    "    \n",
    "    ablation = (0.133*numpy.exp(2.3*(A - B/Tan)))*\\\n",
    "                numpy.sqrt(m_i/(2*pi*constants.k*Tan))*\\\n",
    "                numpy.pi*(Ran**2)*1e6\n",
    "    #\n",
    "    return Tan, ablation"
   ]
  },
  {
   "cell_type": "code",
   "execution_count": 8,
   "metadata": {
    "collapsed": true
   },
   "outputs": [],
   "source": [
    "def get_collisions_sigma(ne,ni,no, Te_K):\n",
    "    # Parameters for Collisions\n",
    "    re = 2.8179403267e-15 # classical electron radius in meters\n",
    "    gamma = numpy.exp(0.577) #from Euler's constant\n",
    "    #------------\n",
    "    Qm = 40e-20\n",
    "\n",
    "\n",
    "    ke = math.sqrt((4*pi*ne*(constants.e**2))/(Te_K*constants.k))\n",
    "\n",
    "    lnA = numpy.log((4*constants.k*Te_K)/((gamma**2)*(ke)*(constants.e**2))) -\\\n",
    "        2*numpy.log(numpy.sqrt(2))\n",
    "\n",
    "    # electron-neutral collision frequency\n",
    "    v_eo = (4/3)*numpy.sqrt((8*constants.k*Te_K)/(pi*constants.m_e))*\\\n",
    "                Qm*(no)\n",
    "\n",
    "    # electron-neutral collision frequency\n",
    "    v_ei = (4/3)*numpy.sqrt(2*pi)*(ni)*\\\n",
    "            (((constants.e**2)/(constants.k*Te_K))**2)*\\\n",
    "            numpy.sqrt((constants.k*Te_K)/constants.m_e)*lnA\n",
    "    #total electron collision frequency\n",
    "    ve_t = v_ei + v_eo\n",
    "    #\n",
    "    #electrical conductivity\n",
    "    sigma = (ne*constants.e**2)/(constants.m_e* ve_t)\n",
    "    #\n",
    "    return ve_t, sigma"
   ]
  },
  {
   "cell_type": "code",
   "execution_count": 9,
   "metadata": {
    "collapsed": true
   },
   "outputs": [],
   "source": [
    "def get_Upl(Iarc, Lgap, sigma, Rarc):\n",
    "    #\n",
    "    u_pl = (Iarc*Lgap)/(sigma*pi*Rarc**2)\n",
    "    return u_pl"
   ]
  },
  {
   "cell_type": "code",
   "execution_count": 10,
   "metadata": {
    "collapsed": true
   },
   "outputs": [],
   "source": [
    "def get_fluxes(Tc, Ti, lmbda, Rc, Em):\n",
    "    #\n",
    "    # thermal conduction flux (W/m2)\n",
    "    Q_con = ((Tc-Ti)*lmbda)/(Rc*(pi**(3/2)) )\n",
    "    # radiative  flux (W/m2)\n",
    "    Q_rad = Em*constants.sigma*(Tc**4)\n",
    "    #\n",
    "    return Q_con, Q_rad"
   ]
  },
  {
   "cell_type": "code",
   "execution_count": 11,
   "metadata": {
    "collapsed": true
   },
   "outputs": [],
   "source": [
    "def get_U_cathode(Rc, Iion, qcon, qrad, phi_eV, e_iz_eV):\n",
    "    #\n",
    "    Uc = ((pi*(Rc**2))/(Iion))*( qcon + qrad ) + phi_eV + e_iz_eV\n",
    "    #\n",
    "    return Uc"
   ]
  },
  {
   "cell_type": "code",
   "execution_count": 12,
   "metadata": {
    "collapsed": false
   },
   "outputs": [],
   "source": [
    "def get_energy_conservation(Iarc, Upl, Uc, Ie, Ta, Te_eV, Ua_eV, e_iz_eV, Iion,\\\n",
    "                           m_i, ne, Lgap, Ran, ve):\n",
    "    #\n",
    "    #Joule Heating\n",
    "    JH = Iarc*(Upl) + Uc*Ie\n",
    "    #\n",
    "    #Losses\n",
    "    Tan_eV = Ta/(11604.52500617)\n",
    "    #\n",
    "    loss12 = Iarc*(2*Te_eV + Ua_eV) + e_iz_eV*Iion\n",
    "    loss3 = 3*(constants.m_e/m_i)*\\\n",
    "            (Te_eV-Tan_eV)*ne*Lgap*pi*(Ran**2)*ve*constants.e\n",
    "    # Conservation:\n",
    "    cons = JH/(loss12 + loss3)\n",
    "    #Error:\n",
    "    err = numpy.abs(1 - cons)\n",
    "    #\n",
    "    return err\n",
    "    "
   ]
  },
  {
   "cell_type": "code",
   "execution_count": 13,
   "metadata": {
    "collapsed": false
   },
   "outputs": [],
   "source": [
    "def get_energy_balance(Te_eV, Pt, Ti, Iarc, Rc, Ran, Lgap, e_iz_eV, m_i, phi_eV,\\\n",
    "                      h_v, c_p, A, B, Em, root, lmbda):\n",
    "    '''\n",
    "    Parameters\n",
    "    ----------\n",
    "    Te_eV: Plasma temperature\n",
    "    Pt: Background Pressure\n",
    "    Ti: initial temperature\n",
    "    Iarc: Input current\n",
    "    Rc: cathode radius\n",
    "    Ran: anode radius\n",
    "    Lgap: gap between anode and cathode\n",
    "    e_iz: ionization potential\n",
    "    phi_eV: work function of species #in electron volts\n",
    "    '''\n",
    "    #\n",
    "    Te_K = Te_eV*(11604.52500617) # K\n",
    "    e_iz_J = e_iz_eV*constants.e \n",
    "    phi_J = phi_eV*constants.e\n",
    "    #\n",
    "    #Define Arc Radius:\n",
    "    if (Iarc < 50.0):\n",
    "        Rarc = Ran\n",
    "    if (Iarc >= 50.0):\n",
    "        Rarc = Ran*0.02*Iarc\n",
    "    #------\n",
    "\n",
    "    # Get Electron, Ion, and Neutral number density:\n",
    "    ne, no, ni = get_ne(Te_K, e_iz_J, Pt)\n",
    "    #------\n",
    "\n",
    "    # Ion current:\n",
    "    I_ion = get_I_ion(Rc, ne, Te_eV, m_i)\n",
    "    #------\n",
    "\n",
    "    #Cathode Temperature:\n",
    "    T_c = get_T_cathode(Iarc, root, phi_J, Rc, I_ion)\n",
    "    #-------\n",
    "\n",
    "    # Electron and Thermal Currents:\n",
    "    I_e, I_th = get_Ie_Ith(Rc, phi_J, ne, Te_eV, Ran, T_c)\n",
    "    #--------\n",
    "\n",
    "    # Anode Voltage Drop and Heat flux density at anode:\n",
    "    Ua_eV, q_a =  get_anode_voltage_n_flux(Te_eV, I_th, Iarc, Ran, phi_eV) #eV\n",
    "    #---------\n",
    "\n",
    "    # Anode Temperature and Ablation:\n",
    "    T_a, abl = get_Ta_ABL(m_i, root, h_v, c_p, q_a, Ti, Ran, A, B)\n",
    "    #---------\n",
    "    \n",
    "    #Collisions and electrical conductivity\n",
    "    ve, sigma_e = get_collisions_sigma(ne,ni,no, Te_K)\n",
    "    #---------\n",
    "    \n",
    "    # Inter-electrode Voltage\n",
    "    Upl = get_Upl(Iarc, Lgap, sigma_e, Rarc)\n",
    "    #---------\n",
    "    \n",
    "    #fluxes (thermal and radiation)\n",
    "    q_con, q_rad = get_fluxes(T_c, Ti, lmbda, Rc, Em)\n",
    "    \n",
    "    #Cathode voltage:\n",
    "    U_c = get_U_cathode(Rc, I_ion, q_con, q_rad, phi_eV, e_iz_eV)\n",
    "    \n",
    "    #Energy conservation\n",
    "    Error = get_energy_conservation(Iarc, Upl, U_c, I_e, T_a, Te_eV, Ua_eV, e_iz_eV,\\\n",
    "                                    I_ion, m_i, ne, Lgap, Ran, ve)\n",
    "    #\n",
    "    # Return resolved variables:\n",
    "    return ne, no, ni, I_ion, T_c, I_e, Ua_eV, q_a, T_a, abl, sigma_e, Upl, U_c,\\\n",
    "            Error\n",
    "    "
   ]
  },
  {
   "cell_type": "markdown",
   "metadata": {},
   "source": [
    "### Parameters"
   ]
  },
  {
   "cell_type": "code",
   "execution_count": 14,
   "metadata": {
    "collapsed": true
   },
   "outputs": [],
   "source": [
    "# Inputs to Model\n",
    "\n",
    "#Plasma Temperature guess\n",
    "#TeeV = 0.55 # given in eV\n",
    "\n",
    "#Background Pressure\n",
    "Pt = 300 * 133.322 # torr to Pa\n",
    "\n",
    "#Initial Cathode and Anode Temperatures, assume room temp in Kelvin:\n",
    "To = 298.15\n",
    "\n",
    "#Input Arc current\n",
    "Iarc = 50.\n",
    "\n",
    "#dimensions\n",
    "Rc = Rc = (12.5/2.) * 1./1000. # cathode radius [meters]\n",
    "Ran = 6.35/2. * 1./1000.  #anode radius [meters]\n",
    "Lgap = 3.5 * 1./1000. #interelectrode gap [meters]\n",
    "\n",
    "# Ion Mass:\n",
    "UAMU = 1.660538921e-27 # Unified atomic mass unit in Kg\n",
    "\n",
    "mi_He = UAMU*4.002602\n",
    "mi_C = UAMU*12.0107\n",
    "\n",
    "m_i_AMU = (mi_He + mi_C) # given in kilograms\n",
    "\n",
    "#Richardson Constant:\n",
    "A_R = 1.2e6 #constant in electron current density eqn [A/(m^2 K^2)], pg.62\n",
    "\n",
    "# Carbon-Specific Properties\n",
    "phi_C_eV = 4.81 #eV # work function\n",
    "dH_C = (355.8/(0.012))*1000. #convert kJ/Kmol to J/kg, heat of vaporization carbon\n",
    "cp_C = 710.0 # J/(Kg*K) #specific heat @ constant pressure\n",
    "A_C = 15.73\n",
    "B_C = 40030.0\n",
    "Em_C = 0.70\n",
    "\n",
    "#Thermal Conductivity Carbon\n",
    "lmbda_C = 1.7 #thermal conductivity carbon W m-1 K-1\n",
    "\n",
    "E_C_eV = 11.2603 # ionization energy of carbon in eV\n",
    "E_C_J = 11.2603*constants.e # ionization energy of carbon in Joules"
   ]
  },
  {
   "cell_type": "code",
   "execution_count": 15,
   "metadata": {
    "collapsed": false
   },
   "outputs": [],
   "source": [
    "# n_e, n_o, n_i, Iion, Tc,\\\n",
    "# Ie, UaeV, qa, Ta, ABL,\\\n",
    "# sigma, U_pl, Uc, cons_err = get_energy_balance(Te_eV, Pt, To, Iarc, Rc, Ran,\\\n",
    "#                                                Lgap, E_C_eV, m_i_AMU, phi_C_eV,\\\n",
    "#                                                   dH_C, cp_C, A_C, B_C, Em_C,\\\n",
    "#                                                     3000., lmbda_C)"
   ]
  },
  {
   "cell_type": "code",
   "execution_count": 16,
   "metadata": {
    "collapsed": true
   },
   "outputs": [],
   "source": [
    "ta_int = 0.5 #Lower Range for bisection method\n",
    "tb_int = 0.75 #Upper Range for bisection method\n",
    "rs = 3000. #for root finding"
   ]
  },
  {
   "cell_type": "code",
   "execution_count": 17,
   "metadata": {
    "collapsed": false
   },
   "outputs": [],
   "source": [
    "def bisection(Ta_int,Tc_int,\\\n",
    "              Pt, Ti, Iarc, Rc, Ran, Lgap, e_iz_eV, m_i, phi_eV,\\\n",
    "                      h_v, c_p, A, B, Em, root, lmbda):\n",
    "    '''\n",
    "    Solves the energy balance equation using the bisection method to within 95 percent\n",
    "    agreement between joule heating and losses\n",
    "    \n",
    "    Parameters\n",
    "    ----------\n",
    "    \n",
    "    a_int,b_int - range of plasma temperatures\n",
    "\n",
    "    Pt: Background Pressure\n",
    "    Ti: initial temperature\n",
    "    Iarc: Input current\n",
    "    Rc: cathode radius\n",
    "    Ran: anode radius\n",
    "    Lgap: gap between anode and cathode\n",
    "    e_iz: ionization potential\n",
    "    phi_eV: work function of species #in electron volts\n",
    "    '''\n",
    "    #Limit the number of iterations\n",
    "    itermax = 1000\n",
    "    itermax2 = 1000\n",
    "    iterations = 0 \n",
    "    #\n",
    "    #Tolerance for energy conservation (95%)\n",
    "    tol = 5e-2\n",
    "    tol2 = 1e-3\n",
    "    #\n",
    "    # intiate midpoint:\n",
    "    Tb_int = (numpy.abs(Tc_int-Ta_int)/2.0) + Ta_int\n",
    "    #\n",
    "    cons_err =  1.1 + tol\n",
    "    #\n",
    "    while (cons_err > tol) :\n",
    "        #and (iterations > itermax)\n",
    "        #\n",
    "        # At end point a:\n",
    "        ne_a, no_a, ni_a, Iion_a, Tc_a,\\\n",
    "         Ie_a, UaeV_a, qa_a, Ta_a, ABL_a,\\\n",
    "            sigma_a, U_pl_a, Uc_a, cons_err_a =\\\n",
    "                    get_energy_balance(Ta_int, Pt, Ti, Iarc, Rc, Ran, Lgap, e_iz_eV,\\\n",
    "                                                            m_i, phi_eV,h_v,c_p,A,B,\\\n",
    "                                                                   Em,root, lmbda)\n",
    "        # At end point c:\n",
    "        ne_c, no_c, ni_c, Iion_c, Tc_c,\\\n",
    "         Ie_c, UaeV_c, qa_c, Ta_c, ABL_c,\\\n",
    "            sigma_c, U_pl_c, Uc_c, cons_err_c =\\\n",
    "                    get_energy_balance(Tc_int, Pt, Ti, Iarc, Rc, Ran, Lgap, e_iz_eV,\\\n",
    "                                                            m_i, phi_eV,h_v,c_p,A,B,\\\n",
    "                                                                   Em,root, lmbda)\n",
    "        # At midpoint b_int:\n",
    "        ne_b, no_b, ni_b, Iion_b, Tc_b,\\\n",
    "         Ie_b, UaeV_b, qa_b, Ta_b, ABL_b,\\\n",
    "            sigma_b, U_pl_b, Uc_b, cons_err_b =\\\n",
    "                get_energy_balance(Tb_int, Pt, Ti, Iarc,Rc, Ran, Lgap, e_iz_eV,\\\n",
    "                                                            m_i, phi_eV,h_v,c_p,A,B,\\\n",
    "                                                                Em,root, lmbda)\n",
    "        #\n",
    "#         print('hello, iteration no.: %.4g' %iterations)\n",
    "        \n",
    "#         print('err_a %.4g ' %cons_err_a)\n",
    "#         print('err_b %.4g ' %cons_err_b)\n",
    "#         print('err_c %.4g ' %cons_err_c)\n",
    "        \n",
    "        #------------------\n",
    "        x = float('inf') # using for logic statements\n",
    "#         print (cons_err_b == x)\n",
    "        #------------------\n",
    "\n",
    "        if (cons_err_a==x) or (cons_err_b==x) or (cons_err_c==x):\n",
    "#             print('Ta: %.4g ' % Ta_int)\n",
    "#             print('Tb: %.4g ' %tb_int)\n",
    "            \n",
    "#             print('err_a %.4g ' %cons_err_a)\n",
    "#             print('err_b %.4g ' %cons_err_b)\n",
    "#             print('err_c %.4g ' %cons_err_c)\n",
    "        #\n",
    "            cons_err = min( cons_err_a, cons_err_b, cons_err_c )\n",
    "            #\n",
    "            if (cons_err==cons_err_a):\n",
    "                T_plasma = Ta_int\n",
    "            if (cons_err==cons_err_b):\n",
    "                T_plasma = Tb_int\n",
    "            #\n",
    "            #\n",
    "            if (T_plasma==Tb_int):\n",
    "                #\n",
    "                iterations2 = 0\n",
    "            #\n",
    "                while (cons_err > tol):\n",
    "            \n",
    "                    T_plasma -= 1e-4\n",
    "    \n",
    "                    ne_b, no_b, ni_b, Iion_b, Tc_b,\\\n",
    "                     Ie_b, UaeV_b, qa_b, Ta_b, ABL_b,\\\n",
    "                        sigma_b, U_pl_b, Uc_b, cons_err_b =\\\n",
    "                                get_energy_balance(T_plasma, Pt, Ti, Iarc, Rc,\\\n",
    "                                                   Ran, Lgap, e_iz_eV, m_i, phi_eV,\n",
    "                                                   h_v,c_p,A,B, Em,root, lmbda)\n",
    "\n",
    "                    cons_err = cons_err_b \n",
    "                    print('#1: error %.4g' %cons_err)\n",
    "                    iterations2 += 1\n",
    "                    \n",
    "                    if (iterations2>itermax):\n",
    "                        print('maximum iterations exceeded 1')\n",
    "                        break\n",
    "            #\n",
    "                    if (cons_err < tol):\n",
    "                        print('#1: 5e-2 convergence after bisection caused inf val.')\n",
    "                        break\n",
    "    \n",
    "            if (T_plasma == Ta_int):\n",
    "                #\n",
    "                print('at this point lower Plasma_temp : %.4g ' %T_plasma)\n",
    "                iterations2 = 0\n",
    "                #\n",
    "                while (cons_err > tol):\n",
    "            \n",
    "                    T_plasma += 1e-4\n",
    "    \n",
    "                    ne_a, no_a, ni_a, Iion_a, Tc_a,\\\n",
    "                         Ie_a, UaeV_a, qa_a, Ta_a, ABL_a,\\\n",
    "                            sigma_a, U_pl_a, Uc_a, cons_err_a =\\\n",
    "                                    get_energy_balance(T_plasma, Pt, Ti, Iarc, Rc,\\\n",
    "                                                    Ran, Lgap, e_iz_eV, m_i, phi_eV,\n",
    "                                                       h_v,c_p,A,B, Em,root, lmbda)\n",
    "    \n",
    "                    cons_err = cons_err_a \n",
    "                    print('#2: error %.4g' %cons_err)\n",
    "                    iterations2 += 1\n",
    "            #\n",
    "                    if (iterations2>itermax):\n",
    "                        print('maximum iterations exceeded 2')\n",
    "                        break\n",
    "            #\n",
    "                    if (cons_err < tol):\n",
    "                        print('#2: 5e-2 convergence after bisection caused inf val.')\n",
    "                        break\n",
    "        \n",
    "        #------------------\n",
    "        # Bisection Action:\n",
    "        # \n",
    "        else:\n",
    "            if (cons_err_a != x) and (cons_err_b!= x) and (cons_err_c!= x) :\n",
    "                cons_err = min(cons_err_a, cons_err_b, cons_err_c)\n",
    "\n",
    "                if (cons_err == cons_err_a):\n",
    "                    T_plasma = Ta_int\n",
    "                elif (cons_err == cons_err_b):\n",
    "                    T_plasma = Tb_int\n",
    "                elif (cons_err == cons_err_c):\n",
    "                    T_plasma = Tc_int\n",
    "\n",
    "                # Check for convergence:\n",
    "                if (cons_err < tol ):\n",
    "                    print('95 percent convergence achieved!')\n",
    "                    break\n",
    "                #\n",
    "                diff_err_ab = numpy.abs(cons_err_b - cons_err_a)\n",
    "                diff_err_bc = numpy.abs(cons_err_c - cons_err_b)\n",
    "                \n",
    "#                 print('error A-B:%.4g' %diff_err_ab)\n",
    "#                 print('error B-C:%.4g' %diff_err_bc)\n",
    "\n",
    "                if (diff_err_ab < diff_err_bc):\n",
    "                    cons_err = min(cons_err_a, cons_err_b)\n",
    "                    Tc_int = Tb_int\n",
    "                    Tb_int = (numpy.abs(Tc_int-Ta_int)/2.0) + Ta_int\n",
    "                    #\n",
    "#                     print('Tc:%.4g' %Tc_int)\n",
    "#                     print('Tb:%.4g' %Tb_int)\n",
    "                #\n",
    "                elif (diff_err_bc < diff_err_ab):\n",
    "                    cons_err = min(cons_err_b, cons_err_c)\n",
    "                    Ta_int = Tb_int\n",
    "                    Tb_int = (numpy.abs(Tc_int-Ta_int)/2.0) + Ta_int\n",
    "\n",
    "                iterations +=1\n",
    "                iterations2 = iterations\n",
    "\n",
    "                if (iterations>itermax):\n",
    "                    print('maximum iterations exceeded 3')\n",
    "                    break\n",
    "\n",
    "    return T_plasma, iterations, iterations2, cons_err\n"
   ]
  },
  {
   "cell_type": "code",
   "execution_count": 18,
   "metadata": {
    "collapsed": false
   },
   "outputs": [
    {
     "name": "stdout",
     "output_type": "stream",
     "text": [
      "at this point lower Plasma_temp : 0.625 \n",
      "#2: error inf\n",
      "#2: error 0.6013\n",
      "#2: error 0.6029\n",
      "#2: error 0.6042\n",
      "#2: error 0.6055\n",
      "#2: error inf\n",
      "#2: error 0.6079\n",
      "#2: error inf\n",
      "#2: error 2440\n",
      "#2: error inf\n",
      "#2: error 335.5\n",
      "#2: error inf\n",
      "#2: error 0.6153\n",
      "#2: error 17.5\n",
      "#2: error 40.83\n",
      "#2: error 0.4858\n",
      "#2: error inf\n",
      "#2: error inf\n",
      "#2: error inf\n",
      "#2: error inf\n",
      "#2: error 0.6089\n",
      "#2: error inf\n",
      "#2: error inf\n",
      "#2: error 1.435\n",
      "#2: error 49.41\n",
      "#2: error inf\n",
      "#2: error 0.6319\n",
      "#2: error 0.6331\n",
      "#2: error 1.033\n",
      "#2: error inf\n",
      "#2: error inf\n",
      "#2: error inf\n",
      "#2: error 481.1\n",
      "#2: error 1780\n",
      "#2: error 198.5\n",
      "#2: error 76.04\n",
      "#2: error 39.11\n",
      "#2: error 23.16\n",
      "#2: error 0.6456\n",
      "#2: error 9.949\n",
      "#2: error inf\n",
      "#2: error inf\n",
      "#2: error 3.588e+15\n",
      "#2: error inf\n",
      "#2: error 0.6521\n",
      "#2: error 741.9\n",
      "#2: error inf\n",
      "#2: error 0.6554\n",
      "#2: error 69.08\n",
      "#2: error 0.006262\n",
      "#2: 5e-2 convergence after bisection caused inf val.\n"
     ]
    },
    {
     "name": "stderr",
     "output_type": "stream",
     "text": [
      "/Users/Luis/anaconda/lib/python3.4/site-packages/ipykernel/__main__.py:16: RuntimeWarning: overflow encountered in exp\n"
     ]
    }
   ],
   "source": [
    "T_test,it1,it2,error = bisection(ta_int, tb_int, Pt, To, Iarc, Rc, Ran,\\\n",
    "                                               Lgap, E_C_eV, m_i_AMU, phi_C_eV,\\\n",
    "                                                  dH_C, cp_C, A_C, B_C, Em_C,\\\n",
    "                                                    rs, lmbda_C)"
   ]
  },
  {
   "cell_type": "code",
   "execution_count": 19,
   "metadata": {
    "collapsed": false
   },
   "outputs": [
    {
     "data": {
      "text/plain": [
       "50"
      ]
     },
     "execution_count": 19,
     "metadata": {},
     "output_type": "execute_result"
    }
   ],
   "source": [
    "it2"
   ]
  },
  {
   "cell_type": "code",
   "execution_count": 20,
   "metadata": {
    "collapsed": false
   },
   "outputs": [
    {
     "data": {
      "text/plain": [
       "0.62999999999999945"
      ]
     },
     "execution_count": 20,
     "metadata": {},
     "output_type": "execute_result"
    }
   ],
   "source": [
    "T_test"
   ]
  },
  {
   "cell_type": "code",
   "execution_count": 21,
   "metadata": {
    "collapsed": false
   },
   "outputs": [
    {
     "data": {
      "text/plain": [
       "0.00626224083372739"
      ]
     },
     "execution_count": 21,
     "metadata": {},
     "output_type": "execute_result"
    }
   ],
   "source": [
    "error"
   ]
  },
  {
   "cell_type": "code",
   "execution_count": 32,
   "metadata": {
    "collapsed": true
   },
   "outputs": [],
   "source": [
    "def converge_custom(Tplasma, error_b, Pt, Ti, Iarc, Rc,\\\n",
    "                    Ran, Lgap, e_iz_eV, m_i, phi_eV,\\\n",
    "                      h_v, c_p, A, B, Em, root, lmbda):\n",
    "    \n",
    "    #Parameters Tplasma, error_b from the bisection exit\n",
    "    #\n",
    "    tolerance = 1e-3\n",
    "    #\n",
    "    error = error_b\n",
    "    #\n",
    "    iterations = 0\n",
    "    #\n",
    "    T = Tplasma\n",
    "    #\n",
    "    itermax = 100.\n",
    "    #\n",
    "    error_ref = error\n",
    "    #\n",
    "    while error > tolerance:\n",
    "        #\n",
    "        T += 1e-6\n",
    "        #\n",
    "        ne_a, no_a, ni_a, Iion_a, Tc_a,\\\n",
    "         Ie_a, UaeV_a, qa_a, Ta_a, ABL_a,\\\n",
    "            sigma_a, U_pl_a, Uc_a, cons_err_a =\\\n",
    "                    get_energy_balance(T, Pt, Ti, Iarc, Rc, Ran, Lgap, e_iz_eV,\\\n",
    "                                                        m_i, phi_eV,h_v,c_p,A,B,\\\n",
    "                                                                   Em,root, lmbda)\n",
    "        \n",
    "        if (cons_err_a > error_ref) or (cons_err_a == error_ref):\n",
    "            print('wrong direction (sign) or try different add/subtract from original value')\n",
    "            break\n",
    "        #\n",
    "        error = cons_err_a\n",
    "        print(error)\n",
    "        #\n",
    "        iterations += 1\n",
    "        #\n",
    "        if (error < tolerance):\n",
    "            print('convergence achieved to within 1e-3')\n",
    "            break\n",
    "            \n",
    "        if (iterations>itermax):\n",
    "            print('maximum iterations exceeded')\n",
    "            break\n",
    "        #\n",
    "    return T, iterations"
   ]
  },
  {
   "cell_type": "code",
   "execution_count": 33,
   "metadata": {
    "collapsed": false
   },
   "outputs": [
    {
     "name": "stdout",
     "output_type": "stream",
     "text": [
      "0.00472487654393539\n",
      "0.00319145901979923\n",
      "0.00166197691811631\n",
      "0.000136418930982485\n",
      "convergence achieved to within 1e-3\n"
     ]
    }
   ],
   "source": [
    "Tp, it = converge_custom(T_test, error,  Pt, To, Iarc, Rc, Ran,\\\n",
    "                         Lgap, E_C_eV, m_i_AMU, phi_C_eV,\\\n",
    "                            dH_C, cp_C, A_C, B_C, Em_C,\\\n",
    "                                                    rs, lmbda_C)"
   ]
  },
  {
   "cell_type": "code",
   "execution_count": 34,
   "metadata": {
    "collapsed": false
   },
   "outputs": [
    {
     "data": {
      "text/plain": [
       "0.63000399999999956"
      ]
     },
     "execution_count": 34,
     "metadata": {},
     "output_type": "execute_result"
    }
   ],
   "source": [
    "Tp"
   ]
  },
  {
   "cell_type": "code",
   "execution_count": 35,
   "metadata": {
    "collapsed": false
   },
   "outputs": [
    {
     "data": {
      "text/plain": [
       "4"
      ]
     },
     "execution_count": 35,
     "metadata": {},
     "output_type": "execute_result"
    }
   ],
   "source": [
    "it"
   ]
  },
  {
   "cell_type": "markdown",
   "metadata": {},
   "source": [
    "### 20 amps, 300 torr: \n",
    "#### Te = 0.551819999999992\n",
    "\n",
    "### 40 amps, 300 torr: \n",
    "#### Te = 0.5885799999999872\n",
    "\n",
    "### 50 amps, 300 torr: \n",
    "#### Te = 0.63000399999999956\n",
    "\n",
    "### 60 amps, 300 torr: \n",
    "#### Te = 0.60771000000000541\n",
    "\n",
    "### 80 Amps, 300 Torr: \n",
    "#### Te = 0.61915062499999995\n",
    "\n",
    "### 100 Amps, 300 Torr: \n",
    "#### Te = 0.62941999999999543"
   ]
  },
  {
   "cell_type": "code",
   "execution_count": null,
   "metadata": {
    "collapsed": true
   },
   "outputs": [],
   "source": []
  }
 ],
 "metadata": {
  "kernelspec": {
   "display_name": "Python 3",
   "language": "python",
   "name": "python3"
  },
  "language_info": {
   "codemirror_mode": {
    "name": "ipython",
    "version": 3
   },
   "file_extension": ".py",
   "mimetype": "text/x-python",
   "name": "python",
   "nbconvert_exporter": "python",
   "pygments_lexer": "ipython3",
   "version": "3.4.4"
  }
 },
 "nbformat": 4,
 "nbformat_minor": 0
}
